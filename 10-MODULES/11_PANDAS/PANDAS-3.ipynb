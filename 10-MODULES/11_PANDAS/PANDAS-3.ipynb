{
 "cells": [
  {
   "cell_type": "markdown",
   "id": "6705989d",
   "metadata": {},
   "source": [
    "# IMPORTING LIBRARIES"
   ]
  },
  {
   "cell_type": "code",
   "execution_count": 1,
   "id": "96e63146",
   "metadata": {},
   "outputs": [],
   "source": [
    "import pandas as pd\n",
    "import numpy as np\n",
    "import matplotlib.pyplot as plt\n",
    "import random\n",
    "import datetime"
   ]
  },
  {
   "cell_type": "markdown",
   "id": "858b4c44",
   "metadata": {},
   "source": [
    "# BDATE_RANGE"
   ]
  },
  {
   "cell_type": "code",
   "execution_count": 2,
   "id": "6b8e5be7",
   "metadata": {},
   "outputs": [
    {
     "data": {
      "text/plain": [
       "<function pandas.core.indexes.datetimes.bdate_range(start=None, end=None, periods: 'int | None' = None, freq='B', tz=None, normalize: 'bool' = True, name: 'Hashable' = None, weekmask=None, holidays=None, closed: 'lib.NoDefault' = <no_default>, inclusive: 'str | None' = None, **kwargs) -> 'DatetimeIndex'>"
      ]
     },
     "execution_count": 2,
     "metadata": {},
     "output_type": "execute_result"
    }
   ],
   "source": [
    "pd.bdate_range"
   ]
  },
  {
   "cell_type": "markdown",
   "id": "b25576a3",
   "metadata": {},
   "source": [
    "# CREATING BDATE_RANGE"
   ]
  },
  {
   "cell_type": "code",
   "execution_count": 3,
   "id": "f713cd88",
   "metadata": {},
   "outputs": [
    {
     "data": {
      "text/plain": [
       "DatetimeIndex(['2023-03-01', '2023-03-02', '2023-03-03', '2023-03-06',\n",
       "               '2023-03-07', '2023-03-08', '2023-03-09', '2023-03-10',\n",
       "               '2023-03-13', '2023-03-14', '2023-03-15'],\n",
       "              dtype='datetime64[ns]', freq='C')"
      ]
     },
     "execution_count": 3,
     "metadata": {},
     "output_type": "execute_result"
    }
   ],
   "source": [
    "# date formate MM/DD/YYYY\n",
    "df = pd.bdate_range(start = '03/01/2023' ,end = '03/15/2023',freq='C')\n",
    "df\n",
    "# default frequency is 'B'\n",
    "# we must need to specify exactly three of the four {start,end,periods,freq} parameters"
   ]
  },
  {
   "cell_type": "code",
   "execution_count": 4,
   "id": "81f31be7",
   "metadata": {},
   "outputs": [
    {
     "data": {
      "text/plain": [
       "pandas.core.indexes.datetimes.DatetimeIndex"
      ]
     },
     "execution_count": 4,
     "metadata": {},
     "output_type": "execute_result"
    }
   ],
   "source": [
    "type(df)"
   ]
  },
  {
   "cell_type": "code",
   "execution_count": 5,
   "id": "d07b06b7",
   "metadata": {},
   "outputs": [
    {
     "data": {
      "text/plain": [
       "[Timestamp('2023-03-01 00:00:00', freq='C'),\n",
       " Timestamp('2023-03-02 00:00:00', freq='C'),\n",
       " Timestamp('2023-03-03 00:00:00', freq='C'),\n",
       " Timestamp('2023-03-06 00:00:00', freq='C'),\n",
       " Timestamp('2023-03-07 00:00:00', freq='C'),\n",
       " Timestamp('2023-03-08 00:00:00', freq='C'),\n",
       " Timestamp('2023-03-09 00:00:00', freq='C'),\n",
       " Timestamp('2023-03-10 00:00:00', freq='C'),\n",
       " Timestamp('2023-03-13 00:00:00', freq='C'),\n",
       " Timestamp('2023-03-14 00:00:00', freq='C'),\n",
       " Timestamp('2023-03-15 00:00:00', freq='C')]"
      ]
     },
     "execution_count": 5,
     "metadata": {},
     "output_type": "execute_result"
    }
   ],
   "source": [
    "list(df)"
   ]
  },
  {
   "cell_type": "code",
   "execution_count": 6,
   "id": "9d107e8d",
   "metadata": {},
   "outputs": [
    {
     "data": {
      "text/plain": [
       "DatetimeIndex(['2001-03-01 00:00:00+05:30', '2001-03-02 00:00:00+05:30',\n",
       "               '2001-03-05 00:00:00+05:30', '2001-03-06 00:00:00+05:30',\n",
       "               '2001-03-07 00:00:00+05:30', '2001-03-08 00:00:00+05:30',\n",
       "               '2001-03-09 00:00:00+05:30', '2001-03-12 00:00:00+05:30',\n",
       "               '2001-03-13 00:00:00+05:30', '2001-03-14 00:00:00+05:30',\n",
       "               '2001-03-15 00:00:00+05:30', '2001-03-16 00:00:00+05:30',\n",
       "               '2001-03-19 00:00:00+05:30', '2001-03-20 00:00:00+05:30',\n",
       "               '2001-03-21 00:00:00+05:30', '2001-03-22 00:00:00+05:30',\n",
       "               '2001-03-23 00:00:00+05:30', '2001-03-26 00:00:00+05:30',\n",
       "               '2001-03-27 00:00:00+05:30', '2001-03-28 00:00:00+05:30',\n",
       "               '2001-03-29 00:00:00+05:30', '2001-03-30 00:00:00+05:30'],\n",
       "              dtype='datetime64[ns, Asia/Kolkata]', freq='B')"
      ]
     },
     "execution_count": 6,
     "metadata": {},
     "output_type": "execute_result"
    }
   ],
   "source": [
    "pd.bdate_range(start = '03/01/2001' ,end = '04/01/2001',tz= \"Asia/Kolkata\")\n",
    "# using tz we able to change the timezone"
   ]
  },
  {
   "cell_type": "code",
   "execution_count": 7,
   "id": "18dfed42",
   "metadata": {},
   "outputs": [
    {
     "data": {
      "text/plain": [
       "DatetimeIndex(['2001-03-01 00:00:00+05:30', '2001-03-02 00:00:00+05:30',\n",
       "               '2001-03-05 00:00:00+05:30', '2001-03-06 00:00:00+05:30',\n",
       "               '2001-03-07 00:00:00+05:30', '2001-03-08 00:00:00+05:30',\n",
       "               '2001-03-09 00:00:00+05:30'],\n",
       "              dtype='datetime64[ns, Asia/Kolkata]', freq='C')"
      ]
     },
     "execution_count": 7,
     "metadata": {},
     "output_type": "execute_result"
    }
   ],
   "source": [
    "pd.bdate_range(start = '03/01/2001',periods=7,tz= \"Asia/Kolkata\",freq=\"c\")"
   ]
  },
  {
   "cell_type": "code",
   "execution_count": 8,
   "id": "734ceff4",
   "metadata": {},
   "outputs": [
    {
     "data": {
      "text/plain": [
       "DatetimeIndex(['2001-03-01 00:00:00+05:30', '2001-03-02 00:00:00+05:30',\n",
       "               '2001-03-03 00:00:00+05:30', '2001-03-05 00:00:00+05:30',\n",
       "               '2001-03-06 00:00:00+05:30', '2001-03-07 00:00:00+05:30',\n",
       "               '2001-03-08 00:00:00+05:30'],\n",
       "              dtype='datetime64[ns, Asia/Kolkata]', freq='C')"
      ]
     },
     "execution_count": 8,
     "metadata": {},
     "output_type": "execute_result"
    }
   ],
   "source": [
    "# default weekmask is \"Mon Tue Wed Thu Fri\"\n",
    "weekmask = \"Mon Tue Wed Thu Fri Sat\"\n",
    "pd.bdate_range(start = '03/01/2001',periods=7,tz= \"Asia/Kolkata\",freq=\"C\",weekmask=weekmask)"
   ]
  },
  {
   "cell_type": "code",
   "execution_count": 9,
   "id": "356f4530",
   "metadata": {},
   "outputs": [
    {
     "data": {
      "text/plain": [
       "DatetimeIndex(['2001-03-01 00:00:00+05:30', '2001-03-02 00:00:00+05:30',\n",
       "               '2001-03-03 00:00:00+05:30', '2001-03-05 00:00:00+05:30',\n",
       "               '2001-03-08 00:00:00+05:30', '2001-03-09 00:00:00+05:30',\n",
       "               '2001-03-10 00:00:00+05:30'],\n",
       "              dtype='datetime64[ns, Asia/Kolkata]', freq='C')"
      ]
     },
     "execution_count": 9,
     "metadata": {},
     "output_type": "execute_result"
    }
   ],
   "source": [
    "weekmask = \"Mon Tue Wed Thu Fri Sat\"\n",
    "holyday = [datetime.datetime(2001,3, 6), datetime.datetime(2001, 3, 7)]\n",
    "pd.bdate_range(start = '03/01/2001',periods=7,tz= \"Asia/Kolkata\",freq=\"C\",weekmask=weekmask,holidays=holyday)"
   ]
  },
  {
   "cell_type": "code",
   "execution_count": 10,
   "id": "402bd09f",
   "metadata": {},
   "outputs": [
    {
     "data": {
      "text/plain": [
       "DatetimeIndex(['2001-03-01 00:00:00+05:30', '2001-03-02 00:00:00+05:30',\n",
       "               '2001-03-03 00:00:00+05:30', '2001-03-05 00:00:00+05:30',\n",
       "               '2001-03-08 00:00:00+05:30', '2001-03-09 00:00:00+05:30',\n",
       "               '2001-03-10 00:00:00+05:30', '2001-03-12 00:00:00+05:30'],\n",
       "              dtype='datetime64[ns, Asia/Kolkata]', freq='C')"
      ]
     },
     "execution_count": 10,
     "metadata": {},
     "output_type": "execute_result"
    }
   ],
   "source": [
    "# inclusive : {\"both\", \"neither\", \"left\", \"right\"} default both\n",
    "weekmask = \"Mon Tue Wed Thu Fri Sat\"\n",
    "holyday = [datetime.datetime(2001,3, 6), datetime.datetime(2001, 3, 7)]\n",
    "pd.bdate_range(start = '03/01/2001',end = '03/13/2001',tz= \"Asia/Kolkata\",freq=\"C\",weekmask=weekmask,\n",
    "               holidays=holyday,inclusive='left')"
   ]
  },
  {
   "cell_type": "markdown",
   "id": "e7e59214",
   "metadata": {},
   "source": [
    "# DESCRIPTION OF BDATE_RANGE"
   ]
  },
  {
   "cell_type": "code",
   "execution_count": 11,
   "id": "17e68177",
   "metadata": {},
   "outputs": [
    {
     "data": {
      "text/plain": [
       "DatetimeIndex(['2001-03-01 00:00:00+05:30', '2001-03-02 00:00:00+05:30',\n",
       "               '2001-03-05 00:00:00+05:30', '2001-03-06 00:00:00+05:30',\n",
       "               '2001-03-07 00:00:00+05:30', '2001-03-08 00:00:00+05:30',\n",
       "               '2001-03-09 00:00:00+05:30'],\n",
       "              dtype='datetime64[ns, Asia/Kolkata]', freq='C')"
      ]
     },
     "execution_count": 11,
     "metadata": {},
     "output_type": "execute_result"
    }
   ],
   "source": [
    "df = pd.bdate_range(start = '03/01/2001',periods=7,tz= \"Asia/Kolkata\",freq=\"c\")\n",
    "df "
   ]
  },
  {
   "cell_type": "code",
   "execution_count": 12,
   "id": "cd70ffbe",
   "metadata": {},
   "outputs": [
    {
     "data": {
      "text/plain": [
       "(7,)"
      ]
     },
     "execution_count": 12,
     "metadata": {},
     "output_type": "execute_result"
    }
   ],
   "source": [
    "df.shape"
   ]
  },
  {
   "cell_type": "code",
   "execution_count": 13,
   "id": "2e5695b7",
   "metadata": {},
   "outputs": [
    {
     "data": {
      "text/plain": [
       "7"
      ]
     },
     "execution_count": 13,
     "metadata": {},
     "output_type": "execute_result"
    }
   ],
   "source": [
    "df.size"
   ]
  },
  {
   "cell_type": "code",
   "execution_count": 14,
   "id": "1012bb3d",
   "metadata": {},
   "outputs": [
    {
     "data": {
      "text/plain": [
       "slice(0, 7, None)"
      ]
     },
     "execution_count": 14,
     "metadata": {},
     "output_type": "execute_result"
    }
   ],
   "source": [
    "df.slice_indexer()"
   ]
  },
  {
   "cell_type": "code",
   "execution_count": 15,
   "id": "ddb404a6",
   "metadata": {},
   "outputs": [
    {
     "data": {
      "text/plain": [
       "(0, 7)"
      ]
     },
     "execution_count": 15,
     "metadata": {},
     "output_type": "execute_result"
    }
   ],
   "source": [
    "df.slice_locs()"
   ]
  },
  {
   "cell_type": "code",
   "execution_count": 16,
   "id": "9639ff41",
   "metadata": {},
   "outputs": [
    {
     "data": {
      "text/plain": [
       "array(['2001-02-28T18:30:00.000000000', '2001-03-01T18:30:00.000000000',\n",
       "       '2001-03-04T18:30:00.000000000', '2001-03-05T18:30:00.000000000',\n",
       "       '2001-03-06T18:30:00.000000000', '2001-03-07T18:30:00.000000000',\n",
       "       '2001-03-08T18:30:00.000000000'], dtype='datetime64[ns]')"
      ]
     },
     "execution_count": 16,
     "metadata": {},
     "output_type": "execute_result"
    }
   ],
   "source": [
    "df.values"
   ]
  },
  {
   "cell_type": "code",
   "execution_count": 17,
   "id": "b9ef4989",
   "metadata": {},
   "outputs": [
    {
     "data": {
      "text/plain": [
       "DatetimeIndex(['2001-03-01 00:00:00+05:30', '2001-03-02 00:00:00+05:30',\n",
       "               '2001-03-05 00:00:00+05:30', '2001-03-06 00:00:00+05:30',\n",
       "               '2001-03-07 00:00:00+05:30', '2001-03-08 00:00:00+05:30',\n",
       "               '2001-03-09 00:00:00+05:30'],\n",
       "              dtype='datetime64[ns, Asia/Kolkata]', freq='C')"
      ]
     },
     "execution_count": 17,
     "metadata": {},
     "output_type": "execute_result"
    }
   ],
   "source": [
    "df.view()"
   ]
  },
  {
   "cell_type": "code",
   "execution_count": 18,
   "id": "a4dfa8d7",
   "metadata": {},
   "outputs": [
    {
     "data": {
      "text/plain": [
       "2001-03-01 00:00:00+05:30    1\n",
       "2001-03-02 00:00:00+05:30    1\n",
       "2001-03-05 00:00:00+05:30    1\n",
       "2001-03-06 00:00:00+05:30    1\n",
       "2001-03-07 00:00:00+05:30    1\n",
       "2001-03-08 00:00:00+05:30    1\n",
       "2001-03-09 00:00:00+05:30    1\n",
       "dtype: int64"
      ]
     },
     "execution_count": 18,
     "metadata": {},
     "output_type": "execute_result"
    }
   ],
   "source": [
    "df.value_counts()"
   ]
  },
  {
   "cell_type": "code",
   "execution_count": 19,
   "id": "a37ca91a",
   "metadata": {},
   "outputs": [
    {
     "data": {
      "text/plain": [
       "56"
      ]
     },
     "execution_count": 19,
     "metadata": {},
     "output_type": "execute_result"
    }
   ],
   "source": [
    "df.nbytes"
   ]
  },
  {
   "cell_type": "code",
   "execution_count": 20,
   "id": "a3c54c6d",
   "metadata": {},
   "outputs": [
    {
     "data": {
      "text/plain": [
       "1"
      ]
     },
     "execution_count": 20,
     "metadata": {},
     "output_type": "execute_result"
    }
   ],
   "source": [
    "df.ndim"
   ]
  },
  {
   "cell_type": "code",
   "execution_count": 21,
   "id": "4eafa3b5",
   "metadata": {},
   "outputs": [
    {
     "data": {
      "text/plain": [
       "1"
      ]
     },
     "execution_count": 21,
     "metadata": {},
     "output_type": "execute_result"
    }
   ],
   "source": [
    "df.nlevels"
   ]
  },
  {
   "cell_type": "markdown",
   "id": "bb869850",
   "metadata": {},
   "source": [
    "# PERFORMING DATE-TIME RELETED OPERATIONS "
   ]
  },
  {
   "cell_type": "code",
   "execution_count": 22,
   "id": "8638c8a9",
   "metadata": {},
   "outputs": [
    {
     "data": {
      "text/plain": [
       "DatetimeIndex(['2001-03-01 00:00:00+05:30', '2001-03-02 00:00:00+05:30',\n",
       "               '2001-03-05 00:00:00+05:30', '2001-03-06 00:00:00+05:30',\n",
       "               '2001-03-07 00:00:00+05:30', '2001-03-08 00:00:00+05:30',\n",
       "               '2001-03-09 00:00:00+05:30'],\n",
       "              dtype='datetime64[ns, Asia/Kolkata]', freq='C')"
      ]
     },
     "execution_count": 22,
     "metadata": {},
     "output_type": "execute_result"
    }
   ],
   "source": [
    "df = pd.bdate_range(start = '03/01/2001',periods=7,tz= \"Asia/Kolkata\",freq=\"c\")\n",
    "df "
   ]
  },
  {
   "cell_type": "code",
   "execution_count": 23,
   "id": "b1128556",
   "metadata": {},
   "outputs": [
    {
     "data": {
      "text/plain": [
       "Int64Index([0, 0, 0, 0, 0, 0, 0], dtype='int64')"
      ]
     },
     "execution_count": 23,
     "metadata": {},
     "output_type": "execute_result"
    }
   ],
   "source": [
    "df.minute"
   ]
  },
  {
   "cell_type": "code",
   "execution_count": 24,
   "id": "cefbbdd4",
   "metadata": {},
   "outputs": [
    {
     "data": {
      "text/plain": [
       "Int64Index([0, 0, 0, 0, 0, 0, 0], dtype='int64')"
      ]
     },
     "execution_count": 24,
     "metadata": {},
     "output_type": "execute_result"
    }
   ],
   "source": [
    "df.second"
   ]
  },
  {
   "cell_type": "code",
   "execution_count": 25,
   "id": "80892a63",
   "metadata": {},
   "outputs": [
    {
     "data": {
      "text/plain": [
       "Int64Index([0, 0, 0, 0, 0, 0, 0], dtype='int64')"
      ]
     },
     "execution_count": 25,
     "metadata": {},
     "output_type": "execute_result"
    }
   ],
   "source": [
    "df.hour"
   ]
  },
  {
   "cell_type": "code",
   "execution_count": 26,
   "id": "5cdc6e64",
   "metadata": {},
   "outputs": [
    {
     "data": {
      "text/plain": [
       "Int64Index([3, 3, 3, 3, 3, 3, 3], dtype='int64')"
      ]
     },
     "execution_count": 26,
     "metadata": {},
     "output_type": "execute_result"
    }
   ],
   "source": [
    "df.month"
   ]
  },
  {
   "cell_type": "code",
   "execution_count": 27,
   "id": "679186b7",
   "metadata": {},
   "outputs": [
    {
     "data": {
      "text/plain": [
       "Index(['March', 'March', 'March', 'March', 'March', 'March', 'March'], dtype='object')"
      ]
     },
     "execution_count": 27,
     "metadata": {},
     "output_type": "execute_result"
    }
   ],
   "source": [
    "df.month_name()"
   ]
  },
  {
   "cell_type": "code",
   "execution_count": 28,
   "id": "090a7838",
   "metadata": {},
   "outputs": [
    {
     "data": {
      "text/plain": [
       "Int64Index([31, 31, 31, 31, 31, 31, 31], dtype='int64')"
      ]
     },
     "execution_count": 28,
     "metadata": {},
     "output_type": "execute_result"
    }
   ],
   "source": [
    "df.days_in_month"
   ]
  },
  {
   "cell_type": "code",
   "execution_count": 29,
   "id": "3f294a01",
   "metadata": {},
   "outputs": [
    {
     "data": {
      "text/plain": [
       "Int64Index([31, 31, 31, 31, 31, 31, 31], dtype='int64')"
      ]
     },
     "execution_count": 29,
     "metadata": {},
     "output_type": "execute_result"
    }
   ],
   "source": [
    "df.daysinmonth"
   ]
  },
  {
   "cell_type": "code",
   "execution_count": 30,
   "id": "f59c58cf",
   "metadata": {},
   "outputs": [
    {
     "data": {
      "text/plain": [
       "Int64Index([2001, 2001, 2001, 2001, 2001, 2001, 2001], dtype='int64')"
      ]
     },
     "execution_count": 30,
     "metadata": {},
     "output_type": "execute_result"
    }
   ],
   "source": [
    "df.year"
   ]
  },
  {
   "cell_type": "code",
   "execution_count": 31,
   "id": "d2774100",
   "metadata": {},
   "outputs": [
    {
     "data": {
      "text/plain": [
       "array([False, False, False, False, False, False, False])"
      ]
     },
     "execution_count": 31,
     "metadata": {},
     "output_type": "execute_result"
    }
   ],
   "source": [
    "df.is_leap_year"
   ]
  },
  {
   "cell_type": "code",
   "execution_count": 32,
   "id": "e7071205",
   "metadata": {},
   "outputs": [
    {
     "data": {
      "text/plain": [
       "Int64Index([1, 2, 5, 6, 7, 8, 9], dtype='int64')"
      ]
     },
     "execution_count": 32,
     "metadata": {},
     "output_type": "execute_result"
    }
   ],
   "source": [
    "df.day"
   ]
  },
  {
   "cell_type": "code",
   "execution_count": 33,
   "id": "ea4479f9",
   "metadata": {},
   "outputs": [
    {
     "data": {
      "text/plain": [
       "Int64Index([3, 4, 0, 1, 2, 3, 4], dtype='int64')"
      ]
     },
     "execution_count": 33,
     "metadata": {},
     "output_type": "execute_result"
    }
   ],
   "source": [
    "df.day_of_week"
   ]
  },
  {
   "cell_type": "code",
   "execution_count": 34,
   "id": "57bb83a7",
   "metadata": {},
   "outputs": [
    {
     "data": {
      "text/plain": [
       "Int64Index([3, 4, 0, 1, 2, 3, 4], dtype='int64')"
      ]
     },
     "execution_count": 34,
     "metadata": {},
     "output_type": "execute_result"
    }
   ],
   "source": [
    "df.dayofweek"
   ]
  },
  {
   "cell_type": "code",
   "execution_count": 35,
   "id": "64e237b0",
   "metadata": {},
   "outputs": [
    {
     "data": {
      "text/plain": [
       "Int64Index([3, 4, 0, 1, 2, 3, 4], dtype='int64')"
      ]
     },
     "execution_count": 35,
     "metadata": {},
     "output_type": "execute_result"
    }
   ],
   "source": [
    "df.weekday"
   ]
  },
  {
   "cell_type": "code",
   "execution_count": 36,
   "id": "e84330d3",
   "metadata": {},
   "outputs": [
    {
     "data": {
      "text/plain": [
       "Index(['Thursday', 'Friday', 'Monday', 'Tuesday', 'Wednesday', 'Thursday',\n",
       "       'Friday'],\n",
       "      dtype='object')"
      ]
     },
     "execution_count": 36,
     "metadata": {},
     "output_type": "execute_result"
    }
   ],
   "source": [
    "df.day_name()"
   ]
  },
  {
   "cell_type": "code",
   "execution_count": 37,
   "id": "5ce581b3",
   "metadata": {},
   "outputs": [
    {
     "data": {
      "text/plain": [
       "Int64Index([60, 61, 64, 65, 66, 67, 68], dtype='int64')"
      ]
     },
     "execution_count": 37,
     "metadata": {},
     "output_type": "execute_result"
    }
   ],
   "source": [
    "df.dayofyear"
   ]
  },
  {
   "cell_type": "code",
   "execution_count": 38,
   "id": "d4636776",
   "metadata": {},
   "outputs": [
    {
     "data": {
      "text/plain": [
       "Int64Index([60, 61, 64, 65, 66, 67, 68], dtype='int64')"
      ]
     },
     "execution_count": 38,
     "metadata": {},
     "output_type": "execute_result"
    }
   ],
   "source": [
    "df.day_of_year"
   ]
  },
  {
   "cell_type": "markdown",
   "id": "262f861c",
   "metadata": {},
   "source": [
    "# HANDLING MISSING VALUES"
   ]
  },
  {
   "cell_type": "code",
   "execution_count": 39,
   "id": "e895a8f5",
   "metadata": {},
   "outputs": [
    {
     "data": {
      "text/plain": [
       "DatetimeIndex(['2001-03-01 00:00:00+05:30', '2001-03-02 00:00:00+05:30',\n",
       "               '2001-03-05 00:00:00+05:30', '2001-03-06 00:00:00+05:30',\n",
       "               '2001-03-07 00:00:00+05:30', '2001-03-08 00:00:00+05:30',\n",
       "               '2001-03-09 00:00:00+05:30'],\n",
       "              dtype='datetime64[ns, Asia/Kolkata]', freq='C')"
      ]
     },
     "execution_count": 39,
     "metadata": {},
     "output_type": "execute_result"
    }
   ],
   "source": [
    "df = pd.bdate_range(start = '03/01/2001',periods=7,tz= \"Asia/Kolkata\",freq=\"c\")\n",
    "df "
   ]
  },
  {
   "cell_type": "code",
   "execution_count": 40,
   "id": "65ebde6d",
   "metadata": {},
   "outputs": [
    {
     "data": {
      "text/plain": [
       "array([False, False, False, False, False, False, False])"
      ]
     },
     "execution_count": 40,
     "metadata": {},
     "output_type": "execute_result"
    }
   ],
   "source": [
    "df.isna()"
   ]
  },
  {
   "cell_type": "code",
   "execution_count": 41,
   "id": "5c3e6e9e",
   "metadata": {},
   "outputs": [
    {
     "data": {
      "text/plain": [
       "False"
      ]
     },
     "execution_count": 41,
     "metadata": {},
     "output_type": "execute_result"
    }
   ],
   "source": [
    "df.hasnans"
   ]
  },
  {
   "cell_type": "code",
   "execution_count": 42,
   "id": "0bd3b8ac",
   "metadata": {},
   "outputs": [
    {
     "data": {
      "text/plain": [
       "array([ True,  True,  True,  True,  True,  True,  True])"
      ]
     },
     "execution_count": 42,
     "metadata": {},
     "output_type": "execute_result"
    }
   ],
   "source": [
    "df.notna()"
   ]
  },
  {
   "cell_type": "code",
   "execution_count": 43,
   "id": "46a22f80",
   "metadata": {},
   "outputs": [
    {
     "data": {
      "text/plain": [
       "array([ True,  True,  True,  True,  True,  True,  True])"
      ]
     },
     "execution_count": 43,
     "metadata": {},
     "output_type": "execute_result"
    }
   ],
   "source": [
    "df.notnull()"
   ]
  },
  {
   "cell_type": "code",
   "execution_count": 44,
   "id": "96601b7b",
   "metadata": {},
   "outputs": [
    {
     "data": {
      "text/plain": [
       "False"
      ]
     },
     "execution_count": 44,
     "metadata": {},
     "output_type": "execute_result"
    }
   ],
   "source": [
    "df.has_duplicates"
   ]
  },
  {
   "cell_type": "code",
   "execution_count": 45,
   "id": "fcbd64c8",
   "metadata": {},
   "outputs": [
    {
     "data": {
      "text/plain": [
       "7"
      ]
     },
     "execution_count": 45,
     "metadata": {},
     "output_type": "execute_result"
    }
   ],
   "source": [
    "df.nunique()"
   ]
  },
  {
   "cell_type": "code",
   "execution_count": 46,
   "id": "9232cc43",
   "metadata": {},
   "outputs": [
    {
     "data": {
      "text/plain": [
       "DatetimeIndex(['2001-03-01 00:00:00+05:30', '2001-03-02 00:00:00+05:30',\n",
       "               '2001-03-05 00:00:00+05:30', '2001-03-06 00:00:00+05:30',\n",
       "               '2001-03-07 00:00:00+05:30', '2001-03-08 00:00:00+05:30',\n",
       "               '2001-03-09 00:00:00+05:30'],\n",
       "              dtype='datetime64[ns, Asia/Kolkata]', freq='C')"
      ]
     },
     "execution_count": 46,
     "metadata": {},
     "output_type": "execute_result"
    }
   ],
   "source": [
    "df.unique()"
   ]
  },
  {
   "cell_type": "code",
   "execution_count": 47,
   "id": "02366f90",
   "metadata": {},
   "outputs": [
    {
     "data": {
      "text/plain": [
       "False"
      ]
     },
     "execution_count": 47,
     "metadata": {},
     "output_type": "execute_result"
    }
   ],
   "source": [
    "df.empty"
   ]
  },
  {
   "cell_type": "markdown",
   "id": "adafd362",
   "metadata": {},
   "source": [
    "# EXTRACTING TIME"
   ]
  },
  {
   "cell_type": "code",
   "execution_count": 48,
   "id": "a67590c6",
   "metadata": {},
   "outputs": [
    {
     "data": {
      "text/plain": [
       "DatetimeIndex(['2001-03-01 00:00:00+05:30', '2001-03-02 00:00:00+05:30',\n",
       "               '2001-03-05 00:00:00+05:30', '2001-03-06 00:00:00+05:30',\n",
       "               '2001-03-07 00:00:00+05:30', '2001-03-08 00:00:00+05:30',\n",
       "               '2001-03-09 00:00:00+05:30'],\n",
       "              dtype='datetime64[ns, Asia/Kolkata]', freq='C')"
      ]
     },
     "execution_count": 48,
     "metadata": {},
     "output_type": "execute_result"
    }
   ],
   "source": [
    "df = pd.bdate_range(start = '03/01/2001',periods=7,tz= \"Asia/Kolkata\",freq=\"c\")\n",
    "df "
   ]
  },
  {
   "cell_type": "code",
   "execution_count": 49,
   "id": "74488cf4",
   "metadata": {},
   "outputs": [
    {
     "data": {
      "text/plain": [
       "array([datetime.time(0, 0), datetime.time(0, 0), datetime.time(0, 0),\n",
       "       datetime.time(0, 0), datetime.time(0, 0), datetime.time(0, 0),\n",
       "       datetime.time(0, 0)], dtype=object)"
      ]
     },
     "execution_count": 49,
     "metadata": {},
     "output_type": "execute_result"
    }
   ],
   "source": [
    "df.time"
   ]
  },
  {
   "cell_type": "code",
   "execution_count": 50,
   "id": "3379f443",
   "metadata": {},
   "outputs": [
    {
     "data": {
      "text/plain": [
       "[datetime.time(0, 0),\n",
       " datetime.time(0, 0),\n",
       " datetime.time(0, 0),\n",
       " datetime.time(0, 0),\n",
       " datetime.time(0, 0),\n",
       " datetime.time(0, 0),\n",
       " datetime.time(0, 0)]"
      ]
     },
     "execution_count": 50,
     "metadata": {},
     "output_type": "execute_result"
    }
   ],
   "source": [
    "B = list(df.time)\n",
    "B"
   ]
  },
  {
   "cell_type": "markdown",
   "id": "f6b54ea1",
   "metadata": {},
   "source": [
    "# EXTRACTING MONTH-YEAR-DAY FROM DATE"
   ]
  },
  {
   "cell_type": "code",
   "execution_count": 51,
   "id": "d17bd40d",
   "metadata": {},
   "outputs": [
    {
     "data": {
      "text/plain": [
       "array([datetime.date(2001, 3, 1), datetime.date(2001, 3, 2),\n",
       "       datetime.date(2001, 3, 5), datetime.date(2001, 3, 6),\n",
       "       datetime.date(2001, 3, 7), datetime.date(2001, 3, 8),\n",
       "       datetime.date(2001, 3, 9)], dtype=object)"
      ]
     },
     "execution_count": 51,
     "metadata": {},
     "output_type": "execute_result"
    }
   ],
   "source": [
    "df.date"
   ]
  },
  {
   "cell_type": "code",
   "execution_count": 52,
   "id": "3c38fb7f",
   "metadata": {},
   "outputs": [
    {
     "data": {
      "text/plain": [
       "[datetime.date(2001, 3, 1),\n",
       " datetime.date(2001, 3, 2),\n",
       " datetime.date(2001, 3, 5),\n",
       " datetime.date(2001, 3, 6),\n",
       " datetime.date(2001, 3, 7),\n",
       " datetime.date(2001, 3, 8),\n",
       " datetime.date(2001, 3, 9)]"
      ]
     },
     "execution_count": 52,
     "metadata": {},
     "output_type": "execute_result"
    }
   ],
   "source": [
    "list(df.date)"
   ]
  },
  {
   "cell_type": "code",
   "execution_count": 53,
   "id": "cfeb96ac",
   "metadata": {},
   "outputs": [
    {
     "name": "stdout",
     "output_type": "stream",
     "text": [
      "month - [3, 3, 3, 3, 3, 3, 3]\n",
      "year - [2001, 2001, 2001, 2001, 2001, 2001, 2001]\n",
      "day - [1, 2, 5, 6, 7, 8, 9]\n"
     ]
    }
   ],
   "source": [
    "A = list(df.date)\n",
    "month = []\n",
    "year = []\n",
    "day = []\n",
    "for i in range(len(A)):\n",
    "    B = A[i].month\n",
    "    C = A[i].year\n",
    "    D = A[i].day\n",
    "    month.append(B)\n",
    "    year.append(C)\n",
    "    day.append(D)\n",
    "print('month -', month)  \n",
    "print('year -', year)  \n",
    "print('day -', day)  "
   ]
  },
  {
   "cell_type": "code",
   "execution_count": 54,
   "id": "405e22f2",
   "metadata": {},
   "outputs": [
    {
     "data": {
      "text/html": [
       "<div>\n",
       "<style scoped>\n",
       "    .dataframe tbody tr th:only-of-type {\n",
       "        vertical-align: middle;\n",
       "    }\n",
       "\n",
       "    .dataframe tbody tr th {\n",
       "        vertical-align: top;\n",
       "    }\n",
       "\n",
       "    .dataframe thead th {\n",
       "        text-align: right;\n",
       "    }\n",
       "</style>\n",
       "<table border=\"1\" class=\"dataframe\">\n",
       "  <thead>\n",
       "    <tr style=\"text-align: right;\">\n",
       "      <th></th>\n",
       "      <th>DAY</th>\n",
       "      <th>MONTH</th>\n",
       "      <th>YEAR</th>\n",
       "    </tr>\n",
       "  </thead>\n",
       "  <tbody>\n",
       "    <tr>\n",
       "      <th>2001-03-01 00:00:00+05:30</th>\n",
       "      <td>1</td>\n",
       "      <td>3</td>\n",
       "      <td>2001</td>\n",
       "    </tr>\n",
       "    <tr>\n",
       "      <th>2001-03-02 00:00:00+05:30</th>\n",
       "      <td>2</td>\n",
       "      <td>3</td>\n",
       "      <td>2001</td>\n",
       "    </tr>\n",
       "    <tr>\n",
       "      <th>2001-03-05 00:00:00+05:30</th>\n",
       "      <td>5</td>\n",
       "      <td>3</td>\n",
       "      <td>2001</td>\n",
       "    </tr>\n",
       "    <tr>\n",
       "      <th>2001-03-06 00:00:00+05:30</th>\n",
       "      <td>6</td>\n",
       "      <td>3</td>\n",
       "      <td>2001</td>\n",
       "    </tr>\n",
       "    <tr>\n",
       "      <th>2001-03-07 00:00:00+05:30</th>\n",
       "      <td>7</td>\n",
       "      <td>3</td>\n",
       "      <td>2001</td>\n",
       "    </tr>\n",
       "    <tr>\n",
       "      <th>2001-03-08 00:00:00+05:30</th>\n",
       "      <td>8</td>\n",
       "      <td>3</td>\n",
       "      <td>2001</td>\n",
       "    </tr>\n",
       "    <tr>\n",
       "      <th>2001-03-09 00:00:00+05:30</th>\n",
       "      <td>9</td>\n",
       "      <td>3</td>\n",
       "      <td>2001</td>\n",
       "    </tr>\n",
       "  </tbody>\n",
       "</table>\n",
       "</div>"
      ],
      "text/plain": [
       "                           DAY  MONTH  YEAR\n",
       "2001-03-01 00:00:00+05:30    1      3  2001\n",
       "2001-03-02 00:00:00+05:30    2      3  2001\n",
       "2001-03-05 00:00:00+05:30    5      3  2001\n",
       "2001-03-06 00:00:00+05:30    6      3  2001\n",
       "2001-03-07 00:00:00+05:30    7      3  2001\n",
       "2001-03-08 00:00:00+05:30    8      3  2001\n",
       "2001-03-09 00:00:00+05:30    9      3  2001"
      ]
     },
     "execution_count": 54,
     "metadata": {},
     "output_type": "execute_result"
    }
   ],
   "source": [
    "X = {\n",
    "    \"DAY\" : day,\n",
    "    \"MONTH\" : month,\n",
    "    \"YEAR\" : year\n",
    "}\n",
    "df1 = pd.DataFrame(X,index = df.format())\n",
    "df1"
   ]
  },
  {
   "cell_type": "code",
   "execution_count": 55,
   "id": "3f6a171a",
   "metadata": {},
   "outputs": [
    {
     "data": {
      "text/html": [
       "<div>\n",
       "<style scoped>\n",
       "    .dataframe tbody tr th:only-of-type {\n",
       "        vertical-align: middle;\n",
       "    }\n",
       "\n",
       "    .dataframe tbody tr th {\n",
       "        vertical-align: top;\n",
       "    }\n",
       "\n",
       "    .dataframe thead th {\n",
       "        text-align: right;\n",
       "    }\n",
       "</style>\n",
       "<table border=\"1\" class=\"dataframe\">\n",
       "  <thead>\n",
       "    <tr style=\"text-align: right;\">\n",
       "      <th></th>\n",
       "      <th>Date</th>\n",
       "    </tr>\n",
       "  </thead>\n",
       "  <tbody>\n",
       "    <tr>\n",
       "      <th>day1</th>\n",
       "      <td>2019-12-31 00:00:00+05:30</td>\n",
       "    </tr>\n",
       "    <tr>\n",
       "      <th>day2</th>\n",
       "      <td>2020-01-31 00:00:00+05:30</td>\n",
       "    </tr>\n",
       "    <tr>\n",
       "      <th>day3</th>\n",
       "      <td>2020-02-29 00:00:00+05:30</td>\n",
       "    </tr>\n",
       "  </tbody>\n",
       "</table>\n",
       "</div>"
      ],
      "text/plain": [
       "                          Date\n",
       "day1 2019-12-31 00:00:00+05:30\n",
       "day2 2020-01-31 00:00:00+05:30\n",
       "day3 2020-02-29 00:00:00+05:30"
      ]
     },
     "execution_count": 55,
     "metadata": {},
     "output_type": "execute_result"
    }
   ],
   "source": [
    "A = pd.bdate_range('2019-12-31', periods=3, freq='M', tz='Asia/Calcutta')\n",
    "B = pd.DataFrame(A,columns=[\"Date\"],index=['day1','day2','day3'])\n",
    "B"
   ]
  },
  {
   "cell_type": "code",
   "execution_count": 56,
   "id": "31b83dda",
   "metadata": {},
   "outputs": [
    {
     "data": {
      "text/html": [
       "<div>\n",
       "<style scoped>\n",
       "    .dataframe tbody tr th:only-of-type {\n",
       "        vertical-align: middle;\n",
       "    }\n",
       "\n",
       "    .dataframe tbody tr th {\n",
       "        vertical-align: top;\n",
       "    }\n",
       "\n",
       "    .dataframe thead th {\n",
       "        text-align: right;\n",
       "    }\n",
       "</style>\n",
       "<table border=\"1\" class=\"dataframe\">\n",
       "  <thead>\n",
       "    <tr style=\"text-align: right;\">\n",
       "      <th></th>\n",
       "      <th>Date</th>\n",
       "      <th>Day</th>\n",
       "      <th>Month</th>\n",
       "      <th>Month_name</th>\n",
       "      <th>Year</th>\n",
       "      <th>Time</th>\n",
       "      <th>Hour</th>\n",
       "      <th>Minute</th>\n",
       "      <th>Second</th>\n",
       "    </tr>\n",
       "  </thead>\n",
       "  <tbody>\n",
       "    <tr>\n",
       "      <th>day1</th>\n",
       "      <td>31-12-2019</td>\n",
       "      <td>31</td>\n",
       "      <td>12</td>\n",
       "      <td>Dec</td>\n",
       "      <td>2019</td>\n",
       "      <td>00:00:00</td>\n",
       "      <td>00</td>\n",
       "      <td>00</td>\n",
       "      <td>00</td>\n",
       "    </tr>\n",
       "    <tr>\n",
       "      <th>day2</th>\n",
       "      <td>31-01-2020</td>\n",
       "      <td>31</td>\n",
       "      <td>01</td>\n",
       "      <td>Jan</td>\n",
       "      <td>2020</td>\n",
       "      <td>00:00:00</td>\n",
       "      <td>00</td>\n",
       "      <td>00</td>\n",
       "      <td>00</td>\n",
       "    </tr>\n",
       "    <tr>\n",
       "      <th>day3</th>\n",
       "      <td>29-02-2020</td>\n",
       "      <td>29</td>\n",
       "      <td>02</td>\n",
       "      <td>Feb</td>\n",
       "      <td>2020</td>\n",
       "      <td>00:00:00</td>\n",
       "      <td>00</td>\n",
       "      <td>00</td>\n",
       "      <td>00</td>\n",
       "    </tr>\n",
       "  </tbody>\n",
       "</table>\n",
       "</div>"
      ],
      "text/plain": [
       "            Date Day Month Month_name  Year      Time Hour Minute Second\n",
       "day1  31-12-2019  31    12        Dec  2019  00:00:00   00     00     00\n",
       "day2  31-01-2020  31    01        Jan  2020  00:00:00   00     00     00\n",
       "day3  29-02-2020  29    02        Feb  2020  00:00:00   00     00     00"
      ]
     },
     "execution_count": 56,
     "metadata": {},
     "output_type": "execute_result"
    }
   ],
   "source": [
    "B['Day'] =  B['Date'].dt.strftime('%d')\n",
    "B['Month'] =  B['Date'].dt.strftime('%m')\n",
    "B['Month_name'] =  B['Date'].dt.strftime('%h')\n",
    "B['Year'] =  B['Date'].dt.strftime('%Y')\n",
    "B['Time'] = B['Date'].dt.strftime('%T')\n",
    "B['Hour'] = B['Date'].dt.strftime('%H')\n",
    "B['Minute'] = B['Date'].dt.strftime('%M')\n",
    "B['Second'] = B['Date'].dt.strftime('%S')\n",
    "B['Date'] = B['Date'].dt.strftime('%d-%m-%Y')\n",
    "B"
   ]
  },
  {
   "cell_type": "code",
   "execution_count": 57,
   "id": "6544ddd4",
   "metadata": {},
   "outputs": [
    {
     "data": {
      "text/plain": [
       "['2001-03-01 00:00:00+05:30',\n",
       " '2001-03-02 00:00:00+05:30',\n",
       " '2001-03-05 00:00:00+05:30',\n",
       " '2001-03-06 00:00:00+05:30',\n",
       " '2001-03-07 00:00:00+05:30',\n",
       " '2001-03-08 00:00:00+05:30',\n",
       " '2001-03-09 00:00:00+05:30']"
      ]
     },
     "execution_count": 57,
     "metadata": {},
     "output_type": "execute_result"
    }
   ],
   "source": [
    "df.format()"
   ]
  },
  {
   "cell_type": "markdown",
   "id": "877a1ca6",
   "metadata": {},
   "source": [
    "# PANDAS DATE_RANGE"
   ]
  },
  {
   "cell_type": "code",
   "execution_count": 58,
   "id": "26f138df",
   "metadata": {},
   "outputs": [
    {
     "data": {
      "text/plain": [
       "<function pandas.core.indexes.datetimes.date_range(start=None, end=None, periods=None, freq=None, tz=None, normalize: 'bool' = False, name: 'Hashable' = None, closed: 'str | None | lib.NoDefault' = <no_default>, inclusive: 'str | None' = None, **kwargs) -> 'DatetimeIndex'>"
      ]
     },
     "execution_count": 58,
     "metadata": {},
     "output_type": "execute_result"
    }
   ],
   "source": [
    "pd.date_range"
   ]
  },
  {
   "cell_type": "code",
   "execution_count": 59,
   "id": "c12a40c9",
   "metadata": {},
   "outputs": [
    {
     "data": {
      "text/plain": [
       "DatetimeIndex(['2023-03-01', '2023-03-02', '2023-03-03', '2023-03-04',\n",
       "               '2023-03-05', '2023-03-06', '2023-03-07', '2023-03-08',\n",
       "               '2023-03-09', '2023-03-10', '2023-03-11', '2023-03-12',\n",
       "               '2023-03-13', '2023-03-14', '2023-03-15'],\n",
       "              dtype='datetime64[ns]', freq='D')"
      ]
     },
     "execution_count": 59,
     "metadata": {},
     "output_type": "execute_result"
    }
   ],
   "source": [
    "df = pd.date_range(start = '03/01/2023' ,end = '03/15/2023',freq='D')\n",
    "df"
   ]
  },
  {
   "cell_type": "code",
   "execution_count": 60,
   "id": "e87cd323",
   "metadata": {},
   "outputs": [
    {
     "data": {
      "text/plain": [
       "[Timestamp('2023-03-01 00:00:00', freq='D'),\n",
       " Timestamp('2023-03-02 00:00:00', freq='D'),\n",
       " Timestamp('2023-03-03 00:00:00', freq='D'),\n",
       " Timestamp('2023-03-04 00:00:00', freq='D'),\n",
       " Timestamp('2023-03-05 00:00:00', freq='D'),\n",
       " Timestamp('2023-03-06 00:00:00', freq='D'),\n",
       " Timestamp('2023-03-07 00:00:00', freq='D'),\n",
       " Timestamp('2023-03-08 00:00:00', freq='D'),\n",
       " Timestamp('2023-03-09 00:00:00', freq='D'),\n",
       " Timestamp('2023-03-10 00:00:00', freq='D'),\n",
       " Timestamp('2023-03-11 00:00:00', freq='D'),\n",
       " Timestamp('2023-03-12 00:00:00', freq='D'),\n",
       " Timestamp('2023-03-13 00:00:00', freq='D'),\n",
       " Timestamp('2023-03-14 00:00:00', freq='D'),\n",
       " Timestamp('2023-03-15 00:00:00', freq='D')]"
      ]
     },
     "execution_count": 60,
     "metadata": {},
     "output_type": "execute_result"
    }
   ],
   "source": [
    "list(df)"
   ]
  },
  {
   "cell_type": "code",
   "execution_count": 61,
   "id": "00beb80b",
   "metadata": {},
   "outputs": [
    {
     "data": {
      "text/plain": [
       "DatetimeIndex(['2001-03-01 00:00:00+05:30', '2001-03-02 00:00:00+05:30',\n",
       "               '2001-03-03 00:00:00+05:30', '2001-03-04 00:00:00+05:30',\n",
       "               '2001-03-05 00:00:00+05:30', '2001-03-06 00:00:00+05:30',\n",
       "               '2001-03-07 00:00:00+05:30', '2001-03-08 00:00:00+05:30',\n",
       "               '2001-03-09 00:00:00+05:30', '2001-03-10 00:00:00+05:30',\n",
       "               '2001-03-11 00:00:00+05:30', '2001-03-12 00:00:00+05:30',\n",
       "               '2001-03-13 00:00:00+05:30', '2001-03-14 00:00:00+05:30',\n",
       "               '2001-03-15 00:00:00+05:30', '2001-03-16 00:00:00+05:30',\n",
       "               '2001-03-17 00:00:00+05:30', '2001-03-18 00:00:00+05:30',\n",
       "               '2001-03-19 00:00:00+05:30', '2001-03-20 00:00:00+05:30',\n",
       "               '2001-03-21 00:00:00+05:30', '2001-03-22 00:00:00+05:30',\n",
       "               '2001-03-23 00:00:00+05:30', '2001-03-24 00:00:00+05:30',\n",
       "               '2001-03-25 00:00:00+05:30', '2001-03-26 00:00:00+05:30',\n",
       "               '2001-03-27 00:00:00+05:30', '2001-03-28 00:00:00+05:30',\n",
       "               '2001-03-29 00:00:00+05:30', '2001-03-30 00:00:00+05:30',\n",
       "               '2001-03-31 00:00:00+05:30', '2001-04-01 00:00:00+05:30'],\n",
       "              dtype='datetime64[ns, Asia/Kolkata]', freq='D')"
      ]
     },
     "execution_count": 61,
     "metadata": {},
     "output_type": "execute_result"
    }
   ],
   "source": [
    "pd.date_range(start = '03/01/2001' ,end = '04/01/2001',tz= \"Asia/Kolkata\")"
   ]
  },
  {
   "cell_type": "raw",
   "id": "53f68e56",
   "metadata": {},
   "source": [
    "B - business day frequency\n",
    "C - custom business day frequency\n",
    "D - calendar day frequency\n",
    "W - weekly frequency\n",
    "M - month end frequency\n",
    "SM - semi-month end frequency (15th and end of month)\n",
    "BM - business month end frequency\n",
    "CBM - custom business month end frequency\n",
    "MS - month start frequency\n",
    "SMS - semi-month start frequency (1st and 15th)\n",
    "BMS - business month start frequency\n",
    "CBMS - custom business month start frequency\n",
    "Q - quarter end frequency\n",
    "BQ - business quarter end frequency\n",
    "QS - quarter start frequency\n",
    "BQS - business quarter start frequency\n",
    "A,Y - year end frequency (JAN FEB MAR APR MAY JUN JUL AUG SEP OCT NOV DEC)\n",
    "BA,BY - business year end frequency\n",
    "AS,YS - year start frequency\n",
    "BAS,BYS - business year start frequency\n",
    "BH - business hour frequency\n",
    "H - hourly frequency\n",
    "T,min - minutely frequency\n",
    "S - secondly frequency\n",
    "L,ms - milliseconds\n",
    "U,us - microseconds\n",
    "N - nanoseconds"
   ]
  },
  {
   "cell_type": "code",
   "execution_count": 62,
   "id": "797f6eab",
   "metadata": {},
   "outputs": [
    {
     "data": {
      "text/plain": [
       "DatetimeIndex(['2001-12-31 00:00:00+05:30', '2002-12-31 00:00:00+05:30',\n",
       "               '2003-12-31 00:00:00+05:30', '2004-12-31 00:00:00+05:30',\n",
       "               '2005-12-31 00:00:00+05:30', '2006-12-31 00:00:00+05:30',\n",
       "               '2007-12-31 00:00:00+05:30'],\n",
       "              dtype='datetime64[ns, Asia/Kolkata]', freq='A-DEC')"
      ]
     },
     "execution_count": 62,
     "metadata": {},
     "output_type": "execute_result"
    }
   ],
   "source": [
    "pd.date_range(start = '03/01/2001',periods=7,tz= \"Asia/Kolkata\",freq=\"A\")"
   ]
  },
  {
   "cell_type": "code",
   "execution_count": 63,
   "id": "31dc0897",
   "metadata": {},
   "outputs": [
    {
     "data": {
      "text/plain": [
       "DatetimeIndex(['2001-03-01 00:00:00+05:30', '2001-03-02 00:00:00+05:30',\n",
       "               '2001-03-05 00:00:00+05:30', '2001-03-06 00:00:00+05:30',\n",
       "               '2001-03-07 00:00:00+05:30', '2001-03-08 00:00:00+05:30',\n",
       "               '2001-03-09 00:00:00+05:30'],\n",
       "              dtype='datetime64[ns, Asia/Kolkata]', freq='B')"
      ]
     },
     "execution_count": 63,
     "metadata": {},
     "output_type": "execute_result"
    }
   ],
   "source": [
    "pd.date_range(start = '03/01/2001',periods=7,tz= \"Asia/Kolkata\",freq=\"B\")"
   ]
  },
  {
   "cell_type": "code",
   "execution_count": 64,
   "id": "2b310a6c",
   "metadata": {},
   "outputs": [
    {
     "data": {
      "text/plain": [
       "DatetimeIndex(['2001-03-01 00:00:00+05:30', '2001-03-02 00:00:00+05:30',\n",
       "               '2001-03-05 00:00:00+05:30', '2001-03-06 00:00:00+05:30',\n",
       "               '2001-03-07 00:00:00+05:30', '2001-03-08 00:00:00+05:30',\n",
       "               '2001-03-09 00:00:00+05:30'],\n",
       "              dtype='datetime64[ns, Asia/Kolkata]', freq='C')"
      ]
     },
     "execution_count": 64,
     "metadata": {},
     "output_type": "execute_result"
    }
   ],
   "source": [
    "pd.date_range(start = '03/01/2001',periods=7,tz= \"Asia/Kolkata\",freq=\"c\")"
   ]
  },
  {
   "cell_type": "code",
   "execution_count": 65,
   "id": "552697cb",
   "metadata": {},
   "outputs": [
    {
     "data": {
      "text/plain": [
       "DatetimeIndex(['2001-03-01 00:00:00+05:30', '2001-03-02 00:00:00+05:30',\n",
       "               '2001-03-03 00:00:00+05:30', '2001-03-04 00:00:00+05:30',\n",
       "               '2001-03-05 00:00:00+05:30', '2001-03-06 00:00:00+05:30',\n",
       "               '2001-03-07 00:00:00+05:30'],\n",
       "              dtype='datetime64[ns, Asia/Kolkata]', freq='D')"
      ]
     },
     "execution_count": 65,
     "metadata": {},
     "output_type": "execute_result"
    }
   ],
   "source": [
    "pd.date_range(start = '03/01/2001',periods=7,tz= \"Asia/Kolkata\",freq=\"D\")"
   ]
  },
  {
   "cell_type": "code",
   "execution_count": 66,
   "id": "45d7748c",
   "metadata": {},
   "outputs": [
    {
     "data": {
      "text/plain": [
       "DatetimeIndex(['2001-12-31 00:00:00+05:30', '2003-12-31 00:00:00+05:30',\n",
       "               '2005-12-31 00:00:00+05:30', '2007-12-31 00:00:00+05:30',\n",
       "               '2009-12-31 00:00:00+05:30', '2011-12-31 00:00:00+05:30',\n",
       "               '2013-12-31 00:00:00+05:30'],\n",
       "              dtype='datetime64[ns, Asia/Kolkata]', freq='2A-DEC')"
      ]
     },
     "execution_count": 66,
     "metadata": {},
     "output_type": "execute_result"
    }
   ],
   "source": [
    "pd.date_range(start = '03/01/2001',periods=7,tz= \"Asia/Kolkata\",freq=\"2A\")"
   ]
  },
  {
   "cell_type": "code",
   "execution_count": 67,
   "id": "491e34fe",
   "metadata": {},
   "outputs": [
    {
     "data": {
      "text/plain": [
       "DatetimeIndex(['2001-03-01 00:00:00+05:30', '2001-03-05 00:00:00+05:30',\n",
       "               '2001-03-07 00:00:00+05:30', '2001-03-09 00:00:00+05:30',\n",
       "               '2001-03-13 00:00:00+05:30', '2001-03-15 00:00:00+05:30',\n",
       "               '2001-03-19 00:00:00+05:30'],\n",
       "              dtype='datetime64[ns, Asia/Kolkata]', freq='2B')"
      ]
     },
     "execution_count": 67,
     "metadata": {},
     "output_type": "execute_result"
    }
   ],
   "source": [
    "pd.date_range(start = '03/01/2001',periods=7,tz= \"Asia/Kolkata\",freq=\"2B\")"
   ]
  },
  {
   "cell_type": "code",
   "execution_count": 68,
   "id": "9607ce1d",
   "metadata": {},
   "outputs": [
    {
     "data": {
      "text/plain": [
       "DatetimeIndex(['2001-03-01 00:00:00+05:30', '2001-03-05 00:00:00+05:30',\n",
       "               '2001-03-07 00:00:00+05:30', '2001-03-09 00:00:00+05:30',\n",
       "               '2001-03-13 00:00:00+05:30', '2001-03-15 00:00:00+05:30',\n",
       "               '2001-03-19 00:00:00+05:30'],\n",
       "              dtype='datetime64[ns, Asia/Kolkata]', freq='2C')"
      ]
     },
     "execution_count": 68,
     "metadata": {},
     "output_type": "execute_result"
    }
   ],
   "source": [
    "pd.date_range(start = '03/01/2001',periods=7,tz= \"Asia/Kolkata\",freq=\"2C\")"
   ]
  },
  {
   "cell_type": "code",
   "execution_count": 69,
   "id": "05f1b24b",
   "metadata": {},
   "outputs": [
    {
     "data": {
      "text/plain": [
       "DatetimeIndex(['2001-03-01 00:00:00+05:30', '2001-03-03 00:00:00+05:30',\n",
       "               '2001-03-05 00:00:00+05:30', '2001-03-07 00:00:00+05:30',\n",
       "               '2001-03-09 00:00:00+05:30', '2001-03-11 00:00:00+05:30',\n",
       "               '2001-03-13 00:00:00+05:30'],\n",
       "              dtype='datetime64[ns, Asia/Kolkata]', freq='2D')"
      ]
     },
     "execution_count": 69,
     "metadata": {},
     "output_type": "execute_result"
    }
   ],
   "source": [
    "pd.date_range(start = '03/01/2001',periods=7,tz= \"Asia/Kolkata\",freq=\"2D\")"
   ]
  },
  {
   "cell_type": "code",
   "execution_count": 70,
   "id": "dc09012d",
   "metadata": {},
   "outputs": [
    {
     "data": {
      "text/plain": [
       "DatetimeIndex(['2002-01-01 00:00:00+05:30', '2003-01-01 00:00:00+05:30',\n",
       "               '2004-01-01 00:00:00+05:30', '2005-01-01 00:00:00+05:30',\n",
       "               '2006-01-01 00:00:00+05:30', '2007-01-01 00:00:00+05:30',\n",
       "               '2008-01-01 00:00:00+05:30'],\n",
       "              dtype='datetime64[ns, Asia/Kolkata]', freq='AS-JAN')"
      ]
     },
     "execution_count": 70,
     "metadata": {},
     "output_type": "execute_result"
    }
   ],
   "source": [
    "pd.date_range(start = '03/01/2001',periods=7,tz= \"Asia/Kolkata\",freq=\"AS\")"
   ]
  },
  {
   "cell_type": "code",
   "execution_count": 71,
   "id": "3a135517",
   "metadata": {},
   "outputs": [
    {
     "data": {
      "text/plain": [
       "DatetimeIndex(['2001-03-15 00:00:00+05:30', '2001-03-31 00:00:00+05:30',\n",
       "               '2001-04-15 00:00:00+05:30', '2001-04-30 00:00:00+05:30',\n",
       "               '2001-05-15 00:00:00+05:30', '2001-05-31 00:00:00+05:30',\n",
       "               '2001-06-15 00:00:00+05:30'],\n",
       "              dtype='datetime64[ns, Asia/Kolkata]', freq='SM-15')"
      ]
     },
     "execution_count": 71,
     "metadata": {},
     "output_type": "execute_result"
    }
   ],
   "source": [
    "pd.date_range(start = '03/01/2001',periods=7,tz= \"Asia/Kolkata\",freq=\"SM\")"
   ]
  },
  {
   "cell_type": "code",
   "execution_count": 72,
   "id": "0abcb813",
   "metadata": {},
   "outputs": [
    {
     "data": {
      "text/plain": [
       "DatetimeIndex(['2001-01-31 00:00:00+05:30', '2001-02-28 00:00:00+05:30',\n",
       "               '2001-03-30 00:00:00+05:30', '2001-04-30 00:00:00+05:30',\n",
       "               '2001-05-31 00:00:00+05:30', '2001-06-29 00:00:00+05:30',\n",
       "               '2001-07-31 00:00:00+05:30', '2001-08-31 00:00:00+05:30',\n",
       "               '2001-09-28 00:00:00+05:30', '2001-10-31 00:00:00+05:30',\n",
       "               '2001-11-30 00:00:00+05:30', '2001-12-31 00:00:00+05:30'],\n",
       "              dtype='datetime64[ns, Asia/Kolkata]', freq='BM')"
      ]
     },
     "execution_count": 72,
     "metadata": {},
     "output_type": "execute_result"
    }
   ],
   "source": [
    "pd.date_range(start = '01/01/2001',periods=12,tz= \"Asia/Kolkata\",freq=\"BM\")"
   ]
  },
  {
   "cell_type": "code",
   "execution_count": 73,
   "id": "ea9e7434",
   "metadata": {},
   "outputs": [
    {
     "data": {
      "text/plain": [
       "DatetimeIndex(['2001-03-01 00:00:00+05:30', '2001-03-01 00:01:00+05:30',\n",
       "               '2001-03-01 00:02:00+05:30', '2001-03-01 00:03:00+05:30',\n",
       "               '2001-03-01 00:04:00+05:30', '2001-03-01 00:05:00+05:30',\n",
       "               '2001-03-01 00:06:00+05:30'],\n",
       "              dtype='datetime64[ns, Asia/Kolkata]', freq='T')"
      ]
     },
     "execution_count": 73,
     "metadata": {},
     "output_type": "execute_result"
    }
   ],
   "source": [
    "pd.date_range(start = '03/01/2001',periods=7,tz= \"Asia/Kolkata\",freq=\"T\")"
   ]
  },
  {
   "cell_type": "code",
   "execution_count": 74,
   "id": "a14bc7ab",
   "metadata": {},
   "outputs": [
    {
     "data": {
      "text/plain": [
       "DatetimeIndex(['2001-03-31 00:00:00+05:30', '2002-03-31 00:00:00+05:30',\n",
       "               '2003-03-31 00:00:00+05:30', '2004-03-31 00:00:00+05:30',\n",
       "               '2005-03-31 00:00:00+05:30', '2006-03-31 00:00:00+05:30',\n",
       "               '2007-03-31 00:00:00+05:30'],\n",
       "              dtype='datetime64[ns, Asia/Kolkata]', freq='A-MAR')"
      ]
     },
     "execution_count": 74,
     "metadata": {},
     "output_type": "execute_result"
    }
   ],
   "source": [
    "pd.date_range(start = '03/03/2001',periods=7,tz= \"Asia/Kolkata\",freq=\"A-Mar\")"
   ]
  },
  {
   "cell_type": "code",
   "execution_count": 75,
   "id": "1c9de605",
   "metadata": {},
   "outputs": [
    {
     "data": {
      "text/plain": [
       "DatetimeIndex(['2001-03-04 00:00:00+05:30', '2001-03-11 00:00:00+05:30',\n",
       "               '2001-03-18 00:00:00+05:30', '2001-03-25 00:00:00+05:30',\n",
       "               '2001-04-01 00:00:00+05:30', '2001-04-08 00:00:00+05:30',\n",
       "               '2001-04-15 00:00:00+05:30'],\n",
       "              dtype='datetime64[ns, Asia/Kolkata]', freq='W-SUN')"
      ]
     },
     "execution_count": 75,
     "metadata": {},
     "output_type": "execute_result"
    }
   ],
   "source": [
    "pd.date_range(start = '03/03/2001',periods=7,tz= \"Asia/Kolkata\",freq=\"W\")"
   ]
  },
  {
   "cell_type": "code",
   "execution_count": 76,
   "id": "7da166b7",
   "metadata": {},
   "outputs": [
    {
     "name": "stdout",
     "output_type": "stream",
     "text": [
      "MON-TUE - DatetimeIndex(['2017-01-02', '2017-01-03', '2017-01-09', '2017-01-10',\n",
      "               '2017-01-16', '2017-01-17', '2017-01-23', '2017-01-24',\n",
      "               '2017-01-30', '2017-01-31', '2017-02-06', '2017-02-07',\n",
      "               '2017-02-13', '2017-02-14', '2017-02-20', '2017-02-21',\n",
      "               '2017-02-27', '2017-02-28', '2017-03-06', '2017-03-07',\n",
      "               '2017-03-13', '2017-03-14', '2017-03-20', '2017-03-21',\n",
      "               '2017-03-27', '2017-03-28'],\n",
      "              dtype='datetime64[ns]', freq=None) \n",
      "\n",
      "WED-THU - DatetimeIndex(['2017-01-04', '2017-01-05', '2017-01-11', '2017-01-12',\n",
      "               '2017-01-18', '2017-01-19', '2017-01-25', '2017-01-26',\n",
      "               '2017-02-01', '2017-02-02', '2017-02-08', '2017-02-09',\n",
      "               '2017-02-15', '2017-02-16', '2017-02-22', '2017-02-23',\n",
      "               '2017-03-01', '2017-03-02', '2017-03-08', '2017-03-09',\n",
      "               '2017-03-15', '2017-03-16', '2017-03-22', '2017-03-23',\n",
      "               '2017-03-29', '2017-03-30'],\n",
      "              dtype='datetime64[ns]', freq=None) \n",
      "\n",
      "FRI-SAT - DatetimeIndex(['2017-01-06', '2017-01-07', '2017-01-13', '2017-01-14',\n",
      "               '2017-01-20', '2017-01-21', '2017-01-27', '2017-01-28',\n",
      "               '2017-02-03', '2017-02-04', '2017-02-10', '2017-02-11',\n",
      "               '2017-02-17', '2017-02-18', '2017-02-24', '2017-02-25',\n",
      "               '2017-03-03', '2017-03-04', '2017-03-10', '2017-03-11',\n",
      "               '2017-03-17', '2017-03-18', '2017-03-24', '2017-03-25',\n",
      "               '2017-03-31'],\n",
      "              dtype='datetime64[ns]', freq=None) \n",
      "\n",
      "SUN - DatetimeIndex(['2017-01-01', '2017-01-08', '2017-01-15', '2017-01-22',\n",
      "               '2017-01-29', '2017-02-05', '2017-02-12', '2017-02-19',\n",
      "               '2017-02-26', '2017-03-05', '2017-03-12', '2017-03-19',\n",
      "               '2017-03-26'],\n",
      "              dtype='datetime64[ns]', freq='W-SUN')\n"
     ]
    }
   ],
   "source": [
    "start_date = \"2017-01-01\"\n",
    "end_date = \"2017-03-31\"\n",
    "\n",
    "d1 = pd.date_range(start_date, end_date, freq=\"W-MON\")\n",
    "d2 = pd.date_range(start_date, end_date, freq=\"W-TUE\")\n",
    "d3 = pd.date_range(start_date, end_date, freq=\"W-WED\")\n",
    "d4 = pd.date_range(start_date, end_date, freq=\"W-THU\")\n",
    "d5 = pd.date_range(start_date, end_date, freq=\"W-FRI\")\n",
    "d6 = pd.date_range(start_date, end_date, freq=\"W-SAT\")\n",
    "d7 = pd.date_range(start_date, end_date, freq=\"W-SUN\")\n",
    "\n",
    "\n",
    "print('MON-TUE -',d1.union(d2),'\\n')\n",
    "print('WED-THU -',d3.union(d4),'\\n')\n",
    "print('FRI-SAT -',d5.union(d6),'\\n')\n",
    "print('SUN -',d7)"
   ]
  },
  {
   "cell_type": "code",
   "execution_count": 77,
   "id": "25168cce",
   "metadata": {},
   "outputs": [
    {
     "data": {
      "text/plain": [
       "DatetimeIndex(['2001-03-01 00:00:00+05:30', '2001-03-02 00:00:00+05:30',\n",
       "               '2001-03-05 00:00:00+05:30', '2001-03-06 00:00:00+05:30',\n",
       "               '2001-03-07 00:00:00+05:30', '2001-03-08 00:00:00+05:30',\n",
       "               '2001-03-09 00:00:00+05:30', '2001-03-12 00:00:00+05:30',\n",
       "               '2001-03-13 00:00:00+05:30', '2001-03-14 00:00:00+05:30'],\n",
       "              dtype='datetime64[ns, Asia/Kolkata]', freq='C')"
      ]
     },
     "execution_count": 77,
     "metadata": {},
     "output_type": "execute_result"
    }
   ],
   "source": [
    "pd.date_range(start = '03/01/2001',end='03/15/2001',tz= \"Asia/Kolkata\",freq=\"c\",inclusive='left')"
   ]
  },
  {
   "cell_type": "markdown",
   "id": "42a69376",
   "metadata": {},
   "source": [
    "# DESCRIPTION OF DATE_RANGE"
   ]
  },
  {
   "cell_type": "code",
   "execution_count": 78,
   "id": "6cce5d85",
   "metadata": {},
   "outputs": [
    {
     "data": {
      "text/plain": [
       "DatetimeIndex(['2019-12-20', '2019-12-23', '2019-12-27', '2019-12-30',\n",
       "               '2020-01-03', '2020-01-06', '2020-01-10', '2020-01-13',\n",
       "               '2020-01-17', '2020-01-20'],\n",
       "              dtype='datetime64[ns]', freq=None)"
      ]
     },
     "execution_count": 78,
     "metadata": {},
     "output_type": "execute_result"
    }
   ],
   "source": [
    "start_date = \"2019-12-20\"\n",
    "end_date = \"2020-01-20\"\n",
    "d1 = pd.date_range(start_date, end_date, freq=\"W-MON\")\n",
    "d2 = pd.date_range(start_date, end_date, freq=\"W-FRI\")\n",
    "df = d1.union(d2)\n",
    "df"
   ]
  },
  {
   "cell_type": "code",
   "execution_count": 79,
   "id": "53f1c248",
   "metadata": {},
   "outputs": [
    {
     "data": {
      "text/plain": [
       "(10,)"
      ]
     },
     "execution_count": 79,
     "metadata": {},
     "output_type": "execute_result"
    }
   ],
   "source": [
    "df.shape"
   ]
  },
  {
   "cell_type": "code",
   "execution_count": 80,
   "id": "616b34d0",
   "metadata": {},
   "outputs": [
    {
     "data": {
      "text/plain": [
       "10"
      ]
     },
     "execution_count": 80,
     "metadata": {},
     "output_type": "execute_result"
    }
   ],
   "source": [
    "df.size"
   ]
  },
  {
   "cell_type": "code",
   "execution_count": 81,
   "id": "172d7601",
   "metadata": {},
   "outputs": [
    {
     "data": {
      "text/plain": [
       "slice(0, 10, None)"
      ]
     },
     "execution_count": 81,
     "metadata": {},
     "output_type": "execute_result"
    }
   ],
   "source": [
    "df.slice_indexer()"
   ]
  },
  {
   "cell_type": "code",
   "execution_count": 82,
   "id": "164182c1",
   "metadata": {},
   "outputs": [
    {
     "data": {
      "text/plain": [
       "(0, 10)"
      ]
     },
     "execution_count": 82,
     "metadata": {},
     "output_type": "execute_result"
    }
   ],
   "source": [
    "df.slice_locs()"
   ]
  },
  {
   "cell_type": "code",
   "execution_count": 83,
   "id": "8874eb49",
   "metadata": {},
   "outputs": [
    {
     "data": {
      "text/plain": [
       "array(['2019-12-20T00:00:00.000000000', '2019-12-23T00:00:00.000000000',\n",
       "       '2019-12-27T00:00:00.000000000', '2019-12-30T00:00:00.000000000',\n",
       "       '2020-01-03T00:00:00.000000000', '2020-01-06T00:00:00.000000000',\n",
       "       '2020-01-10T00:00:00.000000000', '2020-01-13T00:00:00.000000000',\n",
       "       '2020-01-17T00:00:00.000000000', '2020-01-20T00:00:00.000000000'],\n",
       "      dtype='datetime64[ns]')"
      ]
     },
     "execution_count": 83,
     "metadata": {},
     "output_type": "execute_result"
    }
   ],
   "source": [
    "df.values"
   ]
  },
  {
   "cell_type": "code",
   "execution_count": 84,
   "id": "cb8babee",
   "metadata": {},
   "outputs": [
    {
     "data": {
      "text/plain": [
       "DatetimeIndex(['2019-12-20', '2019-12-23', '2019-12-27', '2019-12-30',\n",
       "               '2020-01-03', '2020-01-06', '2020-01-10', '2020-01-13',\n",
       "               '2020-01-17', '2020-01-20'],\n",
       "              dtype='datetime64[ns]', freq=None)"
      ]
     },
     "execution_count": 84,
     "metadata": {},
     "output_type": "execute_result"
    }
   ],
   "source": [
    "df.view()"
   ]
  },
  {
   "cell_type": "code",
   "execution_count": 85,
   "id": "75f526ae",
   "metadata": {},
   "outputs": [
    {
     "data": {
      "text/plain": [
       "2019-12-20    1\n",
       "2019-12-23    1\n",
       "2019-12-27    1\n",
       "2019-12-30    1\n",
       "2020-01-03    1\n",
       "2020-01-06    1\n",
       "2020-01-10    1\n",
       "2020-01-13    1\n",
       "2020-01-17    1\n",
       "2020-01-20    1\n",
       "dtype: int64"
      ]
     },
     "execution_count": 85,
     "metadata": {},
     "output_type": "execute_result"
    }
   ],
   "source": [
    "df.value_counts()"
   ]
  },
  {
   "cell_type": "code",
   "execution_count": 86,
   "id": "3be300c5",
   "metadata": {},
   "outputs": [
    {
     "data": {
      "text/plain": [
       "80"
      ]
     },
     "execution_count": 86,
     "metadata": {},
     "output_type": "execute_result"
    }
   ],
   "source": [
    "df.nbytes"
   ]
  },
  {
   "cell_type": "code",
   "execution_count": 87,
   "id": "af5ff4d8",
   "metadata": {},
   "outputs": [
    {
     "data": {
      "text/plain": [
       "1"
      ]
     },
     "execution_count": 87,
     "metadata": {},
     "output_type": "execute_result"
    }
   ],
   "source": [
    "df.ndim"
   ]
  },
  {
   "cell_type": "code",
   "execution_count": 88,
   "id": "35b795b3",
   "metadata": {},
   "outputs": [
    {
     "data": {
      "text/plain": [
       "1"
      ]
     },
     "execution_count": 88,
     "metadata": {},
     "output_type": "execute_result"
    }
   ],
   "source": [
    "df.nlevels"
   ]
  },
  {
   "cell_type": "markdown",
   "id": "69585bdd",
   "metadata": {},
   "source": [
    "# PERFORMING DATE-TIME RELETED OPERATIONS "
   ]
  },
  {
   "cell_type": "code",
   "execution_count": 89,
   "id": "67f61f26",
   "metadata": {},
   "outputs": [
    {
     "data": {
      "text/plain": [
       "DatetimeIndex(['2019-12-20', '2019-12-23', '2019-12-27', '2019-12-30',\n",
       "               '2020-01-03', '2020-01-06', '2020-01-10', '2020-01-13',\n",
       "               '2020-01-17', '2020-01-20'],\n",
       "              dtype='datetime64[ns]', freq=None)"
      ]
     },
     "execution_count": 89,
     "metadata": {},
     "output_type": "execute_result"
    }
   ],
   "source": [
    "start_date = \"2019-12-20\"\n",
    "end_date = \"2020-01-20\"\n",
    "d1 = pd.date_range(start_date, end_date, freq=\"W-MON\")\n",
    "d2 = pd.date_range(start_date, end_date, freq=\"W-FRI\")\n",
    "df = d1.union(d2)\n",
    "df"
   ]
  },
  {
   "cell_type": "code",
   "execution_count": 90,
   "id": "e74721c4",
   "metadata": {},
   "outputs": [
    {
     "data": {
      "text/plain": [
       "Int64Index([0, 0, 0, 0, 0, 0, 0, 0, 0, 0], dtype='int64')"
      ]
     },
     "execution_count": 90,
     "metadata": {},
     "output_type": "execute_result"
    }
   ],
   "source": [
    "df.minute"
   ]
  },
  {
   "cell_type": "code",
   "execution_count": 91,
   "id": "351ee0a0",
   "metadata": {},
   "outputs": [
    {
     "data": {
      "text/plain": [
       "Int64Index([0, 0, 0, 0, 0, 0, 0, 0, 0, 0], dtype='int64')"
      ]
     },
     "execution_count": 91,
     "metadata": {},
     "output_type": "execute_result"
    }
   ],
   "source": [
    "df.second"
   ]
  },
  {
   "cell_type": "code",
   "execution_count": 92,
   "id": "a4ab738e",
   "metadata": {},
   "outputs": [
    {
     "data": {
      "text/plain": [
       "Int64Index([0, 0, 0, 0, 0, 0, 0, 0, 0, 0], dtype='int64')"
      ]
     },
     "execution_count": 92,
     "metadata": {},
     "output_type": "execute_result"
    }
   ],
   "source": [
    "df.hour"
   ]
  },
  {
   "cell_type": "code",
   "execution_count": 93,
   "id": "173588af",
   "metadata": {},
   "outputs": [
    {
     "data": {
      "text/plain": [
       "Int64Index([12, 12, 12, 12, 1, 1, 1, 1, 1, 1], dtype='int64')"
      ]
     },
     "execution_count": 93,
     "metadata": {},
     "output_type": "execute_result"
    }
   ],
   "source": [
    "df.month"
   ]
  },
  {
   "cell_type": "code",
   "execution_count": 94,
   "id": "e7392812",
   "metadata": {},
   "outputs": [
    {
     "data": {
      "text/plain": [
       "Index(['December', 'December', 'December', 'December', 'January', 'January',\n",
       "       'January', 'January', 'January', 'January'],\n",
       "      dtype='object')"
      ]
     },
     "execution_count": 94,
     "metadata": {},
     "output_type": "execute_result"
    }
   ],
   "source": [
    "df.month_name()"
   ]
  },
  {
   "cell_type": "code",
   "execution_count": 95,
   "id": "da1276d3",
   "metadata": {},
   "outputs": [
    {
     "data": {
      "text/plain": [
       "Int64Index([31, 31, 31, 31, 31, 31, 31, 31, 31, 31], dtype='int64')"
      ]
     },
     "execution_count": 95,
     "metadata": {},
     "output_type": "execute_result"
    }
   ],
   "source": [
    "df.days_in_month"
   ]
  },
  {
   "cell_type": "code",
   "execution_count": 96,
   "id": "1aa1f68d",
   "metadata": {},
   "outputs": [
    {
     "data": {
      "text/plain": [
       "Int64Index([31, 31, 31, 31, 31, 31, 31, 31, 31, 31], dtype='int64')"
      ]
     },
     "execution_count": 96,
     "metadata": {},
     "output_type": "execute_result"
    }
   ],
   "source": [
    "df.daysinmonth"
   ]
  },
  {
   "cell_type": "code",
   "execution_count": 97,
   "id": "971627c7",
   "metadata": {},
   "outputs": [
    {
     "data": {
      "text/plain": [
       "Int64Index([2019, 2019, 2019, 2019, 2020, 2020, 2020, 2020, 2020, 2020], dtype='int64')"
      ]
     },
     "execution_count": 97,
     "metadata": {},
     "output_type": "execute_result"
    }
   ],
   "source": [
    "df.year"
   ]
  },
  {
   "cell_type": "code",
   "execution_count": 98,
   "id": "b5e5af43",
   "metadata": {},
   "outputs": [
    {
     "data": {
      "text/plain": [
       "array([False, False, False, False,  True,  True,  True,  True,  True,\n",
       "        True])"
      ]
     },
     "execution_count": 98,
     "metadata": {},
     "output_type": "execute_result"
    }
   ],
   "source": [
    "df.is_leap_year"
   ]
  },
  {
   "cell_type": "code",
   "execution_count": 99,
   "id": "168b788b",
   "metadata": {},
   "outputs": [
    {
     "data": {
      "text/plain": [
       "Int64Index([20, 23, 27, 30, 3, 6, 10, 13, 17, 20], dtype='int64')"
      ]
     },
     "execution_count": 99,
     "metadata": {},
     "output_type": "execute_result"
    }
   ],
   "source": [
    "df.day"
   ]
  },
  {
   "cell_type": "code",
   "execution_count": 100,
   "id": "81a51a69",
   "metadata": {},
   "outputs": [
    {
     "data": {
      "text/plain": [
       "Int64Index([4, 0, 4, 0, 4, 0, 4, 0, 4, 0], dtype='int64')"
      ]
     },
     "execution_count": 100,
     "metadata": {},
     "output_type": "execute_result"
    }
   ],
   "source": [
    "df.day_of_week"
   ]
  },
  {
   "cell_type": "code",
   "execution_count": 101,
   "id": "71afbf57",
   "metadata": {},
   "outputs": [
    {
     "data": {
      "text/plain": [
       "Int64Index([4, 0, 4, 0, 4, 0, 4, 0, 4, 0], dtype='int64')"
      ]
     },
     "execution_count": 101,
     "metadata": {},
     "output_type": "execute_result"
    }
   ],
   "source": [
    "df.dayofweek"
   ]
  },
  {
   "cell_type": "code",
   "execution_count": 102,
   "id": "93a089d2",
   "metadata": {},
   "outputs": [
    {
     "data": {
      "text/plain": [
       "Int64Index([4, 0, 4, 0, 4, 0, 4, 0, 4, 0], dtype='int64')"
      ]
     },
     "execution_count": 102,
     "metadata": {},
     "output_type": "execute_result"
    }
   ],
   "source": [
    "df.weekday"
   ]
  },
  {
   "cell_type": "code",
   "execution_count": 103,
   "id": "8e119079",
   "metadata": {},
   "outputs": [
    {
     "data": {
      "text/plain": [
       "Index(['Friday', 'Monday', 'Friday', 'Monday', 'Friday', 'Monday', 'Friday',\n",
       "       'Monday', 'Friday', 'Monday'],\n",
       "      dtype='object')"
      ]
     },
     "execution_count": 103,
     "metadata": {},
     "output_type": "execute_result"
    }
   ],
   "source": [
    "df.day_name()"
   ]
  },
  {
   "cell_type": "code",
   "execution_count": 104,
   "id": "4d873668",
   "metadata": {},
   "outputs": [
    {
     "data": {
      "text/plain": [
       "Int64Index([354, 357, 361, 364, 3, 6, 10, 13, 17, 20], dtype='int64')"
      ]
     },
     "execution_count": 104,
     "metadata": {},
     "output_type": "execute_result"
    }
   ],
   "source": [
    "df.day_of_year"
   ]
  },
  {
   "cell_type": "code",
   "execution_count": 105,
   "id": "2c0c1cc6",
   "metadata": {},
   "outputs": [
    {
     "data": {
      "text/plain": [
       "Int64Index([354, 357, 361, 364, 3, 6, 10, 13, 17, 20], dtype='int64')"
      ]
     },
     "execution_count": 105,
     "metadata": {},
     "output_type": "execute_result"
    }
   ],
   "source": [
    "df.dayofyear"
   ]
  },
  {
   "cell_type": "markdown",
   "id": "e0d023fa",
   "metadata": {},
   "source": [
    "# EXTRACTING TIME"
   ]
  },
  {
   "cell_type": "code",
   "execution_count": 106,
   "id": "e52a7de1",
   "metadata": {},
   "outputs": [
    {
     "data": {
      "text/plain": [
       "array([datetime.time(0, 0), datetime.time(0, 0), datetime.time(0, 0),\n",
       "       datetime.time(0, 0), datetime.time(0, 0), datetime.time(0, 0),\n",
       "       datetime.time(0, 0), datetime.time(0, 0), datetime.time(0, 0),\n",
       "       datetime.time(0, 0)], dtype=object)"
      ]
     },
     "execution_count": 106,
     "metadata": {},
     "output_type": "execute_result"
    }
   ],
   "source": [
    "df.time"
   ]
  },
  {
   "cell_type": "code",
   "execution_count": 107,
   "id": "f1b6ab97",
   "metadata": {},
   "outputs": [
    {
     "data": {
      "text/plain": [
       "[datetime.time(0, 0),\n",
       " datetime.time(0, 0),\n",
       " datetime.time(0, 0),\n",
       " datetime.time(0, 0),\n",
       " datetime.time(0, 0),\n",
       " datetime.time(0, 0),\n",
       " datetime.time(0, 0),\n",
       " datetime.time(0, 0),\n",
       " datetime.time(0, 0),\n",
       " datetime.time(0, 0)]"
      ]
     },
     "execution_count": 107,
     "metadata": {},
     "output_type": "execute_result"
    }
   ],
   "source": [
    "B = list(df.time)\n",
    "B"
   ]
  },
  {
   "cell_type": "markdown",
   "id": "5c03565c",
   "metadata": {},
   "source": [
    "# EXTRACTING MONTH-YEAR-DAY FROM DATE"
   ]
  },
  {
   "cell_type": "code",
   "execution_count": 108,
   "id": "8fcc7f79",
   "metadata": {},
   "outputs": [
    {
     "data": {
      "text/plain": [
       "array([datetime.date(2019, 12, 20), datetime.date(2019, 12, 23),\n",
       "       datetime.date(2019, 12, 27), datetime.date(2019, 12, 30),\n",
       "       datetime.date(2020, 1, 3), datetime.date(2020, 1, 6),\n",
       "       datetime.date(2020, 1, 10), datetime.date(2020, 1, 13),\n",
       "       datetime.date(2020, 1, 17), datetime.date(2020, 1, 20)],\n",
       "      dtype=object)"
      ]
     },
     "execution_count": 108,
     "metadata": {},
     "output_type": "execute_result"
    }
   ],
   "source": [
    "df.date"
   ]
  },
  {
   "cell_type": "code",
   "execution_count": 109,
   "id": "23b3813c",
   "metadata": {},
   "outputs": [
    {
     "data": {
      "text/plain": [
       "[datetime.date(2019, 12, 20),\n",
       " datetime.date(2019, 12, 23),\n",
       " datetime.date(2019, 12, 27),\n",
       " datetime.date(2019, 12, 30),\n",
       " datetime.date(2020, 1, 3),\n",
       " datetime.date(2020, 1, 6),\n",
       " datetime.date(2020, 1, 10),\n",
       " datetime.date(2020, 1, 13),\n",
       " datetime.date(2020, 1, 17),\n",
       " datetime.date(2020, 1, 20)]"
      ]
     },
     "execution_count": 109,
     "metadata": {},
     "output_type": "execute_result"
    }
   ],
   "source": [
    "list(df.date)"
   ]
  },
  {
   "cell_type": "code",
   "execution_count": 110,
   "id": "22cf6dc2",
   "metadata": {},
   "outputs": [
    {
     "name": "stdout",
     "output_type": "stream",
     "text": [
      "month - [12, 12, 12, 12, 1, 1, 1, 1, 1, 1]\n",
      "year - [2019, 2019, 2019, 2019, 2020, 2020, 2020, 2020, 2020, 2020]\n",
      "day - [20, 23, 27, 30, 3, 6, 10, 13, 17, 20]\n"
     ]
    }
   ],
   "source": [
    "A = list(df.date)\n",
    "month = []\n",
    "year = []\n",
    "day = []\n",
    "for i in range(len(A)):\n",
    "    B = A[i].month\n",
    "    C = A[i].year\n",
    "    D = A[i].day\n",
    "    month.append(B)\n",
    "    year.append(C)\n",
    "    day.append(D)\n",
    "print('month -', month)  \n",
    "print('year -', year)  \n",
    "print('day -', day)  "
   ]
  },
  {
   "cell_type": "code",
   "execution_count": 111,
   "id": "5ea92755",
   "metadata": {},
   "outputs": [
    {
     "data": {
      "text/html": [
       "<div>\n",
       "<style scoped>\n",
       "    .dataframe tbody tr th:only-of-type {\n",
       "        vertical-align: middle;\n",
       "    }\n",
       "\n",
       "    .dataframe tbody tr th {\n",
       "        vertical-align: top;\n",
       "    }\n",
       "\n",
       "    .dataframe thead th {\n",
       "        text-align: right;\n",
       "    }\n",
       "</style>\n",
       "<table border=\"1\" class=\"dataframe\">\n",
       "  <thead>\n",
       "    <tr style=\"text-align: right;\">\n",
       "      <th></th>\n",
       "      <th>DAY</th>\n",
       "      <th>MONTH</th>\n",
       "      <th>YEAR</th>\n",
       "    </tr>\n",
       "  </thead>\n",
       "  <tbody>\n",
       "    <tr>\n",
       "      <th>2019-12-20</th>\n",
       "      <td>20</td>\n",
       "      <td>12</td>\n",
       "      <td>2019</td>\n",
       "    </tr>\n",
       "    <tr>\n",
       "      <th>2019-12-23</th>\n",
       "      <td>23</td>\n",
       "      <td>12</td>\n",
       "      <td>2019</td>\n",
       "    </tr>\n",
       "    <tr>\n",
       "      <th>2019-12-27</th>\n",
       "      <td>27</td>\n",
       "      <td>12</td>\n",
       "      <td>2019</td>\n",
       "    </tr>\n",
       "    <tr>\n",
       "      <th>2019-12-30</th>\n",
       "      <td>30</td>\n",
       "      <td>12</td>\n",
       "      <td>2019</td>\n",
       "    </tr>\n",
       "    <tr>\n",
       "      <th>2020-01-03</th>\n",
       "      <td>3</td>\n",
       "      <td>1</td>\n",
       "      <td>2020</td>\n",
       "    </tr>\n",
       "    <tr>\n",
       "      <th>2020-01-06</th>\n",
       "      <td>6</td>\n",
       "      <td>1</td>\n",
       "      <td>2020</td>\n",
       "    </tr>\n",
       "    <tr>\n",
       "      <th>2020-01-10</th>\n",
       "      <td>10</td>\n",
       "      <td>1</td>\n",
       "      <td>2020</td>\n",
       "    </tr>\n",
       "    <tr>\n",
       "      <th>2020-01-13</th>\n",
       "      <td>13</td>\n",
       "      <td>1</td>\n",
       "      <td>2020</td>\n",
       "    </tr>\n",
       "    <tr>\n",
       "      <th>2020-01-17</th>\n",
       "      <td>17</td>\n",
       "      <td>1</td>\n",
       "      <td>2020</td>\n",
       "    </tr>\n",
       "    <tr>\n",
       "      <th>2020-01-20</th>\n",
       "      <td>20</td>\n",
       "      <td>1</td>\n",
       "      <td>2020</td>\n",
       "    </tr>\n",
       "  </tbody>\n",
       "</table>\n",
       "</div>"
      ],
      "text/plain": [
       "            DAY  MONTH  YEAR\n",
       "2019-12-20   20     12  2019\n",
       "2019-12-23   23     12  2019\n",
       "2019-12-27   27     12  2019\n",
       "2019-12-30   30     12  2019\n",
       "2020-01-03    3      1  2020\n",
       "2020-01-06    6      1  2020\n",
       "2020-01-10   10      1  2020\n",
       "2020-01-13   13      1  2020\n",
       "2020-01-17   17      1  2020\n",
       "2020-01-20   20      1  2020"
      ]
     },
     "execution_count": 111,
     "metadata": {},
     "output_type": "execute_result"
    }
   ],
   "source": [
    "X = {\n",
    "    \"DAY\" : day,\n",
    "    \"MONTH\" : month,\n",
    "    \"YEAR\" : year\n",
    "}\n",
    "df1 = pd.DataFrame(X,index = df.format())\n",
    "df1"
   ]
  },
  {
   "cell_type": "code",
   "execution_count": 112,
   "id": "05d1a9fb",
   "metadata": {},
   "outputs": [
    {
     "data": {
      "text/html": [
       "<div>\n",
       "<style scoped>\n",
       "    .dataframe tbody tr th:only-of-type {\n",
       "        vertical-align: middle;\n",
       "    }\n",
       "\n",
       "    .dataframe tbody tr th {\n",
       "        vertical-align: top;\n",
       "    }\n",
       "\n",
       "    .dataframe thead th {\n",
       "        text-align: right;\n",
       "    }\n",
       "</style>\n",
       "<table border=\"1\" class=\"dataframe\">\n",
       "  <thead>\n",
       "    <tr style=\"text-align: right;\">\n",
       "      <th></th>\n",
       "      <th>Date</th>\n",
       "    </tr>\n",
       "  </thead>\n",
       "  <tbody>\n",
       "    <tr>\n",
       "      <th>day1</th>\n",
       "      <td>2019-12-31 00:00:00+05:30</td>\n",
       "    </tr>\n",
       "    <tr>\n",
       "      <th>day2</th>\n",
       "      <td>2020-01-31 00:00:00+05:30</td>\n",
       "    </tr>\n",
       "    <tr>\n",
       "      <th>day3</th>\n",
       "      <td>2020-02-29 00:00:00+05:30</td>\n",
       "    </tr>\n",
       "  </tbody>\n",
       "</table>\n",
       "</div>"
      ],
      "text/plain": [
       "                          Date\n",
       "day1 2019-12-31 00:00:00+05:30\n",
       "day2 2020-01-31 00:00:00+05:30\n",
       "day3 2020-02-29 00:00:00+05:30"
      ]
     },
     "execution_count": 112,
     "metadata": {},
     "output_type": "execute_result"
    }
   ],
   "source": [
    "A = pd.date_range('2019-12-31', periods=3, freq='M', tz='Asia/Calcutta')\n",
    "B = pd.DataFrame(A,columns=[\"Date\"],index=['day1','day2','day3'])\n",
    "B"
   ]
  },
  {
   "cell_type": "code",
   "execution_count": 113,
   "id": "6e0ecb8e",
   "metadata": {},
   "outputs": [
    {
     "data": {
      "text/html": [
       "<div>\n",
       "<style scoped>\n",
       "    .dataframe tbody tr th:only-of-type {\n",
       "        vertical-align: middle;\n",
       "    }\n",
       "\n",
       "    .dataframe tbody tr th {\n",
       "        vertical-align: top;\n",
       "    }\n",
       "\n",
       "    .dataframe thead th {\n",
       "        text-align: right;\n",
       "    }\n",
       "</style>\n",
       "<table border=\"1\" class=\"dataframe\">\n",
       "  <thead>\n",
       "    <tr style=\"text-align: right;\">\n",
       "      <th></th>\n",
       "      <th>Date</th>\n",
       "      <th>Day</th>\n",
       "      <th>Month</th>\n",
       "      <th>Month_name</th>\n",
       "      <th>Year</th>\n",
       "      <th>Time</th>\n",
       "      <th>Hour</th>\n",
       "      <th>Minute</th>\n",
       "      <th>Second</th>\n",
       "    </tr>\n",
       "  </thead>\n",
       "  <tbody>\n",
       "    <tr>\n",
       "      <th>day1</th>\n",
       "      <td>31-12-2019</td>\n",
       "      <td>31</td>\n",
       "      <td>12</td>\n",
       "      <td>Dec</td>\n",
       "      <td>2019</td>\n",
       "      <td>00:00:00</td>\n",
       "      <td>00</td>\n",
       "      <td>00</td>\n",
       "      <td>00</td>\n",
       "    </tr>\n",
       "    <tr>\n",
       "      <th>day2</th>\n",
       "      <td>31-01-2020</td>\n",
       "      <td>31</td>\n",
       "      <td>01</td>\n",
       "      <td>Jan</td>\n",
       "      <td>2020</td>\n",
       "      <td>00:00:00</td>\n",
       "      <td>00</td>\n",
       "      <td>00</td>\n",
       "      <td>00</td>\n",
       "    </tr>\n",
       "    <tr>\n",
       "      <th>day3</th>\n",
       "      <td>29-02-2020</td>\n",
       "      <td>29</td>\n",
       "      <td>02</td>\n",
       "      <td>Feb</td>\n",
       "      <td>2020</td>\n",
       "      <td>00:00:00</td>\n",
       "      <td>00</td>\n",
       "      <td>00</td>\n",
       "      <td>00</td>\n",
       "    </tr>\n",
       "  </tbody>\n",
       "</table>\n",
       "</div>"
      ],
      "text/plain": [
       "            Date Day Month Month_name  Year      Time Hour Minute Second\n",
       "day1  31-12-2019  31    12        Dec  2019  00:00:00   00     00     00\n",
       "day2  31-01-2020  31    01        Jan  2020  00:00:00   00     00     00\n",
       "day3  29-02-2020  29    02        Feb  2020  00:00:00   00     00     00"
      ]
     },
     "execution_count": 113,
     "metadata": {},
     "output_type": "execute_result"
    }
   ],
   "source": [
    "B['Day'] =  B['Date'].dt.strftime('%d')\n",
    "B['Month'] =  B['Date'].dt.strftime('%m')\n",
    "B['Month_name'] =  B['Date'].dt.strftime('%h')\n",
    "B['Year'] =  B['Date'].dt.strftime('%Y')\n",
    "B['Time'] = B['Date'].dt.strftime('%T')\n",
    "B['Hour'] = B['Date'].dt.strftime('%H')\n",
    "B['Minute'] = B['Date'].dt.strftime('%M')\n",
    "B['Second'] = B['Date'].dt.strftime('%S')\n",
    "B['Date'] = B['Date'].dt.strftime('%d-%m-%Y')\n",
    "B"
   ]
  },
  {
   "cell_type": "markdown",
   "id": "d705c553",
   "metadata": {},
   "source": [
    "# CREATING ARRAY USING PANDAS"
   ]
  },
  {
   "cell_type": "code",
   "execution_count": 114,
   "id": "0a3cbd29",
   "metadata": {},
   "outputs": [
    {
     "data": {
      "text/plain": [
       "<PandasArray>\n",
       "[5, 9, 13, 17]\n",
       "Length: 4, dtype: int16"
      ]
     },
     "execution_count": 114,
     "metadata": {},
     "output_type": "execute_result"
    }
   ],
   "source": [
    "A = [i for i in range(5,18,4)]\n",
    "B = pd.array(A,dtype='int16',copy=True)\n",
    "B"
   ]
  },
  {
   "cell_type": "code",
   "execution_count": 115,
   "id": "de98af16",
   "metadata": {},
   "outputs": [
    {
     "data": {
      "text/plain": [
       "<IntegerArray>\n",
       "[4, <NA>, 6, 7]\n",
       "Length: 4, dtype: Int64"
      ]
     },
     "execution_count": 115,
     "metadata": {},
     "output_type": "execute_result"
    }
   ],
   "source": [
    "C = [4,None,6,7]\n",
    "D = pd.array(C,copy=True)\n",
    "D"
   ]
  },
  {
   "cell_type": "markdown",
   "id": "2280d657",
   "metadata": {},
   "source": [
    "# DESCRIPTION OF PANDAS ARRAY"
   ]
  },
  {
   "cell_type": "code",
   "execution_count": 116,
   "id": "f71ca0e9",
   "metadata": {},
   "outputs": [
    {
     "data": {
      "text/plain": [
       "<IntegerArray>\n",
       "[1, 2, 3, 4, 5]\n",
       "Length: 5, dtype: Int64"
      ]
     },
     "execution_count": 116,
     "metadata": {},
     "output_type": "execute_result"
    }
   ],
   "source": [
    "A = pd.array([1,2,3,4,5])\n",
    "A"
   ]
  },
  {
   "cell_type": "code",
   "execution_count": 117,
   "id": "627ded80",
   "metadata": {},
   "outputs": [
    {
     "data": {
      "text/plain": [
       "(5,)"
      ]
     },
     "execution_count": 117,
     "metadata": {},
     "output_type": "execute_result"
    }
   ],
   "source": [
    "A.shape"
   ]
  },
  {
   "cell_type": "code",
   "execution_count": 118,
   "id": "7a4c2514",
   "metadata": {},
   "outputs": [
    {
     "data": {
      "text/plain": [
       "45"
      ]
     },
     "execution_count": 118,
     "metadata": {},
     "output_type": "execute_result"
    }
   ],
   "source": [
    "A.nbytes"
   ]
  },
  {
   "cell_type": "code",
   "execution_count": 119,
   "id": "1b4b6de2",
   "metadata": {},
   "outputs": [
    {
     "data": {
      "text/plain": [
       "1"
      ]
     },
     "execution_count": 119,
     "metadata": {},
     "output_type": "execute_result"
    }
   ],
   "source": [
    "A.ndim"
   ]
  },
  {
   "cell_type": "code",
   "execution_count": 120,
   "id": "a73aca1c",
   "metadata": {},
   "outputs": [
    {
     "data": {
      "text/plain": [
       "<IntegerArray>\n",
       "[1, 2, 3, 4, 5]\n",
       "Length: 5, dtype: Int64"
      ]
     },
     "execution_count": 120,
     "metadata": {},
     "output_type": "execute_result"
    }
   ],
   "source": [
    "A.view()"
   ]
  },
  {
   "cell_type": "code",
   "execution_count": 121,
   "id": "904ac602",
   "metadata": {},
   "outputs": [
    {
     "data": {
      "text/plain": [
       "Int64Dtype()"
      ]
     },
     "execution_count": 121,
     "metadata": {},
     "output_type": "execute_result"
    }
   ],
   "source": [
    "A.dtype"
   ]
  },
  {
   "cell_type": "code",
   "execution_count": 122,
   "id": "b9c6f337",
   "metadata": {},
   "outputs": [
    {
     "data": {
      "text/plain": [
       "pandas.core.arrays.integer.IntegerArray"
      ]
     },
     "execution_count": 122,
     "metadata": {},
     "output_type": "execute_result"
    }
   ],
   "source": [
    "type(A)"
   ]
  },
  {
   "cell_type": "markdown",
   "id": "5f9d999f",
   "metadata": {},
   "source": [
    "# PERFORMING MATHEMATICAL OPERATIONS"
   ]
  },
  {
   "cell_type": "code",
   "execution_count": 123,
   "id": "ae88faa8",
   "metadata": {},
   "outputs": [],
   "source": [
    "B = pd.array([i for i in range(5,18,4)],dtype='int32')\n",
    "D = pd.array([4,None,6,7])"
   ]
  },
  {
   "cell_type": "code",
   "execution_count": 124,
   "id": "93478bf1",
   "metadata": {},
   "outputs": [
    {
     "data": {
      "text/plain": [
       "<IntegerArray>\n",
       "[9, <NA>, 19, 24]\n",
       "Length: 4, dtype: Int64"
      ]
     },
     "execution_count": 124,
     "metadata": {},
     "output_type": "execute_result"
    }
   ],
   "source": [
    "pd.array(B+D)"
   ]
  },
  {
   "cell_type": "code",
   "execution_count": 125,
   "id": "7f159f92",
   "metadata": {},
   "outputs": [
    {
     "data": {
      "text/plain": [
       "<IntegerArray>\n",
       "[20, <NA>, 78, 119]\n",
       "Length: 4, dtype: Int64"
      ]
     },
     "execution_count": 125,
     "metadata": {},
     "output_type": "execute_result"
    }
   ],
   "source": [
    "pd.array(B*D)"
   ]
  },
  {
   "cell_type": "code",
   "execution_count": 126,
   "id": "a1355035",
   "metadata": {},
   "outputs": [
    {
     "data": {
      "text/plain": [
       "<IntegerArray>\n",
       "[1, <NA>, 7, 10]\n",
       "Length: 4, dtype: Int64"
      ]
     },
     "execution_count": 126,
     "metadata": {},
     "output_type": "execute_result"
    }
   ],
   "source": [
    "pd.array(B-D)"
   ]
  },
  {
   "cell_type": "code",
   "execution_count": 127,
   "id": "46a5c532",
   "metadata": {},
   "outputs": [
    {
     "data": {
      "text/plain": [
       "<FloatingArray>\n",
       "[1.25, <NA>, 2.1666666666666665, 2.4285714285714284]\n",
       "Length: 4, dtype: Float64"
      ]
     },
     "execution_count": 127,
     "metadata": {},
     "output_type": "execute_result"
    }
   ],
   "source": [
    "pd.array(B/D)"
   ]
  },
  {
   "cell_type": "code",
   "execution_count": 128,
   "id": "c45d9270",
   "metadata": {},
   "outputs": [
    {
     "data": {
      "text/plain": [
       "<IntegerArray>\n",
       "[625, <NA>, 4826809, 410338673]\n",
       "Length: 4, dtype: Int64"
      ]
     },
     "execution_count": 128,
     "metadata": {},
     "output_type": "execute_result"
    }
   ],
   "source": [
    "pd.array(B**D)"
   ]
  },
  {
   "cell_type": "code",
   "execution_count": 129,
   "id": "8b36a1c0",
   "metadata": {},
   "outputs": [
    {
     "data": {
      "text/plain": [
       "<PandasArray>\n",
       "[5, 9, 13, 17]\n",
       "Length: 4, dtype: int32"
      ]
     },
     "execution_count": 129,
     "metadata": {},
     "output_type": "execute_result"
    }
   ],
   "source": [
    "B"
   ]
  },
  {
   "cell_type": "code",
   "execution_count": 130,
   "id": "da800685",
   "metadata": {},
   "outputs": [
    {
     "data": {
      "text/plain": [
       "17"
      ]
     },
     "execution_count": 130,
     "metadata": {},
     "output_type": "execute_result"
    }
   ],
   "source": [
    "B.max()"
   ]
  },
  {
   "cell_type": "code",
   "execution_count": 131,
   "id": "68ff04c4",
   "metadata": {},
   "outputs": [
    {
     "data": {
      "text/plain": [
       "5"
      ]
     },
     "execution_count": 131,
     "metadata": {},
     "output_type": "execute_result"
    }
   ],
   "source": [
    "B.min()"
   ]
  },
  {
   "cell_type": "code",
   "execution_count": 132,
   "id": "db965bf9",
   "metadata": {},
   "outputs": [
    {
     "data": {
      "text/plain": [
       "11.0"
      ]
     },
     "execution_count": 132,
     "metadata": {},
     "output_type": "execute_result"
    }
   ],
   "source": [
    "B.mean() # we need to specify datatype"
   ]
  },
  {
   "cell_type": "code",
   "execution_count": 133,
   "id": "d8be4a5b",
   "metadata": {},
   "outputs": [
    {
     "data": {
      "text/plain": [
       "11.0"
      ]
     },
     "execution_count": 133,
     "metadata": {},
     "output_type": "execute_result"
    }
   ],
   "source": [
    "B.median()"
   ]
  },
  {
   "cell_type": "code",
   "execution_count": 134,
   "id": "67eecdfd",
   "metadata": {},
   "outputs": [
    {
     "data": {
      "text/plain": [
       "5.163977794943222"
      ]
     },
     "execution_count": 134,
     "metadata": {},
     "output_type": "execute_result"
    }
   ],
   "source": [
    "B.std()"
   ]
  },
  {
   "cell_type": "code",
   "execution_count": 135,
   "id": "74d93ee4",
   "metadata": {},
   "outputs": [
    {
     "data": {
      "text/plain": [
       "44"
      ]
     },
     "execution_count": 135,
     "metadata": {},
     "output_type": "execute_result"
    }
   ],
   "source": [
    "B.sum()"
   ]
  },
  {
   "cell_type": "code",
   "execution_count": 136,
   "id": "f93d5ae7",
   "metadata": {},
   "outputs": [
    {
     "data": {
      "text/plain": [
       "4"
      ]
     },
     "execution_count": 136,
     "metadata": {},
     "output_type": "execute_result"
    }
   ],
   "source": [
    "B.searchsorted(23)"
   ]
  },
  {
   "cell_type": "code",
   "execution_count": 137,
   "id": "ecb44355",
   "metadata": {},
   "outputs": [
    {
     "data": {
      "text/plain": [
       "2.581988897471611"
      ]
     },
     "execution_count": 137,
     "metadata": {},
     "output_type": "execute_result"
    }
   ],
   "source": [
    "B.sem()"
   ]
  },
  {
   "cell_type": "code",
   "execution_count": 138,
   "id": "e9fe6f8e",
   "metadata": {},
   "outputs": [
    {
     "data": {
      "text/plain": [
       "0.0"
      ]
     },
     "execution_count": 138,
     "metadata": {},
     "output_type": "execute_result"
    }
   ],
   "source": [
    "B.skew()"
   ]
  },
  {
   "cell_type": "code",
   "execution_count": 139,
   "id": "e795a143",
   "metadata": {},
   "outputs": [
    {
     "data": {
      "text/plain": [
       "<IntegerArray>\n",
       "[<NA>, 4, <NA>, 6]\n",
       "Length: 4, dtype: Int64"
      ]
     },
     "execution_count": 139,
     "metadata": {},
     "output_type": "execute_result"
    }
   ],
   "source": [
    "D.shift()"
   ]
  },
  {
   "cell_type": "code",
   "execution_count": 140,
   "id": "2d60076b",
   "metadata": {},
   "outputs": [
    {
     "data": {
      "text/plain": [
       "<IntegerArray>\n",
       "[\n",
       "[1, 2, 3],\n",
       "[4, 5, 6],\n",
       "[7, 8, 9],\n",
       "[10, 11, 12]\n",
       "]\n",
       "Shape: (4, 3), dtype: Int64"
      ]
     },
     "execution_count": 140,
     "metadata": {},
     "output_type": "execute_result"
    }
   ],
   "source": [
    "X = [i for i in range(1,13)]\n",
    "Y = pd.array(X)\n",
    "Z = Y.reshape(4,3)\n",
    "Z"
   ]
  },
  {
   "cell_type": "code",
   "execution_count": 141,
   "id": "a707555e",
   "metadata": {},
   "outputs": [
    {
     "data": {
      "text/plain": [
       "<IntegerArray>\n",
       "[1, 2, 3, 4, 5, 6, 7, 8, 9, 10, 11, 12]\n",
       "Length: 12, dtype: Int64"
      ]
     },
     "execution_count": 141,
     "metadata": {},
     "output_type": "execute_result"
    }
   ],
   "source": [
    "Z.ravel()"
   ]
  },
  {
   "cell_type": "code",
   "execution_count": 142,
   "id": "43e3ef1d",
   "metadata": {},
   "outputs": [
    {
     "data": {
      "text/plain": [
       "<IntegerArray>\n",
       "[\n",
       "[1, 4, 7, 10],\n",
       "[2, 5, 8, 11],\n",
       "[3, 6, 9, 12]\n",
       "]\n",
       "Shape: (3, 4), dtype: Int64"
      ]
     },
     "execution_count": 142,
     "metadata": {},
     "output_type": "execute_result"
    }
   ],
   "source": [
    "Z.T"
   ]
  },
  {
   "cell_type": "code",
   "execution_count": 143,
   "id": "29445b72",
   "metadata": {},
   "outputs": [
    {
     "data": {
      "text/plain": [
       "<IntegerArray>\n",
       "[\n",
       "[1, 2, 3],\n",
       "[4, 5, 6],\n",
       "[7, 8, 9],\n",
       "[10, 11, 12]\n",
       "]\n",
       "Shape: (4, 3), dtype: Int64"
      ]
     },
     "execution_count": 143,
     "metadata": {},
     "output_type": "execute_result"
    }
   ],
   "source": [
    "Z.transpose() "
   ]
  },
  {
   "cell_type": "code",
   "execution_count": 144,
   "id": "272e3d27",
   "metadata": {},
   "outputs": [
    {
     "data": {
      "text/plain": [
       "<IntegerArray>\n",
       "[6, 120, 504, 1320]\n",
       "Length: 4, dtype: Int64"
      ]
     },
     "execution_count": 144,
     "metadata": {},
     "output_type": "execute_result"
    }
   ],
   "source": [
    "Z.prod(axis=1)"
   ]
  },
  {
   "cell_type": "code",
   "execution_count": 145,
   "id": "07f74887",
   "metadata": {},
   "outputs": [
    {
     "data": {
      "text/plain": [
       "<IntegerArray>\n",
       "[280, 880, 1944]\n",
       "Length: 3, dtype: Int64"
      ]
     },
     "execution_count": 145,
     "metadata": {},
     "output_type": "execute_result"
    }
   ],
   "source": [
    "Z.prod(axis=0)"
   ]
  },
  {
   "cell_type": "code",
   "execution_count": 146,
   "id": "6497ebb7",
   "metadata": {},
   "outputs": [
    {
     "data": {
      "text/plain": [
       "<FloatingArray>\n",
       "[\n",
       "[0.3333333333333333, 0.6666666666666666, 1.0],\n",
       "[1.3333333333333333, 1.6666666666666667, 2.0],\n",
       "[2.3333333333333335, 2.6666666666666665, 3.0],\n",
       "[3.3333333333333335, 3.6666666666666665, 4.0]\n",
       "]\n",
       "Shape: (4, 3), dtype: Float64"
      ]
     },
     "execution_count": 146,
     "metadata": {},
     "output_type": "execute_result"
    }
   ],
   "source": [
    "Z = pd.array(Z/3)\n",
    "Z"
   ]
  },
  {
   "cell_type": "code",
   "execution_count": 147,
   "id": "072d972e",
   "metadata": {},
   "outputs": [
    {
     "data": {
      "text/plain": [
       "<FloatingArray>\n",
       "[\n",
       "[0.33, 0.67, 1.0],\n",
       "[1.33, 1.67, 2.0],\n",
       "[2.33, 2.67, 3.0],\n",
       "[3.33, 3.67, 4.0]\n",
       "]\n",
       "Shape: (4, 3), dtype: Float64"
      ]
     },
     "execution_count": 147,
     "metadata": {},
     "output_type": "execute_result"
    }
   ],
   "source": [
    "Z.round(2)"
   ]
  },
  {
   "cell_type": "code",
   "execution_count": 148,
   "id": "b06b779b",
   "metadata": {},
   "outputs": [
    {
     "data": {
      "text/plain": [
       "array([3, 3, 3], dtype=int64)"
      ]
     },
     "execution_count": 148,
     "metadata": {},
     "output_type": "execute_result"
    }
   ],
   "source": [
    "Z.argmax()"
   ]
  },
  {
   "cell_type": "code",
   "execution_count": 149,
   "id": "bcd4ea75",
   "metadata": {},
   "outputs": [
    {
     "data": {
      "text/plain": [
       "array([0, 0, 0], dtype=int64)"
      ]
     },
     "execution_count": 149,
     "metadata": {},
     "output_type": "execute_result"
    }
   ],
   "source": [
    "Z.argmin()"
   ]
  },
  {
   "cell_type": "markdown",
   "id": "e6fb26d0",
   "metadata": {},
   "source": [
    "# DELETE OPERATION"
   ]
  },
  {
   "cell_type": "code",
   "execution_count": 150,
   "id": "46b3b059",
   "metadata": {},
   "outputs": [
    {
     "data": {
      "text/plain": [
       "<IntegerArray>\n",
       "[\n",
       "[1, 2, 3],\n",
       "[4, 5, 6],\n",
       "[7, 8, 9],\n",
       "[10, 11, 12]\n",
       "]\n",
       "Shape: (4, 3), dtype: Int64"
      ]
     },
     "execution_count": 150,
     "metadata": {},
     "output_type": "execute_result"
    }
   ],
   "source": [
    "X = [i for i in range(1,13)]\n",
    "Y = pd.array(X)\n",
    "Z = Y.reshape(4,3)\n",
    "Z"
   ]
  },
  {
   "cell_type": "code",
   "execution_count": 151,
   "id": "355a37c6",
   "metadata": {},
   "outputs": [
    {
     "data": {
      "text/plain": [
       "<IntegerArray>\n",
       "[\n",
       "[1, 2, 3],\n",
       "[4, 5, 6],\n",
       "[10, 11, 12]\n",
       "]\n",
       "Shape: (3, 3), dtype: Int64"
      ]
     },
     "execution_count": 151,
     "metadata": {},
     "output_type": "execute_result"
    }
   ],
   "source": [
    "Z.delete(2,axis=0)"
   ]
  },
  {
   "cell_type": "code",
   "execution_count": 152,
   "id": "afb42776",
   "metadata": {},
   "outputs": [
    {
     "data": {
      "text/plain": [
       "<IntegerArray>\n",
       "[\n",
       "[1, 2],\n",
       "[4, 5],\n",
       "[7, 8],\n",
       "[10, 11]\n",
       "]\n",
       "Shape: (4, 2), dtype: Int64"
      ]
     },
     "execution_count": 152,
     "metadata": {},
     "output_type": "execute_result"
    }
   ],
   "source": [
    "Z.delete(2,axis=1)"
   ]
  },
  {
   "cell_type": "markdown",
   "id": "511ec064",
   "metadata": {},
   "source": [
    "# CHECKING TRUTHNESS OF ARRAY"
   ]
  },
  {
   "cell_type": "code",
   "execution_count": 153,
   "id": "fdadfe6a",
   "metadata": {},
   "outputs": [
    {
     "data": {
      "text/plain": [
       "<PandasArray>\n",
       "[5, 9, 13, 17]\n",
       "Length: 4, dtype: int32"
      ]
     },
     "execution_count": 153,
     "metadata": {},
     "output_type": "execute_result"
    }
   ],
   "source": [
    "B = pd.array([i for i in range(5,18,4)],dtype='int32')\n",
    "B"
   ]
  },
  {
   "cell_type": "code",
   "execution_count": 154,
   "id": "92e68942",
   "metadata": {},
   "outputs": [
    {
     "data": {
      "text/plain": [
       "True"
      ]
     },
     "execution_count": 154,
     "metadata": {},
     "output_type": "execute_result"
    }
   ],
   "source": [
    "B.all()"
   ]
  },
  {
   "cell_type": "code",
   "execution_count": 155,
   "id": "bb69d1a5",
   "metadata": {},
   "outputs": [
    {
     "data": {
      "text/plain": [
       "True"
      ]
     },
     "execution_count": 155,
     "metadata": {},
     "output_type": "execute_result"
    }
   ],
   "source": [
    "B.any()"
   ]
  },
  {
   "cell_type": "markdown",
   "id": "48f2dfa8",
   "metadata": {},
   "source": [
    "# HANDLING MISSING VALUES AND NULL DATA"
   ]
  },
  {
   "cell_type": "code",
   "execution_count": 156,
   "id": "33c6cc7d",
   "metadata": {},
   "outputs": [
    {
     "data": {
      "text/plain": [
       "<IntegerArray>\n",
       "[2, 6, 9, 12, 5, <NA>, <NA>, <NA>, 77, <NA>, <NA>, <NA>, <NA>]\n",
       "Length: 13, dtype: Int64"
      ]
     },
     "execution_count": 156,
     "metadata": {},
     "output_type": "execute_result"
    }
   ],
   "source": [
    "A = [2,6,9,12,5,None,pd.NA,None,77,None,None,None,None]\n",
    "df = pd.array(A)\n",
    "df"
   ]
  },
  {
   "cell_type": "code",
   "execution_count": 157,
   "id": "04f99239",
   "metadata": {},
   "outputs": [
    {
     "data": {
      "text/plain": [
       "array([False, False, False, False, False,  True,  True,  True, False,\n",
       "        True,  True,  True,  True])"
      ]
     },
     "execution_count": 157,
     "metadata": {},
     "output_type": "execute_result"
    }
   ],
   "source": [
    "df.isna()"
   ]
  },
  {
   "cell_type": "code",
   "execution_count": 158,
   "id": "ed144d92",
   "metadata": {},
   "outputs": [
    {
     "data": {
      "text/plain": [
       "7"
      ]
     },
     "execution_count": 158,
     "metadata": {},
     "output_type": "execute_result"
    }
   ],
   "source": [
    "df.isna().sum()"
   ]
  },
  {
   "cell_type": "code",
   "execution_count": 159,
   "id": "77f6b15e",
   "metadata": {},
   "outputs": [
    {
     "data": {
      "text/plain": [
       "7"
      ]
     },
     "execution_count": 159,
     "metadata": {},
     "output_type": "execute_result"
    }
   ],
   "source": [
    "null = df.size - df.value_counts().sum()\n",
    "null"
   ]
  },
  {
   "cell_type": "code",
   "execution_count": 160,
   "id": "90e1d4d3",
   "metadata": {},
   "outputs": [
    {
     "data": {
      "text/plain": [
       "<IntegerArray>\n",
       "[2, 6, 9, 12, 5, 77]\n",
       "Length: 6, dtype: Int64"
      ]
     },
     "execution_count": 160,
     "metadata": {},
     "output_type": "execute_result"
    }
   ],
   "source": [
    "df.dropna()"
   ]
  },
  {
   "cell_type": "code",
   "execution_count": 161,
   "id": "25e619fe",
   "metadata": {},
   "outputs": [
    {
     "data": {
      "text/plain": [
       "<IntegerArray>\n",
       "[2, 6, 9, 12, 5, 5, 5, 5, 77, 77, 77, 77, 77]\n",
       "Length: 13, dtype: Int64"
      ]
     },
     "execution_count": 161,
     "metadata": {},
     "output_type": "execute_result"
    }
   ],
   "source": [
    "df.fillna(method='ffill')"
   ]
  },
  {
   "cell_type": "code",
   "execution_count": 162,
   "id": "fd76e558",
   "metadata": {},
   "outputs": [
    {
     "data": {
      "text/plain": [
       "<IntegerArray>\n",
       "[2, 6, 9, 12, 5, 77, 77, 77, 77, <NA>, <NA>, <NA>, <NA>]\n",
       "Length: 13, dtype: Int64"
      ]
     },
     "execution_count": 162,
     "metadata": {},
     "output_type": "execute_result"
    }
   ],
   "source": [
    "df.fillna(method='bfill')"
   ]
  },
  {
   "cell_type": "code",
   "execution_count": 163,
   "id": "95a6516b",
   "metadata": {},
   "outputs": [
    {
     "data": {
      "text/plain": [
       "<IntegerArray>\n",
       "[2, 6, 9, 12, 5, 77, 77, 77, 77, <NA>, <NA>, <NA>, <NA>]\n",
       "Length: 13, dtype: Int64"
      ]
     },
     "execution_count": 163,
     "metadata": {},
     "output_type": "execute_result"
    }
   ],
   "source": [
    "df.fillna(method='backfill')"
   ]
  },
  {
   "cell_type": "code",
   "execution_count": 164,
   "id": "bca7715d",
   "metadata": {},
   "outputs": [
    {
     "data": {
      "text/plain": [
       "<IntegerArray>\n",
       "[2, 6, 9, 12, 5, 5, 5, <NA>, 77, 77, 77, <NA>, <NA>]\n",
       "Length: 13, dtype: Int64"
      ]
     },
     "execution_count": 164,
     "metadata": {},
     "output_type": "execute_result"
    }
   ],
   "source": [
    "df.fillna(method='pad',limit=2)"
   ]
  },
  {
   "cell_type": "code",
   "execution_count": 165,
   "id": "87237116",
   "metadata": {},
   "outputs": [
    {
     "data": {
      "text/plain": [
       "<IntegerArray>\n",
       "[2, 6, 9, 12, 5, 6, 6, 6, 77, 6, 6, 6, 6]\n",
       "Length: 13, dtype: Int64"
      ]
     },
     "execution_count": 165,
     "metadata": {},
     "output_type": "execute_result"
    }
   ],
   "source": [
    "df.fillna(6)"
   ]
  },
  {
   "cell_type": "code",
   "execution_count": 166,
   "id": "601c83e8",
   "metadata": {},
   "outputs": [
    {
     "data": {
      "text/plain": [
       "<IntegerArray>\n",
       "[   2,    2,    6,    6,    9,    9,   12,   12,    5,    5, <NA>, <NA>, <NA>,\n",
       " <NA>, <NA>, <NA>,   77,   77, <NA>, <NA>, <NA>, <NA>, <NA>, <NA>, <NA>, <NA>]\n",
       "Length: 26, dtype: Int64"
      ]
     },
     "execution_count": 166,
     "metadata": {},
     "output_type": "execute_result"
    }
   ],
   "source": [
    "df.repeat(2)"
   ]
  },
  {
   "cell_type": "code",
   "execution_count": 167,
   "id": "7ffca0a2",
   "metadata": {},
   "outputs": [
    {
     "data": {
      "text/plain": [
       "<IntegerArray>\n",
       "[2, 6, 9, <NA>, 12, 5, <NA>, <NA>, <NA>, 77, <NA>, <NA>, <NA>, <NA>]\n",
       "Length: 14, dtype: Int64"
      ]
     },
     "execution_count": 167,
     "metadata": {},
     "output_type": "execute_result"
    }
   ],
   "source": [
    "df.insert(3,pd.NA)"
   ]
  },
  {
   "cell_type": "markdown",
   "id": "7679d4ac",
   "metadata": {},
   "source": [
    "# UNIQUE VALUES"
   ]
  },
  {
   "cell_type": "code",
   "execution_count": 168,
   "id": "4c3bcc0b",
   "metadata": {},
   "outputs": [
    {
     "data": {
      "text/plain": [
       "<IntegerArray>\n",
       "[4, 5, 5, 4, 7]\n",
       "Length: 5, dtype: Int64"
      ]
     },
     "execution_count": 168,
     "metadata": {},
     "output_type": "execute_result"
    }
   ],
   "source": [
    "A = pd.array([4,5,5,4,7],copy=True)\n",
    "A"
   ]
  },
  {
   "cell_type": "code",
   "execution_count": 169,
   "id": "844a4ae1",
   "metadata": {},
   "outputs": [
    {
     "data": {
      "text/plain": [
       "<IntegerArray>\n",
       "[4, 5, 7]\n",
       "Length: 3, dtype: Int64"
      ]
     },
     "execution_count": 169,
     "metadata": {},
     "output_type": "execute_result"
    }
   ],
   "source": [
    "A.unique()"
   ]
  },
  {
   "cell_type": "code",
   "execution_count": 170,
   "id": "01c989aa",
   "metadata": {},
   "outputs": [
    {
     "data": {
      "text/plain": [
       "4       2\n",
       "5       2\n",
       "7       1\n",
       "<NA>    0\n",
       "dtype: Int64"
      ]
     },
     "execution_count": 170,
     "metadata": {},
     "output_type": "execute_result"
    }
   ],
   "source": [
    "A.value_counts(dropna=False)"
   ]
  },
  {
   "cell_type": "markdown",
   "id": "bda913b3",
   "metadata": {},
   "source": [
    "# USING ASTYPE"
   ]
  },
  {
   "cell_type": "code",
   "execution_count": 171,
   "id": "958fc7f2",
   "metadata": {},
   "outputs": [
    {
     "data": {
      "text/plain": [
       "array([4., 5., 5., 4., 7.])"
      ]
     },
     "execution_count": 171,
     "metadata": {},
     "output_type": "execute_result"
    }
   ],
   "source": [
    "A = pd.array([4,5,5,4,7],copy=True)\n",
    "C = A.astype(dtype='float')\n",
    "C"
   ]
  },
  {
   "cell_type": "code",
   "execution_count": 172,
   "id": "ede7fe2b",
   "metadata": {},
   "outputs": [
    {
     "data": {
      "text/plain": [
       "25.0"
      ]
     },
     "execution_count": 172,
     "metadata": {},
     "output_type": "execute_result"
    }
   ],
   "source": [
    "C.sum()"
   ]
  },
  {
   "cell_type": "markdown",
   "id": "fb6e76cf",
   "metadata": {},
   "source": [
    "# CONVERTING PANDAS ARRAY IN NUMPY ARRAY OR IN LIST"
   ]
  },
  {
   "cell_type": "code",
   "execution_count": 173,
   "id": "c9d53274",
   "metadata": {},
   "outputs": [
    {
     "data": {
      "text/plain": [
       "array([4, 5, 5, 4, 7], dtype=object)"
      ]
     },
     "execution_count": 173,
     "metadata": {},
     "output_type": "execute_result"
    }
   ],
   "source": [
    "X = A.to_numpy()\n",
    "X"
   ]
  },
  {
   "cell_type": "code",
   "execution_count": 174,
   "id": "0a1a7fdc",
   "metadata": {},
   "outputs": [
    {
     "data": {
      "text/plain": [
       "[4, 5, 5, 4, 7]"
      ]
     },
     "execution_count": 174,
     "metadata": {},
     "output_type": "execute_result"
    }
   ],
   "source": [
    "A.tolist()"
   ]
  },
  {
   "cell_type": "markdown",
   "id": "24a351fa",
   "metadata": {},
   "source": [
    "# CREATING SERIES"
   ]
  },
  {
   "cell_type": "markdown",
   "id": "b3350203",
   "metadata": {},
   "source": [
    "    we can able to create series with...list tuple dictionary and numpy array but we can't create series with set because...set is unoreder datatype"
   ]
  },
  {
   "cell_type": "code",
   "execution_count": 175,
   "id": "ccf60e97",
   "metadata": {},
   "outputs": [
    {
     "data": {
      "text/plain": [
       "0    1\n",
       "1    2\n",
       "2    3\n",
       "3    4\n",
       "dtype: int64"
      ]
     },
     "execution_count": 175,
     "metadata": {},
     "output_type": "execute_result"
    }
   ],
   "source": [
    "# creating Series from list\n",
    "A = [1,2,3,4]\n",
    "B = pd.Series(A)\n",
    "B"
   ]
  },
  {
   "cell_type": "code",
   "execution_count": 176,
   "id": "1533c7d9",
   "metadata": {},
   "outputs": [
    {
     "data": {
      "text/plain": [
       "0    1\n",
       "1    2\n",
       "2    3\n",
       "3    4\n",
       "4    5\n",
       "dtype: int64"
      ]
     },
     "execution_count": 176,
     "metadata": {},
     "output_type": "execute_result"
    }
   ],
   "source": [
    "# creating series from tuple\n",
    "A = (1,2,3,4,5)\n",
    "B = pd.Series(A)\n",
    "B"
   ]
  },
  {
   "cell_type": "code",
   "execution_count": 177,
   "id": "0e9fb4b5",
   "metadata": {},
   "outputs": [
    {
     "data": {
      "text/plain": [
       "a    1\n",
       "b    2\n",
       "c    3\n",
       "d    4\n",
       "dtype: int64"
      ]
     },
     "execution_count": 177,
     "metadata": {},
     "output_type": "execute_result"
    }
   ],
   "source": [
    "# creating series from dictionary\n",
    "A = {'a':1,'b':2,'c':3,'d':4}\n",
    "B = pd.Series(A)\n",
    "B"
   ]
  },
  {
   "cell_type": "code",
   "execution_count": 178,
   "id": "08398548",
   "metadata": {},
   "outputs": [
    {
     "data": {
      "text/plain": [
       "0    1\n",
       "1    2\n",
       "2    3\n",
       "3    4\n",
       "dtype: int32"
      ]
     },
     "execution_count": 178,
     "metadata": {},
     "output_type": "execute_result"
    }
   ],
   "source": [
    "# creating series from numpy array\n",
    "A = np.arange(1,5)\n",
    "B = pd.Series(A)\n",
    "B"
   ]
  },
  {
   "cell_type": "code",
   "execution_count": 179,
   "id": "b9db5419",
   "metadata": {},
   "outputs": [
    {
     "name": "stdout",
     "output_type": "stream",
     "text": [
      "'set' type is unordered\n",
      "can't able to create series from set\n"
     ]
    }
   ],
   "source": [
    "A = {1,2,3,4}\n",
    "try:\n",
    "    B = pd.Series(A)\n",
    "    print(B)\n",
    "except TypeError as t:\n",
    "    print(t)\n",
    "    print(\"can't able to create series from set\")"
   ]
  },
  {
   "cell_type": "markdown",
   "id": "8bdba0d1",
   "metadata": {},
   "source": [
    "    by default series get index 0,1,2,3..but if we want to give index use index=[]"
   ]
  },
  {
   "cell_type": "code",
   "execution_count": 180,
   "id": "e6e6d73c",
   "metadata": {},
   "outputs": [
    {
     "data": {
      "text/plain": [
       "x    1\n",
       "y    2\n",
       "z    3\n",
       "w    4\n",
       "dtype: int64"
      ]
     },
     "execution_count": 180,
     "metadata": {},
     "output_type": "execute_result"
    }
   ],
   "source": [
    "A = [1,2,3,4]\n",
    "B = pd.Series(A,index = [\"x\",\"y\",\"z\",\"w\"])\n",
    "B"
   ]
  },
  {
   "cell_type": "code",
   "execution_count": 181,
   "id": "73917d9c",
   "metadata": {},
   "outputs": [
    {
     "name": "stdout",
     "output_type": "stream",
     "text": [
      "Length of values (4) does not match length of index (3)\n",
      "invalid indexes\n"
     ]
    }
   ],
   "source": [
    "# return error if lenth of data and index lenth is not equal\n",
    "A = [1,2,3,4]\n",
    "try:\n",
    "    B = pd.Series(A,index=[\"x\",\"y\",\"z\"])\n",
    "except ValueError as e:\n",
    "    print(e)\n",
    "    print(\"invalid indexes\")"
   ]
  },
  {
   "cell_type": "code",
   "execution_count": 182,
   "id": "ff00a1da",
   "metadata": {},
   "outputs": [
    {
     "name": "stdout",
     "output_type": "stream",
     "text": [
      "physics      89\n",
      "english      78\n",
      "sanskrit     91\n",
      "chemistry    93\n",
      "maths        95\n",
      "dtype: int64\n"
     ]
    }
   ],
   "source": [
    "# in dictionary key is considered as an index...\n",
    "# but if you try to give your own index then it returns NaN because ones index is set. we can't able to change it.\n",
    "import pandas as pd\n",
    "A = {\n",
    "    \"physics\" : 89 ,\n",
    "    \"english\" : 78 ,\n",
    "    \"sanskrit\" : 91 ,\n",
    "    \"chemistry\" : 93 ,\n",
    "    \"maths\" : 95\n",
    "}\n",
    "B = pd.Series(A)\n",
    "print(B)"
   ]
  },
  {
   "cell_type": "code",
   "execution_count": 183,
   "id": "5f1d6cf7",
   "metadata": {},
   "outputs": [
    {
     "name": "stdout",
     "output_type": "stream",
     "text": [
      "1   NaN\n",
      "2   NaN\n",
      "3   NaN\n",
      "4   NaN\n",
      "5   NaN\n",
      "dtype: float64\n"
     ]
    }
   ],
   "source": [
    "C = [1,2,3,4,5] \n",
    "B = pd.Series(A,index=C)\n",
    "print(B) "
   ]
  },
  {
   "cell_type": "code",
   "execution_count": 184,
   "id": "da419a12",
   "metadata": {},
   "outputs": [
    {
     "data": {
      "text/plain": [
       "a    1\n",
       "b    2\n",
       "c    3\n",
       "d    4\n",
       "e    5\n",
       "Name: Data Values, dtype: int64"
      ]
     },
     "execution_count": 184,
     "metadata": {},
     "output_type": "execute_result"
    }
   ],
   "source": [
    "# create series with series name\n",
    "A = [1,2,3,4,5]\n",
    "B = pd.Series(A, index=['a','b','c','d','e'], name='Data Values' )\n",
    "B"
   ]
  },
  {
   "cell_type": "code",
   "execution_count": 185,
   "id": "d6ed93fd",
   "metadata": {},
   "outputs": [
    {
     "data": {
      "text/plain": [
       "a    1.0\n",
       "b    2.0\n",
       "c    3.0\n",
       "d    4.0\n",
       "e    5.0\n",
       "Name: Data Values, dtype: float64"
      ]
     },
     "execution_count": 185,
     "metadata": {},
     "output_type": "execute_result"
    }
   ],
   "source": [
    "# changing datatype\n",
    "A = [1,2,3,4,5]\n",
    "B = pd.Series(A, index=['a','b','c','d','e'], name='Data Values',dtype='float' )\n",
    "B"
   ]
  },
  {
   "cell_type": "code",
   "execution_count": 186,
   "id": "27394b8b",
   "metadata": {},
   "outputs": [
    {
     "data": {
      "text/plain": [
       "a    3.14\n",
       "b    3.14\n",
       "c    3.14\n",
       "d    3.14\n",
       "dtype: float64"
      ]
     },
     "execution_count": 186,
     "metadata": {},
     "output_type": "execute_result"
    }
   ],
   "source": [
    "# creating series using scalar\n",
    "A = pd.Series(3.14,index = ['a','b','c','d'] )\n",
    "A"
   ]
  },
  {
   "cell_type": "markdown",
   "id": "1e19b642",
   "metadata": {},
   "source": [
    "# ACCESSING ELEMENTS"
   ]
  },
  {
   "cell_type": "markdown",
   "id": "75734472",
   "metadata": {},
   "source": [
    "## accesesing series elements using slicing"
   ]
  },
  {
   "cell_type": "code",
   "execution_count": 187,
   "id": "eebdd819",
   "metadata": {},
   "outputs": [
    {
     "data": {
      "text/plain": [
       "0     1.0\n",
       "1     2.0\n",
       "2     3.0\n",
       "3     4.0\n",
       "4     5.0\n",
       "5     6.0\n",
       "6     7.0\n",
       "7     8.0\n",
       "8     9.0\n",
       "9    10.0\n",
       "dtype: float64"
      ]
     },
     "execution_count": 187,
     "metadata": {},
     "output_type": "execute_result"
    }
   ],
   "source": [
    "A = [1,2,3,4,5,6,7,8,9,10]\n",
    "B = pd.Series(A,dtype='float')\n",
    "B"
   ]
  },
  {
   "cell_type": "code",
   "execution_count": 188,
   "id": "84e94695",
   "metadata": {},
   "outputs": [
    {
     "data": {
      "text/plain": [
       "1.0"
      ]
     },
     "execution_count": 188,
     "metadata": {},
     "output_type": "execute_result"
    }
   ],
   "source": [
    "B[0] # returns a value which is present at index 0"
   ]
  },
  {
   "cell_type": "code",
   "execution_count": 189,
   "id": "90d9edd2",
   "metadata": {},
   "outputs": [
    {
     "data": {
      "text/plain": [
       "2    3.0\n",
       "3    4.0\n",
       "4    5.0\n",
       "dtype: float64"
      ]
     },
     "execution_count": 189,
     "metadata": {},
     "output_type": "execute_result"
    }
   ],
   "source": [
    "B[2:5] # returns a value which is present at index 0 to 5,here 5 is excluding"
   ]
  },
  {
   "cell_type": "markdown",
   "id": "038ac5a9",
   "metadata": {},
   "source": [
    "## in dictionary index=[] is used to aceess elements"
   ]
  },
  {
   "cell_type": "code",
   "execution_count": 190,
   "id": "a40460a2",
   "metadata": {},
   "outputs": [
    {
     "data": {
      "text/plain": [
       "c    3\n",
       "d    4\n",
       "dtype: int64"
      ]
     },
     "execution_count": 190,
     "metadata": {},
     "output_type": "execute_result"
    }
   ],
   "source": [
    "A = {\"a\" : 1 ,\"b\" : 2 ,\"c\" : 3 ,\"d\" : 4 ,\"e\" : 5}\n",
    "B = [\"c\",\"d\"]\n",
    "C = pd.Series(A,index=B)\n",
    "C"
   ]
  },
  {
   "cell_type": "markdown",
   "id": "fed85377",
   "metadata": {},
   "source": [
    "## other method for acess element from series created using dictionary"
   ]
  },
  {
   "cell_type": "code",
   "execution_count": 191,
   "id": "ec873e86",
   "metadata": {},
   "outputs": [
    {
     "data": {
      "text/plain": [
       "c    3\n",
       "d    4\n",
       "dtype: int64"
      ]
     },
     "execution_count": 191,
     "metadata": {},
     "output_type": "execute_result"
    }
   ],
   "source": [
    "C = pd.Series(A)\n",
    "B = [\"c\",\"d\"]\n",
    "C[B]"
   ]
  },
  {
   "cell_type": "code",
   "execution_count": 192,
   "id": "fc805c9d",
   "metadata": {},
   "outputs": [
    {
     "data": {
      "text/plain": [
       "c    3\n",
       "d    4\n",
       "dtype: int64"
      ]
     },
     "execution_count": 192,
     "metadata": {},
     "output_type": "execute_result"
    }
   ],
   "source": [
    "C[2:4]"
   ]
  },
  {
   "cell_type": "markdown",
   "id": "d5617ccd",
   "metadata": {},
   "source": [
    "# DESCRIPTION OF SERIES"
   ]
  },
  {
   "cell_type": "code",
   "execution_count": 193,
   "id": "c906da18",
   "metadata": {},
   "outputs": [
    {
     "data": {
      "text/plain": [
       "0    26\n",
       "1    25\n",
       "2    26\n",
       "3    24\n",
       "4    25\n",
       "5    25\n",
       "6    23\n",
       "dtype: int32"
      ]
     },
     "execution_count": 193,
     "metadata": {},
     "output_type": "execute_result"
    }
   ],
   "source": [
    "np.random.seed(5)\n",
    "A = pd.Series(np.random.randint(23,27,7))\n",
    "A"
   ]
  },
  {
   "cell_type": "code",
   "execution_count": 194,
   "id": "5eefdf08",
   "metadata": {},
   "outputs": [
    {
     "data": {
      "text/plain": [
       "dtype('int32')"
      ]
     },
     "execution_count": 194,
     "metadata": {},
     "output_type": "execute_result"
    }
   ],
   "source": [
    "A.dtype"
   ]
  },
  {
   "cell_type": "code",
   "execution_count": 195,
   "id": "e01e8831",
   "metadata": {},
   "outputs": [
    {
     "data": {
      "text/plain": [
       "dtype('int32')"
      ]
     },
     "execution_count": 195,
     "metadata": {},
     "output_type": "execute_result"
    }
   ],
   "source": [
    "A.dtypes"
   ]
  },
  {
   "cell_type": "code",
   "execution_count": 196,
   "id": "2885b66e",
   "metadata": {},
   "outputs": [
    {
     "data": {
      "text/plain": [
       "0"
      ]
     },
     "execution_count": 196,
     "metadata": {},
     "output_type": "execute_result"
    }
   ],
   "source": [
    "A.idxmax()"
   ]
  },
  {
   "cell_type": "code",
   "execution_count": 197,
   "id": "51cfd40f",
   "metadata": {},
   "outputs": [
    {
     "data": {
      "text/plain": [
       "6"
      ]
     },
     "execution_count": 197,
     "metadata": {},
     "output_type": "execute_result"
    }
   ],
   "source": [
    "A.idxmin()"
   ]
  },
  {
   "cell_type": "code",
   "execution_count": 198,
   "id": "3b1dfc75",
   "metadata": {},
   "outputs": [
    {
     "data": {
      "text/plain": [
       "RangeIndex(start=0, stop=7, step=1)"
      ]
     },
     "execution_count": 198,
     "metadata": {},
     "output_type": "execute_result"
    }
   ],
   "source": [
    "A.index"
   ]
  },
  {
   "cell_type": "code",
   "execution_count": 199,
   "id": "76fc83a8",
   "metadata": {},
   "outputs": [
    {
     "data": {
      "text/plain": [
       "(7,)"
      ]
     },
     "execution_count": 199,
     "metadata": {},
     "output_type": "execute_result"
    }
   ],
   "source": [
    "A.shape"
   ]
  },
  {
   "cell_type": "code",
   "execution_count": 200,
   "id": "7797fb82",
   "metadata": {},
   "outputs": [
    {
     "data": {
      "text/plain": [
       "7"
      ]
     },
     "execution_count": 200,
     "metadata": {},
     "output_type": "execute_result"
    }
   ],
   "source": [
    "A.size"
   ]
  },
  {
   "cell_type": "code",
   "execution_count": 201,
   "id": "c284a350",
   "metadata": {},
   "outputs": [
    {
     "data": {
      "text/plain": [
       "array([26, 25, 26, 24, 25, 25, 23])"
      ]
     },
     "execution_count": 201,
     "metadata": {},
     "output_type": "execute_result"
    }
   ],
   "source": [
    "A.values"
   ]
  },
  {
   "cell_type": "code",
   "execution_count": 202,
   "id": "db4a3bbe",
   "metadata": {},
   "outputs": [
    {
     "data": {
      "text/plain": [
       "0    26\n",
       "1    25\n",
       "2    26\n",
       "3    24\n",
       "4    25\n",
       "5    25\n",
       "6    23\n",
       "dtype: int32"
      ]
     },
     "execution_count": 202,
     "metadata": {},
     "output_type": "execute_result"
    }
   ],
   "source": [
    "A.view()"
   ]
  },
  {
   "cell_type": "code",
   "execution_count": 203,
   "id": "5a6f66e4",
   "metadata": {},
   "outputs": [
    {
     "data": {
      "text/plain": [
       "RangeIndex(start=0, stop=7, step=1)"
      ]
     },
     "execution_count": 203,
     "metadata": {},
     "output_type": "execute_result"
    }
   ],
   "source": [
    "A.keys()"
   ]
  },
  {
   "cell_type": "code",
   "execution_count": 204,
   "id": "bb6bf6f1",
   "metadata": {},
   "outputs": [
    {
     "name": "stdout",
     "output_type": "stream",
     "text": [
      "None\n"
     ]
    }
   ],
   "source": [
    "print(A.name)"
   ]
  },
  {
   "cell_type": "code",
   "execution_count": 205,
   "id": "9c525254",
   "metadata": {},
   "outputs": [
    {
     "data": {
      "text/plain": [
       "28"
      ]
     },
     "execution_count": 205,
     "metadata": {},
     "output_type": "execute_result"
    }
   ],
   "source": [
    "A.nbytes"
   ]
  },
  {
   "cell_type": "code",
   "execution_count": 206,
   "id": "13792896",
   "metadata": {},
   "outputs": [
    {
     "data": {
      "text/plain": [
       "1"
      ]
     },
     "execution_count": 206,
     "metadata": {},
     "output_type": "execute_result"
    }
   ],
   "source": [
    "A.ndim"
   ]
  },
  {
   "cell_type": "code",
   "execution_count": 207,
   "id": "3ec0a43c",
   "metadata": {},
   "outputs": [
    {
     "data": {
      "text/plain": [
       "0    26\n",
       "1    25\n",
       "2    26\n",
       "3    24\n",
       "4    25\n",
       "dtype: int32"
      ]
     },
     "execution_count": 207,
     "metadata": {},
     "output_type": "execute_result"
    }
   ],
   "source": [
    "A.head()"
   ]
  },
  {
   "cell_type": "code",
   "execution_count": 208,
   "id": "2866bff1",
   "metadata": {},
   "outputs": [
    {
     "data": {
      "text/plain": [
       "2    26\n",
       "3    24\n",
       "4    25\n",
       "5    25\n",
       "6    23\n",
       "dtype: int32"
      ]
     },
     "execution_count": 208,
     "metadata": {},
     "output_type": "execute_result"
    }
   ],
   "source": [
    "A.tail()"
   ]
  },
  {
   "cell_type": "code",
   "execution_count": 209,
   "id": "6d58182c",
   "metadata": {},
   "outputs": [
    {
     "data": {
      "text/plain": [
       "count     7.000000\n",
       "mean     24.857143\n",
       "std       1.069045\n",
       "min      23.000000\n",
       "25%      24.500000\n",
       "50%      25.000000\n",
       "75%      25.500000\n",
       "max      26.000000\n",
       "dtype: float64"
      ]
     },
     "execution_count": 209,
     "metadata": {},
     "output_type": "execute_result"
    }
   ],
   "source": [
    "A.describe()"
   ]
  },
  {
   "cell_type": "code",
   "execution_count": 210,
   "id": "06143146",
   "metadata": {},
   "outputs": [
    {
     "name": "stdout",
     "output_type": "stream",
     "text": [
      "<class 'pandas.core.series.Series'>\n",
      "RangeIndex: 7 entries, 0 to 6\n",
      "Series name: None\n",
      "Non-Null Count  Dtype\n",
      "--------------  -----\n",
      "7 non-null      int32\n",
      "dtypes: int32(1)\n",
      "memory usage: 156.0 bytes\n"
     ]
    }
   ],
   "source": [
    "A.info()"
   ]
  },
  {
   "cell_type": "code",
   "execution_count": 211,
   "id": "cc28664f",
   "metadata": {},
   "outputs": [
    {
     "data": {
      "text/plain": [
       "156"
      ]
     },
     "execution_count": 211,
     "metadata": {},
     "output_type": "execute_result"
    }
   ],
   "source": [
    "A.memory_usage()"
   ]
  },
  {
   "cell_type": "code",
   "execution_count": 212,
   "id": "fce069ee",
   "metadata": {},
   "outputs": [
    {
     "data": {
      "text/plain": [
       "6"
      ]
     },
     "execution_count": 212,
     "metadata": {},
     "output_type": "execute_result"
    }
   ],
   "source": [
    "A.last_valid_index()"
   ]
  },
  {
   "cell_type": "code",
   "execution_count": 213,
   "id": "238782c6",
   "metadata": {},
   "outputs": [
    {
     "data": {
      "text/plain": [
       "0"
      ]
     },
     "execution_count": 213,
     "metadata": {},
     "output_type": "execute_result"
    }
   ],
   "source": [
    "A.first_valid_index()"
   ]
  },
  {
   "cell_type": "markdown",
   "id": "72c028e4",
   "metadata": {},
   "source": [
    "# MATHEMATIC OPERATIONS"
   ]
  },
  {
   "cell_type": "code",
   "execution_count": 214,
   "id": "b57ccf75",
   "metadata": {},
   "outputs": [
    {
     "data": {
      "text/plain": [
       "0    26\n",
       "1    25\n",
       "2    26\n",
       "3    24\n",
       "4    25\n",
       "5    25\n",
       "6    23\n",
       "Name: My_Series, dtype: int32"
      ]
     },
     "execution_count": 214,
     "metadata": {},
     "output_type": "execute_result"
    }
   ],
   "source": [
    "np.random.seed(5)\n",
    "A = pd.Series(np.random.randint(23,27,7),name='My_Series')\n",
    "A"
   ]
  },
  {
   "cell_type": "code",
   "execution_count": 215,
   "id": "0cb2edfd",
   "metadata": {},
   "outputs": [
    {
     "data": {
      "text/plain": [
       "0       1\n",
       "1       2\n",
       "2      -3\n",
       "3      -4\n",
       "4      -5\n",
       "5    <NA>\n",
       "6     NaN\n",
       "dtype: object"
      ]
     },
     "execution_count": 215,
     "metadata": {},
     "output_type": "execute_result"
    }
   ],
   "source": [
    "B = pd.Series([1,2,-3,-4,-5,pd.NA,np.nan])\n",
    "B"
   ]
  },
  {
   "cell_type": "code",
   "execution_count": 216,
   "id": "86d1f3b1",
   "metadata": {},
   "outputs": [
    {
     "data": {
      "text/plain": [
       "23"
      ]
     },
     "execution_count": 216,
     "metadata": {},
     "output_type": "execute_result"
    }
   ],
   "source": [
    "A.min()"
   ]
  },
  {
   "cell_type": "code",
   "execution_count": 217,
   "id": "35301bf2",
   "metadata": {},
   "outputs": [
    {
     "data": {
      "text/plain": [
       "26"
      ]
     },
     "execution_count": 217,
     "metadata": {},
     "output_type": "execute_result"
    }
   ],
   "source": [
    "A.max()"
   ]
  },
  {
   "cell_type": "code",
   "execution_count": 218,
   "id": "5994b4de",
   "metadata": {},
   "outputs": [
    {
     "data": {
      "text/plain": [
       "24.857142857142858"
      ]
     },
     "execution_count": 218,
     "metadata": {},
     "output_type": "execute_result"
    }
   ],
   "source": [
    "A.mean()"
   ]
  },
  {
   "cell_type": "code",
   "execution_count": 219,
   "id": "22b37283",
   "metadata": {},
   "outputs": [
    {
     "data": {
      "text/plain": [
       "25.0"
      ]
     },
     "execution_count": 219,
     "metadata": {},
     "output_type": "execute_result"
    }
   ],
   "source": [
    "A.median()"
   ]
  },
  {
   "cell_type": "code",
   "execution_count": 220,
   "id": "9500bf38",
   "metadata": {},
   "outputs": [
    {
     "data": {
      "text/plain": [
       "0    25\n",
       "Name: My_Series, dtype: int32"
      ]
     },
     "execution_count": 220,
     "metadata": {},
     "output_type": "execute_result"
    }
   ],
   "source": [
    "A.mode()"
   ]
  },
  {
   "cell_type": "code",
   "execution_count": 221,
   "id": "c4ea52db",
   "metadata": {},
   "outputs": [
    {
     "data": {
      "text/plain": [
       "0    17576\n",
       "1    15625\n",
       "2    17576\n",
       "3    13824\n",
       "4    15625\n",
       "5    15625\n",
       "6    12167\n",
       "Name: My_Series, dtype: int32"
      ]
     },
     "execution_count": 221,
     "metadata": {},
     "output_type": "execute_result"
    }
   ],
   "source": [
    "A.pow(3)"
   ]
  },
  {
   "cell_type": "code",
   "execution_count": 222,
   "id": "b3e8c10e",
   "metadata": {},
   "outputs": [
    {
     "data": {
      "text/plain": [
       "0      27\n",
       "1      27\n",
       "2      23\n",
       "3      20\n",
       "4      20\n",
       "5    <NA>\n",
       "6     NaN\n",
       "dtype: object"
      ]
     },
     "execution_count": 222,
     "metadata": {},
     "output_type": "execute_result"
    }
   ],
   "source": [
    "A.add(B)"
   ]
  },
  {
   "cell_type": "code",
   "execution_count": 223,
   "id": "617ddf04",
   "metadata": {},
   "outputs": [
    {
     "data": {
      "text/plain": [
       "7"
      ]
     },
     "execution_count": 223,
     "metadata": {},
     "output_type": "execute_result"
    }
   ],
   "source": [
    "A.count()"
   ]
  },
  {
   "cell_type": "code",
   "execution_count": 224,
   "id": "1549a0bd",
   "metadata": {},
   "outputs": [
    {
     "data": {
      "text/plain": [
       "-0.11470786693528089"
      ]
     },
     "execution_count": 224,
     "metadata": {},
     "output_type": "execute_result"
    }
   ],
   "source": [
    "C = pd.Series([3,6,8])\n",
    "A.corr(C)"
   ]
  },
  {
   "cell_type": "code",
   "execution_count": 225,
   "id": "40e5b536",
   "metadata": {},
   "outputs": [
    {
     "data": {
      "text/plain": [
       "-0.16666666666666669"
      ]
     },
     "execution_count": 225,
     "metadata": {},
     "output_type": "execute_result"
    }
   ],
   "source": [
    "A.cov(C)"
   ]
  },
  {
   "cell_type": "code",
   "execution_count": 226,
   "id": "185cc834",
   "metadata": {},
   "outputs": [
    {
     "data": {
      "text/plain": [
       "0    26\n",
       "1    26\n",
       "2    26\n",
       "3    26\n",
       "4    26\n",
       "5    26\n",
       "6    26\n",
       "Name: My_Series, dtype: int32"
      ]
     },
     "execution_count": 226,
     "metadata": {},
     "output_type": "execute_result"
    }
   ],
   "source": [
    "A.cummax()"
   ]
  },
  {
   "cell_type": "code",
   "execution_count": 227,
   "id": "56f48f6a",
   "metadata": {},
   "outputs": [
    {
     "data": {
      "text/plain": [
       "0    26\n",
       "1    25\n",
       "2    25\n",
       "3    24\n",
       "4    24\n",
       "5    24\n",
       "6    23\n",
       "Name: My_Series, dtype: int32"
      ]
     },
     "execution_count": 227,
     "metadata": {},
     "output_type": "execute_result"
    }
   ],
   "source": [
    "A.cummin()"
   ]
  },
  {
   "cell_type": "code",
   "execution_count": 228,
   "id": "cc1cd348",
   "metadata": {},
   "outputs": [
    {
     "data": {
      "text/plain": [
       "0            26\n",
       "1           650\n",
       "2         16900\n",
       "3        405600\n",
       "4      10140000\n",
       "5     253500000\n",
       "6    1535532704\n",
       "Name: My_Series, dtype: int32"
      ]
     },
     "execution_count": 228,
     "metadata": {},
     "output_type": "execute_result"
    }
   ],
   "source": [
    "A.cumprod()"
   ]
  },
  {
   "cell_type": "code",
   "execution_count": 229,
   "id": "c59fba6b",
   "metadata": {},
   "outputs": [
    {
     "data": {
      "text/plain": [
       "0     26\n",
       "1     51\n",
       "2     77\n",
       "3    101\n",
       "4    126\n",
       "5    151\n",
       "6    174\n",
       "Name: My_Series, dtype: int32"
      ]
     },
     "execution_count": 229,
     "metadata": {},
     "output_type": "execute_result"
    }
   ],
   "source": [
    "A.cumsum()"
   ]
  },
  {
   "cell_type": "code",
   "execution_count": 230,
   "id": "6de70ada",
   "metadata": {},
   "outputs": [
    {
     "data": {
      "text/plain": [
       "0     NaN\n",
       "1       1\n",
       "2      -5\n",
       "3      -1\n",
       "4      -1\n",
       "5    <NA>\n",
       "6    <NA>\n",
       "dtype: object"
      ]
     },
     "execution_count": 230,
     "metadata": {},
     "output_type": "execute_result"
    }
   ],
   "source": [
    "B.diff()"
   ]
  },
  {
   "cell_type": "code",
   "execution_count": 231,
   "id": "9ac937e7",
   "metadata": {},
   "outputs": [
    {
     "data": {
      "text/plain": [
       "0    0.25\n",
       "1     0.5\n",
       "2   -0.75\n",
       "3    -1.0\n",
       "4   -1.25\n",
       "5    <NA>\n",
       "6     NaN\n",
       "dtype: object"
      ]
     },
     "execution_count": 231,
     "metadata": {},
     "output_type": "execute_result"
    }
   ],
   "source": [
    "B.div(4)"
   ]
  },
  {
   "cell_type": "code",
   "execution_count": 232,
   "id": "96c5250f",
   "metadata": {
    "scrolled": true
   },
   "outputs": [
    {
     "data": {
      "text/plain": [
       "0    0.038462\n",
       "1        0.08\n",
       "2   -0.115385\n",
       "3   -0.166667\n",
       "4        -0.2\n",
       "5        <NA>\n",
       "6         NaN\n",
       "dtype: object"
      ]
     },
     "execution_count": 232,
     "metadata": {},
     "output_type": "execute_result"
    }
   ],
   "source": [
    "B.div(A)"
   ]
  },
  {
   "cell_type": "code",
   "execution_count": 233,
   "id": "f6cc7dff",
   "metadata": {},
   "outputs": [
    {
     "data": {
      "text/plain": [
       "0.7755102040816324"
      ]
     },
     "execution_count": 233,
     "metadata": {},
     "output_type": "execute_result"
    }
   ],
   "source": [
    "A.mad()"
   ]
  },
  {
   "cell_type": "code",
   "execution_count": 234,
   "id": "eaed1e6f",
   "metadata": {},
   "outputs": [
    {
     "data": {
      "text/plain": [
       "0    52\n",
       "1    50\n",
       "2    52\n",
       "3    48\n",
       "4    50\n",
       "5    50\n",
       "6    46\n",
       "Name: My_Series, dtype: int32"
      ]
     },
     "execution_count": 234,
     "metadata": {},
     "output_type": "execute_result"
    }
   ],
   "source": [
    "A.multiply(2)"
   ]
  },
  {
   "cell_type": "code",
   "execution_count": 235,
   "id": "e5f6fa06",
   "metadata": {
    "scrolled": true
   },
   "outputs": [
    {
     "data": {
      "text/plain": [
       "0    52\n",
       "1    50\n",
       "2    52\n",
       "3    48\n",
       "4    50\n",
       "5    50\n",
       "6    46\n",
       "Name: My_Series, dtype: int32"
      ]
     },
     "execution_count": 235,
     "metadata": {},
     "output_type": "execute_result"
    }
   ],
   "source": [
    "A.mul(2)"
   ]
  },
  {
   "cell_type": "code",
   "execution_count": 236,
   "id": "97245a96",
   "metadata": {},
   "outputs": [
    {
     "data": {
      "text/plain": [
       "6    23\n",
       "3    24\n",
       "1    25\n",
       "Name: My_Series, dtype: int32"
      ]
     },
     "execution_count": 236,
     "metadata": {},
     "output_type": "execute_result"
    }
   ],
   "source": [
    "A.nsmallest(3)"
   ]
  },
  {
   "cell_type": "code",
   "execution_count": 237,
   "id": "295290bc",
   "metadata": {},
   "outputs": [
    {
     "data": {
      "text/plain": [
       "0    26\n",
       "2    26\n",
       "1    25\n",
       "Name: My_Series, dtype: int32"
      ]
     },
     "execution_count": 237,
     "metadata": {},
     "output_type": "execute_result"
    }
   ],
   "source": [
    "A.nlargest(3)"
   ]
  },
  {
   "cell_type": "code",
   "execution_count": 238,
   "id": "21654948",
   "metadata": {},
   "outputs": [
    {
     "data": {
      "text/plain": [
       "6    23\n",
       "3    24\n",
       "1    25\n",
       "4    25\n",
       "5    25\n",
       "0    26\n",
       "2    26\n",
       "Name: My_Series, dtype: int32"
      ]
     },
     "execution_count": 238,
     "metadata": {},
     "output_type": "execute_result"
    }
   ],
   "source": [
    "A.sort_values(inplace=True)\n",
    "A"
   ]
  },
  {
   "cell_type": "code",
   "execution_count": 239,
   "id": "727a46ba",
   "metadata": {},
   "outputs": [
    {
     "data": {
      "text/plain": [
       "0    26\n",
       "Name: My_Series, dtype: int32"
      ]
     },
     "execution_count": 239,
     "metadata": {},
     "output_type": "execute_result"
    }
   ],
   "source": [
    "A.sample()"
   ]
  },
  {
   "cell_type": "code",
   "execution_count": 240,
   "id": "13d8fb77",
   "metadata": {},
   "outputs": [
    {
     "data": {
      "text/plain": [
       "5"
      ]
     },
     "execution_count": 240,
     "metadata": {},
     "output_type": "execute_result"
    }
   ],
   "source": [
    "A.searchsorted(26)"
   ]
  },
  {
   "cell_type": "code",
   "execution_count": 241,
   "id": "ae5ca14b",
   "metadata": {},
   "outputs": [
    {
     "data": {
      "text/plain": [
       "0    26\n",
       "1    25\n",
       "2    26\n",
       "3    24\n",
       "4    25\n",
       "5    25\n",
       "6    23\n",
       "Name: My_Series, dtype: int32"
      ]
     },
     "execution_count": 241,
     "metadata": {},
     "output_type": "execute_result"
    }
   ],
   "source": [
    "A.sort_index(inplace=True)\n",
    "A"
   ]
  },
  {
   "cell_type": "code",
   "execution_count": 242,
   "id": "301b0d6f",
   "metadata": {},
   "outputs": [
    {
     "data": {
      "text/plain": [
       "-0.7717168360221272"
      ]
     },
     "execution_count": 242,
     "metadata": {},
     "output_type": "execute_result"
    }
   ],
   "source": [
    "A.skew()"
   ]
  },
  {
   "cell_type": "code",
   "execution_count": 243,
   "id": "d3a2fbab",
   "metadata": {},
   "outputs": [
    {
     "data": {
      "text/plain": [
       "1.0690449676496976"
      ]
     },
     "execution_count": 243,
     "metadata": {},
     "output_type": "execute_result"
    }
   ],
   "source": [
    "A.std()"
   ]
  },
  {
   "cell_type": "code",
   "execution_count": 244,
   "id": "8d5d86b7",
   "metadata": {},
   "outputs": [
    {
     "data": {
      "text/plain": [
       "0    22\n",
       "1    21\n",
       "2    22\n",
       "3    20\n",
       "4    21\n",
       "5    21\n",
       "6    19\n",
       "Name: My_Series, dtype: int32"
      ]
     },
     "execution_count": 244,
     "metadata": {},
     "output_type": "execute_result"
    }
   ],
   "source": [
    "A.sub(4)"
   ]
  },
  {
   "cell_type": "code",
   "execution_count": 245,
   "id": "43314a65",
   "metadata": {},
   "outputs": [
    {
     "data": {
      "text/plain": [
       "0    22\n",
       "1    21\n",
       "2    22\n",
       "3    20\n",
       "4    21\n",
       "5    21\n",
       "6    19\n",
       "Name: My_Series, dtype: int32"
      ]
     },
     "execution_count": 245,
     "metadata": {},
     "output_type": "execute_result"
    }
   ],
   "source": [
    "A.subtract(4)"
   ]
  },
  {
   "cell_type": "code",
   "execution_count": 246,
   "id": "35f5dddf",
   "metadata": {},
   "outputs": [
    {
     "data": {
      "text/plain": [
       "3    24\n",
       "4    25\n",
       "5    25\n",
       "6    23\n",
       "Name: My_Series, dtype: int32"
      ]
     },
     "execution_count": 246,
     "metadata": {},
     "output_type": "execute_result"
    }
   ],
   "source": [
    "A.truncate(3)"
   ]
  },
  {
   "cell_type": "code",
   "execution_count": 247,
   "id": "f5066e58",
   "metadata": {},
   "outputs": [
    {
     "data": {
      "text/plain": [
       "26.0"
      ]
     },
     "execution_count": 247,
     "metadata": {},
     "output_type": "execute_result"
    }
   ],
   "source": [
    "A.quantile(1)"
   ]
  },
  {
   "cell_type": "code",
   "execution_count": 248,
   "id": "d4185b14",
   "metadata": {},
   "outputs": [
    {
     "data": {
      "text/plain": [
       "23.0"
      ]
     },
     "execution_count": 248,
     "metadata": {},
     "output_type": "execute_result"
    }
   ],
   "source": [
    "A.quantile(0)"
   ]
  },
  {
   "cell_type": "code",
   "execution_count": 249,
   "id": "bae55750",
   "metadata": {},
   "outputs": [
    {
     "data": {
      "text/plain": [
       "25.0"
      ]
     },
     "execution_count": 249,
     "metadata": {},
     "output_type": "execute_result"
    }
   ],
   "source": [
    "A.quantile(0.5)"
   ]
  },
  {
   "cell_type": "code",
   "execution_count": 250,
   "id": "ee53a09f",
   "metadata": {},
   "outputs": [
    {
     "data": {
      "text/plain": [
       "0    29\n",
       "1    28\n",
       "2    29\n",
       "3    27\n",
       "4    28\n",
       "5    28\n",
       "6    26\n",
       "Name: My_Series, dtype: int32"
      ]
     },
     "execution_count": 250,
     "metadata": {},
     "output_type": "execute_result"
    }
   ],
   "source": [
    "A.radd(3)"
   ]
  },
  {
   "cell_type": "code",
   "execution_count": 251,
   "id": "4579c69c",
   "metadata": {},
   "outputs": [
    {
     "data": {
      "text/plain": [
       "0    6.5\n",
       "1    4.0\n",
       "2    6.5\n",
       "3    2.0\n",
       "4    4.0\n",
       "5    4.0\n",
       "6    1.0\n",
       "Name: My_Series, dtype: float64"
      ]
     },
     "execution_count": 251,
     "metadata": {},
     "output_type": "execute_result"
    }
   ],
   "source": [
    "A.rank()"
   ]
  },
  {
   "cell_type": "code",
   "execution_count": 252,
   "id": "4ae604eb",
   "metadata": {},
   "outputs": [
    {
     "data": {
      "text/plain": [
       "0    0.076923\n",
       "1    0.080000\n",
       "2    0.076923\n",
       "3    0.083333\n",
       "4    0.080000\n",
       "5    0.080000\n",
       "6    0.086957\n",
       "Name: My_Series, dtype: float64"
      ]
     },
     "execution_count": 252,
     "metadata": {},
     "output_type": "execute_result"
    }
   ],
   "source": [
    "A.rdiv(2)"
   ]
  },
  {
   "cell_type": "code",
   "execution_count": 253,
   "id": "050870e2",
   "metadata": {},
   "outputs": [
    {
     "data": {
      "text/plain": [
       "0    2\n",
       "1    2\n",
       "2    2\n",
       "3    2\n",
       "4    2\n",
       "5    2\n",
       "6    2\n",
       "Name: My_Series, dtype: int32"
      ]
     },
     "execution_count": 253,
     "metadata": {},
     "output_type": "execute_result"
    }
   ],
   "source": [
    "A.rmod(2)"
   ]
  },
  {
   "cell_type": "code",
   "execution_count": 254,
   "id": "72bef119",
   "metadata": {},
   "outputs": [
    {
     "data": {
      "text/plain": [
       "0    78\n",
       "1    75\n",
       "2    78\n",
       "3    72\n",
       "4    75\n",
       "5    75\n",
       "6    69\n",
       "Name: My_Series, dtype: int32"
      ]
     },
     "execution_count": 254,
     "metadata": {},
     "output_type": "execute_result"
    }
   ],
   "source": [
    "A.rmul(3)"
   ]
  },
  {
   "cell_type": "code",
   "execution_count": 255,
   "id": "f790d656",
   "metadata": {},
   "outputs": [
    {
     "data": {
      "text/plain": [
       "0    -754810903\n",
       "1    1180052131\n",
       "2    -754810903\n",
       "3   -1038305055\n",
       "4    1180052131\n",
       "5    1180052131\n",
       "6    -346101685\n",
       "Name: My_Series, dtype: int32"
      ]
     },
     "execution_count": 255,
     "metadata": {},
     "output_type": "execute_result"
    }
   ],
   "source": [
    "A.rpow(3)"
   ]
  },
  {
   "cell_type": "code",
   "execution_count": 256,
   "id": "5baaa3b6",
   "metadata": {},
   "outputs": [
    {
     "data": {
      "text/plain": [
       "0   -22\n",
       "1   -21\n",
       "2   -22\n",
       "3   -20\n",
       "4   -21\n",
       "5   -21\n",
       "6   -19\n",
       "Name: My_Series, dtype: int32"
      ]
     },
     "execution_count": 256,
     "metadata": {},
     "output_type": "execute_result"
    }
   ],
   "source": [
    "A.rsub(4)"
   ]
  },
  {
   "cell_type": "code",
   "execution_count": 257,
   "id": "62e75677",
   "metadata": {},
   "outputs": [
    {
     "data": {
      "text/html": [
       "<div>\n",
       "<style scoped>\n",
       "    .dataframe tbody tr th:only-of-type {\n",
       "        vertical-align: middle;\n",
       "    }\n",
       "\n",
       "    .dataframe tbody tr th {\n",
       "        vertical-align: top;\n",
       "    }\n",
       "\n",
       "    .dataframe thead th {\n",
       "        text-align: right;\n",
       "    }\n",
       "</style>\n",
       "<table border=\"1\" class=\"dataframe\">\n",
       "  <thead>\n",
       "    <tr style=\"text-align: right;\">\n",
       "      <th></th>\n",
       "      <th>index</th>\n",
       "      <th>My_Series</th>\n",
       "    </tr>\n",
       "  </thead>\n",
       "  <tbody>\n",
       "    <tr>\n",
       "      <th>0</th>\n",
       "      <td>0</td>\n",
       "      <td>26</td>\n",
       "    </tr>\n",
       "    <tr>\n",
       "      <th>1</th>\n",
       "      <td>1</td>\n",
       "      <td>25</td>\n",
       "    </tr>\n",
       "    <tr>\n",
       "      <th>2</th>\n",
       "      <td>2</td>\n",
       "      <td>26</td>\n",
       "    </tr>\n",
       "    <tr>\n",
       "      <th>3</th>\n",
       "      <td>3</td>\n",
       "      <td>24</td>\n",
       "    </tr>\n",
       "    <tr>\n",
       "      <th>4</th>\n",
       "      <td>4</td>\n",
       "      <td>25</td>\n",
       "    </tr>\n",
       "    <tr>\n",
       "      <th>5</th>\n",
       "      <td>5</td>\n",
       "      <td>25</td>\n",
       "    </tr>\n",
       "    <tr>\n",
       "      <th>6</th>\n",
       "      <td>6</td>\n",
       "      <td>23</td>\n",
       "    </tr>\n",
       "  </tbody>\n",
       "</table>\n",
       "</div>"
      ],
      "text/plain": [
       "   index  My_Series\n",
       "0      0         26\n",
       "1      1         25\n",
       "2      2         26\n",
       "3      3         24\n",
       "4      4         25\n",
       "5      5         25\n",
       "6      6         23"
      ]
     },
     "execution_count": 257,
     "metadata": {},
     "output_type": "execute_result"
    }
   ],
   "source": [
    "A.reset_index()"
   ]
  },
  {
   "cell_type": "code",
   "execution_count": 258,
   "id": "33959bc9",
   "metadata": {},
   "outputs": [
    {
     "data": {
      "text/plain": [
       "0    26\n",
       "1    25\n",
       "2    26\n",
       "3    24\n",
       "4    25\n",
       "5    25\n",
       "6    23\n",
       "Name: My_Series, dtype: int32"
      ]
     },
     "execution_count": 258,
     "metadata": {},
     "output_type": "execute_result"
    }
   ],
   "source": [
    "A.round()"
   ]
  },
  {
   "cell_type": "code",
   "execution_count": 259,
   "id": "d769c160",
   "metadata": {},
   "outputs": [
    {
     "data": {
      "text/plain": [
       "0.40406101782088427"
      ]
     },
     "execution_count": 259,
     "metadata": {},
     "output_type": "execute_result"
    }
   ],
   "source": [
    "A.sem()"
   ]
  },
  {
   "cell_type": "code",
   "execution_count": 260,
   "id": "4fe2d3c7",
   "metadata": {},
   "outputs": [
    {
     "data": {
      "text/plain": [
       "174"
      ]
     },
     "execution_count": 260,
     "metadata": {},
     "output_type": "execute_result"
    }
   ],
   "source": [
    "A.agg('sum')"
   ]
  },
  {
   "cell_type": "code",
   "execution_count": 261,
   "id": "26ee7283",
   "metadata": {},
   "outputs": [
    {
     "data": {
      "text/plain": [
       "0    26\n",
       "1    25\n",
       "2    26\n",
       "3    24\n",
       "4    25\n",
       "5    25\n",
       "6    23\n",
       "Name: My_Series, dtype: int32"
      ]
     },
     "execution_count": 261,
     "metadata": {},
     "output_type": "execute_result"
    }
   ],
   "source": [
    "A.abs()"
   ]
  },
  {
   "cell_type": "code",
   "execution_count": 262,
   "id": "d6350600",
   "metadata": {},
   "outputs": [
    {
     "data": {
      "text/plain": [
       "23"
      ]
     },
     "execution_count": 262,
     "metadata": {},
     "output_type": "execute_result"
    }
   ],
   "source": [
    "A.agg('min')"
   ]
  },
  {
   "cell_type": "code",
   "execution_count": 263,
   "id": "5c4184de",
   "metadata": {},
   "outputs": [
    {
     "data": {
      "text/plain": [
       "26"
      ]
     },
     "execution_count": 263,
     "metadata": {},
     "output_type": "execute_result"
    }
   ],
   "source": [
    "A.agg('max')"
   ]
  },
  {
   "cell_type": "code",
   "execution_count": 264,
   "id": "bd2acd1d",
   "metadata": {},
   "outputs": [
    {
     "data": {
      "text/plain": [
       "24.857142857142858"
      ]
     },
     "execution_count": 264,
     "metadata": {},
     "output_type": "execute_result"
    }
   ],
   "source": [
    "A.agg('mean')"
   ]
  },
  {
   "cell_type": "code",
   "execution_count": 265,
   "id": "9ad3533b",
   "metadata": {},
   "outputs": [
    {
     "data": {
      "text/plain": [
       "sum    174\n",
       "min     23\n",
       "max     26\n",
       "Name: My_Series, dtype: int64"
      ]
     },
     "execution_count": 265,
     "metadata": {},
     "output_type": "execute_result"
    }
   ],
   "source": [
    "A.aggregate(['sum','min','max'])"
   ]
  },
  {
   "cell_type": "code",
   "execution_count": 266,
   "id": "3562387b",
   "metadata": {},
   "outputs": [
    {
     "data": {
      "text/plain": [
       "mean      24.857143\n",
       "median    25.000000\n",
       "Name: My_Series, dtype: float64"
      ]
     },
     "execution_count": 266,
     "metadata": {},
     "output_type": "execute_result"
    }
   ],
   "source": [
    "A.aggregate(['mean','median'])"
   ]
  },
  {
   "cell_type": "code",
   "execution_count": 267,
   "id": "aef19049",
   "metadata": {},
   "outputs": [
    {
     "data": {
      "text/html": [
       "<div>\n",
       "<style scoped>\n",
       "    .dataframe tbody tr th:only-of-type {\n",
       "        vertical-align: middle;\n",
       "    }\n",
       "\n",
       "    .dataframe tbody tr th {\n",
       "        vertical-align: top;\n",
       "    }\n",
       "\n",
       "    .dataframe thead th {\n",
       "        text-align: right;\n",
       "    }\n",
       "</style>\n",
       "<table border=\"1\" class=\"dataframe\">\n",
       "  <thead>\n",
       "    <tr style=\"text-align: right;\">\n",
       "      <th></th>\n",
       "      <th>square</th>\n",
       "    </tr>\n",
       "  </thead>\n",
       "  <tbody>\n",
       "    <tr>\n",
       "      <th>0</th>\n",
       "      <td>676</td>\n",
       "    </tr>\n",
       "    <tr>\n",
       "      <th>1</th>\n",
       "      <td>625</td>\n",
       "    </tr>\n",
       "    <tr>\n",
       "      <th>2</th>\n",
       "      <td>676</td>\n",
       "    </tr>\n",
       "    <tr>\n",
       "      <th>3</th>\n",
       "      <td>576</td>\n",
       "    </tr>\n",
       "    <tr>\n",
       "      <th>4</th>\n",
       "      <td>625</td>\n",
       "    </tr>\n",
       "    <tr>\n",
       "      <th>5</th>\n",
       "      <td>625</td>\n",
       "    </tr>\n",
       "    <tr>\n",
       "      <th>6</th>\n",
       "      <td>529</td>\n",
       "    </tr>\n",
       "  </tbody>\n",
       "</table>\n",
       "</div>"
      ],
      "text/plain": [
       "   square\n",
       "0     676\n",
       "1     625\n",
       "2     676\n",
       "3     576\n",
       "4     625\n",
       "5     625\n",
       "6     529"
      ]
     },
     "execution_count": 267,
     "metadata": {},
     "output_type": "execute_result"
    }
   ],
   "source": [
    "A.transform([np.square])"
   ]
  },
  {
   "cell_type": "code",
   "execution_count": 268,
   "id": "e4e5b1d6",
   "metadata": {},
   "outputs": [
    {
     "data": {
      "text/html": [
       "<div>\n",
       "<style scoped>\n",
       "    .dataframe tbody tr th:only-of-type {\n",
       "        vertical-align: middle;\n",
       "    }\n",
       "\n",
       "    .dataframe tbody tr th {\n",
       "        vertical-align: top;\n",
       "    }\n",
       "\n",
       "    .dataframe thead th {\n",
       "        text-align: right;\n",
       "    }\n",
       "</style>\n",
       "<table border=\"1\" class=\"dataframe\">\n",
       "  <thead>\n",
       "    <tr style=\"text-align: right;\">\n",
       "      <th></th>\n",
       "      <th>square</th>\n",
       "      <th>sqrt</th>\n",
       "      <th>exp</th>\n",
       "    </tr>\n",
       "  </thead>\n",
       "  <tbody>\n",
       "    <tr>\n",
       "      <th>0</th>\n",
       "      <td>676</td>\n",
       "      <td>5.099020</td>\n",
       "      <td>1.957296e+11</td>\n",
       "    </tr>\n",
       "    <tr>\n",
       "      <th>1</th>\n",
       "      <td>625</td>\n",
       "      <td>5.000000</td>\n",
       "      <td>7.200490e+10</td>\n",
       "    </tr>\n",
       "    <tr>\n",
       "      <th>2</th>\n",
       "      <td>676</td>\n",
       "      <td>5.099020</td>\n",
       "      <td>1.957296e+11</td>\n",
       "    </tr>\n",
       "    <tr>\n",
       "      <th>3</th>\n",
       "      <td>576</td>\n",
       "      <td>4.898979</td>\n",
       "      <td>2.648912e+10</td>\n",
       "    </tr>\n",
       "    <tr>\n",
       "      <th>4</th>\n",
       "      <td>625</td>\n",
       "      <td>5.000000</td>\n",
       "      <td>7.200490e+10</td>\n",
       "    </tr>\n",
       "    <tr>\n",
       "      <th>5</th>\n",
       "      <td>625</td>\n",
       "      <td>5.000000</td>\n",
       "      <td>7.200490e+10</td>\n",
       "    </tr>\n",
       "    <tr>\n",
       "      <th>6</th>\n",
       "      <td>529</td>\n",
       "      <td>4.795832</td>\n",
       "      <td>9.744803e+09</td>\n",
       "    </tr>\n",
       "  </tbody>\n",
       "</table>\n",
       "</div>"
      ],
      "text/plain": [
       "   square      sqrt           exp\n",
       "0     676  5.099020  1.957296e+11\n",
       "1     625  5.000000  7.200490e+10\n",
       "2     676  5.099020  1.957296e+11\n",
       "3     576  4.898979  2.648912e+10\n",
       "4     625  5.000000  7.200490e+10\n",
       "5     625  5.000000  7.200490e+10\n",
       "6     529  4.795832  9.744803e+09"
      ]
     },
     "execution_count": 268,
     "metadata": {},
     "output_type": "execute_result"
    }
   ],
   "source": [
    "A.transform([np.square,np.sqrt,np.exp])"
   ]
  },
  {
   "cell_type": "code",
   "execution_count": 269,
   "id": "17c921f3",
   "metadata": {},
   "outputs": [
    {
     "data": {
      "text/plain": [
       "0    26.0\n",
       "1    25.0\n",
       "2    26.0\n",
       "3     NaN\n",
       "4    25.0\n",
       "5    25.0\n",
       "6     NaN\n",
       "Name: My_Series, dtype: float64"
      ]
     },
     "execution_count": 269,
     "metadata": {},
     "output_type": "execute_result"
    }
   ],
   "source": [
    "A.where(A>24)"
   ]
  },
  {
   "cell_type": "code",
   "execution_count": 270,
   "id": "49c3f1d4",
   "metadata": {},
   "outputs": [
    {
     "data": {
      "text/html": [
       "<div>\n",
       "<style scoped>\n",
       "    .dataframe tbody tr th:only-of-type {\n",
       "        vertical-align: middle;\n",
       "    }\n",
       "\n",
       "    .dataframe tbody tr th {\n",
       "        vertical-align: top;\n",
       "    }\n",
       "\n",
       "    .dataframe thead th {\n",
       "        text-align: right;\n",
       "    }\n",
       "</style>\n",
       "<table border=\"1\" class=\"dataframe\">\n",
       "  <thead>\n",
       "    <tr style=\"text-align: right;\">\n",
       "      <th></th>\n",
       "      <th>self</th>\n",
       "      <th>other</th>\n",
       "    </tr>\n",
       "  </thead>\n",
       "  <tbody>\n",
       "    <tr>\n",
       "      <th>0</th>\n",
       "      <td>6</td>\n",
       "      <td>2</td>\n",
       "    </tr>\n",
       "    <tr>\n",
       "      <th>1</th>\n",
       "      <td>7</td>\n",
       "      <td>3</td>\n",
       "    </tr>\n",
       "    <tr>\n",
       "      <th>2</th>\n",
       "      <td>8</td>\n",
       "      <td>4</td>\n",
       "    </tr>\n",
       "  </tbody>\n",
       "</table>\n",
       "</div>"
      ],
      "text/plain": [
       "   self  other\n",
       "0     6      2\n",
       "1     7      3\n",
       "2     8      4"
      ]
     },
     "execution_count": 270,
     "metadata": {},
     "output_type": "execute_result"
    }
   ],
   "source": [
    "A = pd.Series([2,3,4])\n",
    "B = pd.Series([6,7,8])\n",
    "B.compare(A)"
   ]
  },
  {
   "cell_type": "markdown",
   "id": "4dc3db3e",
   "metadata": {},
   "source": [
    "# ADDING PREFIX SUFFIX IN COLUMN NAME"
   ]
  },
  {
   "cell_type": "code",
   "execution_count": 271,
   "id": "07a02aaa",
   "metadata": {},
   "outputs": [
    {
     "data": {
      "text/plain": [
       "0    2\n",
       "1    3\n",
       "2    4\n",
       "dtype: int64"
      ]
     },
     "execution_count": 271,
     "metadata": {},
     "output_type": "execute_result"
    }
   ],
   "source": [
    "A"
   ]
  },
  {
   "cell_type": "code",
   "execution_count": 272,
   "id": "1a4f7747",
   "metadata": {},
   "outputs": [
    {
     "data": {
      "text/plain": [
       "Name0    2\n",
       "Name1    3\n",
       "Name2    4\n",
       "dtype: int64"
      ]
     },
     "execution_count": 272,
     "metadata": {},
     "output_type": "execute_result"
    }
   ],
   "source": [
    "A.add_prefix('Name')"
   ]
  },
  {
   "cell_type": "code",
   "execution_count": 273,
   "id": "2eadcb2b",
   "metadata": {},
   "outputs": [
    {
     "data": {
      "text/plain": [
       "0_Name    2\n",
       "1_Name    3\n",
       "2_Name    4\n",
       "dtype: int64"
      ]
     },
     "execution_count": 273,
     "metadata": {},
     "output_type": "execute_result"
    }
   ],
   "source": [
    "A.add_suffix('_Name')"
   ]
  },
  {
   "cell_type": "markdown",
   "id": "dee4406d",
   "metadata": {},
   "source": [
    "# RENAME ROW"
   ]
  },
  {
   "cell_type": "code",
   "execution_count": 274,
   "id": "458699c4",
   "metadata": {},
   "outputs": [
    {
     "data": {
      "text/plain": [
       "a    2\n",
       "b    3\n",
       "c    4\n",
       "dtype: int64"
      ]
     },
     "execution_count": 274,
     "metadata": {},
     "output_type": "execute_result"
    }
   ],
   "source": [
    "X = {\n",
    "    0 : 'a',\n",
    "    1 : 'b',\n",
    "    2 : 'c',\n",
    "    3 : 'd',\n",
    "    4 : 'e',\n",
    "    5 : 'f',\n",
    "    6 : 'g'\n",
    "}\n",
    "A.rename(index=X)"
   ]
  },
  {
   "cell_type": "code",
   "execution_count": 275,
   "id": "a1669593",
   "metadata": {},
   "outputs": [
    {
     "data": {
      "text/plain": [
       "0    2\n",
       "1    3\n",
       "2    4\n",
       "dtype: int64"
      ]
     },
     "execution_count": 275,
     "metadata": {},
     "output_type": "execute_result"
    }
   ],
   "source": [
    "A.reindex_like(B)"
   ]
  },
  {
   "cell_type": "code",
   "execution_count": 276,
   "id": "6ea772ed",
   "metadata": {},
   "outputs": [
    {
     "data": {
      "text/plain": [
       "ROW1\n",
       "0    2\n",
       "1    3\n",
       "2    4\n",
       "dtype: int64"
      ]
     },
     "execution_count": 276,
     "metadata": {},
     "output_type": "execute_result"
    }
   ],
   "source": [
    "A.rename_axis('ROW1',inplace=True)\n",
    "A"
   ]
  },
  {
   "cell_type": "code",
   "execution_count": 277,
   "id": "cab6b09c",
   "metadata": {},
   "outputs": [
    {
     "data": {
      "text/plain": [
       "ROW1\n",
       "a    2\n",
       "b    3\n",
       "c    4\n",
       "dtype: int64"
      ]
     },
     "execution_count": 277,
     "metadata": {},
     "output_type": "execute_result"
    }
   ],
   "source": [
    "A.rename(X, axis='index')"
   ]
  },
  {
   "cell_type": "code",
   "execution_count": 278,
   "id": "9b280d84",
   "metadata": {},
   "outputs": [
    {
     "data": {
      "text/plain": [
       "ROW1\n",
       "1    3.0\n",
       "2    4.0\n",
       "0    2.0\n",
       "4    NaN\n",
       "e    NaN\n",
       "dtype: float64"
      ]
     },
     "execution_count": 278,
     "metadata": {},
     "output_type": "execute_result"
    }
   ],
   "source": [
    "A.reindex([1,2,0,4,'e'])"
   ]
  },
  {
   "cell_type": "code",
   "execution_count": 279,
   "id": "afc47ccb",
   "metadata": {},
   "outputs": [
    {
     "data": {
      "text/plain": [
       "ROW1\n",
       "0    2\n",
       "1    3\n",
       "2    4\n",
       "Name: Int_Series, dtype: int64"
      ]
     },
     "execution_count": 279,
     "metadata": {},
     "output_type": "execute_result"
    }
   ],
   "source": [
    "A.rename('Int_Series')"
   ]
  },
  {
   "cell_type": "markdown",
   "id": "05ee14c6",
   "metadata": {},
   "source": [
    "# HANDLING MISSING VALUES AND NULL DATA"
   ]
  },
  {
   "cell_type": "code",
   "execution_count": 280,
   "id": "516c716c",
   "metadata": {},
   "outputs": [
    {
     "data": {
      "text/plain": [
       "0     1.0\n",
       "1     2.0\n",
       "2     NaN\n",
       "3     NaN\n",
       "4     NaN\n",
       "5     NaN\n",
       "6     NaN\n",
       "7     5.0\n",
       "8     6.0\n",
       "9     7.0\n",
       "10    NaN\n",
       "11    NaN\n",
       "12    NaN\n",
       "13    NaN\n",
       "14    NaN\n",
       "dtype: float64"
      ]
     },
     "execution_count": 280,
     "metadata": {},
     "output_type": "execute_result"
    }
   ],
   "source": [
    "A = [1,2,None,None,None,None,None,5,6,7,None,None,None,None,None]\n",
    "B = pd.Series(A)\n",
    "B"
   ]
  },
  {
   "cell_type": "code",
   "execution_count": 281,
   "id": "4a94fb02",
   "metadata": {},
   "outputs": [
    {
     "data": {
      "text/plain": [
       "0      True\n",
       "1      True\n",
       "2     False\n",
       "3     False\n",
       "4     False\n",
       "5     False\n",
       "6     False\n",
       "7      True\n",
       "8      True\n",
       "9      True\n",
       "10    False\n",
       "11    False\n",
       "12    False\n",
       "13    False\n",
       "14    False\n",
       "dtype: bool"
      ]
     },
     "execution_count": 281,
     "metadata": {},
     "output_type": "execute_result"
    }
   ],
   "source": [
    "B.notna()"
   ]
  },
  {
   "cell_type": "code",
   "execution_count": 282,
   "id": "20ef77fb",
   "metadata": {},
   "outputs": [
    {
     "data": {
      "text/plain": [
       "5"
      ]
     },
     "execution_count": 282,
     "metadata": {},
     "output_type": "execute_result"
    }
   ],
   "source": [
    "B.notna().sum()"
   ]
  },
  {
   "cell_type": "code",
   "execution_count": 283,
   "id": "8ca3994e",
   "metadata": {},
   "outputs": [
    {
     "data": {
      "text/plain": [
       "0      True\n",
       "1      True\n",
       "2     False\n",
       "3     False\n",
       "4     False\n",
       "5     False\n",
       "6     False\n",
       "7      True\n",
       "8      True\n",
       "9      True\n",
       "10    False\n",
       "11    False\n",
       "12    False\n",
       "13    False\n",
       "14    False\n",
       "dtype: bool"
      ]
     },
     "execution_count": 283,
     "metadata": {},
     "output_type": "execute_result"
    }
   ],
   "source": [
    "B.notnull()"
   ]
  },
  {
   "cell_type": "code",
   "execution_count": 284,
   "id": "bf7eb90f",
   "metadata": {},
   "outputs": [
    {
     "data": {
      "text/plain": [
       "5"
      ]
     },
     "execution_count": 284,
     "metadata": {},
     "output_type": "execute_result"
    }
   ],
   "source": [
    "B.notnull().sum()"
   ]
  },
  {
   "cell_type": "code",
   "execution_count": 285,
   "id": "e05d3e2c",
   "metadata": {},
   "outputs": [
    {
     "data": {
      "text/plain": [
       "0     False\n",
       "1     False\n",
       "2      True\n",
       "3      True\n",
       "4      True\n",
       "5      True\n",
       "6      True\n",
       "7     False\n",
       "8     False\n",
       "9     False\n",
       "10     True\n",
       "11     True\n",
       "12     True\n",
       "13     True\n",
       "14     True\n",
       "dtype: bool"
      ]
     },
     "execution_count": 285,
     "metadata": {},
     "output_type": "execute_result"
    }
   ],
   "source": [
    "B.isna()"
   ]
  },
  {
   "cell_type": "code",
   "execution_count": 286,
   "id": "f9ff9e9c",
   "metadata": {},
   "outputs": [
    {
     "data": {
      "text/plain": [
       "10"
      ]
     },
     "execution_count": 286,
     "metadata": {},
     "output_type": "execute_result"
    }
   ],
   "source": [
    "B.isna().sum()"
   ]
  },
  {
   "cell_type": "code",
   "execution_count": 287,
   "id": "00a4a430",
   "metadata": {},
   "outputs": [
    {
     "data": {
      "text/plain": [
       "0     False\n",
       "1     False\n",
       "2      True\n",
       "3      True\n",
       "4      True\n",
       "5      True\n",
       "6      True\n",
       "7     False\n",
       "8     False\n",
       "9     False\n",
       "10     True\n",
       "11     True\n",
       "12     True\n",
       "13     True\n",
       "14     True\n",
       "dtype: bool"
      ]
     },
     "execution_count": 287,
     "metadata": {},
     "output_type": "execute_result"
    }
   ],
   "source": [
    "B.isnull()"
   ]
  },
  {
   "cell_type": "code",
   "execution_count": 288,
   "id": "65fca3b9",
   "metadata": {},
   "outputs": [
    {
     "data": {
      "text/plain": [
       "10"
      ]
     },
     "execution_count": 288,
     "metadata": {},
     "output_type": "execute_result"
    }
   ],
   "source": [
    "B.isnull().sum()"
   ]
  },
  {
   "cell_type": "code",
   "execution_count": 289,
   "id": "a76890d4",
   "metadata": {},
   "outputs": [
    {
     "data": {
      "text/plain": [
       "True"
      ]
     },
     "execution_count": 289,
     "metadata": {},
     "output_type": "execute_result"
    }
   ],
   "source": [
    "B.hasnans"
   ]
  },
  {
   "cell_type": "code",
   "execution_count": 290,
   "id": "9ef3d95a",
   "metadata": {},
   "outputs": [
    {
     "data": {
      "text/plain": [
       "False"
      ]
     },
     "execution_count": 290,
     "metadata": {},
     "output_type": "execute_result"
    }
   ],
   "source": [
    "B.empty"
   ]
  },
  {
   "cell_type": "code",
   "execution_count": 291,
   "id": "ad912d0f",
   "metadata": {},
   "outputs": [
    {
     "data": {
      "text/plain": [
       "5"
      ]
     },
     "execution_count": 291,
     "metadata": {},
     "output_type": "execute_result"
    }
   ],
   "source": [
    "B.count()"
   ]
  },
  {
   "cell_type": "code",
   "execution_count": 292,
   "id": "bd9a56cf",
   "metadata": {},
   "outputs": [
    {
     "data": {
      "text/plain": [
       "15"
      ]
     },
     "execution_count": 292,
     "metadata": {},
     "output_type": "execute_result"
    }
   ],
   "source": [
    "B.size"
   ]
  },
  {
   "cell_type": "code",
   "execution_count": 293,
   "id": "185c2d1a",
   "metadata": {},
   "outputs": [
    {
     "data": {
      "text/plain": [
       "10"
      ]
     },
     "execution_count": 293,
     "metadata": {},
     "output_type": "execute_result"
    }
   ],
   "source": [
    "null = B.size - B.count()\n",
    "null"
   ]
  },
  {
   "cell_type": "code",
   "execution_count": 294,
   "id": "76e21830",
   "metadata": {},
   "outputs": [
    {
     "data": {
      "text/plain": [
       "0     1.0\n",
       "1     2.0\n",
       "2     5.0\n",
       "3     5.0\n",
       "4     5.0\n",
       "5     5.0\n",
       "6     5.0\n",
       "7     5.0\n",
       "8     6.0\n",
       "9     7.0\n",
       "10    NaN\n",
       "11    NaN\n",
       "12    NaN\n",
       "13    NaN\n",
       "14    NaN\n",
       "dtype: float64"
      ]
     },
     "execution_count": 294,
     "metadata": {},
     "output_type": "execute_result"
    }
   ],
   "source": [
    "B.backfill()"
   ]
  },
  {
   "cell_type": "code",
   "execution_count": 295,
   "id": "030cd013",
   "metadata": {},
   "outputs": [
    {
     "data": {
      "text/plain": [
       "0     1.0\n",
       "1     2.0\n",
       "2     5.0\n",
       "3     5.0\n",
       "4     5.0\n",
       "5     5.0\n",
       "6     5.0\n",
       "7     5.0\n",
       "8     6.0\n",
       "9     7.0\n",
       "10    NaN\n",
       "11    NaN\n",
       "12    NaN\n",
       "13    NaN\n",
       "14    NaN\n",
       "dtype: float64"
      ]
     },
     "execution_count": 295,
     "metadata": {},
     "output_type": "execute_result"
    }
   ],
   "source": [
    "B.bfill()"
   ]
  },
  {
   "cell_type": "code",
   "execution_count": 296,
   "id": "5d53b5f4",
   "metadata": {},
   "outputs": [
    {
     "data": {
      "text/plain": [
       "0     1.0\n",
       "1     2.0\n",
       "2     2.0\n",
       "3     2.0\n",
       "4     2.0\n",
       "5     2.0\n",
       "6     2.0\n",
       "7     5.0\n",
       "8     6.0\n",
       "9     7.0\n",
       "10    7.0\n",
       "11    7.0\n",
       "12    7.0\n",
       "13    7.0\n",
       "14    7.0\n",
       "dtype: float64"
      ]
     },
     "execution_count": 296,
     "metadata": {},
     "output_type": "execute_result"
    }
   ],
   "source": [
    "B.pad()"
   ]
  },
  {
   "cell_type": "code",
   "execution_count": 297,
   "id": "08e0e37f",
   "metadata": {},
   "outputs": [
    {
     "data": {
      "text/plain": [
       "0     1.0\n",
       "1     2.0\n",
       "2     2.0\n",
       "3     2.0\n",
       "4     2.0\n",
       "5     2.0\n",
       "6     2.0\n",
       "7     5.0\n",
       "8     6.0\n",
       "9     7.0\n",
       "10    7.0\n",
       "11    7.0\n",
       "12    7.0\n",
       "13    7.0\n",
       "14    7.0\n",
       "dtype: float64"
      ]
     },
     "execution_count": 297,
     "metadata": {},
     "output_type": "execute_result"
    }
   ],
   "source": [
    "B.ffill()"
   ]
  },
  {
   "cell_type": "code",
   "execution_count": 298,
   "id": "735ccf61",
   "metadata": {},
   "outputs": [
    {
     "data": {
      "text/plain": [
       "0     1.0\n",
       "1     2.0\n",
       "2     2.0\n",
       "3     2.0\n",
       "4     2.0\n",
       "5     2.0\n",
       "6     NaN\n",
       "7     5.0\n",
       "8     6.0\n",
       "9     7.0\n",
       "10    7.0\n",
       "11    7.0\n",
       "12    7.0\n",
       "13    7.0\n",
       "14    NaN\n",
       "dtype: float64"
      ]
     },
     "execution_count": 298,
     "metadata": {},
     "output_type": "execute_result"
    }
   ],
   "source": [
    "B.fillna(method='ffill',limit=4)"
   ]
  },
  {
   "cell_type": "code",
   "execution_count": 299,
   "id": "15f1dbad",
   "metadata": {},
   "outputs": [
    {
     "data": {
      "text/plain": [
       "0      1.0\n",
       "1      2.0\n",
       "2     XXXX\n",
       "3     XXXX\n",
       "4     XXXX\n",
       "5     XXXX\n",
       "6     XXXX\n",
       "7      5.0\n",
       "8      6.0\n",
       "9      7.0\n",
       "10    XXXX\n",
       "11    XXXX\n",
       "12    XXXX\n",
       "13    XXXX\n",
       "14    XXXX\n",
       "dtype: object"
      ]
     },
     "execution_count": 299,
     "metadata": {},
     "output_type": "execute_result"
    }
   ],
   "source": [
    "B.fillna('XXXX')"
   ]
  },
  {
   "cell_type": "code",
   "execution_count": 300,
   "id": "6da06d06",
   "metadata": {},
   "outputs": [
    {
     "data": {
      "text/plain": [
       "0    1.0\n",
       "1    2.0\n",
       "7    5.0\n",
       "8    6.0\n",
       "9    7.0\n",
       "dtype: float64"
      ]
     },
     "execution_count": 300,
     "metadata": {},
     "output_type": "execute_result"
    }
   ],
   "source": [
    "B.dropna()"
   ]
  },
  {
   "cell_type": "code",
   "execution_count": 301,
   "id": "faafb777",
   "metadata": {},
   "outputs": [
    {
     "data": {
      "text/plain": [
       "0    1.0\n",
       "1    2.0\n",
       "7    5.0\n",
       "8    6.0\n",
       "9    7.0\n",
       "dtype: float64"
      ]
     },
     "execution_count": 301,
     "metadata": {},
     "output_type": "execute_result"
    }
   ],
   "source": [
    "B.drop(labels=[2,3,4,5,6,10,11,12,13,14])"
   ]
  },
  {
   "cell_type": "code",
   "execution_count": 302,
   "id": "7a00458f",
   "metadata": {},
   "outputs": [
    {
     "data": {
      "text/plain": [
       "4.2"
      ]
     },
     "execution_count": 302,
     "metadata": {},
     "output_type": "execute_result"
    }
   ],
   "source": [
    "m = B.mean()\n",
    "m"
   ]
  },
  {
   "cell_type": "code",
   "execution_count": 303,
   "id": "244d2c86",
   "metadata": {},
   "outputs": [
    {
     "data": {
      "text/plain": [
       "0     1.0\n",
       "1     2.0\n",
       "2     4.2\n",
       "3     4.2\n",
       "4     4.2\n",
       "5     4.2\n",
       "6     4.2\n",
       "7     5.0\n",
       "8     6.0\n",
       "9     7.0\n",
       "10    4.2\n",
       "11    4.2\n",
       "12    4.2\n",
       "13    4.2\n",
       "14    4.2\n",
       "dtype: float64"
      ]
     },
     "execution_count": 303,
     "metadata": {},
     "output_type": "execute_result"
    }
   ],
   "source": [
    "B.fillna(m,inplace=True)\n",
    "B"
   ]
  },
  {
   "cell_type": "markdown",
   "id": "25b4d11e",
   "metadata": {},
   "source": [
    "# REPLACING DATA WITH OTHER DATA"
   ]
  },
  {
   "cell_type": "code",
   "execution_count": 304,
   "id": "f2afda04",
   "metadata": {},
   "outputs": [
    {
     "data": {
      "text/plain": [
       "0      1.0\n",
       "1      2.0\n",
       "2     10.0\n",
       "3     10.0\n",
       "4     10.0\n",
       "5     10.0\n",
       "6     10.0\n",
       "7      5.0\n",
       "8      6.0\n",
       "9      7.0\n",
       "10    10.0\n",
       "11    10.0\n",
       "12    10.0\n",
       "13    10.0\n",
       "14    10.0\n",
       "dtype: float64"
      ]
     },
     "execution_count": 304,
     "metadata": {},
     "output_type": "execute_result"
    }
   ],
   "source": [
    "B.replace(4.2,10)"
   ]
  },
  {
   "cell_type": "code",
   "execution_count": 305,
   "id": "87d3b049",
   "metadata": {},
   "outputs": [
    {
     "data": {
      "text/plain": [
       "0      1.0\n",
       "1      2.0\n",
       "2     10.0\n",
       "3     10.0\n",
       "4     10.0\n",
       "5     10.0\n",
       "6     10.0\n",
       "7      5.0\n",
       "8     10.0\n",
       "9      7.0\n",
       "10    10.0\n",
       "11    10.0\n",
       "12    10.0\n",
       "13    10.0\n",
       "14    10.0\n",
       "dtype: float64"
      ]
     },
     "execution_count": 305,
     "metadata": {},
     "output_type": "execute_result"
    }
   ],
   "source": [
    "B.replace([4.2,6],10)"
   ]
  },
  {
   "cell_type": "code",
   "execution_count": 306,
   "id": "717669b9",
   "metadata": {},
   "outputs": [
    {
     "data": {
      "text/plain": [
       "0     10.0\n",
       "1     20.0\n",
       "2     40.0\n",
       "3     40.0\n",
       "4     40.0\n",
       "5     40.0\n",
       "6     40.0\n",
       "7     50.0\n",
       "8     60.0\n",
       "9     70.0\n",
       "10    40.0\n",
       "11    40.0\n",
       "12    40.0\n",
       "13    40.0\n",
       "14    40.0\n",
       "dtype: float64"
      ]
     },
     "execution_count": 306,
     "metadata": {},
     "output_type": "execute_result"
    }
   ],
   "source": [
    "B.replace({1:10,2:20,3:30,4.2:40,5:50,6:60,7:70})"
   ]
  },
  {
   "cell_type": "markdown",
   "id": "47a0d7c2",
   "metadata": {},
   "source": [
    "# HANDLING DUPLICATE DATA"
   ]
  },
  {
   "cell_type": "code",
   "execution_count": 307,
   "id": "d0bc9b5a",
   "metadata": {},
   "outputs": [
    {
     "data": {
      "text/plain": [
       "0    3\n",
       "1    3\n",
       "2    4\n",
       "3    5\n",
       "4    5\n",
       "5    4\n",
       "6    4\n",
       "7    5\n",
       "8    3\n",
       "9    2\n",
       "dtype: int64"
      ]
     },
     "execution_count": 307,
     "metadata": {},
     "output_type": "execute_result"
    }
   ],
   "source": [
    "A = pd.Series([3,3,4,5,5,4,4,5,3,2])\n",
    "A"
   ]
  },
  {
   "cell_type": "code",
   "execution_count": 308,
   "id": "bbabab7c",
   "metadata": {},
   "outputs": [
    {
     "data": {
      "text/plain": [
       "0    False\n",
       "1     True\n",
       "2    False\n",
       "3    False\n",
       "4     True\n",
       "5     True\n",
       "6     True\n",
       "7     True\n",
       "8     True\n",
       "9    False\n",
       "dtype: bool"
      ]
     },
     "execution_count": 308,
     "metadata": {},
     "output_type": "execute_result"
    }
   ],
   "source": [
    "A.duplicated()"
   ]
  },
  {
   "cell_type": "code",
   "execution_count": 309,
   "id": "3d94275b",
   "metadata": {},
   "outputs": [
    {
     "data": {
      "text/plain": [
       "6"
      ]
     },
     "execution_count": 309,
     "metadata": {},
     "output_type": "execute_result"
    }
   ],
   "source": [
    "A.duplicated().sum()"
   ]
  },
  {
   "cell_type": "code",
   "execution_count": 310,
   "id": "5f126e79",
   "metadata": {},
   "outputs": [
    {
     "data": {
      "text/plain": [
       "0    3\n",
       "2    4\n",
       "3    5\n",
       "9    2\n",
       "dtype: int64"
      ]
     },
     "execution_count": 310,
     "metadata": {},
     "output_type": "execute_result"
    }
   ],
   "source": [
    "A.drop_duplicates()"
   ]
  },
  {
   "cell_type": "markdown",
   "id": "fec78d65",
   "metadata": {},
   "source": [
    "# UNIQUE VALUES"
   ]
  },
  {
   "cell_type": "code",
   "execution_count": 311,
   "id": "fa7f9abe",
   "metadata": {},
   "outputs": [
    {
     "data": {
      "text/plain": [
       "False"
      ]
     },
     "execution_count": 311,
     "metadata": {},
     "output_type": "execute_result"
    }
   ],
   "source": [
    "A.is_unique"
   ]
  },
  {
   "cell_type": "code",
   "execution_count": 312,
   "id": "9229fd72",
   "metadata": {},
   "outputs": [
    {
     "data": {
      "text/plain": [
       "4"
      ]
     },
     "execution_count": 312,
     "metadata": {},
     "output_type": "execute_result"
    }
   ],
   "source": [
    "A.nunique()"
   ]
  },
  {
   "cell_type": "code",
   "execution_count": 313,
   "id": "0b175adc",
   "metadata": {},
   "outputs": [
    {
     "data": {
      "text/plain": [
       "0         NaN\n",
       "1    0.000000\n",
       "2    0.333333\n",
       "3    0.250000\n",
       "4    0.000000\n",
       "5   -0.200000\n",
       "6    0.000000\n",
       "7    0.250000\n",
       "8   -0.400000\n",
       "9   -0.333333\n",
       "dtype: float64"
      ]
     },
     "execution_count": 313,
     "metadata": {},
     "output_type": "execute_result"
    }
   ],
   "source": [
    "A.pct_change()"
   ]
  },
  {
   "cell_type": "code",
   "execution_count": 314,
   "id": "2fbc8703",
   "metadata": {},
   "outputs": [
    {
     "data": {
      "text/plain": [
       "array([3, 4, 5, 2], dtype=int64)"
      ]
     },
     "execution_count": 314,
     "metadata": {},
     "output_type": "execute_result"
    }
   ],
   "source": [
    "A.unique()"
   ]
  },
  {
   "cell_type": "markdown",
   "id": "e796a7d1",
   "metadata": {},
   "source": [
    "# VALUE OCCURANCE COUNTING"
   ]
  },
  {
   "cell_type": "code",
   "execution_count": 315,
   "id": "5b661909",
   "metadata": {},
   "outputs": [
    {
     "data": {
      "text/plain": [
       "0    3\n",
       "1    3\n",
       "2    4\n",
       "3    5\n",
       "4    5\n",
       "5    4\n",
       "6    4\n",
       "7    5\n",
       "8    3\n",
       "9    2\n",
       "dtype: int64"
      ]
     },
     "execution_count": 315,
     "metadata": {},
     "output_type": "execute_result"
    }
   ],
   "source": [
    "A"
   ]
  },
  {
   "cell_type": "code",
   "execution_count": 316,
   "id": "4b3295ca",
   "metadata": {},
   "outputs": [
    {
     "data": {
      "text/plain": [
       "3    3\n",
       "4    3\n",
       "5    3\n",
       "2    1\n",
       "dtype: int64"
      ]
     },
     "execution_count": 316,
     "metadata": {},
     "output_type": "execute_result"
    }
   ],
   "source": [
    "A.value_counts()"
   ]
  },
  {
   "cell_type": "markdown",
   "id": "4c221e7d",
   "metadata": {},
   "source": [
    "# PERFORMING OPERATIONS USING APPLY"
   ]
  },
  {
   "cell_type": "code",
   "execution_count": 317,
   "id": "e2b225f4",
   "metadata": {},
   "outputs": [
    {
     "data": {
      "text/plain": [
       "0    3\n",
       "1    3\n",
       "2    4\n",
       "3    5\n",
       "4    6\n",
       "5    7\n",
       "dtype: int64"
      ]
     },
     "execution_count": 317,
     "metadata": {},
     "output_type": "execute_result"
    }
   ],
   "source": [
    "A = pd.Series([3,3,4,5,6,7])\n",
    "A"
   ]
  },
  {
   "cell_type": "code",
   "execution_count": 318,
   "id": "b0a9569a",
   "metadata": {},
   "outputs": [
    {
     "data": {
      "text/plain": [
       "0    30\n",
       "1    30\n",
       "2    40\n",
       "3    50\n",
       "4    60\n",
       "5    70\n",
       "dtype: int64"
      ]
     },
     "execution_count": 318,
     "metadata": {},
     "output_type": "execute_result"
    }
   ],
   "source": [
    "A.apply(lambda X : X*10)"
   ]
  },
  {
   "cell_type": "code",
   "execution_count": 319,
   "id": "e2e75dfb",
   "metadata": {},
   "outputs": [
    {
     "data": {
      "text/plain": [
       "0      hitesh\n",
       "1    vishvjit\n",
       "2        vraj\n",
       "3        ravi\n",
       "4      yagnik\n",
       "dtype: object"
      ]
     },
     "execution_count": 319,
     "metadata": {},
     "output_type": "execute_result"
    }
   ],
   "source": [
    "A = pd.Series([\"hitesh\",'vishvjit','vraj','ravi','yagnik'])\n",
    "A"
   ]
  },
  {
   "cell_type": "code",
   "execution_count": 320,
   "id": "07d2e512",
   "metadata": {},
   "outputs": [
    {
     "data": {
      "text/plain": [
       "0      HITESH\n",
       "1    VISHVJIT\n",
       "2        VRAJ\n",
       "3        RAVI\n",
       "4      YAGNIK\n",
       "dtype: object"
      ]
     },
     "execution_count": 320,
     "metadata": {},
     "output_type": "execute_result"
    }
   ],
   "source": [
    "A.apply(lambda X : X.upper())"
   ]
  },
  {
   "cell_type": "code",
   "execution_count": 321,
   "id": "2b8a4d6a",
   "metadata": {},
   "outputs": [
    {
     "data": {
      "text/plain": [
       "0      Hitesh\n",
       "1    Vishvjit\n",
       "2        Vraj\n",
       "3        Ravi\n",
       "4      Yagnik\n",
       "dtype: object"
      ]
     },
     "execution_count": 321,
     "metadata": {},
     "output_type": "execute_result"
    }
   ],
   "source": [
    "A.apply(lambda X : X.title())"
   ]
  },
  {
   "cell_type": "markdown",
   "id": "cdd13896",
   "metadata": {},
   "source": [
    "# FILTERING DATA"
   ]
  },
  {
   "cell_type": "code",
   "execution_count": 322,
   "id": "17d58779",
   "metadata": {},
   "outputs": [
    {
     "data": {
      "text/plain": [
       "one        hitesh\n",
       "two      vishvjit\n",
       "three        vraj\n",
       "four         ravi\n",
       "five       yagnik\n",
       "dtype: object"
      ]
     },
     "execution_count": 322,
     "metadata": {},
     "output_type": "execute_result"
    }
   ],
   "source": [
    "A = pd.Series([\"hitesh\",'vishvjit','vraj','ravi','yagnik'],index=['one','two','three','four','five'])\n",
    "A"
   ]
  },
  {
   "cell_type": "code",
   "execution_count": 323,
   "id": "90348ec9",
   "metadata": {},
   "outputs": [
    {
     "data": {
      "text/plain": [
       "one      hitesh\n",
       "three      vraj\n",
       "dtype: object"
      ]
     },
     "execution_count": 323,
     "metadata": {},
     "output_type": "execute_result"
    }
   ],
   "source": [
    "# select Rows by name\n",
    "A.filter(items=['one', 'three'])"
   ]
  },
  {
   "cell_type": "code",
   "execution_count": 324,
   "id": "30d74660",
   "metadata": {},
   "outputs": [
    {
     "data": {
      "text/plain": [
       "one      hitesh\n",
       "three      vraj\n",
       "five     yagnik\n",
       "dtype: object"
      ]
     },
     "execution_count": 324,
     "metadata": {},
     "output_type": "execute_result"
    }
   ],
   "source": [
    "# select Rows by regular expression\n",
    "A.filter(regex='e$', axis=0)"
   ]
  },
  {
   "cell_type": "code",
   "execution_count": 325,
   "id": "cab1cfb2",
   "metadata": {},
   "outputs": [
    {
     "data": {
      "text/plain": [
       "four    ravi\n",
       "dtype: object"
      ]
     },
     "execution_count": 325,
     "metadata": {},
     "output_type": "execute_result"
    }
   ],
   "source": [
    "# select rows containing 'our'\n",
    "A.filter(like='our', axis=0)"
   ]
  },
  {
   "cell_type": "markdown",
   "id": "f12cf52f",
   "metadata": {},
   "source": [
    "# USING GROUPBY "
   ]
  },
  {
   "cell_type": "code",
   "execution_count": 326,
   "id": "1d61bd10",
   "metadata": {},
   "outputs": [
    {
     "data": {
      "text/plain": [
       "Falcon    390\n",
       "Falcon    350\n",
       "Parrot     30\n",
       "Parrot     20\n",
       "Name: Max Speed, dtype: int64"
      ]
     },
     "execution_count": 326,
     "metadata": {},
     "output_type": "execute_result"
    }
   ],
   "source": [
    "ser = pd.Series([390, 350, 30, 20],index=['Falcon', 'Falcon', 'Parrot', 'Parrot'], name=\"Max Speed\")\n",
    "ser"
   ]
  },
  {
   "cell_type": "code",
   "execution_count": 327,
   "id": "cda3de8e",
   "metadata": {},
   "outputs": [
    {
     "data": {
      "text/plain": [
       "a    210.0\n",
       "b    185.0\n",
       "Name: Max Speed, dtype: float64"
      ]
     },
     "execution_count": 327,
     "metadata": {},
     "output_type": "execute_result"
    }
   ],
   "source": [
    "ser.groupby([\"a\", \"b\", \"a\", \"b\"]).mean()"
   ]
  },
  {
   "cell_type": "code",
   "execution_count": 328,
   "id": "ca795db8",
   "metadata": {},
   "outputs": [
    {
     "data": {
      "text/plain": [
       "Falcon    370.0\n",
       "Parrot     25.0\n",
       "Name: Max Speed, dtype: float64"
      ]
     },
     "execution_count": 328,
     "metadata": {},
     "output_type": "execute_result"
    }
   ],
   "source": [
    "ser.groupby(level=0).mean()"
   ]
  },
  {
   "cell_type": "code",
   "execution_count": 329,
   "id": "ef5f425d",
   "metadata": {},
   "outputs": [
    {
     "data": {
      "text/plain": [
       "0     25.0\n",
       "1    370.0\n",
       "Name: Max Speed, dtype: float64"
      ]
     },
     "execution_count": 329,
     "metadata": {},
     "output_type": "execute_result"
    }
   ],
   "source": [
    "ser.groupby(by=[1,1,0,0]).mean()"
   ]
  },
  {
   "cell_type": "code",
   "execution_count": 330,
   "id": "91e84017",
   "metadata": {},
   "outputs": [
    {
     "data": {
      "text/plain": [
       "Max Speed\n",
       "False     25.0\n",
       "True     370.0\n",
       "Name: Max Speed, dtype: float64"
      ]
     },
     "execution_count": 330,
     "metadata": {},
     "output_type": "execute_result"
    }
   ],
   "source": [
    "ser.groupby(ser > 100).mean()"
   ]
  },
  {
   "cell_type": "code",
   "execution_count": 331,
   "id": "f5658e52",
   "metadata": {},
   "outputs": [
    {
     "data": {
      "text/plain": [
       "Animal  Type   \n",
       "Falcon  Captive    390\n",
       "        Wild       350\n",
       "Parrot  Captive     30\n",
       "        Wild        20\n",
       "Name: Max Speed, dtype: int64"
      ]
     },
     "execution_count": 331,
     "metadata": {},
     "output_type": "execute_result"
    }
   ],
   "source": [
    "arrays = [['Falcon', 'Falcon', 'Parrot', 'Parrot'],['Captive', 'Wild', 'Captive', 'Wild']]\n",
    "index = pd.MultiIndex.from_arrays(arrays, names=('Animal', 'Type'))\n",
    "ser = pd.Series([390, 350, 30, 20], index=index, name=\"Max Speed\")\n",
    "ser"
   ]
  },
  {
   "cell_type": "code",
   "execution_count": 332,
   "id": "c40c1fe5",
   "metadata": {},
   "outputs": [
    {
     "data": {
      "text/plain": [
       "Animal  Type   \n",
       "Falcon  Captive    390\n",
       "        Wild       350\n",
       "Parrot  Captive     30\n",
       "        Wild        20\n",
       "Name: Max Speed, dtype: int64"
      ]
     },
     "execution_count": 332,
     "metadata": {},
     "output_type": "execute_result"
    }
   ],
   "source": [
    "ser = pd.Series([390, 350, 30, 20], \n",
    "                index=pd.MultiIndex(levels=[['Falcon', 'Parrot', ],['Captive', 'Wild']],\n",
    "                                    codes= [[0,0,1,1],[0,1,0,1]],\n",
    "                                    name= ('Animal', 'Type')\n",
    "                                   ), name=\"Max Speed\")\n",
    "ser"
   ]
  },
  {
   "cell_type": "code",
   "execution_count": 333,
   "id": "d295f4f2",
   "metadata": {},
   "outputs": [
    {
     "data": {
      "text/plain": [
       "Animal\n",
       "Falcon    370.0\n",
       "Parrot     25.0\n",
       "Name: Max Speed, dtype: float64"
      ]
     },
     "execution_count": 333,
     "metadata": {},
     "output_type": "execute_result"
    }
   ],
   "source": [
    "ser.groupby(level=0).mean()"
   ]
  },
  {
   "cell_type": "code",
   "execution_count": 334,
   "id": "a7408d4e",
   "metadata": {},
   "outputs": [
    {
     "data": {
      "text/plain": [
       "Type\n",
       "Captive    210.0\n",
       "Wild       185.0\n",
       "Name: Max Speed, dtype: float64"
      ]
     },
     "execution_count": 334,
     "metadata": {},
     "output_type": "execute_result"
    }
   ],
   "source": [
    "ser.groupby(level=1).mean()"
   ]
  },
  {
   "cell_type": "code",
   "execution_count": 335,
   "id": "c033253c",
   "metadata": {},
   "outputs": [
    {
     "data": {
      "text/plain": [
       "Type\n",
       "Captive    210.0\n",
       "Wild       185.0\n",
       "Name: Max Speed, dtype: float64"
      ]
     },
     "execution_count": 335,
     "metadata": {},
     "output_type": "execute_result"
    }
   ],
   "source": [
    "ser.groupby(level=\"Type\").mean()"
   ]
  },
  {
   "cell_type": "code",
   "execution_count": 336,
   "id": "367745e4",
   "metadata": {},
   "outputs": [
    {
     "data": {
      "text/plain": [
       "Animal\n",
       "Falcon    370.0\n",
       "Parrot     25.0\n",
       "Name: Max Speed, dtype: float64"
      ]
     },
     "execution_count": 336,
     "metadata": {},
     "output_type": "execute_result"
    }
   ],
   "source": [
    "ser.groupby(level=\"Animal\").mean()"
   ]
  },
  {
   "cell_type": "code",
   "execution_count": 337,
   "id": "8f7505d4",
   "metadata": {},
   "outputs": [
    {
     "data": {
      "text/plain": [
       "a    210.0\n",
       "b    350.0\n",
       "Name: Max Speed, dtype: float64"
      ]
     },
     "execution_count": 337,
     "metadata": {},
     "output_type": "execute_result"
    }
   ],
   "source": [
    "arrays = ['Falcon', 'Falcon', 'Parrot', 'Parrot']\n",
    "ser = pd.Series([390., 350., 30., 20.], index=arrays, name=\"Max Speed\")\n",
    "ser.groupby([\"a\", \"b\", \"a\", np.nan]).mean()"
   ]
  },
  {
   "cell_type": "code",
   "execution_count": 338,
   "id": "97214d63",
   "metadata": {},
   "outputs": [
    {
     "data": {
      "text/plain": [
       "a      210.0\n",
       "b      350.0\n",
       "NaN     20.0\n",
       "Name: Max Speed, dtype: float64"
      ]
     },
     "execution_count": 338,
     "metadata": {},
     "output_type": "execute_result"
    }
   ],
   "source": [
    "ser.groupby([\"a\", \"b\", \"a\", np.nan], dropna=False).mean()"
   ]
  },
  {
   "cell_type": "markdown",
   "id": "5a69ac88",
   "metadata": {},
   "source": [
    "# DROPING ROWS"
   ]
  },
  {
   "cell_type": "code",
   "execution_count": 339,
   "id": "187e3046",
   "metadata": {},
   "outputs": [
    {
     "data": {
      "text/plain": [
       "0    4\n",
       "2    8\n",
       "3    9\n",
       "dtype: int64"
      ]
     },
     "execution_count": 339,
     "metadata": {},
     "output_type": "execute_result"
    }
   ],
   "source": [
    "B = pd.Series([4,6,8,9])\n",
    "B.drop(1,axis=0,inplace=True)\n",
    "B"
   ]
  },
  {
   "cell_type": "code",
   "execution_count": 340,
   "id": "9133ce80",
   "metadata": {},
   "outputs": [
    {
     "data": {
      "text/plain": [
       "lama    speed      45.0\n",
       "        weight    200.0\n",
       "        length      1.2\n",
       "cow     speed      30.0\n",
       "        weight    250.0\n",
       "        length      1.5\n",
       "falcon  speed     320.0\n",
       "        weight      1.0\n",
       "        length      0.3\n",
       "dtype: float64"
      ]
     },
     "execution_count": 340,
     "metadata": {},
     "output_type": "execute_result"
    }
   ],
   "source": [
    "midx = pd.MultiIndex(levels=[['lama', 'cow', 'falcon'],['speed', 'weight', 'length']],\n",
    "                     codes=[[0, 0, 0, 1, 1, 1, 2, 2, 2],[0, 1, 2, 0, 1, 2, 0, 1, 2]])\n",
    "s = pd.Series([45, 200, 1.2, 30, 250, 1.5, 320, 1, 0.3],index=midx)\n",
    "s"
   ]
  },
  {
   "cell_type": "code",
   "execution_count": 341,
   "id": "ffac9374",
   "metadata": {},
   "outputs": [
    {
     "data": {
      "text/plain": [
       "lama    speed      45.0\n",
       "        length      1.2\n",
       "cow     speed      30.0\n",
       "        length      1.5\n",
       "falcon  speed     320.0\n",
       "        length      0.3\n",
       "dtype: float64"
      ]
     },
     "execution_count": 341,
     "metadata": {},
     "output_type": "execute_result"
    }
   ],
   "source": [
    "s.drop(labels='weight', level=1)"
   ]
  },
  {
   "cell_type": "code",
   "execution_count": 342,
   "id": "446338f6",
   "metadata": {},
   "outputs": [
    {
     "data": {
      "text/plain": [
       "0    4\n",
       "2    8\n",
       "dtype: int64"
      ]
     },
     "execution_count": 342,
     "metadata": {},
     "output_type": "execute_result"
    }
   ],
   "source": [
    "B.drop(3,axis=0)"
   ]
  },
  {
   "cell_type": "code",
   "execution_count": 343,
   "id": "1f4c3bf1",
   "metadata": {},
   "outputs": [
    {
     "data": {
      "text/plain": [
       "1    6\n",
       "2    8\n",
       "3    9\n",
       "dtype: int64"
      ]
     },
     "execution_count": 343,
     "metadata": {},
     "output_type": "execute_result"
    }
   ],
   "source": [
    "B = pd.Series([4,6,8,9])\n",
    "B.truncate(1)"
   ]
  },
  {
   "cell_type": "markdown",
   "id": "c60f53c7",
   "metadata": {},
   "source": [
    "# CHECKING THE TRUTHNESS OF SERIES"
   ]
  },
  {
   "cell_type": "code",
   "execution_count": 344,
   "id": "d25d7638",
   "metadata": {},
   "outputs": [
    {
     "data": {
      "text/plain": [
       "0    4.0\n",
       "1    6.0\n",
       "2    8.0\n",
       "3    9.0\n",
       "4    0.0\n",
       "5    NaN\n",
       "dtype: float64"
      ]
     },
     "execution_count": 344,
     "metadata": {},
     "output_type": "execute_result"
    }
   ],
   "source": [
    "B = pd.Series([4,6,8,9,0,None])\n",
    "B"
   ]
  },
  {
   "cell_type": "code",
   "execution_count": 345,
   "id": "ccfcf99e",
   "metadata": {},
   "outputs": [
    {
     "data": {
      "text/plain": [
       "False"
      ]
     },
     "execution_count": 345,
     "metadata": {},
     "output_type": "execute_result"
    }
   ],
   "source": [
    "B.all()"
   ]
  },
  {
   "cell_type": "code",
   "execution_count": 346,
   "id": "49d29345",
   "metadata": {},
   "outputs": [
    {
     "data": {
      "text/plain": [
       "True"
      ]
     },
     "execution_count": 346,
     "metadata": {},
     "output_type": "execute_result"
    }
   ],
   "source": [
    "B.any()"
   ]
  },
  {
   "cell_type": "markdown",
   "id": "18d89538",
   "metadata": {},
   "source": [
    "# USE OF ASTYPE"
   ]
  },
  {
   "cell_type": "code",
   "execution_count": 347,
   "id": "c4c6cdf6",
   "metadata": {},
   "outputs": [],
   "source": [
    "B = pd.Series([4,6,8,9,0])\n",
    "C = B.astype('str')"
   ]
  },
  {
   "cell_type": "code",
   "execution_count": 348,
   "id": "4973e4fe",
   "metadata": {},
   "outputs": [
    {
     "data": {
      "text/plain": [
       "'46890'"
      ]
     },
     "execution_count": 348,
     "metadata": {},
     "output_type": "execute_result"
    }
   ],
   "source": [
    "C.agg('sum')"
   ]
  },
  {
   "cell_type": "markdown",
   "id": "a232efdf",
   "metadata": {},
   "source": [
    "# PLOTING GRAPHS USING PANDAS"
   ]
  },
  {
   "cell_type": "code",
   "execution_count": 349,
   "id": "a1ffe1a4",
   "metadata": {},
   "outputs": [
    {
     "data": {
      "text/plain": [
       "<AxesSubplot:>"
      ]
     },
     "execution_count": 349,
     "metadata": {},
     "output_type": "execute_result"
    },
    {
     "data": {
      "image/png": "[encoded data removed]",
      "text/plain": [
       "<Figure size 432x288 with 1 Axes>"
      ]
     },
     "metadata": {
      "needs_background": "light"
     },
     "output_type": "display_data"
    }
   ],
   "source": [
    "B.plot()"
   ]
  },
  {
   "cell_type": "code",
   "execution_count": 350,
   "id": "5e9619f9",
   "metadata": {},
   "outputs": [
    {
     "data": {
      "text/plain": [
       "<AxesSubplot:>"
      ]
     },
     "execution_count": 350,
     "metadata": {},
     "output_type": "execute_result"
    },
    {
     "data": {
      "image/png": "[encoded data removed]",
      "text/plain": [
       "<Figure size 432x288 with 1 Axes>"
      ]
     },
     "metadata": {
      "needs_background": "light"
     },
     "output_type": "display_data"
    }
   ],
   "source": [
    "B.hist()"
   ]
  },
  {
   "cell_type": "markdown",
   "id": "c9a5450d",
   "metadata": {},
   "source": [
    "# DATE-TIME OPERATION"
   ]
  },
  {
   "cell_type": "code",
   "execution_count": 351,
   "id": "b5a6a0a4",
   "metadata": {},
   "outputs": [
    {
     "data": {
      "text/plain": [
       "2018-04-09    1\n",
       "2018-04-11    2\n",
       "2018-04-13    3\n",
       "2018-04-15    4\n",
       "Freq: 2D, dtype: int64"
      ]
     },
     "execution_count": 351,
     "metadata": {},
     "output_type": "execute_result"
    }
   ],
   "source": [
    "i = pd.date_range('2018-04-09', periods=4, freq='2D')\n",
    "ts = pd.Series([1,2,3,4] ,index=i)\n",
    "ts"
   ]
  },
  {
   "cell_type": "code",
   "execution_count": 352,
   "id": "822523da",
   "metadata": {},
   "outputs": [
    {
     "data": {
      "text/plain": [
       "2018-04-13    3\n",
       "2018-04-15    4\n",
       "Freq: 2D, dtype: int64"
      ]
     },
     "execution_count": 352,
     "metadata": {},
     "output_type": "execute_result"
    }
   ],
   "source": [
    "ts.last('3D')"
   ]
  },
  {
   "cell_type": "code",
   "execution_count": 353,
   "id": "2949da8a",
   "metadata": {},
   "outputs": [
    {
     "data": {
      "text/plain": [
       "0   2018-04-09\n",
       "1   2018-04-11\n",
       "2   2018-04-13\n",
       "3   2018-04-15\n",
       "dtype: datetime64[ns]"
      ]
     },
     "execution_count": 353,
     "metadata": {},
     "output_type": "execute_result"
    }
   ],
   "source": [
    "i = pd.date_range('2018-04-09', periods=4, freq='2D')\n",
    "data = pd.Series(i)\n",
    "data"
   ]
  },
  {
   "cell_type": "markdown",
   "id": "e745f407",
   "metadata": {},
   "source": [
    "# OTHER METHODS"
   ]
  },
  {
   "cell_type": "code",
   "execution_count": 354,
   "id": "57301a70",
   "metadata": {},
   "outputs": [
    {
     "data": {
      "text/plain": [
       "0   2018-04-09\n",
       "1   2018-04-11\n",
       "2   2018-04-13\n",
       "3   2018-04-15\n",
       "dtype: datetime64[ns]"
      ]
     },
     "execution_count": 354,
     "metadata": {},
     "output_type": "execute_result"
    }
   ],
   "source": [
    "data.infer_objects()"
   ]
  },
  {
   "cell_type": "code",
   "execution_count": 355,
   "id": "14b3f3da",
   "metadata": {},
   "outputs": [
    {
     "data": {
      "text/plain": [
       "0    d\n",
       "1    e\n",
       "2    f\n",
       "3    g\n",
       "dtype: object"
      ]
     },
     "execution_count": 355,
     "metadata": {},
     "output_type": "execute_result"
    }
   ],
   "source": [
    "df = pd.Series(['a','b','c','d'])\n",
    "new_df = pd.Series(['d', 'e', 'f', 'g', 'h', 'i'])\n",
    "df.update(new_df)\n",
    "df"
   ]
  },
  {
   "cell_type": "markdown",
   "id": "7017bdc5",
   "metadata": {},
   "source": [
    "# STORING SERIES IN CSV FILE"
   ]
  },
  {
   "cell_type": "code",
   "execution_count": 356,
   "id": "670cc016",
   "metadata": {},
   "outputs": [],
   "source": [
    "midx = pd.MultiIndex(levels=[['lama', 'cow', 'falcon'],['speed', 'weight', 'length']],\n",
    "                     codes=[[0, 0, 0, 1, 1, 1, 2, 2, 2],[0, 1, 2, 0, 1, 2, 0, 1, 2]])\n",
    "A = pd.Series([45, 200, 1.2, 30, 250, 1.5, 320, 1, 0.3],index=midx)\n",
    "A.to_csv('Series.csv')"
   ]
  },
  {
   "cell_type": "markdown",
   "id": "277b1c16",
   "metadata": {},
   "source": [
    "# CREATING DATAFRAME"
   ]
  },
  {
   "cell_type": "markdown",
   "id": "5b206899",
   "metadata": {},
   "source": [
    "    Unlike Series in Pandas DataFrame can only be created using Dictionary.in this method all list must be a same size otherwise it returns a error. also if we want to put some value NAN we will have to write NAN at that position."
   ]
  },
  {
   "cell_type": "code",
   "execution_count": 357,
   "id": "aed88f03",
   "metadata": {},
   "outputs": [
    {
     "data": {
      "text/html": [
       "<div>\n",
       "<style scoped>\n",
       "    .dataframe tbody tr th:only-of-type {\n",
       "        vertical-align: middle;\n",
       "    }\n",
       "\n",
       "    .dataframe tbody tr th {\n",
       "        vertical-align: top;\n",
       "    }\n",
       "\n",
       "    .dataframe thead th {\n",
       "        text-align: right;\n",
       "    }\n",
       "</style>\n",
       "<table border=\"1\" class=\"dataframe\">\n",
       "  <thead>\n",
       "    <tr style=\"text-align: right;\">\n",
       "      <th></th>\n",
       "      <th>hitesh</th>\n",
       "      <th>vishvjit</th>\n",
       "      <th>yagnik</th>\n",
       "      <th>ravi</th>\n",
       "      <th>vraj</th>\n",
       "    </tr>\n",
       "  </thead>\n",
       "  <tbody>\n",
       "    <tr>\n",
       "      <th>0</th>\n",
       "      <td>1</td>\n",
       "      <td>2</td>\n",
       "      <td>3</td>\n",
       "      <td>4</td>\n",
       "      <td>5</td>\n",
       "    </tr>\n",
       "  </tbody>\n",
       "</table>\n",
       "</div>"
      ],
      "text/plain": [
       "   hitesh  vishvjit  yagnik  ravi  vraj\n",
       "0       1         2       3     4     5"
      ]
     },
     "execution_count": 357,
     "metadata": {},
     "output_type": "execute_result"
    }
   ],
   "source": [
    "A = {\n",
    "    'hitesh':1,\n",
    "    'vishvjit':2,\n",
    "    'yagnik':3,\n",
    "    'ravi':4,\n",
    "    'vraj':5\n",
    "}\n",
    "B = pd.DataFrame(A,index=[0])\n",
    "B"
   ]
  },
  {
   "cell_type": "markdown",
   "id": "d6e412ec",
   "metadata": {},
   "source": [
    "    Here... We passing all scallar values so we need to specify index otherwise it will returns an error"
   ]
  },
  {
   "cell_type": "code",
   "execution_count": 358,
   "id": "bfe84319",
   "metadata": {},
   "outputs": [
    {
     "data": {
      "text/html": [
       "<div>\n",
       "<style scoped>\n",
       "    .dataframe tbody tr th:only-of-type {\n",
       "        vertical-align: middle;\n",
       "    }\n",
       "\n",
       "    .dataframe tbody tr th {\n",
       "        vertical-align: top;\n",
       "    }\n",
       "\n",
       "    .dataframe thead th {\n",
       "        text-align: right;\n",
       "    }\n",
       "</style>\n",
       "<table border=\"1\" class=\"dataframe\">\n",
       "  <thead>\n",
       "    <tr style=\"text-align: right;\">\n",
       "      <th></th>\n",
       "      <th>hitesh</th>\n",
       "      <th>vishvjit</th>\n",
       "      <th>yagnik</th>\n",
       "      <th>vraj</th>\n",
       "    </tr>\n",
       "  </thead>\n",
       "  <tbody>\n",
       "    <tr>\n",
       "      <th>0</th>\n",
       "      <td>1</td>\n",
       "      <td>2</td>\n",
       "      <td>3</td>\n",
       "      <td>1</td>\n",
       "    </tr>\n",
       "  </tbody>\n",
       "</table>\n",
       "</div>"
      ],
      "text/plain": [
       "   hitesh  vishvjit  yagnik  vraj\n",
       "0       1         2       3     1"
      ]
     },
     "execution_count": 358,
     "metadata": {},
     "output_type": "execute_result"
    }
   ],
   "source": [
    "A = {\n",
    "    'hitesh' : 1,\n",
    "    'vishvjit' : 2,\n",
    "    'yagnik' : 3,\n",
    "    'vraj' : [1]\n",
    "}\n",
    "B = pd.DataFrame(A)\n",
    "B"
   ]
  },
  {
   "cell_type": "markdown",
   "id": "7dd5a22d",
   "metadata": {},
   "source": [
    "    So... if we provide sequence instead scalar value so it won't give error and also we don't need to specify index"
   ]
  },
  {
   "cell_type": "code",
   "execution_count": 359,
   "id": "e1a8c21a",
   "metadata": {},
   "outputs": [
    {
     "data": {
      "text/html": [
       "<div>\n",
       "<style scoped>\n",
       "    .dataframe tbody tr th:only-of-type {\n",
       "        vertical-align: middle;\n",
       "    }\n",
       "\n",
       "    .dataframe tbody tr th {\n",
       "        vertical-align: top;\n",
       "    }\n",
       "\n",
       "    .dataframe thead th {\n",
       "        text-align: right;\n",
       "    }\n",
       "</style>\n",
       "<table border=\"1\" class=\"dataframe\">\n",
       "  <thead>\n",
       "    <tr style=\"text-align: right;\">\n",
       "      <th></th>\n",
       "      <th>hitesh</th>\n",
       "      <th>vishvjit</th>\n",
       "      <th>yagnik</th>\n",
       "      <th>vraj</th>\n",
       "    </tr>\n",
       "  </thead>\n",
       "  <tbody>\n",
       "    <tr>\n",
       "      <th>0</th>\n",
       "      <td>1</td>\n",
       "      <td>2</td>\n",
       "      <td>3</td>\n",
       "      <td>1</td>\n",
       "    </tr>\n",
       "  </tbody>\n",
       "</table>\n",
       "</div>"
      ],
      "text/plain": [
       "   hitesh  vishvjit  yagnik  vraj\n",
       "0       1         2       3     1"
      ]
     },
     "execution_count": 359,
     "metadata": {},
     "output_type": "execute_result"
    }
   ],
   "source": [
    "A = {\n",
    "    'hitesh' : 1,\n",
    "    'vishvjit' : 2,\n",
    "    'yagnik' : 3,\n",
    "    'vraj' : (1,)\n",
    "}\n",
    "B = pd.DataFrame(A)\n",
    "B"
   ]
  },
  {
   "cell_type": "markdown",
   "id": "2f098acc",
   "metadata": {},
   "source": [
    "    Also we will able to pass any of the ordered sequence like list,tuple,dictionary etc but not able to provide set."
   ]
  },
  {
   "cell_type": "code",
   "execution_count": 360,
   "id": "d46fff41",
   "metadata": {},
   "outputs": [
    {
     "data": {
      "text/html": [
       "<div>\n",
       "<style scoped>\n",
       "    .dataframe tbody tr th:only-of-type {\n",
       "        vertical-align: middle;\n",
       "    }\n",
       "\n",
       "    .dataframe tbody tr th {\n",
       "        vertical-align: top;\n",
       "    }\n",
       "\n",
       "    .dataframe thead th {\n",
       "        text-align: right;\n",
       "    }\n",
       "</style>\n",
       "<table border=\"1\" class=\"dataframe\">\n",
       "  <thead>\n",
       "    <tr style=\"text-align: right;\">\n",
       "      <th></th>\n",
       "      <th>Subject</th>\n",
       "      <th>hitesh</th>\n",
       "      <th>vishvjit</th>\n",
       "      <th>yagnik</th>\n",
       "      <th>vraj</th>\n",
       "    </tr>\n",
       "  </thead>\n",
       "  <tbody>\n",
       "    <tr>\n",
       "      <th>0</th>\n",
       "      <td>hindi</td>\n",
       "      <td>66</td>\n",
       "      <td>55</td>\n",
       "      <td>43</td>\n",
       "      <td>51</td>\n",
       "    </tr>\n",
       "    <tr>\n",
       "      <th>1</th>\n",
       "      <td>english</td>\n",
       "      <td>63</td>\n",
       "      <td>56</td>\n",
       "      <td>44</td>\n",
       "      <td>52</td>\n",
       "    </tr>\n",
       "    <tr>\n",
       "      <th>2</th>\n",
       "      <td>maths</td>\n",
       "      <td>64</td>\n",
       "      <td>57</td>\n",
       "      <td>45</td>\n",
       "      <td>53</td>\n",
       "    </tr>\n",
       "    <tr>\n",
       "      <th>3</th>\n",
       "      <td>gujarati</td>\n",
       "      <td>65</td>\n",
       "      <td>58</td>\n",
       "      <td>46</td>\n",
       "      <td>54</td>\n",
       "    </tr>\n",
       "  </tbody>\n",
       "</table>\n",
       "</div>"
      ],
      "text/plain": [
       "    Subject  hitesh  vishvjit  yagnik  vraj\n",
       "0     hindi      66        55      43    51\n",
       "1   english      63        56      44    52\n",
       "2     maths      64        57      45    53\n",
       "3  gujarati      65        58      46    54"
      ]
     },
     "execution_count": 360,
     "metadata": {},
     "output_type": "execute_result"
    }
   ],
   "source": [
    "A = {\n",
    "    'Subject' : ['hindi','english','maths','gujarati'],\n",
    "    'hitesh' : [66,63,64,65],\n",
    "    'vishvjit' : (55,56,57,58),\n",
    "    'yagnik' : (43,44,45,46),\n",
    "    'vraj' : [51,52,53,54]\n",
    "}\n",
    "B = pd.DataFrame(A)\n",
    "B"
   ]
  },
  {
   "cell_type": "code",
   "execution_count": 361,
   "id": "34f2c4b2",
   "metadata": {},
   "outputs": [
    {
     "data": {
      "text/html": [
       "<div>\n",
       "<style scoped>\n",
       "    .dataframe tbody tr th:only-of-type {\n",
       "        vertical-align: middle;\n",
       "    }\n",
       "\n",
       "    .dataframe tbody tr th {\n",
       "        vertical-align: top;\n",
       "    }\n",
       "\n",
       "    .dataframe thead th {\n",
       "        text-align: right;\n",
       "    }\n",
       "</style>\n",
       "<table border=\"1\" class=\"dataframe\">\n",
       "  <thead>\n",
       "    <tr style=\"text-align: right;\">\n",
       "      <th></th>\n",
       "      <th>Subject</th>\n",
       "      <th>hitesh</th>\n",
       "      <th>vishvjit</th>\n",
       "      <th>yagnik</th>\n",
       "      <th>vraj</th>\n",
       "    </tr>\n",
       "  </thead>\n",
       "  <tbody>\n",
       "    <tr>\n",
       "      <th>0</th>\n",
       "      <td>hindi</td>\n",
       "      <td>66</td>\n",
       "      <td>55</td>\n",
       "      <td>43</td>\n",
       "      <td>AB</td>\n",
       "    </tr>\n",
       "    <tr>\n",
       "      <th>1</th>\n",
       "      <td>english</td>\n",
       "      <td>63</td>\n",
       "      <td>56</td>\n",
       "      <td>44</td>\n",
       "      <td>AB</td>\n",
       "    </tr>\n",
       "    <tr>\n",
       "      <th>2</th>\n",
       "      <td>maths</td>\n",
       "      <td>64</td>\n",
       "      <td>57</td>\n",
       "      <td>45</td>\n",
       "      <td>AB</td>\n",
       "    </tr>\n",
       "    <tr>\n",
       "      <th>3</th>\n",
       "      <td>gujarati</td>\n",
       "      <td>65</td>\n",
       "      <td>58</td>\n",
       "      <td>46</td>\n",
       "      <td>AB</td>\n",
       "    </tr>\n",
       "  </tbody>\n",
       "</table>\n",
       "</div>"
      ],
      "text/plain": [
       "    Subject  hitesh  vishvjit  yagnik vraj\n",
       "0     hindi      66        55      43   AB\n",
       "1   english      63        56      44   AB\n",
       "2     maths      64        57      45   AB\n",
       "3  gujarati      65        58      46   AB"
      ]
     },
     "execution_count": 361,
     "metadata": {},
     "output_type": "execute_result"
    }
   ],
   "source": [
    "A = {\n",
    "    'Subject' : ['hindi','english','maths','gujarati'],\n",
    "    'hitesh' : [66,63,64,65],\n",
    "    'vishvjit' : (55,56,57,58),\n",
    "    'yagnik' : (43,44,45,46),\n",
    "    'vraj' : 'AB'\n",
    "}\n",
    "B = pd.DataFrame(A)\n",
    "B"
   ]
  },
  {
   "cell_type": "markdown",
   "id": "78ce585a",
   "metadata": {},
   "source": [
    "    If We providing Sequence then... All Sequence must be same size or instead provide Scalar value(Non-Sequence Value) so it will be Repeted as much as lenght of Sequence is. but If we provide a sequence with less size it will raise an error."
   ]
  },
  {
   "cell_type": "markdown",
   "id": "2164502c",
   "metadata": {},
   "source": [
    "# INDEXING"
   ]
  },
  {
   "cell_type": "code",
   "execution_count": 362,
   "id": "c3324dea",
   "metadata": {},
   "outputs": [
    {
     "data": {
      "text/html": [
       "<div>\n",
       "<style scoped>\n",
       "    .dataframe tbody tr th:only-of-type {\n",
       "        vertical-align: middle;\n",
       "    }\n",
       "\n",
       "    .dataframe tbody tr th {\n",
       "        vertical-align: top;\n",
       "    }\n",
       "\n",
       "    .dataframe thead th {\n",
       "        text-align: right;\n",
       "    }\n",
       "</style>\n",
       "<table border=\"1\" class=\"dataframe\">\n",
       "  <thead>\n",
       "    <tr style=\"text-align: right;\">\n",
       "      <th></th>\n",
       "      <th>hin</th>\n",
       "      <th>eng</th>\n",
       "    </tr>\n",
       "  </thead>\n",
       "  <tbody>\n",
       "    <tr>\n",
       "      <th>student1</th>\n",
       "      <td>40.0</td>\n",
       "      <td>51</td>\n",
       "    </tr>\n",
       "    <tr>\n",
       "      <th>student2</th>\n",
       "      <td>50.0</td>\n",
       "      <td>61</td>\n",
       "    </tr>\n",
       "    <tr>\n",
       "      <th>student3</th>\n",
       "      <td>60.0</td>\n",
       "      <td>71</td>\n",
       "    </tr>\n",
       "    <tr>\n",
       "      <th>student4</th>\n",
       "      <td>70.0</td>\n",
       "      <td>81</td>\n",
       "    </tr>\n",
       "    <tr>\n",
       "      <th>student0</th>\n",
       "      <td>NaN</td>\n",
       "      <td>41</td>\n",
       "    </tr>\n",
       "  </tbody>\n",
       "</table>\n",
       "</div>"
      ],
      "text/plain": [
       "           hin  eng\n",
       "student1  40.0   51\n",
       "student2  50.0   61\n",
       "student3  60.0   71\n",
       "student4  70.0   81\n",
       "student0   NaN   41"
      ]
     },
     "execution_count": 362,
     "metadata": {},
     "output_type": "execute_result"
    }
   ],
   "source": [
    "A = {\n",
    "    \"hin\":{\"student1\":40,\"student2\":50,\"student3\":60,\"student4\":70},\n",
    "    \"eng\":{\"student0\":41,\"student1\":51,\"student2\":61,\"student3\":71,\"student4\":81}\n",
    "}\n",
    "B = pd.DataFrame(A)\n",
    "B"
   ]
  },
  {
   "cell_type": "markdown",
   "id": "ccc12101",
   "metadata": {},
   "source": [
    "    We Also able to give own indexes using nested dictionary.but it will put some NAN values like Above..."
   ]
  },
  {
   "cell_type": "code",
   "execution_count": 363,
   "id": "16700ccb",
   "metadata": {},
   "outputs": [
    {
     "data": {
      "text/html": [
       "<div>\n",
       "<style scoped>\n",
       "    .dataframe tbody tr th:only-of-type {\n",
       "        vertical-align: middle;\n",
       "    }\n",
       "\n",
       "    .dataframe tbody tr th {\n",
       "        vertical-align: top;\n",
       "    }\n",
       "\n",
       "    .dataframe thead th {\n",
       "        text-align: right;\n",
       "    }\n",
       "</style>\n",
       "<table border=\"1\" class=\"dataframe\">\n",
       "  <thead>\n",
       "    <tr style=\"text-align: right;\">\n",
       "      <th></th>\n",
       "      <th>state</th>\n",
       "      <th>capital</th>\n",
       "      <th>literacy %</th>\n",
       "      <th>temperature</th>\n",
       "    </tr>\n",
       "  </thead>\n",
       "  <tbody>\n",
       "    <tr>\n",
       "      <th>i</th>\n",
       "      <td>gujarat</td>\n",
       "      <td>gandhinagar</td>\n",
       "      <td>80</td>\n",
       "      <td>32</td>\n",
       "    </tr>\n",
       "    <tr>\n",
       "      <th>ii</th>\n",
       "      <td>maharastra</td>\n",
       "      <td>mumbai</td>\n",
       "      <td>70</td>\n",
       "      <td>36</td>\n",
       "    </tr>\n",
       "    <tr>\n",
       "      <th>iii</th>\n",
       "      <td>rajastan</td>\n",
       "      <td>jaypur</td>\n",
       "      <td>78</td>\n",
       "      <td>37</td>\n",
       "    </tr>\n",
       "    <tr>\n",
       "      <th>iv</th>\n",
       "      <td>madhaypradesh</td>\n",
       "      <td>bhopal</td>\n",
       "      <td>92</td>\n",
       "      <td>31</td>\n",
       "    </tr>\n",
       "    <tr>\n",
       "      <th>v</th>\n",
       "      <td>panjab</td>\n",
       "      <td>chhatishgadh</td>\n",
       "      <td>88</td>\n",
       "      <td>28</td>\n",
       "    </tr>\n",
       "  </tbody>\n",
       "</table>\n",
       "</div>"
      ],
      "text/plain": [
       "             state       capital  literacy %  temperature\n",
       "i          gujarat   gandhinagar          80           32\n",
       "ii      maharastra        mumbai          70           36\n",
       "iii       rajastan        jaypur          78           37\n",
       "iv   madhaypradesh        bhopal          92           31\n",
       "v           panjab  chhatishgadh          88           28"
      ]
     },
     "execution_count": 363,
     "metadata": {},
     "output_type": "execute_result"
    }
   ],
   "source": [
    "A = {\n",
    "    \"state\" : [\"gujarat\",\"maharastra\",\"rajastan\",\"madhaypradesh\",\"panjab\"] ,\n",
    "    \"capital\" : [\"gandhinagar\",\"mumbai\",\"jaypur\",\"bhopal\",\"chhatishgadh\"] ,\n",
    "    \"literacy %\" : [80,70,78,92,88] ,\n",
    "    \"temperature\" : [32,36,37,31,28] ,\n",
    "}\n",
    "C = [\"i\",\"ii\",\"iii\",\"iv\",\"v\"]\n",
    "B = pd.DataFrame(A,index=C)\n",
    "B"
   ]
  },
  {
   "cell_type": "markdown",
   "id": "3a5392f0",
   "metadata": {},
   "source": [
    "    Using index = [] we able to give our own index to the dataframe.by default index are 0,1,2,3,4..."
   ]
  },
  {
   "cell_type": "markdown",
   "id": "c5255b7d",
   "metadata": {},
   "source": [
    "# ACESSING ELEMNTS"
   ]
  },
  {
   "cell_type": "code",
   "execution_count": 364,
   "id": "7eb52e3d",
   "metadata": {},
   "outputs": [
    {
     "data": {
      "text/html": [
       "<div>\n",
       "<style scoped>\n",
       "    .dataframe tbody tr th:only-of-type {\n",
       "        vertical-align: middle;\n",
       "    }\n",
       "\n",
       "    .dataframe tbody tr th {\n",
       "        vertical-align: top;\n",
       "    }\n",
       "\n",
       "    .dataframe thead th {\n",
       "        text-align: right;\n",
       "    }\n",
       "</style>\n",
       "<table border=\"1\" class=\"dataframe\">\n",
       "  <thead>\n",
       "    <tr style=\"text-align: right;\">\n",
       "      <th></th>\n",
       "      <th>Row1</th>\n",
       "      <th>Row2</th>\n",
       "      <th>Row3</th>\n",
       "      <th>Row4</th>\n",
       "      <th>Row5</th>\n",
       "      <th>Row6</th>\n",
       "      <th>Row7</th>\n",
       "      <th>Row8</th>\n",
       "      <th>Row9</th>\n",
       "      <th>Row10</th>\n",
       "    </tr>\n",
       "  </thead>\n",
       "  <tbody>\n",
       "    <tr>\n",
       "      <th>i</th>\n",
       "      <td>1</td>\n",
       "      <td>11</td>\n",
       "      <td>21</td>\n",
       "      <td>31</td>\n",
       "      <td>41</td>\n",
       "      <td>51</td>\n",
       "      <td>61</td>\n",
       "      <td>71</td>\n",
       "      <td>81</td>\n",
       "      <td>91</td>\n",
       "    </tr>\n",
       "    <tr>\n",
       "      <th>ii</th>\n",
       "      <td>2</td>\n",
       "      <td>12</td>\n",
       "      <td>22</td>\n",
       "      <td>32</td>\n",
       "      <td>42</td>\n",
       "      <td>52</td>\n",
       "      <td>62</td>\n",
       "      <td>72</td>\n",
       "      <td>82</td>\n",
       "      <td>92</td>\n",
       "    </tr>\n",
       "    <tr>\n",
       "      <th>iii</th>\n",
       "      <td>3</td>\n",
       "      <td>13</td>\n",
       "      <td>23</td>\n",
       "      <td>33</td>\n",
       "      <td>43</td>\n",
       "      <td>53</td>\n",
       "      <td>63</td>\n",
       "      <td>73</td>\n",
       "      <td>83</td>\n",
       "      <td>93</td>\n",
       "    </tr>\n",
       "    <tr>\n",
       "      <th>iv</th>\n",
       "      <td>4</td>\n",
       "      <td>14</td>\n",
       "      <td>24</td>\n",
       "      <td>34</td>\n",
       "      <td>44</td>\n",
       "      <td>54</td>\n",
       "      <td>64</td>\n",
       "      <td>74</td>\n",
       "      <td>84</td>\n",
       "      <td>94</td>\n",
       "    </tr>\n",
       "    <tr>\n",
       "      <th>v</th>\n",
       "      <td>5</td>\n",
       "      <td>15</td>\n",
       "      <td>25</td>\n",
       "      <td>35</td>\n",
       "      <td>45</td>\n",
       "      <td>55</td>\n",
       "      <td>65</td>\n",
       "      <td>75</td>\n",
       "      <td>85</td>\n",
       "      <td>95</td>\n",
       "    </tr>\n",
       "    <tr>\n",
       "      <th>vi</th>\n",
       "      <td>6</td>\n",
       "      <td>16</td>\n",
       "      <td>26</td>\n",
       "      <td>36</td>\n",
       "      <td>46</td>\n",
       "      <td>56</td>\n",
       "      <td>66</td>\n",
       "      <td>76</td>\n",
       "      <td>86</td>\n",
       "      <td>96</td>\n",
       "    </tr>\n",
       "    <tr>\n",
       "      <th>vii</th>\n",
       "      <td>7</td>\n",
       "      <td>17</td>\n",
       "      <td>27</td>\n",
       "      <td>37</td>\n",
       "      <td>47</td>\n",
       "      <td>57</td>\n",
       "      <td>67</td>\n",
       "      <td>77</td>\n",
       "      <td>87</td>\n",
       "      <td>97</td>\n",
       "    </tr>\n",
       "    <tr>\n",
       "      <th>viii</th>\n",
       "      <td>8</td>\n",
       "      <td>18</td>\n",
       "      <td>28</td>\n",
       "      <td>38</td>\n",
       "      <td>48</td>\n",
       "      <td>58</td>\n",
       "      <td>68</td>\n",
       "      <td>78</td>\n",
       "      <td>88</td>\n",
       "      <td>98</td>\n",
       "    </tr>\n",
       "    <tr>\n",
       "      <th>ix</th>\n",
       "      <td>9</td>\n",
       "      <td>19</td>\n",
       "      <td>29</td>\n",
       "      <td>39</td>\n",
       "      <td>49</td>\n",
       "      <td>59</td>\n",
       "      <td>69</td>\n",
       "      <td>79</td>\n",
       "      <td>89</td>\n",
       "      <td>99</td>\n",
       "    </tr>\n",
       "    <tr>\n",
       "      <th>x</th>\n",
       "      <td>10</td>\n",
       "      <td>20</td>\n",
       "      <td>30</td>\n",
       "      <td>40</td>\n",
       "      <td>50</td>\n",
       "      <td>60</td>\n",
       "      <td>70</td>\n",
       "      <td>80</td>\n",
       "      <td>90</td>\n",
       "      <td>100</td>\n",
       "    </tr>\n",
       "  </tbody>\n",
       "</table>\n",
       "</div>"
      ],
      "text/plain": [
       "      Row1  Row2  Row3  Row4  Row5  Row6  Row7  Row8  Row9  Row10\n",
       "i        1    11    21    31    41    51    61    71    81     91\n",
       "ii       2    12    22    32    42    52    62    72    82     92\n",
       "iii      3    13    23    33    43    53    63    73    83     93\n",
       "iv       4    14    24    34    44    54    64    74    84     94\n",
       "v        5    15    25    35    45    55    65    75    85     95\n",
       "vi       6    16    26    36    46    56    66    76    86     96\n",
       "vii      7    17    27    37    47    57    67    77    87     97\n",
       "viii     8    18    28    38    48    58    68    78    88     98\n",
       "ix       9    19    29    39    49    59    69    79    89     99\n",
       "x       10    20    30    40    50    60    70    80    90    100"
      ]
     },
     "execution_count": 364,
     "metadata": {},
     "output_type": "execute_result"
    }
   ],
   "source": [
    "A = {\n",
    "    \"Row1\" : [i for i in range(1,11)],\n",
    "    \"Row2\" : [i for i in range(11,21)],\n",
    "    \"Row3\" : [i for i in range(21,31)],\n",
    "    \"Row4\" : [i for i in range(31,41)],\n",
    "    \"Row5\" : [i for i in range(41,51)],\n",
    "    \"Row6\" : [i for i in range(51,61)],\n",
    "    \"Row7\" : [i for i in range(61,71)],\n",
    "    \"Row8\" : [i for i in range(71,81)],\n",
    "    \"Row9\" : [i for i in range(81,91)],\n",
    "    \"Row10\" : [i for i in range(91,101)], \n",
    "}\n",
    "C = [\"i\",\"ii\",\"iii\",\"iv\",\"v\",'vi','vii','viii','ix','x']\n",
    "B = pd.DataFrame(A,index=C)\n",
    "B"
   ]
  },
  {
   "cell_type": "markdown",
   "id": "e1ce5e5b",
   "metadata": {},
   "source": [
    "    Acessing Element From DataFrame is Done using loc and iloc."
   ]
  },
  {
   "cell_type": "markdown",
   "id": "6bf9bae0",
   "metadata": {},
   "source": [
    "# USING LOC"
   ]
  },
  {
   "cell_type": "code",
   "execution_count": 365,
   "id": "3470f36f",
   "metadata": {},
   "outputs": [
    {
     "data": {
      "text/plain": [
       "Row1      10\n",
       "Row2      20\n",
       "Row3      30\n",
       "Row4      40\n",
       "Row5      50\n",
       "Row6      60\n",
       "Row7      70\n",
       "Row8      80\n",
       "Row9      90\n",
       "Row10    100\n",
       "Name: x, dtype: int64"
      ]
     },
     "execution_count": 365,
     "metadata": {},
     "output_type": "execute_result"
    }
   ],
   "source": [
    "B.loc['x']"
   ]
  },
  {
   "cell_type": "code",
   "execution_count": 366,
   "id": "6da3b50c",
   "metadata": {},
   "outputs": [
    {
     "data": {
      "text/plain": [
       "10"
      ]
     },
     "execution_count": 366,
     "metadata": {},
     "output_type": "execute_result"
    }
   ],
   "source": [
    "B.loc['x','Row1'] # [row,column]"
   ]
  },
  {
   "cell_type": "code",
   "execution_count": 367,
   "id": "8981c1da",
   "metadata": {},
   "outputs": [
    {
     "data": {
      "text/html": [
       "<div>\n",
       "<style scoped>\n",
       "    .dataframe tbody tr th:only-of-type {\n",
       "        vertical-align: middle;\n",
       "    }\n",
       "\n",
       "    .dataframe tbody tr th {\n",
       "        vertical-align: top;\n",
       "    }\n",
       "\n",
       "    .dataframe thead th {\n",
       "        text-align: right;\n",
       "    }\n",
       "</style>\n",
       "<table border=\"1\" class=\"dataframe\">\n",
       "  <thead>\n",
       "    <tr style=\"text-align: right;\">\n",
       "      <th></th>\n",
       "      <th>Row1</th>\n",
       "      <th>Row2</th>\n",
       "      <th>Row3</th>\n",
       "      <th>Row4</th>\n",
       "      <th>Row5</th>\n",
       "      <th>Row6</th>\n",
       "      <th>Row7</th>\n",
       "      <th>Row8</th>\n",
       "      <th>Row9</th>\n",
       "      <th>Row10</th>\n",
       "    </tr>\n",
       "  </thead>\n",
       "  <tbody>\n",
       "    <tr>\n",
       "      <th>x</th>\n",
       "      <td>10</td>\n",
       "      <td>20</td>\n",
       "      <td>30</td>\n",
       "      <td>40</td>\n",
       "      <td>50</td>\n",
       "      <td>60</td>\n",
       "      <td>70</td>\n",
       "      <td>80</td>\n",
       "      <td>90</td>\n",
       "      <td>100</td>\n",
       "    </tr>\n",
       "    <tr>\n",
       "      <th>viii</th>\n",
       "      <td>8</td>\n",
       "      <td>18</td>\n",
       "      <td>28</td>\n",
       "      <td>38</td>\n",
       "      <td>48</td>\n",
       "      <td>58</td>\n",
       "      <td>68</td>\n",
       "      <td>78</td>\n",
       "      <td>88</td>\n",
       "      <td>98</td>\n",
       "    </tr>\n",
       "    <tr>\n",
       "      <th>ii</th>\n",
       "      <td>2</td>\n",
       "      <td>12</td>\n",
       "      <td>22</td>\n",
       "      <td>32</td>\n",
       "      <td>42</td>\n",
       "      <td>52</td>\n",
       "      <td>62</td>\n",
       "      <td>72</td>\n",
       "      <td>82</td>\n",
       "      <td>92</td>\n",
       "    </tr>\n",
       "  </tbody>\n",
       "</table>\n",
       "</div>"
      ],
      "text/plain": [
       "      Row1  Row2  Row3  Row4  Row5  Row6  Row7  Row8  Row9  Row10\n",
       "x       10    20    30    40    50    60    70    80    90    100\n",
       "viii     8    18    28    38    48    58    68    78    88     98\n",
       "ii       2    12    22    32    42    52    62    72    82     92"
      ]
     },
     "execution_count": 367,
     "metadata": {},
     "output_type": "execute_result"
    }
   ],
   "source": [
    "B.loc[['x','viii','ii']]"
   ]
  },
  {
   "cell_type": "code",
   "execution_count": 368,
   "id": "24177294",
   "metadata": {},
   "outputs": [
    {
     "data": {
      "text/plain": [
       "i        1\n",
       "ii       2\n",
       "iii      3\n",
       "iv       4\n",
       "v        5\n",
       "vi       6\n",
       "vii      7\n",
       "viii     8\n",
       "ix       9\n",
       "x       10\n",
       "Name: Row1, dtype: int64"
      ]
     },
     "execution_count": 368,
     "metadata": {},
     "output_type": "execute_result"
    }
   ],
   "source": [
    "B.loc[:,'Row1'] # [row,column]"
   ]
  },
  {
   "cell_type": "code",
   "execution_count": 369,
   "id": "3506adce",
   "metadata": {},
   "outputs": [
    {
     "data": {
      "text/html": [
       "<div>\n",
       "<style scoped>\n",
       "    .dataframe tbody tr th:only-of-type {\n",
       "        vertical-align: middle;\n",
       "    }\n",
       "\n",
       "    .dataframe tbody tr th {\n",
       "        vertical-align: top;\n",
       "    }\n",
       "\n",
       "    .dataframe thead th {\n",
       "        text-align: right;\n",
       "    }\n",
       "</style>\n",
       "<table border=\"1\" class=\"dataframe\">\n",
       "  <thead>\n",
       "    <tr style=\"text-align: right;\">\n",
       "      <th></th>\n",
       "      <th>Row1</th>\n",
       "      <th>Row2</th>\n",
       "    </tr>\n",
       "  </thead>\n",
       "  <tbody>\n",
       "    <tr>\n",
       "      <th>x</th>\n",
       "      <td>10</td>\n",
       "      <td>20</td>\n",
       "    </tr>\n",
       "    <tr>\n",
       "      <th>viii</th>\n",
       "      <td>8</td>\n",
       "      <td>18</td>\n",
       "    </tr>\n",
       "    <tr>\n",
       "      <th>ii</th>\n",
       "      <td>2</td>\n",
       "      <td>12</td>\n",
       "    </tr>\n",
       "  </tbody>\n",
       "</table>\n",
       "</div>"
      ],
      "text/plain": [
       "      Row1  Row2\n",
       "x       10    20\n",
       "viii     8    18\n",
       "ii       2    12"
      ]
     },
     "execution_count": 369,
     "metadata": {},
     "output_type": "execute_result"
    }
   ],
   "source": [
    "B.loc[['x','viii','ii'],['Row1','Row2']]"
   ]
  },
  {
   "cell_type": "code",
   "execution_count": 370,
   "id": "dc020f80",
   "metadata": {},
   "outputs": [
    {
     "data": {
      "text/html": [
       "<div>\n",
       "<style scoped>\n",
       "    .dataframe tbody tr th:only-of-type {\n",
       "        vertical-align: middle;\n",
       "    }\n",
       "\n",
       "    .dataframe tbody tr th {\n",
       "        vertical-align: top;\n",
       "    }\n",
       "\n",
       "    .dataframe thead th {\n",
       "        text-align: right;\n",
       "    }\n",
       "</style>\n",
       "<table border=\"1\" class=\"dataframe\">\n",
       "  <thead>\n",
       "    <tr style=\"text-align: right;\">\n",
       "      <th></th>\n",
       "      <th>Row1</th>\n",
       "      <th>Row2</th>\n",
       "    </tr>\n",
       "  </thead>\n",
       "  <tbody>\n",
       "    <tr>\n",
       "      <th>i</th>\n",
       "      <td>1</td>\n",
       "      <td>11</td>\n",
       "    </tr>\n",
       "    <tr>\n",
       "      <th>ii</th>\n",
       "      <td>2</td>\n",
       "      <td>12</td>\n",
       "    </tr>\n",
       "    <tr>\n",
       "      <th>iii</th>\n",
       "      <td>3</td>\n",
       "      <td>13</td>\n",
       "    </tr>\n",
       "    <tr>\n",
       "      <th>iv</th>\n",
       "      <td>4</td>\n",
       "      <td>14</td>\n",
       "    </tr>\n",
       "    <tr>\n",
       "      <th>v</th>\n",
       "      <td>5</td>\n",
       "      <td>15</td>\n",
       "    </tr>\n",
       "  </tbody>\n",
       "</table>\n",
       "</div>"
      ],
      "text/plain": [
       "     Row1  Row2\n",
       "i       1    11\n",
       "ii      2    12\n",
       "iii     3    13\n",
       "iv      4    14\n",
       "v       5    15"
      ]
     },
     "execution_count": 370,
     "metadata": {},
     "output_type": "execute_result"
    }
   ],
   "source": [
    "B.loc['i':'v',['Row1','Row2']]"
   ]
  },
  {
   "cell_type": "code",
   "execution_count": 371,
   "id": "c198e407",
   "metadata": {},
   "outputs": [
    {
     "data": {
      "text/html": [
       "<div>\n",
       "<style scoped>\n",
       "    .dataframe tbody tr th:only-of-type {\n",
       "        vertical-align: middle;\n",
       "    }\n",
       "\n",
       "    .dataframe tbody tr th {\n",
       "        vertical-align: top;\n",
       "    }\n",
       "\n",
       "    .dataframe thead th {\n",
       "        text-align: right;\n",
       "    }\n",
       "</style>\n",
       "<table border=\"1\" class=\"dataframe\">\n",
       "  <thead>\n",
       "    <tr style=\"text-align: right;\">\n",
       "      <th></th>\n",
       "      <th>Row1</th>\n",
       "      <th>Row2</th>\n",
       "      <th>Row3</th>\n",
       "      <th>Row4</th>\n",
       "      <th>Row5</th>\n",
       "      <th>Row6</th>\n",
       "    </tr>\n",
       "  </thead>\n",
       "  <tbody>\n",
       "    <tr>\n",
       "      <th>i</th>\n",
       "      <td>1</td>\n",
       "      <td>11</td>\n",
       "      <td>21</td>\n",
       "      <td>31</td>\n",
       "      <td>41</td>\n",
       "      <td>51</td>\n",
       "    </tr>\n",
       "    <tr>\n",
       "      <th>v</th>\n",
       "      <td>5</td>\n",
       "      <td>15</td>\n",
       "      <td>25</td>\n",
       "      <td>35</td>\n",
       "      <td>45</td>\n",
       "      <td>55</td>\n",
       "    </tr>\n",
       "  </tbody>\n",
       "</table>\n",
       "</div>"
      ],
      "text/plain": [
       "   Row1  Row2  Row3  Row4  Row5  Row6\n",
       "i     1    11    21    31    41    51\n",
       "v     5    15    25    35    45    55"
      ]
     },
     "execution_count": 371,
     "metadata": {},
     "output_type": "execute_result"
    }
   ],
   "source": [
    "B.loc[['i','v'],'Row1':'Row6']"
   ]
  },
  {
   "cell_type": "code",
   "execution_count": 372,
   "id": "c2ffd368",
   "metadata": {},
   "outputs": [
    {
     "data": {
      "text/html": [
       "<div>\n",
       "<style scoped>\n",
       "    .dataframe tbody tr th:only-of-type {\n",
       "        vertical-align: middle;\n",
       "    }\n",
       "\n",
       "    .dataframe tbody tr th {\n",
       "        vertical-align: top;\n",
       "    }\n",
       "\n",
       "    .dataframe thead th {\n",
       "        text-align: right;\n",
       "    }\n",
       "</style>\n",
       "<table border=\"1\" class=\"dataframe\">\n",
       "  <thead>\n",
       "    <tr style=\"text-align: right;\">\n",
       "      <th></th>\n",
       "      <th>Row1</th>\n",
       "      <th>Row2</th>\n",
       "      <th>Row3</th>\n",
       "      <th>Row4</th>\n",
       "      <th>Row5</th>\n",
       "      <th>Row6</th>\n",
       "    </tr>\n",
       "  </thead>\n",
       "  <tbody>\n",
       "    <tr>\n",
       "      <th>i</th>\n",
       "      <td>1</td>\n",
       "      <td>11</td>\n",
       "      <td>21</td>\n",
       "      <td>31</td>\n",
       "      <td>41</td>\n",
       "      <td>51</td>\n",
       "    </tr>\n",
       "    <tr>\n",
       "      <th>ii</th>\n",
       "      <td>2</td>\n",
       "      <td>12</td>\n",
       "      <td>22</td>\n",
       "      <td>32</td>\n",
       "      <td>42</td>\n",
       "      <td>52</td>\n",
       "    </tr>\n",
       "    <tr>\n",
       "      <th>iii</th>\n",
       "      <td>3</td>\n",
       "      <td>13</td>\n",
       "      <td>23</td>\n",
       "      <td>33</td>\n",
       "      <td>43</td>\n",
       "      <td>53</td>\n",
       "    </tr>\n",
       "    <tr>\n",
       "      <th>iv</th>\n",
       "      <td>4</td>\n",
       "      <td>14</td>\n",
       "      <td>24</td>\n",
       "      <td>34</td>\n",
       "      <td>44</td>\n",
       "      <td>54</td>\n",
       "    </tr>\n",
       "    <tr>\n",
       "      <th>v</th>\n",
       "      <td>5</td>\n",
       "      <td>15</td>\n",
       "      <td>25</td>\n",
       "      <td>35</td>\n",
       "      <td>45</td>\n",
       "      <td>55</td>\n",
       "    </tr>\n",
       "  </tbody>\n",
       "</table>\n",
       "</div>"
      ],
      "text/plain": [
       "     Row1  Row2  Row3  Row4  Row5  Row6\n",
       "i       1    11    21    31    41    51\n",
       "ii      2    12    22    32    42    52\n",
       "iii     3    13    23    33    43    53\n",
       "iv      4    14    24    34    44    54\n",
       "v       5    15    25    35    45    55"
      ]
     },
     "execution_count": 372,
     "metadata": {},
     "output_type": "execute_result"
    }
   ],
   "source": [
    "B.loc['i':'v','Row1':'Row6']"
   ]
  },
  {
   "cell_type": "code",
   "execution_count": 373,
   "id": "d9303021",
   "metadata": {},
   "outputs": [
    {
     "data": {
      "text/plain": [
       "50"
      ]
     },
     "execution_count": 373,
     "metadata": {},
     "output_type": "execute_result"
    }
   ],
   "source": [
    "B['Row5'].loc['x']"
   ]
  },
  {
   "cell_type": "code",
   "execution_count": 374,
   "id": "405ff07a",
   "metadata": {},
   "outputs": [
    {
     "data": {
      "text/plain": [
       "v       25\n",
       "vi      26\n",
       "vii     27\n",
       "viii    28\n",
       "ix      29\n",
       "x       30\n",
       "Name: Row3, dtype: int64"
      ]
     },
     "execution_count": 374,
     "metadata": {},
     "output_type": "execute_result"
    }
   ],
   "source": [
    "B['Row3'].loc['v':'x']"
   ]
  },
  {
   "cell_type": "code",
   "execution_count": 375,
   "id": "4534b292",
   "metadata": {},
   "outputs": [
    {
     "data": {
      "text/plain": [
       "v     25\n",
       "vi    26\n",
       "x     30\n",
       "Name: Row3, dtype: int64"
      ]
     },
     "execution_count": 375,
     "metadata": {},
     "output_type": "execute_result"
    }
   ],
   "source": [
    "B['Row3'].loc[['v','vi','x']]"
   ]
  },
  {
   "cell_type": "code",
   "execution_count": 376,
   "id": "21ea4b59",
   "metadata": {},
   "outputs": [
    {
     "data": {
      "text/plain": [
       "Row3    25\n",
       "Row5    45\n",
       "Name: v, dtype: int64"
      ]
     },
     "execution_count": 376,
     "metadata": {},
     "output_type": "execute_result"
    }
   ],
   "source": [
    "B[['Row3','Row5']].loc['v']"
   ]
  },
  {
   "cell_type": "code",
   "execution_count": 377,
   "id": "8c87ad27",
   "metadata": {},
   "outputs": [
    {
     "data": {
      "text/html": [
       "<div>\n",
       "<style scoped>\n",
       "    .dataframe tbody tr th:only-of-type {\n",
       "        vertical-align: middle;\n",
       "    }\n",
       "\n",
       "    .dataframe tbody tr th {\n",
       "        vertical-align: top;\n",
       "    }\n",
       "\n",
       "    .dataframe thead th {\n",
       "        text-align: right;\n",
       "    }\n",
       "</style>\n",
       "<table border=\"1\" class=\"dataframe\">\n",
       "  <thead>\n",
       "    <tr style=\"text-align: right;\">\n",
       "      <th></th>\n",
       "      <th>Row3</th>\n",
       "      <th>Row5</th>\n",
       "    </tr>\n",
       "  </thead>\n",
       "  <tbody>\n",
       "    <tr>\n",
       "      <th>v</th>\n",
       "      <td>25</td>\n",
       "      <td>45</td>\n",
       "    </tr>\n",
       "    <tr>\n",
       "      <th>vi</th>\n",
       "      <td>26</td>\n",
       "      <td>46</td>\n",
       "    </tr>\n",
       "    <tr>\n",
       "      <th>vii</th>\n",
       "      <td>27</td>\n",
       "      <td>47</td>\n",
       "    </tr>\n",
       "    <tr>\n",
       "      <th>viii</th>\n",
       "      <td>28</td>\n",
       "      <td>48</td>\n",
       "    </tr>\n",
       "    <tr>\n",
       "      <th>ix</th>\n",
       "      <td>29</td>\n",
       "      <td>49</td>\n",
       "    </tr>\n",
       "    <tr>\n",
       "      <th>x</th>\n",
       "      <td>30</td>\n",
       "      <td>50</td>\n",
       "    </tr>\n",
       "  </tbody>\n",
       "</table>\n",
       "</div>"
      ],
      "text/plain": [
       "      Row3  Row5\n",
       "v       25    45\n",
       "vi      26    46\n",
       "vii     27    47\n",
       "viii    28    48\n",
       "ix      29    49\n",
       "x       30    50"
      ]
     },
     "execution_count": 377,
     "metadata": {},
     "output_type": "execute_result"
    }
   ],
   "source": [
    "B[['Row3','Row5']].loc['v':'x']"
   ]
  },
  {
   "cell_type": "code",
   "execution_count": 378,
   "id": "994e440f",
   "metadata": {},
   "outputs": [
    {
     "data": {
      "text/html": [
       "<div>\n",
       "<style scoped>\n",
       "    .dataframe tbody tr th:only-of-type {\n",
       "        vertical-align: middle;\n",
       "    }\n",
       "\n",
       "    .dataframe tbody tr th {\n",
       "        vertical-align: top;\n",
       "    }\n",
       "\n",
       "    .dataframe thead th {\n",
       "        text-align: right;\n",
       "    }\n",
       "</style>\n",
       "<table border=\"1\" class=\"dataframe\">\n",
       "  <thead>\n",
       "    <tr style=\"text-align: right;\">\n",
       "      <th></th>\n",
       "      <th>Row3</th>\n",
       "      <th>Row5</th>\n",
       "    </tr>\n",
       "  </thead>\n",
       "  <tbody>\n",
       "    <tr>\n",
       "      <th>v</th>\n",
       "      <td>25</td>\n",
       "      <td>45</td>\n",
       "    </tr>\n",
       "    <tr>\n",
       "      <th>vi</th>\n",
       "      <td>26</td>\n",
       "      <td>46</td>\n",
       "    </tr>\n",
       "    <tr>\n",
       "      <th>x</th>\n",
       "      <td>30</td>\n",
       "      <td>50</td>\n",
       "    </tr>\n",
       "  </tbody>\n",
       "</table>\n",
       "</div>"
      ],
      "text/plain": [
       "    Row3  Row5\n",
       "v     25    45\n",
       "vi    26    46\n",
       "x     30    50"
      ]
     },
     "execution_count": 378,
     "metadata": {},
     "output_type": "execute_result"
    }
   ],
   "source": [
    "B[['Row3','Row5']].loc[['v','vi','x']]"
   ]
  },
  {
   "cell_type": "code",
   "execution_count": 379,
   "id": "1e825511",
   "metadata": {},
   "outputs": [
    {
     "data": {
      "text/plain": [
       "30"
      ]
     },
     "execution_count": 379,
     "metadata": {},
     "output_type": "execute_result"
    }
   ],
   "source": [
    "B.loc['x']['Row3'] # [row][column]    "
   ]
  },
  {
   "cell_type": "code",
   "execution_count": 380,
   "id": "20c2d07f",
   "metadata": {},
   "outputs": [
    {
     "data": {
      "text/plain": [
       "40"
      ]
     },
     "execution_count": 380,
     "metadata": {},
     "output_type": "execute_result"
    }
   ],
   "source": [
    "B.loc['x'][3] # [row][column] "
   ]
  },
  {
   "cell_type": "markdown",
   "id": "f98e04e9",
   "metadata": {},
   "source": [
    "    loc is location based acessing Method."
   ]
  },
  {
   "cell_type": "markdown",
   "id": "d6381af2",
   "metadata": {},
   "source": [
    "# USING ILOC"
   ]
  },
  {
   "cell_type": "code",
   "execution_count": 381,
   "id": "e3ed1f68",
   "metadata": {},
   "outputs": [
    {
     "data": {
      "text/plain": [
       "Row1      1\n",
       "Row2     11\n",
       "Row3     21\n",
       "Row4     31\n",
       "Row5     41\n",
       "Row6     51\n",
       "Row7     61\n",
       "Row8     71\n",
       "Row9     81\n",
       "Row10    91\n",
       "Name: i, dtype: int64"
      ]
     },
     "execution_count": 381,
     "metadata": {},
     "output_type": "execute_result"
    }
   ],
   "source": [
    "B.iloc[0]"
   ]
  },
  {
   "cell_type": "code",
   "execution_count": 382,
   "id": "c76fa0a0",
   "metadata": {},
   "outputs": [
    {
     "data": {
      "text/plain": [
       "1"
      ]
     },
     "execution_count": 382,
     "metadata": {},
     "output_type": "execute_result"
    }
   ],
   "source": [
    "B.iloc[0,0]"
   ]
  },
  {
   "cell_type": "code",
   "execution_count": 383,
   "id": "8e5bf0c7",
   "metadata": {},
   "outputs": [
    {
     "data": {
      "text/html": [
       "<div>\n",
       "<style scoped>\n",
       "    .dataframe tbody tr th:only-of-type {\n",
       "        vertical-align: middle;\n",
       "    }\n",
       "\n",
       "    .dataframe tbody tr th {\n",
       "        vertical-align: top;\n",
       "    }\n",
       "\n",
       "    .dataframe thead th {\n",
       "        text-align: right;\n",
       "    }\n",
       "</style>\n",
       "<table border=\"1\" class=\"dataframe\">\n",
       "  <thead>\n",
       "    <tr style=\"text-align: right;\">\n",
       "      <th></th>\n",
       "      <th>Row1</th>\n",
       "      <th>Row2</th>\n",
       "      <th>Row3</th>\n",
       "      <th>Row4</th>\n",
       "      <th>Row5</th>\n",
       "      <th>Row6</th>\n",
       "      <th>Row7</th>\n",
       "      <th>Row8</th>\n",
       "      <th>Row9</th>\n",
       "      <th>Row10</th>\n",
       "    </tr>\n",
       "  </thead>\n",
       "  <tbody>\n",
       "    <tr>\n",
       "      <th>i</th>\n",
       "      <td>1</td>\n",
       "      <td>11</td>\n",
       "      <td>21</td>\n",
       "      <td>31</td>\n",
       "      <td>41</td>\n",
       "      <td>51</td>\n",
       "      <td>61</td>\n",
       "      <td>71</td>\n",
       "      <td>81</td>\n",
       "      <td>91</td>\n",
       "    </tr>\n",
       "    <tr>\n",
       "      <th>ii</th>\n",
       "      <td>2</td>\n",
       "      <td>12</td>\n",
       "      <td>22</td>\n",
       "      <td>32</td>\n",
       "      <td>42</td>\n",
       "      <td>52</td>\n",
       "      <td>62</td>\n",
       "      <td>72</td>\n",
       "      <td>82</td>\n",
       "      <td>92</td>\n",
       "    </tr>\n",
       "    <tr>\n",
       "      <th>iii</th>\n",
       "      <td>3</td>\n",
       "      <td>13</td>\n",
       "      <td>23</td>\n",
       "      <td>33</td>\n",
       "      <td>43</td>\n",
       "      <td>53</td>\n",
       "      <td>63</td>\n",
       "      <td>73</td>\n",
       "      <td>83</td>\n",
       "      <td>93</td>\n",
       "    </tr>\n",
       "    <tr>\n",
       "      <th>iv</th>\n",
       "      <td>4</td>\n",
       "      <td>14</td>\n",
       "      <td>24</td>\n",
       "      <td>34</td>\n",
       "      <td>44</td>\n",
       "      <td>54</td>\n",
       "      <td>64</td>\n",
       "      <td>74</td>\n",
       "      <td>84</td>\n",
       "      <td>94</td>\n",
       "    </tr>\n",
       "  </tbody>\n",
       "</table>\n",
       "</div>"
      ],
      "text/plain": [
       "     Row1  Row2  Row3  Row4  Row5  Row6  Row7  Row8  Row9  Row10\n",
       "i       1    11    21    31    41    51    61    71    81     91\n",
       "ii      2    12    22    32    42    52    62    72    82     92\n",
       "iii     3    13    23    33    43    53    63    73    83     93\n",
       "iv      4    14    24    34    44    54    64    74    84     94"
      ]
     },
     "execution_count": 383,
     "metadata": {},
     "output_type": "execute_result"
    }
   ],
   "source": [
    "B.iloc[0:4]"
   ]
  },
  {
   "cell_type": "code",
   "execution_count": 384,
   "id": "36d198b8",
   "metadata": {},
   "outputs": [
    {
     "data": {
      "text/plain": [
       "i      21\n",
       "ii     22\n",
       "iii    23\n",
       "iv     24\n",
       "Name: Row3, dtype: int64"
      ]
     },
     "execution_count": 384,
     "metadata": {},
     "output_type": "execute_result"
    }
   ],
   "source": [
    "B.iloc[0:4,2]"
   ]
  },
  {
   "cell_type": "code",
   "execution_count": 385,
   "id": "f56a496b",
   "metadata": {},
   "outputs": [
    {
     "data": {
      "text/plain": [
       "Row3    21\n",
       "Row4    31\n",
       "Row5    41\n",
       "Name: i, dtype: int64"
      ]
     },
     "execution_count": 385,
     "metadata": {},
     "output_type": "execute_result"
    }
   ],
   "source": [
    "B.iloc[0,2:5]"
   ]
  },
  {
   "cell_type": "code",
   "execution_count": 386,
   "id": "9b6d1aa8",
   "metadata": {},
   "outputs": [
    {
     "data": {
      "text/html": [
       "<div>\n",
       "<style scoped>\n",
       "    .dataframe tbody tr th:only-of-type {\n",
       "        vertical-align: middle;\n",
       "    }\n",
       "\n",
       "    .dataframe tbody tr th {\n",
       "        vertical-align: top;\n",
       "    }\n",
       "\n",
       "    .dataframe thead th {\n",
       "        text-align: right;\n",
       "    }\n",
       "</style>\n",
       "<table border=\"1\" class=\"dataframe\">\n",
       "  <thead>\n",
       "    <tr style=\"text-align: right;\">\n",
       "      <th></th>\n",
       "      <th>Row3</th>\n",
       "      <th>Row4</th>\n",
       "      <th>Row5</th>\n",
       "    </tr>\n",
       "  </thead>\n",
       "  <tbody>\n",
       "    <tr>\n",
       "      <th>i</th>\n",
       "      <td>21</td>\n",
       "      <td>31</td>\n",
       "      <td>41</td>\n",
       "    </tr>\n",
       "    <tr>\n",
       "      <th>ii</th>\n",
       "      <td>22</td>\n",
       "      <td>32</td>\n",
       "      <td>42</td>\n",
       "    </tr>\n",
       "    <tr>\n",
       "      <th>iii</th>\n",
       "      <td>23</td>\n",
       "      <td>33</td>\n",
       "      <td>43</td>\n",
       "    </tr>\n",
       "    <tr>\n",
       "      <th>iv</th>\n",
       "      <td>24</td>\n",
       "      <td>34</td>\n",
       "      <td>44</td>\n",
       "    </tr>\n",
       "  </tbody>\n",
       "</table>\n",
       "</div>"
      ],
      "text/plain": [
       "     Row3  Row4  Row5\n",
       "i      21    31    41\n",
       "ii     22    32    42\n",
       "iii    23    33    43\n",
       "iv     24    34    44"
      ]
     },
     "execution_count": 386,
     "metadata": {},
     "output_type": "execute_result"
    }
   ],
   "source": [
    "B.iloc[0:4,2:5]"
   ]
  },
  {
   "cell_type": "code",
   "execution_count": 387,
   "id": "6be9feaa",
   "metadata": {},
   "outputs": [
    {
     "data": {
      "text/plain": [
       "Row8    71\n",
       "Row6    51\n",
       "Row4    31\n",
       "Name: i, dtype: int64"
      ]
     },
     "execution_count": 387,
     "metadata": {},
     "output_type": "execute_result"
    }
   ],
   "source": [
    "B.iloc[0,[7,5,3]]"
   ]
  },
  {
   "cell_type": "code",
   "execution_count": 388,
   "id": "c74d8163",
   "metadata": {},
   "outputs": [
    {
     "data": {
      "text/html": [
       "<div>\n",
       "<style scoped>\n",
       "    .dataframe tbody tr th:only-of-type {\n",
       "        vertical-align: middle;\n",
       "    }\n",
       "\n",
       "    .dataframe tbody tr th {\n",
       "        vertical-align: top;\n",
       "    }\n",
       "\n",
       "    .dataframe thead th {\n",
       "        text-align: right;\n",
       "    }\n",
       "</style>\n",
       "<table border=\"1\" class=\"dataframe\">\n",
       "  <thead>\n",
       "    <tr style=\"text-align: right;\">\n",
       "      <th></th>\n",
       "      <th>Row8</th>\n",
       "      <th>Row6</th>\n",
       "      <th>Row4</th>\n",
       "    </tr>\n",
       "  </thead>\n",
       "  <tbody>\n",
       "    <tr>\n",
       "      <th>i</th>\n",
       "      <td>71</td>\n",
       "      <td>51</td>\n",
       "      <td>31</td>\n",
       "    </tr>\n",
       "    <tr>\n",
       "      <th>ii</th>\n",
       "      <td>72</td>\n",
       "      <td>52</td>\n",
       "      <td>32</td>\n",
       "    </tr>\n",
       "    <tr>\n",
       "      <th>iii</th>\n",
       "      <td>73</td>\n",
       "      <td>53</td>\n",
       "      <td>33</td>\n",
       "    </tr>\n",
       "    <tr>\n",
       "      <th>iv</th>\n",
       "      <td>74</td>\n",
       "      <td>54</td>\n",
       "      <td>34</td>\n",
       "    </tr>\n",
       "    <tr>\n",
       "      <th>v</th>\n",
       "      <td>75</td>\n",
       "      <td>55</td>\n",
       "      <td>35</td>\n",
       "    </tr>\n",
       "  </tbody>\n",
       "</table>\n",
       "</div>"
      ],
      "text/plain": [
       "     Row8  Row6  Row4\n",
       "i      71    51    31\n",
       "ii     72    52    32\n",
       "iii    73    53    33\n",
       "iv     74    54    34\n",
       "v      75    55    35"
      ]
     },
     "execution_count": 388,
     "metadata": {},
     "output_type": "execute_result"
    }
   ],
   "source": [
    "B.iloc[0:5,[7,5,3]]"
   ]
  },
  {
   "cell_type": "code",
   "execution_count": 389,
   "id": "b3916a4b",
   "metadata": {},
   "outputs": [
    {
     "data": {
      "text/plain": [
       "iii    3\n",
       "vi     6\n",
       "ix     9\n",
       "Name: Row1, dtype: int64"
      ]
     },
     "execution_count": 389,
     "metadata": {},
     "output_type": "execute_result"
    }
   ],
   "source": [
    "B.iloc[[2,5,8],0]"
   ]
  },
  {
   "cell_type": "code",
   "execution_count": 390,
   "id": "5191e46b",
   "metadata": {},
   "outputs": [
    {
     "data": {
      "text/html": [
       "<div>\n",
       "<style scoped>\n",
       "    .dataframe tbody tr th:only-of-type {\n",
       "        vertical-align: middle;\n",
       "    }\n",
       "\n",
       "    .dataframe tbody tr th {\n",
       "        vertical-align: top;\n",
       "    }\n",
       "\n",
       "    .dataframe thead th {\n",
       "        text-align: right;\n",
       "    }\n",
       "</style>\n",
       "<table border=\"1\" class=\"dataframe\">\n",
       "  <thead>\n",
       "    <tr style=\"text-align: right;\">\n",
       "      <th></th>\n",
       "      <th>Row1</th>\n",
       "      <th>Row2</th>\n",
       "      <th>Row3</th>\n",
       "      <th>Row4</th>\n",
       "      <th>Row5</th>\n",
       "    </tr>\n",
       "  </thead>\n",
       "  <tbody>\n",
       "    <tr>\n",
       "      <th>iii</th>\n",
       "      <td>3</td>\n",
       "      <td>13</td>\n",
       "      <td>23</td>\n",
       "      <td>33</td>\n",
       "      <td>43</td>\n",
       "    </tr>\n",
       "    <tr>\n",
       "      <th>vi</th>\n",
       "      <td>6</td>\n",
       "      <td>16</td>\n",
       "      <td>26</td>\n",
       "      <td>36</td>\n",
       "      <td>46</td>\n",
       "    </tr>\n",
       "    <tr>\n",
       "      <th>ix</th>\n",
       "      <td>9</td>\n",
       "      <td>19</td>\n",
       "      <td>29</td>\n",
       "      <td>39</td>\n",
       "      <td>49</td>\n",
       "    </tr>\n",
       "  </tbody>\n",
       "</table>\n",
       "</div>"
      ],
      "text/plain": [
       "     Row1  Row2  Row3  Row4  Row5\n",
       "iii     3    13    23    33    43\n",
       "vi      6    16    26    36    46\n",
       "ix      9    19    29    39    49"
      ]
     },
     "execution_count": 390,
     "metadata": {},
     "output_type": "execute_result"
    }
   ],
   "source": [
    "B.iloc[[2,5,8],0:5]"
   ]
  },
  {
   "cell_type": "code",
   "execution_count": 391,
   "id": "6cddda30",
   "metadata": {},
   "outputs": [
    {
     "data": {
      "text/html": [
       "<div>\n",
       "<style scoped>\n",
       "    .dataframe tbody tr th:only-of-type {\n",
       "        vertical-align: middle;\n",
       "    }\n",
       "\n",
       "    .dataframe tbody tr th {\n",
       "        vertical-align: top;\n",
       "    }\n",
       "\n",
       "    .dataframe thead th {\n",
       "        text-align: right;\n",
       "    }\n",
       "</style>\n",
       "<table border=\"1\" class=\"dataframe\">\n",
       "  <thead>\n",
       "    <tr style=\"text-align: right;\">\n",
       "      <th></th>\n",
       "      <th>Row8</th>\n",
       "      <th>Row6</th>\n",
       "      <th>Row4</th>\n",
       "    </tr>\n",
       "  </thead>\n",
       "  <tbody>\n",
       "    <tr>\n",
       "      <th>iii</th>\n",
       "      <td>73</td>\n",
       "      <td>53</td>\n",
       "      <td>33</td>\n",
       "    </tr>\n",
       "    <tr>\n",
       "      <th>vi</th>\n",
       "      <td>76</td>\n",
       "      <td>56</td>\n",
       "      <td>36</td>\n",
       "    </tr>\n",
       "    <tr>\n",
       "      <th>ix</th>\n",
       "      <td>79</td>\n",
       "      <td>59</td>\n",
       "      <td>39</td>\n",
       "    </tr>\n",
       "  </tbody>\n",
       "</table>\n",
       "</div>"
      ],
      "text/plain": [
       "     Row8  Row6  Row4\n",
       "iii    73    53    33\n",
       "vi     76    56    36\n",
       "ix     79    59    39"
      ]
     },
     "execution_count": 391,
     "metadata": {},
     "output_type": "execute_result"
    }
   ],
   "source": [
    "B.iloc[[2,5,8],[7,5,3]]"
   ]
  },
  {
   "cell_type": "code",
   "execution_count": 392,
   "id": "b1011ded",
   "metadata": {},
   "outputs": [
    {
     "data": {
      "text/plain": [
       "2"
      ]
     },
     "execution_count": 392,
     "metadata": {},
     "output_type": "execute_result"
    }
   ],
   "source": [
    "B['Row1'].iloc[1]"
   ]
  },
  {
   "cell_type": "code",
   "execution_count": 393,
   "id": "2dc9579f",
   "metadata": {},
   "outputs": [
    {
     "data": {
      "text/plain": [
       "ii     2\n",
       "iii    3\n",
       "iv     4\n",
       "v      5\n",
       "vi     6\n",
       "Name: Row1, dtype: int64"
      ]
     },
     "execution_count": 393,
     "metadata": {},
     "output_type": "execute_result"
    }
   ],
   "source": [
    "B['Row1'].iloc[1:6]"
   ]
  },
  {
   "cell_type": "code",
   "execution_count": 394,
   "id": "b874727a",
   "metadata": {},
   "outputs": [
    {
     "data": {
      "text/plain": [
       "ii     2\n",
       "v      5\n",
       "vii    7\n",
       "Name: Row1, dtype: int64"
      ]
     },
     "execution_count": 394,
     "metadata": {},
     "output_type": "execute_result"
    }
   ],
   "source": [
    "B['Row1'].iloc[[1,4,6]]"
   ]
  },
  {
   "cell_type": "code",
   "execution_count": 395,
   "id": "2099277c",
   "metadata": {},
   "outputs": [
    {
     "data": {
      "text/plain": [
       "Row1     2\n",
       "Row4    32\n",
       "Row7    62\n",
       "Name: ii, dtype: int64"
      ]
     },
     "execution_count": 395,
     "metadata": {},
     "output_type": "execute_result"
    }
   ],
   "source": [
    "B[['Row1','Row4','Row7']].iloc[1]"
   ]
  },
  {
   "cell_type": "code",
   "execution_count": 396,
   "id": "ef5825d8",
   "metadata": {},
   "outputs": [
    {
     "data": {
      "text/html": [
       "<div>\n",
       "<style scoped>\n",
       "    .dataframe tbody tr th:only-of-type {\n",
       "        vertical-align: middle;\n",
       "    }\n",
       "\n",
       "    .dataframe tbody tr th {\n",
       "        vertical-align: top;\n",
       "    }\n",
       "\n",
       "    .dataframe thead th {\n",
       "        text-align: right;\n",
       "    }\n",
       "</style>\n",
       "<table border=\"1\" class=\"dataframe\">\n",
       "  <thead>\n",
       "    <tr style=\"text-align: right;\">\n",
       "      <th></th>\n",
       "      <th>Row1</th>\n",
       "      <th>Row4</th>\n",
       "      <th>Row7</th>\n",
       "    </tr>\n",
       "  </thead>\n",
       "  <tbody>\n",
       "    <tr>\n",
       "      <th>ii</th>\n",
       "      <td>2</td>\n",
       "      <td>32</td>\n",
       "      <td>62</td>\n",
       "    </tr>\n",
       "    <tr>\n",
       "      <th>iii</th>\n",
       "      <td>3</td>\n",
       "      <td>33</td>\n",
       "      <td>63</td>\n",
       "    </tr>\n",
       "    <tr>\n",
       "      <th>iv</th>\n",
       "      <td>4</td>\n",
       "      <td>34</td>\n",
       "      <td>64</td>\n",
       "    </tr>\n",
       "    <tr>\n",
       "      <th>v</th>\n",
       "      <td>5</td>\n",
       "      <td>35</td>\n",
       "      <td>65</td>\n",
       "    </tr>\n",
       "    <tr>\n",
       "      <th>vi</th>\n",
       "      <td>6</td>\n",
       "      <td>36</td>\n",
       "      <td>66</td>\n",
       "    </tr>\n",
       "    <tr>\n",
       "      <th>vii</th>\n",
       "      <td>7</td>\n",
       "      <td>37</td>\n",
       "      <td>67</td>\n",
       "    </tr>\n",
       "  </tbody>\n",
       "</table>\n",
       "</div>"
      ],
      "text/plain": [
       "     Row1  Row4  Row7\n",
       "ii      2    32    62\n",
       "iii     3    33    63\n",
       "iv      4    34    64\n",
       "v       5    35    65\n",
       "vi      6    36    66\n",
       "vii     7    37    67"
      ]
     },
     "execution_count": 396,
     "metadata": {},
     "output_type": "execute_result"
    }
   ],
   "source": [
    "B[['Row1','Row4','Row7']].iloc[1:7]"
   ]
  },
  {
   "cell_type": "code",
   "execution_count": 397,
   "id": "ce4f390b",
   "metadata": {},
   "outputs": [
    {
     "data": {
      "text/html": [
       "<div>\n",
       "<style scoped>\n",
       "    .dataframe tbody tr th:only-of-type {\n",
       "        vertical-align: middle;\n",
       "    }\n",
       "\n",
       "    .dataframe tbody tr th {\n",
       "        vertical-align: top;\n",
       "    }\n",
       "\n",
       "    .dataframe thead th {\n",
       "        text-align: right;\n",
       "    }\n",
       "</style>\n",
       "<table border=\"1\" class=\"dataframe\">\n",
       "  <thead>\n",
       "    <tr style=\"text-align: right;\">\n",
       "      <th></th>\n",
       "      <th>Row1</th>\n",
       "      <th>Row4</th>\n",
       "      <th>Row7</th>\n",
       "    </tr>\n",
       "  </thead>\n",
       "  <tbody>\n",
       "    <tr>\n",
       "      <th>ii</th>\n",
       "      <td>2</td>\n",
       "      <td>32</td>\n",
       "      <td>62</td>\n",
       "    </tr>\n",
       "    <tr>\n",
       "      <th>viii</th>\n",
       "      <td>8</td>\n",
       "      <td>38</td>\n",
       "      <td>68</td>\n",
       "    </tr>\n",
       "    <tr>\n",
       "      <th>x</th>\n",
       "      <td>10</td>\n",
       "      <td>40</td>\n",
       "      <td>70</td>\n",
       "    </tr>\n",
       "  </tbody>\n",
       "</table>\n",
       "</div>"
      ],
      "text/plain": [
       "      Row1  Row4  Row7\n",
       "ii       2    32    62\n",
       "viii     8    38    68\n",
       "x       10    40    70"
      ]
     },
     "execution_count": 397,
     "metadata": {},
     "output_type": "execute_result"
    }
   ],
   "source": [
    "B[['Row1','Row4','Row7']].iloc[[1,7,9]]"
   ]
  },
  {
   "cell_type": "markdown",
   "id": "b5567f5e",
   "metadata": {},
   "source": [
    "    iloc is Location based indexing it can only have [integer, integer slice ,listlike of integers] types.START point is INCLUDED, END point is EXCLUDED in iloc.iloc Consider index from 0 only if we provided index like 1,2,3,4...then also iloc consider as 0,1,2,3,4..."
   ]
  },
  {
   "cell_type": "code",
   "execution_count": 398,
   "id": "a782d334",
   "metadata": {},
   "outputs": [
    {
     "data": {
      "text/html": [
       "<div>\n",
       "<style scoped>\n",
       "    .dataframe tbody tr th:only-of-type {\n",
       "        vertical-align: middle;\n",
       "    }\n",
       "\n",
       "    .dataframe tbody tr th {\n",
       "        vertical-align: top;\n",
       "    }\n",
       "\n",
       "    .dataframe thead th {\n",
       "        text-align: right;\n",
       "    }\n",
       "</style>\n",
       "<table border=\"1\" class=\"dataframe\">\n",
       "  <thead>\n",
       "    <tr style=\"text-align: right;\">\n",
       "      <th></th>\n",
       "      <th>A</th>\n",
       "      <th>B</th>\n",
       "      <th>C</th>\n",
       "    </tr>\n",
       "  </thead>\n",
       "  <tbody>\n",
       "    <tr>\n",
       "      <th>0</th>\n",
       "      <td>0</td>\n",
       "      <td>2</td>\n",
       "      <td>3</td>\n",
       "    </tr>\n",
       "    <tr>\n",
       "      <th>1</th>\n",
       "      <td>0</td>\n",
       "      <td>4</td>\n",
       "      <td>1</td>\n",
       "    </tr>\n",
       "    <tr>\n",
       "      <th>2</th>\n",
       "      <td>10</td>\n",
       "      <td>20</td>\n",
       "      <td>30</td>\n",
       "    </tr>\n",
       "  </tbody>\n",
       "</table>\n",
       "</div>"
      ],
      "text/plain": [
       "    A   B   C\n",
       "0   0   2   3\n",
       "1   0   4   1\n",
       "2  10  20  30"
      ]
     },
     "execution_count": 398,
     "metadata": {},
     "output_type": "execute_result"
    }
   ],
   "source": [
    "df = pd.DataFrame([[0, 2, 3], [0, 4, 1], [10, 20, 30]], columns=['A', 'B', 'C'])\n",
    "df"
   ]
  },
  {
   "cell_type": "code",
   "execution_count": 399,
   "id": "d0347b28",
   "metadata": {},
   "outputs": [
    {
     "data": {
      "text/plain": [
       "2"
      ]
     },
     "execution_count": 399,
     "metadata": {},
     "output_type": "execute_result"
    }
   ],
   "source": [
    "df.at[0, 'B']"
   ]
  },
  {
   "cell_type": "code",
   "execution_count": 400,
   "id": "4c01d03b",
   "metadata": {},
   "outputs": [
    {
     "data": {
      "text/html": [
       "<div>\n",
       "<style scoped>\n",
       "    .dataframe tbody tr th:only-of-type {\n",
       "        vertical-align: middle;\n",
       "    }\n",
       "\n",
       "    .dataframe tbody tr th {\n",
       "        vertical-align: top;\n",
       "    }\n",
       "\n",
       "    .dataframe thead th {\n",
       "        text-align: right;\n",
       "    }\n",
       "</style>\n",
       "<table border=\"1\" class=\"dataframe\">\n",
       "  <thead>\n",
       "    <tr style=\"text-align: right;\">\n",
       "      <th></th>\n",
       "      <th>A</th>\n",
       "      <th>B</th>\n",
       "      <th>C</th>\n",
       "    </tr>\n",
       "  </thead>\n",
       "  <tbody>\n",
       "    <tr>\n",
       "      <th>0</th>\n",
       "      <td>0</td>\n",
       "      <td>10</td>\n",
       "      <td>3</td>\n",
       "    </tr>\n",
       "    <tr>\n",
       "      <th>1</th>\n",
       "      <td>0</td>\n",
       "      <td>4</td>\n",
       "      <td>1</td>\n",
       "    </tr>\n",
       "    <tr>\n",
       "      <th>2</th>\n",
       "      <td>10</td>\n",
       "      <td>20</td>\n",
       "      <td>30</td>\n",
       "    </tr>\n",
       "  </tbody>\n",
       "</table>\n",
       "</div>"
      ],
      "text/plain": [
       "    A   B   C\n",
       "0   0  10   3\n",
       "1   0   4   1\n",
       "2  10  20  30"
      ]
     },
     "execution_count": 400,
     "metadata": {},
     "output_type": "execute_result"
    }
   ],
   "source": [
    "df.at[0, 'B'] = 10\n",
    "df"
   ]
  },
  {
   "cell_type": "code",
   "execution_count": 401,
   "id": "d4529ebf",
   "metadata": {},
   "outputs": [
    {
     "data": {
      "text/plain": [
       "10"
      ]
     },
     "execution_count": 401,
     "metadata": {},
     "output_type": "execute_result"
    }
   ],
   "source": [
    "df.at[0, 'B']"
   ]
  },
  {
   "cell_type": "code",
   "execution_count": 402,
   "id": "5cb4e6bd",
   "metadata": {},
   "outputs": [
    {
     "data": {
      "text/plain": [
       "20"
      ]
     },
     "execution_count": 402,
     "metadata": {},
     "output_type": "execute_result"
    }
   ],
   "source": [
    "df.loc[2].at['B']"
   ]
  },
  {
   "cell_type": "markdown",
   "id": "875876cd",
   "metadata": {},
   "source": [
    "    Similar to loc. Also provide label-based lookups.Use at if you only need to get or set a single value in a DataFrame or Series.It is used to Access a single value for a row/column label pair."
   ]
  },
  {
   "cell_type": "markdown",
   "id": "dde3ea7d",
   "metadata": {},
   "source": [
    "# DESCRIPTION OF DATAFRAME"
   ]
  },
  {
   "cell_type": "code",
   "execution_count": 403,
   "id": "57c99150",
   "metadata": {},
   "outputs": [
    {
     "data": {
      "text/html": [
       "<div>\n",
       "<style scoped>\n",
       "    .dataframe tbody tr th:only-of-type {\n",
       "        vertical-align: middle;\n",
       "    }\n",
       "\n",
       "    .dataframe tbody tr th {\n",
       "        vertical-align: top;\n",
       "    }\n",
       "\n",
       "    .dataframe thead th {\n",
       "        text-align: right;\n",
       "    }\n",
       "</style>\n",
       "<table border=\"1\" class=\"dataframe\">\n",
       "  <thead>\n",
       "    <tr style=\"text-align: right;\">\n",
       "      <th></th>\n",
       "      <th>name/subject</th>\n",
       "      <th>mysql</th>\n",
       "      <th>python</th>\n",
       "      <th>java</th>\n",
       "      <th>c++</th>\n",
       "    </tr>\n",
       "  </thead>\n",
       "  <tbody>\n",
       "    <tr>\n",
       "      <th>0</th>\n",
       "      <td>hitesh</td>\n",
       "      <td>67</td>\n",
       "      <td>65</td>\n",
       "      <td>51</td>\n",
       "      <td>63</td>\n",
       "    </tr>\n",
       "    <tr>\n",
       "      <th>1</th>\n",
       "      <td>vishvjit</td>\n",
       "      <td>56</td>\n",
       "      <td>51</td>\n",
       "      <td>59</td>\n",
       "      <td>53</td>\n",
       "    </tr>\n",
       "    <tr>\n",
       "      <th>2</th>\n",
       "      <td>ravi</td>\n",
       "      <td>65</td>\n",
       "      <td>68</td>\n",
       "      <td>49</td>\n",
       "      <td>69</td>\n",
       "    </tr>\n",
       "    <tr>\n",
       "      <th>3</th>\n",
       "      <td>yagnik</td>\n",
       "      <td>59</td>\n",
       "      <td>47</td>\n",
       "      <td>54</td>\n",
       "      <td>70</td>\n",
       "    </tr>\n",
       "  </tbody>\n",
       "</table>\n",
       "</div>"
      ],
      "text/plain": [
       "  name/subject  mysql  python  java  c++\n",
       "0       hitesh     67      65    51   63\n",
       "1     vishvjit     56      51    59   53\n",
       "2         ravi     65      68    49   69\n",
       "3       yagnik     59      47    54   70"
      ]
     },
     "execution_count": 403,
     "metadata": {},
     "output_type": "execute_result"
    }
   ],
   "source": [
    "A = {\n",
    "    \"name/subject\" : [\"hitesh\",\"vishvjit\",\"ravi\",\"yagnik\"] ,\n",
    "    \"mysql\" : [67,56,65,59] , \n",
    "    \"python\" : [65,51,68,47] ,\n",
    "    \"java\" : [51,59,49,54] ,\n",
    "    \"c++\" : [63,53,69,70]\n",
    "}\n",
    "B = pd.DataFrame(A)\n",
    "B"
   ]
  },
  {
   "cell_type": "code",
   "execution_count": 404,
   "id": "8e313539",
   "metadata": {},
   "outputs": [
    {
     "data": {
      "text/plain": [
       "name/subject    object\n",
       "mysql            int64\n",
       "python           int64\n",
       "java             int64\n",
       "c++              int64\n",
       "dtype: object"
      ]
     },
     "execution_count": 404,
     "metadata": {},
     "output_type": "execute_result"
    }
   ],
   "source": [
    "B.dtypes"
   ]
  },
  {
   "cell_type": "code",
   "execution_count": 405,
   "id": "4271c38c",
   "metadata": {},
   "outputs": [
    {
     "data": {
      "text/plain": [
       "RangeIndex(start=0, stop=4, step=1)"
      ]
     },
     "execution_count": 405,
     "metadata": {},
     "output_type": "execute_result"
    }
   ],
   "source": [
    "B.index"
   ]
  },
  {
   "cell_type": "code",
   "execution_count": 406,
   "id": "74697150",
   "metadata": {},
   "outputs": [
    {
     "data": {
      "text/plain": [
       "Index(['name/subject', 'mysql', 'python', 'java', 'c++'], dtype='object')"
      ]
     },
     "execution_count": 406,
     "metadata": {},
     "output_type": "execute_result"
    }
   ],
   "source": [
    "B.columns"
   ]
  },
  {
   "cell_type": "code",
   "execution_count": 407,
   "id": "cf8bad41",
   "metadata": {},
   "outputs": [
    {
     "data": {
      "text/plain": [
       "Index(['name/subject', 'mysql'], dtype='object')"
      ]
     },
     "execution_count": 407,
     "metadata": {},
     "output_type": "execute_result"
    }
   ],
   "source": [
    "B.columns[[0,1]]"
   ]
  },
  {
   "cell_type": "code",
   "execution_count": 408,
   "id": "25c6ec28",
   "metadata": {},
   "outputs": [
    {
     "data": {
      "text/plain": [
       "Index(['name/subject', 'mysql', 'python', 'java', 'c++'], dtype='object')"
      ]
     },
     "execution_count": 408,
     "metadata": {},
     "output_type": "execute_result"
    }
   ],
   "source": [
    "B.keys()"
   ]
  },
  {
   "cell_type": "code",
   "execution_count": 409,
   "id": "b8263049",
   "metadata": {},
   "outputs": [
    {
     "data": {
      "text/html": [
       "<div>\n",
       "<style scoped>\n",
       "    .dataframe tbody tr th:only-of-type {\n",
       "        vertical-align: middle;\n",
       "    }\n",
       "\n",
       "    .dataframe tbody tr th {\n",
       "        vertical-align: top;\n",
       "    }\n",
       "\n",
       "    .dataframe thead th {\n",
       "        text-align: right;\n",
       "    }\n",
       "</style>\n",
       "<table border=\"1\" class=\"dataframe\">\n",
       "  <thead>\n",
       "    <tr style=\"text-align: right;\">\n",
       "      <th></th>\n",
       "      <th>mysql</th>\n",
       "      <th>python</th>\n",
       "      <th>java</th>\n",
       "      <th>c++</th>\n",
       "    </tr>\n",
       "  </thead>\n",
       "  <tbody>\n",
       "    <tr>\n",
       "      <th>count</th>\n",
       "      <td>4.000000</td>\n",
       "      <td>4.000000</td>\n",
       "      <td>4.000000</td>\n",
       "      <td>4.000000</td>\n",
       "    </tr>\n",
       "    <tr>\n",
       "      <th>mean</th>\n",
       "      <td>61.750000</td>\n",
       "      <td>57.750000</td>\n",
       "      <td>53.250000</td>\n",
       "      <td>63.750000</td>\n",
       "    </tr>\n",
       "    <tr>\n",
       "      <th>std</th>\n",
       "      <td>5.123475</td>\n",
       "      <td>10.307764</td>\n",
       "      <td>4.349329</td>\n",
       "      <td>7.804913</td>\n",
       "    </tr>\n",
       "    <tr>\n",
       "      <th>min</th>\n",
       "      <td>56.000000</td>\n",
       "      <td>47.000000</td>\n",
       "      <td>49.000000</td>\n",
       "      <td>53.000000</td>\n",
       "    </tr>\n",
       "    <tr>\n",
       "      <th>25%</th>\n",
       "      <td>58.250000</td>\n",
       "      <td>50.000000</td>\n",
       "      <td>50.500000</td>\n",
       "      <td>60.500000</td>\n",
       "    </tr>\n",
       "    <tr>\n",
       "      <th>50%</th>\n",
       "      <td>62.000000</td>\n",
       "      <td>58.000000</td>\n",
       "      <td>52.500000</td>\n",
       "      <td>66.000000</td>\n",
       "    </tr>\n",
       "    <tr>\n",
       "      <th>75%</th>\n",
       "      <td>65.500000</td>\n",
       "      <td>65.750000</td>\n",
       "      <td>55.250000</td>\n",
       "      <td>69.250000</td>\n",
       "    </tr>\n",
       "    <tr>\n",
       "      <th>max</th>\n",
       "      <td>67.000000</td>\n",
       "      <td>68.000000</td>\n",
       "      <td>59.000000</td>\n",
       "      <td>70.000000</td>\n",
       "    </tr>\n",
       "  </tbody>\n",
       "</table>\n",
       "</div>"
      ],
      "text/plain": [
       "           mysql     python       java        c++\n",
       "count   4.000000   4.000000   4.000000   4.000000\n",
       "mean   61.750000  57.750000  53.250000  63.750000\n",
       "std     5.123475  10.307764   4.349329   7.804913\n",
       "min    56.000000  47.000000  49.000000  53.000000\n",
       "25%    58.250000  50.000000  50.500000  60.500000\n",
       "50%    62.000000  58.000000  52.500000  66.000000\n",
       "75%    65.500000  65.750000  55.250000  69.250000\n",
       "max    67.000000  68.000000  59.000000  70.000000"
      ]
     },
     "execution_count": 409,
     "metadata": {},
     "output_type": "execute_result"
    }
   ],
   "source": [
    "B.describe()"
   ]
  },
  {
   "cell_type": "code",
   "execution_count": 410,
   "id": "4bdfb881",
   "metadata": {},
   "outputs": [
    {
     "name": "stdout",
     "output_type": "stream",
     "text": [
      "<class 'pandas.core.frame.DataFrame'>\n",
      "RangeIndex: 4 entries, 0 to 3\n",
      "Data columns (total 5 columns):\n",
      " #   Column        Non-Null Count  Dtype \n",
      "---  ------        --------------  ----- \n",
      " 0   name/subject  4 non-null      object\n",
      " 1   mysql         4 non-null      int64 \n",
      " 2   python        4 non-null      int64 \n",
      " 3   java          4 non-null      int64 \n",
      " 4   c++           4 non-null      int64 \n",
      "dtypes: int64(4), object(1)\n",
      "memory usage: 288.0+ bytes\n"
     ]
    }
   ],
   "source": [
    "B.info()"
   ]
  },
  {
   "cell_type": "code",
   "execution_count": 411,
   "id": "12bfd8a4",
   "metadata": {},
   "outputs": [
    {
     "data": {
      "text/plain": [
       "array([['hitesh', 67, 65, 51, 63],\n",
       "       ['vishvjit', 56, 51, 59, 53],\n",
       "       ['ravi', 65, 68, 49, 69],\n",
       "       ['yagnik', 59, 47, 54, 70]], dtype=object)"
      ]
     },
     "execution_count": 411,
     "metadata": {},
     "output_type": "execute_result"
    }
   ],
   "source": [
    "B.values"
   ]
  },
  {
   "cell_type": "code",
   "execution_count": 412,
   "id": "b562a95b",
   "metadata": {},
   "outputs": [
    {
     "data": {
      "text/plain": [
       "2"
      ]
     },
     "execution_count": 412,
     "metadata": {},
     "output_type": "execute_result"
    }
   ],
   "source": [
    "B.ndim"
   ]
  },
  {
   "cell_type": "code",
   "execution_count": 413,
   "id": "637b5ad2",
   "metadata": {},
   "outputs": [
    {
     "data": {
      "text/plain": [
       "Index           128\n",
       "name/subject     32\n",
       "mysql            32\n",
       "python           32\n",
       "java             32\n",
       "c++              32\n",
       "dtype: int64"
      ]
     },
     "execution_count": 413,
     "metadata": {},
     "output_type": "execute_result"
    }
   ],
   "source": [
    "B.memory_usage()"
   ]
  },
  {
   "cell_type": "code",
   "execution_count": 414,
   "id": "68e15cf4",
   "metadata": {},
   "outputs": [
    {
     "data": {
      "text/plain": [
       "3"
      ]
     },
     "execution_count": 414,
     "metadata": {},
     "output_type": "execute_result"
    }
   ],
   "source": [
    "B.last_valid_index()"
   ]
  },
  {
   "cell_type": "markdown",
   "id": "8b132d4f",
   "metadata": {},
   "source": [
    "    Return index for last non-NA value or None, if no non-NA value is found.If all elements are non-NA/null, returns None.Also returns None for empty Series/DataFrame."
   ]
  },
  {
   "cell_type": "code",
   "execution_count": 415,
   "id": "8be2a7c3",
   "metadata": {},
   "outputs": [
    {
     "data": {
      "text/plain": [
       "0"
      ]
     },
     "execution_count": 415,
     "metadata": {},
     "output_type": "execute_result"
    }
   ],
   "source": [
    "B.first_valid_index()"
   ]
  },
  {
   "cell_type": "code",
   "execution_count": 416,
   "id": "b1dd10b2",
   "metadata": {},
   "outputs": [
    {
     "data": {
      "text/html": [
       "<div>\n",
       "<style scoped>\n",
       "    .dataframe tbody tr th:only-of-type {\n",
       "        vertical-align: middle;\n",
       "    }\n",
       "\n",
       "    .dataframe tbody tr th {\n",
       "        vertical-align: top;\n",
       "    }\n",
       "\n",
       "    .dataframe thead th {\n",
       "        text-align: right;\n",
       "    }\n",
       "</style>\n",
       "<table border=\"1\" class=\"dataframe\">\n",
       "  <thead>\n",
       "    <tr style=\"text-align: right;\">\n",
       "      <th></th>\n",
       "      <th>name/subject</th>\n",
       "      <th>mysql</th>\n",
       "      <th>python</th>\n",
       "      <th>java</th>\n",
       "      <th>c++</th>\n",
       "    </tr>\n",
       "  </thead>\n",
       "  <tbody>\n",
       "    <tr>\n",
       "      <th>0</th>\n",
       "      <td>hitesh</td>\n",
       "      <td>67</td>\n",
       "      <td>65</td>\n",
       "      <td>51</td>\n",
       "      <td>63</td>\n",
       "    </tr>\n",
       "    <tr>\n",
       "      <th>1</th>\n",
       "      <td>vishvjit</td>\n",
       "      <td>56</td>\n",
       "      <td>51</td>\n",
       "      <td>59</td>\n",
       "      <td>53</td>\n",
       "    </tr>\n",
       "  </tbody>\n",
       "</table>\n",
       "</div>"
      ],
      "text/plain": [
       "  name/subject  mysql  python  java  c++\n",
       "0       hitesh     67      65    51   63\n",
       "1     vishvjit     56      51    59   53"
      ]
     },
     "execution_count": 416,
     "metadata": {},
     "output_type": "execute_result"
    }
   ],
   "source": [
    "B.head(2)"
   ]
  },
  {
   "cell_type": "code",
   "execution_count": 417,
   "id": "2bbb6bf2",
   "metadata": {},
   "outputs": [
    {
     "data": {
      "text/html": [
       "<div>\n",
       "<style scoped>\n",
       "    .dataframe tbody tr th:only-of-type {\n",
       "        vertical-align: middle;\n",
       "    }\n",
       "\n",
       "    .dataframe tbody tr th {\n",
       "        vertical-align: top;\n",
       "    }\n",
       "\n",
       "    .dataframe thead th {\n",
       "        text-align: right;\n",
       "    }\n",
       "</style>\n",
       "<table border=\"1\" class=\"dataframe\">\n",
       "  <thead>\n",
       "    <tr style=\"text-align: right;\">\n",
       "      <th></th>\n",
       "      <th>name/subject</th>\n",
       "      <th>mysql</th>\n",
       "      <th>python</th>\n",
       "      <th>java</th>\n",
       "      <th>c++</th>\n",
       "    </tr>\n",
       "  </thead>\n",
       "  <tbody>\n",
       "    <tr>\n",
       "      <th>2</th>\n",
       "      <td>ravi</td>\n",
       "      <td>65</td>\n",
       "      <td>68</td>\n",
       "      <td>49</td>\n",
       "      <td>69</td>\n",
       "    </tr>\n",
       "    <tr>\n",
       "      <th>3</th>\n",
       "      <td>yagnik</td>\n",
       "      <td>59</td>\n",
       "      <td>47</td>\n",
       "      <td>54</td>\n",
       "      <td>70</td>\n",
       "    </tr>\n",
       "  </tbody>\n",
       "</table>\n",
       "</div>"
      ],
      "text/plain": [
       "  name/subject  mysql  python  java  c++\n",
       "2         ravi     65      68    49   69\n",
       "3       yagnik     59      47    54   70"
      ]
     },
     "execution_count": 417,
     "metadata": {},
     "output_type": "execute_result"
    }
   ],
   "source": [
    "B.tail(2)"
   ]
  },
  {
   "cell_type": "code",
   "execution_count": 418,
   "id": "7fdc3788",
   "metadata": {},
   "outputs": [
    {
     "data": {
      "text/plain": [
       "(4, 5)"
      ]
     },
     "execution_count": 418,
     "metadata": {},
     "output_type": "execute_result"
    }
   ],
   "source": [
    "B.shape"
   ]
  },
  {
   "cell_type": "code",
   "execution_count": 419,
   "id": "1dc10f24",
   "metadata": {},
   "outputs": [
    {
     "data": {
      "text/plain": [
       "20"
      ]
     },
     "execution_count": 419,
     "metadata": {},
     "output_type": "execute_result"
    }
   ],
   "source": [
    "B.size"
   ]
  },
  {
   "cell_type": "markdown",
   "id": "3cb5c7d1",
   "metadata": {},
   "source": [
    "# MATHEMATICAL OPERATIONS"
   ]
  },
  {
   "cell_type": "code",
   "execution_count": 420,
   "id": "11e7ca3d",
   "metadata": {},
   "outputs": [
    {
     "data": {
      "text/html": [
       "<div>\n",
       "<style scoped>\n",
       "    .dataframe tbody tr th:only-of-type {\n",
       "        vertical-align: middle;\n",
       "    }\n",
       "\n",
       "    .dataframe tbody tr th {\n",
       "        vertical-align: top;\n",
       "    }\n",
       "\n",
       "    .dataframe thead th {\n",
       "        text-align: right;\n",
       "    }\n",
       "</style>\n",
       "<table border=\"1\" class=\"dataframe\">\n",
       "  <thead>\n",
       "    <tr style=\"text-align: right;\">\n",
       "      <th></th>\n",
       "      <th>Population</th>\n",
       "      <th>age</th>\n",
       "    </tr>\n",
       "  </thead>\n",
       "  <tbody>\n",
       "    <tr>\n",
       "      <th>0</th>\n",
       "      <td>1.5</td>\n",
       "      <td>15</td>\n",
       "    </tr>\n",
       "    <tr>\n",
       "      <th>1</th>\n",
       "      <td>-4.6</td>\n",
       "      <td>16</td>\n",
       "    </tr>\n",
       "    <tr>\n",
       "      <th>2</th>\n",
       "      <td>5.0</td>\n",
       "      <td>15</td>\n",
       "    </tr>\n",
       "    <tr>\n",
       "      <th>3</th>\n",
       "      <td>-4.3</td>\n",
       "      <td>43</td>\n",
       "    </tr>\n",
       "    <tr>\n",
       "      <th>4</th>\n",
       "      <td>2.3</td>\n",
       "      <td>23</td>\n",
       "    </tr>\n",
       "  </tbody>\n",
       "</table>\n",
       "</div>"
      ],
      "text/plain": [
       "   Population  age\n",
       "0         1.5   15\n",
       "1        -4.6   16\n",
       "2         5.0   15\n",
       "3        -4.3   43\n",
       "4         2.3   23"
      ]
     },
     "execution_count": 420,
     "metadata": {},
     "output_type": "execute_result"
    }
   ],
   "source": [
    "X = {\n",
    "    'Population':[1.5,-4.6,5,-4.3,2.3],\n",
    "    'age':[15,16,15,43,23],\n",
    "    }\n",
    "Y = pd.DataFrame(X)\n",
    "Y"
   ]
  },
  {
   "cell_type": "code",
   "execution_count": 421,
   "id": "3a6e37ad",
   "metadata": {},
   "outputs": [
    {
     "data": {
      "text/html": [
       "<div>\n",
       "<style scoped>\n",
       "    .dataframe tbody tr th:only-of-type {\n",
       "        vertical-align: middle;\n",
       "    }\n",
       "\n",
       "    .dataframe tbody tr th {\n",
       "        vertical-align: top;\n",
       "    }\n",
       "\n",
       "    .dataframe thead th {\n",
       "        text-align: right;\n",
       "    }\n",
       "</style>\n",
       "<table border=\"1\" class=\"dataframe\">\n",
       "  <thead>\n",
       "    <tr style=\"text-align: right;\">\n",
       "      <th></th>\n",
       "      <th>Population</th>\n",
       "      <th>age</th>\n",
       "    </tr>\n",
       "  </thead>\n",
       "  <tbody>\n",
       "    <tr>\n",
       "      <th>0</th>\n",
       "      <td>7.5</td>\n",
       "      <td>34</td>\n",
       "    </tr>\n",
       "    <tr>\n",
       "      <th>1</th>\n",
       "      <td>4.0</td>\n",
       "      <td>42</td>\n",
       "    </tr>\n",
       "    <tr>\n",
       "      <th>2</th>\n",
       "      <td>2.3</td>\n",
       "      <td>19</td>\n",
       "    </tr>\n",
       "    <tr>\n",
       "      <th>3</th>\n",
       "      <td>8.7</td>\n",
       "      <td>23</td>\n",
       "    </tr>\n",
       "    <tr>\n",
       "      <th>4</th>\n",
       "      <td>1.6</td>\n",
       "      <td>31</td>\n",
       "    </tr>\n",
       "  </tbody>\n",
       "</table>\n",
       "</div>"
      ],
      "text/plain": [
       "   Population  age\n",
       "0         7.5   34\n",
       "1         4.0   42\n",
       "2         2.3   19\n",
       "3         8.7   23\n",
       "4         1.6   31"
      ]
     },
     "execution_count": 421,
     "metadata": {},
     "output_type": "execute_result"
    }
   ],
   "source": [
    "P = {\n",
    "    'Population':[7.5,4.0,2.3,8.7,1.6],\n",
    "    'age':[34,42,19,23,31],\n",
    "    }\n",
    "Q = pd.DataFrame(P)\n",
    "Q"
   ]
  },
  {
   "cell_type": "code",
   "execution_count": 422,
   "id": "6fde9454",
   "metadata": {},
   "outputs": [
    {
     "data": {
      "text/html": [
       "<div>\n",
       "<style scoped>\n",
       "    .dataframe tbody tr th:only-of-type {\n",
       "        vertical-align: middle;\n",
       "    }\n",
       "\n",
       "    .dataframe tbody tr th {\n",
       "        vertical-align: top;\n",
       "    }\n",
       "\n",
       "    .dataframe thead th {\n",
       "        text-align: right;\n",
       "    }\n",
       "</style>\n",
       "<table border=\"1\" class=\"dataframe\">\n",
       "  <thead>\n",
       "    <tr style=\"text-align: right;\">\n",
       "      <th></th>\n",
       "      <th>Population</th>\n",
       "      <th>age</th>\n",
       "    </tr>\n",
       "  </thead>\n",
       "  <tbody>\n",
       "    <tr>\n",
       "      <th>0</th>\n",
       "      <td>1.5</td>\n",
       "      <td>15</td>\n",
       "    </tr>\n",
       "    <tr>\n",
       "      <th>1</th>\n",
       "      <td>4.6</td>\n",
       "      <td>16</td>\n",
       "    </tr>\n",
       "    <tr>\n",
       "      <th>2</th>\n",
       "      <td>5.0</td>\n",
       "      <td>15</td>\n",
       "    </tr>\n",
       "    <tr>\n",
       "      <th>3</th>\n",
       "      <td>4.3</td>\n",
       "      <td>43</td>\n",
       "    </tr>\n",
       "    <tr>\n",
       "      <th>4</th>\n",
       "      <td>2.3</td>\n",
       "      <td>23</td>\n",
       "    </tr>\n",
       "  </tbody>\n",
       "</table>\n",
       "</div>"
      ],
      "text/plain": [
       "   Population  age\n",
       "0         1.5   15\n",
       "1         4.6   16\n",
       "2         5.0   15\n",
       "3         4.3   43\n",
       "4         2.3   23"
      ]
     },
     "execution_count": 422,
     "metadata": {},
     "output_type": "execute_result"
    }
   ],
   "source": [
    "Y.abs()"
   ]
  },
  {
   "cell_type": "code",
   "execution_count": 423,
   "id": "616ff55c",
   "metadata": {},
   "outputs": [
    {
     "data": {
      "text/html": [
       "<div>\n",
       "<style scoped>\n",
       "    .dataframe tbody tr th:only-of-type {\n",
       "        vertical-align: middle;\n",
       "    }\n",
       "\n",
       "    .dataframe tbody tr th {\n",
       "        vertical-align: top;\n",
       "    }\n",
       "\n",
       "    .dataframe thead th {\n",
       "        text-align: right;\n",
       "    }\n",
       "</style>\n",
       "<table border=\"1\" class=\"dataframe\">\n",
       "  <thead>\n",
       "    <tr style=\"text-align: right;\">\n",
       "      <th></th>\n",
       "      <th>Population</th>\n",
       "      <th>age</th>\n",
       "    </tr>\n",
       "  </thead>\n",
       "  <tbody>\n",
       "    <tr>\n",
       "      <th>0</th>\n",
       "      <td>9.0</td>\n",
       "      <td>49</td>\n",
       "    </tr>\n",
       "    <tr>\n",
       "      <th>1</th>\n",
       "      <td>-0.6</td>\n",
       "      <td>58</td>\n",
       "    </tr>\n",
       "    <tr>\n",
       "      <th>2</th>\n",
       "      <td>7.3</td>\n",
       "      <td>34</td>\n",
       "    </tr>\n",
       "    <tr>\n",
       "      <th>3</th>\n",
       "      <td>4.4</td>\n",
       "      <td>66</td>\n",
       "    </tr>\n",
       "    <tr>\n",
       "      <th>4</th>\n",
       "      <td>3.9</td>\n",
       "      <td>54</td>\n",
       "    </tr>\n",
       "  </tbody>\n",
       "</table>\n",
       "</div>"
      ],
      "text/plain": [
       "   Population  age\n",
       "0         9.0   49\n",
       "1        -0.6   58\n",
       "2         7.3   34\n",
       "3         4.4   66\n",
       "4         3.9   54"
      ]
     },
     "execution_count": 423,
     "metadata": {},
     "output_type": "execute_result"
    }
   ],
   "source": [
    "Y.add(Q)"
   ]
  },
  {
   "cell_type": "code",
   "execution_count": 424,
   "id": "91e9152d",
   "metadata": {},
   "outputs": [
    {
     "data": {
      "text/plain": [
       "Population     -0.1\n",
       "age           112.0\n",
       "dtype: float64"
      ]
     },
     "execution_count": 424,
     "metadata": {},
     "output_type": "execute_result"
    }
   ],
   "source": [
    "Y.agg('sum')"
   ]
  },
  {
   "cell_type": "code",
   "execution_count": 425,
   "id": "17d013fb",
   "metadata": {},
   "outputs": [
    {
     "data": {
      "text/plain": [
       "Population    -4.6\n",
       "age           15.0\n",
       "dtype: float64"
      ]
     },
     "execution_count": 425,
     "metadata": {},
     "output_type": "execute_result"
    }
   ],
   "source": [
    "Y.agg('min')"
   ]
  },
  {
   "cell_type": "code",
   "execution_count": 426,
   "id": "867f3724",
   "metadata": {},
   "outputs": [
    {
     "data": {
      "text/plain": [
       "Population     5.0\n",
       "age           43.0\n",
       "dtype: float64"
      ]
     },
     "execution_count": 426,
     "metadata": {},
     "output_type": "execute_result"
    }
   ],
   "source": [
    "Y.agg('max')"
   ]
  },
  {
   "cell_type": "code",
   "execution_count": 427,
   "id": "c7991955",
   "metadata": {},
   "outputs": [
    {
     "data": {
      "text/html": [
       "<div>\n",
       "<style scoped>\n",
       "    .dataframe tbody tr th:only-of-type {\n",
       "        vertical-align: middle;\n",
       "    }\n",
       "\n",
       "    .dataframe tbody tr th {\n",
       "        vertical-align: top;\n",
       "    }\n",
       "\n",
       "    .dataframe thead th {\n",
       "        text-align: right;\n",
       "    }\n",
       "</style>\n",
       "<table border=\"1\" class=\"dataframe\">\n",
       "  <thead>\n",
       "    <tr style=\"text-align: right;\">\n",
       "      <th></th>\n",
       "      <th>Population</th>\n",
       "      <th>age</th>\n",
       "    </tr>\n",
       "  </thead>\n",
       "  <tbody>\n",
       "    <tr>\n",
       "      <th>sum</th>\n",
       "      <td>-0.1</td>\n",
       "      <td>112</td>\n",
       "    </tr>\n",
       "    <tr>\n",
       "      <th>min</th>\n",
       "      <td>-4.6</td>\n",
       "      <td>15</td>\n",
       "    </tr>\n",
       "    <tr>\n",
       "      <th>max</th>\n",
       "      <td>5.0</td>\n",
       "      <td>43</td>\n",
       "    </tr>\n",
       "  </tbody>\n",
       "</table>\n",
       "</div>"
      ],
      "text/plain": [
       "     Population  age\n",
       "sum        -0.1  112\n",
       "min        -4.6   15\n",
       "max         5.0   43"
      ]
     },
     "execution_count": 427,
     "metadata": {},
     "output_type": "execute_result"
    }
   ],
   "source": [
    "Y.aggregate(['sum','min','max'])"
   ]
  },
  {
   "cell_type": "code",
   "execution_count": 428,
   "id": "cd1e5231",
   "metadata": {},
   "outputs": [
    {
     "data": {
      "text/html": [
       "<div>\n",
       "<style scoped>\n",
       "    .dataframe tbody tr th:only-of-type {\n",
       "        vertical-align: middle;\n",
       "    }\n",
       "\n",
       "    .dataframe tbody tr th {\n",
       "        vertical-align: top;\n",
       "    }\n",
       "\n",
       "    .dataframe thead th {\n",
       "        text-align: right;\n",
       "    }\n",
       "</style>\n",
       "<table border=\"1\" class=\"dataframe\">\n",
       "  <thead>\n",
       "    <tr style=\"text-align: right;\">\n",
       "      <th></th>\n",
       "      <th>Population</th>\n",
       "      <th>age</th>\n",
       "    </tr>\n",
       "  </thead>\n",
       "  <tbody>\n",
       "    <tr>\n",
       "      <th>Population</th>\n",
       "      <td>1.000000</td>\n",
       "      <td>-0.519505</td>\n",
       "    </tr>\n",
       "    <tr>\n",
       "      <th>age</th>\n",
       "      <td>-0.519505</td>\n",
       "      <td>1.000000</td>\n",
       "    </tr>\n",
       "  </tbody>\n",
       "</table>\n",
       "</div>"
      ],
      "text/plain": [
       "            Population       age\n",
       "Population    1.000000 -0.519505\n",
       "age          -0.519505  1.000000"
      ]
     },
     "execution_count": 428,
     "metadata": {},
     "output_type": "execute_result"
    }
   ],
   "source": [
    "Y.corr()"
   ]
  },
  {
   "cell_type": "code",
   "execution_count": 429,
   "id": "977a0137",
   "metadata": {},
   "outputs": [
    {
     "data": {
      "text/plain": [
       "Population   -0.540299\n",
       "age          -0.386514\n",
       "dtype: float64"
      ]
     },
     "execution_count": 429,
     "metadata": {},
     "output_type": "execute_result"
    }
   ],
   "source": [
    "Y.corrwith(Q)"
   ]
  },
  {
   "cell_type": "code",
   "execution_count": 430,
   "id": "deec15bc",
   "metadata": {},
   "outputs": [
    {
     "data": {
      "text/html": [
       "<div>\n",
       "<style scoped>\n",
       "    .dataframe tbody tr th:only-of-type {\n",
       "        vertical-align: middle;\n",
       "    }\n",
       "\n",
       "    .dataframe tbody tr th {\n",
       "        vertical-align: top;\n",
       "    }\n",
       "\n",
       "    .dataframe thead th {\n",
       "        text-align: right;\n",
       "    }\n",
       "</style>\n",
       "<table border=\"1\" class=\"dataframe\">\n",
       "  <thead>\n",
       "    <tr style=\"text-align: right;\">\n",
       "      <th></th>\n",
       "      <th>Population</th>\n",
       "      <th>age</th>\n",
       "    </tr>\n",
       "  </thead>\n",
       "  <tbody>\n",
       "    <tr>\n",
       "      <th>Population</th>\n",
       "      <td>18.047</td>\n",
       "      <td>-26.465</td>\n",
       "    </tr>\n",
       "    <tr>\n",
       "      <th>age</th>\n",
       "      <td>-26.465</td>\n",
       "      <td>143.800</td>\n",
       "    </tr>\n",
       "  </tbody>\n",
       "</table>\n",
       "</div>"
      ],
      "text/plain": [
       "            Population      age\n",
       "Population      18.047  -26.465\n",
       "age            -26.465  143.800"
      ]
     },
     "execution_count": 430,
     "metadata": {},
     "output_type": "execute_result"
    }
   ],
   "source": [
    "Y.cov()"
   ]
  },
  {
   "cell_type": "code",
   "execution_count": 431,
   "id": "337dd20e",
   "metadata": {},
   "outputs": [
    {
     "data": {
      "text/html": [
       "<div>\n",
       "<style scoped>\n",
       "    .dataframe tbody tr th:only-of-type {\n",
       "        vertical-align: middle;\n",
       "    }\n",
       "\n",
       "    .dataframe tbody tr th {\n",
       "        vertical-align: top;\n",
       "    }\n",
       "\n",
       "    .dataframe thead th {\n",
       "        text-align: right;\n",
       "    }\n",
       "</style>\n",
       "<table border=\"1\" class=\"dataframe\">\n",
       "  <thead>\n",
       "    <tr style=\"text-align: right;\">\n",
       "      <th></th>\n",
       "      <th>Population</th>\n",
       "      <th>age</th>\n",
       "    </tr>\n",
       "  </thead>\n",
       "  <tbody>\n",
       "    <tr>\n",
       "      <th>0</th>\n",
       "      <td>1.5</td>\n",
       "      <td>15</td>\n",
       "    </tr>\n",
       "    <tr>\n",
       "      <th>1</th>\n",
       "      <td>1.5</td>\n",
       "      <td>16</td>\n",
       "    </tr>\n",
       "    <tr>\n",
       "      <th>2</th>\n",
       "      <td>5.0</td>\n",
       "      <td>16</td>\n",
       "    </tr>\n",
       "    <tr>\n",
       "      <th>3</th>\n",
       "      <td>5.0</td>\n",
       "      <td>43</td>\n",
       "    </tr>\n",
       "    <tr>\n",
       "      <th>4</th>\n",
       "      <td>5.0</td>\n",
       "      <td>43</td>\n",
       "    </tr>\n",
       "  </tbody>\n",
       "</table>\n",
       "</div>"
      ],
      "text/plain": [
       "   Population  age\n",
       "0         1.5   15\n",
       "1         1.5   16\n",
       "2         5.0   16\n",
       "3         5.0   43\n",
       "4         5.0   43"
      ]
     },
     "execution_count": 431,
     "metadata": {},
     "output_type": "execute_result"
    }
   ],
   "source": [
    "Y.cummax()"
   ]
  },
  {
   "cell_type": "code",
   "execution_count": 432,
   "id": "8ae588ec",
   "metadata": {},
   "outputs": [
    {
     "data": {
      "text/html": [
       "<div>\n",
       "<style scoped>\n",
       "    .dataframe tbody tr th:only-of-type {\n",
       "        vertical-align: middle;\n",
       "    }\n",
       "\n",
       "    .dataframe tbody tr th {\n",
       "        vertical-align: top;\n",
       "    }\n",
       "\n",
       "    .dataframe thead th {\n",
       "        text-align: right;\n",
       "    }\n",
       "</style>\n",
       "<table border=\"1\" class=\"dataframe\">\n",
       "  <thead>\n",
       "    <tr style=\"text-align: right;\">\n",
       "      <th></th>\n",
       "      <th>Population</th>\n",
       "      <th>age</th>\n",
       "    </tr>\n",
       "  </thead>\n",
       "  <tbody>\n",
       "    <tr>\n",
       "      <th>0</th>\n",
       "      <td>1.5</td>\n",
       "      <td>15</td>\n",
       "    </tr>\n",
       "    <tr>\n",
       "      <th>1</th>\n",
       "      <td>-4.6</td>\n",
       "      <td>15</td>\n",
       "    </tr>\n",
       "    <tr>\n",
       "      <th>2</th>\n",
       "      <td>-4.6</td>\n",
       "      <td>15</td>\n",
       "    </tr>\n",
       "    <tr>\n",
       "      <th>3</th>\n",
       "      <td>-4.6</td>\n",
       "      <td>15</td>\n",
       "    </tr>\n",
       "    <tr>\n",
       "      <th>4</th>\n",
       "      <td>-4.6</td>\n",
       "      <td>15</td>\n",
       "    </tr>\n",
       "  </tbody>\n",
       "</table>\n",
       "</div>"
      ],
      "text/plain": [
       "   Population  age\n",
       "0         1.5   15\n",
       "1        -4.6   15\n",
       "2        -4.6   15\n",
       "3        -4.6   15\n",
       "4        -4.6   15"
      ]
     },
     "execution_count": 432,
     "metadata": {},
     "output_type": "execute_result"
    }
   ],
   "source": [
    "Y.cummin()"
   ]
  },
  {
   "cell_type": "code",
   "execution_count": 433,
   "id": "bacd61f1",
   "metadata": {},
   "outputs": [
    {
     "data": {
      "text/html": [
       "<div>\n",
       "<style scoped>\n",
       "    .dataframe tbody tr th:only-of-type {\n",
       "        vertical-align: middle;\n",
       "    }\n",
       "\n",
       "    .dataframe tbody tr th {\n",
       "        vertical-align: top;\n",
       "    }\n",
       "\n",
       "    .dataframe thead th {\n",
       "        text-align: right;\n",
       "    }\n",
       "</style>\n",
       "<table border=\"1\" class=\"dataframe\">\n",
       "  <thead>\n",
       "    <tr style=\"text-align: right;\">\n",
       "      <th></th>\n",
       "      <th>Population</th>\n",
       "      <th>age</th>\n",
       "    </tr>\n",
       "  </thead>\n",
       "  <tbody>\n",
       "    <tr>\n",
       "      <th>0</th>\n",
       "      <td>1.5</td>\n",
       "      <td>15</td>\n",
       "    </tr>\n",
       "    <tr>\n",
       "      <th>1</th>\n",
       "      <td>-3.1</td>\n",
       "      <td>31</td>\n",
       "    </tr>\n",
       "    <tr>\n",
       "      <th>2</th>\n",
       "      <td>1.9</td>\n",
       "      <td>46</td>\n",
       "    </tr>\n",
       "    <tr>\n",
       "      <th>3</th>\n",
       "      <td>-2.4</td>\n",
       "      <td>89</td>\n",
       "    </tr>\n",
       "    <tr>\n",
       "      <th>4</th>\n",
       "      <td>-0.1</td>\n",
       "      <td>112</td>\n",
       "    </tr>\n",
       "  </tbody>\n",
       "</table>\n",
       "</div>"
      ],
      "text/plain": [
       "   Population  age\n",
       "0         1.5   15\n",
       "1        -3.1   31\n",
       "2         1.9   46\n",
       "3        -2.4   89\n",
       "4        -0.1  112"
      ]
     },
     "execution_count": 433,
     "metadata": {},
     "output_type": "execute_result"
    }
   ],
   "source": [
    "Y.cumsum()"
   ]
  },
  {
   "cell_type": "code",
   "execution_count": 434,
   "id": "4e92f0c6",
   "metadata": {},
   "outputs": [
    {
     "data": {
      "text/html": [
       "<div>\n",
       "<style scoped>\n",
       "    .dataframe tbody tr th:only-of-type {\n",
       "        vertical-align: middle;\n",
       "    }\n",
       "\n",
       "    .dataframe tbody tr th {\n",
       "        vertical-align: top;\n",
       "    }\n",
       "\n",
       "    .dataframe thead th {\n",
       "        text-align: right;\n",
       "    }\n",
       "</style>\n",
       "<table border=\"1\" class=\"dataframe\">\n",
       "  <thead>\n",
       "    <tr style=\"text-align: right;\">\n",
       "      <th></th>\n",
       "      <th>Population</th>\n",
       "      <th>age</th>\n",
       "    </tr>\n",
       "  </thead>\n",
       "  <tbody>\n",
       "    <tr>\n",
       "      <th>0</th>\n",
       "      <td>1.500</td>\n",
       "      <td>15</td>\n",
       "    </tr>\n",
       "    <tr>\n",
       "      <th>1</th>\n",
       "      <td>-6.900</td>\n",
       "      <td>240</td>\n",
       "    </tr>\n",
       "    <tr>\n",
       "      <th>2</th>\n",
       "      <td>-34.500</td>\n",
       "      <td>3600</td>\n",
       "    </tr>\n",
       "    <tr>\n",
       "      <th>3</th>\n",
       "      <td>148.350</td>\n",
       "      <td>154800</td>\n",
       "    </tr>\n",
       "    <tr>\n",
       "      <th>4</th>\n",
       "      <td>341.205</td>\n",
       "      <td>3560400</td>\n",
       "    </tr>\n",
       "  </tbody>\n",
       "</table>\n",
       "</div>"
      ],
      "text/plain": [
       "   Population      age\n",
       "0       1.500       15\n",
       "1      -6.900      240\n",
       "2     -34.500     3600\n",
       "3     148.350   154800\n",
       "4     341.205  3560400"
      ]
     },
     "execution_count": 434,
     "metadata": {},
     "output_type": "execute_result"
    }
   ],
   "source": [
    "Y.cumprod()"
   ]
  },
  {
   "cell_type": "code",
   "execution_count": 435,
   "id": "d4612de9",
   "metadata": {},
   "outputs": [
    {
     "data": {
      "text/html": [
       "<div>\n",
       "<style scoped>\n",
       "    .dataframe tbody tr th:only-of-type {\n",
       "        vertical-align: middle;\n",
       "    }\n",
       "\n",
       "    .dataframe tbody tr th {\n",
       "        vertical-align: top;\n",
       "    }\n",
       "\n",
       "    .dataframe thead th {\n",
       "        text-align: right;\n",
       "    }\n",
       "</style>\n",
       "<table border=\"1\" class=\"dataframe\">\n",
       "  <thead>\n",
       "    <tr style=\"text-align: right;\">\n",
       "      <th></th>\n",
       "      <th>Population</th>\n",
       "      <th>age</th>\n",
       "    </tr>\n",
       "  </thead>\n",
       "  <tbody>\n",
       "    <tr>\n",
       "      <th>0</th>\n",
       "      <td>0.75</td>\n",
       "      <td>7.5</td>\n",
       "    </tr>\n",
       "    <tr>\n",
       "      <th>1</th>\n",
       "      <td>-2.30</td>\n",
       "      <td>8.0</td>\n",
       "    </tr>\n",
       "    <tr>\n",
       "      <th>2</th>\n",
       "      <td>2.50</td>\n",
       "      <td>7.5</td>\n",
       "    </tr>\n",
       "    <tr>\n",
       "      <th>3</th>\n",
       "      <td>-2.15</td>\n",
       "      <td>21.5</td>\n",
       "    </tr>\n",
       "    <tr>\n",
       "      <th>4</th>\n",
       "      <td>1.15</td>\n",
       "      <td>11.5</td>\n",
       "    </tr>\n",
       "  </tbody>\n",
       "</table>\n",
       "</div>"
      ],
      "text/plain": [
       "   Population   age\n",
       "0        0.75   7.5\n",
       "1       -2.30   8.0\n",
       "2        2.50   7.5\n",
       "3       -2.15  21.5\n",
       "4        1.15  11.5"
      ]
     },
     "execution_count": 435,
     "metadata": {},
     "output_type": "execute_result"
    }
   ],
   "source": [
    "Y.div(2)"
   ]
  },
  {
   "cell_type": "code",
   "execution_count": 436,
   "id": "d78758e7",
   "metadata": {},
   "outputs": [
    {
     "data": {
      "text/plain": [
       "Population    3.544\n",
       "age           8.480\n",
       "dtype: float64"
      ]
     },
     "execution_count": 436,
     "metadata": {},
     "output_type": "execute_result"
    }
   ],
   "source": [
    "Y.mad(axis=0,skipna=True,level=None)"
   ]
  },
  {
   "cell_type": "markdown",
   "id": "c2347cd9",
   "metadata": {},
   "source": [
    "    Return the mean absolute deviation of the values over the requested axis."
   ]
  },
  {
   "cell_type": "code",
   "execution_count": 437,
   "id": "5ef8b8ea",
   "metadata": {},
   "outputs": [
    {
     "data": {
      "text/plain": [
       "Population     5.0\n",
       "age           43.0\n",
       "dtype: float64"
      ]
     },
     "execution_count": 437,
     "metadata": {},
     "output_type": "execute_result"
    }
   ],
   "source": [
    "Y.max(axis=0,skipna=True,level=None,numeric_only=True)"
   ]
  },
  {
   "cell_type": "code",
   "execution_count": 438,
   "id": "7f599005",
   "metadata": {},
   "outputs": [
    {
     "data": {
      "text/plain": [
       "Population    -4.6\n",
       "age           15.0\n",
       "dtype: float64"
      ]
     },
     "execution_count": 438,
     "metadata": {},
     "output_type": "execute_result"
    }
   ],
   "source": [
    "Y.min(axis=0,skipna=True,level=None,numeric_only=True)"
   ]
  },
  {
   "cell_type": "code",
   "execution_count": 439,
   "id": "5d92b279",
   "metadata": {},
   "outputs": [
    {
     "data": {
      "text/plain": [
       "Population    -0.02\n",
       "age           22.40\n",
       "dtype: float64"
      ]
     },
     "execution_count": 439,
     "metadata": {},
     "output_type": "execute_result"
    }
   ],
   "source": [
    "Y.mean(axis=0,skipna=True,level=None,numeric_only=True)"
   ]
  },
  {
   "cell_type": "code",
   "execution_count": 440,
   "id": "b507ef8e",
   "metadata": {},
   "outputs": [
    {
     "data": {
      "text/plain": [
       "Population     1.5\n",
       "age           16.0\n",
       "dtype: float64"
      ]
     },
     "execution_count": 440,
     "metadata": {},
     "output_type": "execute_result"
    }
   ],
   "source": [
    "Y.median(axis=0,skipna=True,level=None,numeric_only=True)"
   ]
  },
  {
   "cell_type": "code",
   "execution_count": 441,
   "id": "097c0136",
   "metadata": {},
   "outputs": [
    {
     "data": {
      "text/plain": [
       "0    15\n",
       "Name: age, dtype: int64"
      ]
     },
     "execution_count": 441,
     "metadata": {},
     "output_type": "execute_result"
    }
   ],
   "source": [
    "Y['age'].mode()"
   ]
  },
  {
   "cell_type": "code",
   "execution_count": 442,
   "id": "fe153d97",
   "metadata": {},
   "outputs": [
    {
     "data": {
      "text/html": [
       "<div>\n",
       "<style scoped>\n",
       "    .dataframe tbody tr th:only-of-type {\n",
       "        vertical-align: middle;\n",
       "    }\n",
       "\n",
       "    .dataframe tbody tr th {\n",
       "        vertical-align: top;\n",
       "    }\n",
       "\n",
       "    .dataframe thead th {\n",
       "        text-align: right;\n",
       "    }\n",
       "</style>\n",
       "<table border=\"1\" class=\"dataframe\">\n",
       "  <thead>\n",
       "    <tr style=\"text-align: right;\">\n",
       "      <th></th>\n",
       "      <th>Population</th>\n",
       "      <th>age</th>\n",
       "    </tr>\n",
       "  </thead>\n",
       "  <tbody>\n",
       "    <tr>\n",
       "      <th>0</th>\n",
       "      <td>7.5</td>\n",
       "      <td>75</td>\n",
       "    </tr>\n",
       "    <tr>\n",
       "      <th>1</th>\n",
       "      <td>-23.0</td>\n",
       "      <td>80</td>\n",
       "    </tr>\n",
       "    <tr>\n",
       "      <th>2</th>\n",
       "      <td>25.0</td>\n",
       "      <td>75</td>\n",
       "    </tr>\n",
       "    <tr>\n",
       "      <th>3</th>\n",
       "      <td>-21.5</td>\n",
       "      <td>215</td>\n",
       "    </tr>\n",
       "    <tr>\n",
       "      <th>4</th>\n",
       "      <td>11.5</td>\n",
       "      <td>115</td>\n",
       "    </tr>\n",
       "  </tbody>\n",
       "</table>\n",
       "</div>"
      ],
      "text/plain": [
       "   Population  age\n",
       "0         7.5   75\n",
       "1       -23.0   80\n",
       "2        25.0   75\n",
       "3       -21.5  215\n",
       "4        11.5  115"
      ]
     },
     "execution_count": 442,
     "metadata": {},
     "output_type": "execute_result"
    }
   ],
   "source": [
    "Y.mul(5)"
   ]
  },
  {
   "cell_type": "code",
   "execution_count": 443,
   "id": "ef41182d",
   "metadata": {},
   "outputs": [
    {
     "data": {
      "text/plain": [
       "0     60\n",
       "1     64\n",
       "2     60\n",
       "3    172\n",
       "4     92\n",
       "Name: age, dtype: int64"
      ]
     },
     "execution_count": 443,
     "metadata": {},
     "output_type": "execute_result"
    }
   ],
   "source": [
    "Y['age'].multiply(4)"
   ]
  },
  {
   "cell_type": "code",
   "execution_count": 444,
   "id": "824fc469",
   "metadata": {},
   "outputs": [
    {
     "data": {
      "text/html": [
       "<div>\n",
       "<style scoped>\n",
       "    .dataframe tbody tr th:only-of-type {\n",
       "        vertical-align: middle;\n",
       "    }\n",
       "\n",
       "    .dataframe tbody tr th {\n",
       "        vertical-align: top;\n",
       "    }\n",
       "\n",
       "    .dataframe thead th {\n",
       "        text-align: right;\n",
       "    }\n",
       "</style>\n",
       "<table border=\"1\" class=\"dataframe\">\n",
       "  <thead>\n",
       "    <tr style=\"text-align: right;\">\n",
       "      <th></th>\n",
       "      <th>Population</th>\n",
       "      <th>age</th>\n",
       "    </tr>\n",
       "  </thead>\n",
       "  <tbody>\n",
       "    <tr>\n",
       "      <th>3</th>\n",
       "      <td>-4.3</td>\n",
       "      <td>43</td>\n",
       "    </tr>\n",
       "    <tr>\n",
       "      <th>4</th>\n",
       "      <td>2.3</td>\n",
       "      <td>23</td>\n",
       "    </tr>\n",
       "  </tbody>\n",
       "</table>\n",
       "</div>"
      ],
      "text/plain": [
       "   Population  age\n",
       "3        -4.3   43\n",
       "4         2.3   23"
      ]
     },
     "execution_count": 444,
     "metadata": {},
     "output_type": "execute_result"
    }
   ],
   "source": [
    "Y.nlargest(2,columns=['age'],keep='first')"
   ]
  },
  {
   "cell_type": "markdown",
   "id": "cc41331a",
   "metadata": {},
   "source": [
    "    This method is equivalent to df.sort_values(columns, ascending=False).head(n) but more performant. keep is used when there is a duplicate values keep : {'first', 'last', 'all'}, default 'first'."
   ]
  },
  {
   "cell_type": "code",
   "execution_count": 445,
   "id": "c11825e3",
   "metadata": {},
   "outputs": [
    {
     "data": {
      "text/html": [
       "<div>\n",
       "<style scoped>\n",
       "    .dataframe tbody tr th:only-of-type {\n",
       "        vertical-align: middle;\n",
       "    }\n",
       "\n",
       "    .dataframe tbody tr th {\n",
       "        vertical-align: top;\n",
       "    }\n",
       "\n",
       "    .dataframe thead th {\n",
       "        text-align: right;\n",
       "    }\n",
       "</style>\n",
       "<table border=\"1\" class=\"dataframe\">\n",
       "  <thead>\n",
       "    <tr style=\"text-align: right;\">\n",
       "      <th></th>\n",
       "      <th>Population</th>\n",
       "      <th>age</th>\n",
       "    </tr>\n",
       "  </thead>\n",
       "  <tbody>\n",
       "    <tr>\n",
       "      <th>0</th>\n",
       "      <td>1.5</td>\n",
       "      <td>15</td>\n",
       "    </tr>\n",
       "    <tr>\n",
       "      <th>2</th>\n",
       "      <td>5.0</td>\n",
       "      <td>15</td>\n",
       "    </tr>\n",
       "  </tbody>\n",
       "</table>\n",
       "</div>"
      ],
      "text/plain": [
       "   Population  age\n",
       "0         1.5   15\n",
       "2         5.0   15"
      ]
     },
     "execution_count": 445,
     "metadata": {},
     "output_type": "execute_result"
    }
   ],
   "source": [
    "Y.nsmallest(2,columns=['age'],keep='first')"
   ]
  },
  {
   "cell_type": "markdown",
   "id": "2eee1f13",
   "metadata": {},
   "source": [
    "    This method is equivalent to df.sort_values(columns, ascending=True).head(n) but more performant."
   ]
  },
  {
   "cell_type": "code",
   "execution_count": 446,
   "id": "ac52a336",
   "metadata": {},
   "outputs": [
    {
     "data": {
      "text/html": [
       "<div>\n",
       "<style scoped>\n",
       "    .dataframe tbody tr th:only-of-type {\n",
       "        vertical-align: middle;\n",
       "    }\n",
       "\n",
       "    .dataframe tbody tr th {\n",
       "        vertical-align: top;\n",
       "    }\n",
       "\n",
       "    .dataframe thead th {\n",
       "        text-align: right;\n",
       "    }\n",
       "</style>\n",
       "<table border=\"1\" class=\"dataframe\">\n",
       "  <thead>\n",
       "    <tr style=\"text-align: right;\">\n",
       "      <th></th>\n",
       "      <th>Population</th>\n",
       "      <th>age</th>\n",
       "    </tr>\n",
       "  </thead>\n",
       "  <tbody>\n",
       "    <tr>\n",
       "      <th>0</th>\n",
       "      <td>2.25</td>\n",
       "      <td>225</td>\n",
       "    </tr>\n",
       "    <tr>\n",
       "      <th>1</th>\n",
       "      <td>21.16</td>\n",
       "      <td>256</td>\n",
       "    </tr>\n",
       "    <tr>\n",
       "      <th>2</th>\n",
       "      <td>25.00</td>\n",
       "      <td>225</td>\n",
       "    </tr>\n",
       "    <tr>\n",
       "      <th>3</th>\n",
       "      <td>18.49</td>\n",
       "      <td>1849</td>\n",
       "    </tr>\n",
       "    <tr>\n",
       "      <th>4</th>\n",
       "      <td>5.29</td>\n",
       "      <td>529</td>\n",
       "    </tr>\n",
       "  </tbody>\n",
       "</table>\n",
       "</div>"
      ],
      "text/plain": [
       "   Population   age\n",
       "0        2.25   225\n",
       "1       21.16   256\n",
       "2       25.00   225\n",
       "3       18.49  1849\n",
       "4        5.29   529"
      ]
     },
     "execution_count": 446,
     "metadata": {},
     "output_type": "execute_result"
    }
   ],
   "source": [
    "Y.pow(2)"
   ]
  },
  {
   "cell_type": "code",
   "execution_count": 447,
   "id": "2d2a29c8",
   "metadata": {},
   "outputs": [
    {
     "data": {
      "text/plain": [
       "Population        341.205\n",
       "age           3560400.000\n",
       "dtype: float64"
      ]
     },
     "execution_count": 447,
     "metadata": {},
     "output_type": "execute_result"
    }
   ],
   "source": [
    "Y.prod()"
   ]
  },
  {
   "cell_type": "code",
   "execution_count": 448,
   "id": "f7fb9667",
   "metadata": {},
   "outputs": [
    {
     "data": {
      "text/plain": [
       "Population        341.205\n",
       "age           3560400.000\n",
       "dtype: float64"
      ]
     },
     "execution_count": 448,
     "metadata": {},
     "output_type": "execute_result"
    }
   ],
   "source": [
    "Y.product()"
   ]
  },
  {
   "cell_type": "code",
   "execution_count": 449,
   "id": "c483d8fb",
   "metadata": {},
   "outputs": [
    {
     "data": {
      "text/plain": [
       "Population    -4.6\n",
       "age           15.0\n",
       "Name: 0.0, dtype: float64"
      ]
     },
     "execution_count": 449,
     "metadata": {},
     "output_type": "execute_result"
    }
   ],
   "source": [
    "Y.quantile(0)"
   ]
  },
  {
   "cell_type": "code",
   "execution_count": 450,
   "id": "db25af2f",
   "metadata": {},
   "outputs": [
    {
     "data": {
      "text/plain": [
       "Population     1.5\n",
       "age           16.0\n",
       "Name: 0.5, dtype: float64"
      ]
     },
     "execution_count": 450,
     "metadata": {},
     "output_type": "execute_result"
    }
   ],
   "source": [
    "Y.quantile(0.5)"
   ]
  },
  {
   "cell_type": "code",
   "execution_count": 451,
   "id": "e2da4b2a",
   "metadata": {},
   "outputs": [
    {
     "data": {
      "text/plain": [
       "Population     5.0\n",
       "age           43.0\n",
       "Name: 1.0, dtype: float64"
      ]
     },
     "execution_count": 451,
     "metadata": {},
     "output_type": "execute_result"
    }
   ],
   "source": [
    "Y.quantile(1)"
   ]
  },
  {
   "cell_type": "code",
   "execution_count": 452,
   "id": "d4d80049",
   "metadata": {},
   "outputs": [
    {
     "data": {
      "text/html": [
       "<div>\n",
       "<style scoped>\n",
       "    .dataframe tbody tr th:only-of-type {\n",
       "        vertical-align: middle;\n",
       "    }\n",
       "\n",
       "    .dataframe tbody tr th {\n",
       "        vertical-align: top;\n",
       "    }\n",
       "\n",
       "    .dataframe thead th {\n",
       "        text-align: right;\n",
       "    }\n",
       "</style>\n",
       "<table border=\"1\" class=\"dataframe\">\n",
       "  <thead>\n",
       "    <tr style=\"text-align: right;\">\n",
       "      <th></th>\n",
       "      <th>Population</th>\n",
       "      <th>age</th>\n",
       "    </tr>\n",
       "  </thead>\n",
       "  <tbody>\n",
       "    <tr>\n",
       "      <th>0</th>\n",
       "      <td>11.5</td>\n",
       "      <td>25</td>\n",
       "    </tr>\n",
       "    <tr>\n",
       "      <th>1</th>\n",
       "      <td>5.4</td>\n",
       "      <td>26</td>\n",
       "    </tr>\n",
       "    <tr>\n",
       "      <th>2</th>\n",
       "      <td>15.0</td>\n",
       "      <td>25</td>\n",
       "    </tr>\n",
       "    <tr>\n",
       "      <th>3</th>\n",
       "      <td>5.7</td>\n",
       "      <td>53</td>\n",
       "    </tr>\n",
       "    <tr>\n",
       "      <th>4</th>\n",
       "      <td>12.3</td>\n",
       "      <td>33</td>\n",
       "    </tr>\n",
       "  </tbody>\n",
       "</table>\n",
       "</div>"
      ],
      "text/plain": [
       "   Population  age\n",
       "0        11.5   25\n",
       "1         5.4   26\n",
       "2        15.0   25\n",
       "3         5.7   53\n",
       "4        12.3   33"
      ]
     },
     "execution_count": 452,
     "metadata": {},
     "output_type": "execute_result"
    }
   ],
   "source": [
    "Y.radd(10)"
   ]
  },
  {
   "cell_type": "code",
   "execution_count": 453,
   "id": "7f84292b",
   "metadata": {},
   "outputs": [
    {
     "data": {
      "text/html": [
       "<div>\n",
       "<style scoped>\n",
       "    .dataframe tbody tr th:only-of-type {\n",
       "        vertical-align: middle;\n",
       "    }\n",
       "\n",
       "    .dataframe tbody tr th {\n",
       "        vertical-align: top;\n",
       "    }\n",
       "\n",
       "    .dataframe thead th {\n",
       "        text-align: right;\n",
       "    }\n",
       "</style>\n",
       "<table border=\"1\" class=\"dataframe\">\n",
       "  <thead>\n",
       "    <tr style=\"text-align: right;\">\n",
       "      <th></th>\n",
       "      <th>Population</th>\n",
       "      <th>age</th>\n",
       "    </tr>\n",
       "  </thead>\n",
       "  <tbody>\n",
       "    <tr>\n",
       "      <th>0</th>\n",
       "      <td>3.0</td>\n",
       "      <td>1.5</td>\n",
       "    </tr>\n",
       "    <tr>\n",
       "      <th>1</th>\n",
       "      <td>1.0</td>\n",
       "      <td>3.0</td>\n",
       "    </tr>\n",
       "    <tr>\n",
       "      <th>2</th>\n",
       "      <td>5.0</td>\n",
       "      <td>1.5</td>\n",
       "    </tr>\n",
       "    <tr>\n",
       "      <th>3</th>\n",
       "      <td>2.0</td>\n",
       "      <td>5.0</td>\n",
       "    </tr>\n",
       "    <tr>\n",
       "      <th>4</th>\n",
       "      <td>4.0</td>\n",
       "      <td>4.0</td>\n",
       "    </tr>\n",
       "  </tbody>\n",
       "</table>\n",
       "</div>"
      ],
      "text/plain": [
       "   Population  age\n",
       "0         3.0  1.5\n",
       "1         1.0  3.0\n",
       "2         5.0  1.5\n",
       "3         2.0  5.0\n",
       "4         4.0  4.0"
      ]
     },
     "execution_count": 453,
     "metadata": {},
     "output_type": "execute_result"
    }
   ],
   "source": [
    "Y.rank()"
   ]
  },
  {
   "cell_type": "code",
   "execution_count": 454,
   "id": "daff096c",
   "metadata": {},
   "outputs": [
    {
     "data": {
      "text/html": [
       "<div>\n",
       "<style scoped>\n",
       "    .dataframe tbody tr th:only-of-type {\n",
       "        vertical-align: middle;\n",
       "    }\n",
       "\n",
       "    .dataframe tbody tr th {\n",
       "        vertical-align: top;\n",
       "    }\n",
       "\n",
       "    .dataframe thead th {\n",
       "        text-align: right;\n",
       "    }\n",
       "</style>\n",
       "<table border=\"1\" class=\"dataframe\">\n",
       "  <thead>\n",
       "    <tr style=\"text-align: right;\">\n",
       "      <th></th>\n",
       "      <th>Population</th>\n",
       "      <th>age</th>\n",
       "    </tr>\n",
       "  </thead>\n",
       "  <tbody>\n",
       "    <tr>\n",
       "      <th>0</th>\n",
       "      <td>1.333333</td>\n",
       "      <td>0.133333</td>\n",
       "    </tr>\n",
       "    <tr>\n",
       "      <th>1</th>\n",
       "      <td>-0.434783</td>\n",
       "      <td>0.125000</td>\n",
       "    </tr>\n",
       "    <tr>\n",
       "      <th>2</th>\n",
       "      <td>0.400000</td>\n",
       "      <td>0.133333</td>\n",
       "    </tr>\n",
       "    <tr>\n",
       "      <th>3</th>\n",
       "      <td>-0.465116</td>\n",
       "      <td>0.046512</td>\n",
       "    </tr>\n",
       "    <tr>\n",
       "      <th>4</th>\n",
       "      <td>0.869565</td>\n",
       "      <td>0.086957</td>\n",
       "    </tr>\n",
       "  </tbody>\n",
       "</table>\n",
       "</div>"
      ],
      "text/plain": [
       "   Population       age\n",
       "0    1.333333  0.133333\n",
       "1   -0.434783  0.125000\n",
       "2    0.400000  0.133333\n",
       "3   -0.465116  0.046512\n",
       "4    0.869565  0.086957"
      ]
     },
     "execution_count": 454,
     "metadata": {},
     "output_type": "execute_result"
    }
   ],
   "source": [
    "Y.rdiv(2)"
   ]
  },
  {
   "cell_type": "code",
   "execution_count": 455,
   "id": "2574a0a5",
   "metadata": {},
   "outputs": [
    {
     "data": {
      "text/html": [
       "<div>\n",
       "<style scoped>\n",
       "    .dataframe tbody tr th:only-of-type {\n",
       "        vertical-align: middle;\n",
       "    }\n",
       "\n",
       "    .dataframe tbody tr th {\n",
       "        vertical-align: top;\n",
       "    }\n",
       "\n",
       "    .dataframe thead th {\n",
       "        text-align: right;\n",
       "    }\n",
       "</style>\n",
       "<table border=\"1\" class=\"dataframe\">\n",
       "  <thead>\n",
       "    <tr style=\"text-align: right;\">\n",
       "      <th></th>\n",
       "      <th>Population</th>\n",
       "      <th>age</th>\n",
       "    </tr>\n",
       "  </thead>\n",
       "  <tbody>\n",
       "    <tr>\n",
       "      <th>0</th>\n",
       "      <td>0.5</td>\n",
       "      <td>2</td>\n",
       "    </tr>\n",
       "    <tr>\n",
       "      <th>1</th>\n",
       "      <td>-2.6</td>\n",
       "      <td>2</td>\n",
       "    </tr>\n",
       "    <tr>\n",
       "      <th>2</th>\n",
       "      <td>2.0</td>\n",
       "      <td>2</td>\n",
       "    </tr>\n",
       "    <tr>\n",
       "      <th>3</th>\n",
       "      <td>-2.3</td>\n",
       "      <td>2</td>\n",
       "    </tr>\n",
       "    <tr>\n",
       "      <th>4</th>\n",
       "      <td>2.0</td>\n",
       "      <td>2</td>\n",
       "    </tr>\n",
       "  </tbody>\n",
       "</table>\n",
       "</div>"
      ],
      "text/plain": [
       "   Population  age\n",
       "0         0.5    2\n",
       "1        -2.6    2\n",
       "2         2.0    2\n",
       "3        -2.3    2\n",
       "4         2.0    2"
      ]
     },
     "execution_count": 455,
     "metadata": {},
     "output_type": "execute_result"
    }
   ],
   "source": [
    "Y.rmod(2)"
   ]
  },
  {
   "cell_type": "code",
   "execution_count": 456,
   "id": "2d1de5f9",
   "metadata": {},
   "outputs": [
    {
     "data": {
      "text/html": [
       "<div>\n",
       "<style scoped>\n",
       "    .dataframe tbody tr th:only-of-type {\n",
       "        vertical-align: middle;\n",
       "    }\n",
       "\n",
       "    .dataframe tbody tr th {\n",
       "        vertical-align: top;\n",
       "    }\n",
       "\n",
       "    .dataframe thead th {\n",
       "        text-align: right;\n",
       "    }\n",
       "</style>\n",
       "<table border=\"1\" class=\"dataframe\">\n",
       "  <thead>\n",
       "    <tr style=\"text-align: right;\">\n",
       "      <th></th>\n",
       "      <th>Population</th>\n",
       "      <th>age</th>\n",
       "    </tr>\n",
       "  </thead>\n",
       "  <tbody>\n",
       "    <tr>\n",
       "      <th>0</th>\n",
       "      <td>3.0</td>\n",
       "      <td>30</td>\n",
       "    </tr>\n",
       "    <tr>\n",
       "      <th>1</th>\n",
       "      <td>-9.2</td>\n",
       "      <td>32</td>\n",
       "    </tr>\n",
       "    <tr>\n",
       "      <th>2</th>\n",
       "      <td>10.0</td>\n",
       "      <td>30</td>\n",
       "    </tr>\n",
       "    <tr>\n",
       "      <th>3</th>\n",
       "      <td>-8.6</td>\n",
       "      <td>86</td>\n",
       "    </tr>\n",
       "    <tr>\n",
       "      <th>4</th>\n",
       "      <td>4.6</td>\n",
       "      <td>46</td>\n",
       "    </tr>\n",
       "  </tbody>\n",
       "</table>\n",
       "</div>"
      ],
      "text/plain": [
       "   Population  age\n",
       "0         3.0   30\n",
       "1        -9.2   32\n",
       "2        10.0   30\n",
       "3        -8.6   86\n",
       "4         4.6   46"
      ]
     },
     "execution_count": 456,
     "metadata": {},
     "output_type": "execute_result"
    }
   ],
   "source": [
    "Y.rmul(2)"
   ]
  },
  {
   "cell_type": "code",
   "execution_count": 457,
   "id": "62b0b72a",
   "metadata": {},
   "outputs": [
    {
     "data": {
      "text/html": [
       "<div>\n",
       "<style scoped>\n",
       "    .dataframe tbody tr th:only-of-type {\n",
       "        vertical-align: middle;\n",
       "    }\n",
       "\n",
       "    .dataframe tbody tr th {\n",
       "        vertical-align: top;\n",
       "    }\n",
       "\n",
       "    .dataframe thead th {\n",
       "        text-align: right;\n",
       "    }\n",
       "</style>\n",
       "<table border=\"1\" class=\"dataframe\">\n",
       "  <thead>\n",
       "    <tr style=\"text-align: right;\">\n",
       "      <th></th>\n",
       "      <th>Population</th>\n",
       "      <th>age</th>\n",
       "    </tr>\n",
       "  </thead>\n",
       "  <tbody>\n",
       "    <tr>\n",
       "      <th>0</th>\n",
       "      <td>2.0</td>\n",
       "      <td>15</td>\n",
       "    </tr>\n",
       "    <tr>\n",
       "      <th>1</th>\n",
       "      <td>-5.0</td>\n",
       "      <td>16</td>\n",
       "    </tr>\n",
       "    <tr>\n",
       "      <th>2</th>\n",
       "      <td>5.0</td>\n",
       "      <td>15</td>\n",
       "    </tr>\n",
       "    <tr>\n",
       "      <th>3</th>\n",
       "      <td>-4.0</td>\n",
       "      <td>43</td>\n",
       "    </tr>\n",
       "    <tr>\n",
       "      <th>4</th>\n",
       "      <td>2.0</td>\n",
       "      <td>23</td>\n",
       "    </tr>\n",
       "  </tbody>\n",
       "</table>\n",
       "</div>"
      ],
      "text/plain": [
       "   Population  age\n",
       "0         2.0   15\n",
       "1        -5.0   16\n",
       "2         5.0   15\n",
       "3        -4.0   43\n",
       "4         2.0   23"
      ]
     },
     "execution_count": 457,
     "metadata": {},
     "output_type": "execute_result"
    }
   ],
   "source": [
    "Y.round()"
   ]
  },
  {
   "cell_type": "code",
   "execution_count": 458,
   "id": "a4b82eb3",
   "metadata": {},
   "outputs": [
    {
     "data": {
      "text/html": [
       "<div>\n",
       "<style scoped>\n",
       "    .dataframe tbody tr th:only-of-type {\n",
       "        vertical-align: middle;\n",
       "    }\n",
       "\n",
       "    .dataframe tbody tr th {\n",
       "        vertical-align: top;\n",
       "    }\n",
       "\n",
       "    .dataframe thead th {\n",
       "        text-align: right;\n",
       "    }\n",
       "</style>\n",
       "<table border=\"1\" class=\"dataframe\">\n",
       "  <thead>\n",
       "    <tr style=\"text-align: right;\">\n",
       "      <th></th>\n",
       "      <th>Population</th>\n",
       "      <th>age</th>\n",
       "    </tr>\n",
       "  </thead>\n",
       "  <tbody>\n",
       "    <tr>\n",
       "      <th>0</th>\n",
       "      <td>5.196152</td>\n",
       "      <td>14348907</td>\n",
       "    </tr>\n",
       "    <tr>\n",
       "      <th>1</th>\n",
       "      <td>0.006386</td>\n",
       "      <td>43046721</td>\n",
       "    </tr>\n",
       "    <tr>\n",
       "      <th>2</th>\n",
       "      <td>243.000000</td>\n",
       "      <td>14348907</td>\n",
       "    </tr>\n",
       "    <tr>\n",
       "      <th>3</th>\n",
       "      <td>0.008879</td>\n",
       "      <td>-3784425932234851461</td>\n",
       "    </tr>\n",
       "    <tr>\n",
       "      <th>4</th>\n",
       "      <td>12.513503</td>\n",
       "      <td>94143178827</td>\n",
       "    </tr>\n",
       "  </tbody>\n",
       "</table>\n",
       "</div>"
      ],
      "text/plain": [
       "   Population                  age\n",
       "0    5.196152             14348907\n",
       "1    0.006386             43046721\n",
       "2  243.000000             14348907\n",
       "3    0.008879 -3784425932234851461\n",
       "4   12.513503          94143178827"
      ]
     },
     "execution_count": 458,
     "metadata": {},
     "output_type": "execute_result"
    }
   ],
   "source": [
    "Y.rpow(3)"
   ]
  },
  {
   "cell_type": "code",
   "execution_count": 459,
   "id": "580dd1fa",
   "metadata": {},
   "outputs": [
    {
     "data": {
      "text/html": [
       "<div>\n",
       "<style scoped>\n",
       "    .dataframe tbody tr th:only-of-type {\n",
       "        vertical-align: middle;\n",
       "    }\n",
       "\n",
       "    .dataframe tbody tr th {\n",
       "        vertical-align: top;\n",
       "    }\n",
       "\n",
       "    .dataframe thead th {\n",
       "        text-align: right;\n",
       "    }\n",
       "</style>\n",
       "<table border=\"1\" class=\"dataframe\">\n",
       "  <thead>\n",
       "    <tr style=\"text-align: right;\">\n",
       "      <th></th>\n",
       "      <th>Population</th>\n",
       "      <th>age</th>\n",
       "    </tr>\n",
       "  </thead>\n",
       "  <tbody>\n",
       "    <tr>\n",
       "      <th>0</th>\n",
       "      <td>8.5</td>\n",
       "      <td>-5</td>\n",
       "    </tr>\n",
       "    <tr>\n",
       "      <th>1</th>\n",
       "      <td>14.6</td>\n",
       "      <td>-6</td>\n",
       "    </tr>\n",
       "    <tr>\n",
       "      <th>2</th>\n",
       "      <td>5.0</td>\n",
       "      <td>-5</td>\n",
       "    </tr>\n",
       "    <tr>\n",
       "      <th>3</th>\n",
       "      <td>14.3</td>\n",
       "      <td>-33</td>\n",
       "    </tr>\n",
       "    <tr>\n",
       "      <th>4</th>\n",
       "      <td>7.7</td>\n",
       "      <td>-13</td>\n",
       "    </tr>\n",
       "  </tbody>\n",
       "</table>\n",
       "</div>"
      ],
      "text/plain": [
       "   Population  age\n",
       "0         8.5   -5\n",
       "1        14.6   -6\n",
       "2         5.0   -5\n",
       "3        14.3  -33\n",
       "4         7.7  -13"
      ]
     },
     "execution_count": 459,
     "metadata": {},
     "output_type": "execute_result"
    }
   ],
   "source": [
    "Y.rsub(10)"
   ]
  },
  {
   "cell_type": "code",
   "execution_count": 460,
   "id": "2b69a3f4",
   "metadata": {},
   "outputs": [
    {
     "data": {
      "text/html": [
       "<div>\n",
       "<style scoped>\n",
       "    .dataframe tbody tr th:only-of-type {\n",
       "        vertical-align: middle;\n",
       "    }\n",
       "\n",
       "    .dataframe tbody tr th {\n",
       "        vertical-align: top;\n",
       "    }\n",
       "\n",
       "    .dataframe thead th {\n",
       "        text-align: right;\n",
       "    }\n",
       "</style>\n",
       "<table border=\"1\" class=\"dataframe\">\n",
       "  <thead>\n",
       "    <tr style=\"text-align: right;\">\n",
       "      <th></th>\n",
       "      <th>Population</th>\n",
       "      <th>age</th>\n",
       "    </tr>\n",
       "  </thead>\n",
       "  <tbody>\n",
       "    <tr>\n",
       "      <th>3</th>\n",
       "      <td>-4.3</td>\n",
       "      <td>43</td>\n",
       "    </tr>\n",
       "  </tbody>\n",
       "</table>\n",
       "</div>"
      ],
      "text/plain": [
       "   Population  age\n",
       "3        -4.3   43"
      ]
     },
     "execution_count": 460,
     "metadata": {},
     "output_type": "execute_result"
    }
   ],
   "source": [
    "Y.sample()"
   ]
  },
  {
   "cell_type": "code",
   "execution_count": 461,
   "id": "35fd9c8a",
   "metadata": {},
   "outputs": [
    {
     "data": {
      "text/plain": [
       "Population    1.899842\n",
       "age           5.362835\n",
       "dtype: float64"
      ]
     },
     "execution_count": 461,
     "metadata": {},
     "output_type": "execute_result"
    }
   ],
   "source": [
    "Y.sem() # Return unbiased standard error of the mean over requested axis"
   ]
  },
  {
   "cell_type": "code",
   "execution_count": 462,
   "id": "034a4ce4",
   "metadata": {},
   "outputs": [
    {
     "data": {
      "text/html": [
       "<div>\n",
       "<style scoped>\n",
       "    .dataframe tbody tr th:only-of-type {\n",
       "        vertical-align: middle;\n",
       "    }\n",
       "\n",
       "    .dataframe tbody tr th {\n",
       "        vertical-align: top;\n",
       "    }\n",
       "\n",
       "    .dataframe thead th {\n",
       "        text-align: right;\n",
       "    }\n",
       "</style>\n",
       "<table border=\"1\" class=\"dataframe\">\n",
       "  <thead>\n",
       "    <tr style=\"text-align: right;\">\n",
       "      <th></th>\n",
       "      <th>Population</th>\n",
       "      <th>age</th>\n",
       "    </tr>\n",
       "  </thead>\n",
       "  <tbody>\n",
       "    <tr>\n",
       "      <th>0</th>\n",
       "      <td>NaN</td>\n",
       "      <td>NaN</td>\n",
       "    </tr>\n",
       "    <tr>\n",
       "      <th>1</th>\n",
       "      <td>NaN</td>\n",
       "      <td>NaN</td>\n",
       "    </tr>\n",
       "    <tr>\n",
       "      <th>2</th>\n",
       "      <td>1.5</td>\n",
       "      <td>15.0</td>\n",
       "    </tr>\n",
       "    <tr>\n",
       "      <th>3</th>\n",
       "      <td>-4.6</td>\n",
       "      <td>16.0</td>\n",
       "    </tr>\n",
       "    <tr>\n",
       "      <th>4</th>\n",
       "      <td>5.0</td>\n",
       "      <td>15.0</td>\n",
       "    </tr>\n",
       "  </tbody>\n",
       "</table>\n",
       "</div>"
      ],
      "text/plain": [
       "   Population   age\n",
       "0         NaN   NaN\n",
       "1         NaN   NaN\n",
       "2         1.5  15.0\n",
       "3        -4.6  16.0\n",
       "4         5.0  15.0"
      ]
     },
     "execution_count": 462,
     "metadata": {},
     "output_type": "execute_result"
    }
   ],
   "source": [
    "Y.shift(2)"
   ]
  },
  {
   "cell_type": "code",
   "execution_count": 463,
   "id": "9a9f1afa",
   "metadata": {},
   "outputs": [
    {
     "data": {
      "text/plain": [
       "Population   -0.173748\n",
       "age           1.853165\n",
       "dtype: float64"
      ]
     },
     "execution_count": 463,
     "metadata": {},
     "output_type": "execute_result"
    }
   ],
   "source": [
    "Y.skew() # Return unbiased skew over requested axis."
   ]
  },
  {
   "cell_type": "code",
   "execution_count": 464,
   "id": "da7ebe24",
   "metadata": {},
   "outputs": [
    {
     "data": {
      "text/plain": [
       "Population     4.248176\n",
       "age           11.991664\n",
       "dtype: float64"
      ]
     },
     "execution_count": 464,
     "metadata": {},
     "output_type": "execute_result"
    }
   ],
   "source": [
    "Y.std() # Return sample standard deviation over requested axis."
   ]
  },
  {
   "cell_type": "code",
   "execution_count": 465,
   "id": "8c31efa8",
   "metadata": {},
   "outputs": [
    {
     "data": {
      "text/plain": [
       "Population     -0.1\n",
       "age           112.0\n",
       "dtype: float64"
      ]
     },
     "execution_count": 465,
     "metadata": {},
     "output_type": "execute_result"
    }
   ],
   "source": [
    "Y.sum()"
   ]
  },
  {
   "cell_type": "code",
   "execution_count": 466,
   "id": "e631d498",
   "metadata": {},
   "outputs": [
    {
     "data": {
      "text/html": [
       "<div>\n",
       "<style scoped>\n",
       "    .dataframe tbody tr th:only-of-type {\n",
       "        vertical-align: middle;\n",
       "    }\n",
       "\n",
       "    .dataframe tbody tr th {\n",
       "        vertical-align: top;\n",
       "    }\n",
       "\n",
       "    .dataframe thead th {\n",
       "        text-align: right;\n",
       "    }\n",
       "</style>\n",
       "<table border=\"1\" class=\"dataframe\">\n",
       "  <thead>\n",
       "    <tr style=\"text-align: right;\">\n",
       "      <th></th>\n",
       "      <th>Population</th>\n",
       "      <th>age</th>\n",
       "    </tr>\n",
       "  </thead>\n",
       "  <tbody>\n",
       "    <tr>\n",
       "      <th>0</th>\n",
       "      <td>-0.5</td>\n",
       "      <td>13</td>\n",
       "    </tr>\n",
       "    <tr>\n",
       "      <th>1</th>\n",
       "      <td>-6.6</td>\n",
       "      <td>14</td>\n",
       "    </tr>\n",
       "    <tr>\n",
       "      <th>2</th>\n",
       "      <td>3.0</td>\n",
       "      <td>13</td>\n",
       "    </tr>\n",
       "    <tr>\n",
       "      <th>3</th>\n",
       "      <td>-6.3</td>\n",
       "      <td>41</td>\n",
       "    </tr>\n",
       "    <tr>\n",
       "      <th>4</th>\n",
       "      <td>0.3</td>\n",
       "      <td>21</td>\n",
       "    </tr>\n",
       "  </tbody>\n",
       "</table>\n",
       "</div>"
      ],
      "text/plain": [
       "   Population  age\n",
       "0        -0.5   13\n",
       "1        -6.6   14\n",
       "2         3.0   13\n",
       "3        -6.3   41\n",
       "4         0.3   21"
      ]
     },
     "execution_count": 466,
     "metadata": {},
     "output_type": "execute_result"
    }
   ],
   "source": [
    "Y.sub(2)"
   ]
  },
  {
   "cell_type": "code",
   "execution_count": 467,
   "id": "7cf84c0d",
   "metadata": {},
   "outputs": [
    {
     "data": {
      "text/html": [
       "<div>\n",
       "<style scoped>\n",
       "    .dataframe tbody tr th:only-of-type {\n",
       "        vertical-align: middle;\n",
       "    }\n",
       "\n",
       "    .dataframe tbody tr th {\n",
       "        vertical-align: top;\n",
       "    }\n",
       "\n",
       "    .dataframe thead th {\n",
       "        text-align: right;\n",
       "    }\n",
       "</style>\n",
       "<table border=\"1\" class=\"dataframe\">\n",
       "  <thead>\n",
       "    <tr style=\"text-align: right;\">\n",
       "      <th></th>\n",
       "      <th>Population</th>\n",
       "      <th>age</th>\n",
       "    </tr>\n",
       "  </thead>\n",
       "  <tbody>\n",
       "    <tr>\n",
       "      <th>0</th>\n",
       "      <td>-0.5</td>\n",
       "      <td>13</td>\n",
       "    </tr>\n",
       "    <tr>\n",
       "      <th>1</th>\n",
       "      <td>-6.6</td>\n",
       "      <td>14</td>\n",
       "    </tr>\n",
       "    <tr>\n",
       "      <th>2</th>\n",
       "      <td>3.0</td>\n",
       "      <td>13</td>\n",
       "    </tr>\n",
       "    <tr>\n",
       "      <th>3</th>\n",
       "      <td>-6.3</td>\n",
       "      <td>41</td>\n",
       "    </tr>\n",
       "    <tr>\n",
       "      <th>4</th>\n",
       "      <td>0.3</td>\n",
       "      <td>21</td>\n",
       "    </tr>\n",
       "  </tbody>\n",
       "</table>\n",
       "</div>"
      ],
      "text/plain": [
       "   Population  age\n",
       "0        -0.5   13\n",
       "1        -6.6   14\n",
       "2         3.0   13\n",
       "3        -6.3   41\n",
       "4         0.3   21"
      ]
     },
     "execution_count": 467,
     "metadata": {},
     "output_type": "execute_result"
    }
   ],
   "source": [
    "Y.subtract(2)"
   ]
  },
  {
   "cell_type": "code",
   "execution_count": 468,
   "id": "e48c3e51",
   "metadata": {},
   "outputs": [
    {
     "data": {
      "text/html": [
       "<div>\n",
       "<style scoped>\n",
       "    .dataframe tbody tr th:only-of-type {\n",
       "        vertical-align: middle;\n",
       "    }\n",
       "\n",
       "    .dataframe tbody tr th {\n",
       "        vertical-align: top;\n",
       "    }\n",
       "\n",
       "    .dataframe thead tr th {\n",
       "        text-align: left;\n",
       "    }\n",
       "</style>\n",
       "<table border=\"1\" class=\"dataframe\">\n",
       "  <thead>\n",
       "    <tr>\n",
       "      <th></th>\n",
       "      <th colspan=\"3\" halign=\"left\">Population</th>\n",
       "      <th colspan=\"3\" halign=\"left\">age</th>\n",
       "    </tr>\n",
       "    <tr>\n",
       "      <th></th>\n",
       "      <th>square</th>\n",
       "      <th>sqrt</th>\n",
       "      <th>exp</th>\n",
       "      <th>square</th>\n",
       "      <th>sqrt</th>\n",
       "      <th>exp</th>\n",
       "    </tr>\n",
       "  </thead>\n",
       "  <tbody>\n",
       "    <tr>\n",
       "      <th>0</th>\n",
       "      <td>2.25</td>\n",
       "      <td>1.224745</td>\n",
       "      <td>4.481689</td>\n",
       "      <td>225</td>\n",
       "      <td>3.872983</td>\n",
       "      <td>3.269017e+06</td>\n",
       "    </tr>\n",
       "    <tr>\n",
       "      <th>1</th>\n",
       "      <td>21.16</td>\n",
       "      <td>NaN</td>\n",
       "      <td>0.010052</td>\n",
       "      <td>256</td>\n",
       "      <td>4.000000</td>\n",
       "      <td>8.886111e+06</td>\n",
       "    </tr>\n",
       "    <tr>\n",
       "      <th>2</th>\n",
       "      <td>25.00</td>\n",
       "      <td>2.236068</td>\n",
       "      <td>148.413159</td>\n",
       "      <td>225</td>\n",
       "      <td>3.872983</td>\n",
       "      <td>3.269017e+06</td>\n",
       "    </tr>\n",
       "    <tr>\n",
       "      <th>3</th>\n",
       "      <td>18.49</td>\n",
       "      <td>NaN</td>\n",
       "      <td>0.013569</td>\n",
       "      <td>1849</td>\n",
       "      <td>6.557439</td>\n",
       "      <td>4.727839e+18</td>\n",
       "    </tr>\n",
       "    <tr>\n",
       "      <th>4</th>\n",
       "      <td>5.29</td>\n",
       "      <td>1.516575</td>\n",
       "      <td>9.974182</td>\n",
       "      <td>529</td>\n",
       "      <td>4.795832</td>\n",
       "      <td>9.744803e+09</td>\n",
       "    </tr>\n",
       "  </tbody>\n",
       "</table>\n",
       "</div>"
      ],
      "text/plain": [
       "  Population                          age                        \n",
       "      square      sqrt         exp square      sqrt           exp\n",
       "0       2.25  1.224745    4.481689    225  3.872983  3.269017e+06\n",
       "1      21.16       NaN    0.010052    256  4.000000  8.886111e+06\n",
       "2      25.00  2.236068  148.413159    225  3.872983  3.269017e+06\n",
       "3      18.49       NaN    0.013569   1849  6.557439  4.727839e+18\n",
       "4       5.29  1.516575    9.974182    529  4.795832  9.744803e+09"
      ]
     },
     "execution_count": 468,
     "metadata": {},
     "output_type": "execute_result"
    }
   ],
   "source": [
    "Y.transform([np.square,np.sqrt,np.exp])"
   ]
  },
  {
   "cell_type": "code",
   "execution_count": 469,
   "id": "0611c81f",
   "metadata": {},
   "outputs": [
    {
     "data": {
      "text/plain": [
       "0    NaN\n",
       "1    NaN\n",
       "2    5.0\n",
       "3    NaN\n",
       "4    2.3\n",
       "Name: Population, dtype: float64"
      ]
     },
     "execution_count": 469,
     "metadata": {},
     "output_type": "execute_result"
    }
   ],
   "source": [
    "Y['Population'].where(lambda x : x>2)"
   ]
  },
  {
   "cell_type": "code",
   "execution_count": 470,
   "id": "ba8536b5",
   "metadata": {},
   "outputs": [
    {
     "data": {
      "text/plain": [
       "0     NaN\n",
       "1     NaN\n",
       "2     NaN\n",
       "3    43.0\n",
       "4    23.0\n",
       "Name: age, dtype: float64"
      ]
     },
     "execution_count": 470,
     "metadata": {},
     "output_type": "execute_result"
    }
   ],
   "source": [
    "Y['age'].where(lambda x : x>20)"
   ]
  },
  {
   "cell_type": "code",
   "execution_count": 471,
   "id": "fa2f2637",
   "metadata": {},
   "outputs": [
    {
     "data": {
      "text/html": [
       "<div>\n",
       "<style scoped>\n",
       "    .dataframe tbody tr th:only-of-type {\n",
       "        vertical-align: middle;\n",
       "    }\n",
       "\n",
       "    .dataframe tbody tr th {\n",
       "        vertical-align: top;\n",
       "    }\n",
       "\n",
       "    .dataframe thead th {\n",
       "        text-align: right;\n",
       "    }\n",
       "</style>\n",
       "<table border=\"1\" class=\"dataframe\">\n",
       "  <thead>\n",
       "    <tr style=\"text-align: right;\">\n",
       "      <th></th>\n",
       "      <th>Population</th>\n",
       "      <th>age</th>\n",
       "    </tr>\n",
       "  </thead>\n",
       "  <tbody>\n",
       "    <tr>\n",
       "      <th>0</th>\n",
       "      <td>NaN</td>\n",
       "      <td>NaN</td>\n",
       "    </tr>\n",
       "    <tr>\n",
       "      <th>1</th>\n",
       "      <td>NaN</td>\n",
       "      <td>NaN</td>\n",
       "    </tr>\n",
       "    <tr>\n",
       "      <th>2</th>\n",
       "      <td>5.0</td>\n",
       "      <td>15.0</td>\n",
       "    </tr>\n",
       "    <tr>\n",
       "      <th>3</th>\n",
       "      <td>NaN</td>\n",
       "      <td>NaN</td>\n",
       "    </tr>\n",
       "    <tr>\n",
       "      <th>4</th>\n",
       "      <td>2.3</td>\n",
       "      <td>23.0</td>\n",
       "    </tr>\n",
       "  </tbody>\n",
       "</table>\n",
       "</div>"
      ],
      "text/plain": [
       "   Population   age\n",
       "0         NaN   NaN\n",
       "1         NaN   NaN\n",
       "2         5.0  15.0\n",
       "3         NaN   NaN\n",
       "4         2.3  23.0"
      ]
     },
     "execution_count": 471,
     "metadata": {},
     "output_type": "execute_result"
    }
   ],
   "source": [
    "Y.where(Y['Population']>2)"
   ]
  },
  {
   "cell_type": "markdown",
   "id": "efaa80bd",
   "metadata": {},
   "source": [
    "# ADDING PREFIX AND SUFFIX IN COLUMN NAME"
   ]
  },
  {
   "cell_type": "code",
   "execution_count": 472,
   "id": "4eb557a2",
   "metadata": {},
   "outputs": [
    {
     "data": {
      "text/html": [
       "<div>\n",
       "<style scoped>\n",
       "    .dataframe tbody tr th:only-of-type {\n",
       "        vertical-align: middle;\n",
       "    }\n",
       "\n",
       "    .dataframe tbody tr th {\n",
       "        vertical-align: top;\n",
       "    }\n",
       "\n",
       "    .dataframe thead th {\n",
       "        text-align: right;\n",
       "    }\n",
       "</style>\n",
       "<table border=\"1\" class=\"dataframe\">\n",
       "  <thead>\n",
       "    <tr style=\"text-align: right;\">\n",
       "      <th></th>\n",
       "      <th>state</th>\n",
       "      <th>capital</th>\n",
       "      <th>literacy %</th>\n",
       "      <th>temperature</th>\n",
       "    </tr>\n",
       "  </thead>\n",
       "  <tbody>\n",
       "    <tr>\n",
       "      <th>0</th>\n",
       "      <td>gujarat</td>\n",
       "      <td>None</td>\n",
       "      <td>80</td>\n",
       "      <td>32</td>\n",
       "    </tr>\n",
       "    <tr>\n",
       "      <th>1</th>\n",
       "      <td>maharastra</td>\n",
       "      <td>mumbai</td>\n",
       "      <td>70</td>\n",
       "      <td>36</td>\n",
       "    </tr>\n",
       "    <tr>\n",
       "      <th>2</th>\n",
       "      <td>rajastan</td>\n",
       "      <td>jaypur</td>\n",
       "      <td>78</td>\n",
       "      <td>37</td>\n",
       "    </tr>\n",
       "    <tr>\n",
       "      <th>3</th>\n",
       "      <td>madhaypradesh</td>\n",
       "      <td>bhopal</td>\n",
       "      <td>92</td>\n",
       "      <td>31</td>\n",
       "    </tr>\n",
       "    <tr>\n",
       "      <th>4</th>\n",
       "      <td>panjab</td>\n",
       "      <td>chhatishgadh</td>\n",
       "      <td>88</td>\n",
       "      <td>28</td>\n",
       "    </tr>\n",
       "  </tbody>\n",
       "</table>\n",
       "</div>"
      ],
      "text/plain": [
       "           state       capital  literacy %  temperature\n",
       "0        gujarat          None          80           32\n",
       "1     maharastra        mumbai          70           36\n",
       "2       rajastan        jaypur          78           37\n",
       "3  madhaypradesh        bhopal          92           31\n",
       "4         panjab  chhatishgadh          88           28"
      ]
     },
     "execution_count": 472,
     "metadata": {},
     "output_type": "execute_result"
    }
   ],
   "source": [
    "A = {\n",
    "    \"state\" : [\"gujarat\",\"maharastra\",\"rajastan\",\"madhaypradesh\",\"panjab\"] ,\n",
    "    \"capital\" : [None,\"mumbai\",\"jaypur\",\"bhopal\",\"chhatishgadh\"] ,\n",
    "    \"literacy %\" : [80,70,78,92,88] ,\n",
    "    \"temperature\" : [32,36,37,31,28] ,\n",
    "}\n",
    "B = pd.DataFrame(A)\n",
    "B"
   ]
  },
  {
   "cell_type": "code",
   "execution_count": 473,
   "id": "8ac58dd7",
   "metadata": {},
   "outputs": [
    {
     "data": {
      "text/html": [
       "<div>\n",
       "<style scoped>\n",
       "    .dataframe tbody tr th:only-of-type {\n",
       "        vertical-align: middle;\n",
       "    }\n",
       "\n",
       "    .dataframe tbody tr th {\n",
       "        vertical-align: top;\n",
       "    }\n",
       "\n",
       "    .dataframe thead th {\n",
       "        text-align: right;\n",
       "    }\n",
       "</style>\n",
       "<table border=\"1\" class=\"dataframe\">\n",
       "  <thead>\n",
       "    <tr style=\"text-align: right;\">\n",
       "      <th></th>\n",
       "      <th>Name_state</th>\n",
       "      <th>Name_capital</th>\n",
       "      <th>Name_literacy %</th>\n",
       "      <th>Name_temperature</th>\n",
       "    </tr>\n",
       "  </thead>\n",
       "  <tbody>\n",
       "    <tr>\n",
       "      <th>0</th>\n",
       "      <td>gujarat</td>\n",
       "      <td>None</td>\n",
       "      <td>80</td>\n",
       "      <td>32</td>\n",
       "    </tr>\n",
       "    <tr>\n",
       "      <th>1</th>\n",
       "      <td>maharastra</td>\n",
       "      <td>mumbai</td>\n",
       "      <td>70</td>\n",
       "      <td>36</td>\n",
       "    </tr>\n",
       "    <tr>\n",
       "      <th>2</th>\n",
       "      <td>rajastan</td>\n",
       "      <td>jaypur</td>\n",
       "      <td>78</td>\n",
       "      <td>37</td>\n",
       "    </tr>\n",
       "    <tr>\n",
       "      <th>3</th>\n",
       "      <td>madhaypradesh</td>\n",
       "      <td>bhopal</td>\n",
       "      <td>92</td>\n",
       "      <td>31</td>\n",
       "    </tr>\n",
       "    <tr>\n",
       "      <th>4</th>\n",
       "      <td>panjab</td>\n",
       "      <td>chhatishgadh</td>\n",
       "      <td>88</td>\n",
       "      <td>28</td>\n",
       "    </tr>\n",
       "  </tbody>\n",
       "</table>\n",
       "</div>"
      ],
      "text/plain": [
       "      Name_state  Name_capital  Name_literacy %  Name_temperature\n",
       "0        gujarat          None               80                32\n",
       "1     maharastra        mumbai               70                36\n",
       "2       rajastan        jaypur               78                37\n",
       "3  madhaypradesh        bhopal               92                31\n",
       "4         panjab  chhatishgadh               88                28"
      ]
     },
     "execution_count": 473,
     "metadata": {},
     "output_type": "execute_result"
    }
   ],
   "source": [
    "B.add_prefix('Name_')"
   ]
  },
  {
   "cell_type": "code",
   "execution_count": 474,
   "id": "d886d8e5",
   "metadata": {},
   "outputs": [
    {
     "data": {
      "text/html": [
       "<div>\n",
       "<style scoped>\n",
       "    .dataframe tbody tr th:only-of-type {\n",
       "        vertical-align: middle;\n",
       "    }\n",
       "\n",
       "    .dataframe tbody tr th {\n",
       "        vertical-align: top;\n",
       "    }\n",
       "\n",
       "    .dataframe thead th {\n",
       "        text-align: right;\n",
       "    }\n",
       "</style>\n",
       "<table border=\"1\" class=\"dataframe\">\n",
       "  <thead>\n",
       "    <tr style=\"text-align: right;\">\n",
       "      <th></th>\n",
       "      <th>state_Name</th>\n",
       "      <th>capital_Name</th>\n",
       "      <th>literacy %_Name</th>\n",
       "      <th>temperature_Name</th>\n",
       "    </tr>\n",
       "  </thead>\n",
       "  <tbody>\n",
       "    <tr>\n",
       "      <th>0</th>\n",
       "      <td>gujarat</td>\n",
       "      <td>None</td>\n",
       "      <td>80</td>\n",
       "      <td>32</td>\n",
       "    </tr>\n",
       "    <tr>\n",
       "      <th>1</th>\n",
       "      <td>maharastra</td>\n",
       "      <td>mumbai</td>\n",
       "      <td>70</td>\n",
       "      <td>36</td>\n",
       "    </tr>\n",
       "    <tr>\n",
       "      <th>2</th>\n",
       "      <td>rajastan</td>\n",
       "      <td>jaypur</td>\n",
       "      <td>78</td>\n",
       "      <td>37</td>\n",
       "    </tr>\n",
       "    <tr>\n",
       "      <th>3</th>\n",
       "      <td>madhaypradesh</td>\n",
       "      <td>bhopal</td>\n",
       "      <td>92</td>\n",
       "      <td>31</td>\n",
       "    </tr>\n",
       "    <tr>\n",
       "      <th>4</th>\n",
       "      <td>panjab</td>\n",
       "      <td>chhatishgadh</td>\n",
       "      <td>88</td>\n",
       "      <td>28</td>\n",
       "    </tr>\n",
       "  </tbody>\n",
       "</table>\n",
       "</div>"
      ],
      "text/plain": [
       "      state_Name  capital_Name  literacy %_Name  temperature_Name\n",
       "0        gujarat          None               80                32\n",
       "1     maharastra        mumbai               70                36\n",
       "2       rajastan        jaypur               78                37\n",
       "3  madhaypradesh        bhopal               92                31\n",
       "4         panjab  chhatishgadh               88                28"
      ]
     },
     "execution_count": 474,
     "metadata": {},
     "output_type": "execute_result"
    }
   ],
   "source": [
    "B.add_suffix('_Name')"
   ]
  },
  {
   "cell_type": "markdown",
   "id": "4f9068f4",
   "metadata": {},
   "source": [
    "# RENAME ROW AND COLUMN"
   ]
  },
  {
   "cell_type": "code",
   "execution_count": 475,
   "id": "40b1cca4",
   "metadata": {},
   "outputs": [
    {
     "data": {
      "text/html": [
       "<div>\n",
       "<style scoped>\n",
       "    .dataframe tbody tr th:only-of-type {\n",
       "        vertical-align: middle;\n",
       "    }\n",
       "\n",
       "    .dataframe tbody tr th {\n",
       "        vertical-align: top;\n",
       "    }\n",
       "\n",
       "    .dataframe thead th {\n",
       "        text-align: right;\n",
       "    }\n",
       "</style>\n",
       "<table border=\"1\" class=\"dataframe\">\n",
       "  <thead>\n",
       "    <tr style=\"text-align: right;\">\n",
       "      <th></th>\n",
       "      <th>Row1</th>\n",
       "      <th>Row2</th>\n",
       "      <th>Row3</th>\n",
       "      <th>Row4</th>\n",
       "    </tr>\n",
       "  </thead>\n",
       "  <tbody>\n",
       "    <tr>\n",
       "      <th>0</th>\n",
       "      <td>gujarat</td>\n",
       "      <td>None</td>\n",
       "      <td>80</td>\n",
       "      <td>32</td>\n",
       "    </tr>\n",
       "    <tr>\n",
       "      <th>1</th>\n",
       "      <td>maharastra</td>\n",
       "      <td>mumbai</td>\n",
       "      <td>70</td>\n",
       "      <td>36</td>\n",
       "    </tr>\n",
       "    <tr>\n",
       "      <th>2</th>\n",
       "      <td>rajastan</td>\n",
       "      <td>jaypur</td>\n",
       "      <td>78</td>\n",
       "      <td>37</td>\n",
       "    </tr>\n",
       "    <tr>\n",
       "      <th>3</th>\n",
       "      <td>madhaypradesh</td>\n",
       "      <td>bhopal</td>\n",
       "      <td>92</td>\n",
       "      <td>31</td>\n",
       "    </tr>\n",
       "    <tr>\n",
       "      <th>4</th>\n",
       "      <td>panjab</td>\n",
       "      <td>chhatishgadh</td>\n",
       "      <td>88</td>\n",
       "      <td>28</td>\n",
       "    </tr>\n",
       "  </tbody>\n",
       "</table>\n",
       "</div>"
      ],
      "text/plain": [
       "            Row1          Row2  Row3  Row4\n",
       "0        gujarat          None    80    32\n",
       "1     maharastra        mumbai    70    36\n",
       "2       rajastan        jaypur    78    37\n",
       "3  madhaypradesh        bhopal    92    31\n",
       "4         panjab  chhatishgadh    88    28"
      ]
     },
     "execution_count": 475,
     "metadata": {},
     "output_type": "execute_result"
    }
   ],
   "source": [
    "X = {\n",
    "    'state':'Row1',\n",
    "    'capital':'Row2',\n",
    "    'literacy %':'Row3',\n",
    "    'temperature':'Row4'\n",
    "}\n",
    "B.rename(columns=X,errors='raise')"
   ]
  },
  {
   "cell_type": "code",
   "execution_count": 476,
   "id": "70ff2fbd",
   "metadata": {},
   "outputs": [
    {
     "data": {
      "text/html": [
       "<div>\n",
       "<style scoped>\n",
       "    .dataframe tbody tr th:only-of-type {\n",
       "        vertical-align: middle;\n",
       "    }\n",
       "\n",
       "    .dataframe tbody tr th {\n",
       "        vertical-align: top;\n",
       "    }\n",
       "\n",
       "    .dataframe thead th {\n",
       "        text-align: right;\n",
       "    }\n",
       "</style>\n",
       "<table border=\"1\" class=\"dataframe\">\n",
       "  <thead>\n",
       "    <tr style=\"text-align: right;\">\n",
       "      <th></th>\n",
       "      <th>state</th>\n",
       "      <th>capital</th>\n",
       "      <th>literacy %</th>\n",
       "      <th>temperature</th>\n",
       "    </tr>\n",
       "  </thead>\n",
       "  <tbody>\n",
       "    <tr>\n",
       "      <th>a</th>\n",
       "      <td>gujarat</td>\n",
       "      <td>None</td>\n",
       "      <td>80</td>\n",
       "      <td>32</td>\n",
       "    </tr>\n",
       "    <tr>\n",
       "      <th>b</th>\n",
       "      <td>maharastra</td>\n",
       "      <td>mumbai</td>\n",
       "      <td>70</td>\n",
       "      <td>36</td>\n",
       "    </tr>\n",
       "    <tr>\n",
       "      <th>c</th>\n",
       "      <td>rajastan</td>\n",
       "      <td>jaypur</td>\n",
       "      <td>78</td>\n",
       "      <td>37</td>\n",
       "    </tr>\n",
       "    <tr>\n",
       "      <th>d</th>\n",
       "      <td>madhaypradesh</td>\n",
       "      <td>bhopal</td>\n",
       "      <td>92</td>\n",
       "      <td>31</td>\n",
       "    </tr>\n",
       "    <tr>\n",
       "      <th>e</th>\n",
       "      <td>panjab</td>\n",
       "      <td>chhatishgadh</td>\n",
       "      <td>88</td>\n",
       "      <td>28</td>\n",
       "    </tr>\n",
       "  </tbody>\n",
       "</table>\n",
       "</div>"
      ],
      "text/plain": [
       "           state       capital  literacy %  temperature\n",
       "a        gujarat          None          80           32\n",
       "b     maharastra        mumbai          70           36\n",
       "c       rajastan        jaypur          78           37\n",
       "d  madhaypradesh        bhopal          92           31\n",
       "e         panjab  chhatishgadh          88           28"
      ]
     },
     "execution_count": 476,
     "metadata": {},
     "output_type": "execute_result"
    }
   ],
   "source": [
    "X = {\n",
    "    0 : 'a',\n",
    "    1 : 'b',\n",
    "    2 : 'c',\n",
    "    3 : 'd',\n",
    "    4 : 'e'\n",
    "}\n",
    "B.rename(index=X)"
   ]
  },
  {
   "cell_type": "code",
   "execution_count": 477,
   "id": "a20a7866",
   "metadata": {},
   "outputs": [
    {
     "data": {
      "text/html": [
       "<div>\n",
       "<style scoped>\n",
       "    .dataframe tbody tr th:only-of-type {\n",
       "        vertical-align: middle;\n",
       "    }\n",
       "\n",
       "    .dataframe tbody tr th {\n",
       "        vertical-align: top;\n",
       "    }\n",
       "\n",
       "    .dataframe thead th {\n",
       "        text-align: right;\n",
       "    }\n",
       "</style>\n",
       "<table border=\"1\" class=\"dataframe\">\n",
       "  <thead>\n",
       "    <tr style=\"text-align: right;\">\n",
       "      <th></th>\n",
       "      <th>STATE</th>\n",
       "      <th>CAPITAL</th>\n",
       "      <th>LITERACY %</th>\n",
       "      <th>TEMPERATURE</th>\n",
       "    </tr>\n",
       "  </thead>\n",
       "  <tbody>\n",
       "    <tr>\n",
       "      <th>0</th>\n",
       "      <td>gujarat</td>\n",
       "      <td>None</td>\n",
       "      <td>80</td>\n",
       "      <td>32</td>\n",
       "    </tr>\n",
       "    <tr>\n",
       "      <th>1</th>\n",
       "      <td>maharastra</td>\n",
       "      <td>mumbai</td>\n",
       "      <td>70</td>\n",
       "      <td>36</td>\n",
       "    </tr>\n",
       "    <tr>\n",
       "      <th>2</th>\n",
       "      <td>rajastan</td>\n",
       "      <td>jaypur</td>\n",
       "      <td>78</td>\n",
       "      <td>37</td>\n",
       "    </tr>\n",
       "    <tr>\n",
       "      <th>3</th>\n",
       "      <td>madhaypradesh</td>\n",
       "      <td>bhopal</td>\n",
       "      <td>92</td>\n",
       "      <td>31</td>\n",
       "    </tr>\n",
       "    <tr>\n",
       "      <th>4</th>\n",
       "      <td>panjab</td>\n",
       "      <td>chhatishgadh</td>\n",
       "      <td>88</td>\n",
       "      <td>28</td>\n",
       "    </tr>\n",
       "  </tbody>\n",
       "</table>\n",
       "</div>"
      ],
      "text/plain": [
       "           STATE       CAPITAL  LITERACY %  TEMPERATURE\n",
       "0        gujarat          None          80           32\n",
       "1     maharastra        mumbai          70           36\n",
       "2       rajastan        jaypur          78           37\n",
       "3  madhaypradesh        bhopal          92           31\n",
       "4         panjab  chhatishgadh          88           28"
      ]
     },
     "execution_count": 477,
     "metadata": {},
     "output_type": "execute_result"
    }
   ],
   "source": [
    "B.rename(str.upper, axis='columns')"
   ]
  },
  {
   "cell_type": "code",
   "execution_count": 478,
   "id": "888d1c37",
   "metadata": {},
   "outputs": [
    {
     "data": {
      "text/html": [
       "<div>\n",
       "<style scoped>\n",
       "    .dataframe tbody tr th:only-of-type {\n",
       "        vertical-align: middle;\n",
       "    }\n",
       "\n",
       "    .dataframe tbody tr th {\n",
       "        vertical-align: top;\n",
       "    }\n",
       "\n",
       "    .dataframe thead th {\n",
       "        text-align: right;\n",
       "    }\n",
       "</style>\n",
       "<table border=\"1\" class=\"dataframe\">\n",
       "  <thead>\n",
       "    <tr style=\"text-align: right;\">\n",
       "      <th></th>\n",
       "      <th>state</th>\n",
       "      <th>capital</th>\n",
       "      <th>literacy %</th>\n",
       "      <th>temperature</th>\n",
       "    </tr>\n",
       "  </thead>\n",
       "  <tbody>\n",
       "    <tr>\n",
       "      <th>a</th>\n",
       "      <td>gujarat</td>\n",
       "      <td>None</td>\n",
       "      <td>80</td>\n",
       "      <td>32</td>\n",
       "    </tr>\n",
       "    <tr>\n",
       "      <th>b</th>\n",
       "      <td>maharastra</td>\n",
       "      <td>mumbai</td>\n",
       "      <td>70</td>\n",
       "      <td>36</td>\n",
       "    </tr>\n",
       "    <tr>\n",
       "      <th>c</th>\n",
       "      <td>rajastan</td>\n",
       "      <td>jaypur</td>\n",
       "      <td>78</td>\n",
       "      <td>37</td>\n",
       "    </tr>\n",
       "    <tr>\n",
       "      <th>d</th>\n",
       "      <td>madhaypradesh</td>\n",
       "      <td>bhopal</td>\n",
       "      <td>92</td>\n",
       "      <td>31</td>\n",
       "    </tr>\n",
       "    <tr>\n",
       "      <th>e</th>\n",
       "      <td>panjab</td>\n",
       "      <td>chhatishgadh</td>\n",
       "      <td>88</td>\n",
       "      <td>28</td>\n",
       "    </tr>\n",
       "  </tbody>\n",
       "</table>\n",
       "</div>"
      ],
      "text/plain": [
       "           state       capital  literacy %  temperature\n",
       "a        gujarat          None          80           32\n",
       "b     maharastra        mumbai          70           36\n",
       "c       rajastan        jaypur          78           37\n",
       "d  madhaypradesh        bhopal          92           31\n",
       "e         panjab  chhatishgadh          88           28"
      ]
     },
     "execution_count": 478,
     "metadata": {},
     "output_type": "execute_result"
    }
   ],
   "source": [
    "B.rename(X, axis='index')"
   ]
  },
  {
   "cell_type": "code",
   "execution_count": 479,
   "id": "b83767eb",
   "metadata": {},
   "outputs": [
    {
     "data": {
      "text/html": [
       "<div>\n",
       "<style scoped>\n",
       "    .dataframe tbody tr th:only-of-type {\n",
       "        vertical-align: middle;\n",
       "    }\n",
       "\n",
       "    .dataframe tbody tr th {\n",
       "        vertical-align: top;\n",
       "    }\n",
       "\n",
       "    .dataframe thead th {\n",
       "        text-align: right;\n",
       "    }\n",
       "</style>\n",
       "<table border=\"1\" class=\"dataframe\">\n",
       "  <thead>\n",
       "    <tr style=\"text-align: right;\">\n",
       "      <th></th>\n",
       "      <th>state</th>\n",
       "      <th>capital</th>\n",
       "      <th>literacy %</th>\n",
       "      <th>temperature</th>\n",
       "    </tr>\n",
       "  </thead>\n",
       "  <tbody>\n",
       "    <tr>\n",
       "      <th>1</th>\n",
       "      <td>maharastra</td>\n",
       "      <td>mumbai</td>\n",
       "      <td>70.0</td>\n",
       "      <td>36.0</td>\n",
       "    </tr>\n",
       "    <tr>\n",
       "      <th>2</th>\n",
       "      <td>rajastan</td>\n",
       "      <td>jaypur</td>\n",
       "      <td>78.0</td>\n",
       "      <td>37.0</td>\n",
       "    </tr>\n",
       "    <tr>\n",
       "      <th>0</th>\n",
       "      <td>gujarat</td>\n",
       "      <td>None</td>\n",
       "      <td>80.0</td>\n",
       "      <td>32.0</td>\n",
       "    </tr>\n",
       "    <tr>\n",
       "      <th>4</th>\n",
       "      <td>panjab</td>\n",
       "      <td>chhatishgadh</td>\n",
       "      <td>88.0</td>\n",
       "      <td>28.0</td>\n",
       "    </tr>\n",
       "    <tr>\n",
       "      <th>e</th>\n",
       "      <td>NaN</td>\n",
       "      <td>NaN</td>\n",
       "      <td>NaN</td>\n",
       "      <td>NaN</td>\n",
       "    </tr>\n",
       "  </tbody>\n",
       "</table>\n",
       "</div>"
      ],
      "text/plain": [
       "        state       capital  literacy %  temperature\n",
       "1  maharastra        mumbai        70.0         36.0\n",
       "2    rajastan        jaypur        78.0         37.0\n",
       "0     gujarat          None        80.0         32.0\n",
       "4      panjab  chhatishgadh        88.0         28.0\n",
       "e         NaN           NaN         NaN          NaN"
      ]
     },
     "execution_count": 479,
     "metadata": {},
     "output_type": "execute_result"
    }
   ],
   "source": [
    "B.reindex([1,2,0,4,'e'])"
   ]
  },
  {
   "cell_type": "markdown",
   "id": "b9459c1f",
   "metadata": {},
   "source": [
    "# COMBINING TWO DATAFRAMES"
   ]
  },
  {
   "cell_type": "markdown",
   "id": "ff2f2838",
   "metadata": {},
   "source": [
    "## 1 Using pd.combine"
   ]
  },
  {
   "cell_type": "code",
   "execution_count": 480,
   "id": "1b9737bc",
   "metadata": {},
   "outputs": [
    {
     "data": {
      "text/html": [
       "<div>\n",
       "<style scoped>\n",
       "    .dataframe tbody tr th:only-of-type {\n",
       "        vertical-align: middle;\n",
       "    }\n",
       "\n",
       "    .dataframe tbody tr th {\n",
       "        vertical-align: top;\n",
       "    }\n",
       "\n",
       "    .dataframe thead th {\n",
       "        text-align: right;\n",
       "    }\n",
       "</style>\n",
       "<table border=\"1\" class=\"dataframe\">\n",
       "  <thead>\n",
       "    <tr style=\"text-align: right;\">\n",
       "      <th></th>\n",
       "      <th>A</th>\n",
       "      <th>B</th>\n",
       "    </tr>\n",
       "  </thead>\n",
       "  <tbody>\n",
       "    <tr>\n",
       "      <th>0</th>\n",
       "      <td>0</td>\n",
       "      <td>3</td>\n",
       "    </tr>\n",
       "    <tr>\n",
       "      <th>1</th>\n",
       "      <td>0</td>\n",
       "      <td>3</td>\n",
       "    </tr>\n",
       "  </tbody>\n",
       "</table>\n",
       "</div>"
      ],
      "text/plain": [
       "   A  B\n",
       "0  0  3\n",
       "1  0  3"
      ]
     },
     "execution_count": 480,
     "metadata": {},
     "output_type": "execute_result"
    }
   ],
   "source": [
    "df1 = pd.DataFrame({'A': [0, 0], 'B': [4, 4]})\n",
    "df2 = pd.DataFrame({'A': [1, 1], 'B': [3, 3]})\n",
    "take_smaller = lambda s1, s2: s1 if s1.sum() < s2.sum() else s2\n",
    "df1.combine(df2, take_smaller)"
   ]
  },
  {
   "cell_type": "markdown",
   "id": "cd0e1eda",
   "metadata": {},
   "source": [
    "    DataFrame.combine_first Combine two DataFrame objects and default to non-null values in frame calling the method."
   ]
  },
  {
   "cell_type": "code",
   "execution_count": 481,
   "id": "eaedc2a3",
   "metadata": {},
   "outputs": [
    {
     "data": {
      "text/html": [
       "<div>\n",
       "<style scoped>\n",
       "    .dataframe tbody tr th:only-of-type {\n",
       "        vertical-align: middle;\n",
       "    }\n",
       "\n",
       "    .dataframe tbody tr th {\n",
       "        vertical-align: top;\n",
       "    }\n",
       "\n",
       "    .dataframe thead th {\n",
       "        text-align: right;\n",
       "    }\n",
       "</style>\n",
       "<table border=\"1\" class=\"dataframe\">\n",
       "  <thead>\n",
       "    <tr style=\"text-align: right;\">\n",
       "      <th></th>\n",
       "      <th>A</th>\n",
       "      <th>B</th>\n",
       "    </tr>\n",
       "  </thead>\n",
       "  <tbody>\n",
       "    <tr>\n",
       "      <th>0</th>\n",
       "      <td>0</td>\n",
       "      <td>4.0</td>\n",
       "    </tr>\n",
       "    <tr>\n",
       "      <th>1</th>\n",
       "      <td>0</td>\n",
       "      <td>4.0</td>\n",
       "    </tr>\n",
       "  </tbody>\n",
       "</table>\n",
       "</div>"
      ],
      "text/plain": [
       "   A    B\n",
       "0  0  4.0\n",
       "1  0  4.0"
      ]
     },
     "execution_count": 481,
     "metadata": {},
     "output_type": "execute_result"
    }
   ],
   "source": [
    "df1 = pd.DataFrame({'A': [0, 0], 'B': [4, 4]})\n",
    "df2 = pd.DataFrame({'A': [1, 1], 'B': [None, 3]})\n",
    "df1.combine_first(df2)"
   ]
  },
  {
   "cell_type": "code",
   "execution_count": 482,
   "id": "762758db",
   "metadata": {},
   "outputs": [
    {
     "data": {
      "text/html": [
       "<div>\n",
       "<style scoped>\n",
       "    .dataframe tbody tr th:only-of-type {\n",
       "        vertical-align: middle;\n",
       "    }\n",
       "\n",
       "    .dataframe tbody tr th {\n",
       "        vertical-align: top;\n",
       "    }\n",
       "\n",
       "    .dataframe thead th {\n",
       "        text-align: right;\n",
       "    }\n",
       "</style>\n",
       "<table border=\"1\" class=\"dataframe\">\n",
       "  <thead>\n",
       "    <tr style=\"text-align: right;\">\n",
       "      <th></th>\n",
       "      <th>A</th>\n",
       "      <th>B</th>\n",
       "    </tr>\n",
       "  </thead>\n",
       "  <tbody>\n",
       "    <tr>\n",
       "      <th>0</th>\n",
       "      <td>2</td>\n",
       "      <td>1</td>\n",
       "    </tr>\n",
       "    <tr>\n",
       "      <th>1</th>\n",
       "      <td>0</td>\n",
       "      <td>4</td>\n",
       "    </tr>\n",
       "  </tbody>\n",
       "</table>\n",
       "</div>"
      ],
      "text/plain": [
       "   A  B\n",
       "0  2  1\n",
       "1  0  4"
      ]
     },
     "execution_count": 482,
     "metadata": {},
     "output_type": "execute_result"
    }
   ],
   "source": [
    "df1 = pd.DataFrame({'A': [5, 0], 'B': [1, 4]})\n",
    "df2 = pd.DataFrame({'A': [2, 4], 'B': [3, 13]})\n",
    "df1.combine(df2, np.minimum) # element-wise minimim combine function."
   ]
  },
  {
   "cell_type": "code",
   "execution_count": 483,
   "id": "9092c64a",
   "metadata": {},
   "outputs": [
    {
     "data": {
      "text/html": [
       "<div>\n",
       "<style scoped>\n",
       "    .dataframe tbody tr th:only-of-type {\n",
       "        vertical-align: middle;\n",
       "    }\n",
       "\n",
       "    .dataframe tbody tr th {\n",
       "        vertical-align: top;\n",
       "    }\n",
       "\n",
       "    .dataframe thead th {\n",
       "        text-align: right;\n",
       "    }\n",
       "</style>\n",
       "<table border=\"1\" class=\"dataframe\">\n",
       "  <thead>\n",
       "    <tr style=\"text-align: right;\">\n",
       "      <th></th>\n",
       "      <th>A</th>\n",
       "      <th>B</th>\n",
       "    </tr>\n",
       "  </thead>\n",
       "  <tbody>\n",
       "    <tr>\n",
       "      <th>0</th>\n",
       "      <td>5</td>\n",
       "      <td>3</td>\n",
       "    </tr>\n",
       "    <tr>\n",
       "      <th>1</th>\n",
       "      <td>4</td>\n",
       "      <td>13</td>\n",
       "    </tr>\n",
       "  </tbody>\n",
       "</table>\n",
       "</div>"
      ],
      "text/plain": [
       "   A   B\n",
       "0  5   3\n",
       "1  4  13"
      ]
     },
     "execution_count": 483,
     "metadata": {},
     "output_type": "execute_result"
    }
   ],
   "source": [
    "df1 = pd.DataFrame({'A': [5, 0], 'B': [1, 4]})\n",
    "df2 = pd.DataFrame({'A': [2, 4], 'B': [3, 13]})\n",
    "df1.combine(df2, np.maximum) # element-wise minimim combine function."
   ]
  },
  {
   "cell_type": "markdown",
   "id": "ef373a22",
   "metadata": {},
   "source": [
    "## 2 Using pd.jion"
   ]
  },
  {
   "cell_type": "code",
   "execution_count": 484,
   "id": "af785cb9",
   "metadata": {},
   "outputs": [
    {
     "data": {
      "text/html": [
       "<div>\n",
       "<style scoped>\n",
       "    .dataframe tbody tr th:only-of-type {\n",
       "        vertical-align: middle;\n",
       "    }\n",
       "\n",
       "    .dataframe tbody tr th {\n",
       "        vertical-align: top;\n",
       "    }\n",
       "\n",
       "    .dataframe thead th {\n",
       "        text-align: right;\n",
       "    }\n",
       "</style>\n",
       "<table border=\"1\" class=\"dataframe\">\n",
       "  <thead>\n",
       "    <tr style=\"text-align: right;\">\n",
       "      <th></th>\n",
       "      <th>key</th>\n",
       "      <th>A</th>\n",
       "    </tr>\n",
       "  </thead>\n",
       "  <tbody>\n",
       "    <tr>\n",
       "      <th>0</th>\n",
       "      <td>K0</td>\n",
       "      <td>A0</td>\n",
       "    </tr>\n",
       "    <tr>\n",
       "      <th>1</th>\n",
       "      <td>K1</td>\n",
       "      <td>A1</td>\n",
       "    </tr>\n",
       "    <tr>\n",
       "      <th>2</th>\n",
       "      <td>K2</td>\n",
       "      <td>A2</td>\n",
       "    </tr>\n",
       "    <tr>\n",
       "      <th>3</th>\n",
       "      <td>K3</td>\n",
       "      <td>A3</td>\n",
       "    </tr>\n",
       "    <tr>\n",
       "      <th>4</th>\n",
       "      <td>K4</td>\n",
       "      <td>A4</td>\n",
       "    </tr>\n",
       "    <tr>\n",
       "      <th>5</th>\n",
       "      <td>K5</td>\n",
       "      <td>A5</td>\n",
       "    </tr>\n",
       "  </tbody>\n",
       "</table>\n",
       "</div>"
      ],
      "text/plain": [
       "  key   A\n",
       "0  K0  A0\n",
       "1  K1  A1\n",
       "2  K2  A2\n",
       "3  K3  A3\n",
       "4  K4  A4\n",
       "5  K5  A5"
      ]
     },
     "execution_count": 484,
     "metadata": {},
     "output_type": "execute_result"
    }
   ],
   "source": [
    "left = pd.DataFrame({'key': ['K0', 'K1', 'K2', 'K3', 'K4', 'K5'],'A': ['A0', 'A1', 'A2', 'A3', 'A4', 'A5']})\n",
    "left"
   ]
  },
  {
   "cell_type": "code",
   "execution_count": 485,
   "id": "25cbf32d",
   "metadata": {},
   "outputs": [
    {
     "data": {
      "text/html": [
       "<div>\n",
       "<style scoped>\n",
       "    .dataframe tbody tr th:only-of-type {\n",
       "        vertical-align: middle;\n",
       "    }\n",
       "\n",
       "    .dataframe tbody tr th {\n",
       "        vertical-align: top;\n",
       "    }\n",
       "\n",
       "    .dataframe thead th {\n",
       "        text-align: right;\n",
       "    }\n",
       "</style>\n",
       "<table border=\"1\" class=\"dataframe\">\n",
       "  <thead>\n",
       "    <tr style=\"text-align: right;\">\n",
       "      <th></th>\n",
       "      <th>key</th>\n",
       "      <th>B</th>\n",
       "    </tr>\n",
       "  </thead>\n",
       "  <tbody>\n",
       "    <tr>\n",
       "      <th>0</th>\n",
       "      <td>K0</td>\n",
       "      <td>B0</td>\n",
       "    </tr>\n",
       "    <tr>\n",
       "      <th>1</th>\n",
       "      <td>K1</td>\n",
       "      <td>B1</td>\n",
       "    </tr>\n",
       "    <tr>\n",
       "      <th>2</th>\n",
       "      <td>K2</td>\n",
       "      <td>B2</td>\n",
       "    </tr>\n",
       "  </tbody>\n",
       "</table>\n",
       "</div>"
      ],
      "text/plain": [
       "  key   B\n",
       "0  K0  B0\n",
       "1  K1  B1\n",
       "2  K2  B2"
      ]
     },
     "execution_count": 485,
     "metadata": {},
     "output_type": "execute_result"
    }
   ],
   "source": [
    "right = pd.DataFrame({'key': ['K0', 'K1', 'K2'],'B': ['B0', 'B1', 'B2']})\n",
    "right"
   ]
  },
  {
   "cell_type": "code",
   "execution_count": 486,
   "id": "11843076",
   "metadata": {},
   "outputs": [
    {
     "data": {
      "text/html": [
       "<div>\n",
       "<style scoped>\n",
       "    .dataframe tbody tr th:only-of-type {\n",
       "        vertical-align: middle;\n",
       "    }\n",
       "\n",
       "    .dataframe tbody tr th {\n",
       "        vertical-align: top;\n",
       "    }\n",
       "\n",
       "    .dataframe thead th {\n",
       "        text-align: right;\n",
       "    }\n",
       "</style>\n",
       "<table border=\"1\" class=\"dataframe\">\n",
       "  <thead>\n",
       "    <tr style=\"text-align: right;\">\n",
       "      <th></th>\n",
       "      <th>key_left</th>\n",
       "      <th>A</th>\n",
       "      <th>key_right</th>\n",
       "      <th>B</th>\n",
       "    </tr>\n",
       "  </thead>\n",
       "  <tbody>\n",
       "    <tr>\n",
       "      <th>0</th>\n",
       "      <td>K0</td>\n",
       "      <td>A0</td>\n",
       "      <td>K0</td>\n",
       "      <td>B0</td>\n",
       "    </tr>\n",
       "    <tr>\n",
       "      <th>1</th>\n",
       "      <td>K1</td>\n",
       "      <td>A1</td>\n",
       "      <td>K1</td>\n",
       "      <td>B1</td>\n",
       "    </tr>\n",
       "    <tr>\n",
       "      <th>2</th>\n",
       "      <td>K2</td>\n",
       "      <td>A2</td>\n",
       "      <td>K2</td>\n",
       "      <td>B2</td>\n",
       "    </tr>\n",
       "    <tr>\n",
       "      <th>3</th>\n",
       "      <td>K3</td>\n",
       "      <td>A3</td>\n",
       "      <td>NaN</td>\n",
       "      <td>NaN</td>\n",
       "    </tr>\n",
       "    <tr>\n",
       "      <th>4</th>\n",
       "      <td>K4</td>\n",
       "      <td>A4</td>\n",
       "      <td>NaN</td>\n",
       "      <td>NaN</td>\n",
       "    </tr>\n",
       "    <tr>\n",
       "      <th>5</th>\n",
       "      <td>K5</td>\n",
       "      <td>A5</td>\n",
       "      <td>NaN</td>\n",
       "      <td>NaN</td>\n",
       "    </tr>\n",
       "  </tbody>\n",
       "</table>\n",
       "</div>"
      ],
      "text/plain": [
       "  key_left   A key_right    B\n",
       "0       K0  A0        K0   B0\n",
       "1       K1  A1        K1   B1\n",
       "2       K2  A2        K2   B2\n",
       "3       K3  A3       NaN  NaN\n",
       "4       K4  A4       NaN  NaN\n",
       "5       K5  A5       NaN  NaN"
      ]
     },
     "execution_count": 486,
     "metadata": {},
     "output_type": "execute_result"
    }
   ],
   "source": [
    "left.join(right,lsuffix='_left',rsuffix='_right')"
   ]
  },
  {
   "cell_type": "code",
   "execution_count": 487,
   "id": "37e29b92",
   "metadata": {},
   "outputs": [
    {
     "data": {
      "text/html": [
       "<div>\n",
       "<style scoped>\n",
       "    .dataframe tbody tr th:only-of-type {\n",
       "        vertical-align: middle;\n",
       "    }\n",
       "\n",
       "    .dataframe tbody tr th {\n",
       "        vertical-align: top;\n",
       "    }\n",
       "\n",
       "    .dataframe thead th {\n",
       "        text-align: right;\n",
       "    }\n",
       "</style>\n",
       "<table border=\"1\" class=\"dataframe\">\n",
       "  <thead>\n",
       "    <tr style=\"text-align: right;\">\n",
       "      <th></th>\n",
       "      <th>key</th>\n",
       "      <th>A</th>\n",
       "      <th>B</th>\n",
       "    </tr>\n",
       "  </thead>\n",
       "  <tbody>\n",
       "    <tr>\n",
       "      <th>0</th>\n",
       "      <td>K0</td>\n",
       "      <td>A0</td>\n",
       "      <td>B0</td>\n",
       "    </tr>\n",
       "    <tr>\n",
       "      <th>1</th>\n",
       "      <td>K1</td>\n",
       "      <td>A1</td>\n",
       "      <td>B1</td>\n",
       "    </tr>\n",
       "    <tr>\n",
       "      <th>2</th>\n",
       "      <td>K2</td>\n",
       "      <td>A2</td>\n",
       "      <td>B2</td>\n",
       "    </tr>\n",
       "    <tr>\n",
       "      <th>3</th>\n",
       "      <td>K3</td>\n",
       "      <td>A3</td>\n",
       "      <td>NaN</td>\n",
       "    </tr>\n",
       "    <tr>\n",
       "      <th>4</th>\n",
       "      <td>K4</td>\n",
       "      <td>A4</td>\n",
       "      <td>NaN</td>\n",
       "    </tr>\n",
       "    <tr>\n",
       "      <th>5</th>\n",
       "      <td>K5</td>\n",
       "      <td>A5</td>\n",
       "      <td>NaN</td>\n",
       "    </tr>\n",
       "  </tbody>\n",
       "</table>\n",
       "</div>"
      ],
      "text/plain": [
       "  key   A    B\n",
       "0  K0  A0   B0\n",
       "1  K1  A1   B1\n",
       "2  K2  A2   B2\n",
       "3  K3  A3  NaN\n",
       "4  K4  A4  NaN\n",
       "5  K5  A5  NaN"
      ]
     },
     "execution_count": 487,
     "metadata": {},
     "output_type": "execute_result"
    }
   ],
   "source": [
    "left.join(right.set_index('key'),on='key')"
   ]
  },
  {
   "cell_type": "markdown",
   "id": "3e402f74",
   "metadata": {},
   "source": [
    "## 3 Using insert "
   ]
  },
  {
   "cell_type": "code",
   "execution_count": 488,
   "id": "579e5a9a",
   "metadata": {},
   "outputs": [
    {
     "data": {
      "text/html": [
       "<div>\n",
       "<style scoped>\n",
       "    .dataframe tbody tr th:only-of-type {\n",
       "        vertical-align: middle;\n",
       "    }\n",
       "\n",
       "    .dataframe tbody tr th {\n",
       "        vertical-align: top;\n",
       "    }\n",
       "\n",
       "    .dataframe thead th {\n",
       "        text-align: right;\n",
       "    }\n",
       "</style>\n",
       "<table border=\"1\" class=\"dataframe\">\n",
       "  <thead>\n",
       "    <tr style=\"text-align: right;\">\n",
       "      <th></th>\n",
       "      <th>col1</th>\n",
       "      <th>col2</th>\n",
       "    </tr>\n",
       "  </thead>\n",
       "  <tbody>\n",
       "    <tr>\n",
       "      <th>0</th>\n",
       "      <td>1</td>\n",
       "      <td>3</td>\n",
       "    </tr>\n",
       "    <tr>\n",
       "      <th>1</th>\n",
       "      <td>2</td>\n",
       "      <td>4</td>\n",
       "    </tr>\n",
       "  </tbody>\n",
       "</table>\n",
       "</div>"
      ],
      "text/plain": [
       "   col1  col2\n",
       "0     1     3\n",
       "1     2     4"
      ]
     },
     "execution_count": 488,
     "metadata": {},
     "output_type": "execute_result"
    }
   ],
   "source": [
    "df = pd.DataFrame({'col1': [1, 2], 'col2': [3, 4]})\n",
    "df"
   ]
  },
  {
   "cell_type": "code",
   "execution_count": 489,
   "id": "60ff7fdc",
   "metadata": {},
   "outputs": [
    {
     "data": {
      "text/html": [
       "<div>\n",
       "<style scoped>\n",
       "    .dataframe tbody tr th:only-of-type {\n",
       "        vertical-align: middle;\n",
       "    }\n",
       "\n",
       "    .dataframe tbody tr th {\n",
       "        vertical-align: top;\n",
       "    }\n",
       "\n",
       "    .dataframe thead th {\n",
       "        text-align: right;\n",
       "    }\n",
       "</style>\n",
       "<table border=\"1\" class=\"dataframe\">\n",
       "  <thead>\n",
       "    <tr style=\"text-align: right;\">\n",
       "      <th></th>\n",
       "      <th>col1</th>\n",
       "      <th>newcol</th>\n",
       "      <th>col2</th>\n",
       "    </tr>\n",
       "  </thead>\n",
       "  <tbody>\n",
       "    <tr>\n",
       "      <th>0</th>\n",
       "      <td>1</td>\n",
       "      <td>99</td>\n",
       "      <td>3</td>\n",
       "    </tr>\n",
       "    <tr>\n",
       "      <th>1</th>\n",
       "      <td>2</td>\n",
       "      <td>99</td>\n",
       "      <td>4</td>\n",
       "    </tr>\n",
       "  </tbody>\n",
       "</table>\n",
       "</div>"
      ],
      "text/plain": [
       "   col1  newcol  col2\n",
       "0     1      99     3\n",
       "1     2      99     4"
      ]
     },
     "execution_count": 489,
     "metadata": {},
     "output_type": "execute_result"
    }
   ],
   "source": [
    "df.insert(1, \"newcol\", [99, 99])\n",
    "df"
   ]
  },
  {
   "cell_type": "code",
   "execution_count": 490,
   "id": "dc547079",
   "metadata": {},
   "outputs": [
    {
     "data": {
      "text/html": [
       "<div>\n",
       "<style scoped>\n",
       "    .dataframe tbody tr th:only-of-type {\n",
       "        vertical-align: middle;\n",
       "    }\n",
       "\n",
       "    .dataframe tbody tr th {\n",
       "        vertical-align: top;\n",
       "    }\n",
       "\n",
       "    .dataframe thead th {\n",
       "        text-align: right;\n",
       "    }\n",
       "</style>\n",
       "<table border=\"1\" class=\"dataframe\">\n",
       "  <thead>\n",
       "    <tr style=\"text-align: right;\">\n",
       "      <th></th>\n",
       "      <th>col1</th>\n",
       "      <th>col1</th>\n",
       "      <th>newcol</th>\n",
       "      <th>col2</th>\n",
       "    </tr>\n",
       "  </thead>\n",
       "  <tbody>\n",
       "    <tr>\n",
       "      <th>0</th>\n",
       "      <td>100</td>\n",
       "      <td>1</td>\n",
       "      <td>99</td>\n",
       "      <td>3</td>\n",
       "    </tr>\n",
       "    <tr>\n",
       "      <th>1</th>\n",
       "      <td>100</td>\n",
       "      <td>2</td>\n",
       "      <td>99</td>\n",
       "      <td>4</td>\n",
       "    </tr>\n",
       "  </tbody>\n",
       "</table>\n",
       "</div>"
      ],
      "text/plain": [
       "   col1  col1  newcol  col2\n",
       "0   100     1      99     3\n",
       "1   100     2      99     4"
      ]
     },
     "execution_count": 490,
     "metadata": {},
     "output_type": "execute_result"
    }
   ],
   "source": [
    "df.insert(0, \"col1\", [100, 100], allow_duplicates=True)\n",
    "df"
   ]
  },
  {
   "cell_type": "code",
   "execution_count": 491,
   "id": "f7ed3793",
   "metadata": {},
   "outputs": [
    {
     "data": {
      "text/html": [
       "<div>\n",
       "<style scoped>\n",
       "    .dataframe tbody tr th:only-of-type {\n",
       "        vertical-align: middle;\n",
       "    }\n",
       "\n",
       "    .dataframe tbody tr th {\n",
       "        vertical-align: top;\n",
       "    }\n",
       "\n",
       "    .dataframe thead th {\n",
       "        text-align: right;\n",
       "    }\n",
       "</style>\n",
       "<table border=\"1\" class=\"dataframe\">\n",
       "  <thead>\n",
       "    <tr style=\"text-align: right;\">\n",
       "      <th></th>\n",
       "      <th>col0</th>\n",
       "      <th>col1</th>\n",
       "      <th>col1</th>\n",
       "      <th>newcol</th>\n",
       "      <th>col2</th>\n",
       "    </tr>\n",
       "  </thead>\n",
       "  <tbody>\n",
       "    <tr>\n",
       "      <th>0</th>\n",
       "      <td>NaN</td>\n",
       "      <td>100</td>\n",
       "      <td>1</td>\n",
       "      <td>99</td>\n",
       "      <td>3</td>\n",
       "    </tr>\n",
       "    <tr>\n",
       "      <th>1</th>\n",
       "      <td>5.0</td>\n",
       "      <td>100</td>\n",
       "      <td>2</td>\n",
       "      <td>99</td>\n",
       "      <td>4</td>\n",
       "    </tr>\n",
       "  </tbody>\n",
       "</table>\n",
       "</div>"
      ],
      "text/plain": [
       "   col0  col1  col1  newcol  col2\n",
       "0   NaN   100     1      99     3\n",
       "1   5.0   100     2      99     4"
      ]
     },
     "execution_count": 491,
     "metadata": {},
     "output_type": "execute_result"
    }
   ],
   "source": [
    "df.insert(0, \"col0\", pd.Series([5, 6], index=[1, 2]))\n",
    "df"
   ]
  },
  {
   "cell_type": "markdown",
   "id": "685caa39",
   "metadata": {},
   "source": [
    "# HANDLING MISSING VALUES AND NULL DATA"
   ]
  },
  {
   "cell_type": "code",
   "execution_count": 492,
   "id": "9074e1cc",
   "metadata": {},
   "outputs": [
    {
     "data": {
      "text/html": [
       "<div>\n",
       "<style scoped>\n",
       "    .dataframe tbody tr th:only-of-type {\n",
       "        vertical-align: middle;\n",
       "    }\n",
       "\n",
       "    .dataframe tbody tr th {\n",
       "        vertical-align: top;\n",
       "    }\n",
       "\n",
       "    .dataframe thead th {\n",
       "        text-align: right;\n",
       "    }\n",
       "</style>\n",
       "<table border=\"1\" class=\"dataframe\">\n",
       "  <thead>\n",
       "    <tr style=\"text-align: right;\">\n",
       "      <th></th>\n",
       "      <th>state</th>\n",
       "      <th>capital</th>\n",
       "      <th>literacy %</th>\n",
       "      <th>temperature</th>\n",
       "    </tr>\n",
       "  </thead>\n",
       "  <tbody>\n",
       "    <tr>\n",
       "      <th>0</th>\n",
       "      <td>gujarat</td>\n",
       "      <td>None</td>\n",
       "      <td>80</td>\n",
       "      <td>32.0</td>\n",
       "    </tr>\n",
       "    <tr>\n",
       "      <th>1</th>\n",
       "      <td>None</td>\n",
       "      <td>mumbai</td>\n",
       "      <td>70</td>\n",
       "      <td>36.0</td>\n",
       "    </tr>\n",
       "    <tr>\n",
       "      <th>2</th>\n",
       "      <td>rajastan</td>\n",
       "      <td>jaypur</td>\n",
       "      <td>78</td>\n",
       "      <td>NaN</td>\n",
       "    </tr>\n",
       "    <tr>\n",
       "      <th>3</th>\n",
       "      <td>madhaypradesh</td>\n",
       "      <td>bhopal</td>\n",
       "      <td>92</td>\n",
       "      <td>NaN</td>\n",
       "    </tr>\n",
       "    <tr>\n",
       "      <th>4</th>\n",
       "      <td>panjab</td>\n",
       "      <td>chhatishgadh</td>\n",
       "      <td>88</td>\n",
       "      <td>NaN</td>\n",
       "    </tr>\n",
       "  </tbody>\n",
       "</table>\n",
       "</div>"
      ],
      "text/plain": [
       "           state       capital  literacy %  temperature\n",
       "0        gujarat          None          80         32.0\n",
       "1           None        mumbai          70         36.0\n",
       "2       rajastan        jaypur          78          NaN\n",
       "3  madhaypradesh        bhopal          92          NaN\n",
       "4         panjab  chhatishgadh          88          NaN"
      ]
     },
     "execution_count": 492,
     "metadata": {},
     "output_type": "execute_result"
    }
   ],
   "source": [
    "A = {\n",
    "    \"state\" : [\"gujarat\",None,\"rajastan\",\"madhaypradesh\",\"panjab\"] ,\n",
    "    \"capital\" : [None,\"mumbai\",\"jaypur\",\"bhopal\",\"chhatishgadh\"] ,\n",
    "    \"literacy %\" : [80,70,78,92,88] ,\n",
    "    \"temperature\" : [32,36,None,None,None] ,\n",
    "}\n",
    "B = pd.DataFrame(A)\n",
    "B"
   ]
  },
  {
   "cell_type": "code",
   "execution_count": 493,
   "id": "9f9d1b6e",
   "metadata": {},
   "outputs": [
    {
     "data": {
      "text/html": [
       "<div>\n",
       "<style scoped>\n",
       "    .dataframe tbody tr th:only-of-type {\n",
       "        vertical-align: middle;\n",
       "    }\n",
       "\n",
       "    .dataframe tbody tr th {\n",
       "        vertical-align: top;\n",
       "    }\n",
       "\n",
       "    .dataframe thead th {\n",
       "        text-align: right;\n",
       "    }\n",
       "</style>\n",
       "<table border=\"1\" class=\"dataframe\">\n",
       "  <thead>\n",
       "    <tr style=\"text-align: right;\">\n",
       "      <th></th>\n",
       "      <th>state</th>\n",
       "      <th>capital</th>\n",
       "      <th>literacy %</th>\n",
       "      <th>temperature</th>\n",
       "    </tr>\n",
       "  </thead>\n",
       "  <tbody>\n",
       "    <tr>\n",
       "      <th>0</th>\n",
       "      <td>True</td>\n",
       "      <td>False</td>\n",
       "      <td>True</td>\n",
       "      <td>True</td>\n",
       "    </tr>\n",
       "    <tr>\n",
       "      <th>1</th>\n",
       "      <td>False</td>\n",
       "      <td>True</td>\n",
       "      <td>True</td>\n",
       "      <td>True</td>\n",
       "    </tr>\n",
       "    <tr>\n",
       "      <th>2</th>\n",
       "      <td>True</td>\n",
       "      <td>True</td>\n",
       "      <td>True</td>\n",
       "      <td>False</td>\n",
       "    </tr>\n",
       "    <tr>\n",
       "      <th>3</th>\n",
       "      <td>True</td>\n",
       "      <td>True</td>\n",
       "      <td>True</td>\n",
       "      <td>False</td>\n",
       "    </tr>\n",
       "    <tr>\n",
       "      <th>4</th>\n",
       "      <td>True</td>\n",
       "      <td>True</td>\n",
       "      <td>True</td>\n",
       "      <td>False</td>\n",
       "    </tr>\n",
       "  </tbody>\n",
       "</table>\n",
       "</div>"
      ],
      "text/plain": [
       "   state  capital  literacy %  temperature\n",
       "0   True    False        True         True\n",
       "1  False     True        True         True\n",
       "2   True     True        True        False\n",
       "3   True     True        True        False\n",
       "4   True     True        True        False"
      ]
     },
     "execution_count": 493,
     "metadata": {},
     "output_type": "execute_result"
    }
   ],
   "source": [
    "B.notna()"
   ]
  },
  {
   "cell_type": "code",
   "execution_count": 494,
   "id": "8610cdb6",
   "metadata": {},
   "outputs": [
    {
     "data": {
      "text/plain": [
       "state          4\n",
       "capital        4\n",
       "literacy %     5\n",
       "temperature    2\n",
       "dtype: int64"
      ]
     },
     "execution_count": 494,
     "metadata": {},
     "output_type": "execute_result"
    }
   ],
   "source": [
    "B.notna().sum()"
   ]
  },
  {
   "cell_type": "code",
   "execution_count": 495,
   "id": "efe59266",
   "metadata": {},
   "outputs": [
    {
     "data": {
      "text/plain": [
       "15"
      ]
     },
     "execution_count": 495,
     "metadata": {},
     "output_type": "execute_result"
    }
   ],
   "source": [
    "B.notna().sum().sum()"
   ]
  },
  {
   "cell_type": "code",
   "execution_count": 496,
   "id": "be3117cb",
   "metadata": {},
   "outputs": [
    {
     "data": {
      "text/html": [
       "<div>\n",
       "<style scoped>\n",
       "    .dataframe tbody tr th:only-of-type {\n",
       "        vertical-align: middle;\n",
       "    }\n",
       "\n",
       "    .dataframe tbody tr th {\n",
       "        vertical-align: top;\n",
       "    }\n",
       "\n",
       "    .dataframe thead th {\n",
       "        text-align: right;\n",
       "    }\n",
       "</style>\n",
       "<table border=\"1\" class=\"dataframe\">\n",
       "  <thead>\n",
       "    <tr style=\"text-align: right;\">\n",
       "      <th></th>\n",
       "      <th>state</th>\n",
       "      <th>capital</th>\n",
       "      <th>literacy %</th>\n",
       "      <th>temperature</th>\n",
       "    </tr>\n",
       "  </thead>\n",
       "  <tbody>\n",
       "    <tr>\n",
       "      <th>0</th>\n",
       "      <td>True</td>\n",
       "      <td>False</td>\n",
       "      <td>True</td>\n",
       "      <td>True</td>\n",
       "    </tr>\n",
       "    <tr>\n",
       "      <th>1</th>\n",
       "      <td>False</td>\n",
       "      <td>True</td>\n",
       "      <td>True</td>\n",
       "      <td>True</td>\n",
       "    </tr>\n",
       "    <tr>\n",
       "      <th>2</th>\n",
       "      <td>True</td>\n",
       "      <td>True</td>\n",
       "      <td>True</td>\n",
       "      <td>False</td>\n",
       "    </tr>\n",
       "    <tr>\n",
       "      <th>3</th>\n",
       "      <td>True</td>\n",
       "      <td>True</td>\n",
       "      <td>True</td>\n",
       "      <td>False</td>\n",
       "    </tr>\n",
       "    <tr>\n",
       "      <th>4</th>\n",
       "      <td>True</td>\n",
       "      <td>True</td>\n",
       "      <td>True</td>\n",
       "      <td>False</td>\n",
       "    </tr>\n",
       "  </tbody>\n",
       "</table>\n",
       "</div>"
      ],
      "text/plain": [
       "   state  capital  literacy %  temperature\n",
       "0   True    False        True         True\n",
       "1  False     True        True         True\n",
       "2   True     True        True        False\n",
       "3   True     True        True        False\n",
       "4   True     True        True        False"
      ]
     },
     "execution_count": 496,
     "metadata": {},
     "output_type": "execute_result"
    }
   ],
   "source": [
    "B.notnull()"
   ]
  },
  {
   "cell_type": "code",
   "execution_count": 497,
   "id": "787a2bc3",
   "metadata": {},
   "outputs": [
    {
     "data": {
      "text/html": [
       "<div>\n",
       "<style scoped>\n",
       "    .dataframe tbody tr th:only-of-type {\n",
       "        vertical-align: middle;\n",
       "    }\n",
       "\n",
       "    .dataframe tbody tr th {\n",
       "        vertical-align: top;\n",
       "    }\n",
       "\n",
       "    .dataframe thead th {\n",
       "        text-align: right;\n",
       "    }\n",
       "</style>\n",
       "<table border=\"1\" class=\"dataframe\">\n",
       "  <thead>\n",
       "    <tr style=\"text-align: right;\">\n",
       "      <th></th>\n",
       "      <th>state</th>\n",
       "      <th>capital</th>\n",
       "      <th>literacy %</th>\n",
       "      <th>temperature</th>\n",
       "    </tr>\n",
       "  </thead>\n",
       "  <tbody>\n",
       "    <tr>\n",
       "      <th>0</th>\n",
       "      <td>False</td>\n",
       "      <td>True</td>\n",
       "      <td>False</td>\n",
       "      <td>False</td>\n",
       "    </tr>\n",
       "    <tr>\n",
       "      <th>1</th>\n",
       "      <td>True</td>\n",
       "      <td>False</td>\n",
       "      <td>False</td>\n",
       "      <td>False</td>\n",
       "    </tr>\n",
       "    <tr>\n",
       "      <th>2</th>\n",
       "      <td>False</td>\n",
       "      <td>False</td>\n",
       "      <td>False</td>\n",
       "      <td>True</td>\n",
       "    </tr>\n",
       "    <tr>\n",
       "      <th>3</th>\n",
       "      <td>False</td>\n",
       "      <td>False</td>\n",
       "      <td>False</td>\n",
       "      <td>True</td>\n",
       "    </tr>\n",
       "    <tr>\n",
       "      <th>4</th>\n",
       "      <td>False</td>\n",
       "      <td>False</td>\n",
       "      <td>False</td>\n",
       "      <td>True</td>\n",
       "    </tr>\n",
       "  </tbody>\n",
       "</table>\n",
       "</div>"
      ],
      "text/plain": [
       "   state  capital  literacy %  temperature\n",
       "0  False     True       False        False\n",
       "1   True    False       False        False\n",
       "2  False    False       False         True\n",
       "3  False    False       False         True\n",
       "4  False    False       False         True"
      ]
     },
     "execution_count": 497,
     "metadata": {},
     "output_type": "execute_result"
    }
   ],
   "source": [
    "B.isna()"
   ]
  },
  {
   "cell_type": "code",
   "execution_count": 498,
   "id": "1cdce84c",
   "metadata": {},
   "outputs": [
    {
     "data": {
      "text/html": [
       "<div>\n",
       "<style scoped>\n",
       "    .dataframe tbody tr th:only-of-type {\n",
       "        vertical-align: middle;\n",
       "    }\n",
       "\n",
       "    .dataframe tbody tr th {\n",
       "        vertical-align: top;\n",
       "    }\n",
       "\n",
       "    .dataframe thead th {\n",
       "        text-align: right;\n",
       "    }\n",
       "</style>\n",
       "<table border=\"1\" class=\"dataframe\">\n",
       "  <thead>\n",
       "    <tr style=\"text-align: right;\">\n",
       "      <th></th>\n",
       "      <th>state</th>\n",
       "      <th>capital</th>\n",
       "      <th>literacy %</th>\n",
       "      <th>temperature</th>\n",
       "    </tr>\n",
       "  </thead>\n",
       "  <tbody>\n",
       "    <tr>\n",
       "      <th>0</th>\n",
       "      <td>False</td>\n",
       "      <td>True</td>\n",
       "      <td>False</td>\n",
       "      <td>False</td>\n",
       "    </tr>\n",
       "    <tr>\n",
       "      <th>1</th>\n",
       "      <td>True</td>\n",
       "      <td>False</td>\n",
       "      <td>False</td>\n",
       "      <td>False</td>\n",
       "    </tr>\n",
       "    <tr>\n",
       "      <th>2</th>\n",
       "      <td>False</td>\n",
       "      <td>False</td>\n",
       "      <td>False</td>\n",
       "      <td>True</td>\n",
       "    </tr>\n",
       "    <tr>\n",
       "      <th>3</th>\n",
       "      <td>False</td>\n",
       "      <td>False</td>\n",
       "      <td>False</td>\n",
       "      <td>True</td>\n",
       "    </tr>\n",
       "    <tr>\n",
       "      <th>4</th>\n",
       "      <td>False</td>\n",
       "      <td>False</td>\n",
       "      <td>False</td>\n",
       "      <td>True</td>\n",
       "    </tr>\n",
       "  </tbody>\n",
       "</table>\n",
       "</div>"
      ],
      "text/plain": [
       "   state  capital  literacy %  temperature\n",
       "0  False     True       False        False\n",
       "1   True    False       False        False\n",
       "2  False    False       False         True\n",
       "3  False    False       False         True\n",
       "4  False    False       False         True"
      ]
     },
     "execution_count": 498,
     "metadata": {},
     "output_type": "execute_result"
    }
   ],
   "source": [
    "B.isnull()"
   ]
  },
  {
   "cell_type": "code",
   "execution_count": 499,
   "id": "87ef08c5",
   "metadata": {},
   "outputs": [
    {
     "data": {
      "text/plain": [
       "state          1\n",
       "capital        1\n",
       "literacy %     0\n",
       "temperature    3\n",
       "dtype: int64"
      ]
     },
     "execution_count": 499,
     "metadata": {},
     "output_type": "execute_result"
    }
   ],
   "source": [
    "B.isnull().sum()"
   ]
  },
  {
   "cell_type": "code",
   "execution_count": 500,
   "id": "621b9e4a",
   "metadata": {},
   "outputs": [
    {
     "data": {
      "text/plain": [
       "5"
      ]
     },
     "execution_count": 500,
     "metadata": {},
     "output_type": "execute_result"
    }
   ],
   "source": [
    "B.isnull().sum().sum()"
   ]
  },
  {
   "cell_type": "code",
   "execution_count": 501,
   "id": "2b9a0097",
   "metadata": {},
   "outputs": [
    {
     "data": {
      "text/plain": [
       "False"
      ]
     },
     "execution_count": 501,
     "metadata": {},
     "output_type": "execute_result"
    }
   ],
   "source": [
    "B.empty"
   ]
  },
  {
   "cell_type": "code",
   "execution_count": 502,
   "id": "f8f8e0ff",
   "metadata": {},
   "outputs": [
    {
     "data": {
      "text/plain": [
       "state          4\n",
       "capital        4\n",
       "literacy %     5\n",
       "temperature    2\n",
       "dtype: int64"
      ]
     },
     "execution_count": 502,
     "metadata": {},
     "output_type": "execute_result"
    }
   ],
   "source": [
    "B.count()"
   ]
  },
  {
   "cell_type": "code",
   "execution_count": 503,
   "id": "25d3f8b5",
   "metadata": {},
   "outputs": [
    {
     "data": {
      "text/plain": [
       "15"
      ]
     },
     "execution_count": 503,
     "metadata": {},
     "output_type": "execute_result"
    }
   ],
   "source": [
    "B.count().sum()"
   ]
  },
  {
   "cell_type": "code",
   "execution_count": 504,
   "id": "d05093e7",
   "metadata": {},
   "outputs": [
    {
     "data": {
      "text/html": [
       "<div>\n",
       "<style scoped>\n",
       "    .dataframe tbody tr th:only-of-type {\n",
       "        vertical-align: middle;\n",
       "    }\n",
       "\n",
       "    .dataframe tbody tr th {\n",
       "        vertical-align: top;\n",
       "    }\n",
       "\n",
       "    .dataframe thead th {\n",
       "        text-align: right;\n",
       "    }\n",
       "</style>\n",
       "<table border=\"1\" class=\"dataframe\">\n",
       "  <thead>\n",
       "    <tr style=\"text-align: right;\">\n",
       "      <th></th>\n",
       "      <th>state</th>\n",
       "      <th>capital</th>\n",
       "      <th>literacy %</th>\n",
       "      <th>temperature</th>\n",
       "    </tr>\n",
       "  </thead>\n",
       "  <tbody>\n",
       "    <tr>\n",
       "      <th>0</th>\n",
       "      <td>gujarat</td>\n",
       "      <td>mumbai</td>\n",
       "      <td>80</td>\n",
       "      <td>32.0</td>\n",
       "    </tr>\n",
       "    <tr>\n",
       "      <th>1</th>\n",
       "      <td>rajastan</td>\n",
       "      <td>mumbai</td>\n",
       "      <td>70</td>\n",
       "      <td>36.0</td>\n",
       "    </tr>\n",
       "    <tr>\n",
       "      <th>2</th>\n",
       "      <td>rajastan</td>\n",
       "      <td>jaypur</td>\n",
       "      <td>78</td>\n",
       "      <td>NaN</td>\n",
       "    </tr>\n",
       "    <tr>\n",
       "      <th>3</th>\n",
       "      <td>madhaypradesh</td>\n",
       "      <td>bhopal</td>\n",
       "      <td>92</td>\n",
       "      <td>NaN</td>\n",
       "    </tr>\n",
       "    <tr>\n",
       "      <th>4</th>\n",
       "      <td>panjab</td>\n",
       "      <td>chhatishgadh</td>\n",
       "      <td>88</td>\n",
       "      <td>NaN</td>\n",
       "    </tr>\n",
       "  </tbody>\n",
       "</table>\n",
       "</div>"
      ],
      "text/plain": [
       "           state       capital  literacy %  temperature\n",
       "0        gujarat        mumbai          80         32.0\n",
       "1       rajastan        mumbai          70         36.0\n",
       "2       rajastan        jaypur          78          NaN\n",
       "3  madhaypradesh        bhopal          92          NaN\n",
       "4         panjab  chhatishgadh          88          NaN"
      ]
     },
     "execution_count": 504,
     "metadata": {},
     "output_type": "execute_result"
    }
   ],
   "source": [
    "B.backfill()"
   ]
  },
  {
   "cell_type": "code",
   "execution_count": 505,
   "id": "658111d0",
   "metadata": {},
   "outputs": [
    {
     "data": {
      "text/html": [
       "<div>\n",
       "<style scoped>\n",
       "    .dataframe tbody tr th:only-of-type {\n",
       "        vertical-align: middle;\n",
       "    }\n",
       "\n",
       "    .dataframe tbody tr th {\n",
       "        vertical-align: top;\n",
       "    }\n",
       "\n",
       "    .dataframe thead th {\n",
       "        text-align: right;\n",
       "    }\n",
       "</style>\n",
       "<table border=\"1\" class=\"dataframe\">\n",
       "  <thead>\n",
       "    <tr style=\"text-align: right;\">\n",
       "      <th></th>\n",
       "      <th>state</th>\n",
       "      <th>capital</th>\n",
       "      <th>literacy %</th>\n",
       "      <th>temperature</th>\n",
       "    </tr>\n",
       "  </thead>\n",
       "  <tbody>\n",
       "    <tr>\n",
       "      <th>0</th>\n",
       "      <td>gujarat</td>\n",
       "      <td>mumbai</td>\n",
       "      <td>80</td>\n",
       "      <td>32.0</td>\n",
       "    </tr>\n",
       "    <tr>\n",
       "      <th>1</th>\n",
       "      <td>rajastan</td>\n",
       "      <td>mumbai</td>\n",
       "      <td>70</td>\n",
       "      <td>36.0</td>\n",
       "    </tr>\n",
       "    <tr>\n",
       "      <th>2</th>\n",
       "      <td>rajastan</td>\n",
       "      <td>jaypur</td>\n",
       "      <td>78</td>\n",
       "      <td>NaN</td>\n",
       "    </tr>\n",
       "    <tr>\n",
       "      <th>3</th>\n",
       "      <td>madhaypradesh</td>\n",
       "      <td>bhopal</td>\n",
       "      <td>92</td>\n",
       "      <td>NaN</td>\n",
       "    </tr>\n",
       "    <tr>\n",
       "      <th>4</th>\n",
       "      <td>panjab</td>\n",
       "      <td>chhatishgadh</td>\n",
       "      <td>88</td>\n",
       "      <td>NaN</td>\n",
       "    </tr>\n",
       "  </tbody>\n",
       "</table>\n",
       "</div>"
      ],
      "text/plain": [
       "           state       capital  literacy %  temperature\n",
       "0        gujarat        mumbai          80         32.0\n",
       "1       rajastan        mumbai          70         36.0\n",
       "2       rajastan        jaypur          78          NaN\n",
       "3  madhaypradesh        bhopal          92          NaN\n",
       "4         panjab  chhatishgadh          88          NaN"
      ]
     },
     "execution_count": 505,
     "metadata": {},
     "output_type": "execute_result"
    }
   ],
   "source": [
    "B.bfill()"
   ]
  },
  {
   "cell_type": "code",
   "execution_count": 506,
   "id": "a230ee6d",
   "metadata": {},
   "outputs": [
    {
     "data": {
      "text/html": [
       "<div>\n",
       "<style scoped>\n",
       "    .dataframe tbody tr th:only-of-type {\n",
       "        vertical-align: middle;\n",
       "    }\n",
       "\n",
       "    .dataframe tbody tr th {\n",
       "        vertical-align: top;\n",
       "    }\n",
       "\n",
       "    .dataframe thead th {\n",
       "        text-align: right;\n",
       "    }\n",
       "</style>\n",
       "<table border=\"1\" class=\"dataframe\">\n",
       "  <thead>\n",
       "    <tr style=\"text-align: right;\">\n",
       "      <th></th>\n",
       "      <th>state</th>\n",
       "      <th>capital</th>\n",
       "      <th>literacy %</th>\n",
       "      <th>temperature</th>\n",
       "    </tr>\n",
       "  </thead>\n",
       "  <tbody>\n",
       "    <tr>\n",
       "      <th>0</th>\n",
       "      <td>gujarat</td>\n",
       "      <td>None</td>\n",
       "      <td>80</td>\n",
       "      <td>32.0</td>\n",
       "    </tr>\n",
       "    <tr>\n",
       "      <th>1</th>\n",
       "      <td>gujarat</td>\n",
       "      <td>mumbai</td>\n",
       "      <td>70</td>\n",
       "      <td>36.0</td>\n",
       "    </tr>\n",
       "    <tr>\n",
       "      <th>2</th>\n",
       "      <td>rajastan</td>\n",
       "      <td>jaypur</td>\n",
       "      <td>78</td>\n",
       "      <td>36.0</td>\n",
       "    </tr>\n",
       "    <tr>\n",
       "      <th>3</th>\n",
       "      <td>madhaypradesh</td>\n",
       "      <td>bhopal</td>\n",
       "      <td>92</td>\n",
       "      <td>36.0</td>\n",
       "    </tr>\n",
       "    <tr>\n",
       "      <th>4</th>\n",
       "      <td>panjab</td>\n",
       "      <td>chhatishgadh</td>\n",
       "      <td>88</td>\n",
       "      <td>36.0</td>\n",
       "    </tr>\n",
       "  </tbody>\n",
       "</table>\n",
       "</div>"
      ],
      "text/plain": [
       "           state       capital  literacy %  temperature\n",
       "0        gujarat          None          80         32.0\n",
       "1        gujarat        mumbai          70         36.0\n",
       "2       rajastan        jaypur          78         36.0\n",
       "3  madhaypradesh        bhopal          92         36.0\n",
       "4         panjab  chhatishgadh          88         36.0"
      ]
     },
     "execution_count": 506,
     "metadata": {},
     "output_type": "execute_result"
    }
   ],
   "source": [
    "B.pad() # ``method='ffill'`` like method for filling nan values"
   ]
  },
  {
   "cell_type": "code",
   "execution_count": 507,
   "id": "d2d756be",
   "metadata": {},
   "outputs": [
    {
     "data": {
      "text/html": [
       "<div>\n",
       "<style scoped>\n",
       "    .dataframe tbody tr th:only-of-type {\n",
       "        vertical-align: middle;\n",
       "    }\n",
       "\n",
       "    .dataframe tbody tr th {\n",
       "        vertical-align: top;\n",
       "    }\n",
       "\n",
       "    .dataframe thead th {\n",
       "        text-align: right;\n",
       "    }\n",
       "</style>\n",
       "<table border=\"1\" class=\"dataframe\">\n",
       "  <thead>\n",
       "    <tr style=\"text-align: right;\">\n",
       "      <th></th>\n",
       "      <th>state</th>\n",
       "      <th>capital</th>\n",
       "      <th>literacy %</th>\n",
       "      <th>temperature</th>\n",
       "    </tr>\n",
       "  </thead>\n",
       "  <tbody>\n",
       "    <tr>\n",
       "      <th>0</th>\n",
       "      <td>gujarat</td>\n",
       "      <td>None</td>\n",
       "      <td>80</td>\n",
       "      <td>32.0</td>\n",
       "    </tr>\n",
       "    <tr>\n",
       "      <th>1</th>\n",
       "      <td>gujarat</td>\n",
       "      <td>mumbai</td>\n",
       "      <td>70</td>\n",
       "      <td>36.0</td>\n",
       "    </tr>\n",
       "    <tr>\n",
       "      <th>2</th>\n",
       "      <td>rajastan</td>\n",
       "      <td>jaypur</td>\n",
       "      <td>78</td>\n",
       "      <td>36.0</td>\n",
       "    </tr>\n",
       "    <tr>\n",
       "      <th>3</th>\n",
       "      <td>madhaypradesh</td>\n",
       "      <td>bhopal</td>\n",
       "      <td>92</td>\n",
       "      <td>36.0</td>\n",
       "    </tr>\n",
       "    <tr>\n",
       "      <th>4</th>\n",
       "      <td>panjab</td>\n",
       "      <td>chhatishgadh</td>\n",
       "      <td>88</td>\n",
       "      <td>36.0</td>\n",
       "    </tr>\n",
       "  </tbody>\n",
       "</table>\n",
       "</div>"
      ],
      "text/plain": [
       "           state       capital  literacy %  temperature\n",
       "0        gujarat          None          80         32.0\n",
       "1        gujarat        mumbai          70         36.0\n",
       "2       rajastan        jaypur          78         36.0\n",
       "3  madhaypradesh        bhopal          92         36.0\n",
       "4         panjab  chhatishgadh          88         36.0"
      ]
     },
     "execution_count": 507,
     "metadata": {},
     "output_type": "execute_result"
    }
   ],
   "source": [
    "B.ffill()"
   ]
  },
  {
   "cell_type": "code",
   "execution_count": 508,
   "id": "4cea6697",
   "metadata": {},
   "outputs": [
    {
     "data": {
      "text/html": [
       "<div>\n",
       "<style scoped>\n",
       "    .dataframe tbody tr th:only-of-type {\n",
       "        vertical-align: middle;\n",
       "    }\n",
       "\n",
       "    .dataframe tbody tr th {\n",
       "        vertical-align: top;\n",
       "    }\n",
       "\n",
       "    .dataframe thead th {\n",
       "        text-align: right;\n",
       "    }\n",
       "</style>\n",
       "<table border=\"1\" class=\"dataframe\">\n",
       "  <thead>\n",
       "    <tr style=\"text-align: right;\">\n",
       "      <th></th>\n",
       "      <th>state</th>\n",
       "      <th>capital</th>\n",
       "      <th>literacy %</th>\n",
       "      <th>temperature</th>\n",
       "    </tr>\n",
       "  </thead>\n",
       "  <tbody>\n",
       "    <tr>\n",
       "      <th>0</th>\n",
       "      <td>gujarat</td>\n",
       "      <td>None</td>\n",
       "      <td>80</td>\n",
       "      <td>32.0</td>\n",
       "    </tr>\n",
       "    <tr>\n",
       "      <th>1</th>\n",
       "      <td>gujarat</td>\n",
       "      <td>mumbai</td>\n",
       "      <td>70</td>\n",
       "      <td>36.0</td>\n",
       "    </tr>\n",
       "    <tr>\n",
       "      <th>2</th>\n",
       "      <td>rajastan</td>\n",
       "      <td>jaypur</td>\n",
       "      <td>78</td>\n",
       "      <td>36.0</td>\n",
       "    </tr>\n",
       "    <tr>\n",
       "      <th>3</th>\n",
       "      <td>madhaypradesh</td>\n",
       "      <td>bhopal</td>\n",
       "      <td>92</td>\n",
       "      <td>36.0</td>\n",
       "    </tr>\n",
       "    <tr>\n",
       "      <th>4</th>\n",
       "      <td>panjab</td>\n",
       "      <td>chhatishgadh</td>\n",
       "      <td>88</td>\n",
       "      <td>NaN</td>\n",
       "    </tr>\n",
       "  </tbody>\n",
       "</table>\n",
       "</div>"
      ],
      "text/plain": [
       "           state       capital  literacy %  temperature\n",
       "0        gujarat          None          80         32.0\n",
       "1        gujarat        mumbai          70         36.0\n",
       "2       rajastan        jaypur          78         36.0\n",
       "3  madhaypradesh        bhopal          92         36.0\n",
       "4         panjab  chhatishgadh          88          NaN"
      ]
     },
     "execution_count": 508,
     "metadata": {},
     "output_type": "execute_result"
    }
   ],
   "source": [
    "B.fillna(method='ffill',limit=2)"
   ]
  },
  {
   "cell_type": "code",
   "execution_count": 509,
   "id": "b632df60",
   "metadata": {},
   "outputs": [
    {
     "data": {
      "text/html": [
       "<div>\n",
       "<style scoped>\n",
       "    .dataframe tbody tr th:only-of-type {\n",
       "        vertical-align: middle;\n",
       "    }\n",
       "\n",
       "    .dataframe tbody tr th {\n",
       "        vertical-align: top;\n",
       "    }\n",
       "\n",
       "    .dataframe thead th {\n",
       "        text-align: right;\n",
       "    }\n",
       "</style>\n",
       "<table border=\"1\" class=\"dataframe\">\n",
       "  <thead>\n",
       "    <tr style=\"text-align: right;\">\n",
       "      <th></th>\n",
       "      <th>state</th>\n",
       "      <th>capital</th>\n",
       "      <th>literacy %</th>\n",
       "      <th>temperature</th>\n",
       "    </tr>\n",
       "  </thead>\n",
       "  <tbody>\n",
       "    <tr>\n",
       "      <th>0</th>\n",
       "      <td>gujarat</td>\n",
       "      <td>XXXX</td>\n",
       "      <td>80</td>\n",
       "      <td>32.0</td>\n",
       "    </tr>\n",
       "    <tr>\n",
       "      <th>1</th>\n",
       "      <td>XXXX</td>\n",
       "      <td>mumbai</td>\n",
       "      <td>70</td>\n",
       "      <td>36.0</td>\n",
       "    </tr>\n",
       "    <tr>\n",
       "      <th>2</th>\n",
       "      <td>rajastan</td>\n",
       "      <td>jaypur</td>\n",
       "      <td>78</td>\n",
       "      <td>XXXX</td>\n",
       "    </tr>\n",
       "    <tr>\n",
       "      <th>3</th>\n",
       "      <td>madhaypradesh</td>\n",
       "      <td>bhopal</td>\n",
       "      <td>92</td>\n",
       "      <td>XXXX</td>\n",
       "    </tr>\n",
       "    <tr>\n",
       "      <th>4</th>\n",
       "      <td>panjab</td>\n",
       "      <td>chhatishgadh</td>\n",
       "      <td>88</td>\n",
       "      <td>XXXX</td>\n",
       "    </tr>\n",
       "  </tbody>\n",
       "</table>\n",
       "</div>"
      ],
      "text/plain": [
       "           state       capital  literacy % temperature\n",
       "0        gujarat          XXXX          80        32.0\n",
       "1           XXXX        mumbai          70        36.0\n",
       "2       rajastan        jaypur          78        XXXX\n",
       "3  madhaypradesh        bhopal          92        XXXX\n",
       "4         panjab  chhatishgadh          88        XXXX"
      ]
     },
     "execution_count": 509,
     "metadata": {},
     "output_type": "execute_result"
    }
   ],
   "source": [
    "B.fillna('XXXX')"
   ]
  },
  {
   "cell_type": "code",
   "execution_count": 510,
   "id": "e35a139b",
   "metadata": {},
   "outputs": [
    {
     "data": {
      "text/plain": [
       "0          gujarat\n",
       "2         rajastan\n",
       "3    madhaypradesh\n",
       "4           panjab\n",
       "Name: state, dtype: object"
      ]
     },
     "execution_count": 510,
     "metadata": {},
     "output_type": "execute_result"
    }
   ],
   "source": [
    "B['state'].dropna()"
   ]
  },
  {
   "cell_type": "code",
   "execution_count": 511,
   "id": "a2148c8b",
   "metadata": {},
   "outputs": [
    {
     "data": {
      "text/plain": [
       "36.0"
      ]
     },
     "execution_count": 511,
     "metadata": {},
     "output_type": "execute_result"
    }
   ],
   "source": [
    "m = B['temperature'].max()\n",
    "m"
   ]
  },
  {
   "cell_type": "code",
   "execution_count": 512,
   "id": "99af0f88",
   "metadata": {},
   "outputs": [
    {
     "data": {
      "text/html": [
       "<div>\n",
       "<style scoped>\n",
       "    .dataframe tbody tr th:only-of-type {\n",
       "        vertical-align: middle;\n",
       "    }\n",
       "\n",
       "    .dataframe tbody tr th {\n",
       "        vertical-align: top;\n",
       "    }\n",
       "\n",
       "    .dataframe thead th {\n",
       "        text-align: right;\n",
       "    }\n",
       "</style>\n",
       "<table border=\"1\" class=\"dataframe\">\n",
       "  <thead>\n",
       "    <tr style=\"text-align: right;\">\n",
       "      <th></th>\n",
       "      <th>state</th>\n",
       "      <th>capital</th>\n",
       "      <th>literacy %</th>\n",
       "      <th>temperature</th>\n",
       "    </tr>\n",
       "  </thead>\n",
       "  <tbody>\n",
       "    <tr>\n",
       "      <th>0</th>\n",
       "      <td>gujarat</td>\n",
       "      <td>gandhinagar</td>\n",
       "      <td>80</td>\n",
       "      <td>32.0</td>\n",
       "    </tr>\n",
       "    <tr>\n",
       "      <th>1</th>\n",
       "      <td>maharastra</td>\n",
       "      <td>mumbai</td>\n",
       "      <td>70</td>\n",
       "      <td>36.0</td>\n",
       "    </tr>\n",
       "    <tr>\n",
       "      <th>2</th>\n",
       "      <td>rajastan</td>\n",
       "      <td>jaypur</td>\n",
       "      <td>78</td>\n",
       "      <td>36.0</td>\n",
       "    </tr>\n",
       "    <tr>\n",
       "      <th>3</th>\n",
       "      <td>madhaypradesh</td>\n",
       "      <td>bhopal</td>\n",
       "      <td>92</td>\n",
       "      <td>36.0</td>\n",
       "    </tr>\n",
       "    <tr>\n",
       "      <th>4</th>\n",
       "      <td>panjab</td>\n",
       "      <td>chhatishgadh</td>\n",
       "      <td>88</td>\n",
       "      <td>36.0</td>\n",
       "    </tr>\n",
       "  </tbody>\n",
       "</table>\n",
       "</div>"
      ],
      "text/plain": [
       "           state       capital  literacy %  temperature\n",
       "0        gujarat   gandhinagar          80         32.0\n",
       "1     maharastra        mumbai          70         36.0\n",
       "2       rajastan        jaypur          78         36.0\n",
       "3  madhaypradesh        bhopal          92         36.0\n",
       "4         panjab  chhatishgadh          88         36.0"
      ]
     },
     "execution_count": 512,
     "metadata": {},
     "output_type": "execute_result"
    }
   ],
   "source": [
    "B['temperature'].fillna(m,inplace=True)\n",
    "B['state'].fillna(\"maharastra\",inplace=True)\n",
    "B['capital'].fillna('gandhinagar',inplace=True)\n",
    "B"
   ]
  },
  {
   "cell_type": "markdown",
   "id": "5c4e4b65",
   "metadata": {},
   "source": [
    "# REPLACING DATA WITH OTHER DATA"
   ]
  },
  {
   "cell_type": "code",
   "execution_count": 513,
   "id": "d7c1ae9f",
   "metadata": {},
   "outputs": [
    {
     "data": {
      "text/html": [
       "<div>\n",
       "<style scoped>\n",
       "    .dataframe tbody tr th:only-of-type {\n",
       "        vertical-align: middle;\n",
       "    }\n",
       "\n",
       "    .dataframe tbody tr th {\n",
       "        vertical-align: top;\n",
       "    }\n",
       "\n",
       "    .dataframe thead th {\n",
       "        text-align: right;\n",
       "    }\n",
       "</style>\n",
       "<table border=\"1\" class=\"dataframe\">\n",
       "  <thead>\n",
       "    <tr style=\"text-align: right;\">\n",
       "      <th></th>\n",
       "      <th>state</th>\n",
       "      <th>capital</th>\n",
       "      <th>literacy %</th>\n",
       "      <th>temperature</th>\n",
       "    </tr>\n",
       "  </thead>\n",
       "  <tbody>\n",
       "    <tr>\n",
       "      <th>0</th>\n",
       "      <td>gujarat</td>\n",
       "      <td>gandhinagar</td>\n",
       "      <td>80</td>\n",
       "      <td>32.0</td>\n",
       "    </tr>\n",
       "    <tr>\n",
       "      <th>1</th>\n",
       "      <td>maharastra</td>\n",
       "      <td>mumbai</td>\n",
       "      <td>70</td>\n",
       "      <td>10.0</td>\n",
       "    </tr>\n",
       "    <tr>\n",
       "      <th>2</th>\n",
       "      <td>rajastan</td>\n",
       "      <td>jaypur</td>\n",
       "      <td>78</td>\n",
       "      <td>10.0</td>\n",
       "    </tr>\n",
       "    <tr>\n",
       "      <th>3</th>\n",
       "      <td>madhaypradesh</td>\n",
       "      <td>bhopal</td>\n",
       "      <td>92</td>\n",
       "      <td>10.0</td>\n",
       "    </tr>\n",
       "    <tr>\n",
       "      <th>4</th>\n",
       "      <td>panjab</td>\n",
       "      <td>chhatishgadh</td>\n",
       "      <td>88</td>\n",
       "      <td>10.0</td>\n",
       "    </tr>\n",
       "  </tbody>\n",
       "</table>\n",
       "</div>"
      ],
      "text/plain": [
       "           state       capital  literacy %  temperature\n",
       "0        gujarat   gandhinagar          80         32.0\n",
       "1     maharastra        mumbai          70         10.0\n",
       "2       rajastan        jaypur          78         10.0\n",
       "3  madhaypradesh        bhopal          92         10.0\n",
       "4         panjab  chhatishgadh          88         10.0"
      ]
     },
     "execution_count": 513,
     "metadata": {},
     "output_type": "execute_result"
    }
   ],
   "source": [
    "B.replace(36,10)"
   ]
  },
  {
   "cell_type": "code",
   "execution_count": 514,
   "id": "a23cf210",
   "metadata": {},
   "outputs": [
    {
     "data": {
      "text/html": [
       "<div>\n",
       "<style scoped>\n",
       "    .dataframe tbody tr th:only-of-type {\n",
       "        vertical-align: middle;\n",
       "    }\n",
       "\n",
       "    .dataframe tbody tr th {\n",
       "        vertical-align: top;\n",
       "    }\n",
       "\n",
       "    .dataframe thead th {\n",
       "        text-align: right;\n",
       "    }\n",
       "</style>\n",
       "<table border=\"1\" class=\"dataframe\">\n",
       "  <thead>\n",
       "    <tr style=\"text-align: right;\">\n",
       "      <th></th>\n",
       "      <th>state</th>\n",
       "      <th>capital</th>\n",
       "      <th>literacy %</th>\n",
       "      <th>temperature</th>\n",
       "    </tr>\n",
       "  </thead>\n",
       "  <tbody>\n",
       "    <tr>\n",
       "      <th>0</th>\n",
       "      <td>gujarat</td>\n",
       "      <td>gandhinagar</td>\n",
       "      <td>80</td>\n",
       "      <td>10.0</td>\n",
       "    </tr>\n",
       "    <tr>\n",
       "      <th>1</th>\n",
       "      <td>maharastra</td>\n",
       "      <td>mumbai</td>\n",
       "      <td>70</td>\n",
       "      <td>10.0</td>\n",
       "    </tr>\n",
       "    <tr>\n",
       "      <th>2</th>\n",
       "      <td>rajastan</td>\n",
       "      <td>jaypur</td>\n",
       "      <td>78</td>\n",
       "      <td>10.0</td>\n",
       "    </tr>\n",
       "    <tr>\n",
       "      <th>3</th>\n",
       "      <td>madhaypradesh</td>\n",
       "      <td>bhopal</td>\n",
       "      <td>92</td>\n",
       "      <td>10.0</td>\n",
       "    </tr>\n",
       "    <tr>\n",
       "      <th>4</th>\n",
       "      <td>panjab</td>\n",
       "      <td>chhatishgadh</td>\n",
       "      <td>88</td>\n",
       "      <td>10.0</td>\n",
       "    </tr>\n",
       "  </tbody>\n",
       "</table>\n",
       "</div>"
      ],
      "text/plain": [
       "           state       capital  literacy %  temperature\n",
       "0        gujarat   gandhinagar          80         10.0\n",
       "1     maharastra        mumbai          70         10.0\n",
       "2       rajastan        jaypur          78         10.0\n",
       "3  madhaypradesh        bhopal          92         10.0\n",
       "4         panjab  chhatishgadh          88         10.0"
      ]
     },
     "execution_count": 514,
     "metadata": {},
     "output_type": "execute_result"
    }
   ],
   "source": [
    "B.replace([36,32],10)"
   ]
  },
  {
   "cell_type": "code",
   "execution_count": 515,
   "id": "1345ac00",
   "metadata": {},
   "outputs": [
    {
     "data": {
      "text/html": [
       "<div>\n",
       "<style scoped>\n",
       "    .dataframe tbody tr th:only-of-type {\n",
       "        vertical-align: middle;\n",
       "    }\n",
       "\n",
       "    .dataframe tbody tr th {\n",
       "        vertical-align: top;\n",
       "    }\n",
       "\n",
       "    .dataframe thead th {\n",
       "        text-align: right;\n",
       "    }\n",
       "</style>\n",
       "<table border=\"1\" class=\"dataframe\">\n",
       "  <thead>\n",
       "    <tr style=\"text-align: right;\">\n",
       "      <th></th>\n",
       "      <th>state</th>\n",
       "      <th>capital</th>\n",
       "      <th>literacy %</th>\n",
       "      <th>temperature</th>\n",
       "    </tr>\n",
       "  </thead>\n",
       "  <tbody>\n",
       "    <tr>\n",
       "      <th>0</th>\n",
       "      <td>gujarat</td>\n",
       "      <td>gandhinagar</td>\n",
       "      <td>80</td>\n",
       "      <td>20.0</td>\n",
       "    </tr>\n",
       "    <tr>\n",
       "      <th>1</th>\n",
       "      <td>maharastra</td>\n",
       "      <td>mumbai</td>\n",
       "      <td>70</td>\n",
       "      <td>10.0</td>\n",
       "    </tr>\n",
       "    <tr>\n",
       "      <th>2</th>\n",
       "      <td>rajastan</td>\n",
       "      <td>jaypur</td>\n",
       "      <td>78</td>\n",
       "      <td>10.0</td>\n",
       "    </tr>\n",
       "    <tr>\n",
       "      <th>3</th>\n",
       "      <td>madhaypradesh</td>\n",
       "      <td>bhopal</td>\n",
       "      <td>92</td>\n",
       "      <td>10.0</td>\n",
       "    </tr>\n",
       "    <tr>\n",
       "      <th>4</th>\n",
       "      <td>panjab</td>\n",
       "      <td>chhatishgadh</td>\n",
       "      <td>88</td>\n",
       "      <td>10.0</td>\n",
       "    </tr>\n",
       "  </tbody>\n",
       "</table>\n",
       "</div>"
      ],
      "text/plain": [
       "           state       capital  literacy %  temperature\n",
       "0        gujarat   gandhinagar          80         20.0\n",
       "1     maharastra        mumbai          70         10.0\n",
       "2       rajastan        jaypur          78         10.0\n",
       "3  madhaypradesh        bhopal          92         10.0\n",
       "4         panjab  chhatishgadh          88         10.0"
      ]
     },
     "execution_count": 515,
     "metadata": {},
     "output_type": "execute_result"
    }
   ],
   "source": [
    "B.replace({36:10,32:20})"
   ]
  },
  {
   "cell_type": "code",
   "execution_count": 516,
   "id": "9b92d5f3",
   "metadata": {},
   "outputs": [
    {
     "data": {
      "text/html": [
       "<div>\n",
       "<style scoped>\n",
       "    .dataframe tbody tr th:only-of-type {\n",
       "        vertical-align: middle;\n",
       "    }\n",
       "\n",
       "    .dataframe tbody tr th {\n",
       "        vertical-align: top;\n",
       "    }\n",
       "\n",
       "    .dataframe thead th {\n",
       "        text-align: right;\n",
       "    }\n",
       "</style>\n",
       "<table border=\"1\" class=\"dataframe\">\n",
       "  <thead>\n",
       "    <tr style=\"text-align: right;\">\n",
       "      <th></th>\n",
       "      <th>state</th>\n",
       "      <th>capital</th>\n",
       "      <th>literacy %</th>\n",
       "      <th>temperature</th>\n",
       "    </tr>\n",
       "  </thead>\n",
       "  <tbody>\n",
       "    <tr>\n",
       "      <th>0</th>\n",
       "      <td>gujarat</td>\n",
       "      <td>gandhinagar</td>\n",
       "      <td>80</td>\n",
       "      <td>100.0</td>\n",
       "    </tr>\n",
       "    <tr>\n",
       "      <th>1</th>\n",
       "      <td>maharastra</td>\n",
       "      <td>mumbai</td>\n",
       "      <td>70</td>\n",
       "      <td>100.0</td>\n",
       "    </tr>\n",
       "    <tr>\n",
       "      <th>2</th>\n",
       "      <td>rajastan</td>\n",
       "      <td>jaypur</td>\n",
       "      <td>78</td>\n",
       "      <td>100.0</td>\n",
       "    </tr>\n",
       "    <tr>\n",
       "      <th>3</th>\n",
       "      <td>madhaypradesh</td>\n",
       "      <td>bhopal</td>\n",
       "      <td>92</td>\n",
       "      <td>100.0</td>\n",
       "    </tr>\n",
       "    <tr>\n",
       "      <th>4</th>\n",
       "      <td>panjab</td>\n",
       "      <td>chhatishgadh</td>\n",
       "      <td>88</td>\n",
       "      <td>100.0</td>\n",
       "    </tr>\n",
       "  </tbody>\n",
       "</table>\n",
       "</div>"
      ],
      "text/plain": [
       "           state       capital  literacy %  temperature\n",
       "0        gujarat   gandhinagar          80        100.0\n",
       "1     maharastra        mumbai          70        100.0\n",
       "2       rajastan        jaypur          78        100.0\n",
       "3  madhaypradesh        bhopal          92        100.0\n",
       "4         panjab  chhatishgadh          88        100.0"
      ]
     },
     "execution_count": 516,
     "metadata": {},
     "output_type": "execute_result"
    }
   ],
   "source": [
    "B.replace({ 'temperature': [36,32] },100)"
   ]
  },
  {
   "cell_type": "code",
   "execution_count": 517,
   "id": "e3a49b6a",
   "metadata": {},
   "outputs": [
    {
     "data": {
      "text/html": [
       "<div>\n",
       "<style scoped>\n",
       "    .dataframe tbody tr th:only-of-type {\n",
       "        vertical-align: middle;\n",
       "    }\n",
       "\n",
       "    .dataframe tbody tr th {\n",
       "        vertical-align: top;\n",
       "    }\n",
       "\n",
       "    .dataframe thead th {\n",
       "        text-align: right;\n",
       "    }\n",
       "</style>\n",
       "<table border=\"1\" class=\"dataframe\">\n",
       "  <thead>\n",
       "    <tr style=\"text-align: right;\">\n",
       "      <th></th>\n",
       "      <th>state</th>\n",
       "      <th>capital</th>\n",
       "      <th>literacy %</th>\n",
       "      <th>temperature</th>\n",
       "    </tr>\n",
       "  </thead>\n",
       "  <tbody>\n",
       "    <tr>\n",
       "      <th>0</th>\n",
       "      <td>gujarat</td>\n",
       "      <td>gandhinagar</td>\n",
       "      <td>80</td>\n",
       "      <td>20.0</td>\n",
       "    </tr>\n",
       "    <tr>\n",
       "      <th>1</th>\n",
       "      <td>maharastra</td>\n",
       "      <td>mumbai</td>\n",
       "      <td>70</td>\n",
       "      <td>10.0</td>\n",
       "    </tr>\n",
       "    <tr>\n",
       "      <th>2</th>\n",
       "      <td>rajastan</td>\n",
       "      <td>jaypur</td>\n",
       "      <td>78</td>\n",
       "      <td>10.0</td>\n",
       "    </tr>\n",
       "    <tr>\n",
       "      <th>3</th>\n",
       "      <td>madhaypradesh</td>\n",
       "      <td>bhopal</td>\n",
       "      <td>92</td>\n",
       "      <td>10.0</td>\n",
       "    </tr>\n",
       "    <tr>\n",
       "      <th>4</th>\n",
       "      <td>panjab</td>\n",
       "      <td>chhatishgadh</td>\n",
       "      <td>88</td>\n",
       "      <td>10.0</td>\n",
       "    </tr>\n",
       "  </tbody>\n",
       "</table>\n",
       "</div>"
      ],
      "text/plain": [
       "           state       capital  literacy %  temperature\n",
       "0        gujarat   gandhinagar          80         20.0\n",
       "1     maharastra        mumbai          70         10.0\n",
       "2       rajastan        jaypur          78         10.0\n",
       "3  madhaypradesh        bhopal          92         10.0\n",
       "4         panjab  chhatishgadh          88         10.0"
      ]
     },
     "execution_count": 517,
     "metadata": {},
     "output_type": "execute_result"
    }
   ],
   "source": [
    "B.replace({ 'temperature': {36:10,32:20} })"
   ]
  },
  {
   "cell_type": "markdown",
   "id": "ca480892",
   "metadata": {},
   "source": [
    "# HANDLING DUPLICATE DATA"
   ]
  },
  {
   "cell_type": "code",
   "execution_count": 518,
   "id": "07337f36",
   "metadata": {},
   "outputs": [
    {
     "data": {
      "text/html": [
       "<div>\n",
       "<style scoped>\n",
       "    .dataframe tbody tr th:only-of-type {\n",
       "        vertical-align: middle;\n",
       "    }\n",
       "\n",
       "    .dataframe tbody tr th {\n",
       "        vertical-align: top;\n",
       "    }\n",
       "\n",
       "    .dataframe thead th {\n",
       "        text-align: right;\n",
       "    }\n",
       "</style>\n",
       "<table border=\"1\" class=\"dataframe\">\n",
       "  <thead>\n",
       "    <tr style=\"text-align: right;\">\n",
       "      <th></th>\n",
       "      <th>Name</th>\n",
       "      <th>Age</th>\n",
       "    </tr>\n",
       "  </thead>\n",
       "  <tbody>\n",
       "    <tr>\n",
       "      <th>0</th>\n",
       "      <td>Hitesh</td>\n",
       "      <td>23</td>\n",
       "    </tr>\n",
       "    <tr>\n",
       "      <th>1</th>\n",
       "      <td>Reshma</td>\n",
       "      <td>22</td>\n",
       "    </tr>\n",
       "    <tr>\n",
       "      <th>2</th>\n",
       "      <td>Hitesh</td>\n",
       "      <td>23</td>\n",
       "    </tr>\n",
       "    <tr>\n",
       "      <th>3</th>\n",
       "      <td>Purvi</td>\n",
       "      <td>22</td>\n",
       "    </tr>\n",
       "  </tbody>\n",
       "</table>\n",
       "</div>"
      ],
      "text/plain": [
       "     Name  Age\n",
       "0  Hitesh   23\n",
       "1  Reshma   22\n",
       "2  Hitesh   23\n",
       "3   Purvi   22"
      ]
     },
     "execution_count": 518,
     "metadata": {},
     "output_type": "execute_result"
    }
   ],
   "source": [
    "A = {\n",
    "    'Name' : ['Hitesh','Reshma','Hitesh','Purvi'],\n",
    "    'Age' : [23,22,23,22]\n",
    "}\n",
    "B = pd.DataFrame(A)\n",
    "B"
   ]
  },
  {
   "cell_type": "code",
   "execution_count": 519,
   "id": "02c6b061",
   "metadata": {},
   "outputs": [
    {
     "data": {
      "text/plain": [
       "0    False\n",
       "1    False\n",
       "2     True\n",
       "3    False\n",
       "dtype: bool"
      ]
     },
     "execution_count": 519,
     "metadata": {},
     "output_type": "execute_result"
    }
   ],
   "source": [
    "B.duplicated()"
   ]
  },
  {
   "cell_type": "code",
   "execution_count": 520,
   "id": "e35c4ee3",
   "metadata": {},
   "outputs": [
    {
     "data": {
      "text/plain": [
       "1"
      ]
     },
     "execution_count": 520,
     "metadata": {},
     "output_type": "execute_result"
    }
   ],
   "source": [
    "B.duplicated().sum()"
   ]
  },
  {
   "cell_type": "code",
   "execution_count": 521,
   "id": "c447e5b3",
   "metadata": {},
   "outputs": [
    {
     "data": {
      "text/html": [
       "<div>\n",
       "<style scoped>\n",
       "    .dataframe tbody tr th:only-of-type {\n",
       "        vertical-align: middle;\n",
       "    }\n",
       "\n",
       "    .dataframe tbody tr th {\n",
       "        vertical-align: top;\n",
       "    }\n",
       "\n",
       "    .dataframe thead th {\n",
       "        text-align: right;\n",
       "    }\n",
       "</style>\n",
       "<table border=\"1\" class=\"dataframe\">\n",
       "  <thead>\n",
       "    <tr style=\"text-align: right;\">\n",
       "      <th></th>\n",
       "      <th>Name</th>\n",
       "      <th>Age</th>\n",
       "    </tr>\n",
       "  </thead>\n",
       "  <tbody>\n",
       "    <tr>\n",
       "      <th>0</th>\n",
       "      <td>Hitesh</td>\n",
       "      <td>23</td>\n",
       "    </tr>\n",
       "    <tr>\n",
       "      <th>1</th>\n",
       "      <td>Reshma</td>\n",
       "      <td>22</td>\n",
       "    </tr>\n",
       "    <tr>\n",
       "      <th>3</th>\n",
       "      <td>Purvi</td>\n",
       "      <td>22</td>\n",
       "    </tr>\n",
       "  </tbody>\n",
       "</table>\n",
       "</div>"
      ],
      "text/plain": [
       "     Name  Age\n",
       "0  Hitesh   23\n",
       "1  Reshma   22\n",
       "3   Purvi   22"
      ]
     },
     "execution_count": 521,
     "metadata": {},
     "output_type": "execute_result"
    }
   ],
   "source": [
    "B.drop_duplicates()"
   ]
  },
  {
   "cell_type": "markdown",
   "id": "a37c994d",
   "metadata": {},
   "source": [
    "# UNIQUE VALUES"
   ]
  },
  {
   "cell_type": "code",
   "execution_count": 522,
   "id": "fe2bace1",
   "metadata": {},
   "outputs": [
    {
     "data": {
      "text/html": [
       "<div>\n",
       "<style scoped>\n",
       "    .dataframe tbody tr th:only-of-type {\n",
       "        vertical-align: middle;\n",
       "    }\n",
       "\n",
       "    .dataframe tbody tr th {\n",
       "        vertical-align: top;\n",
       "    }\n",
       "\n",
       "    .dataframe thead th {\n",
       "        text-align: right;\n",
       "    }\n",
       "</style>\n",
       "<table border=\"1\" class=\"dataframe\">\n",
       "  <thead>\n",
       "    <tr style=\"text-align: right;\">\n",
       "      <th></th>\n",
       "      <th>state</th>\n",
       "      <th>capital</th>\n",
       "      <th>literacy %</th>\n",
       "      <th>temperature</th>\n",
       "    </tr>\n",
       "  </thead>\n",
       "  <tbody>\n",
       "    <tr>\n",
       "      <th>0</th>\n",
       "      <td>gujarat</td>\n",
       "      <td>None</td>\n",
       "      <td>80</td>\n",
       "      <td>32.0</td>\n",
       "    </tr>\n",
       "    <tr>\n",
       "      <th>1</th>\n",
       "      <td>None</td>\n",
       "      <td>mumbai</td>\n",
       "      <td>70</td>\n",
       "      <td>36.0</td>\n",
       "    </tr>\n",
       "    <tr>\n",
       "      <th>2</th>\n",
       "      <td>rajastan</td>\n",
       "      <td>jaypur</td>\n",
       "      <td>78</td>\n",
       "      <td>NaN</td>\n",
       "    </tr>\n",
       "    <tr>\n",
       "      <th>3</th>\n",
       "      <td>madhaypradesh</td>\n",
       "      <td>bhopal</td>\n",
       "      <td>92</td>\n",
       "      <td>NaN</td>\n",
       "    </tr>\n",
       "    <tr>\n",
       "      <th>4</th>\n",
       "      <td>panjab</td>\n",
       "      <td>chhatishgadh</td>\n",
       "      <td>88</td>\n",
       "      <td>NaN</td>\n",
       "    </tr>\n",
       "  </tbody>\n",
       "</table>\n",
       "</div>"
      ],
      "text/plain": [
       "           state       capital  literacy %  temperature\n",
       "0        gujarat          None          80         32.0\n",
       "1           None        mumbai          70         36.0\n",
       "2       rajastan        jaypur          78          NaN\n",
       "3  madhaypradesh        bhopal          92          NaN\n",
       "4         panjab  chhatishgadh          88          NaN"
      ]
     },
     "execution_count": 522,
     "metadata": {},
     "output_type": "execute_result"
    }
   ],
   "source": [
    "A = {\n",
    "    \"state\" : [\"gujarat\",\"None\",\"rajastan\",\"madhaypradesh\",\"panjab\"] ,\n",
    "    \"capital\" : [None,\"mumbai\",\"jaypur\",\"bhopal\",\"chhatishgadh\"] ,\n",
    "    \"literacy %\" : [80,70,78,92,88] ,\n",
    "    \"temperature\" : [32,36,None,None,None] ,\n",
    "}\n",
    "B = pd.DataFrame(A)\n",
    "B"
   ]
  },
  {
   "cell_type": "code",
   "execution_count": 523,
   "id": "558947d9",
   "metadata": {},
   "outputs": [
    {
     "data": {
      "text/plain": [
       "0    3\n",
       "1    4\n",
       "2    3\n",
       "3    3\n",
       "4    3\n",
       "dtype: int64"
      ]
     },
     "execution_count": 523,
     "metadata": {},
     "output_type": "execute_result"
    }
   ],
   "source": [
    "B.nunique(axis= 1, dropna = True)"
   ]
  },
  {
   "cell_type": "code",
   "execution_count": 524,
   "id": "97c0eb7a",
   "metadata": {},
   "outputs": [
    {
     "data": {
      "text/plain": [
       "state          5\n",
       "capital        4\n",
       "literacy %     5\n",
       "temperature    2\n",
       "dtype: int64"
      ]
     },
     "execution_count": 524,
     "metadata": {},
     "output_type": "execute_result"
    }
   ],
   "source": [
    "B.nunique(axis= 0, dropna = True)"
   ]
  },
  {
   "cell_type": "code",
   "execution_count": 525,
   "id": "c755ebc3",
   "metadata": {},
   "outputs": [
    {
     "data": {
      "text/plain": [
       "0      NaN\n",
       "1    0.125\n",
       "2    0.000\n",
       "3    0.000\n",
       "4    0.000\n",
       "Name: temperature, dtype: float64"
      ]
     },
     "execution_count": 525,
     "metadata": {},
     "output_type": "execute_result"
    }
   ],
   "source": [
    "B['temperature'].pct_change()"
   ]
  },
  {
   "cell_type": "markdown",
   "id": "5d089525",
   "metadata": {},
   "source": [
    "# VALUE OCCURENCE COUNTING"
   ]
  },
  {
   "cell_type": "code",
   "execution_count": 526,
   "id": "f82c7609",
   "metadata": {},
   "outputs": [
    {
     "data": {
      "text/html": [
       "<div>\n",
       "<style scoped>\n",
       "    .dataframe tbody tr th:only-of-type {\n",
       "        vertical-align: middle;\n",
       "    }\n",
       "\n",
       "    .dataframe tbody tr th {\n",
       "        vertical-align: top;\n",
       "    }\n",
       "\n",
       "    .dataframe thead th {\n",
       "        text-align: right;\n",
       "    }\n",
       "</style>\n",
       "<table border=\"1\" class=\"dataframe\">\n",
       "  <thead>\n",
       "    <tr style=\"text-align: right;\">\n",
       "      <th></th>\n",
       "      <th>Name</th>\n",
       "      <th>Gender</th>\n",
       "      <th>Mark</th>\n",
       "    </tr>\n",
       "  </thead>\n",
       "  <tbody>\n",
       "    <tr>\n",
       "      <th>0</th>\n",
       "      <td>Hitesh</td>\n",
       "      <td>Male</td>\n",
       "      <td>80</td>\n",
       "    </tr>\n",
       "    <tr>\n",
       "      <th>1</th>\n",
       "      <td>Reshma</td>\n",
       "      <td>Female</td>\n",
       "      <td>70</td>\n",
       "    </tr>\n",
       "    <tr>\n",
       "      <th>2</th>\n",
       "      <td>Vraj</td>\n",
       "      <td>Male</td>\n",
       "      <td>78</td>\n",
       "    </tr>\n",
       "    <tr>\n",
       "      <th>3</th>\n",
       "      <td>Vishvjit</td>\n",
       "      <td>Male</td>\n",
       "      <td>92</td>\n",
       "    </tr>\n",
       "    <tr>\n",
       "      <th>4</th>\n",
       "      <td>Purvi</td>\n",
       "      <td>Female</td>\n",
       "      <td>88</td>\n",
       "    </tr>\n",
       "  </tbody>\n",
       "</table>\n",
       "</div>"
      ],
      "text/plain": [
       "       Name  Gender  Mark\n",
       "0    Hitesh    Male    80\n",
       "1    Reshma  Female    70\n",
       "2      Vraj    Male    78\n",
       "3  Vishvjit    Male    92\n",
       "4     Purvi  Female    88"
      ]
     },
     "execution_count": 526,
     "metadata": {},
     "output_type": "execute_result"
    }
   ],
   "source": [
    "A = {\n",
    "    \"Name\" : [\"Hitesh\",\"Reshma\",\"Vraj\",\"Vishvjit\",\"Purvi\"] ,\n",
    "    \"Gender\" : ['Male',\"Female\",\"Male\",\"Male\",\"Female\"] ,\n",
    "    \"Mark\" : [80,70,78,92,88]\n",
    "}\n",
    "B = pd.DataFrame(A)\n",
    "B"
   ]
  },
  {
   "cell_type": "code",
   "execution_count": 527,
   "id": "31e75165",
   "metadata": {},
   "outputs": [
    {
     "data": {
      "text/plain": [
       "Male      3\n",
       "Female    2\n",
       "Name: Gender, dtype: int64"
      ]
     },
     "execution_count": 527,
     "metadata": {},
     "output_type": "execute_result"
    }
   ],
   "source": [
    "B['Gender'].value_counts()"
   ]
  },
  {
   "cell_type": "markdown",
   "id": "e7da0107",
   "metadata": {},
   "source": [
    "# PERFORMING OPERATIONS USING APPLY"
   ]
  },
  {
   "cell_type": "code",
   "execution_count": 528,
   "id": "f5f8efa7",
   "metadata": {},
   "outputs": [
    {
     "data": {
      "text/html": [
       "<div>\n",
       "<style scoped>\n",
       "    .dataframe tbody tr th:only-of-type {\n",
       "        vertical-align: middle;\n",
       "    }\n",
       "\n",
       "    .dataframe tbody tr th {\n",
       "        vertical-align: top;\n",
       "    }\n",
       "\n",
       "    .dataframe thead th {\n",
       "        text-align: right;\n",
       "    }\n",
       "</style>\n",
       "<table border=\"1\" class=\"dataframe\">\n",
       "  <thead>\n",
       "    <tr style=\"text-align: right;\">\n",
       "      <th></th>\n",
       "      <th>state</th>\n",
       "      <th>capital</th>\n",
       "      <th>literacy %</th>\n",
       "      <th>temperature</th>\n",
       "    </tr>\n",
       "  </thead>\n",
       "  <tbody>\n",
       "    <tr>\n",
       "      <th>0</th>\n",
       "      <td>gujarat</td>\n",
       "      <td>None</td>\n",
       "      <td>80</td>\n",
       "      <td>32</td>\n",
       "    </tr>\n",
       "    <tr>\n",
       "      <th>1</th>\n",
       "      <td>maharastra</td>\n",
       "      <td>mumbai</td>\n",
       "      <td>70</td>\n",
       "      <td>36</td>\n",
       "    </tr>\n",
       "    <tr>\n",
       "      <th>2</th>\n",
       "      <td>rajastan</td>\n",
       "      <td>jaypur</td>\n",
       "      <td>78</td>\n",
       "      <td>37</td>\n",
       "    </tr>\n",
       "    <tr>\n",
       "      <th>3</th>\n",
       "      <td>madhaypradesh</td>\n",
       "      <td>bhopal</td>\n",
       "      <td>92</td>\n",
       "      <td>31</td>\n",
       "    </tr>\n",
       "    <tr>\n",
       "      <th>4</th>\n",
       "      <td>panjab</td>\n",
       "      <td>chhatishgadh</td>\n",
       "      <td>88</td>\n",
       "      <td>28</td>\n",
       "    </tr>\n",
       "  </tbody>\n",
       "</table>\n",
       "</div>"
      ],
      "text/plain": [
       "           state       capital  literacy %  temperature\n",
       "0        gujarat          None          80           32\n",
       "1     maharastra        mumbai          70           36\n",
       "2       rajastan        jaypur          78           37\n",
       "3  madhaypradesh        bhopal          92           31\n",
       "4         panjab  chhatishgadh          88           28"
      ]
     },
     "execution_count": 528,
     "metadata": {},
     "output_type": "execute_result"
    }
   ],
   "source": [
    "A = {\n",
    "    \"state\" : [\"gujarat\",\"maharastra\",\"rajastan\",\"madhaypradesh\",\"panjab\"] ,\n",
    "    \"capital\" : [None,\"mumbai\",\"jaypur\",\"bhopal\",\"chhatishgadh\"] ,\n",
    "    \"literacy %\" : [80,70,78,92,88] ,\n",
    "    \"temperature\" : [32,36,37,31,28] ,\n",
    "}\n",
    "B = pd.DataFrame(A)\n",
    "B"
   ]
  },
  {
   "cell_type": "code",
   "execution_count": 529,
   "id": "6b328980",
   "metadata": {},
   "outputs": [
    {
     "data": {
      "text/html": [
       "<div>\n",
       "<style scoped>\n",
       "    .dataframe tbody tr th:only-of-type {\n",
       "        vertical-align: middle;\n",
       "    }\n",
       "\n",
       "    .dataframe tbody tr th {\n",
       "        vertical-align: top;\n",
       "    }\n",
       "\n",
       "    .dataframe thead th {\n",
       "        text-align: right;\n",
       "    }\n",
       "</style>\n",
       "<table border=\"1\" class=\"dataframe\">\n",
       "  <thead>\n",
       "    <tr style=\"text-align: right;\">\n",
       "      <th></th>\n",
       "      <th>literacy %</th>\n",
       "      <th>temperature</th>\n",
       "    </tr>\n",
       "  </thead>\n",
       "  <tbody>\n",
       "    <tr>\n",
       "      <th>0</th>\n",
       "      <td>960</td>\n",
       "      <td>384</td>\n",
       "    </tr>\n",
       "    <tr>\n",
       "      <th>1</th>\n",
       "      <td>840</td>\n",
       "      <td>432</td>\n",
       "    </tr>\n",
       "    <tr>\n",
       "      <th>2</th>\n",
       "      <td>936</td>\n",
       "      <td>444</td>\n",
       "    </tr>\n",
       "    <tr>\n",
       "      <th>3</th>\n",
       "      <td>1104</td>\n",
       "      <td>372</td>\n",
       "    </tr>\n",
       "    <tr>\n",
       "      <th>4</th>\n",
       "      <td>1056</td>\n",
       "      <td>336</td>\n",
       "    </tr>\n",
       "  </tbody>\n",
       "</table>\n",
       "</div>"
      ],
      "text/plain": [
       "   literacy %  temperature\n",
       "0         960          384\n",
       "1         840          432\n",
       "2         936          444\n",
       "3        1104          372\n",
       "4        1056          336"
      ]
     },
     "execution_count": 529,
     "metadata": {},
     "output_type": "execute_result"
    }
   ],
   "source": [
    "B[['literacy %','temperature']].apply(lambda X: X*12)"
   ]
  },
  {
   "cell_type": "code",
   "execution_count": 530,
   "id": "ec56bfe6",
   "metadata": {},
   "outputs": [
    {
     "data": {
      "text/plain": [
       "0          GUJARAT\n",
       "1       MAHARASTRA\n",
       "2         RAJASTAN\n",
       "3    MADHAYPRADESH\n",
       "4           PANJAB\n",
       "Name: state, dtype: object"
      ]
     },
     "execution_count": 530,
     "metadata": {},
     "output_type": "execute_result"
    }
   ],
   "source": [
    "B['state'].apply(lambda X : X.upper())"
   ]
  },
  {
   "cell_type": "code",
   "execution_count": 531,
   "id": "9daa5137",
   "metadata": {},
   "outputs": [
    {
     "data": {
      "text/plain": [
       "0          Gujarat\n",
       "1       Maharastra\n",
       "2         Rajastan\n",
       "3    Madhaypradesh\n",
       "4           Panjab\n",
       "Name: state, dtype: object"
      ]
     },
     "execution_count": 531,
     "metadata": {},
     "output_type": "execute_result"
    }
   ],
   "source": [
    "B['state'].apply(lambda X : X.title())"
   ]
  },
  {
   "cell_type": "markdown",
   "id": "473659d5",
   "metadata": {},
   "source": [
    "# FILTERING DATA"
   ]
  },
  {
   "cell_type": "code",
   "execution_count": 532,
   "id": "2c71f384",
   "metadata": {},
   "outputs": [
    {
     "data": {
      "text/html": [
       "<div>\n",
       "<style scoped>\n",
       "    .dataframe tbody tr th:only-of-type {\n",
       "        vertical-align: middle;\n",
       "    }\n",
       "\n",
       "    .dataframe tbody tr th {\n",
       "        vertical-align: top;\n",
       "    }\n",
       "\n",
       "    .dataframe thead th {\n",
       "        text-align: right;\n",
       "    }\n",
       "</style>\n",
       "<table border=\"1\" class=\"dataframe\">\n",
       "  <thead>\n",
       "    <tr style=\"text-align: right;\">\n",
       "      <th></th>\n",
       "      <th>one</th>\n",
       "      <th>two</th>\n",
       "      <th>three</th>\n",
       "    </tr>\n",
       "  </thead>\n",
       "  <tbody>\n",
       "    <tr>\n",
       "      <th>mouse</th>\n",
       "      <td>1</td>\n",
       "      <td>2</td>\n",
       "      <td>3</td>\n",
       "    </tr>\n",
       "    <tr>\n",
       "      <th>rabbit</th>\n",
       "      <td>4</td>\n",
       "      <td>5</td>\n",
       "      <td>6</td>\n",
       "    </tr>\n",
       "  </tbody>\n",
       "</table>\n",
       "</div>"
      ],
      "text/plain": [
       "        one  two  three\n",
       "mouse     1    2      3\n",
       "rabbit    4    5      6"
      ]
     },
     "execution_count": 532,
     "metadata": {},
     "output_type": "execute_result"
    }
   ],
   "source": [
    "df = pd.DataFrame(np.array(([1, 2, 3], [4, 5, 6])),index=['mouse', 'rabbit'],columns=['one', 'two', 'three'])\n",
    "df"
   ]
  },
  {
   "cell_type": "code",
   "execution_count": 533,
   "id": "a0a746b6",
   "metadata": {},
   "outputs": [
    {
     "data": {
      "text/html": [
       "<div>\n",
       "<style scoped>\n",
       "    .dataframe tbody tr th:only-of-type {\n",
       "        vertical-align: middle;\n",
       "    }\n",
       "\n",
       "    .dataframe tbody tr th {\n",
       "        vertical-align: top;\n",
       "    }\n",
       "\n",
       "    .dataframe thead th {\n",
       "        text-align: right;\n",
       "    }\n",
       "</style>\n",
       "<table border=\"1\" class=\"dataframe\">\n",
       "  <thead>\n",
       "    <tr style=\"text-align: right;\">\n",
       "      <th></th>\n",
       "      <th>one</th>\n",
       "      <th>three</th>\n",
       "    </tr>\n",
       "  </thead>\n",
       "  <tbody>\n",
       "    <tr>\n",
       "      <th>mouse</th>\n",
       "      <td>1</td>\n",
       "      <td>3</td>\n",
       "    </tr>\n",
       "    <tr>\n",
       "      <th>rabbit</th>\n",
       "      <td>4</td>\n",
       "      <td>6</td>\n",
       "    </tr>\n",
       "  </tbody>\n",
       "</table>\n",
       "</div>"
      ],
      "text/plain": [
       "        one  three\n",
       "mouse     1      3\n",
       "rabbit    4      6"
      ]
     },
     "execution_count": 533,
     "metadata": {},
     "output_type": "execute_result"
    }
   ],
   "source": [
    "# select columns by name\n",
    "df.filter(items=['one', 'three'])"
   ]
  },
  {
   "cell_type": "code",
   "execution_count": 534,
   "id": "b7ae1c32",
   "metadata": {},
   "outputs": [
    {
     "data": {
      "text/html": [
       "<div>\n",
       "<style scoped>\n",
       "    .dataframe tbody tr th:only-of-type {\n",
       "        vertical-align: middle;\n",
       "    }\n",
       "\n",
       "    .dataframe tbody tr th {\n",
       "        vertical-align: top;\n",
       "    }\n",
       "\n",
       "    .dataframe thead th {\n",
       "        text-align: right;\n",
       "    }\n",
       "</style>\n",
       "<table border=\"1\" class=\"dataframe\">\n",
       "  <thead>\n",
       "    <tr style=\"text-align: right;\">\n",
       "      <th></th>\n",
       "      <th>one</th>\n",
       "      <th>three</th>\n",
       "    </tr>\n",
       "  </thead>\n",
       "  <tbody>\n",
       "    <tr>\n",
       "      <th>mouse</th>\n",
       "      <td>1</td>\n",
       "      <td>3</td>\n",
       "    </tr>\n",
       "    <tr>\n",
       "      <th>rabbit</th>\n",
       "      <td>4</td>\n",
       "      <td>6</td>\n",
       "    </tr>\n",
       "  </tbody>\n",
       "</table>\n",
       "</div>"
      ],
      "text/plain": [
       "        one  three\n",
       "mouse     1      3\n",
       "rabbit    4      6"
      ]
     },
     "execution_count": 534,
     "metadata": {},
     "output_type": "execute_result"
    }
   ],
   "source": [
    "# select columns by regular expression\n",
    "df.filter(regex='e$', axis=1)"
   ]
  },
  {
   "cell_type": "code",
   "execution_count": 535,
   "id": "50ab2add",
   "metadata": {},
   "outputs": [
    {
     "data": {
      "text/html": [
       "<div>\n",
       "<style scoped>\n",
       "    .dataframe tbody tr th:only-of-type {\n",
       "        vertical-align: middle;\n",
       "    }\n",
       "\n",
       "    .dataframe tbody tr th {\n",
       "        vertical-align: top;\n",
       "    }\n",
       "\n",
       "    .dataframe thead th {\n",
       "        text-align: right;\n",
       "    }\n",
       "</style>\n",
       "<table border=\"1\" class=\"dataframe\">\n",
       "  <thead>\n",
       "    <tr style=\"text-align: right;\">\n",
       "      <th></th>\n",
       "      <th>one</th>\n",
       "      <th>two</th>\n",
       "      <th>three</th>\n",
       "    </tr>\n",
       "  </thead>\n",
       "  <tbody>\n",
       "    <tr>\n",
       "      <th>rabbit</th>\n",
       "      <td>4</td>\n",
       "      <td>5</td>\n",
       "      <td>6</td>\n",
       "    </tr>\n",
       "  </tbody>\n",
       "</table>\n",
       "</div>"
      ],
      "text/plain": [
       "        one  two  three\n",
       "rabbit    4    5      6"
      ]
     },
     "execution_count": 535,
     "metadata": {},
     "output_type": "execute_result"
    }
   ],
   "source": [
    "# select rows containing 'bbi'\n",
    "df.filter(like='bbi', axis=0)"
   ]
  },
  {
   "cell_type": "code",
   "execution_count": 536,
   "id": "df493261",
   "metadata": {},
   "outputs": [
    {
     "data": {
      "text/html": [
       "<div>\n",
       "<style scoped>\n",
       "    .dataframe tbody tr th:only-of-type {\n",
       "        vertical-align: middle;\n",
       "    }\n",
       "\n",
       "    .dataframe tbody tr th {\n",
       "        vertical-align: top;\n",
       "    }\n",
       "\n",
       "    .dataframe thead th {\n",
       "        text-align: right;\n",
       "    }\n",
       "</style>\n",
       "<table border=\"1\" class=\"dataframe\">\n",
       "  <thead>\n",
       "    <tr style=\"text-align: right;\">\n",
       "      <th></th>\n",
       "      <th>state</th>\n",
       "      <th>temperature</th>\n",
       "    </tr>\n",
       "  </thead>\n",
       "  <tbody>\n",
       "    <tr>\n",
       "      <th>0</th>\n",
       "      <td>gujarat</td>\n",
       "      <td>32</td>\n",
       "    </tr>\n",
       "    <tr>\n",
       "      <th>1</th>\n",
       "      <td>maharastra</td>\n",
       "      <td>36</td>\n",
       "    </tr>\n",
       "    <tr>\n",
       "      <th>2</th>\n",
       "      <td>rajastan</td>\n",
       "      <td>37</td>\n",
       "    </tr>\n",
       "    <tr>\n",
       "      <th>3</th>\n",
       "      <td>madhaypradesh</td>\n",
       "      <td>31</td>\n",
       "    </tr>\n",
       "    <tr>\n",
       "      <th>4</th>\n",
       "      <td>panjab</td>\n",
       "      <td>28</td>\n",
       "    </tr>\n",
       "  </tbody>\n",
       "</table>\n",
       "</div>"
      ],
      "text/plain": [
       "           state  temperature\n",
       "0        gujarat           32\n",
       "1     maharastra           36\n",
       "2       rajastan           37\n",
       "3  madhaypradesh           31\n",
       "4         panjab           28"
      ]
     },
     "execution_count": 536,
     "metadata": {},
     "output_type": "execute_result"
    }
   ],
   "source": [
    "B.filter(items=['state','temperature'])"
   ]
  },
  {
   "cell_type": "code",
   "execution_count": 537,
   "id": "212fb208",
   "metadata": {},
   "outputs": [
    {
     "data": {
      "text/html": [
       "<div>\n",
       "<style scoped>\n",
       "    .dataframe tbody tr th:only-of-type {\n",
       "        vertical-align: middle;\n",
       "    }\n",
       "\n",
       "    .dataframe tbody tr th {\n",
       "        vertical-align: top;\n",
       "    }\n",
       "\n",
       "    .dataframe thead th {\n",
       "        text-align: right;\n",
       "    }\n",
       "</style>\n",
       "<table border=\"1\" class=\"dataframe\">\n",
       "  <thead>\n",
       "    <tr style=\"text-align: right;\">\n",
       "      <th></th>\n",
       "      <th>state</th>\n",
       "      <th>temperature</th>\n",
       "    </tr>\n",
       "  </thead>\n",
       "  <tbody>\n",
       "    <tr>\n",
       "      <th>0</th>\n",
       "      <td>gujarat</td>\n",
       "      <td>32</td>\n",
       "    </tr>\n",
       "    <tr>\n",
       "      <th>1</th>\n",
       "      <td>maharastra</td>\n",
       "      <td>36</td>\n",
       "    </tr>\n",
       "    <tr>\n",
       "      <th>2</th>\n",
       "      <td>rajastan</td>\n",
       "      <td>37</td>\n",
       "    </tr>\n",
       "    <tr>\n",
       "      <th>3</th>\n",
       "      <td>madhaypradesh</td>\n",
       "      <td>31</td>\n",
       "    </tr>\n",
       "    <tr>\n",
       "      <th>4</th>\n",
       "      <td>panjab</td>\n",
       "      <td>28</td>\n",
       "    </tr>\n",
       "  </tbody>\n",
       "</table>\n",
       "</div>"
      ],
      "text/plain": [
       "           state  temperature\n",
       "0        gujarat           32\n",
       "1     maharastra           36\n",
       "2       rajastan           37\n",
       "3  madhaypradesh           31\n",
       "4         panjab           28"
      ]
     },
     "execution_count": 537,
     "metadata": {},
     "output_type": "execute_result"
    }
   ],
   "source": [
    "B.filter(regex='e$')"
   ]
  },
  {
   "cell_type": "code",
   "execution_count": 538,
   "id": "2b7852f3",
   "metadata": {},
   "outputs": [
    {
     "data": {
      "text/html": [
       "<div>\n",
       "<style scoped>\n",
       "    .dataframe tbody tr th:only-of-type {\n",
       "        vertical-align: middle;\n",
       "    }\n",
       "\n",
       "    .dataframe tbody tr th {\n",
       "        vertical-align: top;\n",
       "    }\n",
       "\n",
       "    .dataframe thead th {\n",
       "        text-align: right;\n",
       "    }\n",
       "</style>\n",
       "<table border=\"1\" class=\"dataframe\">\n",
       "  <thead>\n",
       "    <tr style=\"text-align: right;\">\n",
       "      <th></th>\n",
       "      <th>literacy %</th>\n",
       "    </tr>\n",
       "  </thead>\n",
       "  <tbody>\n",
       "    <tr>\n",
       "      <th>0</th>\n",
       "      <td>80</td>\n",
       "    </tr>\n",
       "    <tr>\n",
       "      <th>1</th>\n",
       "      <td>70</td>\n",
       "    </tr>\n",
       "    <tr>\n",
       "      <th>2</th>\n",
       "      <td>78</td>\n",
       "    </tr>\n",
       "    <tr>\n",
       "      <th>3</th>\n",
       "      <td>92</td>\n",
       "    </tr>\n",
       "    <tr>\n",
       "      <th>4</th>\n",
       "      <td>88</td>\n",
       "    </tr>\n",
       "  </tbody>\n",
       "</table>\n",
       "</div>"
      ],
      "text/plain": [
       "   literacy %\n",
       "0          80\n",
       "1          70\n",
       "2          78\n",
       "3          92\n",
       "4          88"
      ]
     },
     "execution_count": 538,
     "metadata": {},
     "output_type": "execute_result"
    }
   ],
   "source": [
    "B.filter(regex='%$')"
   ]
  },
  {
   "cell_type": "code",
   "execution_count": 539,
   "id": "9ec60ec2",
   "metadata": {},
   "outputs": [
    {
     "data": {
      "text/html": [
       "<div>\n",
       "<style scoped>\n",
       "    .dataframe tbody tr th:only-of-type {\n",
       "        vertical-align: middle;\n",
       "    }\n",
       "\n",
       "    .dataframe tbody tr th {\n",
       "        vertical-align: top;\n",
       "    }\n",
       "\n",
       "    .dataframe thead th {\n",
       "        text-align: right;\n",
       "    }\n",
       "</style>\n",
       "<table border=\"1\" class=\"dataframe\">\n",
       "  <thead>\n",
       "    <tr style=\"text-align: right;\">\n",
       "      <th></th>\n",
       "      <th>state</th>\n",
       "    </tr>\n",
       "  </thead>\n",
       "  <tbody>\n",
       "    <tr>\n",
       "      <th>0</th>\n",
       "      <td>gujarat</td>\n",
       "    </tr>\n",
       "    <tr>\n",
       "      <th>1</th>\n",
       "      <td>maharastra</td>\n",
       "    </tr>\n",
       "    <tr>\n",
       "      <th>2</th>\n",
       "      <td>rajastan</td>\n",
       "    </tr>\n",
       "    <tr>\n",
       "      <th>3</th>\n",
       "      <td>madhaypradesh</td>\n",
       "    </tr>\n",
       "    <tr>\n",
       "      <th>4</th>\n",
       "      <td>panjab</td>\n",
       "    </tr>\n",
       "  </tbody>\n",
       "</table>\n",
       "</div>"
      ],
      "text/plain": [
       "           state\n",
       "0        gujarat\n",
       "1     maharastra\n",
       "2       rajastan\n",
       "3  madhaypradesh\n",
       "4         panjab"
      ]
     },
     "execution_count": 539,
     "metadata": {},
     "output_type": "execute_result"
    }
   ],
   "source": [
    "B.filter(like='ate') # default axis = 1"
   ]
  },
  {
   "cell_type": "markdown",
   "id": "c7dfc502",
   "metadata": {},
   "source": [
    "# USING GROUPBY"
   ]
  },
  {
   "cell_type": "code",
   "execution_count": 540,
   "id": "bfc76299",
   "metadata": {},
   "outputs": [
    {
     "data": {
      "text/html": [
       "<div>\n",
       "<style scoped>\n",
       "    .dataframe tbody tr th:only-of-type {\n",
       "        vertical-align: middle;\n",
       "    }\n",
       "\n",
       "    .dataframe tbody tr th {\n",
       "        vertical-align: top;\n",
       "    }\n",
       "\n",
       "    .dataframe thead th {\n",
       "        text-align: right;\n",
       "    }\n",
       "</style>\n",
       "<table border=\"1\" class=\"dataframe\">\n",
       "  <thead>\n",
       "    <tr style=\"text-align: right;\">\n",
       "      <th></th>\n",
       "      <th>Animal</th>\n",
       "      <th>Max Speed</th>\n",
       "    </tr>\n",
       "  </thead>\n",
       "  <tbody>\n",
       "    <tr>\n",
       "      <th>0</th>\n",
       "      <td>Falcon</td>\n",
       "      <td>380.0</td>\n",
       "    </tr>\n",
       "    <tr>\n",
       "      <th>1</th>\n",
       "      <td>Falcon</td>\n",
       "      <td>370.0</td>\n",
       "    </tr>\n",
       "    <tr>\n",
       "      <th>2</th>\n",
       "      <td>Parrot</td>\n",
       "      <td>24.0</td>\n",
       "    </tr>\n",
       "    <tr>\n",
       "      <th>3</th>\n",
       "      <td>Parrot</td>\n",
       "      <td>26.0</td>\n",
       "    </tr>\n",
       "  </tbody>\n",
       "</table>\n",
       "</div>"
      ],
      "text/plain": [
       "   Animal  Max Speed\n",
       "0  Falcon      380.0\n",
       "1  Falcon      370.0\n",
       "2  Parrot       24.0\n",
       "3  Parrot       26.0"
      ]
     },
     "execution_count": 540,
     "metadata": {},
     "output_type": "execute_result"
    }
   ],
   "source": [
    "df = pd.DataFrame({'Animal': ['Falcon', 'Falcon','Parrot', 'Parrot'],'Max Speed': [380., 370., 24., 26.]})\n",
    "df"
   ]
  },
  {
   "cell_type": "code",
   "execution_count": 541,
   "id": "cb1aa4d4",
   "metadata": {},
   "outputs": [
    {
     "data": {
      "text/html": [
       "<div>\n",
       "<style scoped>\n",
       "    .dataframe tbody tr th:only-of-type {\n",
       "        vertical-align: middle;\n",
       "    }\n",
       "\n",
       "    .dataframe tbody tr th {\n",
       "        vertical-align: top;\n",
       "    }\n",
       "\n",
       "    .dataframe thead th {\n",
       "        text-align: right;\n",
       "    }\n",
       "</style>\n",
       "<table border=\"1\" class=\"dataframe\">\n",
       "  <thead>\n",
       "    <tr style=\"text-align: right;\">\n",
       "      <th></th>\n",
       "      <th>Max Speed</th>\n",
       "    </tr>\n",
       "    <tr>\n",
       "      <th>Animal</th>\n",
       "      <th></th>\n",
       "    </tr>\n",
       "  </thead>\n",
       "  <tbody>\n",
       "    <tr>\n",
       "      <th>Falcon</th>\n",
       "      <td>375.0</td>\n",
       "    </tr>\n",
       "    <tr>\n",
       "      <th>Parrot</th>\n",
       "      <td>25.0</td>\n",
       "    </tr>\n",
       "  </tbody>\n",
       "</table>\n",
       "</div>"
      ],
      "text/plain": [
       "        Max Speed\n",
       "Animal           \n",
       "Falcon      375.0\n",
       "Parrot       25.0"
      ]
     },
     "execution_count": 541,
     "metadata": {},
     "output_type": "execute_result"
    }
   ],
   "source": [
    "df.groupby(['Animal']).mean()"
   ]
  },
  {
   "cell_type": "code",
   "execution_count": 542,
   "id": "3dad2314",
   "metadata": {},
   "outputs": [
    {
     "data": {
      "text/html": [
       "<div>\n",
       "<style scoped>\n",
       "    .dataframe tbody tr th:only-of-type {\n",
       "        vertical-align: middle;\n",
       "    }\n",
       "\n",
       "    .dataframe tbody tr th {\n",
       "        vertical-align: top;\n",
       "    }\n",
       "\n",
       "    .dataframe thead th {\n",
       "        text-align: right;\n",
       "    }\n",
       "</style>\n",
       "<table border=\"1\" class=\"dataframe\">\n",
       "  <thead>\n",
       "    <tr style=\"text-align: right;\">\n",
       "      <th></th>\n",
       "      <th>Max Speed</th>\n",
       "    </tr>\n",
       "    <tr>\n",
       "      <th>Animal</th>\n",
       "      <th></th>\n",
       "    </tr>\n",
       "  </thead>\n",
       "  <tbody>\n",
       "    <tr>\n",
       "      <th>Falcon</th>\n",
       "      <td>750.0</td>\n",
       "    </tr>\n",
       "    <tr>\n",
       "      <th>Parrot</th>\n",
       "      <td>50.0</td>\n",
       "    </tr>\n",
       "  </tbody>\n",
       "</table>\n",
       "</div>"
      ],
      "text/plain": [
       "        Max Speed\n",
       "Animal           \n",
       "Falcon      750.0\n",
       "Parrot       50.0"
      ]
     },
     "execution_count": 542,
     "metadata": {},
     "output_type": "execute_result"
    }
   ],
   "source": [
    "df.groupby(['Animal']).sum()"
   ]
  },
  {
   "cell_type": "code",
   "execution_count": 543,
   "id": "7f99a84f",
   "metadata": {},
   "outputs": [
    {
     "data": {
      "text/html": [
       "<div>\n",
       "<style scoped>\n",
       "    .dataframe tbody tr th:only-of-type {\n",
       "        vertical-align: middle;\n",
       "    }\n",
       "\n",
       "    .dataframe tbody tr th {\n",
       "        vertical-align: top;\n",
       "    }\n",
       "\n",
       "    .dataframe thead th {\n",
       "        text-align: right;\n",
       "    }\n",
       "</style>\n",
       "<table border=\"1\" class=\"dataframe\">\n",
       "  <thead>\n",
       "    <tr style=\"text-align: right;\">\n",
       "      <th></th>\n",
       "      <th></th>\n",
       "      <th>Max Speed</th>\n",
       "    </tr>\n",
       "    <tr>\n",
       "      <th>Animal</th>\n",
       "      <th>Type</th>\n",
       "      <th></th>\n",
       "    </tr>\n",
       "  </thead>\n",
       "  <tbody>\n",
       "    <tr>\n",
       "      <th rowspan=\"2\" valign=\"top\">Falcon</th>\n",
       "      <th>Captive</th>\n",
       "      <td>390.0</td>\n",
       "    </tr>\n",
       "    <tr>\n",
       "      <th>Wild</th>\n",
       "      <td>350.0</td>\n",
       "    </tr>\n",
       "    <tr>\n",
       "      <th rowspan=\"2\" valign=\"top\">Parrot</th>\n",
       "      <th>Captive</th>\n",
       "      <td>30.0</td>\n",
       "    </tr>\n",
       "    <tr>\n",
       "      <th>Wild</th>\n",
       "      <td>20.0</td>\n",
       "    </tr>\n",
       "  </tbody>\n",
       "</table>\n",
       "</div>"
      ],
      "text/plain": [
       "                Max Speed\n",
       "Animal Type              \n",
       "Falcon Captive      390.0\n",
       "       Wild         350.0\n",
       "Parrot Captive       30.0\n",
       "       Wild          20.0"
      ]
     },
     "execution_count": 543,
     "metadata": {},
     "output_type": "execute_result"
    }
   ],
   "source": [
    "arrays = [['Falcon', 'Falcon', 'Parrot', 'Parrot'],['Captive', 'Wild', 'Captive', 'Wild']]\n",
    "index = pd.MultiIndex.from_arrays(arrays, names=('Animal', 'Type'))\n",
    "df = pd.DataFrame({'Max Speed': [390., 350., 30., 20.]},index=index)\n",
    "df"
   ]
  },
  {
   "cell_type": "code",
   "execution_count": 544,
   "id": "3bf9c27e",
   "metadata": {},
   "outputs": [
    {
     "data": {
      "text/html": [
       "<div>\n",
       "<style scoped>\n",
       "    .dataframe tbody tr th:only-of-type {\n",
       "        vertical-align: middle;\n",
       "    }\n",
       "\n",
       "    .dataframe tbody tr th {\n",
       "        vertical-align: top;\n",
       "    }\n",
       "\n",
       "    .dataframe thead th {\n",
       "        text-align: right;\n",
       "    }\n",
       "</style>\n",
       "<table border=\"1\" class=\"dataframe\">\n",
       "  <thead>\n",
       "    <tr style=\"text-align: right;\">\n",
       "      <th></th>\n",
       "      <th>Max Speed</th>\n",
       "    </tr>\n",
       "    <tr>\n",
       "      <th>Animal</th>\n",
       "      <th></th>\n",
       "    </tr>\n",
       "  </thead>\n",
       "  <tbody>\n",
       "    <tr>\n",
       "      <th>Falcon</th>\n",
       "      <td>370.0</td>\n",
       "    </tr>\n",
       "    <tr>\n",
       "      <th>Parrot</th>\n",
       "      <td>25.0</td>\n",
       "    </tr>\n",
       "  </tbody>\n",
       "</table>\n",
       "</div>"
      ],
      "text/plain": [
       "        Max Speed\n",
       "Animal           \n",
       "Falcon      370.0\n",
       "Parrot       25.0"
      ]
     },
     "execution_count": 544,
     "metadata": {},
     "output_type": "execute_result"
    }
   ],
   "source": [
    "df.groupby(level=0).mean()"
   ]
  },
  {
   "cell_type": "code",
   "execution_count": 545,
   "id": "7d8128f0",
   "metadata": {},
   "outputs": [
    {
     "data": {
      "text/html": [
       "<div>\n",
       "<style scoped>\n",
       "    .dataframe tbody tr th:only-of-type {\n",
       "        vertical-align: middle;\n",
       "    }\n",
       "\n",
       "    .dataframe tbody tr th {\n",
       "        vertical-align: top;\n",
       "    }\n",
       "\n",
       "    .dataframe thead th {\n",
       "        text-align: right;\n",
       "    }\n",
       "</style>\n",
       "<table border=\"1\" class=\"dataframe\">\n",
       "  <thead>\n",
       "    <tr style=\"text-align: right;\">\n",
       "      <th></th>\n",
       "      <th>Max Speed</th>\n",
       "    </tr>\n",
       "    <tr>\n",
       "      <th>Type</th>\n",
       "      <th></th>\n",
       "    </tr>\n",
       "  </thead>\n",
       "  <tbody>\n",
       "    <tr>\n",
       "      <th>Captive</th>\n",
       "      <td>210.0</td>\n",
       "    </tr>\n",
       "    <tr>\n",
       "      <th>Wild</th>\n",
       "      <td>185.0</td>\n",
       "    </tr>\n",
       "  </tbody>\n",
       "</table>\n",
       "</div>"
      ],
      "text/plain": [
       "         Max Speed\n",
       "Type              \n",
       "Captive      210.0\n",
       "Wild         185.0"
      ]
     },
     "execution_count": 545,
     "metadata": {},
     "output_type": "execute_result"
    }
   ],
   "source": [
    "df.groupby(level=1).mean()"
   ]
  },
  {
   "cell_type": "code",
   "execution_count": 546,
   "id": "cf6872ba",
   "metadata": {},
   "outputs": [
    {
     "data": {
      "text/html": [
       "<div>\n",
       "<style scoped>\n",
       "    .dataframe tbody tr th:only-of-type {\n",
       "        vertical-align: middle;\n",
       "    }\n",
       "\n",
       "    .dataframe tbody tr th {\n",
       "        vertical-align: top;\n",
       "    }\n",
       "\n",
       "    .dataframe thead th {\n",
       "        text-align: right;\n",
       "    }\n",
       "</style>\n",
       "<table border=\"1\" class=\"dataframe\">\n",
       "  <thead>\n",
       "    <tr style=\"text-align: right;\">\n",
       "      <th></th>\n",
       "      <th>a</th>\n",
       "      <th>b</th>\n",
       "      <th>c</th>\n",
       "    </tr>\n",
       "  </thead>\n",
       "  <tbody>\n",
       "    <tr>\n",
       "      <th>0</th>\n",
       "      <td>1</td>\n",
       "      <td>2.0</td>\n",
       "      <td>3</td>\n",
       "    </tr>\n",
       "    <tr>\n",
       "      <th>1</th>\n",
       "      <td>1</td>\n",
       "      <td>NaN</td>\n",
       "      <td>4</td>\n",
       "    </tr>\n",
       "    <tr>\n",
       "      <th>2</th>\n",
       "      <td>2</td>\n",
       "      <td>1.0</td>\n",
       "      <td>3</td>\n",
       "    </tr>\n",
       "    <tr>\n",
       "      <th>3</th>\n",
       "      <td>1</td>\n",
       "      <td>2.0</td>\n",
       "      <td>2</td>\n",
       "    </tr>\n",
       "  </tbody>\n",
       "</table>\n",
       "</div>"
      ],
      "text/plain": [
       "   a    b  c\n",
       "0  1  2.0  3\n",
       "1  1  NaN  4\n",
       "2  2  1.0  3\n",
       "3  1  2.0  2"
      ]
     },
     "execution_count": 546,
     "metadata": {},
     "output_type": "execute_result"
    }
   ],
   "source": [
    "l = [[1, 2, 3], [1, None, 4], [2, 1, 3], [1, 2, 2]]\n",
    "df = pd.DataFrame(l, columns=[\"a\", \"b\", \"c\"])\n",
    "df"
   ]
  },
  {
   "cell_type": "code",
   "execution_count": 547,
   "id": "f8c4eb75",
   "metadata": {},
   "outputs": [
    {
     "data": {
      "text/html": [
       "<div>\n",
       "<style scoped>\n",
       "    .dataframe tbody tr th:only-of-type {\n",
       "        vertical-align: middle;\n",
       "    }\n",
       "\n",
       "    .dataframe tbody tr th {\n",
       "        vertical-align: top;\n",
       "    }\n",
       "\n",
       "    .dataframe thead th {\n",
       "        text-align: right;\n",
       "    }\n",
       "</style>\n",
       "<table border=\"1\" class=\"dataframe\">\n",
       "  <thead>\n",
       "    <tr style=\"text-align: right;\">\n",
       "      <th></th>\n",
       "      <th>a</th>\n",
       "      <th>c</th>\n",
       "    </tr>\n",
       "    <tr>\n",
       "      <th>b</th>\n",
       "      <th></th>\n",
       "      <th></th>\n",
       "    </tr>\n",
       "  </thead>\n",
       "  <tbody>\n",
       "    <tr>\n",
       "      <th>1.0</th>\n",
       "      <td>2</td>\n",
       "      <td>3</td>\n",
       "    </tr>\n",
       "    <tr>\n",
       "      <th>2.0</th>\n",
       "      <td>2</td>\n",
       "      <td>5</td>\n",
       "    </tr>\n",
       "  </tbody>\n",
       "</table>\n",
       "</div>"
      ],
      "text/plain": [
       "     a  c\n",
       "b        \n",
       "1.0  2  3\n",
       "2.0  2  5"
      ]
     },
     "execution_count": 547,
     "metadata": {},
     "output_type": "execute_result"
    }
   ],
   "source": [
    "df.groupby(by=[\"b\"]).sum()"
   ]
  },
  {
   "cell_type": "code",
   "execution_count": 548,
   "id": "d473387c",
   "metadata": {},
   "outputs": [
    {
     "data": {
      "text/html": [
       "<div>\n",
       "<style scoped>\n",
       "    .dataframe tbody tr th:only-of-type {\n",
       "        vertical-align: middle;\n",
       "    }\n",
       "\n",
       "    .dataframe tbody tr th {\n",
       "        vertical-align: top;\n",
       "    }\n",
       "\n",
       "    .dataframe thead th {\n",
       "        text-align: right;\n",
       "    }\n",
       "</style>\n",
       "<table border=\"1\" class=\"dataframe\">\n",
       "  <thead>\n",
       "    <tr style=\"text-align: right;\">\n",
       "      <th></th>\n",
       "      <th>a</th>\n",
       "      <th>c</th>\n",
       "    </tr>\n",
       "    <tr>\n",
       "      <th>b</th>\n",
       "      <th></th>\n",
       "      <th></th>\n",
       "    </tr>\n",
       "  </thead>\n",
       "  <tbody>\n",
       "    <tr>\n",
       "      <th>1.0</th>\n",
       "      <td>2</td>\n",
       "      <td>3</td>\n",
       "    </tr>\n",
       "    <tr>\n",
       "      <th>2.0</th>\n",
       "      <td>2</td>\n",
       "      <td>5</td>\n",
       "    </tr>\n",
       "    <tr>\n",
       "      <th>NaN</th>\n",
       "      <td>1</td>\n",
       "      <td>4</td>\n",
       "    </tr>\n",
       "  </tbody>\n",
       "</table>\n",
       "</div>"
      ],
      "text/plain": [
       "     a  c\n",
       "b        \n",
       "1.0  2  3\n",
       "2.0  2  5\n",
       "NaN  1  4"
      ]
     },
     "execution_count": 548,
     "metadata": {},
     "output_type": "execute_result"
    }
   ],
   "source": [
    "df.groupby(by=[\"b\"], dropna=False).sum()"
   ]
  },
  {
   "cell_type": "code",
   "execution_count": 549,
   "id": "87d68b0f",
   "metadata": {},
   "outputs": [
    {
     "data": {
      "text/html": [
       "<div>\n",
       "<style scoped>\n",
       "    .dataframe tbody tr th:only-of-type {\n",
       "        vertical-align: middle;\n",
       "    }\n",
       "\n",
       "    .dataframe tbody tr th {\n",
       "        vertical-align: top;\n",
       "    }\n",
       "\n",
       "    .dataframe thead th {\n",
       "        text-align: right;\n",
       "    }\n",
       "</style>\n",
       "<table border=\"1\" class=\"dataframe\">\n",
       "  <thead>\n",
       "    <tr style=\"text-align: right;\">\n",
       "      <th></th>\n",
       "      <th>literacy %</th>\n",
       "    </tr>\n",
       "    <tr>\n",
       "      <th>temperature</th>\n",
       "      <th></th>\n",
       "    </tr>\n",
       "  </thead>\n",
       "  <tbody>\n",
       "    <tr>\n",
       "      <th>28</th>\n",
       "      <td>88.0</td>\n",
       "    </tr>\n",
       "    <tr>\n",
       "      <th>31</th>\n",
       "      <td>92.0</td>\n",
       "    </tr>\n",
       "    <tr>\n",
       "      <th>32</th>\n",
       "      <td>80.0</td>\n",
       "    </tr>\n",
       "    <tr>\n",
       "      <th>36</th>\n",
       "      <td>70.0</td>\n",
       "    </tr>\n",
       "    <tr>\n",
       "      <th>37</th>\n",
       "      <td>78.0</td>\n",
       "    </tr>\n",
       "  </tbody>\n",
       "</table>\n",
       "</div>"
      ],
      "text/plain": [
       "             literacy %\n",
       "temperature            \n",
       "28                 88.0\n",
       "31                 92.0\n",
       "32                 80.0\n",
       "36                 70.0\n",
       "37                 78.0"
      ]
     },
     "execution_count": 549,
     "metadata": {},
     "output_type": "execute_result"
    }
   ],
   "source": [
    "B.groupby('temperature').mean()"
   ]
  },
  {
   "cell_type": "code",
   "execution_count": 550,
   "id": "9900bc64",
   "metadata": {},
   "outputs": [
    {
     "data": {
      "text/html": [
       "<div>\n",
       "<style scoped>\n",
       "    .dataframe tbody tr th:only-of-type {\n",
       "        vertical-align: middle;\n",
       "    }\n",
       "\n",
       "    .dataframe tbody tr th {\n",
       "        vertical-align: top;\n",
       "    }\n",
       "\n",
       "    .dataframe thead th {\n",
       "        text-align: right;\n",
       "    }\n",
       "</style>\n",
       "<table border=\"1\" class=\"dataframe\">\n",
       "  <thead>\n",
       "    <tr style=\"text-align: right;\">\n",
       "      <th></th>\n",
       "      <th>state</th>\n",
       "      <th>capital</th>\n",
       "      <th>literacy %</th>\n",
       "    </tr>\n",
       "    <tr>\n",
       "      <th>temperature</th>\n",
       "      <th></th>\n",
       "      <th></th>\n",
       "      <th></th>\n",
       "    </tr>\n",
       "  </thead>\n",
       "  <tbody>\n",
       "    <tr>\n",
       "      <th>28</th>\n",
       "      <td>panjab</td>\n",
       "      <td>chhatishgadh</td>\n",
       "      <td>88</td>\n",
       "    </tr>\n",
       "    <tr>\n",
       "      <th>31</th>\n",
       "      <td>madhaypradesh</td>\n",
       "      <td>bhopal</td>\n",
       "      <td>92</td>\n",
       "    </tr>\n",
       "    <tr>\n",
       "      <th>32</th>\n",
       "      <td>gujarat</td>\n",
       "      <td>NaN</td>\n",
       "      <td>80</td>\n",
       "    </tr>\n",
       "    <tr>\n",
       "      <th>36</th>\n",
       "      <td>maharastra</td>\n",
       "      <td>mumbai</td>\n",
       "      <td>70</td>\n",
       "    </tr>\n",
       "    <tr>\n",
       "      <th>37</th>\n",
       "      <td>rajastan</td>\n",
       "      <td>jaypur</td>\n",
       "      <td>78</td>\n",
       "    </tr>\n",
       "  </tbody>\n",
       "</table>\n",
       "</div>"
      ],
      "text/plain": [
       "                     state       capital  literacy %\n",
       "temperature                                         \n",
       "28                  panjab  chhatishgadh          88\n",
       "31           madhaypradesh        bhopal          92\n",
       "32                 gujarat           NaN          80\n",
       "36              maharastra        mumbai          70\n",
       "37                rajastan        jaypur          78"
      ]
     },
     "execution_count": 550,
     "metadata": {},
     "output_type": "execute_result"
    }
   ],
   "source": [
    "B.groupby('temperature').max()"
   ]
  },
  {
   "cell_type": "markdown",
   "id": "25a25f64",
   "metadata": {},
   "source": [
    "# DROPING COLUMNS AND ROWS"
   ]
  },
  {
   "cell_type": "code",
   "execution_count": 551,
   "id": "1e4808a8",
   "metadata": {},
   "outputs": [
    {
     "data": {
      "text/html": [
       "<div>\n",
       "<style scoped>\n",
       "    .dataframe tbody tr th:only-of-type {\n",
       "        vertical-align: middle;\n",
       "    }\n",
       "\n",
       "    .dataframe tbody tr th {\n",
       "        vertical-align: top;\n",
       "    }\n",
       "\n",
       "    .dataframe thead th {\n",
       "        text-align: right;\n",
       "    }\n",
       "</style>\n",
       "<table border=\"1\" class=\"dataframe\">\n",
       "  <thead>\n",
       "    <tr style=\"text-align: right;\">\n",
       "      <th></th>\n",
       "      <th>state</th>\n",
       "      <th>capital</th>\n",
       "      <th>literacy %</th>\n",
       "      <th>temperature</th>\n",
       "    </tr>\n",
       "  </thead>\n",
       "  <tbody>\n",
       "    <tr>\n",
       "      <th>0</th>\n",
       "      <td>gujarat</td>\n",
       "      <td>None</td>\n",
       "      <td>80</td>\n",
       "      <td>32</td>\n",
       "    </tr>\n",
       "    <tr>\n",
       "      <th>1</th>\n",
       "      <td>maharastra</td>\n",
       "      <td>mumbai</td>\n",
       "      <td>70</td>\n",
       "      <td>36</td>\n",
       "    </tr>\n",
       "    <tr>\n",
       "      <th>2</th>\n",
       "      <td>rajastan</td>\n",
       "      <td>jaypur</td>\n",
       "      <td>78</td>\n",
       "      <td>37</td>\n",
       "    </tr>\n",
       "    <tr>\n",
       "      <th>3</th>\n",
       "      <td>madhaypradesh</td>\n",
       "      <td>bhopal</td>\n",
       "      <td>92</td>\n",
       "      <td>31</td>\n",
       "    </tr>\n",
       "    <tr>\n",
       "      <th>4</th>\n",
       "      <td>panjab</td>\n",
       "      <td>chhatishgadh</td>\n",
       "      <td>88</td>\n",
       "      <td>28</td>\n",
       "    </tr>\n",
       "  </tbody>\n",
       "</table>\n",
       "</div>"
      ],
      "text/plain": [
       "           state       capital  literacy %  temperature\n",
       "0        gujarat          None          80           32\n",
       "1     maharastra        mumbai          70           36\n",
       "2       rajastan        jaypur          78           37\n",
       "3  madhaypradesh        bhopal          92           31\n",
       "4         panjab  chhatishgadh          88           28"
      ]
     },
     "execution_count": 551,
     "metadata": {},
     "output_type": "execute_result"
    }
   ],
   "source": [
    "A = {\n",
    "    \"state\" : [\"gujarat\",\"maharastra\",\"rajastan\",\"madhaypradesh\",\"panjab\"] ,\n",
    "    \"capital\" : [None,\"mumbai\",\"jaypur\",\"bhopal\",\"chhatishgadh\"] ,\n",
    "    \"literacy %\" : [80,70,78,92,88] ,\n",
    "    \"temperature\" : [32,36,37,31,28] ,\n",
    "}\n",
    "B = pd.DataFrame(A)\n",
    "B"
   ]
  },
  {
   "cell_type": "code",
   "execution_count": 552,
   "id": "b7323874",
   "metadata": {},
   "outputs": [],
   "source": [
    "del B[\"state\"]"
   ]
  },
  {
   "cell_type": "code",
   "execution_count": 553,
   "id": "681f8422",
   "metadata": {},
   "outputs": [
    {
     "data": {
      "text/html": [
       "<div>\n",
       "<style scoped>\n",
       "    .dataframe tbody tr th:only-of-type {\n",
       "        vertical-align: middle;\n",
       "    }\n",
       "\n",
       "    .dataframe tbody tr th {\n",
       "        vertical-align: top;\n",
       "    }\n",
       "\n",
       "    .dataframe thead th {\n",
       "        text-align: right;\n",
       "    }\n",
       "</style>\n",
       "<table border=\"1\" class=\"dataframe\">\n",
       "  <thead>\n",
       "    <tr style=\"text-align: right;\">\n",
       "      <th></th>\n",
       "      <th>capital</th>\n",
       "      <th>literacy %</th>\n",
       "      <th>temperature</th>\n",
       "    </tr>\n",
       "  </thead>\n",
       "  <tbody>\n",
       "    <tr>\n",
       "      <th>0</th>\n",
       "      <td>None</td>\n",
       "      <td>80</td>\n",
       "      <td>32</td>\n",
       "    </tr>\n",
       "    <tr>\n",
       "      <th>1</th>\n",
       "      <td>mumbai</td>\n",
       "      <td>70</td>\n",
       "      <td>36</td>\n",
       "    </tr>\n",
       "    <tr>\n",
       "      <th>2</th>\n",
       "      <td>jaypur</td>\n",
       "      <td>78</td>\n",
       "      <td>37</td>\n",
       "    </tr>\n",
       "    <tr>\n",
       "      <th>3</th>\n",
       "      <td>bhopal</td>\n",
       "      <td>92</td>\n",
       "      <td>31</td>\n",
       "    </tr>\n",
       "    <tr>\n",
       "      <th>4</th>\n",
       "      <td>chhatishgadh</td>\n",
       "      <td>88</td>\n",
       "      <td>28</td>\n",
       "    </tr>\n",
       "  </tbody>\n",
       "</table>\n",
       "</div>"
      ],
      "text/plain": [
       "        capital  literacy %  temperature\n",
       "0          None          80           32\n",
       "1        mumbai          70           36\n",
       "2        jaypur          78           37\n",
       "3        bhopal          92           31\n",
       "4  chhatishgadh          88           28"
      ]
     },
     "execution_count": 553,
     "metadata": {},
     "output_type": "execute_result"
    }
   ],
   "source": [
    "B"
   ]
  },
  {
   "cell_type": "code",
   "execution_count": 554,
   "id": "07ba037f",
   "metadata": {},
   "outputs": [
    {
     "data": {
      "text/html": [
       "<div>\n",
       "<style scoped>\n",
       "    .dataframe tbody tr th:only-of-type {\n",
       "        vertical-align: middle;\n",
       "    }\n",
       "\n",
       "    .dataframe tbody tr th {\n",
       "        vertical-align: top;\n",
       "    }\n",
       "\n",
       "    .dataframe thead th {\n",
       "        text-align: right;\n",
       "    }\n",
       "</style>\n",
       "<table border=\"1\" class=\"dataframe\">\n",
       "  <thead>\n",
       "    <tr style=\"text-align: right;\">\n",
       "      <th></th>\n",
       "      <th>literacy %</th>\n",
       "      <th>temperature</th>\n",
       "    </tr>\n",
       "  </thead>\n",
       "  <tbody>\n",
       "    <tr>\n",
       "      <th>0</th>\n",
       "      <td>80</td>\n",
       "      <td>32</td>\n",
       "    </tr>\n",
       "    <tr>\n",
       "      <th>1</th>\n",
       "      <td>70</td>\n",
       "      <td>36</td>\n",
       "    </tr>\n",
       "    <tr>\n",
       "      <th>2</th>\n",
       "      <td>78</td>\n",
       "      <td>37</td>\n",
       "    </tr>\n",
       "    <tr>\n",
       "      <th>3</th>\n",
       "      <td>92</td>\n",
       "      <td>31</td>\n",
       "    </tr>\n",
       "    <tr>\n",
       "      <th>4</th>\n",
       "      <td>88</td>\n",
       "      <td>28</td>\n",
       "    </tr>\n",
       "  </tbody>\n",
       "</table>\n",
       "</div>"
      ],
      "text/plain": [
       "   literacy %  temperature\n",
       "0          80           32\n",
       "1          70           36\n",
       "2          78           37\n",
       "3          92           31\n",
       "4          88           28"
      ]
     },
     "execution_count": 554,
     "metadata": {},
     "output_type": "execute_result"
    }
   ],
   "source": [
    "B.drop('capital',axis=1,inplace=True)\n",
    "B"
   ]
  },
  {
   "cell_type": "code",
   "execution_count": 555,
   "id": "123f3984",
   "metadata": {},
   "outputs": [
    {
     "data": {
      "text/html": [
       "<div>\n",
       "<style scoped>\n",
       "    .dataframe tbody tr th:only-of-type {\n",
       "        vertical-align: middle;\n",
       "    }\n",
       "\n",
       "    .dataframe tbody tr th {\n",
       "        vertical-align: top;\n",
       "    }\n",
       "\n",
       "    .dataframe thead th {\n",
       "        text-align: right;\n",
       "    }\n",
       "</style>\n",
       "<table border=\"1\" class=\"dataframe\">\n",
       "  <thead>\n",
       "    <tr style=\"text-align: right;\">\n",
       "      <th></th>\n",
       "      <th>literacy %</th>\n",
       "      <th>temperature</th>\n",
       "    </tr>\n",
       "  </thead>\n",
       "  <tbody>\n",
       "    <tr>\n",
       "      <th>0</th>\n",
       "      <td>80</td>\n",
       "      <td>32</td>\n",
       "    </tr>\n",
       "    <tr>\n",
       "      <th>2</th>\n",
       "      <td>78</td>\n",
       "      <td>37</td>\n",
       "    </tr>\n",
       "    <tr>\n",
       "      <th>3</th>\n",
       "      <td>92</td>\n",
       "      <td>31</td>\n",
       "    </tr>\n",
       "    <tr>\n",
       "      <th>4</th>\n",
       "      <td>88</td>\n",
       "      <td>28</td>\n",
       "    </tr>\n",
       "  </tbody>\n",
       "</table>\n",
       "</div>"
      ],
      "text/plain": [
       "   literacy %  temperature\n",
       "0          80           32\n",
       "2          78           37\n",
       "3          92           31\n",
       "4          88           28"
      ]
     },
     "execution_count": 555,
     "metadata": {},
     "output_type": "execute_result"
    }
   ],
   "source": [
    "B.drop(1,axis=0,inplace=True)\n",
    "B"
   ]
  },
  {
   "cell_type": "code",
   "execution_count": 556,
   "id": "de73944c",
   "metadata": {},
   "outputs": [
    {
     "data": {
      "text/html": [
       "<div>\n",
       "<style scoped>\n",
       "    .dataframe tbody tr th:only-of-type {\n",
       "        vertical-align: middle;\n",
       "    }\n",
       "\n",
       "    .dataframe tbody tr th {\n",
       "        vertical-align: top;\n",
       "    }\n",
       "\n",
       "    .dataframe thead th {\n",
       "        text-align: right;\n",
       "    }\n",
       "</style>\n",
       "<table border=\"1\" class=\"dataframe\">\n",
       "  <thead>\n",
       "    <tr style=\"text-align: right;\">\n",
       "      <th></th>\n",
       "      <th>literacy %</th>\n",
       "      <th>temperature</th>\n",
       "    </tr>\n",
       "  </thead>\n",
       "  <tbody>\n",
       "    <tr>\n",
       "      <th>0</th>\n",
       "      <td>80</td>\n",
       "      <td>32</td>\n",
       "    </tr>\n",
       "    <tr>\n",
       "      <th>3</th>\n",
       "      <td>92</td>\n",
       "      <td>31</td>\n",
       "    </tr>\n",
       "    <tr>\n",
       "      <th>4</th>\n",
       "      <td>88</td>\n",
       "      <td>28</td>\n",
       "    </tr>\n",
       "  </tbody>\n",
       "</table>\n",
       "</div>"
      ],
      "text/plain": [
       "   literacy %  temperature\n",
       "0          80           32\n",
       "3          92           31\n",
       "4          88           28"
      ]
     },
     "execution_count": 556,
     "metadata": {},
     "output_type": "execute_result"
    }
   ],
   "source": [
    "B.drop(2,inplace=True) # default axis is 0\n",
    "B"
   ]
  },
  {
   "cell_type": "code",
   "execution_count": 557,
   "id": "6cc3d370",
   "metadata": {},
   "outputs": [
    {
     "data": {
      "text/html": [
       "<div>\n",
       "<style scoped>\n",
       "    .dataframe tbody tr th:only-of-type {\n",
       "        vertical-align: middle;\n",
       "    }\n",
       "\n",
       "    .dataframe tbody tr th {\n",
       "        vertical-align: top;\n",
       "    }\n",
       "\n",
       "    .dataframe thead th {\n",
       "        text-align: right;\n",
       "    }\n",
       "</style>\n",
       "<table border=\"1\" class=\"dataframe\">\n",
       "  <thead>\n",
       "    <tr style=\"text-align: right;\">\n",
       "      <th></th>\n",
       "      <th>state</th>\n",
       "      <th>capital</th>\n",
       "      <th>literacy %</th>\n",
       "      <th>temperature</th>\n",
       "    </tr>\n",
       "  </thead>\n",
       "  <tbody>\n",
       "    <tr>\n",
       "      <th>0</th>\n",
       "      <td>gujarat</td>\n",
       "      <td>None</td>\n",
       "      <td>80</td>\n",
       "      <td>32</td>\n",
       "    </tr>\n",
       "    <tr>\n",
       "      <th>1</th>\n",
       "      <td>maharastra</td>\n",
       "      <td>mumbai</td>\n",
       "      <td>70</td>\n",
       "      <td>36</td>\n",
       "    </tr>\n",
       "    <tr>\n",
       "      <th>2</th>\n",
       "      <td>rajastan</td>\n",
       "      <td>jaypur</td>\n",
       "      <td>78</td>\n",
       "      <td>37</td>\n",
       "    </tr>\n",
       "    <tr>\n",
       "      <th>3</th>\n",
       "      <td>madhaypradesh</td>\n",
       "      <td>bhopal</td>\n",
       "      <td>92</td>\n",
       "      <td>31</td>\n",
       "    </tr>\n",
       "    <tr>\n",
       "      <th>4</th>\n",
       "      <td>panjab</td>\n",
       "      <td>chhatishgadh</td>\n",
       "      <td>88</td>\n",
       "      <td>28</td>\n",
       "    </tr>\n",
       "  </tbody>\n",
       "</table>\n",
       "</div>"
      ],
      "text/plain": [
       "           state       capital  literacy %  temperature\n",
       "0        gujarat          None          80           32\n",
       "1     maharastra        mumbai          70           36\n",
       "2       rajastan        jaypur          78           37\n",
       "3  madhaypradesh        bhopal          92           31\n",
       "4         panjab  chhatishgadh          88           28"
      ]
     },
     "execution_count": 557,
     "metadata": {},
     "output_type": "execute_result"
    }
   ],
   "source": [
    "A = {\n",
    "    \"state\" : [\"gujarat\",\"maharastra\",\"rajastan\",\"madhaypradesh\",\"panjab\"] ,\n",
    "    \"capital\" : [None,\"mumbai\",\"jaypur\",\"bhopal\",\"chhatishgadh\"] ,\n",
    "    \"literacy %\" : [80,70,78,92,88] ,\n",
    "    \"temperature\" : [32,36,37,31,28] ,\n",
    "}\n",
    "B = pd.DataFrame(A)\n",
    "B"
   ]
  },
  {
   "cell_type": "code",
   "execution_count": 558,
   "id": "e0ca0d56",
   "metadata": {},
   "outputs": [
    {
     "data": {
      "text/html": [
       "<div>\n",
       "<style scoped>\n",
       "    .dataframe tbody tr th:only-of-type {\n",
       "        vertical-align: middle;\n",
       "    }\n",
       "\n",
       "    .dataframe tbody tr th {\n",
       "        vertical-align: top;\n",
       "    }\n",
       "\n",
       "    .dataframe thead th {\n",
       "        text-align: right;\n",
       "    }\n",
       "</style>\n",
       "<table border=\"1\" class=\"dataframe\">\n",
       "  <thead>\n",
       "    <tr style=\"text-align: right;\">\n",
       "      <th></th>\n",
       "      <th>capital</th>\n",
       "      <th>literacy %</th>\n",
       "      <th>temperature</th>\n",
       "    </tr>\n",
       "  </thead>\n",
       "  <tbody>\n",
       "    <tr>\n",
       "      <th>0</th>\n",
       "      <td>None</td>\n",
       "      <td>80</td>\n",
       "      <td>32</td>\n",
       "    </tr>\n",
       "    <tr>\n",
       "      <th>1</th>\n",
       "      <td>mumbai</td>\n",
       "      <td>70</td>\n",
       "      <td>36</td>\n",
       "    </tr>\n",
       "    <tr>\n",
       "      <th>2</th>\n",
       "      <td>jaypur</td>\n",
       "      <td>78</td>\n",
       "      <td>37</td>\n",
       "    </tr>\n",
       "    <tr>\n",
       "      <th>3</th>\n",
       "      <td>bhopal</td>\n",
       "      <td>92</td>\n",
       "      <td>31</td>\n",
       "    </tr>\n",
       "    <tr>\n",
       "      <th>4</th>\n",
       "      <td>chhatishgadh</td>\n",
       "      <td>88</td>\n",
       "      <td>28</td>\n",
       "    </tr>\n",
       "  </tbody>\n",
       "</table>\n",
       "</div>"
      ],
      "text/plain": [
       "        capital  literacy %  temperature\n",
       "0          None          80           32\n",
       "1        mumbai          70           36\n",
       "2        jaypur          78           37\n",
       "3        bhopal          92           31\n",
       "4  chhatishgadh          88           28"
      ]
     },
     "execution_count": 558,
     "metadata": {},
     "output_type": "execute_result"
    }
   ],
   "source": [
    "B.pop('state')\n",
    "B"
   ]
  },
  {
   "cell_type": "code",
   "execution_count": 559,
   "id": "ad5f6f26",
   "metadata": {},
   "outputs": [
    {
     "data": {
      "text/html": [
       "<div>\n",
       "<style scoped>\n",
       "    .dataframe tbody tr th:only-of-type {\n",
       "        vertical-align: middle;\n",
       "    }\n",
       "\n",
       "    .dataframe tbody tr th {\n",
       "        vertical-align: top;\n",
       "    }\n",
       "\n",
       "    .dataframe thead th {\n",
       "        text-align: right;\n",
       "    }\n",
       "</style>\n",
       "<table border=\"1\" class=\"dataframe\">\n",
       "  <thead>\n",
       "    <tr style=\"text-align: right;\">\n",
       "      <th></th>\n",
       "      <th>Population</th>\n",
       "    </tr>\n",
       "  </thead>\n",
       "  <tbody>\n",
       "    <tr>\n",
       "      <th>0</th>\n",
       "      <td>1.5</td>\n",
       "    </tr>\n",
       "    <tr>\n",
       "      <th>1</th>\n",
       "      <td>-4.6</td>\n",
       "    </tr>\n",
       "    <tr>\n",
       "      <th>2</th>\n",
       "      <td>5.0</td>\n",
       "    </tr>\n",
       "    <tr>\n",
       "      <th>3</th>\n",
       "      <td>-4.3</td>\n",
       "    </tr>\n",
       "    <tr>\n",
       "      <th>4</th>\n",
       "      <td>2.3</td>\n",
       "    </tr>\n",
       "  </tbody>\n",
       "</table>\n",
       "</div>"
      ],
      "text/plain": [
       "   Population\n",
       "0         1.5\n",
       "1        -4.6\n",
       "2         5.0\n",
       "3        -4.3\n",
       "4         2.3"
      ]
     },
     "execution_count": 559,
     "metadata": {},
     "output_type": "execute_result"
    }
   ],
   "source": [
    "X = {'Population':[1.5,-4.6,5,-4.3,2.3]}\n",
    "Y = pd.DataFrame(X)\n",
    "Y"
   ]
  },
  {
   "cell_type": "code",
   "execution_count": 560,
   "id": "9a769dc4",
   "metadata": {},
   "outputs": [
    {
     "data": {
      "text/html": [
       "<div>\n",
       "<style scoped>\n",
       "    .dataframe tbody tr th:only-of-type {\n",
       "        vertical-align: middle;\n",
       "    }\n",
       "\n",
       "    .dataframe tbody tr th {\n",
       "        vertical-align: top;\n",
       "    }\n",
       "\n",
       "    .dataframe thead th {\n",
       "        text-align: right;\n",
       "    }\n",
       "</style>\n",
       "<table border=\"1\" class=\"dataframe\">\n",
       "  <thead>\n",
       "    <tr style=\"text-align: right;\">\n",
       "      <th></th>\n",
       "      <th>Population</th>\n",
       "    </tr>\n",
       "  </thead>\n",
       "  <tbody>\n",
       "    <tr>\n",
       "      <th>2</th>\n",
       "      <td>5.0</td>\n",
       "    </tr>\n",
       "    <tr>\n",
       "      <th>3</th>\n",
       "      <td>-4.3</td>\n",
       "    </tr>\n",
       "    <tr>\n",
       "      <th>4</th>\n",
       "      <td>2.3</td>\n",
       "    </tr>\n",
       "  </tbody>\n",
       "</table>\n",
       "</div>"
      ],
      "text/plain": [
       "   Population\n",
       "2         5.0\n",
       "3        -4.3\n",
       "4         2.3"
      ]
     },
     "execution_count": 560,
     "metadata": {},
     "output_type": "execute_result"
    }
   ],
   "source": [
    "Y.truncate(2) # truncate only works on sorted index"
   ]
  },
  {
   "cell_type": "markdown",
   "id": "4fb921a9",
   "metadata": {},
   "source": [
    "# SORTING VALUES"
   ]
  },
  {
   "cell_type": "code",
   "execution_count": 561,
   "id": "4e0bdd48",
   "metadata": {},
   "outputs": [
    {
     "data": {
      "text/html": [
       "<div>\n",
       "<style scoped>\n",
       "    .dataframe tbody tr th:only-of-type {\n",
       "        vertical-align: middle;\n",
       "    }\n",
       "\n",
       "    .dataframe tbody tr th {\n",
       "        vertical-align: top;\n",
       "    }\n",
       "\n",
       "    .dataframe thead th {\n",
       "        text-align: right;\n",
       "    }\n",
       "</style>\n",
       "<table border=\"1\" class=\"dataframe\">\n",
       "  <thead>\n",
       "    <tr style=\"text-align: right;\">\n",
       "      <th></th>\n",
       "      <th>Population</th>\n",
       "    </tr>\n",
       "  </thead>\n",
       "  <tbody>\n",
       "    <tr>\n",
       "      <th>1</th>\n",
       "      <td>-4.6</td>\n",
       "    </tr>\n",
       "    <tr>\n",
       "      <th>3</th>\n",
       "      <td>-4.3</td>\n",
       "    </tr>\n",
       "    <tr>\n",
       "      <th>0</th>\n",
       "      <td>1.5</td>\n",
       "    </tr>\n",
       "    <tr>\n",
       "      <th>4</th>\n",
       "      <td>2.3</td>\n",
       "    </tr>\n",
       "    <tr>\n",
       "      <th>2</th>\n",
       "      <td>5.0</td>\n",
       "    </tr>\n",
       "  </tbody>\n",
       "</table>\n",
       "</div>"
      ],
      "text/plain": [
       "   Population\n",
       "1        -4.6\n",
       "3        -4.3\n",
       "0         1.5\n",
       "4         2.3\n",
       "2         5.0"
      ]
     },
     "execution_count": 561,
     "metadata": {},
     "output_type": "execute_result"
    }
   ],
   "source": [
    "X = Y.sort_values(by='Population')\n",
    "X"
   ]
  },
  {
   "cell_type": "code",
   "execution_count": 562,
   "id": "b495a06c",
   "metadata": {},
   "outputs": [
    {
     "data": {
      "text/html": [
       "<div>\n",
       "<style scoped>\n",
       "    .dataframe tbody tr th:only-of-type {\n",
       "        vertical-align: middle;\n",
       "    }\n",
       "\n",
       "    .dataframe tbody tr th {\n",
       "        vertical-align: top;\n",
       "    }\n",
       "\n",
       "    .dataframe thead th {\n",
       "        text-align: right;\n",
       "    }\n",
       "</style>\n",
       "<table border=\"1\" class=\"dataframe\">\n",
       "  <thead>\n",
       "    <tr style=\"text-align: right;\">\n",
       "      <th></th>\n",
       "      <th>Population</th>\n",
       "    </tr>\n",
       "  </thead>\n",
       "  <tbody>\n",
       "    <tr>\n",
       "      <th>0</th>\n",
       "      <td>1.5</td>\n",
       "    </tr>\n",
       "    <tr>\n",
       "      <th>1</th>\n",
       "      <td>-4.6</td>\n",
       "    </tr>\n",
       "    <tr>\n",
       "      <th>2</th>\n",
       "      <td>5.0</td>\n",
       "    </tr>\n",
       "    <tr>\n",
       "      <th>3</th>\n",
       "      <td>-4.3</td>\n",
       "    </tr>\n",
       "    <tr>\n",
       "      <th>4</th>\n",
       "      <td>2.3</td>\n",
       "    </tr>\n",
       "  </tbody>\n",
       "</table>\n",
       "</div>"
      ],
      "text/plain": [
       "   Population\n",
       "0         1.5\n",
       "1        -4.6\n",
       "2         5.0\n",
       "3        -4.3\n",
       "4         2.3"
      ]
     },
     "execution_count": 562,
     "metadata": {},
     "output_type": "execute_result"
    }
   ],
   "source": [
    "X.sort_index()"
   ]
  },
  {
   "cell_type": "code",
   "execution_count": 563,
   "id": "0ed46034",
   "metadata": {},
   "outputs": [
    {
     "data": {
      "text/html": [
       "<div>\n",
       "<style scoped>\n",
       "    .dataframe tbody tr th:only-of-type {\n",
       "        vertical-align: middle;\n",
       "    }\n",
       "\n",
       "    .dataframe tbody tr th {\n",
       "        vertical-align: top;\n",
       "    }\n",
       "\n",
       "    .dataframe thead th {\n",
       "        text-align: right;\n",
       "    }\n",
       "</style>\n",
       "<table border=\"1\" class=\"dataframe\">\n",
       "  <thead>\n",
       "    <tr style=\"text-align: right;\">\n",
       "      <th></th>\n",
       "      <th>Population</th>\n",
       "    </tr>\n",
       "  </thead>\n",
       "  <tbody>\n",
       "    <tr>\n",
       "      <th>2</th>\n",
       "      <td>5.0</td>\n",
       "    </tr>\n",
       "    <tr>\n",
       "      <th>3</th>\n",
       "      <td>-4.3</td>\n",
       "    </tr>\n",
       "    <tr>\n",
       "      <th>4</th>\n",
       "      <td>2.3</td>\n",
       "    </tr>\n",
       "  </tbody>\n",
       "</table>\n",
       "</div>"
      ],
      "text/plain": [
       "   Population\n",
       "2         5.0\n",
       "3        -4.3\n",
       "4         2.3"
      ]
     },
     "execution_count": 563,
     "metadata": {},
     "output_type": "execute_result"
    }
   ],
   "source": [
    "X.sort_index().truncate(2)"
   ]
  },
  {
   "cell_type": "markdown",
   "id": "13e16d90",
   "metadata": {},
   "source": [
    "# Checking Truthness of values"
   ]
  },
  {
   "cell_type": "code",
   "execution_count": 564,
   "id": "1589226f",
   "metadata": {},
   "outputs": [
    {
     "data": {
      "text/html": [
       "<div>\n",
       "<style scoped>\n",
       "    .dataframe tbody tr th:only-of-type {\n",
       "        vertical-align: middle;\n",
       "    }\n",
       "\n",
       "    .dataframe tbody tr th {\n",
       "        vertical-align: top;\n",
       "    }\n",
       "\n",
       "    .dataframe thead th {\n",
       "        text-align: right;\n",
       "    }\n",
       "</style>\n",
       "<table border=\"1\" class=\"dataframe\">\n",
       "  <thead>\n",
       "    <tr style=\"text-align: right;\">\n",
       "      <th></th>\n",
       "      <th>state</th>\n",
       "      <th>capital</th>\n",
       "      <th>literacy %</th>\n",
       "      <th>temperature</th>\n",
       "    </tr>\n",
       "  </thead>\n",
       "  <tbody>\n",
       "    <tr>\n",
       "      <th>0</th>\n",
       "      <td>gujarat</td>\n",
       "      <td>None</td>\n",
       "      <td>0</td>\n",
       "      <td>32</td>\n",
       "    </tr>\n",
       "    <tr>\n",
       "      <th>1</th>\n",
       "      <td>maharastra</td>\n",
       "      <td>mumbai</td>\n",
       "      <td>70</td>\n",
       "      <td>36</td>\n",
       "    </tr>\n",
       "    <tr>\n",
       "      <th>2</th>\n",
       "      <td>rajastan</td>\n",
       "      <td>jaypur</td>\n",
       "      <td>78</td>\n",
       "      <td>37</td>\n",
       "    </tr>\n",
       "    <tr>\n",
       "      <th>3</th>\n",
       "      <td>madhaypradesh</td>\n",
       "      <td>bhopal</td>\n",
       "      <td>92</td>\n",
       "      <td>31</td>\n",
       "    </tr>\n",
       "    <tr>\n",
       "      <th>4</th>\n",
       "      <td>panjab</td>\n",
       "      <td>chhatishgadh</td>\n",
       "      <td>88</td>\n",
       "      <td>28</td>\n",
       "    </tr>\n",
       "  </tbody>\n",
       "</table>\n",
       "</div>"
      ],
      "text/plain": [
       "           state       capital  literacy %  temperature\n",
       "0        gujarat          None           0           32\n",
       "1     maharastra        mumbai          70           36\n",
       "2       rajastan        jaypur          78           37\n",
       "3  madhaypradesh        bhopal          92           31\n",
       "4         panjab  chhatishgadh          88           28"
      ]
     },
     "execution_count": 564,
     "metadata": {},
     "output_type": "execute_result"
    }
   ],
   "source": [
    "A = {\n",
    "    \"state\" : [\"gujarat\",\"maharastra\",\"rajastan\",\"madhaypradesh\",\"panjab\"] ,\n",
    "    \"capital\" : ['None',\"mumbai\",\"jaypur\",\"bhopal\",\"chhatishgadh\"] ,\n",
    "    \"literacy %\" : [0,70,78,92,88] ,\n",
    "    \"temperature\" : [32,36,37,31,28] ,\n",
    "}\n",
    "B = pd.DataFrame(A)\n",
    "B"
   ]
  },
  {
   "cell_type": "code",
   "execution_count": 565,
   "id": "0953ba8d",
   "metadata": {},
   "outputs": [
    {
     "data": {
      "text/plain": [
       "state           True\n",
       "capital         True\n",
       "literacy %     False\n",
       "temperature     True\n",
       "dtype: bool"
      ]
     },
     "execution_count": 565,
     "metadata": {},
     "output_type": "execute_result"
    }
   ],
   "source": [
    "B.all(axis=0)"
   ]
  },
  {
   "cell_type": "code",
   "execution_count": 566,
   "id": "55117d5c",
   "metadata": {},
   "outputs": [
    {
     "data": {
      "text/plain": [
       "0    False\n",
       "1     True\n",
       "2     True\n",
       "3     True\n",
       "4     True\n",
       "dtype: bool"
      ]
     },
     "execution_count": 566,
     "metadata": {},
     "output_type": "execute_result"
    }
   ],
   "source": [
    "B.all(axis=1)"
   ]
  },
  {
   "cell_type": "markdown",
   "id": "43e8f3e2",
   "metadata": {},
   "source": [
    "    Return whether all elements are True, potentially over an axis. Returns True unless there at least one element within a series or along a Dataframe axis that is False or equivalent (e.g. zero or empty)."
   ]
  },
  {
   "cell_type": "code",
   "execution_count": 567,
   "id": "82a10797",
   "metadata": {},
   "outputs": [
    {
     "data": {
      "text/plain": [
       "state          True\n",
       "capital        True\n",
       "literacy %     True\n",
       "temperature    True\n",
       "dtype: bool"
      ]
     },
     "execution_count": 567,
     "metadata": {},
     "output_type": "execute_result"
    }
   ],
   "source": [
    "B.any(axis=0)"
   ]
  },
  {
   "cell_type": "code",
   "execution_count": 568,
   "id": "1a95da8c",
   "metadata": {},
   "outputs": [
    {
     "data": {
      "text/plain": [
       "0    True\n",
       "1    True\n",
       "2    True\n",
       "3    True\n",
       "4    True\n",
       "dtype: bool"
      ]
     },
     "execution_count": 568,
     "metadata": {},
     "output_type": "execute_result"
    }
   ],
   "source": [
    "B.any(axis=1)"
   ]
  },
  {
   "cell_type": "markdown",
   "id": "084b181f",
   "metadata": {},
   "source": [
    "    Return whether any element is True, potentially over an axis. Returns False unless there is at least one element within a series or along a Dataframe axis that is True or equivalent (e.g. non-zero or non-empty)."
   ]
  },
  {
   "cell_type": "markdown",
   "id": "bf0fca57",
   "metadata": {},
   "source": [
    "# USE OF ASTYPE"
   ]
  },
  {
   "cell_type": "code",
   "execution_count": 569,
   "id": "91aa4a52",
   "metadata": {},
   "outputs": [
    {
     "data": {
      "text/html": [
       "<div>\n",
       "<style scoped>\n",
       "    .dataframe tbody tr th:only-of-type {\n",
       "        vertical-align: middle;\n",
       "    }\n",
       "\n",
       "    .dataframe tbody tr th {\n",
       "        vertical-align: top;\n",
       "    }\n",
       "\n",
       "    .dataframe thead th {\n",
       "        text-align: right;\n",
       "    }\n",
       "</style>\n",
       "<table border=\"1\" class=\"dataframe\">\n",
       "  <thead>\n",
       "    <tr style=\"text-align: right;\">\n",
       "      <th></th>\n",
       "      <th>state</th>\n",
       "      <th>capital</th>\n",
       "      <th>literacy %</th>\n",
       "      <th>temperature</th>\n",
       "    </tr>\n",
       "  </thead>\n",
       "  <tbody>\n",
       "    <tr>\n",
       "      <th>0</th>\n",
       "      <td>gujarat</td>\n",
       "      <td>None</td>\n",
       "      <td>0</td>\n",
       "      <td>32</td>\n",
       "    </tr>\n",
       "    <tr>\n",
       "      <th>1</th>\n",
       "      <td>maharastra</td>\n",
       "      <td>mumbai</td>\n",
       "      <td>70</td>\n",
       "      <td>36</td>\n",
       "    </tr>\n",
       "    <tr>\n",
       "      <th>2</th>\n",
       "      <td>rajastan</td>\n",
       "      <td>jaypur</td>\n",
       "      <td>78</td>\n",
       "      <td>37</td>\n",
       "    </tr>\n",
       "    <tr>\n",
       "      <th>3</th>\n",
       "      <td>madhaypradesh</td>\n",
       "      <td>bhopal</td>\n",
       "      <td>92</td>\n",
       "      <td>31</td>\n",
       "    </tr>\n",
       "    <tr>\n",
       "      <th>4</th>\n",
       "      <td>panjab</td>\n",
       "      <td>chhatishgadh</td>\n",
       "      <td>88</td>\n",
       "      <td>28</td>\n",
       "    </tr>\n",
       "  </tbody>\n",
       "</table>\n",
       "</div>"
      ],
      "text/plain": [
       "           state       capital  literacy %  temperature\n",
       "0        gujarat          None           0           32\n",
       "1     maharastra        mumbai          70           36\n",
       "2       rajastan        jaypur          78           37\n",
       "3  madhaypradesh        bhopal          92           31\n",
       "4         panjab  chhatishgadh          88           28"
      ]
     },
     "execution_count": 569,
     "metadata": {},
     "output_type": "execute_result"
    }
   ],
   "source": [
    "A = {\n",
    "    \"state\" : [\"gujarat\",\"maharastra\",\"rajastan\",\"madhaypradesh\",\"panjab\"] ,\n",
    "    \"capital\" : ['None',\"mumbai\",\"jaypur\",\"bhopal\",\"chhatishgadh\"] ,\n",
    "    \"literacy %\" : [0,70,78,92,88] ,\n",
    "    \"temperature\" : [32,36,37,31,28] ,\n",
    "}\n",
    "B = pd.DataFrame(A)\n",
    "B"
   ]
  },
  {
   "cell_type": "code",
   "execution_count": 570,
   "id": "b973571e",
   "metadata": {},
   "outputs": [
    {
     "data": {
      "text/plain": [
       "0    32.0\n",
       "1    36.0\n",
       "2    37.0\n",
       "3    31.0\n",
       "4    28.0\n",
       "Name: temperature, dtype: float64"
      ]
     },
     "execution_count": 570,
     "metadata": {},
     "output_type": "execute_result"
    }
   ],
   "source": [
    "C = B['temperature'].astype('float')\n",
    "C"
   ]
  },
  {
   "cell_type": "code",
   "execution_count": 571,
   "id": "fe4f2fd7",
   "metadata": {},
   "outputs": [
    {
     "name": "stdout",
     "output_type": "stream",
     "text": [
      "<class 'pandas.core.frame.DataFrame'>\n",
      "RangeIndex: 5 entries, 0 to 4\n",
      "Data columns (total 4 columns):\n",
      " #   Column       Non-Null Count  Dtype \n",
      "---  ------       --------------  ----- \n",
      " 0   state        5 non-null      object\n",
      " 1   capital      5 non-null      object\n",
      " 2   literacy %   5 non-null      object\n",
      " 3   temperature  5 non-null      object\n",
      "dtypes: object(4)\n",
      "memory usage: 288.0+ bytes\n"
     ]
    }
   ],
   "source": [
    "C = B.astype('str')\n",
    "C.info()"
   ]
  },
  {
   "cell_type": "code",
   "execution_count": 572,
   "id": "62686626",
   "metadata": {},
   "outputs": [
    {
     "data": {
      "text/plain": [
       "'3236373128'"
      ]
     },
     "execution_count": 572,
     "metadata": {},
     "output_type": "execute_result"
    }
   ],
   "source": [
    "C['temperature'].agg('sum') "
   ]
  },
  {
   "cell_type": "markdown",
   "id": "3e72f937",
   "metadata": {},
   "source": [
    "    Here... temperature is in string so it concatenate when we try to sum all the values."
   ]
  },
  {
   "cell_type": "code",
   "execution_count": 573,
   "id": "421e58ba",
   "metadata": {},
   "outputs": [
    {
     "data": {
      "text/html": [
       "<div>\n",
       "<style scoped>\n",
       "    .dataframe tbody tr th:only-of-type {\n",
       "        vertical-align: middle;\n",
       "    }\n",
       "\n",
       "    .dataframe tbody tr th {\n",
       "        vertical-align: top;\n",
       "    }\n",
       "\n",
       "    .dataframe thead th {\n",
       "        text-align: right;\n",
       "    }\n",
       "</style>\n",
       "<table border=\"1\" class=\"dataframe\">\n",
       "  <thead>\n",
       "    <tr style=\"text-align: right;\">\n",
       "      <th></th>\n",
       "      <th>variable</th>\n",
       "      <th>value</th>\n",
       "    </tr>\n",
       "  </thead>\n",
       "  <tbody>\n",
       "    <tr>\n",
       "      <th>0</th>\n",
       "      <td>state</td>\n",
       "      <td>gujarat</td>\n",
       "    </tr>\n",
       "    <tr>\n",
       "      <th>1</th>\n",
       "      <td>state</td>\n",
       "      <td>maharastra</td>\n",
       "    </tr>\n",
       "    <tr>\n",
       "      <th>2</th>\n",
       "      <td>state</td>\n",
       "      <td>rajastan</td>\n",
       "    </tr>\n",
       "    <tr>\n",
       "      <th>3</th>\n",
       "      <td>state</td>\n",
       "      <td>madhaypradesh</td>\n",
       "    </tr>\n",
       "    <tr>\n",
       "      <th>4</th>\n",
       "      <td>state</td>\n",
       "      <td>panjab</td>\n",
       "    </tr>\n",
       "    <tr>\n",
       "      <th>5</th>\n",
       "      <td>capital</td>\n",
       "      <td>None</td>\n",
       "    </tr>\n",
       "    <tr>\n",
       "      <th>6</th>\n",
       "      <td>capital</td>\n",
       "      <td>mumbai</td>\n",
       "    </tr>\n",
       "    <tr>\n",
       "      <th>7</th>\n",
       "      <td>capital</td>\n",
       "      <td>jaypur</td>\n",
       "    </tr>\n",
       "    <tr>\n",
       "      <th>8</th>\n",
       "      <td>capital</td>\n",
       "      <td>bhopal</td>\n",
       "    </tr>\n",
       "    <tr>\n",
       "      <th>9</th>\n",
       "      <td>capital</td>\n",
       "      <td>chhatishgadh</td>\n",
       "    </tr>\n",
       "    <tr>\n",
       "      <th>10</th>\n",
       "      <td>literacy %</td>\n",
       "      <td>0</td>\n",
       "    </tr>\n",
       "    <tr>\n",
       "      <th>11</th>\n",
       "      <td>literacy %</td>\n",
       "      <td>70</td>\n",
       "    </tr>\n",
       "    <tr>\n",
       "      <th>12</th>\n",
       "      <td>literacy %</td>\n",
       "      <td>78</td>\n",
       "    </tr>\n",
       "    <tr>\n",
       "      <th>13</th>\n",
       "      <td>literacy %</td>\n",
       "      <td>92</td>\n",
       "    </tr>\n",
       "    <tr>\n",
       "      <th>14</th>\n",
       "      <td>literacy %</td>\n",
       "      <td>88</td>\n",
       "    </tr>\n",
       "    <tr>\n",
       "      <th>15</th>\n",
       "      <td>temperature</td>\n",
       "      <td>32</td>\n",
       "    </tr>\n",
       "    <tr>\n",
       "      <th>16</th>\n",
       "      <td>temperature</td>\n",
       "      <td>36</td>\n",
       "    </tr>\n",
       "    <tr>\n",
       "      <th>17</th>\n",
       "      <td>temperature</td>\n",
       "      <td>37</td>\n",
       "    </tr>\n",
       "    <tr>\n",
       "      <th>18</th>\n",
       "      <td>temperature</td>\n",
       "      <td>31</td>\n",
       "    </tr>\n",
       "    <tr>\n",
       "      <th>19</th>\n",
       "      <td>temperature</td>\n",
       "      <td>28</td>\n",
       "    </tr>\n",
       "  </tbody>\n",
       "</table>\n",
       "</div>"
      ],
      "text/plain": [
       "       variable          value\n",
       "0         state        gujarat\n",
       "1         state     maharastra\n",
       "2         state       rajastan\n",
       "3         state  madhaypradesh\n",
       "4         state         panjab\n",
       "5       capital           None\n",
       "6       capital         mumbai\n",
       "7       capital         jaypur\n",
       "8       capital         bhopal\n",
       "9       capital   chhatishgadh\n",
       "10   literacy %              0\n",
       "11   literacy %             70\n",
       "12   literacy %             78\n",
       "13   literacy %             92\n",
       "14   literacy %             88\n",
       "15  temperature             32\n",
       "16  temperature             36\n",
       "17  temperature             37\n",
       "18  temperature             31\n",
       "19  temperature             28"
      ]
     },
     "execution_count": 573,
     "metadata": {},
     "output_type": "execute_result"
    }
   ],
   "source": [
    "B.melt()"
   ]
  },
  {
   "cell_type": "markdown",
   "id": "1bf9490d",
   "metadata": {},
   "source": [
    "# PLOTING GRAPHS USING PANDAS"
   ]
  },
  {
   "cell_type": "code",
   "execution_count": 574,
   "id": "d9da63e4",
   "metadata": {},
   "outputs": [
    {
     "data": {
      "text/html": [
       "<div>\n",
       "<style scoped>\n",
       "    .dataframe tbody tr th:only-of-type {\n",
       "        vertical-align: middle;\n",
       "    }\n",
       "\n",
       "    .dataframe tbody tr th {\n",
       "        vertical-align: top;\n",
       "    }\n",
       "\n",
       "    .dataframe thead th {\n",
       "        text-align: right;\n",
       "    }\n",
       "</style>\n",
       "<table border=\"1\" class=\"dataframe\">\n",
       "  <thead>\n",
       "    <tr style=\"text-align: right;\">\n",
       "      <th></th>\n",
       "      <th>state</th>\n",
       "      <th>capital</th>\n",
       "      <th>literacy %</th>\n",
       "      <th>temperature</th>\n",
       "    </tr>\n",
       "  </thead>\n",
       "  <tbody>\n",
       "    <tr>\n",
       "      <th>0</th>\n",
       "      <td>gujarat</td>\n",
       "      <td>None</td>\n",
       "      <td>0</td>\n",
       "      <td>32</td>\n",
       "    </tr>\n",
       "    <tr>\n",
       "      <th>1</th>\n",
       "      <td>maharastra</td>\n",
       "      <td>mumbai</td>\n",
       "      <td>70</td>\n",
       "      <td>36</td>\n",
       "    </tr>\n",
       "    <tr>\n",
       "      <th>2</th>\n",
       "      <td>rajastan</td>\n",
       "      <td>jaypur</td>\n",
       "      <td>78</td>\n",
       "      <td>37</td>\n",
       "    </tr>\n",
       "    <tr>\n",
       "      <th>3</th>\n",
       "      <td>madhaypradesh</td>\n",
       "      <td>bhopal</td>\n",
       "      <td>92</td>\n",
       "      <td>31</td>\n",
       "    </tr>\n",
       "    <tr>\n",
       "      <th>4</th>\n",
       "      <td>panjab</td>\n",
       "      <td>chhatishgadh</td>\n",
       "      <td>88</td>\n",
       "      <td>28</td>\n",
       "    </tr>\n",
       "  </tbody>\n",
       "</table>\n",
       "</div>"
      ],
      "text/plain": [
       "           state       capital  literacy %  temperature\n",
       "0        gujarat          None           0           32\n",
       "1     maharastra        mumbai          70           36\n",
       "2       rajastan        jaypur          78           37\n",
       "3  madhaypradesh        bhopal          92           31\n",
       "4         panjab  chhatishgadh          88           28"
      ]
     },
     "execution_count": 574,
     "metadata": {},
     "output_type": "execute_result"
    }
   ],
   "source": [
    "A = {\n",
    "    \"state\" : [\"gujarat\",\"maharastra\",\"rajastan\",\"madhaypradesh\",\"panjab\"] ,\n",
    "    \"capital\" : ['None',\"mumbai\",\"jaypur\",\"bhopal\",\"chhatishgadh\"] ,\n",
    "    \"literacy %\" : [0,70,78,92,88] ,\n",
    "    \"temperature\" : [32,36,37,31,28] ,\n",
    "}\n",
    "B = pd.DataFrame(A)\n",
    "B"
   ]
  },
  {
   "cell_type": "code",
   "execution_count": 575,
   "id": "d6737e0d",
   "metadata": {},
   "outputs": [
    {
     "data": {
      "text/plain": [
       "<AxesSubplot:>"
      ]
     },
     "execution_count": 575,
     "metadata": {},
     "output_type": "execute_result"
    },
    {
     "data": {
      "image/png": "[encoded data removed]",
      "text/plain": [
       "<Figure size 432x288 with 1 Axes>"
      ]
     },
     "metadata": {
      "needs_background": "light"
     },
     "output_type": "display_data"
    }
   ],
   "source": [
    "B.boxplot()"
   ]
  },
  {
   "cell_type": "code",
   "execution_count": 576,
   "id": "99822628",
   "metadata": {},
   "outputs": [
    {
     "data": {
      "text/plain": [
       "array([[<AxesSubplot:title={'center':'temperature'}>]], dtype=object)"
      ]
     },
     "execution_count": 576,
     "metadata": {},
     "output_type": "execute_result"
    },
    {
     "data": {
      "image/png": "[encoded data removed]",
      "text/plain": [
       "<Figure size 432x288 with 1 Axes>"
      ]
     },
     "metadata": {
      "needs_background": "light"
     },
     "output_type": "display_data"
    }
   ],
   "source": [
    "B.hist(column='temperature')"
   ]
  },
  {
   "cell_type": "code",
   "execution_count": 577,
   "id": "699412a7",
   "metadata": {},
   "outputs": [
    {
     "data": {
      "text/plain": [
       "<AxesSubplot:>"
      ]
     },
     "execution_count": 577,
     "metadata": {},
     "output_type": "execute_result"
    },
    {
     "data": {
      "image/png": "[encoded data removed]",
      "text/plain": [
       "<Figure size 432x288 with 1 Axes>"
      ]
     },
     "metadata": {
      "needs_background": "light"
     },
     "output_type": "display_data"
    }
   ],
   "source": [
    "B.plot()"
   ]
  },
  {
   "cell_type": "markdown",
   "id": "dd4e4441",
   "metadata": {},
   "source": [
    "# DATE-TIME OPERATION"
   ]
  },
  {
   "cell_type": "code",
   "execution_count": 578,
   "id": "4199daa5",
   "metadata": {},
   "outputs": [
    {
     "data": {
      "text/html": [
       "<div>\n",
       "<style scoped>\n",
       "    .dataframe tbody tr th:only-of-type {\n",
       "        vertical-align: middle;\n",
       "    }\n",
       "\n",
       "    .dataframe tbody tr th {\n",
       "        vertical-align: top;\n",
       "    }\n",
       "\n",
       "    .dataframe thead th {\n",
       "        text-align: right;\n",
       "    }\n",
       "</style>\n",
       "<table border=\"1\" class=\"dataframe\">\n",
       "  <thead>\n",
       "    <tr style=\"text-align: right;\">\n",
       "      <th></th>\n",
       "      <th>A</th>\n",
       "    </tr>\n",
       "  </thead>\n",
       "  <tbody>\n",
       "    <tr>\n",
       "      <th>2018-04-09</th>\n",
       "      <td>1</td>\n",
       "    </tr>\n",
       "    <tr>\n",
       "      <th>2018-04-11</th>\n",
       "      <td>2</td>\n",
       "    </tr>\n",
       "    <tr>\n",
       "      <th>2018-04-13</th>\n",
       "      <td>3</td>\n",
       "    </tr>\n",
       "    <tr>\n",
       "      <th>2018-04-15</th>\n",
       "      <td>4</td>\n",
       "    </tr>\n",
       "  </tbody>\n",
       "</table>\n",
       "</div>"
      ],
      "text/plain": [
       "            A\n",
       "2018-04-09  1\n",
       "2018-04-11  2\n",
       "2018-04-13  3\n",
       "2018-04-15  4"
      ]
     },
     "execution_count": 578,
     "metadata": {},
     "output_type": "execute_result"
    }
   ],
   "source": [
    "i = pd.date_range('2018-04-09', periods=4, freq='2D')\n",
    "ts = pd.DataFrame({'A': [1, 2, 3, 4]}, index=i)\n",
    "ts"
   ]
  },
  {
   "cell_type": "code",
   "execution_count": 579,
   "id": "1ea329b0",
   "metadata": {},
   "outputs": [
    {
     "data": {
      "text/html": [
       "<div>\n",
       "<style scoped>\n",
       "    .dataframe tbody tr th:only-of-type {\n",
       "        vertical-align: middle;\n",
       "    }\n",
       "\n",
       "    .dataframe tbody tr th {\n",
       "        vertical-align: top;\n",
       "    }\n",
       "\n",
       "    .dataframe thead th {\n",
       "        text-align: right;\n",
       "    }\n",
       "</style>\n",
       "<table border=\"1\" class=\"dataframe\">\n",
       "  <thead>\n",
       "    <tr style=\"text-align: right;\">\n",
       "      <th></th>\n",
       "      <th>A</th>\n",
       "    </tr>\n",
       "  </thead>\n",
       "  <tbody>\n",
       "    <tr>\n",
       "      <th>2018-04-13</th>\n",
       "      <td>3</td>\n",
       "    </tr>\n",
       "    <tr>\n",
       "      <th>2018-04-15</th>\n",
       "      <td>4</td>\n",
       "    </tr>\n",
       "  </tbody>\n",
       "</table>\n",
       "</div>"
      ],
      "text/plain": [
       "            A\n",
       "2018-04-13  3\n",
       "2018-04-15  4"
      ]
     },
     "execution_count": 579,
     "metadata": {},
     "output_type": "execute_result"
    }
   ],
   "source": [
    "ts.last('3D')"
   ]
  },
  {
   "cell_type": "markdown",
   "id": "7fb40cbf",
   "metadata": {},
   "source": [
    "    'last' only supports a DatetimeIndex index.Notice the data for 3 last calendar days were returned, not the last 3 observed days in the dataset, and therefore data for 2018-04-11 was not returned."
   ]
  },
  {
   "cell_type": "code",
   "execution_count": 580,
   "id": "8273eae0",
   "metadata": {},
   "outputs": [
    {
     "data": {
      "text/html": [
       "<div>\n",
       "<style scoped>\n",
       "    .dataframe tbody tr th:only-of-type {\n",
       "        vertical-align: middle;\n",
       "    }\n",
       "\n",
       "    .dataframe tbody tr th {\n",
       "        vertical-align: top;\n",
       "    }\n",
       "\n",
       "    .dataframe thead th {\n",
       "        text-align: right;\n",
       "    }\n",
       "</style>\n",
       "<table border=\"1\" class=\"dataframe\">\n",
       "  <thead>\n",
       "    <tr style=\"text-align: right;\">\n",
       "      <th></th>\n",
       "      <th>Date</th>\n",
       "    </tr>\n",
       "  </thead>\n",
       "  <tbody>\n",
       "    <tr>\n",
       "      <th>0</th>\n",
       "      <td>2023-05-13</td>\n",
       "    </tr>\n",
       "    <tr>\n",
       "      <th>1</th>\n",
       "      <td>2023-05-15</td>\n",
       "    </tr>\n",
       "    <tr>\n",
       "      <th>2</th>\n",
       "      <td>2023-05-17</td>\n",
       "    </tr>\n",
       "    <tr>\n",
       "      <th>3</th>\n",
       "      <td>2023-05-19</td>\n",
       "    </tr>\n",
       "    <tr>\n",
       "      <th>4</th>\n",
       "      <td>2023-05-21</td>\n",
       "    </tr>\n",
       "    <tr>\n",
       "      <th>5</th>\n",
       "      <td>2023-05-23</td>\n",
       "    </tr>\n",
       "  </tbody>\n",
       "</table>\n",
       "</div>"
      ],
      "text/plain": [
       "        Date\n",
       "0 2023-05-13\n",
       "1 2023-05-15\n",
       "2 2023-05-17\n",
       "3 2023-05-19\n",
       "4 2023-05-21\n",
       "5 2023-05-23"
      ]
     },
     "execution_count": 580,
     "metadata": {},
     "output_type": "execute_result"
    }
   ],
   "source": [
    "date = pd.date_range('2023-05-13',periods=6,freq='2D')\n",
    "data = pd.DataFrame(date,columns=['Date'])\n",
    "data"
   ]
  },
  {
   "cell_type": "code",
   "execution_count": 581,
   "id": "6a66635d",
   "metadata": {},
   "outputs": [
    {
     "data": {
      "text/html": [
       "<div>\n",
       "<style scoped>\n",
       "    .dataframe tbody tr th:only-of-type {\n",
       "        vertical-align: middle;\n",
       "    }\n",
       "\n",
       "    .dataframe tbody tr th {\n",
       "        vertical-align: top;\n",
       "    }\n",
       "\n",
       "    .dataframe thead th {\n",
       "        text-align: right;\n",
       "    }\n",
       "</style>\n",
       "<table border=\"1\" class=\"dataframe\">\n",
       "  <thead>\n",
       "    <tr style=\"text-align: right;\">\n",
       "      <th></th>\n",
       "      <th>Date</th>\n",
       "      <th>Day</th>\n",
       "      <th>Month</th>\n",
       "      <th>year</th>\n",
       "    </tr>\n",
       "  </thead>\n",
       "  <tbody>\n",
       "    <tr>\n",
       "      <th>0</th>\n",
       "      <td>2023-05-13</td>\n",
       "      <td>13</td>\n",
       "      <td>5</td>\n",
       "      <td>2023</td>\n",
       "    </tr>\n",
       "    <tr>\n",
       "      <th>1</th>\n",
       "      <td>2023-05-15</td>\n",
       "      <td>15</td>\n",
       "      <td>5</td>\n",
       "      <td>2023</td>\n",
       "    </tr>\n",
       "    <tr>\n",
       "      <th>2</th>\n",
       "      <td>2023-05-17</td>\n",
       "      <td>17</td>\n",
       "      <td>5</td>\n",
       "      <td>2023</td>\n",
       "    </tr>\n",
       "    <tr>\n",
       "      <th>3</th>\n",
       "      <td>2023-05-19</td>\n",
       "      <td>19</td>\n",
       "      <td>5</td>\n",
       "      <td>2023</td>\n",
       "    </tr>\n",
       "    <tr>\n",
       "      <th>4</th>\n",
       "      <td>2023-05-21</td>\n",
       "      <td>21</td>\n",
       "      <td>5</td>\n",
       "      <td>2023</td>\n",
       "    </tr>\n",
       "    <tr>\n",
       "      <th>5</th>\n",
       "      <td>2023-05-23</td>\n",
       "      <td>23</td>\n",
       "      <td>5</td>\n",
       "      <td>2023</td>\n",
       "    </tr>\n",
       "  </tbody>\n",
       "</table>\n",
       "</div>"
      ],
      "text/plain": [
       "        Date  Day  Month  year\n",
       "0 2023-05-13   13      5  2023\n",
       "1 2023-05-15   15      5  2023\n",
       "2 2023-05-17   17      5  2023\n",
       "3 2023-05-19   19      5  2023\n",
       "4 2023-05-21   21      5  2023\n",
       "5 2023-05-23   23      5  2023"
      ]
     },
     "execution_count": 581,
     "metadata": {},
     "output_type": "execute_result"
    }
   ],
   "source": [
    "data['Day'] = data['Date'].dt.day\n",
    "data['Month'] = data['Date'].dt.month\n",
    "data['year'] = data['Date'].dt.year\n",
    "data"
   ]
  },
  {
   "cell_type": "markdown",
   "id": "229fd978",
   "metadata": {},
   "source": [
    "# OTHER METHODS"
   ]
  },
  {
   "cell_type": "code",
   "execution_count": 582,
   "id": "8a7bb1a7",
   "metadata": {},
   "outputs": [
    {
     "data": {
      "text/html": [
       "<div>\n",
       "<style scoped>\n",
       "    .dataframe tbody tr th:only-of-type {\n",
       "        vertical-align: middle;\n",
       "    }\n",
       "\n",
       "    .dataframe tbody tr th {\n",
       "        vertical-align: top;\n",
       "    }\n",
       "\n",
       "    .dataframe thead th {\n",
       "        text-align: right;\n",
       "    }\n",
       "</style>\n",
       "<table border=\"1\" class=\"dataframe\">\n",
       "  <thead>\n",
       "    <tr style=\"text-align: right;\">\n",
       "      <th></th>\n",
       "      <th>state</th>\n",
       "      <th>capital</th>\n",
       "      <th>literacy %</th>\n",
       "      <th>temperature</th>\n",
       "    </tr>\n",
       "  </thead>\n",
       "  <tbody>\n",
       "    <tr>\n",
       "      <th>0</th>\n",
       "      <td>gujarat</td>\n",
       "      <td>None</td>\n",
       "      <td>0</td>\n",
       "      <td>32</td>\n",
       "    </tr>\n",
       "    <tr>\n",
       "      <th>1</th>\n",
       "      <td>maharastra</td>\n",
       "      <td>mumbai</td>\n",
       "      <td>70</td>\n",
       "      <td>36</td>\n",
       "    </tr>\n",
       "    <tr>\n",
       "      <th>2</th>\n",
       "      <td>rajastan</td>\n",
       "      <td>jaypur</td>\n",
       "      <td>78</td>\n",
       "      <td>37</td>\n",
       "    </tr>\n",
       "    <tr>\n",
       "      <th>3</th>\n",
       "      <td>madhaypradesh</td>\n",
       "      <td>bhopal</td>\n",
       "      <td>92</td>\n",
       "      <td>31</td>\n",
       "    </tr>\n",
       "    <tr>\n",
       "      <th>4</th>\n",
       "      <td>panjab</td>\n",
       "      <td>chhatishgadh</td>\n",
       "      <td>88</td>\n",
       "      <td>28</td>\n",
       "    </tr>\n",
       "  </tbody>\n",
       "</table>\n",
       "</div>"
      ],
      "text/plain": [
       "           state       capital  literacy %  temperature\n",
       "0        gujarat          None           0           32\n",
       "1     maharastra        mumbai          70           36\n",
       "2       rajastan        jaypur          78           37\n",
       "3  madhaypradesh        bhopal          92           31\n",
       "4         panjab  chhatishgadh          88           28"
      ]
     },
     "execution_count": 582,
     "metadata": {},
     "output_type": "execute_result"
    }
   ],
   "source": [
    "B.infer_objects()"
   ]
  },
  {
   "cell_type": "code",
   "execution_count": 583,
   "id": "b1a36d5f",
   "metadata": {},
   "outputs": [
    {
     "data": {
      "text/html": [
       "<div>\n",
       "<style scoped>\n",
       "    .dataframe tbody tr th:only-of-type {\n",
       "        vertical-align: middle;\n",
       "    }\n",
       "\n",
       "    .dataframe tbody tr th {\n",
       "        vertical-align: top;\n",
       "    }\n",
       "\n",
       "    .dataframe thead th {\n",
       "        text-align: right;\n",
       "    }\n",
       "</style>\n",
       "<table border=\"1\" class=\"dataframe\">\n",
       "  <thead>\n",
       "    <tr style=\"text-align: right;\">\n",
       "      <th></th>\n",
       "      <th>A</th>\n",
       "      <th>B</th>\n",
       "    </tr>\n",
       "  </thead>\n",
       "  <tbody>\n",
       "    <tr>\n",
       "      <th>0</th>\n",
       "      <td>a</td>\n",
       "      <td>d</td>\n",
       "    </tr>\n",
       "    <tr>\n",
       "      <th>1</th>\n",
       "      <td>b</td>\n",
       "      <td>e</td>\n",
       "    </tr>\n",
       "    <tr>\n",
       "      <th>2</th>\n",
       "      <td>c</td>\n",
       "      <td>f</td>\n",
       "    </tr>\n",
       "  </tbody>\n",
       "</table>\n",
       "</div>"
      ],
      "text/plain": [
       "   A  B\n",
       "0  a  d\n",
       "1  b  e\n",
       "2  c  f"
      ]
     },
     "execution_count": 583,
     "metadata": {},
     "output_type": "execute_result"
    }
   ],
   "source": [
    "df = pd.DataFrame({'A': ['a', 'b', 'c'],'B': ['x', 'y', 'z']})\n",
    "new_df = pd.DataFrame({'B': ['d', 'e', 'f', 'g', 'h', 'i']})\n",
    "df.update(new_df)\n",
    "df"
   ]
  },
  {
   "cell_type": "markdown",
   "id": "cf2abadf",
   "metadata": {},
   "source": [
    "# STORING DATAFRAME IN CSV FILE"
   ]
  },
  {
   "cell_type": "code",
   "execution_count": 584,
   "id": "301514cd",
   "metadata": {},
   "outputs": [],
   "source": [
    "A = {\n",
    "    \"state\" : [\"gujarat\",\"maharastra\",\"rajastan\",\"madhaypradesh\",\"panjab\"] ,\n",
    "    \"capital\" : ['None',\"mumbai\",\"jaypur\",\"bhopal\",\"chhatishgadh\"] ,\n",
    "    \"literacy %\" : [0,70,78,92,88] ,\n",
    "    \"temperature\" : [32,36,37,31,28] ,\n",
    "}\n",
    "B = pd.DataFrame(A)\n",
    "B.to_csv('DataFrame.csv')"
   ]
  },
  {
   "cell_type": "code",
   "execution_count": null,
   "id": "b8ace8a7",
   "metadata": {},
   "outputs": [],
   "source": []
  }
 ],
 "metadata": {
  "kernelspec": {
   "display_name": "Python 3 (ipykernel)",
   "language": "python",
   "name": "python3"
  },
  "language_info": {
   "codemirror_mode": {
    "name": "ipython",
    "version": 3
   },
   "file_extension": ".py",
   "mimetype": "text/x-python",
   "name": "python",
   "nbconvert_exporter": "python",
   "pygments_lexer": "ipython3",
   "version": "3.10.6"
  }
 },
 "nbformat": 4,
 "nbformat_minor": 5
}
