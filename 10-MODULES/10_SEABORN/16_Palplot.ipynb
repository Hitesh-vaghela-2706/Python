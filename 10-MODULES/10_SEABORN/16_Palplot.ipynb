{
 "cells": [
  {
   "cell_type": "code",
   "execution_count": 1,
   "id": "9d33b637",
   "metadata": {},
   "outputs": [],
   "source": [
    "import seaborn as sns"
   ]
  },
  {
   "cell_type": "code",
   "execution_count": 11,
   "id": "bf6d3f4a",
   "metadata": {},
   "outputs": [
    {
     "data": {
      "text/html": [
       "<svg  width=\"330\" height=\"55\"><rect x=\"0\" y=\"0\" width=\"55\" height=\"55\" style=\"fill:#6e90bf;stroke-width:2;stroke:rgb(255,255,255)\"/><rect x=\"55\" y=\"0\" width=\"55\" height=\"55\" style=\"fill:#aab8d0;stroke-width:2;stroke:rgb(255,255,255)\"/><rect x=\"110\" y=\"0\" width=\"55\" height=\"55\" style=\"fill:#e4e5eb;stroke-width:2;stroke:rgb(255,255,255)\"/><rect x=\"165\" y=\"0\" width=\"55\" height=\"55\" style=\"fill:#f2dfdd;stroke-width:2;stroke:rgb(255,255,255)\"/><rect x=\"220\" y=\"0\" width=\"55\" height=\"55\" style=\"fill:#d9a6a4;stroke-width:2;stroke:rgb(255,255,255)\"/><rect x=\"275\" y=\"0\" width=\"55\" height=\"55\" style=\"fill:#c26f6d;stroke-width:2;stroke:rgb(255,255,255)\"/></svg>"
      ],
      "text/plain": [
       "[(0.4305964, 0.56276546, 0.74956387),\n",
       " (0.66563334, 0.72242871, 0.81414642),\n",
       " (0.89443865, 0.89721298, 0.9202854),\n",
       " (0.94742246, 0.87278899, 0.86691076),\n",
       " (0.85164413, 0.65142189, 0.64145983),\n",
       " (0.76133542, 0.43410655, 0.42592523)]"
      ]
     },
     "execution_count": 11,
     "metadata": {},
     "output_type": "execute_result"
    }
   ],
   "source": [
    "sns.color_palette('vlag')"
   ]
  },
  {
   "cell_type": "code",
   "execution_count": 14,
   "id": "ad8cd856",
   "metadata": {},
   "outputs": [
    {
     "data": {
      "text/html": [
       "<svg  width=\"660\" height=\"55\"><rect x=\"0\" y=\"0\" width=\"55\" height=\"55\" style=\"fill:#ecf85d;stroke-width:2;stroke:rgb(255,255,255)\"/><rect x=\"55\" y=\"0\" width=\"55\" height=\"55\" style=\"fill:#f5f13f;stroke-width:2;stroke:rgb(255,255,255)\"/><rect x=\"110\" y=\"0\" width=\"55\" height=\"55\" style=\"fill:#fdea21;stroke-width:2;stroke:rgb(255,255,255)\"/><rect x=\"165\" y=\"0\" width=\"55\" height=\"55\" style=\"fill:#ffde14;stroke-width:2;stroke:rgb(255,255,255)\"/><rect x=\"220\" y=\"0\" width=\"55\" height=\"55\" style=\"fill:#ffd10c;stroke-width:2;stroke:rgb(255,255,255)\"/><rect x=\"275\" y=\"0\" width=\"55\" height=\"55\" style=\"fill:#ffc304;stroke-width:2;stroke:rgb(255,255,255)\"/><rect x=\"330\" y=\"0\" width=\"55\" height=\"55\" style=\"fill:#ffb900;stroke-width:2;stroke:rgb(255,255,255)\"/><rect x=\"385\" y=\"0\" width=\"55\" height=\"55\" style=\"fill:#ffb000;stroke-width:2;stroke:rgb(255,255,255)\"/><rect x=\"440\" y=\"0\" width=\"55\" height=\"55\" style=\"fill:#ffa600;stroke-width:2;stroke:rgb(255,255,255)\"/><rect x=\"495\" y=\"0\" width=\"55\" height=\"55\" style=\"fill:#ff9e00;stroke-width:2;stroke:rgb(255,255,255)\"/><rect x=\"550\" y=\"0\" width=\"55\" height=\"55\" style=\"fill:#fe9300;stroke-width:2;stroke:rgb(255,255,255)\"/><rect x=\"605\" y=\"0\" width=\"55\" height=\"55\" style=\"fill:#fd8900;stroke-width:2;stroke:rgb(255,255,255)\"/></svg>"
      ],
      "text/plain": [
       "[(0.9256747404844291, 0.973118031526336, 0.36622837370242217),\n",
       " (0.9588927335640138, 0.9448212226066898, 0.2481199538638985),\n",
       " (0.9921107266435987, 0.9165244136870434, 0.13001153402537485),\n",
       " (1.0, 0.8721107266435986, 0.07916955017301038),\n",
       " (1.0, 0.8192079969242599, 0.04718185313341025),\n",
       " (1.0, 0.7663052672049212, 0.015194156093810071),\n",
       " (1.0, 0.7242291426374472, 0.0),\n",
       " (1.0, 0.6885505574778932, 0.0),\n",
       " (1.0, 0.6528719723183392, 0.0),\n",
       " (0.999123414071511, 0.6178085351787774, 0.0),\n",
       " (0.9954325259515571, 0.5772087658592849, 0.0),\n",
       " (0.9917416378316033, 0.5366089965397924, 0.0)]"
      ]
     },
     "execution_count": 14,
     "metadata": {},
     "output_type": "execute_result"
    }
   ],
   "source": [
    "sns.color_palette('Wistia',12)"
   ]
  },
  {
   "cell_type": "code",
   "execution_count": 18,
   "id": "0dd99774",
   "metadata": {},
   "outputs": [
    {
     "data": {
      "text/html": [
       "<svg  width=\"660\" height=\"55\"><rect x=\"0\" y=\"0\" width=\"55\" height=\"55\" style=\"fill:#cfd67f;stroke-width:2;stroke:rgb(255,255,255)\"/><rect x=\"55\" y=\"0\" width=\"55\" height=\"55\" style=\"fill:#cdcb67;stroke-width:2;stroke:rgb(255,255,255)\"/><rect x=\"110\" y=\"0\" width=\"55\" height=\"55\" style=\"fill:#cdc252;stroke-width:2;stroke:rgb(255,255,255)\"/><rect x=\"165\" y=\"0\" width=\"55\" height=\"55\" style=\"fill:#cbb948;stroke-width:2;stroke:rgb(255,255,255)\"/><rect x=\"220\" y=\"0\" width=\"55\" height=\"55\" style=\"fill:#cab041;stroke-width:2;stroke:rgb(255,255,255)\"/><rect x=\"275\" y=\"0\" width=\"55\" height=\"55\" style=\"fill:#c8a63b;stroke-width:2;stroke:rgb(255,255,255)\"/><rect x=\"330\" y=\"0\" width=\"55\" height=\"55\" style=\"fill:#c7a038;stroke-width:2;stroke:rgb(255,255,255)\"/><rect x=\"385\" y=\"0\" width=\"55\" height=\"55\" style=\"fill:#c79a38;stroke-width:2;stroke:rgb(255,255,255)\"/><rect x=\"440\" y=\"0\" width=\"55\" height=\"55\" style=\"fill:#c79538;stroke-width:2;stroke:rgb(255,255,255)\"/><rect x=\"495\" y=\"0\" width=\"55\" height=\"55\" style=\"fill:#c79038;stroke-width:2;stroke:rgb(255,255,255)\"/><rect x=\"550\" y=\"0\" width=\"55\" height=\"55\" style=\"fill:#c68a38;stroke-width:2;stroke:rgb(255,255,255)\"/><rect x=\"605\" y=\"0\" width=\"55\" height=\"55\" style=\"fill:#c58438;stroke-width:2;stroke:rgb(255,255,255)\"/></svg>"
      ],
      "text/plain": [
       "[(0.8130340638216071, 0.839602306805075, 0.4997440984236833),\n",
       " (0.8025227220299884, 0.7946426758938869, 0.4044899653979239),\n",
       " (0.8024489042675895, 0.7601205690119185, 0.31967335640138406),\n",
       " (0.7974173010380624, 0.7257993079584776, 0.2817522491349479),\n",
       " (0.7903800076893504, 0.6891364859669359, 0.25680184544405993),\n",
       " (0.7833427143406382, 0.6524736639753941, 0.23185144175317185),\n",
       " (0.78, 0.6255683198769705, 0.21999999999999997),\n",
       " (0.78, 0.6055883121876202, 0.21999999999999997),\n",
       " (0.78, 0.58560830449827, 0.21999999999999997),\n",
       " (0.7793162629757786, 0.5657799307958478, 0.21980715109573234),\n",
       " (0.7764373702422145, 0.5422320645905421, 0.21899515570934258),\n",
       " (0.7735584775086506, 0.5186841983852365, 0.2181831603229527)]"
      ]
     },
     "execution_count": 18,
     "metadata": {},
     "output_type": "execute_result"
    }
   ],
   "source": [
    "sns.color_palette('Wistia',12,0.56)"
   ]
  },
  {
   "cell_type": "code",
   "execution_count": 25,
   "id": "42254978",
   "metadata": {},
   "outputs": [
    {
     "data": {
      "text/html": [
       "<svg  width=\"440\" height=\"55\"><rect x=\"0\" y=\"0\" width=\"55\" height=\"55\" style=\"fill:#a65d19;stroke-width:2;stroke:rgb(255,255,255)\"/><rect x=\"55\" y=\"0\" width=\"55\" height=\"55\" style=\"fill:#d28b37;stroke-width:2;stroke:rgb(255,255,255)\"/><rect x=\"110\" y=\"0\" width=\"55\" height=\"55\" style=\"fill:#f1c48b;stroke-width:2;stroke:rgb(255,255,255)\"/><rect x=\"165\" y=\"0\" width=\"55\" height=\"55\" style=\"fill:#f7e9d6;stroke-width:2;stroke:rgb(255,255,255)\"/><rect x=\"220\" y=\"0\" width=\"55\" height=\"55\" style=\"fill:#e6e7ef;stroke-width:2;stroke:rgb(255,255,255)\"/><rect x=\"275\" y=\"0\" width=\"55\" height=\"55\" style=\"fill:#c1bed7;stroke-width:2;stroke:rgb(255,255,255)\"/><rect x=\"330\" y=\"0\" width=\"55\" height=\"55\" style=\"fill:#8d83ae;stroke-width:2;stroke:rgb(255,255,255)\"/><rect x=\"385\" y=\"0\" width=\"55\" height=\"55\" style=\"fill:#593882;stroke-width:2;stroke:rgb(255,255,255)\"/></svg>"
      ],
      "text/plain": [
       "[(0.6502268358323721, 0.36381391772395233, 0.0979469434832757),\n",
       " (0.8245751633986927, 0.5450519031141868, 0.21533256439830828),\n",
       " (0.9437908496732027, 0.7681045751633987, 0.5464052287581699),\n",
       " (0.9681814686658978, 0.9146635909265667, 0.8397385620915032),\n",
       " (0.9037370242214533, 0.9073048827374086, 0.9376316801230296),\n",
       " (0.7569934640522875, 0.7444444444444445, 0.8437908496732027),\n",
       " (0.5521030372933488, 0.5150096116878125, 0.6827604767397155),\n",
       " (0.34999615532487527, 0.21866205305651676, 0.5106728181468666)]"
      ]
     },
     "execution_count": 25,
     "metadata": {},
     "output_type": "execute_result"
    }
   ],
   "source": [
    "sns.color_palette('PuOr',8,0.80,as_cmap = False) # default as_camp is False"
   ]
  },
  {
   "cell_type": "code",
   "execution_count": 28,
   "id": "4d0b71c5",
   "metadata": {},
   "outputs": [
    {
     "data": {
      "image/png": "[encoded data removed]",
      "text/html": [
       "<div style=\"vertical-align: middle;\"><strong>PuOr</strong> </div><div class=\"cmap\"><img alt=\"PuOr colormap\" title=\"PuOr\" style=\"border: 1px solid #555;\" src=\"data:image/png;base64,iVBORw0KGgoAAAANSUhEUgAAAgAAAABACAYAAABsv8+/AAAAE3RFWHRUaXRsZQBQdU9yIGNvbG9ybWFw1Lg2NQAAABl0RVh0RGVzY3JpcHRpb24AUHVPciBjb2xvcm1hcF8Kpq0AAAAwdEVYdEF1dGhvcgBNYXRwbG90bGliIHYzLjUuMiwgaHR0cHM6Ly9tYXRwbG90bGliLm9yZ8JaeJwAAAAydEVYdFNvZnR3YXJlAE1hdHBsb3RsaWIgdjMuNS4yLCBodHRwczovL21hdHBsb3RsaWIub3Jn7PznuwAAAiBJREFUeJzt1s1uozAYhlGTZjH3NBfXKwd3ERsJuwiaajSL95wN/TB2kv7pWT7//qmllPJYanldy8+uj7vP1zf3vfl6/bl2o99f+jzcP3+un3ucl7P97bpM94/nLCfvbzrn8fHW9dHnj3H9eW/feJ3OOZ53um+4ln5dnsd5v9/n5zCfrE/3T84f1++eP6z3z1vL47jefqB1mO+u1/LevtP1dt7lvvL6PauvP8+ytS/6XLdhbl9s+3y8P+7bztanc9r69v3z0/ua5vZcf7/99a/m+o+f379/P3x+n7fD/WleL9b7vP6f8+p47nqc63q23vZf7vt+/7zv3ute7ts/X5trn9eLuT+/Dt+ne8/N8+9et6/3/xYAQBABAACBBAAABBIAABBIAABAIAEAAIEEAAAEEgAAEEgAAEAgAQAAgQQAAAQSAAAQSAAAQCABAACBBAAABBIAABBIAABAIAEAAIEEAAAEEgAAEEgAAEAgAQAAgQQAAAQSAAAQSAAAQCABAACBBAAABBIAABBIAABAIAEAAIEEAAAEEgAAEEgAAEAgAQAAgQQAAAQSAAAQSAAAQCABAACBBAAABBIAABBIAABAIAEAAIEEAAAEEgAAEEgAAEAgAQAAgQQAAAQSAAAQSAAAQCABAACBBAAABBIAABBIAABAIAEAAIEEAAAEEgAAEEgAAEAgAQAAgQQAAAQSAAAQSAAAQCABAACBBAAABPoC5oJ7BvJpf9AAAAAASUVORK5CYII=\"></div><div style=\"vertical-align: middle; max-width: 514px; display: flex; justify-content: space-between;\"><div style=\"float: left;\"><div title=\"#7f3b08ff\" style=\"display: inline-block; width: 1em; height: 1em; margin: 0; vertical-align: middle; border: 1px solid #555; background-color: #7f3b08ff;\"></div> under</div><div style=\"margin: 0 auto; display: inline-block;\">bad <div title=\"#00000000\" style=\"display: inline-block; width: 1em; height: 1em; margin: 0; vertical-align: middle; border: 1px solid #555; background-color: #00000000;\"></div></div><div style=\"float: right;\">over <div title=\"#2d004bff\" style=\"display: inline-block; width: 1em; height: 1em; margin: 0; vertical-align: middle; border: 1px solid #555; background-color: #2d004bff;\"></div></div>"
      ],
      "text/plain": [
       "<matplotlib.colors.LinearSegmentedColormap at 0x259c868f5b0>"
      ]
     },
     "execution_count": 28,
     "metadata": {},
     "output_type": "execute_result"
    }
   ],
   "source": [
    "sns.color_palette('PuOr',as_cmap = True) # as_camp only true when colour len not given"
   ]
  },
  {
   "cell_type": "code",
   "execution_count": 29,
   "id": "8f1d1efd",
   "metadata": {},
   "outputs": [
    {
     "data": {
      "text/html": [
       "<svg  width=\"330\" height=\"55\"><rect x=\"0\" y=\"0\" width=\"55\" height=\"55\" style=\"fill:#c6690c;stroke-width:2;stroke:rgb(255,255,255)\"/><rect x=\"55\" y=\"0\" width=\"55\" height=\"55\" style=\"fill:#f9b158;stroke-width:2;stroke:rgb(255,255,255)\"/><rect x=\"110\" y=\"0\" width=\"55\" height=\"55\" style=\"fill:#fce6c8;stroke-width:2;stroke:rgb(255,255,255)\"/><rect x=\"165\" y=\"0\" width=\"55\" height=\"55\" style=\"fill:#e1e2ee;stroke-width:2;stroke:rgb(255,255,255)\"/><rect x=\"220\" y=\"0\" width=\"55\" height=\"55\" style=\"fill:#aba3cd;stroke-width:2;stroke:rgb(255,255,255)\"/><rect x=\"275\" y=\"0\" width=\"55\" height=\"55\" style=\"fill:#664697;stroke-width:2;stroke:rgb(255,255,255)\"/></svg>"
      ],
      "text/plain": [
       "[(0.7746251441753171, 0.4129181084198385, 0.04613610149942329),\n",
       " (0.9765474817377932, 0.6925028835063436, 0.34571318723567845),\n",
       " (0.9885428681276432, 0.9031910803537101, 0.7836985774702038),\n",
       " (0.8804306036139947, 0.8861207227989235, 0.9344867358708189),\n",
       " (0.671126489811611, 0.6404459823144946, 0.8030757400999616),\n",
       " (0.40046136101499424, 0.2756632064590542, 0.5914648212226067)]"
      ]
     },
     "execution_count": 29,
     "metadata": {},
     "output_type": "execute_result"
    }
   ],
   "source": [
    "sns.color_palette('PuOr',as_cmap = False) # if as_camp = false default all posible colour part returns"
   ]
  },
  {
   "cell_type": "code",
   "execution_count": 32,
   "id": "aa140e38",
   "metadata": {},
   "outputs": [
    {
     "data": {
      "text/html": [
       "<svg  width=\"1100\" height=\"55\"><rect x=\"0\" y=\"0\" width=\"55\" height=\"55\" style=\"fill:#393b79;stroke-width:2;stroke:rgb(255,255,255)\"/><rect x=\"55\" y=\"0\" width=\"55\" height=\"55\" style=\"fill:#5254a3;stroke-width:2;stroke:rgb(255,255,255)\"/><rect x=\"110\" y=\"0\" width=\"55\" height=\"55\" style=\"fill:#6b6ecf;stroke-width:2;stroke:rgb(255,255,255)\"/><rect x=\"165\" y=\"0\" width=\"55\" height=\"55\" style=\"fill:#9c9ede;stroke-width:2;stroke:rgb(255,255,255)\"/><rect x=\"220\" y=\"0\" width=\"55\" height=\"55\" style=\"fill:#637939;stroke-width:2;stroke:rgb(255,255,255)\"/><rect x=\"275\" y=\"0\" width=\"55\" height=\"55\" style=\"fill:#8ca252;stroke-width:2;stroke:rgb(255,255,255)\"/><rect x=\"330\" y=\"0\" width=\"55\" height=\"55\" style=\"fill:#b5cf6b;stroke-width:2;stroke:rgb(255,255,255)\"/><rect x=\"385\" y=\"0\" width=\"55\" height=\"55\" style=\"fill:#cedb9c;stroke-width:2;stroke:rgb(255,255,255)\"/><rect x=\"440\" y=\"0\" width=\"55\" height=\"55\" style=\"fill:#8c6d31;stroke-width:2;stroke:rgb(255,255,255)\"/><rect x=\"495\" y=\"0\" width=\"55\" height=\"55\" style=\"fill:#bd9e39;stroke-width:2;stroke:rgb(255,255,255)\"/><rect x=\"550\" y=\"0\" width=\"55\" height=\"55\" style=\"fill:#e7ba52;stroke-width:2;stroke:rgb(255,255,255)\"/><rect x=\"605\" y=\"0\" width=\"55\" height=\"55\" style=\"fill:#e7cb94;stroke-width:2;stroke:rgb(255,255,255)\"/><rect x=\"660\" y=\"0\" width=\"55\" height=\"55\" style=\"fill:#843c39;stroke-width:2;stroke:rgb(255,255,255)\"/><rect x=\"715\" y=\"0\" width=\"55\" height=\"55\" style=\"fill:#ad494a;stroke-width:2;stroke:rgb(255,255,255)\"/><rect x=\"770\" y=\"0\" width=\"55\" height=\"55\" style=\"fill:#d6616b;stroke-width:2;stroke:rgb(255,255,255)\"/><rect x=\"825\" y=\"0\" width=\"55\" height=\"55\" style=\"fill:#e7969c;stroke-width:2;stroke:rgb(255,255,255)\"/><rect x=\"880\" y=\"0\" width=\"55\" height=\"55\" style=\"fill:#7b4173;stroke-width:2;stroke:rgb(255,255,255)\"/><rect x=\"935\" y=\"0\" width=\"55\" height=\"55\" style=\"fill:#a55194;stroke-width:2;stroke:rgb(255,255,255)\"/><rect x=\"990\" y=\"0\" width=\"55\" height=\"55\" style=\"fill:#ce6dbd;stroke-width:2;stroke:rgb(255,255,255)\"/><rect x=\"1045\" y=\"0\" width=\"55\" height=\"55\" style=\"fill:#de9ed6;stroke-width:2;stroke:rgb(255,255,255)\"/></svg>"
      ],
      "text/plain": [
       "[(0.2235294117647059, 0.23137254901960785, 0.4745098039215686),\n",
       " (0.3215686274509804, 0.32941176470588235, 0.6392156862745098),\n",
       " (0.4196078431372549, 0.43137254901960786, 0.8117647058823529),\n",
       " (0.611764705882353, 0.6196078431372549, 0.8705882352941177),\n",
       " (0.38823529411764707, 0.4745098039215686, 0.2235294117647059),\n",
       " (0.5490196078431373, 0.6352941176470588, 0.3215686274509804),\n",
       " (0.7098039215686275, 0.8117647058823529, 0.4196078431372549),\n",
       " (0.807843137254902, 0.8588235294117647, 0.611764705882353),\n",
       " (0.5490196078431373, 0.42745098039215684, 0.19215686274509805),\n",
       " (0.7411764705882353, 0.6196078431372549, 0.2235294117647059),\n",
       " (0.9058823529411765, 0.7294117647058823, 0.3215686274509804),\n",
       " (0.9058823529411765, 0.796078431372549, 0.5803921568627451),\n",
       " (0.5176470588235295, 0.23529411764705882, 0.2235294117647059),\n",
       " (0.6784313725490196, 0.28627450980392155, 0.2901960784313726),\n",
       " (0.8392156862745098, 0.3803921568627451, 0.4196078431372549),\n",
       " (0.9058823529411765, 0.5882352941176471, 0.611764705882353),\n",
       " (0.4823529411764706, 0.2549019607843137, 0.45098039215686275),\n",
       " (0.6470588235294118, 0.3176470588235294, 0.5803921568627451),\n",
       " (0.807843137254902, 0.42745098039215684, 0.7411764705882353),\n",
       " (0.8705882352941177, 0.6196078431372549, 0.8392156862745098)]"
      ]
     },
     "execution_count": 32,
     "metadata": {},
     "output_type": "execute_result"
    }
   ],
   "source": [
    "sns.color_palette('tab20b',as_cmap = False) # if as_camp = false default all posible colour part returns"
   ]
  },
  {
   "cell_type": "code",
   "execution_count": 2,
   "id": "eb3fa67e",
   "metadata": {},
   "outputs": [
    {
     "data": {
      "image/png": "[encoded data removed]",
      "text/plain": [
       "<Figure size 1440x72 with 1 Axes>"
      ]
     },
     "metadata": {
      "needs_background": "light"
     },
     "output_type": "display_data"
    }
   ],
   "source": [
    "palette = sns.color_palette('tab20b') # plots the color palette as a horizontal array\n",
    "sns.palplot(palette)"
   ]
  },
  {
   "cell_type": "code",
   "execution_count": 3,
   "id": "30dc30c6",
   "metadata": {},
   "outputs": [
    {
     "data": {
      "image/png": "[encoded data removed]",
      "text/plain": [
       "<Figure size 432x72 with 1 Axes>"
      ]
     },
     "metadata": {
      "needs_background": "light"
     },
     "output_type": "display_data"
    }
   ],
   "source": [
    "palette = sns.color_palette('plasma') # plots the color palette as a horizontal array\n",
    "sns.palplot(palette)"
   ]
  },
  {
   "cell_type": "code",
   "execution_count": 4,
   "id": "3652ddae",
   "metadata": {},
   "outputs": [
    {
     "data": {
      "image/png": "[encoded data removed]",
      "text/plain": [
       "<Figure size 432x72 with 1 Axes>"
      ]
     },
     "metadata": {
      "needs_background": "light"
     },
     "output_type": "display_data"
    }
   ],
   "source": [
    "palette = sns.color_palette('magma') # plots the color palette as a horizontal array\n",
    "sns.palplot(palette)"
   ]
  },
  {
   "cell_type": "code",
   "execution_count": 9,
   "id": "44fa443a",
   "metadata": {},
   "outputs": [
    {
     "data": {
      "image/png": "[encoded data removed]",
      "text/plain": [
       "<Figure size 576x72 with 1 Axes>"
      ]
     },
     "metadata": {
      "needs_background": "light"
     },
     "output_type": "display_data"
    }
   ],
   "source": [
    "palette1 = 'PuOr'\n",
    "n_colors = 8\n",
    "prop = 0.99 #between 0-1 also called desat(opacity)\n",
    "as_cmap = False\n",
    "palette = sns.color_palette(palette1,n_colors,prop,as_cmap)\n",
    "sns.palplot(palette)"
   ]
  }
 ],
 "metadata": {
  "kernelspec": {
   "display_name": "Python 3 (ipykernel)",
   "language": "python",
   "name": "python3"
  },
  "language_info": {
   "codemirror_mode": {
    "name": "ipython",
    "version": 3
   },
   "file_extension": ".py",
   "mimetype": "text/x-python",
   "name": "python",
   "nbconvert_exporter": "python",
   "pygments_lexer": "ipython3",
   "version": "3.9.11"
  }
 },
 "nbformat": 4,
 "nbformat_minor": 5
}
