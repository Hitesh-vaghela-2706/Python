{
 "cells": [
  {
   "cell_type": "code",
   "execution_count": 4,
   "id": "6bf7ed4c",
   "metadata": {},
   "outputs": [],
   "source": [
    "# Prac5 : Display the statistic regarding the number of records according to the following criteria on the various attributes:\n",
    "import numpy as np\n",
    "import pandas as pd\n",
    "df = pd.read_csv(\"loan_data_set.csv\")\n"
   ]
  },
  {
   "cell_type": "code",
   "execution_count": 5,
   "id": "62170d94",
   "metadata": {},
   "outputs": [
    {
     "name": "stdout",
     "output_type": "stream",
     "text": [
      "Dependents\n",
      "0     345\n",
      "1     102\n",
      "2     101\n",
      "3+     51\n",
      "Name: Dependents, dtype: int64\n"
     ]
    },
    {
     "data": {
      "text/plain": [
       "<AxesSubplot:title={'center':'Statistics based on the Dependent Attribute Values'}, xlabel='Dependents'>"
      ]
     },
     "execution_count": 5,
     "metadata": {},
     "output_type": "execute_result"
    },
    {
     "data": {
      "image/png": "[encoded data removed]",
      "text/plain": [
       "<Figure size 432x288 with 1 Axes>"
      ]
     },
     "metadata": {
      "needs_background": "light"
     },
     "output_type": "display_data"
    }
   ],
   "source": [
    "# a. Groupby the number of records based on the Dependents attribute and display their statistics.\n",
    "dependentsCount = df.groupby(\"Dependents\")[\"Dependents\"].count()\n",
    "print(dependentsCount)\n",
    "dependentsCount.plot(kind='bar', title=\"Statistics based on the Dependent Attribute Values\")\n"
   ]
  },
  {
   "cell_type": "code",
   "execution_count": 6,
   "id": "48a3a801",
   "metadata": {},
   "outputs": [
    {
     "data": {
      "text/plain": [
       "ApplicantIncome\n",
       "(0.0, 10000.0]        562\n",
       "(10000.0, 20000.0]     40\n",
       "(20000.0, inf]         12\n",
       "Name: ApplicantIncome, dtype: int64"
      ]
     },
     "execution_count": 6,
     "metadata": {},
     "output_type": "execute_result"
    }
   ],
   "source": [
    "# b. Groupby the numbers of records based on the ApplicantIncome attribute (1-10000 Group-1, 10001-20000 Group-2 and 20001 to any amount- Group-3) and display frequency of such records.\n",
    "\n",
    "df.groupby( pd.cut( df[\"ApplicantIncome\"], [0, 10000, 20000, np.inf] ) )[\"ApplicantIncome\"].count()\n"
   ]
  },
  {
   "cell_type": "code",
   "execution_count": null,
   "id": "7cea0d26",
   "metadata": {},
   "outputs": [],
   "source": []
  }
 ],
 "metadata": {
  "kernelspec": {
   "display_name": "Python 3 (ipykernel)",
   "language": "python",
   "name": "python3"
  },
  "language_info": {
   "codemirror_mode": {
    "name": "ipython",
    "version": 3
   },
   "file_extension": ".py",
   "mimetype": "text/x-python",
   "name": "python",
   "nbconvert_exporter": "python",
   "pygments_lexer": "ipython3",
   "version": "3.9.11"
  }
 },
 "nbformat": 4,
 "nbformat_minor": 5
}
