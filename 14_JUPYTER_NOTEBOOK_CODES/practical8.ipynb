{
 "cells": [
  {
   "cell_type": "code",
   "execution_count": 2,
   "id": "f8fd3263",
   "metadata": {},
   "outputs": [],
   "source": [
    "import requests\n",
    "import lxml.html\n",
    "import cssselect"
   ]
  },
  {
   "cell_type": "code",
   "execution_count": 5,
   "id": "9fe9fd2b",
   "metadata": {},
   "outputs": [
    {
     "ename": "NameError",
     "evalue": "name 'responce' is not defined",
     "output_type": "error",
     "traceback": [
      "\u001b[1;31m---------------------------------------------------------------------------\u001b[0m",
      "\u001b[1;31mNameError\u001b[0m                                 Traceback (most recent call last)",
      "Input \u001b[1;32mIn [5]\u001b[0m, in \u001b[0;36m<cell line: 2>\u001b[1;34m()\u001b[0m\n\u001b[0;32m      1\u001b[0m response \u001b[38;5;241m=\u001b[39m requests\u001b[38;5;241m.\u001b[39mget(\u001b[38;5;124m'\u001b[39m\u001b[38;5;124mhttp://ldce.ac.in/\u001b[39m\u001b[38;5;124m'\u001b[39m)\n\u001b[1;32m----> 2\u001b[0m \u001b[38;5;28mprint\u001b[39m(\u001b[43mresponce\u001b[49m\u001b[38;5;241m.\u001b[39mtext)\n",
      "\u001b[1;31mNameError\u001b[0m: name 'responce' is not defined"
     ]
    }
   ],
   "source": [
    "response = requests.get('http://ldce.ac.in/')\n",
    "print(responce.text)"
   ]
  },
  {
   "cell_type": "code",
   "execution_count": 6,
   "id": "dbab991e",
   "metadata": {},
   "outputs": [
    {
     "name": "stdout",
     "output_type": "stream",
     "text": [
      "title tag:  title\n",
      "title text:  L. D. College of Engineering\n",
      "title html:  b'<title>L. D. College of Engineering</title>\\n'\n",
      "title tag:  title\n",
      "title's parent tag:  head\n"
     ]
    }
   ],
   "source": [
    "tree = lxml.html.fromstring(response.text)\n",
    "title_elem = tree.xpath('//title')[0]\n",
    "title_elem = tree.cssselect('title')[0]\n",
    "print(\"title tag: \", title_elem.tag)\n",
    "print(\"title text: \", title_elem.text_content())\n",
    "print(\"title html: \", lxml.html.tostring(title_elem))\n",
    "print(\"title tag: \", title_elem.tag)\n",
    "print(\"title's parent tag: \", title_elem.getparent().tag)\n"
   ]
  },
  {
   "cell_type": "code",
   "execution_count": null,
   "id": "b8b29c2f",
   "metadata": {},
   "outputs": [],
   "source": []
  }
 ],
 "metadata": {
  "kernelspec": {
   "display_name": "Python 3 (ipykernel)",
   "language": "python",
   "name": "python3"
  },
  "language_info": {
   "codemirror_mode": {
    "name": "ipython",
    "version": 3
   },
   "file_extension": ".py",
   "mimetype": "text/x-python",
   "name": "python",
   "nbconvert_exporter": "python",
   "pygments_lexer": "ipython3",
   "version": "3.9.11"
  }
 },
 "nbformat": 4,
 "nbformat_minor": 5
}
