{
 "cells": [
  {
   "cell_type": "code",
   "execution_count": 14,
   "id": "00d0b56a",
   "metadata": {},
   "outputs": [],
   "source": [
    "import numpy as np"
   ]
  },
  {
   "cell_type": "code",
   "execution_count": 15,
   "id": "b7267f0a",
   "metadata": {},
   "outputs": [],
   "source": [
    "file1 = open('doc.txt')\n",
    "Lines = file1.readlines()"
   ]
  },
  {
   "cell_type": "code",
   "execution_count": 16,
   "id": "65d09209",
   "metadata": {},
   "outputs": [],
   "source": [
    "def word_extraction(sentence):\n",
    "    words = sentence.split()\n",
    "    words = [w.lower() for w in words]\n",
    "    return words"
   ]
  },
  {
   "cell_type": "code",
   "execution_count": 17,
   "id": "b041d28e",
   "metadata": {},
   "outputs": [],
   "source": [
    "def tokenize(sentences):\n",
    "    words = []\n",
    "    for sentence in sentences:\n",
    "        w = word_extraction(sentence)\n",
    "        words.extend(w)\n",
    "    words=sorted(list(set(words)))\n",
    "    return words"
   ]
  },
  {
   "cell_type": "code",
   "execution_count": 18,
   "id": "b91e119e",
   "metadata": {},
   "outputs": [],
   "source": [
    "def generate_bow(Lines):\n",
    "    vocab=sorted(tokenize(Lines))\n",
    "    return vocab"
   ]
  },
  {
   "cell_type": "code",
   "execution_count": 19,
   "id": "e7f2aa15",
   "metadata": {},
   "outputs": [
    {
     "name": "stdout",
     "output_type": "stream",
     "text": [
      "the vocabulary :\n",
      "{0} ['hello', 'hitesh', 'is', 'my', 'name', 'vaghela']\n"
     ]
    }
   ],
   "source": [
    "vocab = generate_bow(Lines)\n",
    "print(\"the vocabulary :\\n{0}\",format(vocab))\n",
    "matrix_repre= np.zeros((len(Lines),len(vocab)))"
   ]
  },
  {
   "cell_type": "code",
   "execution_count": 20,
   "id": "8871527c",
   "metadata": {},
   "outputs": [
    {
     "name": "stdout",
     "output_type": "stream",
     "text": [
      "{0} [[1. 1. 1. 1. 1. 1.]]\n"
     ]
    }
   ],
   "source": [
    "for j,sentence in enumerate(Lines):\n",
    "    words = word_extraction(sentence)\n",
    "    for word in words:\n",
    "        index = vocab.index(word)\n",
    "        matrix_repre[j,index] += 1\n",
    "print('{0}',format(np.array(matrix_repre)))"
   ]
  },
  {
   "cell_type": "code",
   "execution_count": 11,
   "id": "e78d85c9",
   "metadata": {},
   "outputs": [
    {
     "name": "stdout",
     "output_type": "stream",
     "text": [
      "['hello my name is hitesh vaghela']\n"
     ]
    },
    {
     "data": {
      "text/plain": [
       "{'hello': 0, 'hitesh': 1, 'is': 2, 'my': 3, 'name': 4, 'vaghela': 5}"
      ]
     },
     "execution_count": 11,
     "metadata": {},
     "output_type": "execute_result"
    }
   ],
   "source": [
    "print(Lines)\n",
    "dict(zip(vocab,range(len(vocab))))"
   ]
  }
 ],
 "metadata": {
  "kernelspec": {
   "display_name": "Python 3 (ipykernel)",
   "language": "python",
   "name": "python3"
  },
  "language_info": {
   "codemirror_mode": {
    "name": "ipython",
    "version": 3
   },
   "file_extension": ".py",
   "mimetype": "text/x-python",
   "name": "python",
   "nbconvert_exporter": "python",
   "pygments_lexer": "ipython3",
   "version": "3.9.11"
  }
 },
 "nbformat": 4,
 "nbformat_minor": 5
}
