{
 "cells": [
  {
   "cell_type": "code",
   "execution_count": null,
   "id": "b29bb2cf",
   "metadata": {},
   "outputs": [],
   "source": [
    "import pandas as pd\n",
    "import sklearn.feature_extraction.text \n",
    "import TfidfVectorizer"
   ]
  },
  {
   "cell_type": "code",
   "execution_count": null,
   "id": "c5e4670e",
   "metadata": {},
   "outputs": [],
   "source": [
    "documentA = 'the man went out for a walk'\n",
    "documentB = 'the children sat around the fire'"
   ]
  },
  {
   "cell_type": "code",
   "execution_count": null,
   "id": "f21d4d70",
   "metadata": {},
   "outputs": [],
   "source": [
    "bagOfWordsA = documentA.split(' ')\n",
    "bagOfWordsB = documentB.split(' ')\n",
    "print(bagOfWordsA)\n",
    "print(bagOfWordsB)"
   ]
  },
  {
   "cell_type": "code",
   "execution_count": null,
   "id": "39456c39",
   "metadata": {},
   "outputs": [],
   "source": [
    "uniqueWords = set(bagOfWordsA).union(set(bagOfWordsB))"
   ]
  },
  {
   "cell_type": "code",
   "execution_count": null,
   "id": "eb0e9a0d",
   "metadata": {},
   "outputs": [],
   "source": [
    "numOfWordsA = dict.fromkeys(uniqueWords,0)\n",
    "numOfWordsB = dict.fromkeys(uniqueWords,0)"
   ]
  },
  {
   "cell_type": "code",
   "execution_count": null,
   "id": "0645274b",
   "metadata": {},
   "outputs": [],
   "source": [
    "for word in bagOfWordsA:\n",
    "    numOfWordsA[word]+=1 \n",
    "for word in bagOfWordsB:\n",
    "    numOfWordsB[word]+=1"
   ]
  },
  {
   "cell_type": "code",
   "execution_count": null,
   "id": "b6b35742",
   "metadata": {},
   "outputs": [],
   "source": [
    "pd.DataFrame([numOfWordsA,numOfWordsB])"
   ]
  },
  {
   "cell_type": "code",
   "execution_count": null,
   "id": "dfa73b3a",
   "metadata": {},
   "outputs": [],
   "source": [
    "def computeTF(wordDict , bagOfWords):\n",
    "    tfDict = {}\n",
    "    bagOfWordsCount = len(bagOfWords)\n",
    "    for word,count in wordDict.items():\n",
    "        tfDict[word] = count/float(bagOfWordsCount)\n",
    "    return tfDict"
   ]
  },
  {
   "cell_type": "code",
   "execution_count": null,
   "id": "8d888d7a",
   "metadata": {},
   "outputs": [],
   "source": [
    "tfA = computeTF(numOfWordsA, bagOfWordsA)\n",
    "tfB = computeTF(numOfWordsB, bagOfWordsB)"
   ]
  },
  {
   "cell_type": "code",
   "execution_count": null,
   "id": "25be715c",
   "metadata": {},
   "outputs": [],
   "source": [
    "def computeIDF(documents):\n",
    "    import math\n",
    "    N = len(documents)\n",
    "    idfDict = dict.fromkeys(documents[0].keys(), 0)\n",
    "    for document in documents:\n",
    "        for word , val in document.items():\n",
    "            if val > 0:\n",
    "                idfDict[word] += 1\n",
    "    for word,val in idfDict.items():\n",
    "            idfDict[word] = math.log(N / float(val))\n",
    "    return idfDict"
   ]
  },
  {
   "cell_type": "code",
   "execution_count": null,
   "id": "668a57e5",
   "metadata": {},
   "outputs": [],
   "source": [
    "idfs = computeIDF([numOfWordsA, numOfWordsB])"
   ]
  },
  {
   "cell_type": "code",
   "execution_count": null,
   "id": "15561073",
   "metadata": {},
   "outputs": [],
   "source": [
    "def computeTFIDF(tfBagOfWords, idfs):\n",
    "    tfidf = {}\n",
    "    for word,val in tfBagOfWords.items():\n",
    "        tfidf[word] = val * idfs[word]\n",
    "    return tfidf"
   ]
  },
  {
   "cell_type": "code",
   "execution_count": null,
   "id": "e864c6a9",
   "metadata": {},
   "outputs": [],
   "source": [
    "tfidA = computeTFIDF(tfA,idfs)\n",
    "tfidB = computeTFIDF(tfB,idfs)"
   ]
  },
  {
   "cell_type": "code",
   "execution_count": null,
   "id": "836cd089",
   "metadata": {},
   "outputs": [],
   "source": [
    "df = pd.DataFrame([tfidA,tfidB])\n",
    "df"
   ]
  }
 ],
 "metadata": {
  "kernelspec": {
   "display_name": "Python 3.9.11 64-bit",
   "language": "python",
   "name": "python3"
  },
  "language_info": {
   "codemirror_mode": {
    "name": "ipython",
    "version": 3
   },
   "file_extension": ".py",
   "mimetype": "text/x-python",
   "name": "python",
   "nbconvert_exporter": "python",
   "pygments_lexer": "ipython3",
   "version": "3.9.11"
  },
  "vscode": {
   "interpreter": {
    "hash": "3f0a9274e75c54eb3e70f4e922c22401024819649077c3b94c640e414f9dfbbe"
   }
  }
 },
 "nbformat": 4,
 "nbformat_minor": 5
}
