{
 "cells": [
  {
   "cell_type": "code",
   "execution_count": 21,
   "id": "8ef9f481",
   "metadata": {},
   "outputs": [],
   "source": [
    "import random \n",
    "import calendar \n",
    "import pandas as pd\n",
    "import numpy as np\n",
    "import matplotlib.pyplot as plt"
   ]
  },
  {
   "cell_type": "code",
   "execution_count": 22,
   "id": "24e906e6",
   "metadata": {},
   "outputs": [],
   "source": [
    "df = pd.read_csv(\"loan_data_set.csv\")"
   ]
  },
  {
   "cell_type": "code",
   "execution_count": 23,
   "id": "50f89f8d",
   "metadata": {},
   "outputs": [],
   "source": [
    "l1=[]\n",
    "for i in range(0 ,13):\n",
    "    l1.append(calendar.month_abbr[i]) \n",
    "l2=[]\n",
    "for j in range(len(df)):\n",
    "    l2.append(l1[np.random.randint(1,12)])"
   ]
  },
  {
   "cell_type": "code",
   "execution_count": 24,
   "id": "2f508ce9",
   "metadata": {},
   "outputs": [],
   "source": [
    "df['month'] = l2\n",
    "df=df.loc[:,['month','Gender']]\n",
    "df['Gender'].unique() \n",
    "df=df[df['Gender']=='Male']\n",
    "total=df['Gender'].count()\n",
    "df=df.groupby(['month'],as_index=False)['Gender'].count() \n",
    "df=df.sort_values(by='Gender',ascending=False)\n",
    "df['p_male']=round(df['Gender'].div(total)*100,2)"
   ]
  },
  {
   "cell_type": "code",
   "execution_count": 25,
   "id": "afb6247c",
   "metadata": {},
   "outputs": [
    {
     "data": {
      "text/plain": [
       "Text(0, 0.5, 'Percentage')"
      ]
     },
     "execution_count": 25,
     "metadata": {},
     "output_type": "execute_result"
    },
    {
     "data": {
      "image/png": "[encoded data removed]",
      "text/plain": [
       "<Figure size 432x288 with 1 Axes>"
      ]
     },
     "metadata": {
      "needs_background": "light"
     },
     "output_type": "display_data"
    }
   ],
   "source": [
    "plt.bar(df['month'],df['p_male'])\n",
    "plt.xlabel('month') \n",
    "plt.ylabel('Percentage')"
   ]
  },
  {
   "cell_type": "code",
   "execution_count": null,
   "id": "ee9b88b4",
   "metadata": {},
   "outputs": [],
   "source": []
  }
 ],
 "metadata": {
  "kernelspec": {
   "display_name": "Python 3 (ipykernel)",
   "language": "python",
   "name": "python3"
  },
  "language_info": {
   "codemirror_mode": {
    "name": "ipython",
    "version": 3
   },
   "file_extension": ".py",
   "mimetype": "text/x-python",
   "name": "python",
   "nbconvert_exporter": "python",
   "pygments_lexer": "ipython3",
   "version": "3.9.6"
  }
 },
 "nbformat": 4,
 "nbformat_minor": 5
}
