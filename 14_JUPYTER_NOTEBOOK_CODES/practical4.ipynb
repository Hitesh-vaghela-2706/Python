{
 "cells": [
  {
   "cell_type": "code",
   "execution_count": 1,
   "id": "d092fdc8",
   "metadata": {},
   "outputs": [],
   "source": [
    "# Prac4: Consider loan dataset. \n",
    "# Display the statistics about number of\n",
    "#  candidates who have applied for loan\n",
    "#  based on the gender, marital status. \n",
    "# Plot this using simple graph.\n",
    "import pandas as pd\n",
    "import matplotlib.pyplot as plt\n"
   ]
  },
  {
   "cell_type": "code",
   "execution_count": 2,
   "id": "9ed09581",
   "metadata": {},
   "outputs": [
    {
     "name": "stdout",
     "output_type": "stream",
     "text": [
      "Gender  Loan_Status  Married\n",
      "Male    Y            Yes        256\n",
      "        N            Yes        101\n",
      "        Y            No          81\n",
      "Female  Y            No          51\n",
      "Male    N            No          49\n",
      "Female  N            No          29\n",
      "        Y            Yes         23\n",
      "        N            Yes          8\n",
      "dtype: int64\n"
     ]
    }
   ],
   "source": [
    "df = pd.read_csv(\"loan_data_set.csv\")\n",
    "\n",
    "subset = df[[\"Gender\", \"Loan_Status\", \"Married\"]].value_counts()\n",
    "print(subset)\n"
   ]
  },
  {
   "cell_type": "code",
   "execution_count": 3,
   "id": "98ba901c",
   "metadata": {},
   "outputs": [
    {
     "data": {
      "text/plain": [
       "<AxesSubplot:title={'center':'Statistics'}, xlabel='Gender,Loan_Status,Married'>"
      ]
     },
     "execution_count": 3,
     "metadata": {},
     "output_type": "execute_result"
    },
    {
     "data": {
      "image/png": "[encoded data removed]",
      "text/plain": [
       "<Figure size 432x288 with 1 Axes>"
      ]
     },
     "metadata": {
      "needs_background": "light"
     },
     "output_type": "display_data"
    }
   ],
   "source": [
    "subset.plot(kind='bar', title=\"Statistics\")"
   ]
  },
  {
   "cell_type": "code",
   "execution_count": null,
   "id": "bc55ca1b",
   "metadata": {},
   "outputs": [],
   "source": []
  }
 ],
 "metadata": {
  "kernelspec": {
   "display_name": "Python 3 (ipykernel)",
   "language": "python",
   "name": "python3"
  },
  "language_info": {
   "codemirror_mode": {
    "name": "ipython",
    "version": 3
   },
   "file_extension": ".py",
   "mimetype": "text/x-python",
   "name": "python",
   "nbconvert_exporter": "python",
   "pygments_lexer": "ipython3",
   "version": "3.9.11"
  }
 },
 "nbformat": 4,
 "nbformat_minor": 5
}
