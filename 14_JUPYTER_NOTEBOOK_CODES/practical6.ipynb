{
 "cells": [
  {
   "cell_type": "code",
   "execution_count": 1,
   "id": "afbd62f9",
   "metadata": {},
   "outputs": [],
   "source": [
    "import pandas as pd\n",
    "df = pd.read_csv(\"loan_data_set.csv\")\n"
   ]
  },
  {
   "cell_type": "code",
   "execution_count": 2,
   "id": "4ab666e7",
   "metadata": {},
   "outputs": [
    {
     "name": "stdout",
     "output_type": "stream",
     "text": [
      "False    551\n",
      "True      63\n",
      "dtype: int64\n"
     ]
    }
   ],
   "source": [
    "# a. Applicant income is above 5000 and property area is Urban\n",
    "A = ((df[\"ApplicantIncome\"] > 5000) & (df[\"Property_Area\"] == \"Urban\")).value_counts()\n",
    "print(A)\n"
   ]
  },
  {
   "cell_type": "code",
   "execution_count": 3,
   "id": "d7dbd463",
   "metadata": {},
   "outputs": [
    {
     "name": "stdout",
     "output_type": "stream",
     "text": [
      "False    611\n",
      "True       3\n",
      "dtype: int64\n"
     ]
    }
   ],
   "source": [
    "# b. Coapplicant income is above 10000 and property area is Urban\n",
    "B = ((df[\"CoapplicantIncome\"] > 10000) & (df[\"Property_Area\"] == \"Urban\")).value_counts()\n",
    "print(B)\n"
   ]
  },
  {
   "cell_type": "code",
   "execution_count": 4,
   "id": "7d6bc64b",
   "metadata": {},
   "outputs": [
    {
     "name": "stdout",
     "output_type": "stream",
     "text": [
      "False    605\n",
      "True       9\n",
      "dtype: int64\n"
     ]
    }
   ],
   "source": [
    "# c. Coapplicant income is above 5000 and property area is Rural\n",
    "C = ((df[\"CoapplicantIncome\"] > 5000) & (df[\"Property_Area\"] == \"Rural\")).value_counts()\n",
    "print(C)\n"
   ]
  },
  {
   "cell_type": "code",
   "execution_count": 5,
   "id": "5f8a09e2",
   "metadata": {},
   "outputs": [
    {
     "name": "stdout",
     "output_type": "stream",
     "text": [
      "False    549\n",
      "True      65\n",
      "dtype: int64\n"
     ]
    }
   ],
   "source": [
    "# d. Applicant income is below 5000 and property area is Semiurban\n",
    "D = ((df[\"ApplicantIncome\"] > 5000) & (df[\"Property_Area\"] == \"Semiurban\")).value_counts()\n",
    "print(D)\n"
   ]
  },
  {
   "cell_type": "code",
   "execution_count": null,
   "id": "d2f126ee",
   "metadata": {},
   "outputs": [],
   "source": []
  }
 ],
 "metadata": {
  "kernelspec": {
   "display_name": "Python 3 (ipykernel)",
   "language": "python",
   "name": "python3"
  },
  "language_info": {
   "codemirror_mode": {
    "name": "ipython",
    "version": 3
   },
   "file_extension": ".py",
   "mimetype": "text/x-python",
   "name": "python",
   "nbconvert_exporter": "python",
   "pygments_lexer": "ipython3",
   "version": "3.9.6"
  }
 },
 "nbformat": 4,
 "nbformat_minor": 5
}
