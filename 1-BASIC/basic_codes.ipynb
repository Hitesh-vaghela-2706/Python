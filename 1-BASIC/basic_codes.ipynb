{
 "cells": [
  {
   "cell_type": "code",
   "execution_count": 1,
   "id": "266107f9-0ea1-48b7-b4b3-539caf3189f8",
   "metadata": {},
   "outputs": [
    {
     "name": "stdout",
     "output_type": "stream",
     "text": [
      "<class 'int'>\n",
      "<class 'float'>\n",
      "<class 'str'>\n",
      "<class 'bool'>\n",
      "<class 'NoneType'>\n"
     ]
    }
   ],
   "source": [
    "# variables and its datatypes\n",
    "A = 3\n",
    "print(type(A)) # Returns datatype\n",
    "B = 3.0\n",
    "print(type(B)) # Returns datatype\n",
    "C = \"hitesh\"\n",
    "print(type(C)) # Returns datatype\n",
    "D = True\n",
    "print(type(D)) # Returns datatype\n",
    "E = None\n",
    "print(type(E)) # Returns datatype"
   ]
  },
  {
   "cell_type": "code",
   "execution_count": 2,
   "id": "dcf4f8a3-9bd4-4740-85bf-3548511b6f4d",
   "metadata": {},
   "outputs": [
    {
     "name": "stdout",
     "output_type": "stream",
     "text": [
      "enter your nameHitesh\n",
      "Hitesh\n",
      "<class 'str'>\n",
      "enter a number8\n",
      "<class 'str'>\n",
      "8\n",
      "<class 'int'>\n",
      "enter a number5\n",
      "<class 'int'>\n",
      "enter a number45\n"
     ]
    }
   ],
   "source": [
    "# write a program to take value from user\n",
    "A = input(\"enter your name\")\n",
    "print(A)\n",
    "print(type(A))\n",
    "B = input(\"enter a number\")\n",
    "print(type(B))\n",
    "#  here type of B is string but if...\n",
    "#  we want number in integer form so...\n",
    "B = int(B)\n",
    "print(B)\n",
    "print(type(B))\n",
    "# direct convert into integer\n",
    "C = int(input(\"enter a number\"))\n",
    "print(type(C)) \n",
    "# convert in float\n",
    "C = float(input(\"enter a number\"))\n",
    "# convert in string\n",
    "A = 245\n",
    "B = str(A)\n"
   ]
  },
  {
   "cell_type": "code",
   "execution_count": 3,
   "id": "929cca78-f8a0-466b-8a0d-0c5f93cbb013",
   "metadata": {},
   "outputs": [
    {
     "name": "stdout",
     "output_type": "stream",
     "text": [
      "ENTER FIRST STRING :- Hitesh\n",
      "Hitesh\n",
      "ENTER SECOND STRING :- Vaghela\n",
      "Vaghela\n",
      "enter a name :- hrv\n",
      "hrv\n"
     ]
    }
   ],
   "source": [
    "''' PROGRAM 1 :-\n",
    " Write a program in python for inputting two strings and\n",
    "displaying them on console.Use input() functions. '''\n",
    "no=input(\"ENTER FIRST STRING :- \")\n",
    "print(no)\n",
    "no2=input(\"ENTER SECOND STRING :- \")\n",
    "print(no2)\n",
    "\n",
    "b = input(\"enter a name :- \")\n",
    "print(b)"
   ]
  },
  {
   "cell_type": "code",
   "execution_count": 4,
   "id": "139c868e-16be-46f3-99ee-dc18ae294e10",
   "metadata": {},
   "outputs": [
    {
     "name": "stdout",
     "output_type": "stream",
     "text": [
      "hello world\n",
      "Hitesh\n",
      "Rameshbhai\n",
      "vaghela\n",
      "Ganpati \t Fatsar Siddhinagar \t Society\n",
      "enter a name \t hitesh\n",
      "good morning hitesh\n"
     ]
    }
   ],
   "source": [
    "# write a program to print hello world\n",
    "print(\"hello world\")\n",
    "# write a program to print your name\n",
    "print(\"Hitesh\\nRameshbhai\")\n",
    "print(\"vaghela\")\n",
    "#write a program to print your address \n",
    "print(\"Ganpati \\t Fatsar Siddhinagar \\t Society\" )\n",
    "# write a python program to display entered name followed by\n",
    "# good morning\n",
    "a = input(\"enter a name \\t \")\n",
    "print(\"good morning \" + a)\n",
    "# print(\"good morning \", a) same output"
   ]
  },
  {
   "cell_type": "code",
   "execution_count": 5,
   "id": "797e53fd-d734-4745-ae20-185b27757f4a",
   "metadata": {},
   "outputs": [
    {
     "name": "stdout",
     "output_type": "stream",
     "text": [
      "enter a  number56\n",
      "61\n",
      "5\n",
      "3\n",
      "12\n",
      "6.0\n"
     ]
    }
   ],
   "source": [
    "# write a program to declare short hand notation\n",
    "A = int(input(\"enter a  number\")) # A = 4\n",
    "A += 5 # return value of  A is 9\n",
    "print(A)\n",
    "A =+ 5 # it is return value of A is 5\n",
    "print(A)\n",
    "# same like that if we write...\n",
    "# but here we we not changing value of A it is...\n",
    "#changed it self\n",
    "A -= 2\n",
    "print(A) \n",
    "A *= 4\n",
    "print(A)\n",
    "A /= 2\n",
    "print(A)"
   ]
  },
  {
   "cell_type": "code",
   "execution_count": 6,
   "id": "b43869d0-e0c3-4c31-834b-6580a750b87b",
   "metadata": {},
   "outputs": [
    {
     "name": "stdout",
     "output_type": "stream",
     "text": [
      "11\n",
      "10\n"
     ]
    }
   ],
   "source": [
    "#increment decremrent operation in python \n",
    "A = 10\n",
    "A = A + 1\n",
    "print(A)\n",
    "B = 12\n",
    "B = B - 1\n",
    "B = B - 1\n",
    "print(B)"
   ]
  },
  {
   "cell_type": "code",
   "execution_count": 7,
   "id": "3b4896a1-00ae-4849-9984-7b2d76938702",
   "metadata": {},
   "outputs": [
    {
     "name": "stdout",
     "output_type": "stream",
     "text": [
      "14\n",
      "enter a number4\n",
      "364\n"
     ]
    }
   ],
   "source": [
    "# write a program to solve eqation\n",
    "A = 1\n",
    "B = 3\n",
    "C = 4\n",
    "X = 2\n",
    "Y = A*(X*X)+B*X+C\n",
    "print(Y)\n",
    "#write a program to evaluate equation 5x^3+2x^2+7x\n",
    "ans = 0\n",
    "x = int(input(\"enter a number\"))\n",
    "ans = ans + 5*x*x*x\n",
    "ans = ans + 2*x*X\n",
    "ans = ans + 7*x\n",
    "print(ans)"
   ]
  },
  {
   "cell_type": "code",
   "execution_count": 8,
   "id": "b73b65c3-c43d-4b7a-ab60-4d83fb91a4f4",
   "metadata": {},
   "outputs": [
    {
     "name": "stdout",
     "output_type": "stream",
     "text": [
      "6\n",
      "12345\n",
      "123\n",
      "1151.3333333333333\n",
      "1151\n"
     ]
    }
   ],
   "source": [
    "#write a program to remove last digit from number\n",
    "a = 123456\n",
    "#if we want to access last digit\n",
    "b = a%10\n",
    "print(b)\n",
    "# if we want to remove 1 digit\n",
    "a//=10\n",
    "print(a)\n",
    "# if we want to remove 2 digit\n",
    "a//=100\n",
    "print(a)\n",
    "# // also used to get division without reminder\n",
    "print(3454/3)\n",
    "b = 3454\n",
    "b //= 3\n",
    "print(b)"
   ]
  },
  {
   "cell_type": "code",
   "execution_count": 9,
   "id": "dd4add95-62e9-4d99-a417-39c741d5e984",
   "metadata": {},
   "outputs": [
    {
     "name": "stdout",
     "output_type": "stream",
     "text": [
      "1125899906842624\n"
     ]
    }
   ],
   "source": [
    "A = 2\n",
    "B = 50\n",
    "C = A**B\n",
    "print(C)"
   ]
  },
  {
   "cell_type": "code",
   "execution_count": 10,
   "id": "af1bea4a-981a-4279-a9df-8443abf8036d",
   "metadata": {},
   "outputs": [
    {
     "name": "stdout",
     "output_type": "stream",
     "text": [
      "enter aprincipal amount :- \t \n",
      "3450\n",
      "enter a rate of interest :- \n",
      "5\n",
      "enyer number of years :- \n",
      "2.3\n",
      "interest is :- 396.75\n"
     ]
    }
   ],
   "source": [
    "#write a code to find simple interest for givin data\n",
    "# I = PRN/100\n",
    "P = float(input(\"enter aprincipal amount :- \\t \\n\"))\n",
    "R = float(input(\"enter a rate of interest :- \\n\"))\n",
    "N = float(input(\"enyer number of years :- \\n\"))\n",
    "I = (P*R*N)/100\n",
    "print(\"interest is :-\",I)"
   ]
  },
  {
   "cell_type": "code",
   "execution_count": 11,
   "id": "f029623d-0efe-4c71-85f5-911933331f9f",
   "metadata": {},
   "outputs": [
    {
     "name": "stdout",
     "output_type": "stream",
     "text": [
      "TYPE 1 TO CONVERT CELSIUS TO FAHRENHEIT :-\n",
      "TYPE 2 TO CONVERT FAHRENHEIT TO  CELSIOUS :-\n",
      "PLEASE ENTER THE CHOICE:1\n",
      "ENTER THE TEMPERATURE::32\n",
      "TEMPERATURE IN FAHRENHEIT 89.6\n"
     ]
    }
   ],
   "source": [
    "# PROGRAM 2 :-\n",
    "# Write a Python Program to Convert Celsius to Fahrenheit and vice –a-versa. \n",
    "# F=1.8*C+32\n",
    "\n",
    "print(\"TYPE 1 TO CONVERT CELSIUS TO FAHRENHEIT :-\")\n",
    "print(\"TYPE 2 TO CONVERT FAHRENHEIT TO  CELSIOUS :-\")\n",
    "\n",
    "ch = input(\"PLEASE ENTER THE CHOICE:\") \n",
    "if ch == \"1\" :\n",
    "    C = float(input(\"ENTER THE TEMPERATURE::\"))\n",
    "    print(\"TEMPERATURE IN FAHRENHEIT\",(1.8*C)+32)\n",
    "elif ch ==\"2\":\n",
    "    F = float(input(\"ENTER THE TEMPERATURE::\"))\n",
    "    print(\"TEMPERATURE IN FAHRENHEIT\",(F-32)/1.8)\n",
    "else:\n",
    "    print(\"ENTER  THE RIGHT CHOICE..\")\n"
   ]
  },
  {
   "cell_type": "code",
   "execution_count": 12,
   "id": "f83cd310-90bc-41fc-a253-d9e30872241a",
   "metadata": {},
   "outputs": [
    {
     "name": "stdout",
     "output_type": "stream",
     "text": [
      "Enter a Date of birth :-  26\n",
      "Enter a Month of birth :-  06\n",
      "Enter a Year of birth :-  2001\n",
      "22 years old in 2024\n"
     ]
    }
   ],
   "source": [
    "# PROGRAM 3 :-\n",
    "# Ram wants to know age of his grandfather, who was born on 18th December, 1950. \n",
    "# Kindly help ram to know how old is his grandfather? Also, print the calendar for the \n",
    "# month and year on which ram’s grandfather was born\n",
    "\n",
    "# Python3 code to  calculate age in years\n",
    " \n",
    "\n",
    "from datetime import date\n",
    "\n",
    "def Age(birthDate):\n",
    "    today = date.today()\n",
    "    age = today.year - birthDate.year - ( (today.month, today.day) < (birthDate.month, birthDate.day) )\n",
    "    return age\n",
    "\n",
    "\n",
    "date_of_birth = int(input(\"Enter a Date of birth :-  \"))\n",
    "month_of_birth = int(input(\"Enter a Month of birth :-  \"))\n",
    "year_of_birth = int(input(\"Enter a Year of birth :-  \"))\n",
    "\n",
    "Final_date = date(year_of_birth,month_of_birth,date_of_birth,) \n",
    "\n",
    "# driver code\n",
    "print(Age(Final_date), \"years old in\" , date.today().year)"
   ]
  },
  {
   "cell_type": "code",
   "execution_count": 14,
   "id": "f4292ae9-e7e0-4269-9c56-f53ff32a2af4",
   "metadata": {},
   "outputs": [
    {
     "name": "stdout",
     "output_type": "stream",
     "text": [
      "enter a character which ascii value u want to find :- \n",
      " a\n",
      "ascii value of a is :-  97\n",
      "enter a character which ascii value u want to find :- \n",
      " b\n",
      "ascii value of b is :-  98\n",
      "enter a character which ascii value u want to find :- \n",
      " c\n",
      "ascii value of c is :-  99\n",
      "enter a character which ascii value u want to find :- \n",
      " d\n",
      "ascii value of d is :-  100\n",
      "enter a character which ascii value u want to find :- \n",
      " e\n",
      "ascii value of e is :-  101\n"
     ]
    }
   ],
   "source": [
    "i = 0 \n",
    "while(i <= 4):\n",
    "    A = input('''enter a character which ascii value u want to find :- \\n ''')\n",
    "    print(f\"ascii value of {A} is :- \",ord(A))\n",
    "    i += 1 # 8085828673 i can decode it."
   ]
  },
  {
   "cell_type": "code",
   "execution_count": 15,
   "id": "5a8407c4-4134-4f2c-9064-7d79a0d6598a",
   "metadata": {},
   "outputs": [
    {
     "name": "stdout",
     "output_type": "stream",
     "text": [
      "TYPE 1 TO SEE CONVERSION FROM DECIMAL TO BINARY,OCTAL,HEXADECIMAL\n",
      "TYPE 2 TO VICE-VERSA.\n",
      "PLEASE  ENTER YOUR CHOICE::1\n",
      "PLEASE ENTER DECIMAL NUMBER:34\n",
      "0b100010  in Binary\n",
      "0o42  in Octal\n",
      "0x22  in Hexadecimal\n"
     ]
    }
   ],
   "source": [
    "# PROGRAM 4 :-\n",
    "# Write a program in python to convert binary, octal, hexadecimal numbers to decimal number and vise-versa.\n",
    "# (Hint: use int() and Use bin, oct ,hex functions)(Also write it without using built-in function) \n",
    "\n",
    "print(\"TYPE 1 TO SEE CONVERSION FROM DECIMAL TO BINARY,OCTAL,HEXADECIMAL\")\n",
    "print(\"TYPE 2 TO VICE-VERSA.\")\n",
    "ch = input(\"PLEASE  ENTER YOUR CHOICE::\")\n",
    "if ch ==\"1\" :          \n",
    "     dec=int(input(\"PLEASE ENTER DECIMAL NUMBER:\"))\n",
    "     print(bin(dec),\" in Binary\")\n",
    "     print(oct(dec),\" in Octal\")\n",
    "     print(hex(dec),\" in Hexadecimal\")                     \n",
    "elif ch == \"2\": \n",
    "     print(\"TYPE b TO SEE CONVERSION FROM BINARY TO DECIMAL \")\n",
    "     print(\"TYPE o TO SEE CONVERSION FROM OCTAL TO DECIMAL\")\n",
    "     print(\"TYPE h TO SEE CONVERSION FROM HEXADECIMAL TO DECIMAL\")\n",
    "     p=input(\"PLEASE ENTER YOUR CHOICE::\")\n",
    "     if p == \"b\":\n",
    "          v=input(\"PLEASE ENTER BINARY NUMBER::\")\n",
    "          print((int(v,2)),\" in Decimal\")\n",
    "     elif p == \"o\":\n",
    "          v = input(\"PLEASE INPUT OCTAL NUMBER\")   \n",
    "          print((int(v,8)),\" in Decimal\")\n",
    "     elif p == \"h\":\n",
    "          v=input(\"PLEASE ENTER HEXADECIAML NUMBER::\")  \n",
    "          print((int(v,16)),\" in Decimal\")\n",
    "     else:\n",
    "          print(\"PLEASE ENTER A RIGHT CHOICE!!!\")\n",
    "else:\n",
    "     print(\"PLEASE ENTER A RIGHT CHOICE!!!!\")"
   ]
  },
  {
   "cell_type": "code",
   "execution_count": 16,
   "id": "8e3d7eee-edb8-47d9-81bf-5efecb41f2a4",
   "metadata": {},
   "outputs": [
    {
     "name": "stdout",
     "output_type": "stream",
     "text": [
      "enter a number :- 5\n",
      "55\n"
     ]
    }
   ],
   "source": [
    "def sum_of_square(n):\n",
    "    sum = 0\n",
    "    for i in range(1,n+1):\n",
    "        sum = sum + (i*i)\n",
    "    return sum\n",
    "num = int(input(\"enter a number :- \"))\n",
    "print(sum_of_square(num))"
   ]
  },
  {
   "cell_type": "code",
   "execution_count": 17,
   "id": "26c11570-a82e-453d-93d5-c74c91d30d23",
   "metadata": {},
   "outputs": [
    {
     "name": "stdout",
     "output_type": "stream",
     "text": [
      "enter a number :- 6\n",
      "91\n"
     ]
    }
   ],
   "source": [
    "def sum_of_square(n):\n",
    "    sum = 0\n",
    "    for i in range(1,n+1):\n",
    "        sum = sum + (i*i)\n",
    "    return sum\n",
    "num = int(input(\"enter a number :- \"))\n",
    "print(sum_of_square(num))"
   ]
  },
  {
   "cell_type": "code",
   "execution_count": 18,
   "id": "cb38ee9e-f5d7-46bd-b2b0-fc1d56b71fa7",
   "metadata": {},
   "outputs": [
    {
     "name": "stdout",
     "output_type": "stream",
     "text": [
      "enter a number73\n",
      "dividend3\n",
      "reminder of 73 divide by 3 is :-  1\n",
      "reminder of 73 / 3 is 1\n",
      "number is not dividable\n"
     ]
    }
   ],
   "source": [
    "# write a python program to find reminder of two divided number \n",
    "# write a python program to check wheather a given number is divideable or not\n",
    "A = int(input(\"enter a number\"))\n",
    "B = int(input(\"dividend\"))\n",
    "print(f\"reminder of {A} divide by {B} is :- \",A%B)\n",
    "print(\"reminder of\",A,\"/\",B,\"is\",A%B )\n",
    "if(A%B==0):\n",
    "    print(\"number is dividable\")\n",
    "else:\n",
    "    print(\"number is not dividable\")\n"
   ]
  },
  {
   "cell_type": "code",
   "execution_count": 19,
   "id": "1781c3f4-bb50-4b4e-9abb-ae21e96040b6",
   "metadata": {},
   "outputs": [
    {
     "name": "stdout",
     "output_type": "stream",
     "text": [
      "Please type in the math operation you would like to complete\n",
      "+ for addition\n",
      "- for subtraction\n",
      "* for multiplication\n",
      "/ for division\n",
      " enter a operation :- *\n",
      "Enter your first number: 34\n",
      "Enter your second number: 5\n",
      "a*b= 170\n"
     ]
    }
   ],
   "source": [
    "# PROGRAM 6 :- \n",
    "# Write a program in python to implement simple calculator.\n",
    "\n",
    "print(\"Please type in the math operation you would like to complete\")\n",
    "print(\"+ for addition\")\n",
    "print(\"- for subtraction\")\n",
    "print(\"* for multiplication\")\n",
    "print(\"/ for division\")\n",
    "operation = input(  \" enter a operation :- \")\n",
    "\n",
    "number_1 = int(input('Enter your first number: '))\n",
    "number_2 = int(input('Enter your second number: '))\n",
    "\n",
    "if operation == '+':\n",
    "    print(\"a+b=\",number_1 + number_2)\n",
    "elif operation == '-':\n",
    "        print(\"a-b=\",number_1 - number_2)\n",
    "elif operation == '*':\n",
    "    print(\"a*b=\",number_1 * number_2)\n",
    "elif operation == '/':\n",
    "    print(\"a/b=\",number_1 / number_2)\n",
    "else:\n",
    "    print('You have not typed a valid operator, please run the program again.')"
   ]
  },
  {
   "cell_type": "code",
   "execution_count": 20,
   "id": "d1fea869-cec9-40ca-a107-00f3faefa942",
   "metadata": {},
   "outputs": [
    {
     "name": "stdout",
     "output_type": "stream",
     "text": [
      "enter a two digit number45\n",
      "congratulation you win 1000 INR\n",
      "lucky number is :-  46\n"
     ]
    }
   ],
   "source": [
    "# PROGRAM 5 :-\n",
    "# Suppose you want to develop a program to play a lottery.\n",
    "# The program randomly generates a two-digit number,\n",
    "# prompts the user to enter a two-digit number, and \n",
    "# determines whether the user wins according to the following rules: \n",
    "# a) If the user’s input matches the lottery in the exact order, the award is 10,000 INR. \n",
    "# b) If all the digits in the user’s input match all the digits in the lottery number, the \n",
    "# award is 3,000 INR.\n",
    "# c) If one digit in the user’s input matches a digit in the lottery number, the award is \n",
    "# 1,000 INR\n",
    "\n",
    "\n",
    "# generating a random number\n",
    "import random\n",
    "A = random.randint(10,99)\n",
    "\n",
    "\n",
    "#spliting random number\n",
    "temp = A # if A = 75 then...\n",
    "first_digit_of_Genereted_Number = temp%10 # X = 5 \n",
    "temp //= 10 \n",
    "Second_digit_of_Genereted_Number = temp # Y = 7\n",
    "\n",
    "\n",
    "# take number from user\n",
    "B = int(input(\"enter a two digit number\"))\n",
    "\n",
    "\n",
    "# reversing user input number and spliting user number didits\n",
    "temp1 = B\n",
    "first_digit_of_User_input_Number = temp1%10 \n",
    "temp1 //= 10\n",
    "Second_digit_of_User_input_Number = temp1\n",
    "D = first_digit_of_User_input_Number*10 + Second_digit_of_User_input_Number\n",
    "\n",
    "\n",
    "\n",
    "\n",
    "\n",
    "# code for given condition\n",
    "if A == B :\n",
    "    print(\"congrgatulations you win 10,000 INR\")\n",
    "elif A == D :\n",
    "    print(\"congratulation you win 3000 INR\")\n",
    "elif first_digit_of_User_input_Number  == first_digit_of_Genereted_Number or \\\n",
    "    first_digit_of_User_input_Number == Second_digit_of_Genereted_Number or \\\n",
    "    Second_digit_of_User_input_Number == first_digit_of_Genereted_Number or \\\n",
    "    Second_digit_of_User_input_Number == Second_digit_of_Genereted_Number:\n",
    "    print(\"congratulation you win 1000 INR\")\n",
    "else :\n",
    "    print(\"no match found your bad luck try again! \")\n",
    "\n",
    "\n",
    "print(\"lucky number is :- \",A)"
   ]
  },
  {
   "cell_type": "code",
   "execution_count": 21,
   "id": "86437edd-dfb2-430d-b71a-016f14b15458",
   "metadata": {},
   "outputs": [
    {
     "name": "stdout",
     "output_type": "stream",
     "text": [
      "enter a number4\n",
      "square is :-  16\n",
      "enter a number5\n",
      "square of 5 is 25\n",
      "enter a number4\n",
      "4 * 4 = 16\n",
      "enter a number4\n",
      "Qube is :-  64\n",
      "enter a number5\n",
      "Qube of 5 is 125\n",
      "enter a number5\n",
      "5 * 5 * 5 = 125\n",
      "11920928955078125\n"
     ]
    }
   ],
   "source": [
    "# write a program to find square of entered number\n",
    "A = int(input(\"enter a number\"))\n",
    "print(\"square is :- \",A*A)\n",
    "\n",
    "A = int(input(\"enter a number\"))\n",
    "B = A*A\n",
    "print(f\"square of {A} is\",B)\n",
    "\n",
    "A = int(input(\"enter a number\"))\n",
    "B = A*A\n",
    "print(A,\"*\",A,\"=\",B)\n",
    "\n",
    "# write a program to find qube of entered number\n",
    "A = int(input(\"enter a number\"))\n",
    "print(\"Qube is :- \",A*A*A)\n",
    "\n",
    "A = int(input(\"enter a number\"))\n",
    "B = A*A*A\n",
    "print(f\"Qube of {A} is\",B)\n",
    "\n",
    "A = int(input(\"enter a number\"))\n",
    "B = A*A*A\n",
    "print(A,\"*\",A,\"*\",A,\"=\",B)\n",
    "\n",
    "# find large order\n",
    "A = 5\n",
    "B = 23\n",
    "C = A**B\n",
    "print(C)\n"
   ]
  },
  {
   "cell_type": "code",
   "execution_count": 22,
   "id": "c8b26a7e-2046-44f5-9d21-579b6c129edf",
   "metadata": {},
   "outputs": [
    {
     "name": "stdout",
     "output_type": "stream",
     "text": [
      "enter a power5\n",
      "enter a number :-7\n",
      "29008\n"
     ]
    }
   ],
   "source": [
    "# write a progrma to calculate the sum of the first N numbers with power N\n",
    "\n",
    "N = int(input(\"enter a power\"))\n",
    "def N_power_N(n) :\n",
    "    sum = 0\n",
    "    for i in range(1,n+1):\n",
    "        sum = sum + (i**N) \n",
    "    return sum\n",
    "num = int(input(\"enter a number :-\"))\n",
    "print(N_power_N(num))\n"
   ]
  },
  {
   "cell_type": "code",
   "execution_count": 23,
   "id": "ff998fe8-9ddf-4bf8-8280-cea5cfa693ef",
   "metadata": {},
   "outputs": [
    {
     "name": "stdout",
     "output_type": "stream",
     "text": [
      "ENTER THE NUMBER4\n",
      "ENTER THE NUMBER7\n",
      "ENTER THE NUMBER8\n",
      "ENTER THE NUMBER9\n",
      "ENTER THE NUMBER2\n",
      "ENTER THE NUMBER-3\n",
      "ENTER THE NUMBER-73\n",
      "ENTER THE NUMBER5\n",
      "ENTER THE NUMBER6\n",
      "ENTER THE NUMBER76\n",
      "LARGEST ODD NO IN INPUT IS:: 9\n",
      "TOTAL ODD NUMBERS IN INPUT:: 5\n"
     ]
    }
   ],
   "source": [
    "# PROGRAM 7 :-\n",
    "# Write a program which will allow user to enter 10 numbers \n",
    "# and display largest odd number from them.\n",
    "# It will display appropriate message in case \n",
    "# if no odd number is found and display count of odd numbers. \n",
    "\n",
    "\n",
    "ODD=0\n",
    "MAX_ODD_NUMBER=0\n",
    "for i in range(0,10):\n",
    "    inp = int(input(\"ENTER THE NUMBER\"))\n",
    "    if inp%2 != 0:\n",
    "        ODD += 1\n",
    "        if inp > MAX_ODD_NUMBER :\n",
    "            MAX_ODD_NUMBER = inp\n",
    "\n",
    "if MAX_ODD_NUMBER==0:\n",
    "    print(\"NO ODD NUMBERS FOUND!!! Or Negetive odd numbers\")\n",
    "else:\n",
    "    print(\"LARGEST ODD NO IN INPUT IS::\",MAX_ODD_NUMBER)\n",
    "    print(\"TOTAL ODD NUMBERS IN INPUT::\",ODD)"
   ]
  },
  {
   "cell_type": "code",
   "execution_count": 24,
   "id": "1aecffa6-2a4d-472c-8d62-5b4955be9484",
   "metadata": {},
   "outputs": [
    {
     "name": "stdout",
     "output_type": "stream",
     "text": [
      "without user defined function\n",
      "Enter number to check for Armstrong:153\n",
      "Given number  153  is an Armstrong number.\n",
      "using user defined function\n",
      "enter a number34\n",
      "Given number  34  is not an Armstrong number.\n",
      "None\n"
     ]
    }
   ],
   "source": [
    "# PROGRAM 8 :-\n",
    "# Write a Python program to check if the number \n",
    "# provided by the user is an Armstrong number.\n",
    "\n",
    "# armstrong number 153 = 1^3 + 5^3 + 3^3\n",
    "\n",
    "print(\"without user defined function\")\n",
    "num = int(input(\"Enter number to check for Armstrong:\"))\n",
    "sum = 0\n",
    "temp = num\n",
    "order = len(str(num))\n",
    "while(num>0):\n",
    "    digit = num%10\n",
    "    sum = sum + digit**order\n",
    "    num//=10\n",
    "if(sum==temp):\n",
    "    print(\"Given number \",temp,\" is an Armstrong number.\")\n",
    "else:\n",
    "    print(\"Given number \",temp,\" is not an Armstrong number.\")\n",
    "\n",
    "print(\"using user defined function\")\n",
    "def arm_num(num):\n",
    "    sum = 0\n",
    "    temp = num\n",
    "    order = len(str(num))\n",
    "    while(num>0):\n",
    "        digit = num%10\n",
    "        sum = sum + digit**order\n",
    "        num//=10\n",
    "    if(sum==temp):\n",
    "        print(f\"Given number \",temp,\" is an Armstrong number.\")\n",
    "    else:\n",
    "        print(f\"Given number \",temp,\" is not an Armstrong number.\")\n",
    "# taking number and check \n",
    "A = int(input(\"enter a number\"))\n",
    "print(arm_num(A))"
   ]
  },
  {
   "cell_type": "code",
   "execution_count": 25,
   "id": "62265534-ab3d-44b3-9846-e9d6e4da9599",
   "metadata": {},
   "outputs": [
    {
     "name": "stdout",
     "output_type": "stream",
     "text": [
      "Enter a Range  :-  10\n",
      "0,1,1,2,3,5,8,13,21,34,...\n",
      "Enter a Range  :-  63\n",
      "0,1,1,2,3,5,8,13,21,34,55,89,144,233,377,610,987,1597,2584,4181,6765,10946,17711,28657,46368,75025,121393,196418,317811,514229,832040,1346269,2178309,3524578,5702887,9227465,14930352,24157817,39088169,63245986,102334155,165580141,267914296,433494437,701408733,1134903170,1836311903,2971215073,4807526976,7778742049,12586269025,20365011074,32951280099,53316291173,86267571272,139583862445,225851433717,365435296162,591286729879,956722026041,1548008755920,2504730781961,4052739537881,...\n"
     ]
    }
   ],
   "source": [
    "# fibonachi series\n",
    "n1 = 0\n",
    "n2 = 1\n",
    "\n",
    "number = int(input(\"Enter a Range  :-  \")) - 2\n",
    "print(n1,end=',')\n",
    "print(n2,end=',')\n",
    "\n",
    "for i in range (number):\n",
    "    n3 = n1 + n2\n",
    "    print(n3,end=',')\n",
    "    n1 = n2\n",
    "    n2 = n3\n",
    "print('...')\n",
    "\n",
    "\n",
    " # fibonachi series swaping without temporary\n",
    "n1,n2 = 0,1\n",
    "number = int(input(\"Enter a Range  :-  \")) - 2\n",
    "print(n1,end=',')\n",
    "print(n2,end=',')\n",
    "for i in range (number):\n",
    "    n1,n2  = n2,n1+n2\n",
    "    print(n2,end=',')\n",
    "print('...')"
   ]
  },
  {
   "cell_type": "code",
   "execution_count": 26,
   "id": "4d3ad6d4-45a2-4cb8-b482-e79995e619c2",
   "metadata": {},
   "outputs": [
    {
     "name": "stdout",
     "output_type": "stream",
     "text": [
      "without user defined function\n",
      "Enter number to check if it is palidrome or not :37\n",
      "The number isn't a palindrome!\n",
      "using user defined function\n",
      "enter a number11\n",
      "The number is a palindrome!\n",
      "None\n"
     ]
    }
   ],
   "source": [
    "# PROGRAM 9 :-\n",
    "# Write a Python program to check if the number \n",
    "# provided by the user is a palindrome or not.\n",
    "\n",
    "print(\"without user defined function\")\n",
    "n=int(input(\"Enter number to check if it is palidrome or not :\"))\n",
    "temp=n\n",
    "rev=0\n",
    "while(n>0):\n",
    "    dig=n%10\n",
    "    rev=rev*10+dig\n",
    "    n=n//10\n",
    "if(temp==rev):\n",
    "    print(\"The number is a palindrome!\")\n",
    "else:\n",
    "    print(\"The number isn't a palindrome!\")\n",
    "\n",
    "print(\"using user defined function\")\n",
    "def ispalindrom(n):\n",
    "    temp=n\n",
    "    rev=0\n",
    "    while(n>0):\n",
    "        dig=n%10\n",
    "        rev=rev*10+dig\n",
    "        n=n//10\n",
    "    if(temp==rev):\n",
    "        print(\"The number is a palindrome!\")\n",
    "    else:\n",
    "        print(\"The number isn't a palindrome!\")\n",
    "# taking number and checking\n",
    "A = int(input(\"enter a number\"))\n",
    "print(ispalindrom(A))"
   ]
  },
  {
   "cell_type": "code",
   "execution_count": 27,
   "id": "44f440d3-edaf-400d-922a-69e5dce85e25",
   "metadata": {},
   "outputs": [
    {
     "name": "stdout",
     "output_type": "stream",
     "text": [
      "enter a number5\n",
      "factorial is :-  120\n"
     ]
    }
   ],
   "source": [
    "# PROGRAM 11 :-\n",
    "# Write a Python program to find factorial of a number using user defined function\n",
    "\n",
    "def recur_factorial(n):\n",
    "    if(n==1):\n",
    "        return n\n",
    "    else:\n",
    "        return n*recur_factorial(n-1)    \n",
    "num = int(input(\"enter a number\"))\n",
    "if(num<0):\n",
    "    print(\"factorial does not exists for negetive number \")\n",
    "elif(num==0):\n",
    "    print(\"factorial of 0 is 1\")\n",
    "else:\n",
    "    print(\"factorial is :- \",recur_factorial(num))"
   ]
  },
  {
   "cell_type": "code",
   "execution_count": 29,
   "id": "76d6ebbf-73d7-49d9-8fc6-0affb91919e1",
   "metadata": {},
   "outputs": [
    {
     "name": "stdout",
     "output_type": "stream",
     "text": [
      "enter a radius of circle5\n",
      "Area of circle is 78.53750000000001\n",
      "ener first number35\n",
      "ener second number67\n",
      "35\n"
     ]
    }
   ],
   "source": [
    "# write a program to find area of circle\n",
    "PI = 3.1415\n",
    "R = int(input(\"enter a radius of circle\"))\n",
    "print(\"Area of circle is\",PI*R*R)\n",
    "\n",
    "# write a program to find reminder of two divided number\n",
    "A = int(input(\"ener first number\"))\n",
    "B = int(input(\"ener second number\"))\n",
    "C = A%B\n",
    "print(C)"
   ]
  },
  {
   "cell_type": "code",
   "execution_count": 30,
   "id": "a213b5a0-936a-42cd-ae9a-a55a8ab68bb6",
   "metadata": {},
   "outputs": [
    {
     "name": "stdout",
     "output_type": "stream",
     "text": [
      "lower range45\n",
      "higher range75\n",
      "55\n",
      "66\n"
     ]
    }
   ],
   "source": [
    "# PROGRAM 12 :-\n",
    "# Write a Python program to print all Palindrom numbers \n",
    "# in an Interval using user defined function.\n",
    "\n",
    "\n",
    "A = int(input(\"lower range\"))\n",
    "B = int(input(\"higher range\"))  \n",
    "for num in range(A,B):\n",
    "    reverse = 0\n",
    "    temp = num\n",
    "    while(num>0): \n",
    "        digit = num%10\n",
    "        reverse = reverse*10 + digit\n",
    "        num//=10\n",
    "    if(temp==reverse):\n",
    "        print(temp)\n"
   ]
  },
  {
   "cell_type": "code",
   "execution_count": 31,
   "id": "46563e53-7c1e-4f04-89d3-a27e77c4d88a",
   "metadata": {},
   "outputs": [
    {
     "name": "stdout",
     "output_type": "stream",
     "text": [
      "enter a number13\n",
      "enter a number24\n",
      "enter a number35\n",
      "enter a number46\n",
      "sum of3,4,5and 6 is :-  18\n",
      "avg of3,4,5and 6 is :-  4.5\n"
     ]
    }
   ],
   "source": [
    "A = int(input(\"enter a number1\"))\n",
    "B = int(input(\"enter a number2\"))\n",
    "C = int(input(\"enter a number3\"))\n",
    "D = int(input(\"enter a number4\"))\n",
    "sum = A+B+C+D\n",
    "print(f\"sum of{A},{B},{C}and {D} is :- \",sum)\n",
    "avg = sum/4\n",
    "print(f\"avg of{A},{B},{C}and {D} is :- \",avg)"
   ]
  },
  {
   "cell_type": "code",
   "execution_count": 32,
   "id": "eced75c6-25d0-47aa-b3aa-e332c99f5459",
   "metadata": {},
   "outputs": [
    {
     "name": "stdout",
     "output_type": "stream",
     "text": [
      "enter 1st number 34\n",
      "enter 2nd number 56\n",
      "all factors of these two numbers [1]\n",
      "all factors of these two numbers [1, 2]\n",
      "all factors of these two numbers [1, 2]\n",
      "all factors of these two numbers [1, 2]\n",
      "all factors of these two numbers [1, 2]\n",
      "all factors of these two numbers [1, 2]\n",
      "all factors of these two numbers [1, 2]\n",
      "all factors of these two numbers [1, 2]\n",
      "all factors of these two numbers [1, 2]\n",
      "all factors of these two numbers [1, 2]\n",
      "all factors of these two numbers [1, 2]\n",
      "all factors of these two numbers [1, 2]\n",
      "all factors of these two numbers [1, 2]\n",
      "all factors of these two numbers [1, 2]\n",
      "all factors of these two numbers [1, 2]\n",
      "all factors of these two numbers [1, 2]\n",
      "all factors of these two numbers [1, 2]\n",
      "all factors of these two numbers [1, 2]\n",
      "all factors of these two numbers [1, 2]\n",
      "all factors of these two numbers [1, 2]\n",
      "all factors of these two numbers [1, 2]\n",
      "all factors of these two numbers [1, 2]\n",
      "all factors of these two numbers [1, 2]\n",
      "all factors of these two numbers [1, 2]\n",
      "all factors of these two numbers [1, 2]\n",
      "all factors of these two numbers [1, 2]\n",
      "all factors of these two numbers [1, 2]\n",
      "all factors of these two numbers [1, 2]\n",
      "all factors of these two numbers [1, 2]\n",
      "all factors of these two numbers [1, 2]\n",
      "all factors of these two numbers [1, 2]\n",
      "all factors of these two numbers [1, 2]\n",
      "all factors of these two numbers [1, 2]\n",
      "all factors of these two numbers [1, 2]\n",
      "hcf of 34 and 56 is :-  2\n"
     ]
    }
   ],
   "source": [
    "# PROGRAM 13 :- \n",
    "# Write a program to find Highest Common Factor(HCF) and\n",
    "# Greatest Common Divisor(GCD) of two numbers using function.\n",
    "\n",
    "# function define\n",
    "def find_hcf(a,b):\n",
    "    l = []\n",
    "    if a>b:\n",
    "        small = b\n",
    "    else:\n",
    "        small = a\n",
    "    for i in range(1,small+1):\n",
    "        if(a%i == 0) and (b%i == 0):\n",
    "            hcf = i\n",
    "            l.append(i)\n",
    "        print('all factors of these two numbers',l)\n",
    "    return hcf\n",
    "\n",
    "# take input\n",
    "num1 = int(input(\"enter 1st number \"))\n",
    "num2 = int(input(\"enter 2nd number \"))\n",
    "print(f\"hcf of {num1} and {num2} is :- \" , find_hcf(num1,num2))"
   ]
  },
  {
   "cell_type": "code",
   "execution_count": 33,
   "id": "4ef2efad-9fe2-4caa-a768-4c6eda863878",
   "metadata": {},
   "outputs": [
    {
     "name": "stdout",
     "output_type": "stream",
     "text": [
      "20 is max number\n",
      "10 is min number\n"
     ]
    }
   ],
   "source": [
    "# find min and max number between two numbwer \n",
    "A = 20\n",
    "B = 10\n",
    "if(A>B):\n",
    "    print(f\"{A} is max number\")\n",
    "    print(f\"{B} is min number\")\n",
    "else:\n",
    "    print(\"max number is\",B)\n",
    "    print(\"min number is\",A)"
   ]
  },
  {
   "cell_type": "code",
   "execution_count": 34,
   "id": "8d335170-9caf-425c-8add-9d334ea784a2",
   "metadata": {},
   "outputs": [
    {
     "name": "stdout",
     "output_type": "stream",
     "text": [
      "before exchange A=5 and B=4\n",
      "after exchange A=4 and B=5\n",
      "before exchange A=7 and B=8\n",
      "after exchange A=8 and B=7\n"
     ]
    }
   ],
   "source": [
    "#write a program to exchange two variables...\n",
    "\n",
    "#type 1 (with temp. variable)\n",
    "A = 5\n",
    "B = 4\n",
    "print(f\"before exchange A={A} and B={B}\")\n",
    "temp = A\n",
    "A = B\n",
    "B = temp\n",
    "print(f\"after exchange A={A} and B={B}\")\n",
    "\n",
    "#type 2 (without temp. vzriable)\n",
    "A = 7\n",
    "B = 8\n",
    "print(f\"before exchange A={A} and B={B}\")\n",
    "A = A+B\n",
    "B = A-B\n",
    "A = A-B\n",
    "print(f\"after exchange A={A} and B={B}\")\n",
    "\n",
    "#type 3 one liner swap using unpacking concept\n",
    "A,B = 5,6\n",
    "B,A = A,B"
   ]
  },
  {
   "cell_type": "code",
   "execution_count": 35,
   "id": "123e6d96-b59a-4164-9392-297a35c023cf",
   "metadata": {},
   "outputs": [
    {
     "name": "stdout",
     "output_type": "stream",
     "text": [
      "enter principal amount3000\n",
      "enter rate  of interest in %4\n",
      "enter number of years 2\n",
      "interest for given data is :-  240.0\n",
      "enter radius of cylinder3\n",
      "enter a height of cylinder5\n",
      "volume of cylinder is :-  141.3675\n"
     ]
    }
   ],
   "source": [
    "# write a program to find interest using i = prn/100\n",
    "P = float(input(\"enter principal amount\"))\n",
    "R = float(input(\"enter rate  of interest in %\"))\n",
    "N = float(input(\"enter number of years \"))\n",
    "I = (P*R*N)/100\n",
    "print(\"interest for given data is :- \",I)\n",
    "# write a program to find volume of cylinder \n",
    "# use v = PI*r^2*h\n",
    "PI = 3.1415\n",
    "R = float(input(\"enter radius of cylinder\"))\n",
    "H = float(input(\"enter a height of cylinder\"))\n",
    "V = PI*R*R*H\n",
    "print(\"volume of cylinder is :- \",V)\n",
    "# write a program to find area of triangle \n",
    "# using of A = 1/2*B*H (base)(height)\n",
    "#for ractangle A = L*W\n",
    "# for sqare A = L^2\n",
    " \n",
    " #parameter\n",
    " # circle = 2PIr\n",
    " # rac. = 2L+2W\n",
    " # tringle = A+B+C\n",
    "\n",
    " # volume\n",
    " # cube = s^3\n",
    "#  rac.= LBH\n"
   ]
  },
  {
   "cell_type": "code",
   "execution_count": 37,
   "id": "6681bdb1-3031-4835-a431-ce2b4d757a64",
   "metadata": {},
   "outputs": [
    {
     "name": "stdout",
     "output_type": "stream",
     "text": [
      "enter a decimal number88\n",
      "number in bimnary is :-  0b1011000\n",
      "number in octral is :-  0o130\n",
      "number in hexadecimal is :-  0x58\n",
      "enter a number in binary0b100111\n",
      "in decimal 39\n",
      "enter a number in octral0o654\n",
      "in decimal 428\n",
      "enter a number in hexadecimal0x43\n",
      "in decimal 67\n"
     ]
    }
   ],
   "source": [
    "# write a program to cnvrt binary octral and hexa into decimal\n",
    "A = int(input(\"enter a decimal number\"))\n",
    "# binary conversation\n",
    "print(\"number in bimnary is :- \",bin(A))\n",
    "# octral conversation\n",
    "print(\"number in octral is :- \",oct(A))\n",
    "# hexa decimal conversation \n",
    "print(\"number in hexadecimal is :- \",hex(A))\n",
    "\n",
    "# covert binary,octral,hexa into decimal usin in-built int()function\n",
    "B = input(\"enter a number in binary\")\n",
    "print( \"in decimal\",int(B,2) )\n",
    "C = input(\"enter a number in octral\")\n",
    "print( \"in decimal\",int(C,8) )\n",
    "D = input(\"enter a number in hexadecimal\")\n",
    "print( \"in decimal\",int(D,16) )"
   ]
  },
  {
   "cell_type": "code",
   "execution_count": 38,
   "id": "60a06b24-73e0-45b9-9e21-e5fb6fb86905",
   "metadata": {},
   "outputs": [
    {
     "name": "stdout",
     "output_type": "stream",
     "text": [
      "enter a number123\n",
      "123 is not armstrong number\n"
     ]
    }
   ],
   "source": [
    "''' \n",
    "write a program to check\n",
    "whether a given number \n",
    "is armstrong number or not\n",
    "'''\n",
    "num = int(input(\"enter a number\"))\n",
    "# calculated length of number(no.of digits)\n",
    "order = len(str(num))\n",
    "#initial sum\n",
    "sum = 0\n",
    "# find sum of cube of each digit\n",
    "temp = num\n",
    "while temp>0:\n",
    "    digit = temp%10\n",
    "    sum += digit**order\n",
    "    temp//= 10\n",
    "#display result\n",
    "if num==sum:\n",
    "    print(f\"{num} is armstrong number\")\n",
    "else:\n",
    "    print(f\"{num} is not armstrong number\")\n"
   ]
  },
  {
   "cell_type": "code",
   "execution_count": 39,
   "id": "7ee9a02c-15c1-4c2a-8358-39c883773dbe",
   "metadata": {},
   "outputs": [
    {
     "name": "stdout",
     "output_type": "stream",
     "text": [
      "enter a range1\n",
      "enter a range100\n",
      "1,2,3,4,5,6,7,8,9,"
     ]
    }
   ],
   "source": [
    "# armstrong number in list\n",
    "strtrng = int(input(\"enter a range\"))\n",
    "endrng = int(input(\"enter a range\"))\n",
    "# sum = 0 here write is give error because at every time loop executes\n",
    "# sum is not becoming 0\n",
    "for num in range(strtrng,endrng):\n",
    "    order = len(str(num))\n",
    "    sum = 0\n",
    "    temp=num\n",
    "    while temp>0:\n",
    "        digit=temp%10\n",
    "        sum += digit**order\n",
    "        temp//=10\n",
    "    if num==sum:\n",
    "        print(num,end=',')\n"
   ]
  },
  {
   "cell_type": "code",
   "execution_count": 40,
   "id": "81798033-fcd1-468b-9d4c-65e1a5d16ced",
   "metadata": {},
   "outputs": [
    {
     "name": "stdout",
     "output_type": "stream",
     "text": [
      "enter range:- 10\n",
      "odd number is :- \n",
      "1,3,5,7,9,even number is :- \n",
      "0,2,4,6,8,"
     ]
    }
   ],
   "source": [
    "i = 0\n",
    "A = int(input(\"enter range:- \"))\n",
    "print(\"odd number is :- \")\n",
    "for i in range(A) :\n",
    "    if i%2!=0:\n",
    "        print(i,end=\",\")\n",
    "\n",
    "print(\"even number is :- \")\n",
    "for i in range(A) :\n",
    "    if i%2 ==0:\n",
    "        print(i,end=\",\")\n",
    "        # i = i + 1"
   ]
  },
  {
   "cell_type": "code",
   "execution_count": 41,
   "id": "259328de-9428-4f4b-8b1f-6271cc27238a",
   "metadata": {},
   "outputs": [
    {
     "name": "stdout",
     "output_type": "stream",
     "text": [
      "enter a number1  \n",
      "12\n",
      "enter a number2  \n",
      "19\n",
      "enter a number3  \n",
      "27\n",
      "enter a number4  \n",
      "53\n",
      "gretest number is 53\n",
      "enter a number1  \n",
      "12\n",
      "enter a number2  \n",
      "15\n",
      "enter a number3  \n",
      "17\n",
      "gretest number is 17\n"
     ]
    }
   ],
   "source": [
    "# max in 4 numbers\n",
    "num1  = int(input(\"enter a number1  \\n\"))\n",
    "num2  = int(input(\"enter a number2  \\n\"))\n",
    "num3  = int(input(\"enter a number3  \\n\"))\n",
    "num4  = int(input(\"enter a number4  \\n\"))\n",
    "if(num1>num2):\n",
    "    A = num1\n",
    "else:\n",
    "    A = num2\n",
    "if(num3>num4):\n",
    "    B = num3\n",
    "else:\n",
    "    B = num4\n",
    "if(A>B):\n",
    "    print(\"gretest number is\",A)\n",
    "else:\n",
    "    print(\"gretest number is\",B)  \n",
    "\n",
    "# max in 3 numbers\n",
    "num1  = int(input(\"enter a number1  \\n\"))\n",
    "num2  = int(input(\"enter a number2  \\n\"))\n",
    "num3  = int(input(\"enter a number3  \\n\"))\n",
    "\n",
    "if(num1>num2):\n",
    "    if num1 > num3:\n",
    "        print(\"gretest number is\",num1)\n",
    "    else:\n",
    "        print(\"gretest number is\",num3)\n",
    "else:\n",
    "    if num2 > num3:\n",
    "        print(\"gretest number is\",num2)\n",
    "    else:\n",
    "        print(\"gretest number is\",num3) "
   ]
  },
  {
   "cell_type": "code",
   "execution_count": 44,
   "id": "1e93aba6",
   "metadata": {},
   "outputs": [
    {
     "name": "stdout",
     "output_type": "stream",
     "text": [
      "enter your marks45\n",
      "F grade\n"
     ]
    }
   ],
   "source": [
    "Marks = int(input(\"enter your marks\"))\n",
    "if(Marks>100):\n",
    "    print(\"invalid marks\")\n",
    "else:    \n",
    "    if(Marks>90 and Marks<=100): \n",
    "        print(\"A grade\")\n",
    "    elif(Marks<=90 and Marks>80):\n",
    "        print(\" B grade\")\n",
    "    elif(Marks<=80 and Marks>70):\n",
    "        print(\"C grade\")\n",
    "    elif(Marks<=70 and Marks>60):\n",
    "        print(\"D grade\")\n",
    "    elif(Marks<=60 and Marks>50):\n",
    "        print(\"E grade\")\n",
    "    elif(Marks<=50 and Marks>33):\n",
    "        print(\"F grade\")\n",
    "    else:\n",
    "        print(\"failed\")          "
   ]
  },
  {
   "cell_type": "code",
   "execution_count": 46,
   "id": "2b39897e-2f93-4a4c-a8cc-a0293095c1e4",
   "metadata": {},
   "outputs": [
    {
     "name": "stdout",
     "output_type": "stream",
     "text": [
      "enter a number36\n",
      "root is 6\n",
      "enter a range100\n",
      "0,1,4,9,16,25,36,49,64,81,100,121,144,169,196,225,256,289,324,361,400,441,484,529,576,625,676,729,784,841,900,961,1024,1089,1156,1225,1296,1369,1444,1521,1600,1681,1764,1849,1936,2025,2116,2209,2304,2401,2500,2601,2704,2809,2916,3025,3136,3249,3364,3481,3600,3721,3844,3969,4096,4225,4356,4489,4624,4761,4900,5041,5184,5329,5476,5625,5776,5929,6084,6241,6400,6561,6724,6889,7056,7225,7396,7569,7744,7921,8100,8281,8464,8649,8836,9025,9216,9409,9604,9801,10000,"
     ]
    }
   ],
   "source": [
    "# write a program to find root\n",
    "A = int(input(\"enter a number\"))\n",
    "for num in range(0,A+1):\n",
    "    B = num*num\n",
    "    if(B==A):\n",
    "        print(\"root is\",num)\n",
    "\n",
    "# write a program to print square in given rng\n",
    "A = int(input(\"enter a range\"))\n",
    "for num in range(0,A+1):\n",
    "    B = num*num\n",
    "    print(B,end=\",\") \n"
   ]
  },
  {
   "cell_type": "code",
   "execution_count": 47,
   "id": "074c9344-325a-4490-b23d-57dcbf2bdaaf",
   "metadata": {},
   "outputs": [
    {
     "name": "stdout",
     "output_type": "stream",
     "text": [
      "enter a number16\n",
      "not palindrome\n",
      "None\n",
      "enter a start number22\n",
      "enter a end number100\n",
      "[22, 33, 44, 55, 66, 77, 88, 99]\n"
     ]
    }
   ],
   "source": [
    "# PROGRAM 12 :- \n",
    "# Write a Python program to check if the number provided\n",
    "# by the user is a palindrome or not using user defined function.\n",
    "\n",
    "def palindrome(number):\n",
    "    temp = number\n",
    "    reverse = 0\n",
    "    while(number>0):\n",
    "        digit = number%10\n",
    "        reverse = reverse*10 + digit\n",
    "        number//=10\n",
    "    if(temp==reverse):\n",
    "        print(\"palindrome\")\n",
    "    else:\n",
    "        print(\"not palindrome\")  \n",
    "A = int(input(\"enter a number\"))\n",
    "print(palindrome(A))\n",
    "\n",
    "\n",
    "# range of palindrom\n",
    "def palindrome(strt,end):\n",
    "    L = []\n",
    "    for number in range(strt,end):\n",
    "        temp = number\n",
    "        reverse = 0\n",
    "        while(number>0):\n",
    "            digit = number%10\n",
    "            reverse = reverse*10 + digit\n",
    "            number//=10\n",
    "        if(temp==reverse):\n",
    "            L.append(temp)\n",
    "    return L\n",
    "strt = int(input(\"enter a start number\"))\n",
    "end = int(input(\"enter a end number\"))\n",
    "print(palindrome(strt=strt,end=end))"
   ]
  },
  {
   "cell_type": "code",
   "execution_count": 49,
   "id": "a67efcbb-d9d3-4af6-9146-01a52295c0d0",
   "metadata": {},
   "outputs": [
    {
     "name": "stdout",
     "output_type": "stream",
     "text": [
      "enter a string :- madam\n",
      "yes it is palindrome \n",
      "enter a stringname\n",
      "no it is not palindrome \n"
     ]
    }
   ],
   "source": [
    "# PROGRAM 13 :- \n",
    "# Write a Python program to check if the string provided\n",
    "# by the user is a palindrome or not using user defined function.\n",
    "\n",
    "def palindrom_string(str):\n",
    "    b = \"\"       \n",
    "    for i in str:\n",
    "        b = i + b\n",
    "    if(str==b):\n",
    "        result = True\n",
    "    else:\n",
    "        result = False\n",
    "    return result\n",
    "a = input(\"enter a string :- \")\n",
    "result = palindrom_string(a)\n",
    "if result:\n",
    "    print(\"yes it is palindrome \")\n",
    "else:\n",
    "    print(\"no it is not palindrome \")\n",
    "\n",
    "\n",
    "\n",
    "# second method\n",
    "def palindrom_string_reverse(str):\n",
    "    new_str = str[::-1]\n",
    "    if str == new_str:\n",
    "        result = True\n",
    "    else:\n",
    "        result = False\n",
    "    return result\n",
    "a = input(\"enter a string\")\n",
    "\n",
    "result = palindrom_string_reverse(a)\n",
    "if result:\n",
    "    print(\"yes it is palindrome \")\n",
    "else:\n",
    "    print(\"no it is not palindrome \")"
   ]
  },
  {
   "cell_type": "code",
   "execution_count": 50,
   "id": "e12bb802-b29b-4247-b35a-85c3b18b12e4",
   "metadata": {},
   "outputs": [
    {
     "name": "stdout",
     "output_type": "stream",
     "text": [
      "enter first string\n",
      "ramesh\n",
      "enter second string\n",
      "reshma\n",
      "string is anagram\n"
     ]
    }
   ],
   "source": [
    "st1 = input(\"enter first string\\n\")\n",
    "st2 = input(\"enter second string\\n\")\n",
    "\n",
    "st1 = sorted(st1.lower())\n",
    "st2 = sorted(st2.lower())\n",
    "\n",
    "if(st1 == st2):\n",
    "    print(\"string is anagram\")\n",
    "else:\n",
    "    print(\"string is not anagram\")\n",
    "#  anagram string means a strings with same charecter sufffled\n",
    "#  reshma and ramesh are anagram string\n",
    "\n"
   ]
  },
  {
   "cell_type": "code",
   "execution_count": 51,
   "id": "4c1334c4-1a86-47cc-b6aa-0f932aa4a5e1",
   "metadata": {},
   "outputs": [
    {
     "name": "stdout",
     "output_type": "stream",
     "text": [
      "enter a principal amount :- \n",
      "4305\n",
      "enter a rate of interest :- \n",
      "6.8\n",
      "entwer a number of years :- \n",
      "2\n",
      "compound interest is :-  4910.3863200000005\n"
     ]
    }
   ],
   "source": [
    "# A = P(1+R/100)^N\n",
    "\n",
    "P = eval(input(\"enter a principal amount :- \\n\"))\n",
    "R = eval(input(\"enter a rate of interest :- \\n\"))\n",
    "N = eval(input(\"entwer a number of years :- \\n\"))\n",
    "B = 1 + R/100\n",
    "C = B**N\n",
    "A = P*C\n",
    "print(\"compound interest is :- \",A)"
   ]
  },
  {
   "cell_type": "code",
   "execution_count": 52,
   "id": "33ccf4bd-e677-4ab0-8ab7-68e82141f8ba",
   "metadata": {},
   "outputs": [
    {
     "name": "stdout",
     "output_type": "stream",
     "text": [
      "enter a distance in feet34\n",
      "enter a distance in inch7\n",
      "distance in centimeter :-  1037.5\n"
     ]
    }
   ],
   "source": [
    "# write a program to convert distance in centimeter from\n",
    "# feet and inch\n",
    "A = int(input(\"enter a distance in feet\"))\n",
    "B = int(input(\"enter a distance in inch\"))\n",
    "# hint 1feet=30cm and 1inch=2.5cm\n",
    "C = 30*A + 2.5*B\n",
    "print(\"distance in centimeter :- \",C)"
   ]
  },
  {
   "cell_type": "code",
   "execution_count": 53,
   "id": "3f3ee1e3-f6b8-499e-bb4a-819c7b0b4d8b",
   "metadata": {},
   "outputs": [
    {
     "name": "stdout",
     "output_type": "stream",
     "text": [
      "Enter A number : \n",
      "42\n",
      "number is harshed number\n"
     ]
    }
   ],
   "source": [
    "# number that divisible by the sum of its digit is known as \n",
    "# harshed number ex:- 21 here 2+1=3 and 21 is divisible by three.\n",
    "\n",
    "num = input(\"Enter A number : \\n\")\n",
    "sum = 0\n",
    "for i in num :\n",
    "    sum += int(i)\n",
    "num = int(num)\n",
    "if(num % sum == 0):\n",
    "    print(\"number is harshed number\")\n",
    "else:\n",
    "    print(\"numbre is not harshed number\")"
   ]
  },
  {
   "cell_type": "code",
   "execution_count": 54,
   "id": "66c9cf15-3f15-4d19-847a-cec284350a65",
   "metadata": {},
   "outputs": [
    {
     "name": "stdout",
     "output_type": "stream",
     "text": [
      "[[1, 3], [2, 2], [3, 1]]\n",
      "8\n"
     ]
    }
   ],
   "source": [
    "# You are assigned to put some amount of boxes onto one truck. You are given\n",
    "#  a 2D array boxTypes, where boxTypes[i] = [numberOfBoxesi, numberOfUnitsPerBoxi]:\n",
    "# numberOfBoxesi is the number of boxes of type i.\n",
    "# numberOfUnitsPerBoxi is the number of units in each box of the type i.\n",
    "# You are also given an integer truckSize, which is the maximum number of \n",
    "# boxes that can be put on the truck. You can choose any boxes to put on the \n",
    "# truck as long as the number of boxes does not exceed truckSize.\n",
    "# Return the maximum total number of units that can be put on the truck.\n",
    "# Example 1:\n",
    "# Input: boxTypes = [[1,3],[2,2],[3,1]], truckSize = 4\n",
    "# Output: 8\n",
    "\n",
    "boxTypes = [[3,1],[1,3],[2,2]] #[box,unit]\n",
    "truckSize = 4\n",
    "boxTypes.sort(reverse=True,key = lambda x:x[1])\n",
    "print(boxTypes) #converts into sorted[unit,box]\n",
    "ans = 0\n",
    "for i in boxTypes:\n",
    "    if truckSize>=i[0]:\n",
    "        truckSize-=i[0]\n",
    "        ans +=(i[0]*i[1])\n",
    "        continue\n",
    "    if truckSize<i[0] and truckSize!=0:\n",
    "        ans += (truckSize*i[1])\n",
    "        break\n",
    "print(ans)"
   ]
  },
  {
   "cell_type": "code",
   "execution_count": 57,
   "id": "806e7ade-e8cc-4e40-bb30-297724d9168a",
   "metadata": {},
   "outputs": [
    {
     "name": "stdout",
     "output_type": "stream",
     "text": [
      "enter Total No. of Vehicle\n",
      "50\n",
      "Enter Total No. of Wheels\n",
      "200\n"
     ]
    }
   ],
   "source": [
    "V = int(input(\"enter Total No. of Vehicle\\n\"))\n",
    "W = int(input(\"Enter Total No. of Wheels\\n\"))\n",
    "if(V>W or W<2 or W %2!=0):\n",
    "    print(\"INVALID INPUT\")\n",
    "else:\n",
    "    max2wheel = int(W/2) # possible maximum two wheels\n",
    "    max4wheel = int(W/4) # possible maximum four wheels\n",
    "    for i in range(0,max2wheel):\n",
    "        for j in range(0,max4wheel):\n",
    "            if((2*i + 4*j == W) and (i+j == 200) ): # checking for condition match\n",
    "                print(f\"two wheels {i} four wheels {j}\")"
   ]
  },
  {
   "cell_type": "code",
   "execution_count": 58,
   "id": "177c51f0-1121-44d4-9f21-c275635141e7",
   "metadata": {},
   "outputs": [
    {
     "name": "stdout",
     "output_type": "stream",
     "text": [
      "modulo is  3\n"
     ]
    }
   ],
   "source": [
    "# Iterative Function to calculate (p^q)%n in O(log q)\n",
    "def modulo(p, q, n):\n",
    "\tres = 1\n",
    "\twhile (q > 0):\n",
    "\t\tif ((q & 1) != 0):\n",
    "\t\t\tres = res * p\n",
    "\t\tq = q >> 1 # q = q/2\n",
    "\t\tp = p * p # Change p to p^2\n",
    "\treturn res % n\n",
    "p = 2\n",
    "q = 3\n",
    "n = 5\n",
    "print(\"modulo is \", modulo(p, q, n))\n"
   ]
  },
  {
   "cell_type": "code",
   "execution_count": 59,
   "id": "12ed29a0-a678-4d21-a8bd-0d6a9d1ea12f",
   "metadata": {},
   "outputs": [
    {
     "name": "stdout",
     "output_type": "stream",
     "text": [
      "18900\n"
     ]
    }
   ],
   "source": [
    "A = [[1,2,3],[4,10,6],[7,8,9]]\n",
    "sum1 = sum2 = 1\n",
    "row = 0\n",
    "column = 2\n",
    "# first diagonal\n",
    "for i in range(0,3):\n",
    "    for j in range(0,3):\n",
    "        if(i==j):\n",
    "            sum1 *= A[i][j]\n",
    "# second diagonal\n",
    "while(row<3):\n",
    "    for i in range(0,3):\n",
    "        for j in range(0,3):\n",
    "            if(i==row and j == column):\n",
    "                sum2 *= A[i][j]\n",
    "    row += 1\n",
    "    column -= 1\n",
    "# multiplication of diagonals\n",
    "print(sum1*sum2)        "
   ]
  },
  {
   "cell_type": "code",
   "execution_count": 60,
   "id": "ca60ba8a-dcf0-4717-b4a9-f4fdf2341992",
   "metadata": {},
   "outputs": [
    {
     "name": "stdout",
     "output_type": "stream",
     "text": [
      "enter nth number :- 12\n",
      "89\n"
     ]
    }
   ],
   "source": [
    "def fib(n):\n",
    "    a = 0\n",
    "    b = 1\n",
    "    if n<0:\n",
    "        print(\"envalid number entered\")\n",
    "    elif(n == 0):\n",
    "        return a\n",
    "    elif(n == 1):\n",
    "        return b\n",
    "    else:\n",
    "        for i in range(2,n):\n",
    "            c = a + b\n",
    "            a = b\n",
    "            b = c\n",
    "        return b\n",
    "num = int(input(\"enter nth number :- \"))\n",
    "print(fib(num))\n",
    "\n"
   ]
  },
  {
   "cell_type": "code",
   "execution_count": 61,
   "id": "bda945b5-7ef7-4946-abab-e134a9c7b2a7",
   "metadata": {},
   "outputs": [
    {
     "name": "stdout",
     "output_type": "stream",
     "text": [
      "223 3\n",
      "223 3\n"
     ]
    }
   ],
   "source": [
    "# write a program to find reminder and quotient of two numbers division\n",
    "A = 1564\n",
    "B = 7\n",
    "y = int(A/B) # quotient\n",
    "x = A - y * B # reminder\n",
    "print(y,x)\n",
    "\n",
    "m = A\n",
    "y = m//B # quotient \n",
    "x = A - y*B # reminder\n",
    "print(y,x)"
   ]
  },
  {
   "cell_type": "code",
   "execution_count": 62,
   "id": "9a90d5b7-0bb0-4d35-8fa5-9ed6941d3f37",
   "metadata": {},
   "outputs": [
    {
     "name": "stdout",
     "output_type": "stream",
     "text": [
      "40\n"
     ]
    }
   ],
   "source": [
    "A = [[1,2,3],[4,10,6],[7,8,9]]\n",
    "sum1 = sum2 = row = 0 \n",
    "column = 2\n",
    "# first diagonal\n",
    "for i in range(0,3):\n",
    "    for j in range(0,3):\n",
    "        if(i==j):\n",
    "            sum1 += A[i][j]\n",
    "# second diagonal\n",
    "while(row<3):\n",
    "    for i in range(0,3):\n",
    "        for j in range(0,3):\n",
    "            if(i==row and j == column):\n",
    "                sum2 += A[i][j]\n",
    "    row += 1\n",
    "    column -= 1\n",
    "# sum of diagonals\n",
    "print(sum1+sum2)        "
   ]
  },
  {
   "cell_type": "code",
   "execution_count": null,
   "id": "09560963-51ca-4e53-b0e0-4068c1f49a96",
   "metadata": {},
   "outputs": [],
   "source": []
  },
  {
   "cell_type": "code",
   "execution_count": null,
   "id": "1ad46e64-2778-492d-8a19-15e6e78e8537",
   "metadata": {},
   "outputs": [],
   "source": []
  },
  {
   "cell_type": "code",
   "execution_count": 63,
   "id": "b4c4354b-1f36-45d1-b55d-665829f7eb0a",
   "metadata": {},
   "outputs": [
    {
     "name": "stdout",
     "output_type": "stream",
     "text": [
      "The original string is : HiteshVaghela\n",
      "The string after removal of i'th character : HieshVaghela\n",
      "HieshVaghela\n"
     ]
    }
   ],
   "source": [
    "# remove i’th character from string in Python\n",
    "\n",
    "# first method\n",
    "test_str = \"HiteshVaghela\"\n",
    "print (\"The original string is : \" + test_str)\n",
    "new_str = \"\"\n",
    "for i in range(len(test_str)):\n",
    "    if i != 2:\n",
    "        new_str = new_str + test_str[i]\n",
    "print (\"The string after removal of i'th character : \" + new_str)\n",
    "\n",
    "# second method\n",
    "A = \"HiteshVaghela\"\n",
    "B = A.replace(A[2],\"\")\n",
    "print(B)"
   ]
  },
  {
   "cell_type": "code",
   "execution_count": 64,
   "id": "90d44b4f-1256-45d2-8a32-9a728ee9595c",
   "metadata": {},
   "outputs": [
    {
     "name": "stdout",
     "output_type": "stream",
     "text": [
      "YES\n"
     ]
    }
   ],
   "source": [
    "# Check if a Substring is Present in a Given String\n",
    "\n",
    "def check(s2, s1): \n",
    "    if (s2.count(s1)>0):     \n",
    "        print(\"YES\") \n",
    "    else: \n",
    "        print(\"NO\") \n",
    "              \n",
    "s2 = \"given character is present in string\"\n",
    "s1 =\"given\"\n",
    "check(s2, s1) "
   ]
  },
  {
   "cell_type": "code",
   "execution_count": 65,
   "id": "8ba5448b-4593-4ca5-b3a9-8bedb9478d36",
   "metadata": {},
   "outputs": [
    {
     "name": "stdout",
     "output_type": "stream",
     "text": [
      "The original string is : hitesh_is_good_boy\n",
      "The String after changing case : HiteshIsGoodBoy\n",
      "original string  hitesh_loves_coding\n",
      "hiteshLovesCoding\n"
     ]
    }
   ],
   "source": [
    "# snake case each word seperated with underscore \n",
    "# ex vaghela_hitesh_rameshbhai\n",
    "\n",
    "# camel case means first letter of first word is small all other words first letter is capital \n",
    "# ex vaghelaHiteshRameshbhai\n",
    "\n",
    "# pascal case all words first letter is capital\n",
    "# ex VaghelaHiteshRameshbhai\n",
    "\n",
    "# Convert Snake case to Pascal case\n",
    "test_str = 'hitesh_is_good_boy'\n",
    "print(\"The original string is : \" + test_str)\n",
    "# Convert Snake case to Pascal case\n",
    "# Using title() + replace()\n",
    "res = test_str.replace(\"_\", \" \").title().replace(\" \", \"\")\n",
    "print(\"The String after changing case : \" + str(res)) \n",
    "\n",
    "# covert snake case to camel case\n",
    "string1 = \"hitesh_loves_coding\"\n",
    "print(\"original string \" , string1)\n",
    "temp = string1.replace(\"_\",\" \").title().replace(\" \",\"\")\n",
    "temp1 = \"\"\n",
    "for i in range(len(temp)):\n",
    "    if i == 0:\n",
    "        temp1 += temp[i].lower()\n",
    "    else:\n",
    "        temp1 += temp[i]\n",
    "print(temp1)"
   ]
  },
  {
   "cell_type": "code",
   "execution_count": 66,
   "id": "53cf039d-cda7-4bb9-9159-753c261c0b2b",
   "metadata": {},
   "outputs": [
    {
     "name": "stdout",
     "output_type": "stream",
     "text": [
      "5\n",
      "6\n",
      "7\n"
     ]
    }
   ],
   "source": [
    "# Find length of a string in python\n",
    "\n",
    "# using len function\n",
    "str = \"lover\"\n",
    "print(len(str))\n",
    "\n",
    "# using for loop\n",
    "str1 = \"Hitesh\"\n",
    "lenght = 0\n",
    "for i in str1:\n",
    "    lenght += 1\n",
    "print(lenght)\n",
    "  \n",
    "# using Function\n",
    "def findLen(str):\n",
    "    counter = 0    \n",
    "    for i in str:\n",
    "        counter += 1\n",
    "    return counter\n",
    "\n",
    "str = \"vaghela\"\n",
    "print(findLen(str))"
   ]
  },
  {
   "cell_type": "code",
   "execution_count": 67,
   "id": "ca3988f2-d9f6-41a5-bba2-6d81cb12b291",
   "metadata": {},
   "outputs": [
    {
     "name": "stdout",
     "output_type": "stream",
     "text": [
      "abcdekl12@\n",
      "b21@5k\n",
      "matching Characters are :- b k 1 2 @ \n",
      " Count of total matching characters is :-  5\n"
     ]
    }
   ],
   "source": [
    "# Count the Number of matching characters in a pair of string\n",
    "# hint...\n",
    "# Input : str1 = 'aabcddekll12@'\n",
    "#         str2 = 'bb22ll@55k'\n",
    "# Output : 5\n",
    "# (i.e. matching characters :- b, 1, 2, @, k)\n",
    "\n",
    "str1 = \"aabcddekll12@\"\n",
    "str2 = \"bb2211@55k\"\n",
    "str3 = \"\"\n",
    "str4 = \"\"\n",
    "\n",
    "for i in str1:\n",
    "    if i not in str3:\n",
    "        str3 = str3 + i\n",
    "print(str3)\n",
    "\n",
    "for i in str2:\n",
    "    if i not in str4:\n",
    "        str4 = str4 + i\n",
    "print(str4)\n",
    "\n",
    "count = 0\n",
    "print(\"matching Characters are :- \",end=\"\")\n",
    "for i in str3:\n",
    "    if i in str4:\n",
    "        count +=1\n",
    "        print(i,end=\" \")\n",
    "print(\"\\n Count of total matching characters is :- \",count)"
   ]
  },
  {
   "cell_type": "code",
   "execution_count": 68,
   "id": "51b82fbb-c73e-4805-aeb0-5411a5b59b1c",
   "metadata": {},
   "outputs": [
    {
     "name": "stdout",
     "output_type": "stream",
     "text": [
      "Yes given string the quick brown fox jumps over the lazy dog is pangram\n"
     ]
    }
   ],
   "source": [
    "\n",
    "# PROGRAM 10 :-\n",
    "# Write a Python function to check whether a string is a pangram or not.\n",
    "# Pangrams are words or sentences containing every letter of the ALPHABET at least once.\n",
    "# ex \"The quick brown fox jumps over the lazy dog\"\n",
    "\n",
    "def ispangram(str):\n",
    "    alphabet = \"abcdefghijklmnopqrstuvwxyz\"\n",
    "    for char in alphabet:\n",
    "        if char not in str.lower():\n",
    "            return False\n",
    "    return True\n",
    "\n",
    "string = 'the quick brown fox jumps over the lazy dog'\n",
    "if(ispangram(string)):\n",
    "    print(f\"Yes given string {string} is pangram\")\n",
    "else:\n",
    "    print(f\"given string {string} is not pangram\")"
   ]
  },
  {
   "cell_type": "code",
   "execution_count": 69,
   "id": "c0d95e7d-67af-4418-921c-0dc8da9acc69",
   "metadata": {},
   "outputs": [
    {
     "name": "stdout",
     "output_type": "stream",
     "text": [
      "enter string 1 :hitesh\n",
      "enter string 2 :vaghela\n",
      "enter index where u want to add string :5\n",
      "hitesvaghelah\n"
     ]
    }
   ],
   "source": [
    "# PROGRAM 10 :-\n",
    "# Write a Python program to insert a substring in a string in a particular position.\n",
    "\n",
    "A = input(\"enter string 1 :\")\n",
    "B = input(\"enter string 2 :\")\n",
    "C = int(input(\"enter index where u want to add string :\"))\n",
    "E = A[ :C] + B +A[C: ]\n",
    "print(E)"
   ]
  },
  {
   "cell_type": "code",
   "execution_count": 70,
   "id": "ac31b494-a93f-4fb4-92bd-738cec1a0a78",
   "metadata": {},
   "outputs": [
    {
     "name": "stdout",
     "output_type": "stream",
     "text": [
      "i,e,a,e,a,\n",
      "number of vowel is :-  5\n"
     ]
    }
   ],
   "source": [
    "# Write a program to count number of vowels in given string \n",
    "\n",
    "def vowel_count(str):  \n",
    "    count = 0 \n",
    "    vowel = \"aeiouAEIOU\"\n",
    "    for i in str: \n",
    "        if i in vowel: \n",
    "            print(i,end=\",\")\n",
    "            count = count + 1\n",
    "    print(\"\\nnumber of vowel is :- \",count)\n",
    "str = \"hiteshvaghela\"\n",
    "vowel_count(str)"
   ]
  },
  {
   "cell_type": "code",
   "execution_count": 71,
   "id": "1e6b103e-a14c-48d9-aeba-ba50bd16f9c5",
   "metadata": {},
   "outputs": [
    {
     "name": "stdout",
     "output_type": "stream",
     "text": [
      "[70, 20, 30, 40, 50, 60, 10]\n"
     ]
    }
   ],
   "source": [
    "X = [10,20,30,40,50,60,70]\n",
    "y = len(X)\n",
    "X[0],X[y-1] = X[y-1],X[0]\n",
    "print(X)"
   ]
  },
  {
   "cell_type": "code",
   "execution_count": 72,
   "id": "6dc2f7cd-ff63-4431-b649-5553db8c0896",
   "metadata": {},
   "outputs": [
    {
     "name": "stdout",
     "output_type": "stream",
     "text": [
      "Enter A string to check   hitesh vaghela\n",
      "no\n"
     ]
    }
   ],
   "source": [
    "# check wheather a given string is making \n",
    "# palindrom by rearrangeing elements or not\n",
    "str = input(\"Enter A string to check   \")\n",
    "l = list(str)\n",
    "s1 = set(l)\n",
    "m = list(s1)\n",
    "B = [l.count(i) for i in m]\n",
    "c = 0\n",
    "for i in B:\n",
    "    if(i%2 != 0):\n",
    "        c += 1\n",
    "if(c>1):\n",
    "    print(\"no\")\n",
    "else:\n",
    "    print(\"yes\")"
   ]
  },
  {
   "cell_type": "code",
   "execution_count": null,
   "id": "391451ea-d101-4578-b106-67eb6851ba70",
   "metadata": {},
   "outputs": [],
   "source": []
  },
  {
   "cell_type": "code",
   "execution_count": null,
   "id": "fb1a014e-968f-417d-a3ca-255da836c2ea",
   "metadata": {},
   "outputs": [],
   "source": [
    "# csv read \n",
    "\n",
    "\n",
    "import csv\n",
    "import time\n",
    "\n",
    "startcsv = time.time()\n",
    "with open(\"stastic.csv\",mode=\"r\") as mydataset:\n",
    "    csvreader = csv.reader(mydataset)\n",
    "    row = []\n",
    "    for i in csvreader:\n",
    "        row.append(i)\n",
    "stopcsv = time.time() \n",
    "csvtime = stopcsv - startcsv\n",
    "print(\"time required for csv file reading using csv module is :- \",csvtime)\n",
    "\n",
    "import pandas as pd\n",
    "import time\n",
    "\n",
    "startpanda = time.time()\n",
    "dataset = pd.read_csv(\"stastic.csv\")\n",
    "row1 = []\n",
    "for i in dataset:\n",
    "    row1.append(i)\n",
    "stoppanda = time.time()\n",
    "pandatime = stoppanda - startpanda\n",
    "print(\"time required for csv file reading using panda module is :- \",pandatime)\n"
   ]
  },
  {
   "cell_type": "code",
   "execution_count": 73,
   "id": "f820fedd-3741-437c-b773-0633679c4015",
   "metadata": {},
   "outputs": [
    {
     "name": "stdout",
     "output_type": "stream",
     "text": [
      "[6, 7, 8, 6, 7]\n",
      "[6, 7, 8, 6, 7]\n"
     ]
    }
   ],
   "source": [
    "# filter function\n",
    "def grater_than_5(num):\n",
    "    if num > 5 :\n",
    "        return True\n",
    "    else :\n",
    "        return False\n",
    "\n",
    "list1 = [1,4,5,3,1,6,7,3,2,3,8,6,7]\n",
    "A = filter(grater_than_5,list1)\n",
    "B = list(A)\n",
    "print(B)\n",
    "\n",
    "g_5 = lambda num : num>5\n",
    "print( list( filter(g_5,list1) ) )"
   ]
  },
  {
   "cell_type": "code",
   "execution_count": 74,
   "id": "93f04cf0-0dda-4870-be6d-364e8114780a",
   "metadata": {},
   "outputs": [
    {
     "name": "stdout",
     "output_type": "stream",
     "text": [
      " my name is hitesh. my father name is rameshbhai. my surname is vaghela.\n",
      " my name is hitesh. my father name is rameshbhai. my surname is vaghela.\n"
     ]
    }
   ],
   "source": [
    "# formating\n",
    "A = \"hitesh\"\n",
    "B = \"rameshbhai\"\n",
    "C = \"vaghela\"\n",
    "print(\" my name is {}. my father name is {}. my surname is {}.\".format(A,B,C))\n",
    "print(\" my name is {2}. my father name is {0}. my surname is {1}.\".format(B,C,A))"
   ]
  },
  {
   "cell_type": "code",
   "execution_count": 75,
   "id": "2c58f355-fa4b-4c4f-a1e5-6cc56d61c162",
   "metadata": {},
   "outputs": [
    {
     "name": "stdout",
     "output_type": "stream",
     "text": [
      "[1, 9, 25]\n",
      "[1, 9, 25]\n"
     ]
    }
   ],
   "source": [
    "# map function\n",
    "square = lambda X : X*X\n",
    "A = [1,3,5]\n",
    "# want to create a list of A list square list\n",
    "\n",
    "# method 1\n",
    "B = []\n",
    "for i in A :\n",
    "    B.append(square(i))\n",
    "print(B)\n",
    "\n",
    "# method 2\n",
    "B = list(map(square,A))\n",
    "print(B)"
   ]
  },
  {
   "cell_type": "code",
   "execution_count": 76,
   "id": "3e58d448-92ec-4ab2-aee6-7311399e1acd",
   "metadata": {},
   "outputs": [
    {
     "name": "stdout",
     "output_type": "stream",
     "text": [
      "28\n",
      "8\n",
      "5.3125\n"
     ]
    }
   ],
   "source": [
    "# reduce function is used to reduce data\n",
    "from functools import reduce\n",
    "list = [3,6,8,7,4]\n",
    "sum = lambda a,b :a+b\n",
    "red = reduce(sum,list)\n",
    "print(red)\n",
    "\n",
    "def max(a,b):\n",
    "    if a>b:\n",
    "        return a\n",
    "    else:\n",
    "        return b\n",
    "A = reduce(max,list)\n",
    "print(A)\n",
    "\n",
    "def avg(a,b):\n",
    "    return (a+b)/2\n",
    "B = reduce(avg,list)\n",
    "print(B)"
   ]
  },
  {
   "cell_type": "code",
   "execution_count": 77,
   "id": "fd8aef35-e514-45aa-8093-93ccb7c3dc33",
   "metadata": {},
   "outputs": [
    {
     "name": "stdout",
     "output_type": "stream",
     "text": [
      "hitesh and ravi and yagnik and vishvjit\n",
      "hitesh,ravi,yagnik,vishvjit\n",
      "<class 'str'>\n"
     ]
    }
   ],
   "source": [
    "A = [\"hitesh\",\"ravi\",\"yagnik\",\"vishvjit\"]\n",
    "B = \" and \".join(A)\n",
    "print(B)\n",
    "C = \",\".join(A)\n",
    "print(C)\n",
    "print(type(C))"
   ]
  },
  {
   "cell_type": "code",
   "execution_count": 78,
   "id": "15e7fe0f-953e-4b24-a811-4ea715190ee2",
   "metadata": {},
   "outputs": [
    {
     "name": "stdout",
     "output_type": "stream",
     "text": [
      "25\n",
      "16\n",
      "18\n"
     ]
    }
   ],
   "source": [
    "# lambda function is similar to def function\n",
    "\n",
    "square = lambda A:A*A\n",
    "print(square(5))\n",
    "\n",
    "def square(A):\n",
    "    return A*A\n",
    "print(square(4))\n",
    "# this both are same codes\n",
    "# but we need to write a function in one line\n",
    "# then we will use lambda function\n",
    "sum = lambda a,b,c : a+b+c\n",
    "print(sum(3,6,9))\n",
    "\n"
   ]
  },
  {
   "cell_type": "code",
   "execution_count": null,
   "id": "db799c95-3dd7-4056-83ef-3be96df0429c",
   "metadata": {},
   "outputs": [],
   "source": []
  }
 ],
 "metadata": {
  "kernelspec": {
   "display_name": "Python 3 (ipykernel)",
   "language": "python",
   "name": "python3"
  },
  "language_info": {
   "codemirror_mode": {
    "name": "ipython",
    "version": 3
   },
   "file_extension": ".py",
   "mimetype": "text/x-python",
   "name": "python",
   "nbconvert_exporter": "python",
   "pygments_lexer": "ipython3",
   "version": "3.10.6"
  }
 },
 "nbformat": 4,
 "nbformat_minor": 5
}
