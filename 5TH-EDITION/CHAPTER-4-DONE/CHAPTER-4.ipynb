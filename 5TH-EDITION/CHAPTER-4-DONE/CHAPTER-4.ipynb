{
 "cells": [
  {
   "cell_type": "markdown",
   "id": "15020995",
   "metadata": {},
   "source": [
    "<h1 style='color:red' > Overview of Python Object Types </h1>   "
   ]
  },
  {
   "cell_type": "markdown",
   "id": "ba85638c",
   "metadata": {},
   "source": [
    "- in a Python script we consider everything as an object.\n",
    "- data is also considered as an objects, so object type is nothing but an datatypes.\n",
    "- there are mainly two data types in python...\n",
    "  1. built-in objects that Python provides.(primitive datatype)\n",
    "  2. objects we create using Python classes or external language tools such as C extension libraries.(non-primitive datatype)\n",
    "     - also known as reference type"
   ]
  },
  {
   "cell_type": "markdown",
   "id": "56ecb5e0",
   "metadata": {},
   "source": [
    "<h2 style='color:blue' > Python Conceptual Hierarchy"
   ]
  },
  {
   "cell_type": "markdown",
   "id": "f6fd2c4e",
   "metadata": {},
   "source": [
    "> Programs\n",
    ">> Modules \n",
    ">>> Statements\n",
    ">>>> Expressions\n",
    ">>>>> objects or data"
   ]
  },
  {
   "cell_type": "markdown",
   "id": "2e43c7f4",
   "metadata": {},
   "source": [
    "here we can clearly see that...\n",
    "- data is object and by Expression we process on data.\n",
    "- if we combine many Expressions and data it brecomes a sentenece.\n",
    "- module contains a many statements and program is composed of modules."
   ]
  },
  {
   "cell_type": "markdown",
   "id": "838c72e1",
   "metadata": {},
   "source": [
    "<h2 style='color:green' > Why Use Built-in Types?"
   ]
  },
  {
   "cell_type": "markdown",
   "id": "8e787e82",
   "metadata": {},
   "source": [
    "- Built-in objects make programs easy to write. \n",
    "- Built-in objects are components of extensions and reference or non primitive datatypes.\n",
    "    - objects implemented manually are often built on top of built-in types such as lists and dictionaries. For instance, a           stack data structure may be implemented as a class that manages or customizes a built-in list.\n",
    "- Built-in objects are often more efficient than custom data structures."
   ]
  },
  {
   "cell_type": "markdown",
   "id": "16daae3c",
   "metadata": {},
   "source": [
    "<h2 style='color:blue' > Built-in objects preview"
   ]
  },
  {
   "cell_type": "markdown",
   "id": "ebb51c93",
   "metadata": {},
   "source": [
    "<table border='2' style='width:640px;' >\n",
    "<tr> \n",
    "    <th> Object type </td>\n",
    "    <th> Example literals/creation </td>\n",
    "</tr>\n",
    "\n",
    "<tr> \n",
    "    <td> Numbers </td>\n",
    "    <td> 1234, 3.1415, 3+4j, 0b111, Decimal(), Fraction() </td>\n",
    "</tr>\n",
    "\n",
    "<tr> \n",
    "    <td> Strings </td>\n",
    "    <td> 'spam', \"Bob's\", b'a\\x01c', u'sp\\xc4m' </td>\n",
    "</tr>\n",
    "\n",
    "<tr> \n",
    "    <td> Lists </td>\n",
    "    <td> [1, [2, 'three'], 4.5], list(range(10)) </td>\n",
    "</tr>\n",
    "\n",
    "<tr> \n",
    "    <td> Dictionaries </td>\n",
    "    <td> {'food': 'spam', 'taste': 'yum'}, dict(hours=10) </td>\n",
    "</tr>\n",
    "\n",
    "<tr> \n",
    "    <td> Tuples </td>\n",
    "    <td> (1, 'spam', 4, 'U'), tuple('spam'), namedtuple </td>\n",
    "</tr>\n",
    "\n",
    "<tr> \n",
    "    <td> Files </td>\n",
    "    <td> open('eggs.txt'), open(r'C:\\ham.bin', 'wb') </td>\n",
    "</tr>\n",
    "\n",
    "<tr> \n",
    "    <td> Sets </td>\n",
    "    <td> set('abc'), {'a', 'b', 'c'} </td>\n",
    "</tr>\n",
    "\n",
    "<tr> \n",
    "    <td> Other core types </td>\n",
    "    <td> Booleans, types, None,Fraction,decimal,class </td>\n",
    "</tr>\n",
    "</table>"
   ]
  },
  {
   "cell_type": "markdown",
   "id": "8f9570f2",
   "metadata": {},
   "source": [
    "<h2 style='color:green' > Numbers"
   ]
  },
  {
   "cell_type": "markdown",
   "id": "4907f79e",
   "metadata": {},
   "source": [
    "- integers that have no fractional part\n",
    "- floating-point numbers that do and more exotic types\n",
    "- complex numbers with imaginary parts\n",
    "- decimals with fixed precision\n",
    "- rationals with numerator and denominator and full-featured sets."
   ]
  },
  {
   "cell_type": "markdown",
   "id": "1fb9b30a",
   "metadata": {},
   "source": [
    "Numbers in Python support the normal mathematical operations. for Ex...\n",
    "- the plus sign `+` performs addition, a star `*` is used for multiplication, and two stars `**`are used for exponentiation"
   ]
  },
  {
   "cell_type": "code",
   "execution_count": 1,
   "id": "8319aed4",
   "metadata": {},
   "outputs": [
    {
     "data": {
      "text/plain": [
       "345"
      ]
     },
     "execution_count": 1,
     "metadata": {},
     "output_type": "execute_result"
    }
   ],
   "source": [
    "123 + 222 # Integer addition"
   ]
  },
  {
   "cell_type": "code",
   "execution_count": 2,
   "id": "a04a3c51",
   "metadata": {},
   "outputs": [
    {
     "data": {
      "text/plain": [
       "6.0"
      ]
     },
     "execution_count": 2,
     "metadata": {},
     "output_type": "execute_result"
    }
   ],
   "source": [
    "1.5 * 4 # Floating-point multiplication"
   ]
  },
  {
   "cell_type": "code",
   "execution_count": 3,
   "id": "f9b6b9f0",
   "metadata": {},
   "outputs": [
    {
     "data": {
      "text/plain": [
       "1267650600228229401496703205376"
      ]
     },
     "execution_count": 3,
     "metadata": {},
     "output_type": "execute_result"
    }
   ],
   "source": [
    "2 ** 100 # 2 to the power 100"
   ]
  },
  {
   "cell_type": "code",
   "execution_count": 4,
   "id": "e5ded99b",
   "metadata": {},
   "outputs": [
    {
     "data": {
      "text/plain": [
       "3011"
      ]
     },
     "execution_count": 4,
     "metadata": {},
     "output_type": "execute_result"
    }
   ],
   "source": [
    "# number object has no len object so it wouldn't work here...\n",
    "len(str(2 ** 10000)) # How many digits in a really BIG number?"
   ]
  },
  {
   "cell_type": "markdown",
   "id": "d9c1fc8d",
   "metadata": {},
   "source": [
    "3.1415 * 2  <span style='color:red' > # repr: as code (Pythons less than 2.7 and 3.1) </span> <br>\n",
    "<span style='color:blue' > >>> 6.2830000000000004 </span> <br>\n",
    "print(3.1415 * 2) <span style='color:red' > # str: user-friendly </span> <br>\n",
    "<span style='color:blue' > >>> 6.283"
   ]
  },
  {
   "cell_type": "markdown",
   "id": "4f386bf4",
   "metadata": {},
   "source": [
    "- first form is known as an object’s as-code repr \n",
    "- second is known as a its user-friendly str"
   ]
  },
  {
   "cell_type": "markdown",
   "id": "39bfcac5",
   "metadata": {},
   "source": [
    "<h2 style='color:green' > Strings"
   ]
  },
  {
   "cell_type": "markdown",
   "id": "864b6b5f",
   "metadata": {},
   "source": [
    "- Strings are used to record both textual information (your name, for instance) as well as arbitrary collections of bytes.\n",
    "- strings are sequences of one-character strings.\n",
    "- more general sequence types include lists and tuples"
   ]
  },
  {
   "cell_type": "markdown",
   "id": "61a12296",
   "metadata": {},
   "source": [
    "<p style='color:red' > In Python, indexes are coded as offsets from the front, and so start from 0: the first item\n",
    "is at index 0, the second is at index 1, and so on"
   ]
  },
  {
   "cell_type": "markdown",
   "id": "83e15a99",
   "metadata": {},
   "source": [
    "<h3 style='color:blue' > Sequence Operations </h3>"
   ]
  },
  {
   "cell_type": "markdown",
   "id": "244c76fe",
   "metadata": {},
   "source": [
    "- we can verify string length with the built-in len function \n",
    "- we can fetch string components with indexing expressions"
   ]
  },
  {
   "cell_type": "code",
   "execution_count": 5,
   "id": "b0583ba1",
   "metadata": {},
   "outputs": [
    {
     "data": {
      "text/plain": [
       "4"
      ]
     },
     "execution_count": 5,
     "metadata": {},
     "output_type": "execute_result"
    }
   ],
   "source": [
    "S = 'Spam' # Make a 4-character string, and assign it to a name\n",
    "len(S) # Length"
   ]
  },
  {
   "cell_type": "code",
   "execution_count": 6,
   "id": "5b8d245d",
   "metadata": {},
   "outputs": [
    {
     "data": {
      "text/plain": [
       "'S'"
      ]
     },
     "execution_count": 6,
     "metadata": {},
     "output_type": "execute_result"
    }
   ],
   "source": [
    "S[0] # The first item in S, indexing by zero-based position"
   ]
  },
  {
   "cell_type": "code",
   "execution_count": 7,
   "id": "bb499b7d",
   "metadata": {},
   "outputs": [
    {
     "data": {
      "text/plain": [
       "'p'"
      ]
     },
     "execution_count": 7,
     "metadata": {},
     "output_type": "execute_result"
    }
   ],
   "source": [
    "S[1] # The second item from the left"
   ]
  },
  {
   "cell_type": "markdown",
   "id": "0867820f",
   "metadata": {},
   "source": [
    "- In Python we can also index backward from the end\n",
    "    - positive indexes count from the left\n",
    "    - negative indexes count back from the right"
   ]
  },
  {
   "cell_type": "code",
   "execution_count": 8,
   "id": "b0f28ef5",
   "metadata": {},
   "outputs": [
    {
     "data": {
      "text/plain": [
       "'m'"
      ]
     },
     "execution_count": 8,
     "metadata": {},
     "output_type": "execute_result"
    }
   ],
   "source": [
    "S[-1] # The last item from the end in S"
   ]
  },
  {
   "cell_type": "code",
   "execution_count": 9,
   "id": "5868f5eb",
   "metadata": {},
   "outputs": [
    {
     "data": {
      "text/plain": [
       "'a'"
      ]
     },
     "execution_count": 9,
     "metadata": {},
     "output_type": "execute_result"
    }
   ],
   "source": [
    "S[-2] # The second-to-last item from the end"
   ]
  },
  {
   "cell_type": "markdown",
   "id": "95897ee8",
   "metadata": {},
   "source": [
    "- technically a negative index is simply added to the string’s length so the following two operations are equivalent"
   ]
  },
  {
   "cell_type": "code",
   "execution_count": 10,
   "id": "3eb5755a",
   "metadata": {},
   "outputs": [
    {
     "data": {
      "text/plain": [
       "'m'"
      ]
     },
     "execution_count": 10,
     "metadata": {},
     "output_type": "execute_result"
    }
   ],
   "source": [
    "S[-1] # The last item in S"
   ]
  },
  {
   "cell_type": "code",
   "execution_count": 11,
   "id": "36b271b5",
   "metadata": {},
   "outputs": [
    {
     "data": {
      "text/plain": [
       "'m'"
      ]
     },
     "execution_count": 11,
     "metadata": {},
     "output_type": "execute_result"
    }
   ],
   "source": [
    "S[len(S)-1] # Negative indexing, the hard way"
   ]
  },
  {
   "cell_type": "markdown",
   "id": "c11c4743",
   "metadata": {},
   "source": [
    "- sequences also support a more general form of indexing known as slicing.\n",
    "- which is a way to extract an entire section (slice) in a single step. For example:"
   ]
  },
  {
   "cell_type": "code",
   "execution_count": 12,
   "id": "a1b4f652",
   "metadata": {},
   "outputs": [
    {
     "data": {
      "text/plain": [
       "'Spam'"
      ]
     },
     "execution_count": 12,
     "metadata": {},
     "output_type": "execute_result"
    }
   ],
   "source": [
    "S "
   ]
  },
  {
   "cell_type": "code",
   "execution_count": 13,
   "id": "3ae7e7bc",
   "metadata": {},
   "outputs": [
    {
     "data": {
      "text/plain": [
       "'pa'"
      ]
     },
     "execution_count": 13,
     "metadata": {},
     "output_type": "execute_result"
    }
   ],
   "source": [
    "# it Slice of S from offsets 1 to offsets 3. here...\n",
    "# first offset is included and last offset is excluded \n",
    "S[1:3] "
   ]
  },
  {
   "cell_type": "markdown",
   "id": "3bac8524",
   "metadata": {},
   "source": [
    "- general form of slicing is X[I:J]\n",
    "- it returns everything in X from offset I up to offset J but not including offset J. \n",
    "- The result is returned in a new object."
   ]
  },
  {
   "cell_type": "markdown",
   "id": "71c7f528",
   "metadata": {},
   "source": [
    "- In a slicing....\n",
    "    - the left bound defaults to zero\n",
    "    - the right bound defaults to the length of the sequence being sliced."
   ]
  },
  {
   "cell_type": "code",
   "execution_count": 14,
   "id": "31c41dc1",
   "metadata": {},
   "outputs": [
    {
     "data": {
      "text/plain": [
       "'pam'"
      ]
     },
     "execution_count": 14,
     "metadata": {},
     "output_type": "execute_result"
    }
   ],
   "source": [
    "S[1:] # Everything past the first (1:len(S))"
   ]
  },
  {
   "cell_type": "code",
   "execution_count": 15,
   "id": "2c225c4d",
   "metadata": {},
   "outputs": [
    {
     "data": {
      "text/plain": [
       "'Spam'"
      ]
     },
     "execution_count": 15,
     "metadata": {},
     "output_type": "execute_result"
    }
   ],
   "source": [
    "S # S itself hasn't changed"
   ]
  },
  {
   "cell_type": "code",
   "execution_count": 16,
   "id": "c65a69b3",
   "metadata": {},
   "outputs": [
    {
     "data": {
      "text/plain": [
       "'Spa'"
      ]
     },
     "execution_count": 16,
     "metadata": {},
     "output_type": "execute_result"
    }
   ],
   "source": [
    "S[0:3] # Everything but the last"
   ]
  },
  {
   "cell_type": "code",
   "execution_count": 17,
   "id": "3545e24f",
   "metadata": {},
   "outputs": [
    {
     "data": {
      "text/plain": [
       "'Spa'"
      ]
     },
     "execution_count": 17,
     "metadata": {},
     "output_type": "execute_result"
    }
   ],
   "source": [
    "S[:3] # Same as S[0:3]"
   ]
  },
  {
   "cell_type": "code",
   "execution_count": 18,
   "id": "1229e805",
   "metadata": {},
   "outputs": [
    {
     "data": {
      "text/plain": [
       "'Spa'"
      ]
     },
     "execution_count": 18,
     "metadata": {},
     "output_type": "execute_result"
    }
   ],
   "source": [
    "S[:-1] # Everything but the last again, but simpler (0:-1)"
   ]
  },
  {
   "cell_type": "code",
   "execution_count": 19,
   "id": "2c7104a2",
   "metadata": {},
   "outputs": [
    {
     "data": {
      "text/plain": [
       "'Spam'"
      ]
     },
     "execution_count": 19,
     "metadata": {},
     "output_type": "execute_result"
    }
   ],
   "source": [
    "S[:] # All of S as a top-level copy (0:len(S))"
   ]
  },
  {
   "cell_type": "markdown",
   "id": "7d85a805",
   "metadata": {},
   "source": [
    "- as sequences strings also support concatenation with the plus sign and repetition with star sign.\n",
    "- concatenation means joining two strings into a new string.\n",
    "- repetition means making a new string by repeating string many times."
   ]
  },
  {
   "cell_type": "code",
   "execution_count": 20,
   "id": "0a3998e7",
   "metadata": {},
   "outputs": [
    {
     "data": {
      "text/plain": [
       "'Spam'"
      ]
     },
     "execution_count": 20,
     "metadata": {},
     "output_type": "execute_result"
    }
   ],
   "source": [
    "S"
   ]
  },
  {
   "cell_type": "code",
   "execution_count": 21,
   "id": "5352acc1",
   "metadata": {},
   "outputs": [
    {
     "data": {
      "text/plain": [
       "'Spam HITESH'"
      ]
     },
     "execution_count": 21,
     "metadata": {},
     "output_type": "execute_result"
    }
   ],
   "source": [
    "S + ' HITESH' # Concatenation"
   ]
  },
  {
   "cell_type": "code",
   "execution_count": 22,
   "id": "b8d6eb1a",
   "metadata": {},
   "outputs": [
    {
     "data": {
      "text/plain": [
       "'Spam'"
      ]
     },
     "execution_count": 22,
     "metadata": {},
     "output_type": "execute_result"
    }
   ],
   "source": [
    "S # original string S is unchanged as it creates a new object each time."
   ]
  },
  {
   "cell_type": "code",
   "execution_count": 23,
   "id": "7460abcf",
   "metadata": {},
   "outputs": [],
   "source": [
    "# if we want to make change in original string and modify it we need to assign it with original referernce.\n",
    "# howevwer this operatiion also cretes a new object.\n",
    "S = S + ' HITESH ' # Concatenation"
   ]
  },
  {
   "cell_type": "code",
   "execution_count": 24,
   "id": "f661cb89",
   "metadata": {},
   "outputs": [
    {
     "data": {
      "text/plain": [
       "'Spam HITESH '"
      ]
     },
     "execution_count": 24,
     "metadata": {},
     "output_type": "execute_result"
    }
   ],
   "source": [
    "S"
   ]
  },
  {
   "cell_type": "code",
   "execution_count": 25,
   "id": "ac473122",
   "metadata": {},
   "outputs": [
    {
     "data": {
      "text/plain": [
       "'Spam HITESH Spam HITESH Spam HITESH Spam HITESH Spam HITESH Spam HITESH Spam HITESH Spam HITESH '"
      ]
     },
     "execution_count": 25,
     "metadata": {},
     "output_type": "execute_result"
    }
   ],
   "source": [
    ">>> S * 8 # Repetition"
   ]
  },
  {
   "cell_type": "markdown",
   "id": "3127f549",
   "metadata": {},
   "source": [
    "in Python...\n",
    "- the meaning of an operation depends on the objects being operated on.\n",
    "- the plus sign (+) means different things for different objects: addition for numbers, and concatenation for strings.\n",
    "- This property of Python is  called as a polymorphism."
   ]
  },
  {
   "cell_type": "markdown",
   "id": "670079c1",
   "metadata": {},
   "source": [
    "Immutability\n",
    "- strings are immutable datatype.\n",
    "- we can never overwrite the values of immutable objects.\n",
    "- beacause of this we were not changing the original string with any of the operations we ran on it. \n",
    "- Every string operation is defined to produce a new string as its result. "
   ]
  },
  {
   "cell_type": "code",
   "execution_count": 26,
   "id": "c6ad7d2d",
   "metadata": {},
   "outputs": [],
   "source": [
    "S = 'Spam'"
   ]
  },
  {
   "cell_type": "code",
   "execution_count": 27,
   "id": "dc6c75ae",
   "metadata": {},
   "outputs": [
    {
     "data": {
      "text/plain": [
       "'S'"
      ]
     },
     "execution_count": 27,
     "metadata": {},
     "output_type": "execute_result"
    }
   ],
   "source": [
    "S[0]"
   ]
  },
  {
   "cell_type": "code",
   "execution_count": 28,
   "id": "47934a04",
   "metadata": {},
   "outputs": [
    {
     "ename": "TypeError",
     "evalue": "'str' object does not support item assignment",
     "output_type": "error",
     "traceback": [
      "\u001b[1;31m---------------------------------------------------------------------------\u001b[0m",
      "\u001b[1;31mTypeError\u001b[0m                                 Traceback (most recent call last)",
      "Input \u001b[1;32mIn [28]\u001b[0m, in \u001b[0;36m<cell line: 1>\u001b[1;34m()\u001b[0m\n\u001b[1;32m----> 1\u001b[0m \u001b[43mS\u001b[49m\u001b[43m[\u001b[49m\u001b[38;5;241;43m0\u001b[39;49m\u001b[43m]\u001b[49m \u001b[38;5;241m=\u001b[39m \u001b[38;5;124m'\u001b[39m\u001b[38;5;124mz\u001b[39m\u001b[38;5;124m'\u001b[39m\n",
      "\u001b[1;31mTypeError\u001b[0m: 'str' object does not support item assignment"
     ]
    }
   ],
   "source": [
    "S[0] = 'z' # Immutable objects cannot be changed"
   ]
  },
  {
   "cell_type": "code",
   "execution_count": 29,
   "id": "735c6b04",
   "metadata": {},
   "outputs": [],
   "source": [
    " # But we can run expressions to make new objects\n",
    "S = 'z' + S[1:]"
   ]
  },
  {
   "cell_type": "code",
   "execution_count": 30,
   "id": "d06bcfd0",
   "metadata": {},
   "outputs": [
    {
     "data": {
      "text/plain": [
       "'zpam'"
      ]
     },
     "execution_count": 30,
     "metadata": {},
     "output_type": "execute_result"
    }
   ],
   "source": [
    "S"
   ]
  },
  {
   "cell_type": "markdown",
   "id": "6c9dc429",
   "metadata": {},
   "source": [
    "- Every object in Python is classified as either immutable (unchangeable) or not.\n",
    "- In terms of the core types...\n",
    "    - numbers, strings, and tuples are immutable.\n",
    "    - lists, dictionaries, and sets are not-immutable."
   ]
  },
  {
   "cell_type": "markdown",
   "id": "363215a1",
   "metadata": {},
   "source": [
    "- we can change text-based data in place by...\n",
    "    - expand it into a list of individual characters and join it back together with nothing between.\n",
    "    - using the newer bytearray type available in Python."
   ]
  },
  {
   "cell_type": "code",
   "execution_count": 31,
   "id": "c4811cd4",
   "metadata": {},
   "outputs": [
    {
     "data": {
      "text/plain": [
       "['H', 'I', 'T', 'E', 'D', 'H']"
      ]
     },
     "execution_count": 31,
     "metadata": {},
     "output_type": "execute_result"
    }
   ],
   "source": [
    "S = 'HITEDH'\n",
    "L = list(S) # Expand to a list: [...]\n",
    "L"
   ]
  },
  {
   "cell_type": "code",
   "execution_count": 32,
   "id": "9b6174b3",
   "metadata": {},
   "outputs": [
    {
     "data": {
      "text/plain": [
       "'HITESH'"
      ]
     },
     "execution_count": 32,
     "metadata": {},
     "output_type": "execute_result"
    }
   ],
   "source": [
    "L[4] = 'S' # Change it in place\n",
    "S = ''.join(L) # Join with empty delimiter\n",
    "S"
   ]
  },
  {
   "cell_type": "code",
   "execution_count": 33,
   "id": "c94c944c",
   "metadata": {},
   "outputs": [
    {
     "data": {
      "text/plain": [
       "bytearray(b'spameggs')"
      ]
     },
     "execution_count": 33,
     "metadata": {},
     "output_type": "execute_result"
    }
   ],
   "source": [
    "B = bytearray(b'spam')\n",
    "B.extend(b'eggs') \n",
    "B"
   ]
  },
  {
   "cell_type": "code",
   "execution_count": 34,
   "id": "a9e3e77d",
   "metadata": {},
   "outputs": [
    {
     "data": {
      "text/plain": [
       "'spameggs'"
      ]
     },
     "execution_count": 34,
     "metadata": {},
     "output_type": "execute_result"
    }
   ],
   "source": [
    "B.decode() # Translate to normal string"
   ]
  },
  {
   "cell_type": "markdown",
   "id": "b6897e59",
   "metadata": {},
   "source": [
    "- string find method is the basic substring search operation in string.\n",
    "- it returns the offset of the passed-in substring or −1 if it is not present.\n",
    "- it always returns the first occurence of the string matched.\n",
    "- string replace method performs global searches and replacements"
   ]
  },
  {
   "cell_type": "code",
   "execution_count": 35,
   "id": "269aacdb",
   "metadata": {},
   "outputs": [
    {
     "data": {
      "text/plain": [
       "0"
      ]
     },
     "execution_count": 35,
     "metadata": {},
     "output_type": "execute_result"
    }
   ],
   "source": [
    "S = 'Hi my name is Hitesh'\n",
    ">>> S.find('Hi') # Find the offset of a substring in S"
   ]
  },
  {
   "cell_type": "code",
   "execution_count": 36,
   "id": "e5fcd172",
   "metadata": {},
   "outputs": [
    {
     "data": {
      "text/plain": [
       "'Hi my name is Hitesh'"
      ]
     },
     "execution_count": 36,
     "metadata": {},
     "output_type": "execute_result"
    }
   ],
   "source": [
    "S"
   ]
  },
  {
   "cell_type": "code",
   "execution_count": 37,
   "id": "f0a6d467",
   "metadata": {},
   "outputs": [
    {
     "data": {
      "text/plain": [
       "'mine my name is minetesh'"
      ]
     },
     "execution_count": 37,
     "metadata": {},
     "output_type": "execute_result"
    }
   ],
   "source": [
    "S.replace('Hi', 'mine') # Replace occurrences of a string in S with another"
   ]
  },
  {
   "cell_type": "code",
   "execution_count": 38,
   "id": "24c0d028",
   "metadata": {},
   "outputs": [
    {
     "data": {
      "text/plain": [
       "'Hi my name is Hitesh'"
      ]
     },
     "execution_count": 38,
     "metadata": {},
     "output_type": "execute_result"
    }
   ],
   "source": [
    "S"
   ]
  },
  {
   "cell_type": "markdown",
   "id": "a41b6d1a",
   "metadata": {},
   "source": [
    "- split method - split a string into substrings based on a delimiter  \n",
    "- Upper() and Lower() - perform case conversions\n",
    "- isalpha(), isnum() - test the content of the string (digits,letters, and so on)\n",
    "- strip()- removes a whitespace characters off the ends of the string."
   ]
  },
  {
   "cell_type": "code",
   "execution_count": 39,
   "id": "9da0acda",
   "metadata": {},
   "outputs": [
    {
     "data": {
      "text/plain": [
       "['aaa', 'bbb', 'ccccc', 'dd']"
      ]
     },
     "execution_count": 39,
     "metadata": {},
     "output_type": "execute_result"
    }
   ],
   "source": [
    "line = 'aaa,bbb,ccccc,dd'\n",
    "line.split(',') # Split on a delimiter into a list of substrings"
   ]
  },
  {
   "cell_type": "code",
   "execution_count": 40,
   "id": "d0d5c6e2",
   "metadata": {},
   "outputs": [
    {
     "data": {
      "text/plain": [
       "'SPAM'"
      ]
     },
     "execution_count": 40,
     "metadata": {},
     "output_type": "execute_result"
    }
   ],
   "source": [
    "S = 'spam'\n",
    "S.upper() # Upper- and lowercase conversions"
   ]
  },
  {
   "cell_type": "code",
   "execution_count": 41,
   "id": "aeb17067",
   "metadata": {},
   "outputs": [
    {
     "data": {
      "text/plain": [
       "'spam'"
      ]
     },
     "execution_count": 41,
     "metadata": {},
     "output_type": "execute_result"
    }
   ],
   "source": [
    "S = 'SPAM'\n",
    "S.lower() # Upper- and lowercase conversions"
   ]
  },
  {
   "cell_type": "code",
   "execution_count": 42,
   "id": "eb7beaa5",
   "metadata": {},
   "outputs": [
    {
     "data": {
      "text/plain": [
       "True"
      ]
     },
     "execution_count": 42,
     "metadata": {},
     "output_type": "execute_result"
    }
   ],
   "source": [
    "S.isalpha() # Content tests: isalpha, isdigit, etc."
   ]
  },
  {
   "cell_type": "code",
   "execution_count": 43,
   "id": "3ff2ada3",
   "metadata": {},
   "outputs": [
    {
     "data": {
      "text/plain": [
       "'aaa,bbb,ccccc,dd'"
      ]
     },
     "execution_count": 43,
     "metadata": {},
     "output_type": "execute_result"
    }
   ],
   "source": [
    "line = 'aaa,bbb,ccccc,dd\\n'\n",
    "line.rstrip() # Remove whitespace characters on the right side"
   ]
  },
  {
   "cell_type": "code",
   "execution_count": 44,
   "id": "083e6695",
   "metadata": {},
   "outputs": [
    {
     "data": {
      "text/plain": [
       "'aaa,bbb,ccccc,dd\\n'"
      ]
     },
     "execution_count": 44,
     "metadata": {},
     "output_type": "execute_result"
    }
   ],
   "source": [
    "line = '\\n\\naaa,bbb,ccccc,dd\\n'\n",
    "line.lstrip() # Remove whitespace characters on the right side"
   ]
  },
  {
   "cell_type": "code",
   "execution_count": 45,
   "id": "f34b5759",
   "metadata": {},
   "outputs": [
    {
     "data": {
      "text/plain": [
       "'aaa,bbb,ccccc,dd'"
      ]
     },
     "execution_count": 45,
     "metadata": {},
     "output_type": "execute_result"
    }
   ],
   "source": [
    "line = 'aaa,bbb,ccccc,dd\\n'\n",
    "line.strip() # Remove whitespace characters on the right side"
   ]
  },
  {
   "cell_type": "code",
   "execution_count": 46,
   "id": "8877cbd8",
   "metadata": {},
   "outputs": [
    {
     "data": {
      "text/plain": [
       "'aaabbbcccccdd'"
      ]
     },
     "execution_count": 46,
     "metadata": {},
     "output_type": "execute_result"
    }
   ],
   "source": [
    "''.join(line.rstrip().split(',')) # Combine two or more operations"
   ]
  },
  {
   "cell_type": "code",
   "execution_count": 47,
   "id": "f92ee1dc",
   "metadata": {},
   "outputs": [
    {
     "data": {
      "text/plain": [
       "'aaabbbcccccdd'"
      ]
     },
     "execution_count": 47,
     "metadata": {},
     "output_type": "execute_result"
    }
   ],
   "source": [
    "''.join(line.split(',')).replace('\\n','')  # Combine two or more operations"
   ]
  },
  {
   "cell_type": "markdown",
   "id": "01f836bc",
   "metadata": {},
   "source": [
    "<p style='color:red' > here...it strips before it splits because Python runs from left to right making a temporary result along the way."
   ]
  },
  {
   "cell_type": "markdown",
   "id": "2d3f1e52",
   "metadata": {},
   "source": [
    "- Strings also support an advanced substitution operation known as formatting."
   ]
  },
  {
   "cell_type": "code",
   "execution_count": 48,
   "id": "121f430d",
   "metadata": {},
   "outputs": [
    {
     "data": {
      "text/plain": [
       "'Hitesh, Reshma, and Purvi!'"
      ]
     },
     "execution_count": 48,
     "metadata": {},
     "output_type": "execute_result"
    }
   ],
   "source": [
    "'{0}, Reshma, and {1}'.format('Hitesh', 'Purvi!') # Formatting method (numbers are compulosoury in python 2.6 and erlier)"
   ]
  },
  {
   "cell_type": "code",
   "execution_count": 49,
   "id": "4fc50b29",
   "metadata": {},
   "outputs": [
    {
     "data": {
      "text/plain": [
       "'Hitesh, Reshma, and purvi!'"
      ]
     },
     "execution_count": 49,
     "metadata": {},
     "output_type": "execute_result"
    }
   ],
   "source": [
    "# Numbers optional in python 2.7+, 3.1+\n",
    "'{}, Reshma, and {}'.format('Hitesh', 'purvi!') "
   ]
  },
  {
   "cell_type": "code",
   "execution_count": 50,
   "id": "c008a810",
   "metadata": {},
   "outputs": [
    {
     "data": {
      "text/plain": [
       "'296,999.26'"
      ]
     },
     "execution_count": 50,
     "metadata": {},
     "output_type": "execute_result"
    }
   ],
   "source": [
    "# formating also supported in nmubers as well\n",
    "'{:,.2f}'.format(296999.2567) "
   ]
  },
  {
   "cell_type": "code",
   "execution_count": 51,
   "id": "f0fbb9d5",
   "metadata": {},
   "outputs": [
    {
     "data": {
      "text/plain": [
       "'296,999.256700'"
      ]
     },
     "execution_count": 51,
     "metadata": {},
     "output_type": "execute_result"
    }
   ],
   "source": [
    "'{:,.6f}'.format(296999.2567) "
   ]
  },
  {
   "cell_type": "code",
   "execution_count": 52,
   "id": "dc334e49",
   "metadata": {},
   "outputs": [
    {
     "name": "stdout",
     "output_type": "stream",
     "text": [
      "['__add__', '__class__', '__contains__', '__delattr__', '__dir__', '__doc__', '__eq__', '__format__', '__ge__', '__getattribute__', '__getitem__', '__getnewargs__', '__gt__', '__hash__', '__init__', '__init_subclass__', '__iter__', '__le__', '__len__', '__lt__', '__mod__', '__mul__', '__ne__', '__new__', '__reduce__', '__reduce_ex__', '__repr__', '__rmod__', '__rmul__', '__setattr__', '__sizeof__', '__str__', '__subclasshook__', 'capitalize', 'casefold', 'center', 'count', 'encode', 'endswith', 'expandtabs', 'find', 'format', 'format_map', 'index', 'isalnum', 'isalpha', 'isascii', 'isdecimal', 'isdigit', 'isidentifier', 'islower', 'isnumeric', 'isprintable', 'isspace', 'istitle', 'isupper', 'join', 'ljust', 'lower', 'lstrip', 'maketrans', 'partition', 'removeprefix', 'removesuffix', 'replace', 'rfind', 'rindex', 'rjust', 'rpartition', 'rsplit', 'rstrip', 'split', 'splitlines', 'startswith', 'strip', 'swapcase', 'title', 'translate', 'upper', 'zfill']\n"
     ]
    }
   ],
   "source": [
    "# Getting Help - Assuming S is a string\n",
    "print(dir(S))"
   ]
  },
  {
   "cell_type": "markdown",
   "id": "dba2ae03",
   "metadata": {},
   "source": [
    "- The `__add__` method of strings performs concatenation."
   ]
  },
  {
   "cell_type": "code",
   "execution_count": 53,
   "id": "d79052a4",
   "metadata": {},
   "outputs": [
    {
     "data": {
      "text/plain": [
       "'Hitesh Vaghela'"
      ]
     },
     "execution_count": 53,
     "metadata": {},
     "output_type": "execute_result"
    }
   ],
   "source": [
    "S = 'Hitesh'\n",
    "S + ' Vaghela'"
   ]
  },
  {
   "cell_type": "code",
   "execution_count": 54,
   "id": "f6d377fa",
   "metadata": {},
   "outputs": [
    {
     "data": {
      "text/plain": [
       "'Hitesh Vaghela'"
      ]
     },
     "execution_count": 54,
     "metadata": {},
     "output_type": "execute_result"
    }
   ],
   "source": [
    "S.__add__(' Vaghela')"
   ]
  },
  {
   "cell_type": "markdown",
   "id": "78d3e518",
   "metadata": {},
   "source": [
    "- leading and trailing double underscores is the naming pattern Python uses for implementation details.\n",
    "- The names without the underscores in this list are the callable methods on string objects.\n",
    "- The dir function simply gives the methods’ names.\n",
    "- To ask what that methods do we can pass them to the help function"
   ]
  },
  {
   "cell_type": "code",
   "execution_count": 55,
   "id": "d61c2596",
   "metadata": {},
   "outputs": [
    {
     "name": "stdout",
     "output_type": "stream",
     "text": [
      "Help on built-in function replace:\n",
      "\n",
      "replace(old, new, count=-1, /) method of builtins.str instance\n",
      "    Return a copy with all occurrences of substring old replaced by new.\n",
      "    \n",
      "      count\n",
      "        Maximum number of occurrences to replace.\n",
      "        -1 (the default value) means replace all occurrences.\n",
      "    \n",
      "    If the optional argument count is given, only the first count occurrences are\n",
      "    replaced.\n",
      "\n"
     ]
    }
   ],
   "source": [
    "help(S.replace)"
   ]
  },
  {
   "cell_type": "markdown",
   "id": "4019480c",
   "metadata": {},
   "source": [
    "- string method ord used to convert a character and number into ASCII values."
   ]
  },
  {
   "cell_type": "code",
   "execution_count": 56,
   "id": "896b3260",
   "metadata": {},
   "outputs": [
    {
     "data": {
      "text/plain": [
       "10"
      ]
     },
     "execution_count": 56,
     "metadata": {},
     "output_type": "execute_result"
    }
   ],
   "source": [
    "ord('\\n') # \\n is a byte with the binary value 10 in ASCII"
   ]
  },
  {
   "cell_type": "code",
   "execution_count": 57,
   "id": "91f34680",
   "metadata": {},
   "outputs": [
    {
     "data": {
      "text/plain": [
       "72"
      ]
     },
     "execution_count": 57,
     "metadata": {},
     "output_type": "execute_result"
    }
   ],
   "source": [
    "ord('H')"
   ]
  },
  {
   "cell_type": "markdown",
   "id": "9984a3e9",
   "metadata": {},
   "source": [
    "<h2 style='color:green' >  Unicode Strings"
   ]
  },
  {
   "cell_type": "markdown",
   "id": "5fd54989",
   "metadata": {},
   "source": [
    "- strings also come with full Unicode support required for processing text in internationalized character sets.\n",
    "- Characters in the Japanese and Russian alphabets for example are outside the ASCII set.\n",
    "- Such non-ASCII text can show up in web pages, emails, GUIs, JSON, XML, or elsewhere. \n",
    "- When it does, handling it well requires Unicode support.\n",
    "- Python has such support built in but the form of its Unicode support varies per Python line and is one of their most prominent   differences."
   ]
  },
  {
   "cell_type": "code",
   "execution_count": 58,
   "id": "cdec45e7",
   "metadata": {},
   "outputs": [
    {
     "data": {
      "text/plain": [
       "'spÄm'"
      ]
     },
     "execution_count": 58,
     "metadata": {},
     "output_type": "execute_result"
    }
   ],
   "source": [
    "'sp\\xc4m'"
   ]
  },
  {
   "cell_type": "code",
   "execution_count": 59,
   "id": "5c3d3d6f",
   "metadata": {},
   "outputs": [
    {
     "data": {
      "text/plain": [
       "b'a\\x01c'"
      ]
     },
     "execution_count": 59,
     "metadata": {},
     "output_type": "execute_result"
    }
   ],
   "source": [
    "b'a\\x01c' # bytes strings are byte-based data"
   ]
  },
  {
   "cell_type": "markdown",
   "id": "10631368",
   "metadata": {},
   "source": [
    "<h2 style='color:green' > Lists"
   ]
  },
  {
   "cell_type": "markdown",
   "id": "063bded2",
   "metadata": {},
   "source": [
    "- list is a one of the most used datatype in python. \n",
    "- Python list object is the most general sequence provided by the language.\n",
    "- Lists are positionally ordered collections.\n",
    "- Lists are mutable—unlike strings therefor lists can be modified."
   ]
  },
  {
   "cell_type": "markdown",
   "id": "5cbb1a19",
   "metadata": {},
   "source": [
    "**Sequence Operations**"
   ]
  },
  {
   "cell_type": "markdown",
   "id": "e5b59b2b",
   "metadata": {},
   "source": [
    "- Because lists are ordered, lists support all the sequence operations we discussed for strings.\n",
    "- the only difference is that the results are usually lists instead of strings."
   ]
  },
  {
   "cell_type": "code",
   "execution_count": 60,
   "id": "d7c5bf52",
   "metadata": {},
   "outputs": [],
   "source": [
    "L = [123, 'spam', 1.23] # A list of three different-type objects"
   ]
  },
  {
   "cell_type": "code",
   "execution_count": 61,
   "id": "2d60174b",
   "metadata": {},
   "outputs": [
    {
     "data": {
      "text/plain": [
       "3"
      ]
     },
     "execution_count": 61,
     "metadata": {},
     "output_type": "execute_result"
    }
   ],
   "source": [
    "len(L) # Number of items in the list"
   ]
  },
  {
   "cell_type": "code",
   "execution_count": 62,
   "id": "7b295c68",
   "metadata": {},
   "outputs": [
    {
     "data": {
      "text/plain": [
       "123"
      ]
     },
     "execution_count": 62,
     "metadata": {},
     "output_type": "execute_result"
    }
   ],
   "source": [
    "L[0] # Indexing by position"
   ]
  },
  {
   "cell_type": "code",
   "execution_count": 63,
   "id": "cb8faa0c",
   "metadata": {},
   "outputs": [
    {
     "data": {
      "text/plain": [
       "[123, 'spam']"
      ]
     },
     "execution_count": 63,
     "metadata": {},
     "output_type": "execute_result"
    }
   ],
   "source": [
    " L[:-1] # Slicing a list returns a new list"
   ]
  },
  {
   "cell_type": "code",
   "execution_count": 64,
   "id": "10c777ca",
   "metadata": {},
   "outputs": [
    {
     "data": {
      "text/plain": [
       "[123, 'spam', 1.23, 4, 5, 6]"
      ]
     },
     "execution_count": 64,
     "metadata": {},
     "output_type": "execute_result"
    }
   ],
   "source": [
    "L + [4, 5, 6] # Concat make new lists too"
   ]
  },
  {
   "cell_type": "code",
   "execution_count": 65,
   "id": "057cc7b0",
   "metadata": {},
   "outputs": [
    {
     "data": {
      "text/plain": [
       "[123, 'spam', 1.23]"
      ]
     },
     "execution_count": 65,
     "metadata": {},
     "output_type": "execute_result"
    }
   ],
   "source": [
    "L"
   ]
  },
  {
   "cell_type": "code",
   "execution_count": 66,
   "id": "5b940666",
   "metadata": {},
   "outputs": [
    {
     "data": {
      "text/plain": [
       "[123, 'spam', 1.23, 123, 'spam', 1.23]"
      ]
     },
     "execution_count": 66,
     "metadata": {},
     "output_type": "execute_result"
    }
   ],
   "source": [
    "L * 2 # repeat make new lists too"
   ]
  },
  {
   "cell_type": "code",
   "execution_count": 67,
   "id": "852935ea",
   "metadata": {},
   "outputs": [
    {
     "data": {
      "text/plain": [
       "[123, 'spam', 1.23]"
      ]
     },
     "execution_count": 67,
     "metadata": {},
     "output_type": "execute_result"
    }
   ],
   "source": [
    "L # We're not changing the original list"
   ]
  },
  {
   "cell_type": "markdown",
   "id": "44206a75",
   "metadata": {},
   "source": [
    "- lists have no fixed size. That is they can grow and shrink on demand, in response to list-specific operations."
   ]
  },
  {
   "cell_type": "code",
   "execution_count": 68,
   "id": "988f2523",
   "metadata": {},
   "outputs": [
    {
     "data": {
      "text/plain": [
       "[123, 'spam', 1.23, 'NI']"
      ]
     },
     "execution_count": 68,
     "metadata": {},
     "output_type": "execute_result"
    }
   ],
   "source": [
    "L.append('NI') # Growing: add object at end of list\n",
    "L"
   ]
  },
  {
   "cell_type": "code",
   "execution_count": 69,
   "id": "569305e1",
   "metadata": {},
   "outputs": [
    {
     "data": {
      "text/plain": [
       "1.23"
      ]
     },
     "execution_count": 69,
     "metadata": {},
     "output_type": "execute_result"
    }
   ],
   "source": [
    "L.pop(2) # Shrinking: delete an item in the middle"
   ]
  },
  {
   "cell_type": "code",
   "execution_count": 70,
   "id": "92c06f78",
   "metadata": {},
   "outputs": [
    {
     "data": {
      "text/plain": [
       "[123, 'spam', 'NI']"
      ]
     },
     "execution_count": 70,
     "metadata": {},
     "output_type": "execute_result"
    }
   ],
   "source": [
    "L # \"del L[2]\" deletes from a list too"
   ]
  },
  {
   "cell_type": "markdown",
   "id": "3ee1be37",
   "metadata": {},
   "source": [
    "- list append method expands the list’s size and inserts an item at the end.\n",
    "- the pop method (or an equivalent del statement) then removes an item at a given offset causing the list to shrink.\n",
    "- insert method inserts an item at an arbitrary position\n",
    "- remove method removes a given item by value \n",
    "- extend method adds a multiple items at the end."
   ]
  },
  {
   "cell_type": "code",
   "execution_count": 71,
   "id": "3a5a7744",
   "metadata": {},
   "outputs": [
    {
     "data": {
      "text/plain": [
       "['aa', 'bb', 'cc']"
      ]
     },
     "execution_count": 71,
     "metadata": {},
     "output_type": "execute_result"
    }
   ],
   "source": [
    "M = ['bb', 'aa', 'cc']\n",
    "M.sort()\n",
    "M"
   ]
  },
  {
   "cell_type": "code",
   "execution_count": 72,
   "id": "45046742",
   "metadata": {},
   "outputs": [
    {
     "data": {
      "text/plain": [
       "['cc', 'bb', 'aa']"
      ]
     },
     "execution_count": 72,
     "metadata": {},
     "output_type": "execute_result"
    }
   ],
   "source": [
    "M.reverse()\n",
    "M"
   ]
  },
  {
   "cell_type": "markdown",
   "id": "914aac36",
   "metadata": {},
   "source": [
    "**Bounds Checking**\n",
    "- Although lists have no fixed size Python still doesn’t allow us to reference items that are not present. \n",
    "- Indexing off the end of a list is always a mistake but so is assigning off the end."
   ]
  },
  {
   "cell_type": "code",
   "execution_count": 73,
   "id": "8672ff65",
   "metadata": {},
   "outputs": [
    {
     "data": {
      "text/plain": [
       "[123, 'spam', 'NI']"
      ]
     },
     "execution_count": 73,
     "metadata": {},
     "output_type": "execute_result"
    }
   ],
   "source": [
    "L"
   ]
  },
  {
   "cell_type": "code",
   "execution_count": 74,
   "id": "417a9cb6",
   "metadata": {},
   "outputs": [
    {
     "ename": "IndexError",
     "evalue": "list index out of range",
     "output_type": "error",
     "traceback": [
      "\u001b[1;31m---------------------------------------------------------------------------\u001b[0m",
      "\u001b[1;31mIndexError\u001b[0m                                Traceback (most recent call last)",
      "Input \u001b[1;32mIn [74]\u001b[0m, in \u001b[0;36m<cell line: 1>\u001b[1;34m()\u001b[0m\n\u001b[1;32m----> 1\u001b[0m \u001b[43mL\u001b[49m\u001b[43m[\u001b[49m\u001b[38;5;241;43m99\u001b[39;49m\u001b[43m]\u001b[49m\n",
      "\u001b[1;31mIndexError\u001b[0m: list index out of range"
     ]
    }
   ],
   "source": [
    "L[99]"
   ]
  },
  {
   "cell_type": "code",
   "execution_count": 75,
   "id": "c481ceab",
   "metadata": {},
   "outputs": [
    {
     "ename": "IndexError",
     "evalue": "list assignment index out of range",
     "output_type": "error",
     "traceback": [
      "\u001b[1;31m---------------------------------------------------------------------------\u001b[0m",
      "\u001b[1;31mIndexError\u001b[0m                                Traceback (most recent call last)",
      "Input \u001b[1;32mIn [75]\u001b[0m, in \u001b[0;36m<cell line: 1>\u001b[1;34m()\u001b[0m\n\u001b[1;32m----> 1\u001b[0m \u001b[43mL\u001b[49m\u001b[43m[\u001b[49m\u001b[38;5;241;43m99\u001b[39;49m\u001b[43m]\u001b[49m \u001b[38;5;241m=\u001b[39m \u001b[38;5;241m1\u001b[39m\n",
      "\u001b[1;31mIndexError\u001b[0m: list assignment index out of range"
     ]
    }
   ],
   "source": [
    "L[99] = 1"
   ]
  },
  {
   "cell_type": "markdown",
   "id": "193dd94a",
   "metadata": {},
   "source": [
    "- unlike C language Python reports an error when we try to grow list this way Rather than silently growing the list in response\n",
    "- because C language doesn’t do as much error checking as Python.\n",
    "- To grow a list we call list methods such as append instead."
   ]
  },
  {
   "cell_type": "markdown",
   "id": "b5fbfe7e",
   "metadata": {},
   "source": [
    "**Nesting**\n",
    "- One nice feature of Python’s core data types is that they support arbitrary nesting—we can nest them in any combination and as deeply as we like.\n",
    "- For example, we can have a list that contains a dictionary which contains another list, and so on. "
   ]
  },
  {
   "cell_type": "code",
   "execution_count": 76,
   "id": "595ef1c1",
   "metadata": {},
   "outputs": [
    {
     "data": {
      "text/plain": [
       "[[1, 2, 3], [4, 5, 6], [7, 8, 9]]"
      ]
     },
     "execution_count": 76,
     "metadata": {},
     "output_type": "execute_result"
    }
   ],
   "source": [
    "M = [  [1, 2, 3],[4, 5, 6],[7, 8, 9]  ]\n",
    "M"
   ]
  },
  {
   "cell_type": "code",
   "execution_count": 77,
   "id": "5963bdd6",
   "metadata": {},
   "outputs": [
    {
     "data": {
      "text/plain": [
       "[4, 5, 6]"
      ]
     },
     "execution_count": 77,
     "metadata": {},
     "output_type": "execute_result"
    }
   ],
   "source": [
    "M[1] # Get 2nd row"
   ]
  },
  {
   "cell_type": "code",
   "execution_count": 78,
   "id": "119434ed",
   "metadata": {},
   "outputs": [
    {
     "data": {
      "text/plain": [
       "6"
      ]
     },
     "execution_count": 78,
     "metadata": {},
     "output_type": "execute_result"
    }
   ],
   "source": [
    "M[1][2] # Get 2nd row's third item(column)"
   ]
  },
  {
   "cell_type": "markdown",
   "id": "a1f4a037",
   "metadata": {},
   "source": [
    "**Comprehensions**\n",
    "- Python includes a more advanced operation known as a list comprehension expression \n",
    "- which turns out to be a powerful way to process structures like our matrix. "
   ]
  },
  {
   "cell_type": "code",
   "execution_count": 79,
   "id": "69585bee",
   "metadata": {},
   "outputs": [
    {
     "data": {
      "text/plain": [
       "[2, 5, 8]"
      ]
     },
     "execution_count": 79,
     "metadata": {},
     "output_type": "execute_result"
    }
   ],
   "source": [
    "col2 = [row[1] for row in M]\n",
    "col2"
   ]
  },
  {
   "cell_type": "code",
   "execution_count": 80,
   "id": "d8ff56b6",
   "metadata": {},
   "outputs": [
    {
     "data": {
      "text/plain": [
       "[0, 1, 2, 3, 4, 5, 6, 7, 8, 9]"
      ]
     },
     "execution_count": 80,
     "metadata": {},
     "output_type": "execute_result"
    }
   ],
   "source": [
    "[i for i in range(10)]"
   ]
  },
  {
   "cell_type": "code",
   "execution_count": 81,
   "id": "433dab95",
   "metadata": {},
   "outputs": [
    {
     "data": {
      "text/plain": [
       "[3, 6, 9]"
      ]
     },
     "execution_count": 81,
     "metadata": {},
     "output_type": "execute_result"
    }
   ],
   "source": [
    "# List comprehensions can be more complex in practice.\n",
    "[row[1] + 1 for row in M] "
   ]
  },
  {
   "cell_type": "code",
   "execution_count": 82,
   "id": "4679c409",
   "metadata": {},
   "outputs": [
    {
     "data": {
      "text/plain": [
       "[2, 8]"
      ]
     },
     "execution_count": 82,
     "metadata": {},
     "output_type": "execute_result"
    }
   ],
   "source": [
    "[row[1] for row in M if row[1] % 2 == 0] \n",
    "[2, 8]"
   ]
  },
  {
   "cell_type": "code",
   "execution_count": 83,
   "id": "ec61e9fc",
   "metadata": {},
   "outputs": [
    {
     "data": {
      "text/plain": [
       "[5, 10, 15, 20, 25, 30, 35, 40, 45, 50]"
      ]
     },
     "execution_count": 83,
     "metadata": {},
     "output_type": "execute_result"
    }
   ],
   "source": [
    "[i*j for i in range(1,11) for j in range(1,11) if i==5]"
   ]
  },
  {
   "cell_type": "markdown",
   "id": "3f3607e4",
   "metadata": {},
   "source": [
    "- we can use list comprehensions to step over a hardcoded list of coordinates and a string"
   ]
  },
  {
   "cell_type": "code",
   "execution_count": 84,
   "id": "be9b7a7a",
   "metadata": {},
   "outputs": [
    {
     "data": {
      "text/plain": [
       "['ss', 'pp', 'aa', 'mm']"
      ]
     },
     "execution_count": 84,
     "metadata": {},
     "output_type": "execute_result"
    }
   ],
   "source": [
    "doubles = [c * 2 for c in 'spam'] # Repeat characters in a string\n",
    "doubles"
   ]
  },
  {
   "cell_type": "code",
   "execution_count": 85,
   "id": "492363dc",
   "metadata": {},
   "outputs": [
    {
     "data": {
      "text/plain": [
       "[1, 5, 9]"
      ]
     },
     "execution_count": 85,
     "metadata": {},
     "output_type": "execute_result"
    }
   ],
   "source": [
    "A = [  [1,2,3],[4,5,6],[7,8,9]  ]\n",
    "diag1 = [A[i][i] for i in [0, 1, 2]] # Collect a diagonal from matrix\n",
    "diag1"
   ]
  },
  {
   "cell_type": "code",
   "execution_count": 86,
   "id": "6636e4fa",
   "metadata": {},
   "outputs": [
    {
     "data": {
      "text/plain": [
       "[3, 5, 7]"
      ]
     },
     "execution_count": 86,
     "metadata": {},
     "output_type": "execute_result"
    }
   ],
   "source": [
    "diag2 = [A[i][j] for i in range(3) for j in range(3) if i+j == 2] # Collect a diagonal from matrix\n",
    "diag2"
   ]
  },
  {
   "cell_type": "code",
   "execution_count": 87,
   "id": "692409cb",
   "metadata": {},
   "outputs": [
    {
     "data": {
      "text/plain": [
       "[0, 1, 2, 3]"
      ]
     },
     "execution_count": 87,
     "metadata": {},
     "output_type": "execute_result"
    }
   ],
   "source": [
    "list(range(4)) "
   ]
  },
  {
   "cell_type": "code",
   "execution_count": 88,
   "id": "1c33668d",
   "metadata": {},
   "outputs": [
    {
     "data": {
      "text/plain": [
       "[-6, -4, -2, 0, 2, 4, 6]"
      ]
     },
     "execution_count": 88,
     "metadata": {},
     "output_type": "execute_result"
    }
   ],
   "source": [
    "list(range(-6, 7, 2)) "
   ]
  },
  {
   "cell_type": "code",
   "execution_count": 89,
   "id": "dd017880",
   "metadata": {},
   "outputs": [
    {
     "data": {
      "text/plain": [
       "[[0, 0], [1, 1], [4, 8], [9, 27]]"
      ]
     },
     "execution_count": 89,
     "metadata": {},
     "output_type": "execute_result"
    }
   ],
   "source": [
    "[[x ** 2, x ** 3] for x in range(4)] "
   ]
  },
  {
   "cell_type": "code",
   "execution_count": 90,
   "id": "1426b676",
   "metadata": {},
   "outputs": [
    {
     "data": {
      "text/plain": [
       "[[2, 1.0, 4], [4, 2.0, 8], [6, 3.0, 12]]"
      ]
     },
     "execution_count": 90,
     "metadata": {},
     "output_type": "execute_result"
    }
   ],
   "source": [
    "[[x, x / 2, x * 2] for x in range(-6, 7, 2) if x > 0]"
   ]
  },
  {
   "cell_type": "code",
   "execution_count": 91,
   "id": "d4d13070",
   "metadata": {},
   "outputs": [
    {
     "data": {
      "text/plain": [
       "[6, 15, 24]"
      ]
     },
     "execution_count": 91,
     "metadata": {},
     "output_type": "execute_result"
    }
   ],
   "source": [
    "A = [  [1,2,3],[4,5,6],[7,8,9]  ]\n",
    "[sum(r) for r in A]"
   ]
  },
  {
   "cell_type": "markdown",
   "id": "14e25cab",
   "metadata": {},
   "source": [
    "- The map built-in can do similar work, by generating the results of running items through a function one at a time and on request."
   ]
  },
  {
   "cell_type": "code",
   "execution_count": 92,
   "id": "253c7503",
   "metadata": {},
   "outputs": [
    {
     "data": {
      "text/plain": [
       "[6, 15, 24]"
      ]
     },
     "execution_count": 92,
     "metadata": {},
     "output_type": "execute_result"
    }
   ],
   "source": [
    "list(map(sum, A)) # Map sum over items in M"
   ]
  },
  {
   "cell_type": "markdown",
   "id": "986f7b1e",
   "metadata": {},
   "source": [
    "- comprehension syntax can also be used to in sets and dictionaries."
   ]
  },
  {
   "cell_type": "code",
   "execution_count": 93,
   "id": "5fa86d2b",
   "metadata": {},
   "outputs": [
    {
     "data": {
      "text/plain": [
       "{0, 1, 2, 3, 4, 5, 6, 7, 8, 9}"
      ]
     },
     "execution_count": 93,
     "metadata": {},
     "output_type": "execute_result"
    }
   ],
   "source": [
    "{row for row in range(10)}"
   ]
  },
  {
   "cell_type": "code",
   "execution_count": 94,
   "id": "1e7f6c9c",
   "metadata": {},
   "outputs": [
    {
     "data": {
      "text/plain": [
       "{0: 0, 1: 10, 2: 20}"
      ]
     },
     "execution_count": 94,
     "metadata": {},
     "output_type": "execute_result"
    }
   ],
   "source": [
    "{i : i*10 for i in range(3)} # Creates key/value table of row sums"
   ]
  },
  {
   "cell_type": "code",
   "execution_count": 95,
   "id": "43057614",
   "metadata": {},
   "outputs": [
    {
     "data": {
      "text/plain": [
       "[115, 112, 97, 97, 109]"
      ]
     },
     "execution_count": 95,
     "metadata": {},
     "output_type": "execute_result"
    }
   ],
   "source": [
    "[ord(x) for x in 'spaam'] # List of character ordinals"
   ]
  },
  {
   "cell_type": "code",
   "execution_count": 96,
   "id": "5a5a34dc",
   "metadata": {},
   "outputs": [
    {
     "data": {
      "text/plain": [
       "{97, 109, 112, 115}"
      ]
     },
     "execution_count": 96,
     "metadata": {},
     "output_type": "execute_result"
    }
   ],
   "source": [
    "{ord(x) for x in 'spaam'} # Sets remove duplicates"
   ]
  },
  {
   "cell_type": "code",
   "execution_count": 97,
   "id": "605cc167",
   "metadata": {},
   "outputs": [
    {
     "data": {
      "text/plain": [
       "{'s': 115, 'p': 112, 'a': 97, 'm': 109}"
      ]
     },
     "execution_count": 97,
     "metadata": {},
     "output_type": "execute_result"
    }
   ],
   "source": [
    "{x: ord(x) for x in 'spaam'} # Dictionary keys are unique"
   ]
  },
  {
   "cell_type": "code",
   "execution_count": 98,
   "id": "2316d5aa",
   "metadata": {},
   "outputs": [],
   "source": [
    "g = (ord(x) for x in 'spaam') # Generator of values"
   ]
  },
  {
   "cell_type": "code",
   "execution_count": 99,
   "id": "7a877d68",
   "metadata": {},
   "outputs": [
    {
     "data": {
      "text/plain": [
       "115"
      ]
     },
     "execution_count": 99,
     "metadata": {},
     "output_type": "execute_result"
    }
   ],
   "source": [
    "next(g)"
   ]
  },
  {
   "cell_type": "markdown",
   "id": "e05087b5",
   "metadata": {},
   "source": [
    "Dictionaries\n",
    "- dictionaries are not sequences at all but are instead known as mappings.\n",
    "- Mappings are also collections of other objects but they store objects by key instead of by relative position.\n",
    "- Dictionaries is the only mapping type in Python’s core objects.\n",
    "- Dictionaries are also mutable.\n",
    "- Dictionaries may be changed in place and can grow and shrink on demand.\n",
    "- Dictionaries can't contain duplicate keys."
   ]
  },
  {
   "cell_type": "markdown",
   "id": "b419716f",
   "metadata": {},
   "source": [
    "dictionaries are coded in curly braces `{}` and consist of a series of `key: value` pairs."
   ]
  },
  {
   "cell_type": "code",
   "execution_count": 100,
   "id": "f271e664",
   "metadata": {},
   "outputs": [
    {
     "data": {
      "text/plain": [
       "{'food': 'Spam', 'quantity': 4, 'color': 'pink'}"
      ]
     },
     "execution_count": 100,
     "metadata": {},
     "output_type": "execute_result"
    }
   ],
   "source": [
    "D = {'food': 'Spam', 'quantity': 4, 'color': 'pink'}\n",
    "D"
   ]
  },
  {
   "cell_type": "markdown",
   "id": "c5dc3647",
   "metadata": {},
   "source": [
    "- We can index this dictionary by key to fetch and change the keys’ associated values.\n",
    "- The dictionary index operation uses the same syntax as that used for sequences, but the item in the square brackets is a key not a relative position."
   ]
  },
  {
   "cell_type": "code",
   "execution_count": 101,
   "id": "0b099232",
   "metadata": {},
   "outputs": [
    {
     "data": {
      "text/plain": [
       "'Spam'"
      ]
     },
     "execution_count": 101,
     "metadata": {},
     "output_type": "execute_result"
    }
   ],
   "source": [
    "D['food'] # Fetch value of key 'food'"
   ]
  },
  {
   "cell_type": "code",
   "execution_count": 102,
   "id": "8efc38f2",
   "metadata": {},
   "outputs": [
    {
     "data": {
      "text/plain": [
       "{'food': 'Spam', 'quantity': 5, 'color': 'pink'}"
      ]
     },
     "execution_count": 102,
     "metadata": {},
     "output_type": "execute_result"
    }
   ],
   "source": [
    "D['quantity'] += 1 # Add 1 to 'quantity' value\n",
    "D"
   ]
  },
  {
   "cell_type": "markdown",
   "id": "09ce933c",
   "metadata": {},
   "source": [
    "- starts with an empty dictionary and fills it out one key at a time.\n",
    "- Unlike out-of-bounds assignments in lists, which are forbidden, assignments to new dictionary keys create those keys."
   ]
  },
  {
   "cell_type": "code",
   "execution_count": 103,
   "id": "3f1143b9",
   "metadata": {},
   "outputs": [
    {
     "data": {
      "text/plain": [
       "{'name': 'Bob', 'job': 'dev', 'age': 40}"
      ]
     },
     "execution_count": 103,
     "metadata": {},
     "output_type": "execute_result"
    }
   ],
   "source": [
    "D = {}\n",
    "D['name'] = 'Bob' # Create keys by assignment\n",
    "D['job'] = 'dev'\n",
    "D['age'] = 40\n",
    "D"
   ]
  },
  {
   "cell_type": "code",
   "execution_count": 104,
   "id": "dd040ec1",
   "metadata": {},
   "outputs": [
    {
     "name": "stdout",
     "output_type": "stream",
     "text": [
      "Bob\n"
     ]
    }
   ],
   "source": [
    "print(D['name'])"
   ]
  },
  {
   "cell_type": "markdown",
   "id": "91e601ac",
   "metadata": {},
   "source": [
    "- we can also make dictionaries by passing to the dict type name either keyword arguments (a special key=value syntax in function calls), or the result of zipping together sequences of keys."
   ]
  },
  {
   "cell_type": "code",
   "execution_count": 105,
   "id": "db56c6bf",
   "metadata": {},
   "outputs": [
    {
     "data": {
      "text/plain": [
       "{'name': 'Bob', 'job': 'dev', 'age': 40}"
      ]
     },
     "execution_count": 105,
     "metadata": {},
     "output_type": "execute_result"
    }
   ],
   "source": [
    "bob1 = dict(name='Bob', job='dev', age=40) # Keywords\n",
    "bob1"
   ]
  },
  {
   "cell_type": "code",
   "execution_count": 106,
   "id": "81df7f4c",
   "metadata": {},
   "outputs": [
    {
     "data": {
      "text/plain": [
       "{'name': 'Bob', 'job': 'dev', 'age': 40}"
      ]
     },
     "execution_count": 106,
     "metadata": {},
     "output_type": "execute_result"
    }
   ],
   "source": [
    "bob2 = dict(zip(['name', 'job', 'age'], ['Bob', 'dev', 40])) # Zipping\n",
    "bob2"
   ]
  },
  {
   "cell_type": "markdown",
   "id": "a2593271",
   "metadata": {},
   "source": [
    "- left-to-right order of dictionary keys is scrambled. \n",
    "- Mappings are not positionally ordered\n",
    "- so result is in a different order than we typed them."
   ]
  },
  {
   "cell_type": "markdown",
   "id": "ed4328a6",
   "metadata": {},
   "source": [
    "**Nesting**"
   ]
  },
  {
   "cell_type": "code",
   "execution_count": 107,
   "id": "2de9bc28",
   "metadata": {},
   "outputs": [],
   "source": [
    "rec = {'name': {'first': 'Bob', 'last': 'Smith'},\n",
    " 'jobs': ['dev', 'mgr'],\n",
    " 'age': 40.5}"
   ]
  },
  {
   "cell_type": "code",
   "execution_count": 108,
   "id": "fe1f0592",
   "metadata": {},
   "outputs": [
    {
     "data": {
      "text/plain": [
       "{'name': {'first': 'Bob', 'last': 'Smith'},\n",
       " 'jobs': ['dev', 'mgr'],\n",
       " 'age': 40.5}"
      ]
     },
     "execution_count": 108,
     "metadata": {},
     "output_type": "execute_result"
    }
   ],
   "source": [
    "rec"
   ]
  },
  {
   "cell_type": "code",
   "execution_count": 109,
   "id": "96f71e6e",
   "metadata": {},
   "outputs": [
    {
     "data": {
      "text/plain": [
       "{'first': 'Bob', 'last': 'Smith'}"
      ]
     },
     "execution_count": 109,
     "metadata": {},
     "output_type": "execute_result"
    }
   ],
   "source": [
    "rec['name'] # 'name' is a nested dictionary"
   ]
  },
  {
   "cell_type": "code",
   "execution_count": 110,
   "id": "97e032ab",
   "metadata": {},
   "outputs": [
    {
     "data": {
      "text/plain": [
       "'Smith'"
      ]
     },
     "execution_count": 110,
     "metadata": {},
     "output_type": "execute_result"
    }
   ],
   "source": [
    "rec['name']['last'] # Index the nested dictionary"
   ]
  },
  {
   "cell_type": "code",
   "execution_count": 111,
   "id": "1cf49f51",
   "metadata": {},
   "outputs": [
    {
     "data": {
      "text/plain": [
       "['dev', 'mgr']"
      ]
     },
     "execution_count": 111,
     "metadata": {},
     "output_type": "execute_result"
    }
   ],
   "source": [
    "rec['jobs'] # 'jobs' is a nested list"
   ]
  },
  {
   "cell_type": "code",
   "execution_count": 112,
   "id": "7278e454",
   "metadata": {},
   "outputs": [
    {
     "data": {
      "text/plain": [
       "'mgr'"
      ]
     },
     "execution_count": 112,
     "metadata": {},
     "output_type": "execute_result"
    }
   ],
   "source": [
    "rec['jobs'][-1] # Index the nested list"
   ]
  },
  {
   "cell_type": "code",
   "execution_count": 113,
   "id": "cd0d1e8a",
   "metadata": {},
   "outputs": [],
   "source": [
    "rec['jobs'].append('janitor') # Expand Bob's job description in place"
   ]
  },
  {
   "cell_type": "code",
   "execution_count": 114,
   "id": "a27c60a3",
   "metadata": {},
   "outputs": [
    {
     "data": {
      "text/plain": [
       "{'name': {'first': 'Bob', 'last': 'Smith'},\n",
       " 'jobs': ['dev', 'mgr', 'janitor'],\n",
       " 'age': 40.5}"
      ]
     },
     "execution_count": 114,
     "metadata": {},
     "output_type": "execute_result"
    }
   ],
   "source": [
    "rec"
   ]
  },
  {
   "cell_type": "markdown",
   "id": "cb27f7dc",
   "metadata": {},
   "source": [
    "**Missing Keys: if Tests**\n",
    "- For example, although we can assign to a new key to expand a dictionary, fetching a nonexistent key is still a mistake:"
   ]
  },
  {
   "cell_type": "code",
   "execution_count": 115,
   "id": "de84919b",
   "metadata": {},
   "outputs": [
    {
     "data": {
      "text/plain": [
       "{'a': 1, 'b': 2, 'c': 3}"
      ]
     },
     "execution_count": 115,
     "metadata": {},
     "output_type": "execute_result"
    }
   ],
   "source": [
    "D = {'a': 1, 'b': 2, 'c': 3}\n",
    "D "
   ]
  },
  {
   "cell_type": "code",
   "execution_count": 116,
   "id": "a6b2035e",
   "metadata": {},
   "outputs": [
    {
     "data": {
      "text/plain": [
       "{'a': 1, 'b': 2, 'c': 3, 'e': 99}"
      ]
     },
     "execution_count": 116,
     "metadata": {},
     "output_type": "execute_result"
    }
   ],
   "source": [
    "D['e'] = 99 # Assigning new keys grows dictionaries\n",
    "D"
   ]
  },
  {
   "cell_type": "code",
   "execution_count": 117,
   "id": "c10a0d71",
   "metadata": {},
   "outputs": [
    {
     "ename": "KeyError",
     "evalue": "'f'",
     "output_type": "error",
     "traceback": [
      "\u001b[1;31m---------------------------------------------------------------------------\u001b[0m",
      "\u001b[1;31mKeyError\u001b[0m                                  Traceback (most recent call last)",
      "Input \u001b[1;32mIn [117]\u001b[0m, in \u001b[0;36m<cell line: 1>\u001b[1;34m()\u001b[0m\n\u001b[1;32m----> 1\u001b[0m \u001b[43mD\u001b[49m\u001b[43m[\u001b[49m\u001b[38;5;124;43m'\u001b[39;49m\u001b[38;5;124;43mf\u001b[39;49m\u001b[38;5;124;43m'\u001b[39;49m\u001b[43m]\u001b[49m\n",
      "\u001b[1;31mKeyError\u001b[0m: 'f'"
     ]
    }
   ],
   "source": [
    "D['f'] # Referencing a nonexistent key is an error"
   ]
  },
  {
   "cell_type": "markdown",
   "id": "18ac5f9d",
   "metadata": {},
   "source": [
    "- This is what we want—it’s usually a programming error to fetch something that isn’t really there.\n",
    "- But in some generic programs we can’t always know what keys will be present when we write our code."
   ]
  },
  {
   "cell_type": "code",
   "execution_count": 118,
   "id": "980ed869",
   "metadata": {},
   "outputs": [
    {
     "data": {
      "text/plain": [
       "False"
      ]
     },
     "execution_count": 118,
     "metadata": {},
     "output_type": "execute_result"
    }
   ],
   "source": [
    "'f' in D"
   ]
  },
  {
   "cell_type": "code",
   "execution_count": 119,
   "id": "623b7a4f",
   "metadata": {},
   "outputs": [
    {
     "name": "stdout",
     "output_type": "stream",
     "text": [
      "missing\n"
     ]
    }
   ],
   "source": [
    "if not 'f' in D: # Python's sole selection statement\n",
    "    print('missing')"
   ]
  },
  {
   "cell_type": "markdown",
   "id": "09f5afb2",
   "metadata": {},
   "source": [
    "- Besides the in test there are a variety of ways to avoid accessing nonexistent keys in the dictionaries we create.\n",
    "- the get method and a conditional index with a default."
   ]
  },
  {
   "cell_type": "code",
   "execution_count": 120,
   "id": "0a00cdf0",
   "metadata": {},
   "outputs": [
    {
     "data": {
      "text/plain": [
       "'NULL'"
      ]
     },
     "execution_count": 120,
     "metadata": {},
     "output_type": "execute_result"
    }
   ],
   "source": [
    "value = D.get('x', \"NULL\") # Index but with a default\n",
    "value"
   ]
  },
  {
   "cell_type": "code",
   "execution_count": 121,
   "id": "3b9fe124",
   "metadata": {},
   "outputs": [
    {
     "data": {
      "text/plain": [
       "0"
      ]
     },
     "execution_count": 121,
     "metadata": {},
     "output_type": "execute_result"
    }
   ],
   "source": [
    "value = D.get('x', 0) # Index but with a default\n",
    "value"
   ]
  },
  {
   "cell_type": "code",
   "execution_count": 122,
   "id": "675072f2",
   "metadata": {},
   "outputs": [
    {
     "data": {
      "text/plain": [
       "0"
      ]
     },
     "execution_count": 122,
     "metadata": {},
     "output_type": "execute_result"
    }
   ],
   "source": [
    "value = D['x'] if 'x' in D else 0 # if/else expression form\n",
    "value"
   ]
  },
  {
   "cell_type": "markdown",
   "id": "ac9c3b47",
   "metadata": {},
   "source": [
    "**Sorting Keys: for Loops**"
   ]
  },
  {
   "cell_type": "code",
   "execution_count": 123,
   "id": "3b2ad078",
   "metadata": {},
   "outputs": [
    {
     "data": {
      "text/plain": [
       "{'p': 1, 'h': 2, 'r': 3}"
      ]
     },
     "execution_count": 123,
     "metadata": {},
     "output_type": "execute_result"
    }
   ],
   "source": [
    "D = {'p': 1, 'h': 2, 'r': 3}\n",
    "D"
   ]
  },
  {
   "cell_type": "code",
   "execution_count": 124,
   "id": "547e028d",
   "metadata": {},
   "outputs": [
    {
     "data": {
      "text/plain": [
       "['p', 'h', 'r']"
      ]
     },
     "execution_count": 124,
     "metadata": {},
     "output_type": "execute_result"
    }
   ],
   "source": [
    "Ks = list(D.keys()) # Unordered keys list\n",
    "Ks\n"
   ]
  },
  {
   "cell_type": "code",
   "execution_count": 125,
   "id": "7e4f933a",
   "metadata": {},
   "outputs": [
    {
     "data": {
      "text/plain": [
       "['h', 'p', 'r']"
      ]
     },
     "execution_count": 125,
     "metadata": {},
     "output_type": "execute_result"
    }
   ],
   "source": [
    "Ks.sort() # Sorted keys list\n",
    "Ks"
   ]
  },
  {
   "cell_type": "code",
   "execution_count": 126,
   "id": "3cf78424",
   "metadata": {},
   "outputs": [
    {
     "name": "stdout",
     "output_type": "stream",
     "text": [
      "h => 2\n",
      "p => 1\n",
      "r => 3\n"
     ]
    }
   ],
   "source": [
    "for key in Ks: # Iterate though sorted keys\n",
    "    print(key, '=>', D[key])"
   ]
  },
  {
   "cell_type": "markdown",
   "id": "c8718428",
   "metadata": {},
   "source": [
    "- in recent versions of Python it can be done in one step with the newer sorted built-in function. \n",
    "- The sorted call returns the result and sorts a variety of object types.\n",
    "- in this case sorting dictionary keys automatically"
   ]
  },
  {
   "cell_type": "code",
   "execution_count": 127,
   "id": "dffcaaa5",
   "metadata": {},
   "outputs": [
    {
     "data": {
      "text/plain": [
       "{'p': 1, 'h': 2, 'r': 3}"
      ]
     },
     "execution_count": 127,
     "metadata": {},
     "output_type": "execute_result"
    }
   ],
   "source": [
    "D"
   ]
  },
  {
   "cell_type": "code",
   "execution_count": 128,
   "id": "13ed516b",
   "metadata": {},
   "outputs": [
    {
     "name": "stdout",
     "output_type": "stream",
     "text": [
      "h => 2\n",
      "p => 1\n",
      "r => 3\n"
     ]
    }
   ],
   "source": [
    "for key in sorted(D):\n",
    "    print(key, '=>', D[key])"
   ]
  },
  {
   "cell_type": "code",
   "execution_count": 129,
   "id": "fc7d9575",
   "metadata": {},
   "outputs": [
    {
     "name": "stdout",
     "output_type": "stream",
     "text": [
      "CPU times: total: 1.12 s\n",
      "Wall time: 1.19 s\n"
     ]
    },
    {
     "data": {
      "text/plain": [
       "49999995000000"
      ]
     },
     "execution_count": 129,
     "metadata": {},
     "output_type": "execute_result"
    }
   ],
   "source": [
    "%%time\n",
    "squares = [x for x in range(10000000)]\n",
    "sum(squares)"
   ]
  },
  {
   "cell_type": "code",
   "execution_count": 130,
   "id": "8fa49558",
   "metadata": {},
   "outputs": [
    {
     "name": "stdout",
     "output_type": "stream",
     "text": [
      "CPU times: total: 2.12 s\n",
      "Wall time: 2.15 s\n"
     ]
    },
    {
     "data": {
      "text/plain": [
       "49999995000000"
      ]
     },
     "execution_count": 130,
     "metadata": {},
     "output_type": "execute_result"
    }
   ],
   "source": [
    "%%time\n",
    "squares = []\n",
    "for x in range(10000000): \n",
    "    squares.append(x )\n",
    "sum(squares)"
   ]
  },
  {
   "cell_type": "code",
   "execution_count": 131,
   "id": "58cd8102",
   "metadata": {},
   "outputs": [
    {
     "name": "stdout",
     "output_type": "stream",
     "text": [
      "CPU times: total: 234 ms\n",
      "Wall time: 245 ms\n"
     ]
    },
    {
     "data": {
      "text/plain": [
       "<map at 0x26dd7fc62e0>"
      ]
     },
     "execution_count": 131,
     "metadata": {},
     "output_type": "execute_result"
    }
   ],
   "source": [
    "%%time\n",
    "map(sum,list(range(10000000)) ) "
   ]
  },
  {
   "cell_type": "code",
   "execution_count": 132,
   "id": "196e182b",
   "metadata": {},
   "outputs": [
    {
     "name": "stdout",
     "output_type": "stream",
     "text": [
      "CPU times: total: 297 ms\n",
      "Wall time: 287 ms\n"
     ]
    },
    {
     "data": {
      "text/plain": [
       "<filter at 0x26dd7fa2190>"
      ]
     },
     "execution_count": 132,
     "metadata": {},
     "output_type": "execute_result"
    }
   ],
   "source": [
    "%%time\n",
    "filter(sum,list(range(10000000)))"
   ]
  },
  {
   "cell_type": "markdown",
   "id": "ef57f138",
   "metadata": {},
   "source": [
    "- The list comprehension and other tools like map and filter will often run faster than a for loop."
   ]
  },
  {
   "cell_type": "markdown",
   "id": "6e7394cd",
   "metadata": {},
   "source": [
    "**Tuples**"
   ]
  },
  {
   "cell_type": "markdown",
   "id": "eacf194b",
   "metadata": {},
   "source": [
    "- The tuple object cannot be changed—tuples are sequences like lists, \n",
    "- tuple are immutable, like strings. \n",
    "- tuple normally coded in parentheses instead of square brackets and they support arbitrary types, arbitrary nesting, and the usual sequence operations."
   ]
  },
  {
   "cell_type": "code",
   "execution_count": 133,
   "id": "983e8bdf",
   "metadata": {},
   "outputs": [
    {
     "data": {
      "text/plain": [
       "4"
      ]
     },
     "execution_count": 133,
     "metadata": {},
     "output_type": "execute_result"
    }
   ],
   "source": [
    "T = (1, 2, 3, 4)\n",
    "len(T)"
   ]
  },
  {
   "cell_type": "code",
   "execution_count": 134,
   "id": "f5713bbe",
   "metadata": {},
   "outputs": [
    {
     "data": {
      "text/plain": [
       "(1, 2, 3, 4, 5, 6)"
      ]
     },
     "execution_count": 134,
     "metadata": {},
     "output_type": "execute_result"
    }
   ],
   "source": [
    "T + (5, 6)"
   ]
  },
  {
   "cell_type": "code",
   "execution_count": 135,
   "id": "a41240ab",
   "metadata": {},
   "outputs": [
    {
     "data": {
      "text/plain": [
       "1"
      ]
     },
     "execution_count": 135,
     "metadata": {},
     "output_type": "execute_result"
    }
   ],
   "source": [
    "T[0]"
   ]
  },
  {
   "cell_type": "code",
   "execution_count": 136,
   "id": "3ba848d3",
   "metadata": {},
   "outputs": [
    {
     "data": {
      "text/plain": [
       "3"
      ]
     },
     "execution_count": 136,
     "metadata": {},
     "output_type": "execute_result"
    }
   ],
   "source": [
    "T.index(4) # 4 appears at offset 3"
   ]
  },
  {
   "cell_type": "code",
   "execution_count": 137,
   "id": "ae69bdc1",
   "metadata": {},
   "outputs": [
    {
     "data": {
      "text/plain": [
       "1"
      ]
     },
     "execution_count": 137,
     "metadata": {},
     "output_type": "execute_result"
    }
   ],
   "source": [
    "T.count(4) # 4 appears once"
   ]
  },
  {
   "cell_type": "code",
   "execution_count": 138,
   "id": "e46d1c22",
   "metadata": {},
   "outputs": [
    {
     "ename": "TypeError",
     "evalue": "'tuple' object does not support item assignment",
     "output_type": "error",
     "traceback": [
      "\u001b[1;31m---------------------------------------------------------------------------\u001b[0m",
      "\u001b[1;31mTypeError\u001b[0m                                 Traceback (most recent call last)",
      "Input \u001b[1;32mIn [138]\u001b[0m, in \u001b[0;36m<cell line: 1>\u001b[1;34m()\u001b[0m\n\u001b[1;32m----> 1\u001b[0m \u001b[43mT\u001b[49m\u001b[43m[\u001b[49m\u001b[38;5;241;43m0\u001b[39;49m\u001b[43m]\u001b[49m \u001b[38;5;241m=\u001b[39m \u001b[38;5;241m2\u001b[39m\n",
      "\u001b[1;31mTypeError\u001b[0m: 'tuple' object does not support item assignment"
     ]
    }
   ],
   "source": [
    "T[0] = 2 # Tuples are immutable"
   ]
  },
  {
   "cell_type": "code",
   "execution_count": 139,
   "id": "88edac60",
   "metadata": {},
   "outputs": [
    {
     "data": {
      "text/plain": [
       "(2, 2, 3, 4)"
      ]
     },
     "execution_count": 139,
     "metadata": {},
     "output_type": "execute_result"
    }
   ],
   "source": [
    "T = (2,) + T[1:] # Make a new tuple for a new value\n",
    "T"
   ]
  },
  {
   "cell_type": "code",
   "execution_count": 140,
   "id": "de6be69c",
   "metadata": {},
   "outputs": [
    {
     "data": {
      "text/plain": [
       "3.0"
      ]
     },
     "execution_count": 140,
     "metadata": {},
     "output_type": "execute_result"
    }
   ],
   "source": [
    "# the parentheses enclosing a tuple’s items can usually be omitted\n",
    "T = 'spam', 3.0, [11, 22, 33]\n",
    "T[1]"
   ]
  },
  {
   "cell_type": "code",
   "execution_count": 141,
   "id": "86e8c5ed",
   "metadata": {},
   "outputs": [
    {
     "data": {
      "text/plain": [
       "22"
      ]
     },
     "execution_count": 141,
     "metadata": {},
     "output_type": "execute_result"
    }
   ],
   "source": [
    "T[2][1]"
   ]
  },
  {
   "cell_type": "code",
   "execution_count": 142,
   "id": "944d120c",
   "metadata": {},
   "outputs": [
    {
     "ename": "AttributeError",
     "evalue": "'tuple' object has no attribute 'append'",
     "output_type": "error",
     "traceback": [
      "\u001b[1;31m---------------------------------------------------------------------------\u001b[0m",
      "\u001b[1;31mAttributeError\u001b[0m                            Traceback (most recent call last)",
      "Input \u001b[1;32mIn [142]\u001b[0m, in \u001b[0;36m<cell line: 1>\u001b[1;34m()\u001b[0m\n\u001b[1;32m----> 1\u001b[0m \u001b[43mT\u001b[49m\u001b[38;5;241;43m.\u001b[39;49m\u001b[43mappend\u001b[49m(\u001b[38;5;241m4\u001b[39m)\n",
      "\u001b[1;31mAttributeError\u001b[0m: 'tuple' object has no attribute 'append'"
     ]
    }
   ],
   "source": [
    "T.append(4) # AttributeError: 'tuple' object has no attribute 'append'"
   ]
  },
  {
   "cell_type": "markdown",
   "id": "610aaf28",
   "metadata": {},
   "source": [
    "- If we pass a collection of objects around your program as a list, it can be changed anywhere.\n",
    "- if you use a tuple, it cannot. That is, tuples provide a sort of integrity."
   ]
  },
  {
   "cell_type": "markdown",
   "id": "38523cd4",
   "metadata": {},
   "source": [
    "**Files**\n",
    "- File objects are Python code’s main interface to external files on your computer.\n",
    "- They can be used to read and write text, Excel documents, saved email messages etc. stored on our machine.\n",
    "- Files are a core type in python."
   ]
  },
  {
   "cell_type": "code",
   "execution_count": 143,
   "id": "f539efb6",
   "metadata": {},
   "outputs": [
    {
     "data": {
      "text/plain": [
       "6"
      ]
     },
     "execution_count": 143,
     "metadata": {},
     "output_type": "execute_result"
    }
   ],
   "source": [
    "f = open('data.txt', 'w') # Make a new file in write mode ('w' is write)\n",
    "f.write('Hello\\n') # Write strings of characters to it"
   ]
  },
  {
   "cell_type": "code",
   "execution_count": 144,
   "id": "61dd7ac3",
   "metadata": {},
   "outputs": [
    {
     "data": {
      "text/plain": [
       "6"
      ]
     },
     "execution_count": 144,
     "metadata": {},
     "output_type": "execute_result"
    }
   ],
   "source": [
    "f.write('world\\n') # Return number of items written in file"
   ]
  },
  {
   "cell_type": "code",
   "execution_count": 145,
   "id": "e051ca83",
   "metadata": {},
   "outputs": [],
   "source": [
    "f.close() # Close to flush output buffers to disk"
   ]
  },
  {
   "cell_type": "code",
   "execution_count": 146,
   "id": "f238e1a9",
   "metadata": {},
   "outputs": [
    {
     "data": {
      "text/plain": [
       "'Hello\\nworld\\n'"
      ]
     },
     "execution_count": 146,
     "metadata": {},
     "output_type": "execute_result"
    }
   ],
   "source": [
    "f = open('data.txt') # 'r' (read) is the default processing mode\n",
    "text = f.read() # Read entire file into a string\n",
    "text"
   ]
  },
  {
   "cell_type": "code",
   "execution_count": 147,
   "id": "6231b326",
   "metadata": {},
   "outputs": [
    {
     "name": "stdout",
     "output_type": "stream",
     "text": [
      "Hello\n",
      "world\n",
      "\n"
     ]
    }
   ],
   "source": [
    "print(text) # print interprets control characters"
   ]
  },
  {
   "cell_type": "code",
   "execution_count": 148,
   "id": "d57cd810",
   "metadata": {},
   "outputs": [
    {
     "data": {
      "text/plain": [
       "['Hello', 'world']"
      ]
     },
     "execution_count": 148,
     "metadata": {},
     "output_type": "execute_result"
    }
   ],
   "source": [
    "text.split() # File content is always a string"
   ]
  },
  {
   "cell_type": "markdown",
   "id": "2eaa746e",
   "metadata": {},
   "source": [
    "- the best way to read a file today is to not read it at all—files provide an iterator that automatically reads line by line in for loops and other contexts.\n",
    "- read accepts an optional maximum byte/character size\n",
    "- readline reads one line at a time"
   ]
  },
  {
   "cell_type": "code",
   "execution_count": 149,
   "id": "484d8246",
   "metadata": {},
   "outputs": [
    {
     "name": "stdout",
     "output_type": "stream",
     "text": [
      "Hello\n",
      "\n",
      "world\n",
      "\n"
     ]
    }
   ],
   "source": [
    "for line in open('data.txt'):\n",
    "    print(line)"
   ]
  },
  {
   "cell_type": "code",
   "execution_count": 150,
   "id": "14e6f85c",
   "metadata": {},
   "outputs": [
    {
     "name": "stdout",
     "output_type": "stream",
     "text": [
      "['_CHUNK_SIZE', '__class__', '__del__', '__delattr__', '__dict__', '__dir__', '__doc__', '__enter__', '__eq__', '__exit__', '__format__', '__ge__', '__getattribute__', '__gt__', '__hash__', '__init__', '__init_subclass__', '__iter__', '__le__', '__lt__', '__ne__', '__new__', '__next__', '__reduce__', '__reduce_ex__', '__repr__', '__setattr__', '__sizeof__', '__str__', '__subclasshook__', '_checkClosed', '_checkReadable', '_checkSeekable', '_checkWritable', '_finalizing', 'buffer', 'close', 'closed', 'detach', 'encoding', 'errors', 'fileno', 'flush', 'isatty', 'line_buffering', 'mode', 'name', 'newlines', 'read', 'readable', 'readline', 'readlines', 'reconfigure', 'seek', 'seekable', 'tell', 'truncate', 'writable', 'write', 'write_through', 'writelines']\n"
     ]
    }
   ],
   "source": [
    "print(dir(f))"
   ]
  },
  {
   "cell_type": "code",
   "execution_count": 151,
   "id": "7b0fb090",
   "metadata": {},
   "outputs": [
    {
     "name": "stdout",
     "output_type": "stream",
     "text": [
      "Help on built-in function readlines:\n",
      "\n",
      "readlines(hint=-1, /) method of _io.TextIOWrapper instance\n",
      "    Return a list of lines from the stream.\n",
      "    \n",
      "    hint can be specified to control the number of lines read: no more\n",
      "    lines will be read if the total size (in bytes/characters) of all\n",
      "    lines so far exceeds hint.\n",
      "\n"
     ]
    }
   ],
   "source": [
    "help(f.readlines)"
   ]
  },
  {
   "cell_type": "markdown",
   "id": "26ff03b4",
   "metadata": {},
   "source": [
    "**Other Core Types**"
   ]
  },
  {
   "cell_type": "markdown",
   "id": "4473669c",
   "metadata": {},
   "source": [
    "Beyond the core types we’ve seen so far, there are others that may or may not qualify for membership in the category, depending on how broadly it is defined. \n",
    "- Sets, for example, are a recent addition to the language that are neither mappings nor sequences;\n",
    "- Sets are unordered collections of unique and immutable objects.\n",
    "- we can able to create sets by calling the built-in set function or using new set literals.\n",
    "- the choice of new {...} syntax for set literals makes sense.\n",
    "- since, sets are much like the keys of a valueless dictionary that is the reason that set can't contain duplicate data."
   ]
  },
  {
   "cell_type": "code",
   "execution_count": 152,
   "id": "41375bcf",
   "metadata": {},
   "outputs": [
    {
     "data": {
      "text/plain": [
       "{'a', 'm', 'p', 's'}"
      ]
     },
     "execution_count": 152,
     "metadata": {},
     "output_type": "execute_result"
    }
   ],
   "source": [
    "X = set('spam') # Make a set with built-in function\n",
    "Y = {'h', 'a', 'm'} # Make a set with set literals\n",
    "X"
   ]
  },
  {
   "cell_type": "code",
   "execution_count": 153,
   "id": "aa39c57e",
   "metadata": {},
   "outputs": [
    {
     "data": {
      "text/plain": [
       "{'a', 'h', 'm'}"
      ]
     },
     "execution_count": 153,
     "metadata": {},
     "output_type": "execute_result"
    }
   ],
   "source": [
    "Y"
   ]
  },
  {
   "cell_type": "code",
   "execution_count": 154,
   "id": "dc652f5c",
   "metadata": {},
   "outputs": [
    {
     "data": {
      "text/plain": [
       "{'a', 'm'}"
      ]
     },
     "execution_count": 154,
     "metadata": {},
     "output_type": "execute_result"
    }
   ],
   "source": [
    "X & Y # Intersection"
   ]
  },
  {
   "cell_type": "code",
   "execution_count": 155,
   "id": "ccb192cb",
   "metadata": {},
   "outputs": [
    {
     "data": {
      "text/plain": [
       "{'a', 'h', 'm', 'p', 's'}"
      ]
     },
     "execution_count": 155,
     "metadata": {},
     "output_type": "execute_result"
    }
   ],
   "source": [
    "X | Y # Union"
   ]
  },
  {
   "cell_type": "code",
   "execution_count": 156,
   "id": "51f4b0d4",
   "metadata": {},
   "outputs": [
    {
     "data": {
      "text/plain": [
       "{'p', 's'}"
      ]
     },
     "execution_count": 156,
     "metadata": {},
     "output_type": "execute_result"
    }
   ],
   "source": [
    "X - Y # Difference"
   ]
  },
  {
   "cell_type": "code",
   "execution_count": 157,
   "id": "cb13b3ba",
   "metadata": {},
   "outputs": [
    {
     "data": {
      "text/plain": [
       "{1, 4, 9, 16}"
      ]
     },
     "execution_count": 157,
     "metadata": {},
     "output_type": "execute_result"
    }
   ],
   "source": [
    "{n ** 2 for n in [1, 2, 3, 4]} # Set comprehension"
   ]
  },
  {
   "cell_type": "markdown",
   "id": "e988b7c0",
   "metadata": {},
   "source": [
    "- sets useful for common tasks such as...\n",
    "    - filtering out duplicates\n",
    "    - isolating differences\n",
    "    - performing order-neutral equality tests without sorting—in lists, strings, and all other iterable objects"
   ]
  },
  {
   "cell_type": "code",
   "execution_count": 158,
   "id": "29422425",
   "metadata": {},
   "outputs": [
    {
     "data": {
      "text/plain": [
       "[1, 2, 3]"
      ]
     },
     "execution_count": 158,
     "metadata": {},
     "output_type": "execute_result"
    }
   ],
   "source": [
    "list(set([1, 2, 1, 3, 1])) # Filtering out duplicates (possibly reordered)"
   ]
  },
  {
   "cell_type": "code",
   "execution_count": 159,
   "id": "a7dda0df",
   "metadata": {},
   "outputs": [
    {
     "data": {
      "text/plain": [
       "{'p', 's'}"
      ]
     },
     "execution_count": 159,
     "metadata": {},
     "output_type": "execute_result"
    }
   ],
   "source": [
    "set('spam') - set('ham') # Finding differences in collections"
   ]
  },
  {
   "cell_type": "code",
   "execution_count": 160,
   "id": "726e5143",
   "metadata": {},
   "outputs": [
    {
     "data": {
      "text/plain": [
       "True"
      ]
     },
     "execution_count": 160,
     "metadata": {},
     "output_type": "execute_result"
    }
   ],
   "source": [
    "set('spam') == set('asmp') # Order-neutral equality tests (== is False)"
   ]
  },
  {
   "cell_type": "markdown",
   "id": "b0508200",
   "metadata": {},
   "source": [
    "Sets also support in membership tests likeother collection types in Python."
   ]
  },
  {
   "cell_type": "code",
   "execution_count": 161,
   "id": "f12ea9c4",
   "metadata": {},
   "outputs": [
    {
     "data": {
      "text/plain": [
       "(True, True, True)"
      ]
     },
     "execution_count": 161,
     "metadata": {},
     "output_type": "execute_result"
    }
   ],
   "source": [
    "'p' in set('spam'), 'p' in 'spam', 'ham' in ['eggs', 'spam', 'ham']"
   ]
  },
  {
   "cell_type": "markdown",
   "id": "1c2889fc",
   "metadata": {},
   "source": [
    "- Python recently grew a few new numeric types\n",
    "    1. decimal numbers - which are fixed-precision floating-point numbers.\n",
    "    2. fraction numbers -  which are rational numbers with both a numerator and a denominator."
   ]
  },
  {
   "cell_type": "code",
   "execution_count": 162,
   "id": "efdfa610",
   "metadata": {},
   "outputs": [
    {
     "data": {
      "text/plain": [
       "Decimal('4.141')"
      ]
     },
     "execution_count": 162,
     "metadata": {},
     "output_type": "execute_result"
    }
   ],
   "source": [
    "import decimal \n",
    "d = decimal.Decimal('3.141')\n",
    "d + 1"
   ]
  },
  {
   "cell_type": "code",
   "execution_count": 163,
   "id": "0c923a29",
   "metadata": {},
   "outputs": [
    {
     "data": {
      "text/plain": [
       "Fraction(5, 3)"
      ]
     },
     "execution_count": 163,
     "metadata": {},
     "output_type": "execute_result"
    }
   ],
   "source": [
    "from fractions import Fraction\n",
    "f = Fraction(2, 3)\n",
    "f + 1"
   ]
  },
  {
   "cell_type": "code",
   "execution_count": 164,
   "id": "62474eb1",
   "metadata": {},
   "outputs": [
    {
     "data": {
      "text/plain": [
       "Fraction(7, 6)"
      ]
     },
     "execution_count": 164,
     "metadata": {},
     "output_type": "execute_result"
    }
   ],
   "source": [
    "f + Fraction(1, 2) # 2/3 + 1/2 = 7/6\n",
    "Fraction(7, 6)"
   ]
  },
  {
   "cell_type": "markdown",
   "id": "a0c1b1e7",
   "metadata": {},
   "source": [
    "**Boolean**\n",
    "- Boolean is also a python's core datatype.\n",
    "- Boolean has a predefined True and False objects that are essentially just the integers 1 and 0 with custom display logic.\n",
    "- Boolean also has a long supported special placeholder object called None.\n",
    "- None object commonly used to initialize names and objects."
   ]
  },
  {
   "cell_type": "code",
   "execution_count": 165,
   "id": "61ca223b",
   "metadata": {},
   "outputs": [
    {
     "data": {
      "text/plain": [
       "(False, True)"
      ]
     },
     "execution_count": 165,
     "metadata": {},
     "output_type": "execute_result"
    }
   ],
   "source": [
    "1 > 2, 1 < 2 # Booleans"
   ]
  },
  {
   "cell_type": "code",
   "execution_count": 166,
   "id": "c470fbbd",
   "metadata": {},
   "outputs": [
    {
     "data": {
      "text/plain": [
       "True"
      ]
     },
     "execution_count": 166,
     "metadata": {},
     "output_type": "execute_result"
    }
   ],
   "source": [
    "bool('spam') # Object's Boolean value"
   ]
  },
  {
   "cell_type": "code",
   "execution_count": 167,
   "id": "02a8d63a",
   "metadata": {},
   "outputs": [
    {
     "name": "stdout",
     "output_type": "stream",
     "text": [
      "None\n"
     ]
    }
   ],
   "source": [
    "X = None # None placeholder\n",
    "print(X)"
   ]
  },
  {
   "cell_type": "code",
   "execution_count": 168,
   "id": "f8cbbec9",
   "metadata": {},
   "outputs": [],
   "source": [
    "L = [None] * 10 # Initialize a list of 10 Nones\n",
    "L[9] = 'Reshma'"
   ]
  },
  {
   "cell_type": "code",
   "execution_count": 169,
   "id": "21b28284",
   "metadata": {},
   "outputs": [
    {
     "data": {
      "text/plain": [
       "[None, None, None, None, None, None, None, None, None, 'Reshma']"
      ]
     },
     "execution_count": 169,
     "metadata": {},
     "output_type": "execute_result"
    }
   ],
   "source": [
    "L"
   ]
  },
  {
   "cell_type": "markdown",
   "id": "66d300da",
   "metadata": {},
   "source": [
    "**type object**\n",
    "- it is returned by the type built-in function.\n",
    "- it is an object that gives the type of another object."
   ]
  },
  {
   "cell_type": "code",
   "execution_count": 2,
   "id": "5c5387ba",
   "metadata": {},
   "outputs": [
    {
     "data": {
      "text/plain": [
       "(list, dict, set, tuple, str, int, bool, NoneType)"
      ]
     },
     "execution_count": 2,
     "metadata": {},
     "output_type": "execute_result"
    }
   ],
   "source": [
    "L = [1,2,3]\n",
    "D = {'a':1,'b':2,'c':3}\n",
    "S = {1,2,3,4}\n",
    "T = (1,2,7,9)\n",
    "St = 'Hitesh'\n",
    "N = 818\n",
    "B = True\n",
    "X = None\n",
    "type(L),type(D),type(S),type(T),type(St),type(N),type(B),type(X)"
   ]
  },
  {
   "cell_type": "code",
   "execution_count": 3,
   "id": "0dcde6d5",
   "metadata": {},
   "outputs": [
    {
     "data": {
      "text/plain": [
       "type"
      ]
     },
     "execution_count": 3,
     "metadata": {},
     "output_type": "execute_result"
    }
   ],
   "source": [
    "type(type(L))"
   ]
  },
  {
   "cell_type": "markdown",
   "id": "1f68c8cf",
   "metadata": {},
   "source": [
    "- most practical application of type object is...it allows code to check the types of the objects it processes. \n",
    "- there are three ways to check the types of the objects in a Python script."
   ]
  },
  {
   "cell_type": "code",
   "execution_count": 4,
   "id": "b29ba73e",
   "metadata": {},
   "outputs": [
    {
     "name": "stdout",
     "output_type": "stream",
     "text": [
      "yes\n"
     ]
    }
   ],
   "source": [
    "if type(L) == type([]): # Type testing\n",
    "    print('yes')"
   ]
  },
  {
   "cell_type": "code",
   "execution_count": 5,
   "id": "0b6dff9b",
   "metadata": {},
   "outputs": [
    {
     "name": "stdout",
     "output_type": "stream",
     "text": [
      "yes\n"
     ]
    }
   ],
   "source": [
    "if type(L) == list: # Using the type name\n",
    "     print('yes')"
   ]
  },
  {
   "cell_type": "code",
   "execution_count": 6,
   "id": "1acb37ad",
   "metadata": {},
   "outputs": [
    {
     "name": "stdout",
     "output_type": "stream",
     "text": [
      "yes\n"
     ]
    }
   ],
   "source": [
    "if isinstance(L, list): # Object-oriented tests\n",
    "     print('yes')"
   ]
  },
  {
   "cell_type": "markdown",
   "id": "d56fc321",
   "metadata": {},
   "source": [
    "**Classs**"
   ]
  },
  {
   "cell_type": "code",
   "execution_count": 175,
   "id": "0f167cde",
   "metadata": {},
   "outputs": [],
   "source": [
    "class Worker:\n",
    "    def __init__(self, name, pay):\n",
    "        self.name = name\n",
    "        self.pay = pay    \n",
    "    def lastName(self):\n",
    "        return self.name.split()[-1]       \n",
    "    def giveRaise(self, percent):\n",
    "        self.pay *= (1.0 + percent) \n",
    "bob = Worker('Bob Smith', 50000)\n",
    "sue = Worker('Sue Jones', 60000)"
   ]
  },
  {
   "cell_type": "code",
   "execution_count": 176,
   "id": "d9321794",
   "metadata": {},
   "outputs": [
    {
     "data": {
      "text/plain": [
       "('Smith', 'Jones')"
      ]
     },
     "execution_count": 176,
     "metadata": {},
     "output_type": "execute_result"
    }
   ],
   "source": [
    "bob.lastName(),sue.lastName()"
   ]
  },
  {
   "cell_type": "code",
   "execution_count": 177,
   "id": "4863b681",
   "metadata": {},
   "outputs": [],
   "source": [
    "sue.giveRaise(.10)"
   ]
  },
  {
   "cell_type": "code",
   "execution_count": 178,
   "id": "1280e8fd",
   "metadata": {},
   "outputs": [
    {
     "data": {
      "text/plain": [
       "66000.0"
      ]
     },
     "execution_count": 178,
     "metadata": {},
     "output_type": "execute_result"
    }
   ],
   "source": [
    "sue.pay"
   ]
  },
  {
   "cell_type": "code",
   "execution_count": null,
   "id": "f358295d",
   "metadata": {},
   "outputs": [],
   "source": []
  }
 ],
 "metadata": {
  "kernelspec": {
   "display_name": "Python 3 (ipykernel)",
   "language": "python",
   "name": "python3"
  },
  "language_info": {
   "codemirror_mode": {
    "name": "ipython",
    "version": 3
   },
   "file_extension": ".py",
   "mimetype": "text/x-python",
   "name": "python",
   "nbconvert_exporter": "python",
   "pygments_lexer": "ipython3",
   "version": "3.10.6"
  }
 },
 "nbformat": 4,
 "nbformat_minor": 5
}
