{
 "cells": [
  {
   "cell_type": "markdown",
   "id": "50c8e3e0",
   "metadata": {},
   "source": [
    "# Truth Values and Boolean Tests"
   ]
  },
  {
   "cell_type": "raw",
   "id": "9e5ec0a0",
   "metadata": {},
   "source": [
    "• All objects have an inherent Boolean true or false value.\n",
    "• Any nonzero number or nonempty object is true.\n",
    "• Zero numbers, empty objects, and the special object None are considered false.\n",
    "• Comparisons and equality tests are applied recursively to data structures.\n",
    "• Comparisons and equality tests return True or False (custom versions of 1 and 0).\n",
    "• Boolean and and or operators return a true or false operand object.\n",
    "• Boolean operators stop evaluating (“short circuit”) as soon as a result is known.\n",
    "• Boolean operators are used to combine the results of other tests in richer ways to produce new truth values\n",
    "• there are three Boolean expression operators in Python:\n",
    "        X and Y\n",
    "        Is true if both X and Y are true\n",
    "        X or Y\n",
    "        Is true if either X or Y is true\n",
    "        not X\n",
    "        Is true if X is false (the expression returns True or False)"
   ]
  },
  {
   "cell_type": "code",
   "execution_count": 1,
   "id": "6937f6db",
   "metadata": {},
   "outputs": [
    {
     "data": {
      "text/plain": [
       "(2, 3)"
      ]
     },
     "execution_count": 1,
     "metadata": {},
     "output_type": "execute_result"
    }
   ],
   "source": [
    ">>> 2 or 3, 3 or 2 # Return left operand if true"
   ]
  },
  {
   "cell_type": "code",
   "execution_count": 2,
   "id": "d823d43c",
   "metadata": {},
   "outputs": [
    {
     "data": {
      "text/plain": [
       "3"
      ]
     },
     "execution_count": 2,
     "metadata": {},
     "output_type": "execute_result"
    }
   ],
   "source": [
    ">>> [] or 3"
   ]
  },
  {
   "cell_type": "code",
   "execution_count": 3,
   "id": "f52d643a",
   "metadata": {},
   "outputs": [
    {
     "data": {
      "text/plain": [
       "{}"
      ]
     },
     "execution_count": 3,
     "metadata": {},
     "output_type": "execute_result"
    }
   ],
   "source": [
    ">>> [] or {}"
   ]
  },
  {
   "cell_type": "raw",
   "id": "6e43d6c6",
   "metadata": {},
   "source": [
    "    In the first line of the preceding example, both operands (2 and 3) are true (i.e., are nonzero), so Python always stops \n",
    "and returns the one on the left—it determines the result because true or anything is always true. In the other two tests, the \n",
    "left operand is false (an empty object), so Python simply evaluates and returns the object on the right—which may happen to \n",
    "have either a true or a false value when tested.\n",
    "\n",
    "    Python and operations also stop as soon as the result is known; however, in this case Python evaluates the operands from \n",
    "left to right and stops if the left operand is a false object because it determines the result—false and anything is always \n",
    "false:"
   ]
  },
  {
   "cell_type": "code",
   "execution_count": 4,
   "id": "72a70dad",
   "metadata": {},
   "outputs": [
    {
     "data": {
      "text/plain": [
       "(3, 2)"
      ]
     },
     "execution_count": 4,
     "metadata": {},
     "output_type": "execute_result"
    }
   ],
   "source": [
    ">>> 2 and 3, 3 and 2 # Return left operand if false"
   ]
  },
  {
   "cell_type": "code",
   "execution_count": 5,
   "id": "0207c294",
   "metadata": {},
   "outputs": [
    {
     "data": {
      "text/plain": [
       "[]"
      ]
     },
     "execution_count": 5,
     "metadata": {},
     "output_type": "execute_result"
    }
   ],
   "source": [
    ">>> [] and {}"
   ]
  },
  {
   "cell_type": "code",
   "execution_count": 6,
   "id": "42d7f148",
   "metadata": {},
   "outputs": [
    {
     "data": {
      "text/plain": [
       "[]"
      ]
     },
     "execution_count": 6,
     "metadata": {},
     "output_type": "execute_result"
    }
   ],
   "source": [
    ">>> 3 and []"
   ]
  },
  {
   "cell_type": "markdown",
   "id": "13c401c1",
   "metadata": {},
   "source": [
    "# The if/else Ternary Expression"
   ]
  },
  {
   "cell_type": "raw",
   "id": "8444c5eb",
   "metadata": {},
   "source": [
    "***\n",
    "    syntax :\n",
    "        A = Y if X else Z\n",
    "***"
   ]
  },
  {
   "cell_type": "raw",
   "id": "fafccb98",
   "metadata": {},
   "source": [
    "    Python runs expression Y only if X turns out to be true, and runs expression Z only if X turns out to be false."
   ]
  },
  {
   "cell_type": "code",
   "execution_count": 7,
   "id": "1f3ada49",
   "metadata": {},
   "outputs": [
    {
     "data": {
      "text/plain": [
       "'t'"
      ]
     },
     "execution_count": 7,
     "metadata": {},
     "output_type": "execute_result"
    }
   ],
   "source": [
    ">>> A = 't' if 'spam' else 'f' # For strings, nonempty means true\n",
    ">>> A"
   ]
  },
  {
   "cell_type": "code",
   "execution_count": 8,
   "id": "1003c0aa",
   "metadata": {},
   "outputs": [
    {
     "data": {
      "text/plain": [
       "'f'"
      ]
     },
     "execution_count": 8,
     "metadata": {},
     "output_type": "execute_result"
    }
   ],
   "source": [
    ">>> A = 't' if '' else 'f'\n",
    ">>> A"
   ]
  },
  {
   "cell_type": "code",
   "execution_count": 9,
   "id": "e402ceb5",
   "metadata": {},
   "outputs": [
    {
     "data": {
      "text/plain": [
       "[1, 2, 'spam', 'ham']"
      ]
     },
     "execution_count": 9,
     "metadata": {},
     "output_type": "execute_result"
    }
   ],
   "source": [
    ">>> L = [1, 0, 2, 0, 'spam', '', 'ham', []]\n",
    ">>> list(filter(bool, L)) # Get true values"
   ]
  },
  {
   "cell_type": "code",
   "execution_count": 10,
   "id": "ba1fb150",
   "metadata": {},
   "outputs": [
    {
     "data": {
      "text/plain": [
       "[1, 2, 'spam', 'ham']"
      ]
     },
     "execution_count": 10,
     "metadata": {},
     "output_type": "execute_result"
    }
   ],
   "source": [
    ">>> [x for x in L if x] # Comprehensions"
   ]
  },
  {
   "cell_type": "code",
   "execution_count": 11,
   "id": "d39534a6",
   "metadata": {},
   "outputs": [
    {
     "data": {
      "text/plain": [
       "(True, False)"
      ]
     },
     "execution_count": 11,
     "metadata": {},
     "output_type": "execute_result"
    }
   ],
   "source": [
    ">>> any(L), all(L) # Aggregate truth"
   ]
  },
  {
   "cell_type": "code",
   "execution_count": null,
   "id": "f925ed62",
   "metadata": {},
   "outputs": [],
   "source": []
  }
 ],
 "metadata": {
  "kernelspec": {
   "display_name": "Python 3 (ipykernel)",
   "language": "python",
   "name": "python3"
  },
  "language_info": {
   "codemirror_mode": {
    "name": "ipython",
    "version": 3
   },
   "file_extension": ".py",
   "mimetype": "text/x-python",
   "name": "python",
   "nbconvert_exporter": "python",
   "pygments_lexer": "ipython3",
   "version": "3.10.6"
  }
 },
 "nbformat": 4,
 "nbformat_minor": 5
}
