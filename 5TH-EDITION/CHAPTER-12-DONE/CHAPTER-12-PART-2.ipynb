{
 "cells": [
  {
   "cell_type": "markdown",
   "id": "e1e3e96b",
   "metadata": {},
   "source": [
    "# if Statement"
   ]
  },
  {
   "cell_type": "raw",
   "id": "cbbecbd3",
   "metadata": {},
   "source": [
    "    In Python if statement selects actions to perform.if statement is the main statement used for selecting from alternative actions based on test results.compound statements—statements that embed other statements.if statement is a compound statement."
   ]
  },
  {
   "cell_type": "raw",
   "id": "f71f7973",
   "metadata": {},
   "source": [
    "    Python if statement is typical of if statements in most procedural languages. It takes the form of an if test, followed by\n",
    "one or more optional elif (“else if”) tests and a final optional else block. The tests and the else part each have an \n",
    "associated block of nested statements, indented under a header line. When the if statement runs, Python executes the block of \n",
    "code associated with the first test that evaluates to true, or the else block if all tests prove false.\n",
    "\n",
    "            if test1: # if test\n",
    "                 statements1 # Associated block\n",
    "            elif test2: # Optional elifs\n",
    "                 statements2\n",
    "            else: # Optional else\n",
    "                statements3"
   ]
  },
  {
   "cell_type": "code",
   "execution_count": 1,
   "id": "010b76f8",
   "metadata": {},
   "outputs": [
    {
     "name": "stdout",
     "output_type": "stream",
     "text": [
      "false\n"
     ]
    }
   ],
   "source": [
    "if not 1:\n",
    "    print('true')\n",
    "else:\n",
    "    print('false')"
   ]
  },
  {
   "cell_type": "markdown",
   "id": "6c4393cc",
   "metadata": {},
   "source": [
    "### Multiway Branching"
   ]
  },
  {
   "cell_type": "code",
   "execution_count": 2,
   "id": "cb3737c7",
   "metadata": {},
   "outputs": [
    {
     "name": "stdout",
     "output_type": "stream",
     "text": [
      "Run away! Run away!\n"
     ]
    }
   ],
   "source": [
    "x = 'killer rabbit'\n",
    "if x == 'roger':\n",
    "    print(\"shave and a haircut\")\n",
    "elif x == 'bugs':\n",
    "    print(\"what's up doc?\")\n",
    "else:\n",
    "    print('Run away! Run away!')"
   ]
  },
  {
   "cell_type": "raw",
   "id": "3acf5724",
   "metadata": {},
   "source": [
    "    there is no switch or case statement in Python that selects an action based on a variable’s value. Instead, you usually \n",
    "code multiway branching as a series of if/elif tests, as in the prior example."
   ]
  },
  {
   "cell_type": "code",
   "execution_count": 3,
   "id": "30598576",
   "metadata": {},
   "outputs": [
    {
     "name": "stdout",
     "output_type": "stream",
     "text": [
      "1.99\n"
     ]
    }
   ],
   "source": [
    "choice = 'ham'\n",
    "print({'spam': 1.25, # A dictionary-based 'switch'\n",
    "       'ham': 1.99, # Use has_key or get for default\n",
    "       'eggs': 0.99,\n",
    "       'bacon': 1.10}[choice])"
   ]
  },
  {
   "cell_type": "code",
   "execution_count": 5,
   "id": "73ba458f",
   "metadata": {},
   "outputs": [
    {
     "name": "stdout",
     "output_type": "stream",
     "text": [
      "1.99\n"
     ]
    }
   ],
   "source": [
    "if choice == 'spam': # The equivalent if statement\n",
    "    print(1.25)\n",
    "elif choice == 'ham':\n",
    "    print(1.99)\n",
    "elif choice == 'eggs':\n",
    "    print(0.99)\n",
    "elif choice == 'bacon':\n",
    "    print(1.10)\n",
    "else:\n",
    "    print('Bad choice')"
   ]
  },
  {
   "cell_type": "code",
   "execution_count": 6,
   "id": "9bd5ba7b",
   "metadata": {
    "scrolled": true
   },
   "outputs": [
    {
     "name": "stdout",
     "output_type": "stream",
     "text": [
      "1.99\n"
     ]
    }
   ],
   "source": [
    "A = {\n",
    "    'spam': 1.25, # A dictionary-based 'switch'\n",
    "       'ham': 1.99, # Use has_key or get for default\n",
    "       'eggs': 0.99,\n",
    "       'bacon': 1.10\n",
    "    }\n",
    "choice = 'ham'\n",
    "print(A[choice])"
   ]
  },
  {
   "cell_type": "markdown",
   "id": "19c4106c",
   "metadata": {},
   "source": [
    "### Handling switch defaults"
   ]
  },
  {
   "cell_type": "raw",
   "id": "547169ae",
   "metadata": {},
   "source": [
    "    Notice the else clause on the if here to handle the default case when no key matches. dictionary defaults can be also coded\n",
    "with in expressions, get method calls, or exception catching with the try statement."
   ]
  },
  {
   "cell_type": "code",
   "execution_count": 7,
   "id": "f688cab5",
   "metadata": {},
   "outputs": [
    {
     "name": "stdout",
     "output_type": "stream",
     "text": [
      "1.25\n",
      "Bad choice\n"
     ]
    }
   ],
   "source": [
    "branch = {'spam': 1.25,\n",
    "          'ham': 1.99,\n",
    "          'eggs': 0.99}\n",
    "print(branch.get('spam', 'Bad choice'))\n",
    "print(branch.get('bacon', 'Bad choice'))"
   ]
  },
  {
   "cell_type": "code",
   "execution_count": 10,
   "id": "280b9f43",
   "metadata": {},
   "outputs": [
    {
     "name": "stdout",
     "output_type": "stream",
     "text": [
      "Bad choice\n"
     ]
    }
   ],
   "source": [
    "branch = {'spam': 1.25,\n",
    "          'ham': 1.99,\n",
    "          'eggs': 0.99}\n",
    "choice = 'bacon'\n",
    "if choice in branch:\n",
    "    print(branch[choice])\n",
    "else:\n",
    "    print('Bad choice')"
   ]
  },
  {
   "cell_type": "code",
   "execution_count": 11,
   "id": "2d6bfbca",
   "metadata": {},
   "outputs": [
    {
     "name": "stdout",
     "output_type": "stream",
     "text": [
      "Bad choice\n"
     ]
    }
   ],
   "source": [
    "try:\n",
    "    print(branch[choice])\n",
    "except KeyError:\n",
    "    print('Bad choice')"
   ]
  },
  {
   "cell_type": "markdown",
   "id": "f94aa003",
   "metadata": {},
   "source": [
    "# Python Syntax"
   ]
  },
  {
   "cell_type": "raw",
   "id": "6eddb93a",
   "metadata": {},
   "source": [
    "    In general, Python has a simple, statement-based syntax. However, there are a few properties you need to know about:\n",
    "        \n",
    "• Statements execute one after another, until you say otherwise.\n",
    "    Python normally runs statements in a file or nested block in order from first to last as a sequence, but statements like \n",
    "    if (as well as loops and exceptions) cause the interpreter to jump around in your code. Because Python’s path through a \n",
    "    program is called the control flow, statements such as if that affect it are often called controlflow statements.\n",
    "    \n",
    "• Block and statement boundaries are detected automatically. \n",
    "    there are no braces or “begin/end” delimiters around blocks of code in Python;instead, Python uses the indentation of \n",
    "    statements under a header to group the statements in a nested block.Python statements are not normally terminated with \n",
    "    semicolons; rather, the end of a line usually marks the end of the statement coded on that line. As a special case, \n",
    "    statements can span lines and be combined on a line with special syntax.\n",
    "    \n",
    "• Compound statements = header + “:” + indented statements.\n",
    "    All Python compound statements—those with nested statements—follow the same pattern: a header line terminated with a colon,\n",
    "    followed by one or more nested statements,usually indented under the header. The indented statements are called a block\n",
    "    (or sometimes, a suite). In the if statement, the elif and else clauses are part of the if, but they are also header lines\n",
    "    with nested blocks of their own. As a special case,blocks can show up on the same line as the header if they are simple \n",
    "    noncompound code.\n",
    "    \n",
    "• Blank lines, spaces, and comments are usually ignored.\n",
    "    Blank lines are both optional and ignored in files.Spaces inside statements and expressions are almost always ignored\n",
    "    (except in string literals, and when used for indentation).Comments are always ignored: they start with a '#' character \n",
    "    (not inside a string literal) and extend to the end of the current line.\n",
    "    \n",
    "• Docstrings are ignored but are saved and displayed by tools. \n",
    "    Python supports an additional comment form called documentation strings (docstrings for short), which, unlike # comments,\n",
    "    are retained at runtime for inspection. Docstrings are simply strings that show up at the top of program files and some \n",
    "    statements. Python ignores their contents, but they are automatically attached to objects at runtime and may be displayed \n",
    "    with documentation tools like PyDoc. Docstrings are part of Python’s larger documentation strategy."
   ]
  },
  {
   "cell_type": "markdown",
   "id": "1d3f6b1f",
   "metadata": {},
   "source": [
    "# Block Delimiters: Indentation Rules"
   ]
  },
  {
   "cell_type": "raw",
   "id": "d6552b17",
   "metadata": {},
   "source": [
    "    Python detects block boundaries automatically, by line indentation—that is, the empty space to the left of your code. All \n",
    "statements indented the same distance to the right belong to the same block of code. In other words, the statements within a \n",
    "block line up vertically, as in a column. The block ends when the end of the file or a lesser-indented line is encountered, and\n",
    "more deeply nested blocks are simply indented further to the right than the statements in the enclosing block."
   ]
  },
  {
   "cell_type": "code",
   "execution_count": 12,
   "id": "45c2813e",
   "metadata": {},
   "outputs": [
    {
     "name": "stdout",
     "output_type": "stream",
     "text": [
      "block2\n",
      "block1\n",
      "block0\n"
     ]
    }
   ],
   "source": [
    "x = 1\n",
    "if x:\n",
    "     y = 2\n",
    "     if y:\n",
    "        print('block2')\n",
    "     print('block1')\n",
    "print('block0')"
   ]
  },
  {
   "cell_type": "raw",
   "id": "0ce5205d",
   "metadata": {},
   "source": [
    "    In general, top-level (unnested) code must start in column 1. Nested blocks can start in any column; indentation may \n",
    "consist of any number of spaces and tabs, as long as it’s the same for all the statements in a given single block. That is,\n",
    "Python doesn’t care how you indent your code; it only cares that it’s done consistently. Four spaces or one tab per indentation\n",
    "level are common conventions, but there is no absolute standard in the Python world.\n",
    "\n",
    "    Indenting code is quite natural in practice. For example, the following (arguably silly)code snippet demonstrates common \n",
    "indentation errors in Python code:"
   ]
  },
  {
   "cell_type": "code",
   "execution_count": 14,
   "id": "2d8a6775",
   "metadata": {},
   "outputs": [
    {
     "ename": "IndentationError",
     "evalue": "unindent does not match any outer indentation level (<tokenize>, line 7)",
     "output_type": "error",
     "traceback": [
      "\u001b[1;36m  File \u001b[1;32m<tokenize>:7\u001b[1;36m\u001b[0m\n\u001b[1;33m    print(x) # Error: inconsistent indentation\u001b[0m\n\u001b[1;37m    ^\u001b[0m\n\u001b[1;31mIndentationError\u001b[0m\u001b[1;31m:\u001b[0m unindent does not match any outer indentation level\n"
     ]
    }
   ],
   "source": [
    " x = 'SPAM' # Error: first line indented\n",
    "if 'rubbery' in 'shrubbery':\n",
    "     print(x * 8)\n",
    "         x += 'NI' # Error: unexpected indentation\n",
    "         if x.endswith('NI'):\n",
    "                 x *= 2\n",
    "             print(x) # Error: inconsistent indentation"
   ]
  },
  {
   "cell_type": "code",
   "execution_count": 25,
   "id": "df1fad30",
   "metadata": {},
   "outputs": [
    {
     "name": "stdout",
     "output_type": "stream",
     "text": [
      "SPAM SPAM SPAM \n",
      "SPAM NI SPAM NI \n"
     ]
    }
   ],
   "source": [
    "# correct code\n",
    "x = 'SPAM '\n",
    "if 'rubbery' in 'shrubbery':\n",
    "    print(x * 3) # Prints 8 \"SPAM\"\n",
    "    x += 'NI '\n",
    "    if x.endswith('NI '):\n",
    "        x *= 2\n",
    "        print(x) # Prints \"SPAMNISPAMNI\""
   ]
  },
  {
   "cell_type": "code",
   "execution_count": null,
   "id": "28581d49",
   "metadata": {},
   "outputs": [],
   "source": []
  },
  {
   "cell_type": "code",
   "execution_count": null,
   "id": "a7395ed5",
   "metadata": {},
   "outputs": [],
   "source": []
  }
 ],
 "metadata": {
  "kernelspec": {
   "display_name": "Python 3 (ipykernel)",
   "language": "python",
   "name": "python3"
  },
  "language_info": {
   "codemirror_mode": {
    "name": "ipython",
    "version": 3
   },
   "file_extension": ".py",
   "mimetype": "text/x-python",
   "name": "python",
   "nbconvert_exporter": "python",
   "pygments_lexer": "ipython3",
   "version": "3.10.6"
  }
 },
 "nbformat": 4,
 "nbformat_minor": 5
}
