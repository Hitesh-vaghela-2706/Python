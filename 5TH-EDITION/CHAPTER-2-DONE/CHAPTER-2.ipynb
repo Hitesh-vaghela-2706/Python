{
 "cells": [
  {
   "cell_type": "markdown",
   "id": "59a9516a",
   "metadata": {},
   "source": [
    "- Python is a interpreted language\n",
    "- when we download the python package it contains...\n",
    "  - Interpreter \n",
    "  - support libraries."
   ]
  },
  {
   "cell_type": "markdown",
   "id": "348345e5",
   "metadata": {},
   "source": [
    "interpreter - <br>\n",
    "    interpreter is a program that takes the source code and data and generates a output of the code without generating the intermediated code."
   ]
  },
  {
   "cell_type": "markdown",
   "id": "41240f29",
   "metadata": {},
   "source": [
    "Compiler - <br>\n",
    "    compiler is a program that converts a souce code into lower level language or machine code called as a intermediate code and\n",
    "    then produces the output of the code."
   ]
  },
  {
   "cell_type": "markdown",
   "id": "3a80a60d",
   "metadata": {},
   "source": [
    "- Python program files are given names that end in .py\n",
    "- technically... this naming scheme is required only for files that are `imported` but most Python files have .py names for consistency."
   ]
  },
  {
   "cell_type": "markdown",
   "id": "aeb1ca3f",
   "metadata": {},
   "source": [
    "When we instruct Python to run the script, there are a few steps that Python carries out before our code actually starts crunching away. \n",
    "1. it’s first compiled to something called “byte code” \n",
    "2. routed to something called a “virtual machine”"
   ]
  },
  {
   "cell_type": "markdown",
   "id": "62337635",
   "metadata": {},
   "source": [
    "<h2 style='color:blue' > Byte code compilation"
   ]
  },
  {
   "cell_type": "markdown",
   "id": "916f4589",
   "metadata": {},
   "source": [
    "- Done Internally and almost completely hidden from us.\n",
    "\n",
    "- when we execute a program Python first compiles your source code into a format known as byte code.Compilation is simply a\n",
    "  translation step and byte code is a lower-level,platform-independent representation of your source code. \n",
    "  \n",
    "- Python translates each of source statements into a group of byte code instructions by decomposing them into individual steps.   This byte code translation is performed to speed execution.\n",
    "\n",
    "- byte code can be run much more quickly than the original source code statements in your text file.\n",
    "\n",
    "- Python process store the byte code of your programs in files that end with a .pyc extension (“.pyc” means compiled “.py”). \n",
    "\n",
    "- Prior to Python 3.2, we will able to see these files show up on your computer after runing programs in the same directorie of   program. For instance, you’ll notice a script.pyc after importing a script.py.\n",
    "\n",
    "- In 3.2 and later, Python instead saves its .pyc byte code files in a subdirectory named `__pycache__` located in the directory where your source files reside, and in files whose names identify the Python version that created them (e.g., script.cpython-33.pyc). \n",
    "\n",
    "- The new `__pycache__` subdirectory helps to avoid clutter for different Python versions installed on the same computer from       preventing overwriting of each other’s saved byte code."
   ]
  },
  {
   "cell_type": "raw",
   "id": "1646e6d4",
   "metadata": {},
   "source": [
    "    Python saves byte code like this as a startup speed optimization. The next time we run our program, Python will load the .pyc files and skip the compilation step, as long as you haven’t changed your source code since the byte code was last saved, and aren’t running with a different Python than the one that created the byte code. \n",
    "    \n",
    "1.  Source changes: Python automatically checks the last-modified timestamps of source and byte code files to know when it must     recompile—if you edit and resave your source code, byte code is automatically re-created the next time your program is run.\n",
    "\n",
    "2.  Python versions: Imports also check to see if the file must be recompiled because it was created by a different Python           version, using either a “magic” version number in the byte code file itself in 3.2 and earlier, or the information present       in byte code filenames in 3.2 and later.\n",
    "\n",
    "If Python cannot write the byte code files to your machine, your program still works—the byte code is generated in memory and simply discarded on program exit. However, because .pyc files speed startup time, you’ll want to make sure they are written for larger programs. Byte code files are also one way to ship Python programs—Python is happy to run a program if all it can find are .pyc files, even if the original .py source files are absent."
   ]
  },
  {
   "cell_type": "markdown",
   "id": "3f8d799c",
   "metadata": {},
   "source": [
    "    byte code is saved in files only for files that are imported, not for the top-level files of a program that are only run as scripts means... byte code is also never saved for code typed at the interactive prompt(CMD)."
   ]
  },
  {
   "cell_type": "markdown",
   "id": "fcebb93d",
   "metadata": {},
   "source": [
    "<h2 style='color:blue' > Python Virtual Machine (PVM)"
   ]
  },
  {
   "cell_type": "markdown",
   "id": "498756e6",
   "metadata": {},
   "source": [
    "- Once python program has been compiled to byte code or the byte code has been loaded from existing .pyc files), it is shipped off for execution to something generally known as the Python Virtual Machine.\n",
    "- PVM is not a separate program, and it need not be installed by itself python itself contains it. the PVM is just a big code loop that iterates through your byte code instructions one by one, to carry out their operations. The PVM is the runtime engine of Python. it’s always present as part of the Python system, and it’s the component that truly runs your scripts."
   ]
  },
  {
   "attachments": {
    "image.png": {
     "image/png": "[encoded data removed]"
    }
   },
   "cell_type": "markdown",
   "id": "b16e455c",
   "metadata": {},
   "source": [
    "![image.png](attachment:image.png)"
   ]
  },
  {
   "cell_type": "markdown",
   "id": "9fbc9d16",
   "metadata": {},
   "source": [
    "<h3 style='color:green'> Performance implications"
   ]
  },
  {
   "cell_type": "markdown",
   "id": "91c67f76",
   "metadata": {},
   "source": [
    "as compare to C and C++ model there is a few differences in the Python model. \n",
    "1. there is usually no build or “make” step in Python.code runs immediately after it is written.\n",
    "2. Python byte code is not binary machine code. Byte code is a Python-specific representation. This is REason why some Python code may not run as fast as C or C++ code."
   ]
  },
  {
   "cell_type": "markdown",
   "id": "768f280d",
   "metadata": {},
   "source": [
    "<h3 style='color:green'> Development implications"
   ]
  },
  {
   "cell_type": "raw",
   "id": "7a62f205",
   "metadata": {},
   "source": [
    "    there is really no distinction between the development and execution environments in python.the systems that compile and execute your source code are really one and the same. for Ex. in C or C++ firstly code is compiled by compiler and executed in OS. but in python source code is translated to byte-code and run by the Python Virtual Machine.  This makes for a much more rapid development cycle. There is no need to precompile and link before execution may begin. simply type and run the code. This also adds a much more dynamic flavor to the language. This structure is also why Python lends itself to product customization—because Python code can be changed on the fly, users can modify the Python parts of a system onsite without needing to have or compile the entire system’s code."
   ]
  },
  {
   "cell_type": "markdown",
   "id": "1abc9645",
   "metadata": {},
   "source": [
    "<h2 style='color:red' > Python Implementation Alternatives"
   ]
  },
  {
   "cell_type": "markdown",
   "id": "d5b5a5e5",
   "metadata": {},
   "source": [
    "    there are mainly five implementations of the Python language\n",
    "1. CPython\n",
    "2. Jython\n",
    "3. IronPython\n",
    "4. Stackless\n",
    "5. PyPy"
   ]
  },
  {
   "cell_type": "markdown",
   "id": "3ceb35c4",
   "metadata": {},
   "source": [
    "- CPython is the standard implementation of Python language.\n",
    "- All the other Python implementations have specific purposes and roles, though they can often serve in most of CPython’s         capacities too. All implement the same Python language but execute programs in different ways."
   ]
  },
  {
   "cell_type": "markdown",
   "id": "79ee8fb5",
   "metadata": {},
   "source": [
    "<h3 style='color:green' > CPython - The standard"
   ]
  },
  {
   "cell_type": "markdown",
   "id": "6400524f",
   "metadata": {},
   "source": [
    "- it is original and standard implementation of Python is usually called CPython.\n",
    "- Python that we fetch from http://www.python.org is CPython.\n",
    "- it is the most complete and be more up-to-date and robust implementation than the alternative systems. "
   ]
  },
  {
   "cell_type": "markdown",
   "id": "5b724875",
   "metadata": {},
   "source": [
    "<h3 style='color:green' > Jython - Python for Java"
   ]
  },
  {
   "cell_type": "markdown",
   "id": "63509560",
   "metadata": {},
   "source": [
    "* The Jython system (originally known as JPython) is an alternative implementation of the Python language targeted for integration with the Java programming language.\n",
    "* Jython consists of Java classes that compile Python source code to Java byte code and then route the resulting byte code to the Java Virtual Machine (JVM). Programmers still code Python statements in .py text files as usual.\n",
    "* Jython’s goal is to allow Python code to script Java applications.Its integration with Java is remarkably seamless. Because Python code is translated to Java byte code, it looks and feels like a true Java program at runtime.\n",
    "* Jython includes integration support that allows Python code to import and use Java classes as though they were coded in Python, and Java code to run Python code as an embedded language."
   ]
  },
  {
   "cell_type": "markdown",
   "id": "c180d55b",
   "metadata": {},
   "source": [
    "<h3 style='color:green' > IronPython - Python for .NET"
   ]
  },
  {
   "cell_type": "markdown",
   "id": "ed677446",
   "metadata": {},
   "source": [
    "* third implementation of Python and newer than both CPython and Jython.\n",
    "* IronPython is designed to allow Python programs to integrate with applications coded to work with Microsoft’s .NET Framework.\n",
    "* IronPython allows Python programs to act as both client and server components, gain accessibility both to and from other .NET languages, and leverage .NET technologies such as the Silverlight framework from their Python code.\n"
   ]
  },
  {
   "cell_type": "markdown",
   "id": "ae6f3f85",
   "metadata": {},
   "source": [
    "<h3 style='color:green' > Stackless - Python for concurrency"
   ]
  },
  {
   "cell_type": "markdown",
   "id": "984f6a12",
   "metadata": {},
   "source": [
    "* Stackless Python system is an enhanced version and reimplementation of the standard CPython language oriented toward concurrency.\n",
    "* Stackless Python can make Python easier to port to small stack architectures, provides efficient multiprocessing options, and fosters novel programming structures such as coroutines."
   ]
  },
  {
   "cell_type": "markdown",
   "id": "9cc1eee1",
   "metadata": {},
   "source": [
    "<h3 style='color:green' > PyPy - Python for speed"
   ]
  },
  {
   "cell_type": "markdown",
   "id": "fdad4282",
   "metadata": {},
   "source": [
    "* The PyPy system is another standard CPython reimplementation which focused on performance. It provides a fast Python implementation with a JIT (just-in-time) compiler.\n",
    "* A JIT is really just an extension to the PVM that translates portions of your byte code all the way to binary machine code for faster execution. It does this as your program is running, not in a prerun compile step, and is able to created type-specific machine code for the dynamic Python language by keeping track of the data types of the objects your program processes. By replacing portions of your byte code this way, your program runs faster and faster as it is executing.\n",
    "* it also provides tools for a “sandbox” model that can run untrusted code in a secure environment, and by default includes support for the prior section’s Stackless Python systems and its microthreads to support massive concurrency."
   ]
  },
  {
   "cell_type": "markdown",
   "id": "3460818f",
   "metadata": {},
   "source": [
    "- PyPy currently claims a 5.7X speedup over CPython\n",
    "- PyPy today clocks in at 10X faster than CPython 2.7, and 100X faster than CPython 3.X.\n",
    "- memory space is also optimized in PyPy - PyPy requiring 247MB and completing in 10.3 seconds compared to CPython’s 684 MB and 89 seconds for same Program."
   ]
  },
  {
   "cell_type": "markdown",
   "id": "4b6ae3f0",
   "metadata": {},
   "source": [
    "<h2 style='color:red' > Execution Optimization Tools"
   ]
  },
  {
   "cell_type": "markdown",
   "id": "73f320a9",
   "metadata": {},
   "source": [
    "1. Cython: A Python/C hybrid\n",
    "2. Shed Skin: A Python-to-C++ translator\n",
    "   - Shed Skin is an emerging system that takes a different approach to Python program execution.it attempts to translate Python      source code to C++ code. then our computer’s C++ compiler compiles it into machine code\n",
    "3. Psyco: The original just-in-time compiler\n",
    "   - Psyco is a specializing JIT compiler\n",
    "   - it generates machine code tailored to the data types that your program actually uses.\n",
    "       - For example, if a part of your program uses different data types at different times, Psyco may generate a different              version of machine code to support each different type combinations."
   ]
  },
  {
   "cell_type": "markdown",
   "id": "e3eea9a7",
   "metadata": {},
   "source": [
    "<h2 style='color:red'> Frozen Binaries"
   ]
  },
  {
   "cell_type": "markdown",
   "id": "92b7d29e",
   "metadata": {},
   "source": [
    "* Using third-party tools it is possible to turn our Python programs into true executables known as frozen binaries in the Python world. \n",
    "* These programs can be run without requiring a Python installation.\n",
    "* Frozen binaries bundle together the byte code of your program files, along with the PVM and any Python support files your program needs into a single package and creates a single binary executable program that can easily be shipped to customers. "
   ]
  },
  {
   "cell_type": "code",
   "execution_count": null,
   "id": "c84b26e7",
   "metadata": {},
   "outputs": [],
   "source": []
  }
 ],
 "metadata": {
  "kernelspec": {
   "display_name": "Python 3 (ipykernel)",
   "language": "python",
   "name": "python3"
  },
  "language_info": {
   "codemirror_mode": {
    "name": "ipython",
    "version": 3
   },
   "file_extension": ".py",
   "mimetype": "text/x-python",
   "name": "python",
   "nbconvert_exporter": "python",
   "pygments_lexer": "ipython3",
   "version": "3.10.6"
  }
 },
 "nbformat": 4,
 "nbformat_minor": 5
}
