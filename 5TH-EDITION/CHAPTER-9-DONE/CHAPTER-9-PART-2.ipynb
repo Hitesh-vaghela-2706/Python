{
 "cells": [
  {
   "cell_type": "markdown",
   "id": "c7017be8",
   "metadata": {},
   "source": [
    "# Files"
   ]
  },
  {
   "cell_type": "markdown",
   "id": "3895a2e5",
   "metadata": {},
   "source": [
    "- the built-in `open` function creates a Python file object, which serves as a link to a file residing on your machine.\n",
    "- After calling open, you can transfer strings of data to and from the associated external file by calling the returned file object’s methods."
   ]
  },
  {
   "cell_type": "markdown",
   "id": "94b9796a",
   "metadata": {},
   "source": [
    "# Opening Files"
   ]
  },
  {
   "cell_type": "raw",
   "id": "b2e71f7b",
   "metadata": {},
   "source": [
    "    To open a file, a program calls the built-in open function, with the external filename first followed by a processing mode.\n",
    "The call returns a file object, which in turn has methods for data transfer.\n",
    "        afile = open(filename, mode)\n",
    "        afile.method()\n",
    "    The first argument to open, the external filename, may include a platform-specific and absolute or relative directory path\n",
    "prefix. Without a directory path, the file is assumed to exist in the current working directory.\n",
    "    The second argument to open, processing mode, is typically the string 'r' to open for text input (the default), 'w' to \n",
    "create and open for text output, or 'a' to open for appending text to the end"
   ]
  },
  {
   "cell_type": "raw",
   "id": "441e0416",
   "metadata": {},
   "source": [
    "    Both of the first two arguments to open must be Python strings.An optional third argument can be used to control output \n",
    "buffering—passing a zero means that output is unbuffered.\n",
    "(it is transferred to the external file immediately on a write method call)"
   ]
  },
  {
   "cell_type": "markdown",
   "id": "57e73dd3",
   "metadata": {},
   "source": [
    "# Using Files"
   ]
  },
  {
   "cell_type": "raw",
   "id": "1e8fa0f3",
   "metadata": {},
   "source": [
    "Once you make a file object with open, you can call its methods to read from or write to the associated external file."
   ]
  },
  {
   "cell_type": "raw",
   "id": "8677d273",
   "metadata": {},
   "source": [
    "1 File iterators are best for reading lines\n",
    "    files also have an iterator that automatically reads one line at a time.\n",
    "2 Content is strings, not objects\n",
    "    data read from a file always comes back to your script as a string, so you’ll have to convert it to a different type of\n",
    "    Python object if a string is not what you need.\n",
    "3 Files are buffered and seekable\n",
    "    By default, output files are always buffered, which means that text you write may not be transferred from memory to disk\n",
    "    immediately—closing a file, or running its flush method, forces the buffered data to disk. You can avoid buffering with\n",
    "    extra open arguments, but it may impede performance. Python files are also random-access on a byte offset basis—their seek\n",
    "    method allows your scripts to jump around to read and write at specific locations.\n",
    "4 close is often optional\n",
    "    Calling the file close method terminates your connection to the external file, releases its system resources,and flushes\n",
    "    its buffered output to disk if any is still in memory.\n",
    "    Pythons other than CPython may require close calls to free up system resources immediately, before garbage collection can\n",
    "    get around to freeing objects."
   ]
  },
  {
   "cell_type": "code",
   "execution_count": 1,
   "id": "65e40339",
   "metadata": {},
   "outputs": [
    {
     "data": {
      "text/plain": [
       "16"
      ]
     },
     "execution_count": 1,
     "metadata": {},
     "output_type": "execute_result"
    }
   ],
   "source": [
    ">>> myfile = open('myfile.txt', 'w') # Open for text output: create/empty\n",
    ">>> myfile.write('hello text file\\n') # Write a line of text: string"
   ]
  },
  {
   "cell_type": "code",
   "execution_count": 2,
   "id": "d758b0c2",
   "metadata": {},
   "outputs": [
    {
     "data": {
      "text/plain": [
       "18"
      ]
     },
     "execution_count": 2,
     "metadata": {},
     "output_type": "execute_result"
    }
   ],
   "source": [
    ">>> myfile.write('goodbye text file\\n')"
   ]
  },
  {
   "cell_type": "code",
   "execution_count": 3,
   "id": "e9a279ff",
   "metadata": {},
   "outputs": [],
   "source": [
    ">>> myfile.close() # Flush output buffers to disk"
   ]
  },
  {
   "cell_type": "code",
   "execution_count": 4,
   "id": "03786131",
   "metadata": {},
   "outputs": [
    {
     "data": {
      "text/plain": [
       "'hello text file\\n'"
      ]
     },
     "execution_count": 4,
     "metadata": {},
     "output_type": "execute_result"
    }
   ],
   "source": [
    ">>> myfile = open('myfile.txt') # Open for text input: 'r' is default\n",
    ">>> myfile.readline() # Read the lines back"
   ]
  },
  {
   "cell_type": "code",
   "execution_count": 5,
   "id": "ff0bdd1b",
   "metadata": {},
   "outputs": [
    {
     "data": {
      "text/plain": [
       "'goodbye text file\\n'"
      ]
     },
     "execution_count": 5,
     "metadata": {},
     "output_type": "execute_result"
    }
   ],
   "source": [
    ">>> myfile.readline() "
   ]
  },
  {
   "cell_type": "code",
   "execution_count": 6,
   "id": "e0062120",
   "metadata": {},
   "outputs": [
    {
     "data": {
      "text/plain": [
       "''"
      ]
     },
     "execution_count": 6,
     "metadata": {},
     "output_type": "execute_result"
    }
   ],
   "source": [
    ">>> myfile.readline()"
   ]
  },
  {
   "cell_type": "raw",
   "id": "e695c4c6",
   "metadata": {},
   "source": [
    "If you want to display the file’s content with end-of-line characters interpreted, read the entire file into a string all at\n",
    "once with the file object’s read method and print it:"
   ]
  },
  {
   "cell_type": "code",
   "execution_count": 7,
   "id": "8e992d48",
   "metadata": {},
   "outputs": [
    {
     "data": {
      "text/plain": [
       "'hello text file\\ngoodbye text file\\n'"
      ]
     },
     "execution_count": 7,
     "metadata": {},
     "output_type": "execute_result"
    }
   ],
   "source": [
    "open('myfile.txt').read() # Read all at once into string"
   ]
  },
  {
   "cell_type": "code",
   "execution_count": 8,
   "id": "ca9e8a88",
   "metadata": {},
   "outputs": [
    {
     "name": "stdout",
     "output_type": "stream",
     "text": [
      "hello text file\n",
      "goodbye text file\n",
      "\n"
     ]
    }
   ],
   "source": [
    "print(open('myfile.txt').read()) # User-friendly display"
   ]
  },
  {
   "cell_type": "raw",
   "id": "6a053086",
   "metadata": {},
   "source": [
    "And if you want to scan a text file line by line, file iterators are often your best option:"
   ]
  },
  {
   "cell_type": "code",
   "execution_count": 9,
   "id": "b370c416",
   "metadata": {},
   "outputs": [
    {
     "name": "stdout",
     "output_type": "stream",
     "text": [
      "hello text file\n",
      "goodbye text file\n"
     ]
    }
   ],
   "source": [
    "for line in open('myfile.txt'): # Use file iterators, not reads\n",
    "    print(line, end='')"
   ]
  },
  {
   "cell_type": "markdown",
   "id": "829888d0",
   "metadata": {},
   "source": [
    "# Text and Binary Files"
   ]
  },
  {
   "cell_type": "raw",
   "id": "5d8d9b15",
   "metadata": {},
   "source": [
    "in both Python 3.X and 2.X,file type is determined by the second argument to open,the mode string—an included “b” means binary. \n",
    "Python has always supported both text and binary files,\n",
    "• Text files represent content as normal str strings, perform Unicode encoding and decoding automatically, and perform \n",
    "end-of-line translation by default.\n",
    "• Binary files represent content as a special bytes string type and allow programs to access file content unaltered.\n",
    "    When you read a binary data file you get back a bytes object —a sequence of small integers that represent absolute byte \n",
    "values, which looks and feels almost exactly like a normal string."
   ]
  },
  {
   "cell_type": "code",
   "execution_count": 10,
   "id": "a9019539",
   "metadata": {},
   "outputs": [
    {
     "data": {
      "text/plain": [
       "b'I Love You Purvi\\nMy name is Hitesh'"
      ]
     },
     "execution_count": 10,
     "metadata": {},
     "output_type": "execute_result"
    }
   ],
   "source": [
    "data = open('data.bin', 'rb').read() # Open binary file: rb=read binary\n",
    "data # bytes string holds binary data\n"
   ]
  },
  {
   "cell_type": "code",
   "execution_count": 11,
   "id": "b32097f2",
   "metadata": {},
   "outputs": [
    {
     "data": {
      "text/plain": [
       "b'Purvi'"
      ]
     },
     "execution_count": 11,
     "metadata": {},
     "output_type": "execute_result"
    }
   ],
   "source": [
    "data[11:16] # Act like strings"
   ]
  },
  {
   "cell_type": "code",
   "execution_count": 12,
   "id": "b13af208",
   "metadata": {},
   "outputs": [
    {
     "data": {
      "text/plain": [
       "b've Y'"
      ]
     },
     "execution_count": 12,
     "metadata": {},
     "output_type": "execute_result"
    }
   ],
   "source": [
    "data[4:8] # Act like strings"
   ]
  },
  {
   "cell_type": "code",
   "execution_count": 13,
   "id": "b77aff1f",
   "metadata": {},
   "outputs": [
    {
     "data": {
      "text/plain": [
       "118"
      ]
     },
     "execution_count": 13,
     "metadata": {},
     "output_type": "execute_result"
    }
   ],
   "source": [
    "data[4:8][0] # But really are small 8-bit integers"
   ]
  },
  {
   "cell_type": "code",
   "execution_count": 14,
   "id": "8c304a1d",
   "metadata": {},
   "outputs": [
    {
     "data": {
      "text/plain": [
       "'0b1110110'"
      ]
     },
     "execution_count": 14,
     "metadata": {},
     "output_type": "execute_result"
    }
   ],
   "source": [
    "bin(data[4:8][0]) # But really are small 8-bit integers"
   ]
  },
  {
   "cell_type": "code",
   "execution_count": 15,
   "id": "ad6dadd8",
   "metadata": {},
   "outputs": [
    {
     "data": {
      "text/plain": [
       "118"
      ]
     },
     "execution_count": 15,
     "metadata": {},
     "output_type": "execute_result"
    }
   ],
   "source": [
    "ord(\"v\")"
   ]
  },
  {
   "cell_type": "markdown",
   "id": "a65916a5",
   "metadata": {},
   "source": [
    "# Storing Python Objects in Files"
   ]
  },
  {
   "cell_type": "code",
   "execution_count": 16,
   "id": "2569f0f0",
   "metadata": {},
   "outputs": [],
   "source": [
    ">>> X, Y, Z = 43, 44, 45 # Native Python objects\n",
    ">>> S = 'Spam' # Must be strings to store in file\n",
    ">>> D = {'a': 1, 'b': 2}\n",
    ">>> L = [1, 2, 3]\n",
    ">>> F = open('datafile.txt', 'w') # Create output text file\n",
    ">>> F.write(S + '\\n') # Terminate lines with \\n\n",
    ">>> F.write('%s,%s,%s\\n' % (X, Y, Z)) # Convert numbers to strings\n",
    ">>> F.write(str(L) + '$' + str(D) + '\\n') # Convert and separate with $\n",
    ">>> F.close()"
   ]
  },
  {
   "cell_type": "raw",
   "id": "740d7c1b",
   "metadata": {},
   "source": [
    "Notice that the interactive echo gives the exact byte contents, while the print operation interprets embedded end-of-line \n",
    "characters to render a more user-friendly display:"
   ]
  },
  {
   "cell_type": "code",
   "execution_count": 17,
   "id": "c6eb3c90",
   "metadata": {},
   "outputs": [
    {
     "data": {
      "text/plain": [
       "\"Spam\\n43,44,45\\n[1, 2, 3]${'a': 1, 'b': 2}\\n\""
      ]
     },
     "execution_count": 17,
     "metadata": {},
     "output_type": "execute_result"
    }
   ],
   "source": [
    ">>> chars = open('datafile.txt').read() # Raw string display\n",
    ">>> chars"
   ]
  },
  {
   "cell_type": "code",
   "execution_count": 18,
   "id": "96543324",
   "metadata": {},
   "outputs": [
    {
     "name": "stdout",
     "output_type": "stream",
     "text": [
      "Spam\n",
      "43,44,45\n",
      "[1, 2, 3]${'a': 1, 'b': 2}\n",
      "\n"
     ]
    }
   ],
   "source": [
    ">>> print(chars) # User-friendly display"
   ]
  },
  {
   "cell_type": "code",
   "execution_count": 19,
   "id": "4395c347",
   "metadata": {},
   "outputs": [
    {
     "data": {
      "text/plain": [
       "'Spam\\n'"
      ]
     },
     "execution_count": 19,
     "metadata": {},
     "output_type": "execute_result"
    }
   ],
   "source": [
    ">>> F = open('datafile.txt') # Open again\n",
    ">>> line = F.readline() # Read one line\n",
    ">>> line"
   ]
  },
  {
   "cell_type": "code",
   "execution_count": 20,
   "id": "74ffb29f",
   "metadata": {},
   "outputs": [
    {
     "data": {
      "text/plain": [
       "'Spam'"
      ]
     },
     "execution_count": 20,
     "metadata": {},
     "output_type": "execute_result"
    }
   ],
   "source": [
    ">>> line.rstrip() # Remove end-of-line"
   ]
  },
  {
   "cell_type": "raw",
   "id": "3081c093",
   "metadata": {},
   "source": [
    "For this first line, we used the string rstrip method to get rid of the trailing end-of-line character;"
   ]
  },
  {
   "cell_type": "code",
   "execution_count": 21,
   "id": "e1f6ba0b",
   "metadata": {},
   "outputs": [
    {
     "data": {
      "text/plain": [
       "'43,44,45\\n'"
      ]
     },
     "execution_count": 21,
     "metadata": {},
     "output_type": "execute_result"
    }
   ],
   "source": [
    ">>> line = F.readline() # Next line from file\n",
    ">>> line # It's a string here"
   ]
  },
  {
   "cell_type": "code",
   "execution_count": 22,
   "id": "1bfb1521",
   "metadata": {},
   "outputs": [
    {
     "data": {
      "text/plain": [
       "['43', '44', '45\\n']"
      ]
     },
     "execution_count": 22,
     "metadata": {},
     "output_type": "execute_result"
    }
   ],
   "source": [
    ">>> parts = line.split(',') # Split (parse) on commas\n",
    ">>> parts"
   ]
  },
  {
   "cell_type": "code",
   "execution_count": 23,
   "id": "2f7f9176",
   "metadata": {},
   "outputs": [
    {
     "data": {
      "text/plain": [
       "44"
      ]
     },
     "execution_count": 23,
     "metadata": {},
     "output_type": "execute_result"
    }
   ],
   "source": [
    ">>> int(parts[1]) # Convert from string to int"
   ]
  },
  {
   "cell_type": "code",
   "execution_count": 24,
   "id": "d81a5889",
   "metadata": {},
   "outputs": [
    {
     "data": {
      "text/plain": [
       "[43, 44, 45]"
      ]
     },
     "execution_count": 24,
     "metadata": {},
     "output_type": "execute_result"
    }
   ],
   "source": [
    ">>> numbers = [int(P) for P in parts] # Convert all in list at once\n",
    ">>> numbers"
   ]
  },
  {
   "cell_type": "markdown",
   "id": "2424816f",
   "metadata": {},
   "source": [
    "int and some other converters quietly ignore whitespace around digits."
   ]
  },
  {
   "cell_type": "raw",
   "id": "d025610a",
   "metadata": {},
   "source": [
    "to convert the stored list and dictionary in the third line of the file, we can run them through eval,a built-in function that\n",
    "treats a string as a piece of executable program code."
   ]
  },
  {
   "cell_type": "code",
   "execution_count": 25,
   "id": "44dba375",
   "metadata": {},
   "outputs": [
    {
     "data": {
      "text/plain": [
       "\"[1, 2, 3]${'a': 1, 'b': 2}\\n\""
      ]
     },
     "execution_count": 25,
     "metadata": {},
     "output_type": "execute_result"
    }
   ],
   "source": [
    ">>> line = F.readline()\n",
    ">>> line"
   ]
  },
  {
   "cell_type": "code",
   "execution_count": 26,
   "id": "f572847f",
   "metadata": {},
   "outputs": [
    {
     "data": {
      "text/plain": [
       "['[1, 2, 3]', \"{'a': 1, 'b': 2}\\n\"]"
      ]
     },
     "execution_count": 26,
     "metadata": {},
     "output_type": "execute_result"
    }
   ],
   "source": [
    ">>> parts = line.split('$') # Split (parse) on $\n",
    ">>> parts"
   ]
  },
  {
   "cell_type": "code",
   "execution_count": 27,
   "id": "f54e6b59",
   "metadata": {},
   "outputs": [
    {
     "data": {
      "text/plain": [
       "[1, 2, 3]"
      ]
     },
     "execution_count": 27,
     "metadata": {},
     "output_type": "execute_result"
    }
   ],
   "source": [
    ">>> eval(parts[0]) # Convert to any object type"
   ]
  },
  {
   "cell_type": "code",
   "execution_count": 28,
   "id": "4569b0df",
   "metadata": {},
   "outputs": [
    {
     "data": {
      "text/plain": [
       "{'a': 1, 'b': 2}"
      ]
     },
     "execution_count": 28,
     "metadata": {},
     "output_type": "execute_result"
    }
   ],
   "source": [
    ">>> eval(parts[1]) # Convert to any object type"
   ]
  },
  {
   "cell_type": "code",
   "execution_count": 29,
   "id": "13a29c0b",
   "metadata": {},
   "outputs": [
    {
     "data": {
      "text/plain": [
       "[[1, 2, 3], {'a': 1, 'b': 2}]"
      ]
     },
     "execution_count": 29,
     "metadata": {},
     "output_type": "execute_result"
    }
   ],
   "source": [
    ">>> objects = [eval(P) for P in parts] # Do same for all in list\n",
    ">>> objects"
   ]
  },
  {
   "cell_type": "markdown",
   "id": "83ab416f",
   "metadata": {},
   "source": [
    "# Storing Native Python Objects: pickle"
   ]
  },
  {
   "cell_type": "raw",
   "id": "7123199a",
   "metadata": {},
   "source": [
    "    Using eval to convert from strings to objects, as demonstrated in the preceding code,is a powerful tool. In fact, sometimes \n",
    "it’s too powerful. eval will happily run any Python expression—even one that might delete all the files on your computer,\n",
    "given the necessary permissions! If you really want to store native Python objects, but you can’t trust the source of the data\n",
    "in the file, Python’s standard library pickle module is ideal."
   ]
  },
  {
   "cell_type": "raw",
   "id": "caa80799",
   "metadata": {},
   "source": [
    "    The pickle module is a more advanced tool that allows us to store almost any Python object in a file directly."
   ]
  },
  {
   "cell_type": "code",
   "execution_count": 30,
   "id": "67c2dafc",
   "metadata": {},
   "outputs": [
    {
     "data": {
      "text/plain": [
       "{'a': 1, 'b': 2, 'c': 3}"
      ]
     },
     "execution_count": 30,
     "metadata": {},
     "output_type": "execute_result"
    }
   ],
   "source": [
    "d = {'a':1,'b':2,'c':3}\n",
    "d"
   ]
  },
  {
   "cell_type": "code",
   "execution_count": 31,
   "id": "86715530",
   "metadata": {},
   "outputs": [
    {
     "data": {
      "text/plain": [
       "{'a': 1, 'b': 2, 'c': 3}"
      ]
     },
     "execution_count": 31,
     "metadata": {},
     "output_type": "execute_result"
    }
   ],
   "source": [
    "eval(str(d))"
   ]
  },
  {
   "cell_type": "code",
   "execution_count": 32,
   "id": "959ff04e",
   "metadata": {},
   "outputs": [
    {
     "data": {
      "text/plain": [
       "b'\\x80\\x04\\x95\\x17\\x00\\x00\\x00\\x00\\x00\\x00\\x00}\\x94(\\x8c\\x01a\\x94K\\x01\\x8c\\x01b\\x94K\\x02\\x8c\\x01c\\x94K\\x03u.'"
      ]
     },
     "execution_count": 32,
     "metadata": {},
     "output_type": "execute_result"
    }
   ],
   "source": [
    "import pickle\n",
    "s = pickle.dumps(d)\n",
    "s"
   ]
  },
  {
   "cell_type": "code",
   "execution_count": 33,
   "id": "1e99bcba",
   "metadata": {},
   "outputs": [
    {
     "data": {
      "text/plain": [
       "{'a': 1, 'b': 2, 'c': 3}"
      ]
     },
     "execution_count": 33,
     "metadata": {},
     "output_type": "execute_result"
    }
   ],
   "source": [
    "z = pickle.loads(s)\n",
    "z"
   ]
  },
  {
   "cell_type": "code",
   "execution_count": 34,
   "id": "f011e071",
   "metadata": {},
   "outputs": [
    {
     "data": {
      "text/plain": [
       "(True, False)"
      ]
     },
     "execution_count": 34,
     "metadata": {},
     "output_type": "execute_result"
    }
   ],
   "source": [
    "z == d,z is d"
   ]
  },
  {
   "cell_type": "code",
   "execution_count": 35,
   "id": "d272d727",
   "metadata": {},
   "outputs": [],
   "source": [
    ">>> D = {'a': 1, 'b': 2}\n",
    ">>> F = open('datafile.pkl', 'wb')\n",
    ">>> import pickle\n",
    ">>> pickle.dump(D, F) # Pickle any object to file\n",
    ">>> F.close()"
   ]
  },
  {
   "cell_type": "code",
   "execution_count": 36,
   "id": "8e1ebe1b",
   "metadata": {},
   "outputs": [
    {
     "data": {
      "text/plain": [
       "{'a': 1, 'b': 2}"
      ]
     },
     "execution_count": 36,
     "metadata": {},
     "output_type": "execute_result"
    }
   ],
   "source": [
    ">>> F = open('datafile.pkl', 'rb')\n",
    ">>> E = pickle.load(F) # Load any object from file\n",
    ">>> E"
   ]
  },
  {
   "cell_type": "code",
   "execution_count": 37,
   "id": "bc54e20a",
   "metadata": {},
   "outputs": [
    {
     "data": {
      "text/plain": [
       "<__main__.Hitesh at 0x290df3b3b80>"
      ]
     },
     "execution_count": 37,
     "metadata": {},
     "output_type": "execute_result"
    }
   ],
   "source": [
    "class Hitesh():\n",
    "    def __init__(self,x,y):\n",
    "        self.x = x\n",
    "        self.y = y\n",
    "obj = Hitesh('Hitesh',[1,2,3,4])\n",
    "obj"
   ]
  },
  {
   "cell_type": "code",
   "execution_count": 38,
   "id": "4ab540c0",
   "metadata": {},
   "outputs": [
    {
     "data": {
      "text/plain": [
       "{'x': 'Hitesh', 'y': [1, 2, 3, 4]}"
      ]
     },
     "execution_count": 38,
     "metadata": {},
     "output_type": "execute_result"
    }
   ],
   "source": [
    "vars(obj)"
   ]
  },
  {
   "cell_type": "code",
   "execution_count": 39,
   "id": "984bfc89",
   "metadata": {},
   "outputs": [],
   "source": [
    ">>> F = open('objfile.pkl', 'wb')\n",
    ">>> import pickle\n",
    ">>> pickle.dump(obj,F) # Pickle any object to file\n",
    ">>> F.close()"
   ]
  },
  {
   "cell_type": "code",
   "execution_count": 40,
   "id": "c87f5254",
   "metadata": {},
   "outputs": [
    {
     "data": {
      "text/plain": [
       "<__main__.Hitesh at 0x290df3b3910>"
      ]
     },
     "execution_count": 40,
     "metadata": {},
     "output_type": "execute_result"
    }
   ],
   "source": [
    ">>> F = open('objfile.pkl', 'rb')\n",
    ">>> E = pickle.load(F) # Load any object from file\n",
    ">>> E"
   ]
  },
  {
   "cell_type": "code",
   "execution_count": 41,
   "id": "6f5dcc06",
   "metadata": {},
   "outputs": [
    {
     "data": {
      "text/plain": [
       "{'x': 'Hitesh', 'y': [1, 2, 3, 4]}"
      ]
     },
     "execution_count": 41,
     "metadata": {},
     "output_type": "execute_result"
    }
   ],
   "source": [
    "vars(E)"
   ]
  },
  {
   "cell_type": "markdown",
   "id": "43064e79",
   "metadata": {},
   "source": [
    "# Storing Python Objects in JSON Format"
   ]
  },
  {
   "cell_type": "code",
   "execution_count": 42,
   "id": "0f76003d",
   "metadata": {},
   "outputs": [
    {
     "data": {
      "text/plain": [
       "{'name': {'first': 'Bob', 'last': 'Smith'}, 'job': ['dev', 'mgr'], 'age': 40.5}"
      ]
     },
     "execution_count": 42,
     "metadata": {},
     "output_type": "execute_result"
    }
   ],
   "source": [
    ">>> name = dict(first='Bob', last='Smith')\n",
    ">>> rec = dict(name=name, job=['dev', 'mgr'], age=40.5)\n",
    ">>> rec"
   ]
  },
  {
   "cell_type": "code",
   "execution_count": 43,
   "id": "cfb63f68",
   "metadata": {},
   "outputs": [
    {
     "data": {
      "text/plain": [
       "'{\"name\": {\"first\": \"Bob\", \"last\": \"Smith\"}, \"job\": [\"dev\", \"mgr\"], \"age\": 40.5}'"
      ]
     },
     "execution_count": 43,
     "metadata": {},
     "output_type": "execute_result"
    }
   ],
   "source": [
    ">>> import json\n",
    ">>> json.dumps(rec)\n",
    "'{\"job\": [\"dev\", \"mgr\"], \"name\": {\"last\": \"Smith\", \"first\": \"Bob\"}, \"age\": 40.5}'\n",
    ">>> S = json.dumps(rec)\n",
    ">>> S"
   ]
  },
  {
   "cell_type": "code",
   "execution_count": 44,
   "id": "f4f30141",
   "metadata": {},
   "outputs": [
    {
     "data": {
      "text/plain": [
       "{'name': {'first': 'Bob', 'last': 'Smith'}, 'job': ['dev', 'mgr'], 'age': 40.5}"
      ]
     },
     "execution_count": 44,
     "metadata": {},
     "output_type": "execute_result"
    }
   ],
   "source": [
    ">>> O = json.loads(S)\n",
    ">>> O"
   ]
  },
  {
   "cell_type": "code",
   "execution_count": 45,
   "id": "0a02bf8e",
   "metadata": {},
   "outputs": [
    {
     "data": {
      "text/plain": [
       "True"
      ]
     },
     "execution_count": 45,
     "metadata": {},
     "output_type": "execute_result"
    }
   ],
   "source": [
    ">>> O == rec"
   ]
  },
  {
   "cell_type": "code",
   "execution_count": 46,
   "id": "51470341",
   "metadata": {},
   "outputs": [
    {
     "name": "stdout",
     "output_type": "stream",
     "text": [
      "{\n",
      "    \"name\": {\n",
      "        \"first\": \"Bob\",\n",
      "        \"last\": \"Smith\"\n",
      "    },\n",
      "    \"job\": [\n",
      "        \"dev\",\n",
      "        \"mgr\"\n",
      "    ],\n",
      "    \"age\": 40.5\n",
      "}\n"
     ]
    }
   ],
   "source": [
    ">>> json.dump(rec, fp=open('testjson.txt', 'w'), indent=4)\n",
    ">>> print(open('testjson.txt').read())"
   ]
  },
  {
   "cell_type": "code",
   "execution_count": 47,
   "id": "112bdd4a",
   "metadata": {},
   "outputs": [
    {
     "data": {
      "text/plain": [
       "{'name': {'first': 'Bob', 'last': 'Smith'}, 'job': ['dev', 'mgr'], 'age': 40.5}"
      ]
     },
     "execution_count": 47,
     "metadata": {},
     "output_type": "execute_result"
    }
   ],
   "source": [
    ">>> P = json.load(open('testjson.txt'))\n",
    ">>> P"
   ]
  },
  {
   "cell_type": "code",
   "execution_count": 48,
   "id": "01933871",
   "metadata": {},
   "outputs": [
    {
     "name": "stdout",
     "output_type": "stream",
     "text": [
      "['Spam']\n",
      "['43', '44', '45']\n",
      "['[1', ' 2', \" 3]${'a': 1\", \" 'b': 2}\"]\n"
     ]
    }
   ],
   "source": [
    ">>> import csv\n",
    ">>> rdr = csv.reader(open('datafile.txt'))\n",
    ">>> for row in rdr:\n",
    "    print(row)"
   ]
  }
 ],
 "metadata": {
  "kernelspec": {
   "display_name": "Python 3 (ipykernel)",
   "language": "python",
   "name": "python3"
  },
  "language_info": {
   "codemirror_mode": {
    "name": "ipython",
    "version": 3
   },
   "file_extension": ".py",
   "mimetype": "text/x-python",
   "name": "python",
   "nbconvert_exporter": "python",
   "pygments_lexer": "ipython3",
   "version": "3.10.6"
  }
 },
 "nbformat": 4,
 "nbformat_minor": 5
}
