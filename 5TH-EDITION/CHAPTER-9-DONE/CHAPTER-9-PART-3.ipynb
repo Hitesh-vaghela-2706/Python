{
 "cells": [
  {
   "cell_type": "markdown",
   "id": "1a66cca0",
   "metadata": {},
   "source": [
    "# Object Flexibility"
   ]
  },
  {
   "cell_type": "markdown",
   "id": "672f1f1c",
   "metadata": {},
   "source": [
    "- Lists, dictionaries, and tuples can hold any kind of object.\n",
    "- Sets can contain any type of immutable object.\n",
    "- Lists, dictionaries, and tuples can be arbitrarily nested.\n",
    "- Lists, dictionaries, and sets can dynamically grow and shrink."
   ]
  },
  {
   "cell_type": "code",
   "execution_count": 1,
   "id": "e04d41fa",
   "metadata": {},
   "outputs": [
    {
     "data": {
      "text/plain": [
       "[(1, 2), ([3], 4)]"
      ]
     },
     "execution_count": 1,
     "metadata": {},
     "output_type": "execute_result"
    }
   ],
   "source": [
    "L = ['abc', [(1, 2), ([3], 4)], 5]\n",
    "L[1]"
   ]
  },
  {
   "cell_type": "code",
   "execution_count": 2,
   "id": "4431cf1b",
   "metadata": {},
   "outputs": [
    {
     "data": {
      "text/plain": [
       "([3], 4)"
      ]
     },
     "execution_count": 2,
     "metadata": {},
     "output_type": "execute_result"
    }
   ],
   "source": [
    "L[1][1]"
   ]
  },
  {
   "cell_type": "code",
   "execution_count": 3,
   "id": "48497394",
   "metadata": {},
   "outputs": [
    {
     "data": {
      "text/plain": [
       "[3]"
      ]
     },
     "execution_count": 3,
     "metadata": {},
     "output_type": "execute_result"
    }
   ],
   "source": [
    "L[1][1][0]"
   ]
  },
  {
   "cell_type": "code",
   "execution_count": 4,
   "id": "60fa96e1",
   "metadata": {},
   "outputs": [
    {
     "data": {
      "text/plain": [
       "3"
      ]
     },
     "execution_count": 4,
     "metadata": {},
     "output_type": "execute_result"
    }
   ],
   "source": [
    "L[1][1][0][0]"
   ]
  },
  {
   "cell_type": "markdown",
   "id": "63d111e2",
   "metadata": {},
   "source": [
    "# References Versus Copies"
   ]
  },
  {
   "cell_type": "raw",
   "id": "3386af3a",
   "metadata": {},
   "source": [
    "For instance, the following example creates a list assigned to X, and another list assigned to L that embeds a reference back \n",
    "to list X. It also creates a dictionary D that contains another reference back to list X:"
   ]
  },
  {
   "cell_type": "code",
   "execution_count": 5,
   "id": "ed0059a0",
   "metadata": {},
   "outputs": [],
   "source": [
    ">>> X = [1, 2, 3]\n",
    ">>> L = ['a', X, 'b'] # Embed references to X's object\n",
    ">>> D = {'x':X, 'y':2}"
   ]
  },
  {
   "cell_type": "raw",
   "id": "c56c3770",
   "metadata": {},
   "source": [
    "    lists are mutable,changing the shared list object from any of the three references also changes the other two reference:"
   ]
  },
  {
   "cell_type": "code",
   "execution_count": 7,
   "id": "428629b0",
   "metadata": {},
   "outputs": [
    {
     "data": {
      "text/plain": [
       "['a', [1, 'surprise', 3], 'b']"
      ]
     },
     "execution_count": 7,
     "metadata": {},
     "output_type": "execute_result"
    }
   ],
   "source": [
    ">>> X[1] = 'surprise' # Changes all three references!\n",
    ">>> L"
   ]
  },
  {
   "cell_type": "code",
   "execution_count": 8,
   "id": "dcd025c6",
   "metadata": {},
   "outputs": [
    {
     "data": {
      "text/plain": [
       "{'x': [1, 'surprise', 3], 'y': 2}"
      ]
     },
     "execution_count": 8,
     "metadata": {},
     "output_type": "execute_result"
    }
   ],
   "source": [
    ">>> D"
   ]
  },
  {
   "cell_type": "raw",
   "id": "47dcb9ea",
   "metadata": {},
   "source": [
    "• Slice expressions with empty limits (L[:]) copy sequences.\n",
    "• The dictionary, set, and list copy method (X.copy()) copies a dictionary, set, or list\n",
    "(the list’s copy is new as of 3.3).\n",
    "• Some built-in functions, such as list and dict make copies (list(L), dict(D),\n",
    "set(S)).\n",
    "• The copy standard library module makes full copies when needed."
   ]
  },
  {
   "cell_type": "raw",
   "id": "87a835eb",
   "metadata": {},
   "source": [
    "For example, say you have a list and a dictionary, and you don’t want their values to be changed through other variables."
   ]
  },
  {
   "cell_type": "code",
   "execution_count": 10,
   "id": "fbe2b371",
   "metadata": {},
   "outputs": [
    {
     "data": {
      "text/plain": [
       "[1, 2, 3]"
      ]
     },
     "execution_count": 10,
     "metadata": {},
     "output_type": "execute_result"
    }
   ],
   "source": [
    ">>> L = [1,2,3]\n",
    ">>> D = {'a':1, 'b':2}\n",
    ">>> A = L[:] # Instead of A = L (or list(L))\n",
    ">>> B = D.copy() # Instead of B = D (ditto for sets)\n",
    "# This way,changes made from the other variables will change the copies, not the originals.\n",
    ">>> A[1] = 'Ni'\n",
    ">>> B['c'] = 'spam'\n",
    ">>> L"
   ]
  },
  {
   "cell_type": "code",
   "execution_count": 11,
   "id": "dbde9e7f",
   "metadata": {},
   "outputs": [
    {
     "data": {
      "text/plain": [
       "{'a': 1, 'b': 2}"
      ]
     },
     "execution_count": 11,
     "metadata": {},
     "output_type": "execute_result"
    }
   ],
   "source": [
    "D"
   ]
  },
  {
   "cell_type": "code",
   "execution_count": 12,
   "id": "b1880474",
   "metadata": {},
   "outputs": [
    {
     "data": {
      "text/plain": [
       "[1, 'Ni', 3]"
      ]
     },
     "execution_count": 12,
     "metadata": {},
     "output_type": "execute_result"
    }
   ],
   "source": [
    "A"
   ]
  },
  {
   "cell_type": "code",
   "execution_count": 13,
   "id": "8ecfca2b",
   "metadata": {},
   "outputs": [
    {
     "data": {
      "text/plain": [
       "{'a': 1, 'b': 2, 'c': 'spam'}"
      ]
     },
     "execution_count": 13,
     "metadata": {},
     "output_type": "execute_result"
    }
   ],
   "source": [
    "B"
   ]
  },
  {
   "cell_type": "markdown",
   "id": "a40fa263",
   "metadata": {},
   "source": [
    "# Comparisons, Equality, and Truth"
   ]
  },
  {
   "cell_type": "code",
   "execution_count": 14,
   "id": "fc428d9e",
   "metadata": {},
   "outputs": [
    {
     "data": {
      "text/plain": [
       "(True, False)"
      ]
     },
     "execution_count": 14,
     "metadata": {},
     "output_type": "execute_result"
    }
   ],
   "source": [
    ">>> L1 = [1, ('a', 3)] # Same value, unique objects\n",
    ">>> L2 = [1, ('a', 3)]\n",
    ">>> L1 == L2, L1 is L2 # Equivalent? Same object?"
   ]
  },
  {
   "cell_type": "raw",
   "id": "949ee364",
   "metadata": {},
   "source": [
    "• The == operator tests value equivalence. Python performs an equivalence test,\n",
    "comparing all nested objects recursively.\n",
    "• The is operator tests object identity. Python tests whether the two are really the\n",
    "same object (i.e., live at the same address in memory)."
   ]
  },
  {
   "cell_type": "code",
   "execution_count": 15,
   "id": "153089fa",
   "metadata": {},
   "outputs": [
    {
     "data": {
      "text/plain": [
       "(True, True)"
      ]
     },
     "execution_count": 15,
     "metadata": {},
     "output_type": "execute_result"
    }
   ],
   "source": [
    ">>> S1 = 'spam'\n",
    ">>> S2 = 'spam'\n",
    ">>> S1 == S2, S1 is S2"
   ]
  },
  {
   "cell_type": "raw",
   "id": "16eedf0a",
   "metadata": {},
   "source": [
    "    Here, we should again have two distinct objects that happen to have the same value. == should be true, and is should be \n",
    "false.But because Python internally caches and reuses some strings as an optimization, there really is just a single string \n",
    "'spam' in memory, shared by S1 and S2; hence, the is identity test reports a true result. \n",
    "    cache works only on sort object like... small integer or small string but if string or number is large than new object \n",
    "created.\n",
    "    list or any other object always creates a new object."
   ]
  },
  {
   "cell_type": "code",
   "execution_count": 16,
   "id": "4538d273",
   "metadata": {},
   "outputs": [
    {
     "data": {
      "text/plain": [
       "(True, False)"
      ]
     },
     "execution_count": 16,
     "metadata": {},
     "output_type": "execute_result"
    }
   ],
   "source": [
    ">>> S1 = 'a longer string'\n",
    ">>> S2 = 'a longer string'\n",
    ">>> S1 == S2, S1 is S2"
   ]
  },
  {
   "cell_type": "code",
   "execution_count": 17,
   "id": "d9bc1a34",
   "metadata": {},
   "outputs": [
    {
     "data": {
      "text/plain": [
       "(False, False)"
      ]
     },
     "execution_count": 17,
     "metadata": {},
     "output_type": "execute_result"
    }
   ],
   "source": [
    ">>> L1 = [1, ('a', 3)]\n",
    ">>> L2 = [1, ('a', 2)]\n",
    ">>> L1 < L2, L1 == L2# Less, equal, greater: tuple of results"
   ]
  },
  {
   "cell_type": "code",
   "execution_count": 18,
   "id": "0ce5c6d6",
   "metadata": {},
   "outputs": [
    {
     "data": {
      "text/plain": [
       "False"
      ]
     },
     "execution_count": 18,
     "metadata": {},
     "output_type": "execute_result"
    }
   ],
   "source": [
    ">>> 11 == '11' # 3.X: equality works but magnitude does not"
   ]
  },
  {
   "cell_type": "code",
   "execution_count": 19,
   "id": "2ef78c66",
   "metadata": {},
   "outputs": [
    {
     "ename": "TypeError",
     "evalue": "'>=' not supported between instances of 'int' and 'str'",
     "output_type": "error",
     "traceback": [
      "\u001b[1;31m---------------------------------------------------------------------------\u001b[0m",
      "\u001b[1;31mTypeError\u001b[0m                                 Traceback (most recent call last)",
      "Input \u001b[1;32mIn [19]\u001b[0m, in \u001b[0;36m<cell line: 1>\u001b[1;34m()\u001b[0m\n\u001b[1;32m----> 1\u001b[0m \u001b[38;5;241;43m11\u001b[39;49m\u001b[43m \u001b[49m\u001b[38;5;241;43m>\u001b[39;49m\u001b[38;5;241;43m=\u001b[39;49m\u001b[43m \u001b[49m\u001b[38;5;124;43m'\u001b[39;49m\u001b[38;5;124;43m11\u001b[39;49m\u001b[38;5;124;43m'\u001b[39;49m\n",
      "\u001b[1;31mTypeError\u001b[0m: '>=' not supported between instances of 'int' and 'str'"
     ]
    }
   ],
   "source": [
    ">>> 11 >= '11'"
   ]
  },
  {
   "cell_type": "code",
   "execution_count": 20,
   "id": "32800df1",
   "metadata": {},
   "outputs": [
    {
     "ename": "TypeError",
     "evalue": "'<' not supported between instances of 'str' and 'int'",
     "output_type": "error",
     "traceback": [
      "\u001b[1;31m---------------------------------------------------------------------------\u001b[0m",
      "\u001b[1;31mTypeError\u001b[0m                                 Traceback (most recent call last)",
      "Input \u001b[1;32mIn [20]\u001b[0m, in \u001b[0;36m<cell line: 1>\u001b[1;34m()\u001b[0m\n\u001b[1;32m----> 1\u001b[0m \u001b[43m[\u001b[49m\u001b[38;5;124;43m'\u001b[39;49m\u001b[38;5;124;43m11\u001b[39;49m\u001b[38;5;124;43m'\u001b[39;49m\u001b[43m,\u001b[49m\u001b[43m \u001b[49m\u001b[38;5;124;43m'\u001b[39;49m\u001b[38;5;124;43m22\u001b[39;49m\u001b[38;5;124;43m'\u001b[39;49m\u001b[43m]\u001b[49m\u001b[43m  \u001b[49m\u001b[38;5;241;43m<\u001b[39;49m\u001b[43m \u001b[49m\u001b[43m[\u001b[49m\u001b[38;5;241;43m11\u001b[39;49m\u001b[43m,\u001b[49m\u001b[43m \u001b[49m\u001b[38;5;124;43m'\u001b[39;49m\u001b[38;5;124;43m11\u001b[39;49m\u001b[38;5;124;43m'\u001b[39;49m\u001b[43m]\u001b[49m\n",
      "\u001b[1;31mTypeError\u001b[0m: '<' not supported between instances of 'str' and 'int'"
     ]
    }
   ],
   "source": [
    "['11', '22']  < [11, '11']"
   ]
  },
  {
   "cell_type": "code",
   "execution_count": 21,
   "id": "018d9f73",
   "metadata": {},
   "outputs": [
    {
     "data": {
      "text/plain": [
       "True"
      ]
     },
     "execution_count": 21,
     "metadata": {},
     "output_type": "execute_result"
    }
   ],
   "source": [
    ">>> 11 > 9.123 # Mixed numbers convert to highest type"
   ]
  },
  {
   "cell_type": "code",
   "execution_count": 22,
   "id": "b6f5e62c",
   "metadata": {},
   "outputs": [
    {
     "data": {
      "text/plain": [
       "(True, True)"
      ]
     },
     "execution_count": 22,
     "metadata": {},
     "output_type": "execute_result"
    }
   ],
   "source": [
    ">>> str(11) >= '11', 11 >= int('11') # Manual conversions force the issue"
   ]
  },
  {
   "cell_type": "code",
   "execution_count": 23,
   "id": "ca3537a3",
   "metadata": {},
   "outputs": [
    {
     "data": {
      "text/plain": [
       "True"
      ]
     },
     "execution_count": 23,
     "metadata": {},
     "output_type": "execute_result"
    }
   ],
   "source": [
    "[1, 7]  < [11, 4]"
   ]
  },
  {
   "cell_type": "code",
   "execution_count": 24,
   "id": "e2e3941e",
   "metadata": {},
   "outputs": [
    {
     "data": {
      "text/plain": [
       "False"
      ]
     },
     "execution_count": 24,
     "metadata": {},
     "output_type": "execute_result"
    }
   ],
   "source": [
    ">>> D1 = {'a':1, 'b':2}\n",
    ">>> D2 = {'a':1, 'b':3}\n",
    ">>> D1 == D2"
   ]
  },
  {
   "cell_type": "code",
   "execution_count": 25,
   "id": "4a9872e2",
   "metadata": {},
   "outputs": [
    {
     "ename": "TypeError",
     "evalue": "'<' not supported between instances of 'dict' and 'dict'",
     "output_type": "error",
     "traceback": [
      "\u001b[1;31m---------------------------------------------------------------------------\u001b[0m",
      "\u001b[1;31mTypeError\u001b[0m                                 Traceback (most recent call last)",
      "Input \u001b[1;32mIn [25]\u001b[0m, in \u001b[0;36m<cell line: 1>\u001b[1;34m()\u001b[0m\n\u001b[1;32m----> 1\u001b[0m \u001b[43mD1\u001b[49m\u001b[43m \u001b[49m\u001b[38;5;241;43m<\u001b[39;49m\u001b[43m \u001b[49m\u001b[43mD2\u001b[49m\n",
      "\u001b[1;31mTypeError\u001b[0m: '<' not supported between instances of 'dict' and 'dict'"
     ]
    }
   ],
   "source": [
    ">>> D1 < D2"
   ]
  },
  {
   "cell_type": "code",
   "execution_count": 26,
   "id": "c6bfac92",
   "metadata": {},
   "outputs": [
    {
     "data": {
      "text/plain": [
       "True"
      ]
     },
     "execution_count": 26,
     "metadata": {},
     "output_type": "execute_result"
    }
   ],
   "source": [
    ">>> sorted(D1.items()) < sorted(D2.items()) # Magnitude test in 3.X"
   ]
  },
  {
   "cell_type": "code",
   "execution_count": 27,
   "id": "e9a05709",
   "metadata": {},
   "outputs": [
    {
     "data": {
      "text/plain": [
       "False"
      ]
     },
     "execution_count": 27,
     "metadata": {},
     "output_type": "execute_result"
    }
   ],
   "source": [
    ">>> sorted(D1.items()) > sorted(D2.items())"
   ]
  },
  {
   "cell_type": "markdown",
   "id": "53399d3a",
   "metadata": {},
   "source": [
    "# None object"
   ]
  },
  {
   "cell_type": "raw",
   "id": "09726292",
   "metadata": {},
   "source": [
    "Python also provides a special object called None, which is always considered to be false.it is the only value of a special \n",
    "data type in Python and typically serves as an empty placeholder"
   ]
  },
  {
   "cell_type": "code",
   "execution_count": 28,
   "id": "05410301",
   "metadata": {},
   "outputs": [
    {
     "ename": "IndexError",
     "evalue": "list assignment index out of range",
     "output_type": "error",
     "traceback": [
      "\u001b[1;31m---------------------------------------------------------------------------\u001b[0m",
      "\u001b[1;31mIndexError\u001b[0m                                Traceback (most recent call last)",
      "Input \u001b[1;32mIn [28]\u001b[0m, in \u001b[0;36m<cell line: 2>\u001b[1;34m()\u001b[0m\n\u001b[0;32m      1\u001b[0m L \u001b[38;5;241m=\u001b[39m []\n\u001b[1;32m----> 2\u001b[0m \u001b[43mL\u001b[49m\u001b[43m[\u001b[49m\u001b[38;5;241;43m99\u001b[39;49m\u001b[43m]\u001b[49m \u001b[38;5;241m=\u001b[39m \u001b[38;5;241m2\u001b[39m\n",
      "\u001b[1;31mIndexError\u001b[0m: list assignment index out of range"
     ]
    }
   ],
   "source": [
    "L = []\n",
    "L[99] = 2"
   ]
  },
  {
   "cell_type": "raw",
   "id": "65510df6",
   "metadata": {},
   "source": [
    "To preallocate a 100-item list such that you can add to any of the 100 offsets, you can fill it with None objects:"
   ]
  },
  {
   "cell_type": "code",
   "execution_count": 34,
   "id": "03039a70",
   "metadata": {},
   "outputs": [
    {
     "name": "stdout",
     "output_type": "stream",
     "text": [
      "[None, None, None, None, None, None, None, None, None, None, None, None, None, None, None, None, None, None, None, None, None, None, None, None, None, None, None, None, None, None, None, None, None, None, None, None, None, None, None, None, None, None, None, None, None, 200000, None, None, None, None, None, None, None, None, None, None, None, None, None, None, None, None, None, None, None, None, None, None, None, None, None, None, None, None, None, None, None, None, None, None, None, None, None, None, None, None, None, None, None, None, None, None, None, None, None, None, None, None, None, None] "
     ]
    }
   ],
   "source": [
    ">>> L = [None] * 100\n",
    ">>> L\n",
    ">>> L[45] = 200000\n",
    ">>> print(L , end=' ')"
   ]
  },
  {
   "cell_type": "raw",
   "id": "0a913263",
   "metadata": {},
   "source": [
    "    Keep in mind that None does not mean “undefined.” That is, None is something, not nothing.it is a real object and a real \n",
    "piece of memory that is created and given a built-in name by Python itself."
   ]
  },
  {
   "cell_type": "markdown",
   "id": "7c7e8fc8",
   "metadata": {},
   "source": [
    "# bool type"
   ]
  },
  {
   "cell_type": "raw",
   "id": "bef750ad",
   "metadata": {},
   "source": [
    "    built-in words True and False are just customized versions of the integers 1 and 0.\n",
    "• When used explicitly in truth test code, the words True and False are equivalent to 1 and 0, but they make the programmer’s \n",
    "intent clearer.\n",
    "• Results of Boolean tests run interactively print as the words True and False, instead of as 1 and 0, to make the type of \n",
    "result clearer."
   ]
  },
  {
   "cell_type": "code",
   "execution_count": 35,
   "id": "f5462a00",
   "metadata": {},
   "outputs": [
    {
     "data": {
      "text/plain": [
       "True"
      ]
     },
     "execution_count": 35,
     "metadata": {},
     "output_type": "execute_result"
    }
   ],
   "source": [
    ">>> bool(1)"
   ]
  },
  {
   "cell_type": "code",
   "execution_count": 36,
   "id": "533acc6a",
   "metadata": {},
   "outputs": [
    {
     "data": {
      "text/plain": [
       "True"
      ]
     },
     "execution_count": 36,
     "metadata": {},
     "output_type": "execute_result"
    }
   ],
   "source": [
    ">>> bool('spam')"
   ]
  },
  {
   "cell_type": "code",
   "execution_count": 37,
   "id": "8fcb01f9",
   "metadata": {},
   "outputs": [
    {
     "data": {
      "text/plain": [
       "False"
      ]
     },
     "execution_count": 37,
     "metadata": {},
     "output_type": "execute_result"
    }
   ],
   "source": [
    ">>> bool({})"
   ]
  },
  {
   "cell_type": "raw",
   "id": "85156e04",
   "metadata": {},
   "source": [
    "Assignment Creates References, Not Copies\n",
    "     For instance, in the following example, the list object assigned to the name L is referenced both from L and from inside \n",
    "the list assigned to the name M. Changing L in place changes what M references."
   ]
  },
  {
   "cell_type": "code",
   "execution_count": 38,
   "id": "035db392",
   "metadata": {},
   "outputs": [
    {
     "data": {
      "text/plain": [
       "['X', [1, 2, 3], 'Y']"
      ]
     },
     "execution_count": 38,
     "metadata": {},
     "output_type": "execute_result"
    }
   ],
   "source": [
    ">>> L = [1, 2, 3]\n",
    ">>> M = ['X', L, 'Y'] # Embed a reference to L\n",
    ">>> M"
   ]
  },
  {
   "cell_type": "code",
   "execution_count": 39,
   "id": "17e32be1",
   "metadata": {},
   "outputs": [
    {
     "data": {
      "text/plain": [
       "['X', [1, 0, 3], 'Y']"
      ]
     },
     "execution_count": 39,
     "metadata": {},
     "output_type": "execute_result"
    }
   ],
   "source": [
    ">>> L[1] = 0 # Changes M too\n",
    ">>> M"
   ]
  },
  {
   "cell_type": "code",
   "execution_count": 40,
   "id": "a2f353a0",
   "metadata": {},
   "outputs": [
    {
     "data": {
      "text/plain": [
       "['X', [1, 2, 3], 'Y']"
      ]
     },
     "execution_count": 40,
     "metadata": {},
     "output_type": "execute_result"
    }
   ],
   "source": [
    ">>> L = [1, 2, 3]\n",
    ">>> M = ['X', L[:], 'Y'] # Embed a copy of L (or list(L), or L.copy())\n",
    ">>> M"
   ]
  },
  {
   "cell_type": "code",
   "execution_count": 41,
   "id": "16a55b17",
   "metadata": {},
   "outputs": [
    {
     "data": {
      "text/plain": [
       "['X', [1, 2, 3], 'Y']"
      ]
     },
     "execution_count": 41,
     "metadata": {},
     "output_type": "execute_result"
    }
   ],
   "source": [
    ">>> L[1] = 0 # Changes only L, not M\n",
    ">>> M"
   ]
  },
  {
   "cell_type": "markdown",
   "id": "d06b79b5",
   "metadata": {},
   "source": [
    "# Repetition Adds One Level Deep"
   ]
  },
  {
   "cell_type": "code",
   "execution_count": 42,
   "id": "4f7e5ad4",
   "metadata": {},
   "outputs": [
    {
     "data": {
      "text/plain": [
       "[4, 5, 6, 4, 5, 6, 4, 5, 6, 4, 5, 6]"
      ]
     },
     "execution_count": 42,
     "metadata": {},
     "output_type": "execute_result"
    }
   ],
   "source": [
    ">>> L = [4, 5, 6]\n",
    ">>> X = L * 4 # Like [4, 5, 6] + [4, 5, 6] + ...\n",
    ">>> Y = [L] * 4 # [L] + [L] + ... = [L, L,...]\n",
    ">>> X"
   ]
  },
  {
   "cell_type": "code",
   "execution_count": 43,
   "id": "ad1cbb2e",
   "metadata": {},
   "outputs": [
    {
     "data": {
      "text/plain": [
       "[[4, 5, 6], [4, 5, 6], [4, 5, 6], [4, 5, 6]]"
      ]
     },
     "execution_count": 43,
     "metadata": {},
     "output_type": "execute_result"
    }
   ],
   "source": [
    ">>> Y"
   ]
  },
  {
   "cell_type": "raw",
   "id": "2e3c966d",
   "metadata": {},
   "source": [
    "L was nested in the second repetition, Y winds up embedding references back to the original list assigned to L."
   ]
  },
  {
   "cell_type": "code",
   "execution_count": 45,
   "id": "2cd1cf70",
   "metadata": {},
   "outputs": [
    {
     "data": {
      "text/plain": [
       "[4, 5, 6, 4, 5, 6, 4, 5, 6, 4, 5, 6]"
      ]
     },
     "execution_count": 45,
     "metadata": {},
     "output_type": "execute_result"
    }
   ],
   "source": [
    ">>> L[1] = 0 # Impacts Y but not X\n",
    ">>> X"
   ]
  },
  {
   "cell_type": "code",
   "execution_count": 46,
   "id": "f21a47be",
   "metadata": {},
   "outputs": [
    {
     "data": {
      "text/plain": [
       "[[4, 0, 6], [4, 0, 6], [4, 0, 6], [4, 0, 6]]"
      ]
     },
     "execution_count": 46,
     "metadata": {},
     "output_type": "execute_result"
    }
   ],
   "source": [
    ">>> Y"
   ]
  },
  {
   "cell_type": "code",
   "execution_count": 47,
   "id": "dc237cc8",
   "metadata": {},
   "outputs": [
    {
     "data": {
      "text/plain": [
       "[[4, 5, 6], [4, 5, 6], [4, 5, 6], [4, 5, 6]]"
      ]
     },
     "execution_count": 47,
     "metadata": {},
     "output_type": "execute_result"
    }
   ],
   "source": [
    ">>> L = [4, 5, 6]\n",
    ">>> Y = [list(L)] * 4 # Embed a (shared) copy of L\n",
    ">>> L[1] = 0\n",
    ">>> Y"
   ]
  },
  {
   "cell_type": "code",
   "execution_count": 48,
   "id": "873a1267",
   "metadata": {},
   "outputs": [
    {
     "data": {
      "text/plain": [
       "[[4, 99, 6], [4, 99, 6], [4, 99, 6], [4, 99, 6]]"
      ]
     },
     "execution_count": 48,
     "metadata": {},
     "output_type": "execute_result"
    }
   ],
   "source": [
    ">>> Y[0][1] = 99 # All four copies are still the same\n",
    ">>> Y\n"
   ]
  },
  {
   "cell_type": "code",
   "execution_count": 49,
   "id": "46e05e0b",
   "metadata": {},
   "outputs": [
    {
     "data": {
      "text/plain": [
       "[[4, 5, 6], [4, 5, 6], [4, 5, 6], [4, 5, 6]]"
      ]
     },
     "execution_count": 49,
     "metadata": {},
     "output_type": "execute_result"
    }
   ],
   "source": [
    ">>> L = [4, 5, 6]\n",
    ">>> Y = [list(L) for i in range(4)]\n",
    ">>> Y"
   ]
  },
  {
   "cell_type": "code",
   "execution_count": 50,
   "id": "3241cc8d",
   "metadata": {},
   "outputs": [
    {
     "data": {
      "text/plain": [
       "[[4, 99, 6], [4, 5, 6], [4, 5, 6], [4, 5, 6]]"
      ]
     },
     "execution_count": 50,
     "metadata": {},
     "output_type": "execute_result"
    }
   ],
   "source": [
    ">>> Y[0][1] = 99\n",
    ">>> Y"
   ]
  },
  {
   "cell_type": "markdown",
   "id": "92e55cee",
   "metadata": {},
   "source": [
    "# Cyclic Data Structures"
   ]
  },
  {
   "cell_type": "raw",
   "id": "b1e2beae",
   "metadata": {},
   "source": [
    "    if a collection object contains a reference to itself, it’s called a cyclic object. Python prints a [...] whenever it \n",
    "detects a cycle in the object, rather than getting stuck in an infinite loop."
   ]
  },
  {
   "cell_type": "code",
   "execution_count": 51,
   "id": "89078f5b",
   "metadata": {},
   "outputs": [
    {
     "data": {
      "text/plain": [
       "['grail', [...]]"
      ]
     },
     "execution_count": 51,
     "metadata": {},
     "output_type": "execute_result"
    }
   ],
   "source": [
    ">>> L = ['grail'] # Append reference to same object\n",
    ">>> L.append(L) # Generates cycle in object: [...]\n",
    ">>> L"
   ]
  },
  {
   "cell_type": "code",
   "execution_count": null,
   "id": "2b8f0f9f",
   "metadata": {},
   "outputs": [],
   "source": []
  }
 ],
 "metadata": {
  "kernelspec": {
   "display_name": "Python 3 (ipykernel)",
   "language": "python",
   "name": "python3"
  },
  "language_info": {
   "codemirror_mode": {
    "name": "ipython",
    "version": 3
   },
   "file_extension": ".py",
   "mimetype": "text/x-python",
   "name": "python",
   "nbconvert_exporter": "python",
   "pygments_lexer": "ipython3",
   "version": "3.10.6"
  }
 },
 "nbformat": 4,
 "nbformat_minor": 5
}
