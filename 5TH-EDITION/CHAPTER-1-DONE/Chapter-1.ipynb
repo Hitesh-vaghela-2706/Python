{
 "cells": [
  {
   "cell_type": "markdown",
   "id": "58327c92",
   "metadata": {},
   "source": [
    "## `BASICS OF PYTHON`"
   ]
  },
  {
   "cell_type": "markdown",
   "id": "0fa38c11",
   "metadata": {},
   "source": [
    "<h2 style='color:red'> Why Do People Use Python?"
   ]
  },
  {
   "cell_type": "markdown",
   "id": "03216afd",
   "metadata": {},
   "source": [
    "there really is no way to answer this question with complete accuracy Because choice of development tools based on unique constraints `(for ex. We are working in the field like data science we need to use python similarly if we working in web development field, we need to use Html)` and personal preference. "
   ]
  },
  {
   "cell_type": "markdown",
   "id": "674cedbf",
   "metadata": {},
   "source": [
    "<h3 style='color:Blue' >important factors which makes python Usefull. "
   ]
  },
  {
   "cell_type": "raw",
   "id": "a47a72c5",
   "metadata": {},
   "source": [
    "1 - Software quality\n",
    "    focus on readability, and software quality\n",
    "    Python code is designed to be readable, and hence reusable and maintainable\n",
    "    Python code makes it easy to understand\n",
    "    Python has deep support for such as object-oriented (OO) and function programming.\n",
    "    \n",
    "2 - Developer productivity\n",
    "    Python boosts developer productivity many times beyond compiled or statically typed languages such as C, C++, and Java. \n",
    "    Python code is typically one-third to one-fifth the size of equivalent C++ or Java code. That means there is less to type,       less to debug, and less to maintain\n",
    "    \n",
    "3 - Program portability\n",
    "    Most Python programs run unchanged on all major computer platforms. Porting Python code between Linux and Windows and other \n",
    "    OS is easy.\n",
    "    \n",
    "4 - Support libraries \n",
    "    Python comes with a large collection of prebuilt and portable standard library.\n",
    "    very stable and robust.\n",
    "\n",
    "5 - Component integration\n",
    "    Python code can invoke C and C++ libraries, can be called from C and C++ programs, can integrate with Java and .NET\n",
    "    components, can communicate over frameworks such as COM and Silverlight so it becomes easy to use python scripts with other\n",
    "    laguages and frameworks"
   ]
  },
  {
   "cell_type": "markdown",
   "id": "fc5e6eed",
   "metadata": {},
   "source": [
    "<h2 style='color:red' >Is Python a “Scripting Language”?"
   ]
  },
  {
   "cell_type": "raw",
   "id": "4e379a3d",
   "metadata": {},
   "source": [
    "    Actually,Python is a general-purpose programming language that is often applied in scripting roles. so is commonly defined as an object-oriented scripting language which provides a support for OOP with an overall orientation toward scripting \n",
    "roles. If pressed for a one-liner, I’d say that Python is probably better known as a general-purpose programming language \n",
    "that blends(Supports) procedural, functional, and object-oriented paradigms."
   ]
  },
  {
   "cell_type": "markdown",
   "id": "2b4198f3",
   "metadata": {},
   "source": [
    "In python we prefere word `script` for describe a `simpler top-level file`,\n",
    "`program` to describe a more sophisticated `multifile application`."
   ]
  },
  {
   "cell_type": "markdown",
   "id": "4963777e",
   "metadata": {},
   "source": [
    "`scripting` is probably best used to describe the `rapid` and `flexible` mode of development that Python supports."
   ]
  },
  {
   "cell_type": "markdown",
   "id": "2ac2c36e",
   "metadata": {},
   "source": [
    "<h2 style='color:red'>  What’s the Downsides of python?"
   ]
  },
  {
   "cell_type": "raw",
   "id": "b2698beb",
   "metadata": {},
   "source": [
    "    Biggest disadvantage of using python is that execution speed of Python code may not always be as fast as that of fully compiled and lower-level languages such as C and C++. "
   ]
  },
  {
   "cell_type": "raw",
   "id": "cb7a025e",
   "metadata": {},
   "source": [
    "standard implementations of Python today compile source code statements to an intermediate format known as byte code and \n",
    "then interpret the byte code.Byte code provides portability, as it is a platform-independent format. However, because Python \n",
    "is not compiled in binary machine code,some programs will run more slowly in Python than in a fully compiled language like C.\n",
    "\n",
    "The PyPy system discussed in the next chapter can achieve a 10X to 100X speedup on some code by compiling further as your \n",
    "program runs.\n",
    "\n",
    "Python has been optimized numerous times, and Python code runs fast enough by itself in most application domains.\n",
    "like processing a file or constructing a graphical user interface (GUI), your program will actually run at C speed,\n",
    "since such tasks are immediately dispatched to compiled C code inside the Python interpreter."
   ]
  },
  {
   "cell_type": "markdown",
   "id": "d430cd3c",
   "metadata": {},
   "source": [
    "<h2 style='color:red' >Who Uses Python Today?"
   ]
  },
  {
   "cell_type": "raw",
   "id": "1d372622",
   "metadata": {},
   "source": [
    "• Google makes extensive use of Python in its web search systems. \n",
    "• The popular YouTube video sharing service is largely written in Python.\n",
    "• Google’s App Engine web development framework uses Python as an application language.\n",
    "• iRobot uses Python to develop commercial and military robotic devices.\n",
    "• NASA, Los Alamos, Fermilab, JPL, and others use Python for scientific programming tasks.\n",
    "• Intel, Cisco, Hewlett-Packard, Seagate, Qualcomm, and IBM use Python for hardware testing."
   ]
  },
  {
   "cell_type": "markdown",
   "id": "c63a58f1",
   "metadata": {},
   "source": [
    "<h2 style='color:red'> What Can I Do with Python?"
   ]
  },
  {
   "cell_type": "markdown",
   "id": "188aead4",
   "metadata": {},
   "source": [
    "    1 Systems Programming "
   ]
  },
  {
   "cell_type": "raw",
   "id": "8840a763",
   "metadata": {},
   "source": [
    "    Python’s built-in interfaces to operating-system services make it ideal for writing portable, maintainable system-tools and utilities.Python programs can search files and directory trees, launch other programs, do parallel processing with processes and threads, and so on."
   ]
  },
  {
   "cell_type": "markdown",
   "id": "ce324bba",
   "metadata": {},
   "source": [
    "    2 GUIs "
   ]
  },
  {
   "cell_type": "raw",
   "id": "22c08a5b",
   "metadata": {},
   "source": [
    "    Python’s simplicity and rapid turnaround also make it a good match for graphical user interface programming on the desktop.\n",
    "Tk GUI API called tkinter (Tkinter in 2.X) that allows Python programs to implement portable GUIs with a native look and feel. Python/tkinter GUIs run unchanged on Microsoft Windows, X Windows (on Unix and Linux), and the Mac OS (both Classic and OS X).\n",
    "the wxPython GUI API, based on a C++ library, offers an alternative toolkit for constructing portable GUIs in Python."
   ]
  },
  {
   "cell_type": "markdown",
   "id": "b389fdda",
   "metadata": {},
   "source": [
    "    3 Internet Scripting "
   ]
  },
  {
   "cell_type": "raw",
   "id": "af55d7ff",
   "metadata": {},
   "source": [
    "    Python comes with standard Internet modules that allow Python programs to perform a wide variety of networking tasks,\n",
    "In addition, a large collection of third-party tools are available on the Web for doing Internet programming in Python. For instance, the HTMLGen system generates HTML files from Python class-based descriptions, the mod_python package runs Python efficiently within the Apache web server and supports server-side templating with its Python Server Pages,\n",
    "In addition, full-blown web development framework packages for Python, such as Django, TurboGears, web2py, Pylons, Zope, and WebWare, support quick construction of full-featured and production-quality websites with Python."
   ]
  },
  {
   "cell_type": "markdown",
   "id": "9b68e34d",
   "metadata": {},
   "source": [
    "    4  Component Integration"
   ]
  },
  {
   "cell_type": "raw",
   "id": "6585ce79",
   "metadata": {},
   "source": [
    "    Python’s ability to be extended by and embedded in C and C++ systems makes it useful as a flexible glue language for scripting the behavior of other systems and components. For instance, integrating a C library into Python enables Python to test and launch the library’s components,Tools such as the SWIG and SIP code generators can automate much of the work needed to link compiled components into Python. Cython system allows coders to mix Python and C-like code. Jython supports Java-based implementation, and the IronPython supports a .NET-based implementation in python."
   ]
  },
  {
   "cell_type": "markdown",
   "id": "b96e90f4",
   "metadata": {},
   "source": [
    "    5 Database Programming"
   ]
  },
  {
   "cell_type": "raw",
   "id": "fff233b2",
   "metadata": {},
   "source": [
    "    Python interfaces to all commonly used relational database are... systems—Sybase, Oracle, Informix, ODBC, MySQL, PostgreSQL,SQLite, and more.\n",
    "    The in-process SQLite embedded SQL database engine is a standard part of Python itself since 2.5, supporting both prototyping and basic program storage needs.\n",
    "    In the non-SQL department, Python’s standard pickle module provides a simple object persistence system—it allows programs to easily save and restore entire Python objects to files and file-like objects. On the Web, you’ll also find third-party open source systems named ZODB and Durus that provide complete object-oriented database systems for Python scripts; others, such as SQLObject and SQLAlchemy, that implement object relational mappers (ORMs), which graft Python’s class model onto relational tables; and PyMongo, an interface to MongoDB, a high-performance, non-SQL, open source JSON-style document database, which stores data in structures very similar to Python’s own lists and dictionaries, and whose text may be parsed and created with Python’s own standard library json module."
   ]
  },
  {
   "cell_type": "markdown",
   "id": "762b88b4",
   "metadata": {},
   "source": [
    "    6 Numeric and Scientific Programming"
   ]
  },
  {
   "cell_type": "raw",
   "id": "466b38aa",
   "metadata": {},
   "source": [
    "• the NumPy high-performance numeric programming extension turns Python into a sophisticated yet easy-to-use numeric programming   tool that can often replace existing code written in traditional compiled languages such as FORTRAN or C++\n",
    "• Game programming and multimedia with pygame, cgkit, pyglet, PySoy, Panda3D, and others\n",
    "• Image processing with PIL and its newer Pillow fork, PyOpenGL, Blender, Maya, and more\n",
    "• Robot control programming with the PyRo toolkit \n",
    "• Natural language analysis with the NLTK package\n",
    "• Artificial intelligence with the PyBrain neural net library\n",
    "• Data visualization with Mayavi, matplotlib, VTK, VPython, and more \n",
    "• XML parsing with the xml library package, the xmlrpclib module, and third-party extensions \n",
    "• JSON and CSV file processing with the json and csv modules"
   ]
  },
  {
   "cell_type": "markdown",
   "id": "aa599163",
   "metadata": {},
   "source": [
    "<h2 style='color:red' >What Are Python’s Technical Strengths?"
   ]
  },
  {
   "cell_type": "raw",
   "id": "00d280fd",
   "metadata": {},
   "source": [
    "It’s Object-Oriented and Functional\n",
    "It’s Free\n",
    "It’s Portable\n",
    "It’s Powerful\n",
    "It’s Mixable - Mixing Python with libraries coded in languages such as C or C++,\n",
    "It’s Relatively Easy to Use"
   ]
  },
  {
   "cell_type": "code",
   "execution_count": null,
   "id": "375b6a71",
   "metadata": {},
   "outputs": [],
   "source": []
  }
 ],
 "metadata": {
  "kernelspec": {
   "display_name": "Python 3 (ipykernel)",
   "language": "python",
   "name": "python3"
  },
  "language_info": {
   "codemirror_mode": {
    "name": "ipython",
    "version": 3
   },
   "file_extension": ".py",
   "mimetype": "text/x-python",
   "name": "python",
   "nbconvert_exporter": "python",
   "pygments_lexer": "ipython3",
   "version": "3.10.6"
  }
 },
 "nbformat": 4,
 "nbformat_minor": 5
}
