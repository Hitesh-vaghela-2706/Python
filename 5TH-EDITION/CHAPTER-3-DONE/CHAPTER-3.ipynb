{
 "cells": [
  {
   "cell_type": "markdown",
   "id": "dd44bd56",
   "metadata": {},
   "source": [
    "<h1 style=\"color:#FD023D\" > How to Run Programs </h1>"
   ]
  },
  {
   "cell_type": "markdown",
   "id": "aff78539",
   "metadata": {},
   "source": [
    "There are multiple ways to tell Python to execute the code we type like...\n",
    "* system command lines( Intractive prompt )\n",
    "* icon clicks\n",
    "* module imports\n",
    "* exec calls\n",
    "* menu options in the IDLE GUI etc..."
   ]
  },
  {
   "cell_type": "markdown",
   "id": "e800a837",
   "metadata": {},
   "source": [
    " <h2 style='color:blue' > The Interactive Prompt </h2>"
   ]
  },
  {
   "cell_type": "markdown",
   "id": "ce1fa8a7",
   "metadata": {},
   "source": [
    "> simplest way to run Python programs is to type them at Python’s interactive\n",
    "command line, sometimes called the interactive prompt.\n",
    ">>  most platform neutral way to executing python code.\n",
    ">>> for running our code on command prompt just wer need to type python at our operating system’s prompt."
   ]
  },
  {
   "cell_type": "markdown",
   "id": "7d5af14e",
   "metadata": {},
   "source": [
    "- Typing the word `python` at our prompt begins an interactive Python session.\n",
    "- for terminating this session we use...\n",
    "  - Ctrl-Z for Windows \n",
    "  - Ctrl-D for Unix\n",
    "- Anytime we see the >>> prompt, we’re in an interactive Python interpreter session.\n",
    "- here we can type any Python statement or expression and run it immediately.\n",
    "- if we have not seted our system’s PATH environment variable to include Python’s install directory, we may need to replace the word `python` with the full path to the Python executable on your machine.\n",
    "  - for Ex :- C:\\Python33\\python (for version 3.3)\n",
    "- Python code which we are going to run in prompt are not generally to be saved in the source files we will be creating.\n",
    "- because of the interactive session automatically prints the results of expressions we type... we don’t usually need to say `print` explicitly at this prompt.\n",
    "- for printing two or more different statement saperately we need to use print statement in commant prompt as well.\n",
    "- the `#` part is taken as a comment by Python but may be an error at a system prompt.\n",
    "- we can also write and run multiline statements at the interactive prompt.\n",
    "- for writing multiline statements in cmd we need to use \\ and ; in our codes."
   ]
  },
  {
   "cell_type": "markdown",
   "id": "0cf43a90",
   "metadata": {},
   "source": [
    "<h2 style='color:green' > Why to use an Interactive Prompt?"
   ]
  },
  {
   "cell_type": "markdown",
   "id": "448c7a6d",
   "metadata": {},
   "source": [
    "- The interactive prompt runs code and provides an immdiate results as you go so it is a great place to...\n",
    "  - experiment with the language\n",
    "  - test program files.\n",
    "- The immediate feedback of prompt is often the quickest way to deduce what a piece of code does. "
   ]
  },
  {
   "cell_type": "markdown",
   "id": "b6a789b4",
   "metadata": {},
   "source": [
    "<h2 style='color:green'> Disadvantage of Intractive prompt"
   ]
  },
  {
   "cell_type": "markdown",
   "id": "75f8c043",
   "metadata": {},
   "source": [
    "- it doesn’t save our code in a file. this means we won’t do the bulk of your coding in interactive sessions.\n",
    "- we can only type Python code at Python’s >>> prompt not system commands.for system commands we need to use a os module.\n",
    "- Don’t indent unnested statements at the interactive prompt.\n",
    "- In the simple shell window interface, the interactive prompt changes to ... instead of >>> for multiline statemens.\n",
    "- Terminate compound statements at the interactive prompt with a blank line. \n",
    "- At the interactive prompt, inserting a blank line is necessary to tell interactive Python that you’re done typing the multiline statement.\n",
    "- so we must need to press Enter twice to make a compound statement run. \n",
    "- blank lines are not required in files and are simply ignored if present.\n",
    "- If we don’t press Enter twice at the end of a compound statement when working interactively, we’ll appear to be stuck in a limbo state, because the interactive interpreter will do nothing at all—it’s waiting for you to press Enter again!\n",
    "- also  we need to includes blank lines after each compound statement."
   ]
  },
  {
   "cell_type": "markdown",
   "id": "04d5ba89",
   "metadata": {},
   "source": [
    "<h2 style='color:blue' > System Command Lines and Files\n"
   ]
  },
  {
   "cell_type": "markdown",
   "id": "130e014c",
   "metadata": {},
   "source": [
    "To save programs permanently we need to write our code in files, which are usually known as modules. \n",
    "Modules are simply text files containing Python statements. "
   ]
  },
  {
   "cell_type": "markdown",
   "id": "8e4eafbe",
   "metadata": {},
   "source": [
    "<h2 style='color:green' > Running Files with Command Lines"
   ]
  },
  {
   "cell_type": "markdown",
   "id": "fea735a8",
   "metadata": {},
   "source": [
    "- we need to type a `python Filename.py` in CMD( or any prompt )\n",
    "- in order to save the output of a Python script to a file to save it for later use or inspection by while running code in prompt... \n",
    "    - `python Filename.py > saveit.txt` command is used."
   ]
  },
  {
   "cell_type": "markdown",
   "id": "f353e3af",
   "metadata": {},
   "source": [
    "<h2 style='color:green' > Usage Notes: Command Lines and Files"
   ]
  },
  {
   "cell_type": "markdown",
   "id": "a3eac486",
   "metadata": {},
   "source": [
    "1. Beware of automatic extensions on Windows and IDLE. \n",
    "   - If we use the Notepad program to code program files on Windows we need to give the file a .py suffix for save your file          explicitly.because Notepad will save your file with a .txt extension.\n",
    "   - Microsoft Word similarly adds a .doc extension by default\n",
    "\n",
    "2. Use file extensions and directory paths at system prompts but not for imports.\n",
    "   - Don’t forget to type the full name of your file in system command lines. use `python script1.py` \n",
    "   - Python’s import statements omit both the .py file suffix and the directory path (e.g. `import script1`).\n",
    "3. Use print statements in files."
   ]
  },
  {
   "cell_type": "markdown",
   "id": "316be280",
   "metadata": {},
   "source": [
    "<h2 style='color:blue' > Clicking File Icons"
   ]
  },
  {
   "cell_type": "markdown",
   "id": "bf92240c",
   "metadata": {},
   "source": [
    "- we can also able to run Python scripts with file icon clicks(we need to `double click` on mouse).\n",
    "- a clicked file will be run by one of two Python programs, depending on its extension and the Python you’re running.\n",
    "    - In Pythons 3.2 and earlier...\n",
    "        - .py files are run by python.exe with a console (CMD) window.\n",
    "        - .pyw files are run by pythonw.exe files without a console. \n",
    "    - Byte code files are also run by these programs if clicked.\n",
    "- By default, Python generates a pop-up console window to serve as a clicked file’s input and output.\n",
    "- If a script just prints and exits console window appears and text is printed there, but the console window closes and disappears on program exit.\n",
    "- so...Unless we are very fast, or our machine is very slow, we won’t get to see your output at all.\n",
    "- If you need your script’s output to stick around when we launch it with an icon click, simply put a call to the built-in input function at the very bottom of the script in 3.X."
   ]
  },
  {
   "cell_type": "markdown",
   "id": "f1bdd2f0",
   "metadata": {},
   "source": [
    "<h2 style='color:green' > Icon-Click Limitations"
   ]
  },
  {
   "cell_type": "markdown",
   "id": "7d502468",
   "metadata": {},
   "source": [
    "- when we run a python file by clicking file icons we also may not get to see Python error messages. \n",
    "- If our script generates an error, the error message text is written to the pop-up console window which then immediately disappears. \n",
    "- Because of these limitations, it is best to run codes by icon clicks after they have been debugged, or have been instrumented to write their output to a file and catch and process any important errors.\n",
    "- we can also able to get error message using exception Handling."
   ]
  },
  {
   "cell_type": "markdown",
   "id": "d45c10a4",
   "metadata": {},
   "source": [
    "<h2 style='color:blue' > Module Imports and Reloads"
   ]
  },
  {
   "cell_type": "markdown",
   "id": "023f2ed7",
   "metadata": {},
   "source": [
    "- import is also a way to launch python programs\n",
    "- every file of Python source code whose name ends in a .py extension is a module. \n",
    "- No special code or syntax is required to make a file a module.\n",
    "- Other files can access the items a module defines by importing that module.\n",
    "- import operations essentially load another file and grant access to that file’s contents.\n",
    "- we can run the `Filename.py` file we created earlier with a simple import...\n",
    "    - python import Filename\n",
    "    - here... we don't need to put extension .py\n",
    "- This works only once per session  by default. After the first import later imports do nothing, even if you change and save the module’s source file again in another window.\n",
    "- If we really want to force Python to run the file again in the same session without stopping and restarting the session, we need to instead call the reload function available in the imp standard library module.\n",
    "    - from imp import reload <span style= 'color:red'> # Must load from module in 3.X </span>\n",
    "    - reload(script1)"
   ]
  },
  {
   "cell_type": "markdown",
   "id": "19164169",
   "metadata": {},
   "source": [
    "- The reload function expects the name of an already loaded module object so we has to have successfully imported a module once before we reload it. \n",
    "- if the import reported an error, you can’t yet reload and must import again.\n",
    "- Notice that reload also expects parentheses around the module object name, whereas import does not. \n",
    "- reload is a function that is called, and import is a statement.\n",
    "- we must pass the module name without extension to reload as an argument in parentheses"
   ]
  },
  {
   "cell_type": "markdown",
   "id": "b7c0f39d",
   "metadata": {},
   "source": [
    "<h2 style='color:blue' > Difference Between import and from-import"
   ]
  },
  {
   "cell_type": "markdown",
   "id": "b9cfb832",
   "metadata": {},
   "source": [
    "module files usually define more than one name to be used in and outside the files. for Ex. here is a file named `variables.py`"
   ]
  },
  {
   "cell_type": "code",
   "execution_count": 3,
   "id": "5e13c30e",
   "metadata": {},
   "outputs": [
    {
     "name": "stdout",
     "output_type": "stream",
     "text": [
      "dead parrot sketch\n"
     ]
    }
   ],
   "source": [
    "a = 'dead' # Define three attributes\n",
    "b = 'parrot' # Exported to other files\n",
    "c = 'sketch'\n",
    "print(a, b, c) "
   ]
  },
  {
   "cell_type": "markdown",
   "id": "47a5b632",
   "metadata": {},
   "source": [
    "if we use only `import` then we get a module with attributes but if we use `from` we get copies of the file’s names.\n",
    "- python import variables # loads the whole module and access its all attributes.\n",
    "- python import variables.b # loads the whole module and access its attribute b.\n",
    "- python from variables import c # not load whole module instead it Copies only c name out and don't load b and a."
   ]
  },
  {
   "cell_type": "markdown",
   "id": "4879a120",
   "metadata": {},
   "source": [
    "<h2 style = 'color:green' > Namespaces"
   ]
  },
  {
   "cell_type": "markdown",
   "id": "81cd8eaa",
   "metadata": {},
   "source": [
    "- Python programs are composed of multiple module files linked together by import statements and each module file is a package of variables that is called as a namespace.\n",
    "- each module is a self-contained namespace.\n",
    "- one module file cannot see the names defined in another file unless it explicitly imports that other file. Because of this, modules serve to minimize name collisions in our code because each file is a self-contained namespace the names in one file cannot clash with those in another even if they are spelled the same way."
   ]
  },
  {
   "cell_type": "markdown",
   "id": "fc30ed4f",
   "metadata": {},
   "source": [
    "<h2 style = 'color:green' > Limitations of import and reload"
   ]
  },
  {
   "cell_type": "markdown",
   "id": "b376ed86",
   "metadata": {},
   "source": [
    "- we only able to run same file after applying changes using import method by reload function but reloads aren’t transitive.\n",
    "- reloading a module reloads that module only, not any modules it may import so you sometimes have to reload multiple files.\n",
    "- if we imported more than one module than we need to reload each of them seperately."
   ]
  },
  {
   "cell_type": "markdown",
   "id": "8f974e73",
   "metadata": {},
   "source": [
    "<h2 style='color:blue' > Using exec to Run Module Files"
   ]
  },
  {
   "cell_type": "markdown",
   "id": "1314d4cc",
   "metadata": {},
   "source": [
    "- The exec(open('module.py').read()) built-in function call is another way to launch files from the interactive prompt without having to import and later reload. \n",
    "- Each such exec runs the current version of the code read from a file, without requiring later reloads\n",
    "<p style='color:blue' > python exec(open('script1.py').read()) </p>"
   ]
  },
  {
   "cell_type": "markdown",
   "id": "8f4b9c5d",
   "metadata": {},
   "source": [
    "<h2 style = 'color:green' > Limitations of exec"
   ]
  },
  {
   "cell_type": "markdown",
   "id": "0fd1a881",
   "metadata": {},
   "source": [
    "- exec overwrites variables you may currently be using. For example, our script1.py assigns to a variable named x = 'Spam!'. If that name is also being used in the place where exec is called, the name’s value is replaced.<br>"
   ]
  },
  {
   "cell_type": "code",
   "execution_count": 4,
   "id": "89a0770e",
   "metadata": {},
   "outputs": [
    {
     "name": "stdout",
     "output_type": "stream",
     "text": [
      "value of x before exec :-  999\n",
      "x in file :-  76\n",
      "y in file :-  43\n",
      "final value of x is :-  76\n"
     ]
    }
   ],
   "source": [
    "x = 999\n",
    "print('value of x before exec :- ', x)\n",
    "exec(open('file.py').read()) # Code run in this namespace by default\n",
    "print('final value of x is :- ', x)  # Its assignments can overwrite names here"
   ]
  },
  {
   "cell_type": "markdown",
   "id": "c8ad353b",
   "metadata": {},
   "source": [
    "- but basic import statement runs the file only once per process and it makes the file a separate module namespace so that its assignments will not change variables in your scope."
   ]
  },
  {
   "cell_type": "markdown",
   "id": "d3976bef",
   "metadata": {},
   "source": [
    "<h2 style='color:blue' > IDLE User Interface"
   ]
  },
  {
   "cell_type": "markdown",
   "id": "1d0e6346",
   "metadata": {},
   "source": [
    "- IDLE provides a graphical user interface for doing Python development and it’s a standard and free part of the Python system.\n",
    "- IDLE is usually referred to as an integrated development environment (IDE) because it binds together various development tasks into a single view.\n",
    "- IDLE is a desktop GUI that lets you edit, run, browse, and debug Python programs all from a single interface. \n",
    "- in Windows IDLE comes installed automatically with standard Python.\n",
    "- we able to launch IDLe by a search for “idle” by browsing your “All apps” Start screen display or by using File Explorer to find the idle.py.\n",
    "- we can also able to launch IDLE By this command `python -m idlelib.idle` in cmd. # Run idle.py in a package on module path.\n",
    "- IDLE works like all interactive sessions code we type. it's run immediately after you type it and serves as a testing and experimenting tool.\n",
    "- it also displays an errors to help us to spot mistakes."
   ]
  },
  {
   "cell_type": "markdown",
   "id": "1f7c6bed",
   "metadata": {},
   "source": [
    "<h2 style='color:green' > Features of IDLE"
   ]
  },
  {
   "cell_type": "markdown",
   "id": "4428a795",
   "metadata": {},
   "source": [
    "- Auto-indent and unindent for Python code in the editor\n",
    "- Word auto-completion while typing, invoked by a Tab press\n",
    "- Balloon help pop ups for a function call when you type its opening “(”\n",
    "- Pop-up selection lists of object attributes when you type a “.” after an object’s name and either pause or press Tab.\n",
    "- IDLEprovides more advanced features, including a point-and-click program graphical debugger and an object browser. \n",
    "- The IDLE debugger is enabled via the Debug menu and the object browser via the File menu."
   ]
  },
  {
   "cell_type": "markdown",
   "id": "ffe1162c",
   "metadata": {},
   "source": [
    "<h2 style='color:green' > Limitations of IDLE"
   ]
  },
  {
   "cell_type": "markdown",
   "id": "81172712",
   "metadata": {},
   "source": [
    "1. we must need to add “.py” explicitly when saving our files.\n",
    "2. Run scripts by selecting Run→Run Module in text edit windows not by interactive imports and reloads.because un→Run Module menu option in IDLE always runs the most current version of our code file. \n",
    "3. There is currently no clear-screen option in IDLE.so sometimes it gets too much messi code.\n",
    "4. tkinter GUI and threaded programs may not work well with IDLE.\n",
    "5. If connection errors arise try starting IDLE in single-process mode.using `python -m idlelib.idle –n` command we able to start IDLE in single-process mode from anywhere."
   ]
  },
  {
   "cell_type": "markdown",
   "id": "c0e2bbdc",
   "metadata": {},
   "source": [
    "<h2 style='color:blue' > Other Popular IDLEs"
   ]
  },
  {
   "cell_type": "markdown",
   "id": "8cc0f80d",
   "metadata": {},
   "source": [
    "1. Eclipse and PyDev\n",
    "    - Eclipse is an advanced open source IDE GUI. Originally developed as a Java IDE.Eclipse also supports Python development         when you install the PyDev plug-in.\n",
    "2. Komodo\n",
    "    - A full-featured development environment GUI for Python.Komodo includes standard syntax coloring, text editing, debugging,       and other features\n",
    "3. NetBeans IDE for Python\n",
    "    - NetBeans is a powerful open source development environment GUI with support for many advanced features for Python               developers. code completion, automatic indentation and code colorization, editor hints, code folding, refactoring,               debugging, code coverage and testing, projects, and more. It may be used to develop both CPython and Jython code.\n",
    "4. Visual Studio\n",
    "5. PyCharm\n",
    "6. Spyder\n",
    "7. Jupyter Notebook"
   ]
  },
  {
   "cell_type": "markdown",
   "id": "36610a6d",
   "metadata": {},
   "source": [
    "<h2 style='color:blue' > How to Debug a Python code?"
   ]
  },
  {
   "cell_type": "markdown",
   "id": "a8d1b5cc",
   "metadata": {},
   "source": [
    "1. Do nothing\n",
    "   - when you make a mistake in a Python program you get a very useful and readable error message.\n",
    "   - read the error message and go fix the tagged line and file.\n",
    "   - It may not always be ideal for larger systems you didn’t write though.\n",
    "2. Insert print statements\n",
    "   - main way that Python programmers debug their code  is to insert print statements and run again.\n",
    "   - Because Python runs immediately after changes this is usually the quickest way to get more information than error messages      provide. \n",
    "   - Just remember to delete or comment out the debugging prints before you ship your code.\n",
    "3. Use IDE GUI debuggers\n",
    "   - For larger systems you didn’t write and for beginners who want to trace code in more detail most Python development GUIs        have some sort of point-and-click debugging support.\n",
    "4. Use the pdb command-line debugger\n",
    "   - For ultimate control Python comes with a source code debugger named pdb.which is available as a module in Python’s standard\n",
    "     library.\n",
    "   - In pdb you type commands to step line by line, display variables, set and clear breakpoints, continue to a breakpoint or        error, and so on.\n",
    "   - You can launch pdb interactively by importing it or as a top-level script. \n",
    "   - pdb also includes a postmortem function (pdb.pm()) that you can run after anexception occurs to get information from the        time of the error. \n",
    "5. Use Python’s –i command-line argument\n",
    "   - Short of adding prints or running under pdb you can still see what went wrong on errors.\n",
    "   - If we run our script from a command line and pass a -i argument between python and the name of our script Python will enter      into its interactive interpreter mode <span style='color:red' > For Ex. python –i m.py </span>\n",
    "   - when our script exits whether it ends successfully or runs into an error. At this point you can print the final values of        variables to get more details about what happened in your code because they are in the top-level namespace.\n",
    "6. Other options\n",
    "   - The Winpdb system is a standalone debugger with advanced debugging support and cross-platform GUI and console interfaces."
   ]
  }
 ],
 "metadata": {
  "kernelspec": {
   "display_name": "Python 3 (ipykernel)",
   "language": "python",
   "name": "python3"
  },
  "language_info": {
   "codemirror_mode": {
    "name": "ipython",
    "version": 3
   },
   "file_extension": ".py",
   "mimetype": "text/x-python",
   "name": "python",
   "nbconvert_exporter": "python",
   "pygments_lexer": "ipython3",
   "version": "3.10.6"
  }
 },
 "nbformat": 4,
 "nbformat_minor": 5
}
