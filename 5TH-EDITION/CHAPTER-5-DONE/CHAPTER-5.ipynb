{
 "cells": [
  {
   "cell_type": "markdown",
   "id": "ad1c1df3",
   "metadata": {},
   "source": [
    "<h1 style='color:red' > Now Let's Dive deeply in python's Built-in datatypes </h1>\n",
    "\n",
    "<h2 style='color:Blue' > Numeric Type </h2>\n",
    "\n",
    "- Python’s numeric datatype includes...\n",
    "    - Integer and floating-point objects\n",
    "    - Complex number objects\n",
    "    - Decimal: fixed-precision objects\n",
    "    - Fraction: rational number objects\n",
    "    - Sets: collections with numeric operations\n",
    "    - Booleans: true and false\n",
    "    - Built-in functions and modules: round, math, random, etc.\n",
    "    - Expressions; unlimited integer precision; bitwise operations; hex, octal, and binary formats\n",
    "\n",
    "Python provides...\n",
    "- integers :- which are positive and negative whole numbers\n",
    "- floating-point numbers :- which are numbers with a fractional part (sometimes called “floats” for verbal economy).\n",
    "- Python also allows us to write integers using hexadecimal, octal, and binary literals.\n",
    "- complex number type\n",
    "- Decimals :- unlimited precision integers.they can grow to have as many digits as your memory space allows."
   ]
  },
  {
   "cell_type": "markdown",
   "id": "633ed3fb",
   "metadata": {},
   "source": [
    "**Numeric literals Table**"
   ]
  },
  {
   "cell_type": "markdown",
   "id": "232fbed5",
   "metadata": {},
   "source": [
    "<table border=2 style='width:600px;border-color:green;' >\n",
    "    <tr>\n",
    "        <th> Interpretation </th>\n",
    "        <th> Literal </th>    \n",
    "    </tr>\n",
    "        <tr>\n",
    "        <td> Integer </td>\n",
    "        <td> 1234, −24, 0 </td>    \n",
    "    </tr>\n",
    "        <tr>\n",
    "        <td> Floating-point numbers </td>\n",
    "        <td> 1.23, 3.14e-10 </td>    \n",
    "    </tr>\n",
    "    <tr>\n",
    "        <td> Octal literals </td>\n",
    "        <td> 0o177 </td>    \n",
    "    </tr>   \n",
    "    <tr>\n",
    "        <td>  hex literals </td>\n",
    "        <td> 0x9ff </td>    \n",
    "    </tr>\n",
    "    <tr>\n",
    "        <td> binary literals </td>\n",
    "        <td> 0b101010 </td>    \n",
    "    </tr>    \n",
    "    <tr>\n",
    "        <td> Complex number literals </td>\n",
    "        <td> 3+4j, 3.0+4.0j, 3J  </td>    \n",
    "    </tr>\n",
    "    <tr>\n",
    "        <td> Decimal extension type </td>\n",
    "        <td> Decimal('1.0') </td>    \n",
    "    </tr>    \n",
    "    <tr>\n",
    "        <td> Fraction extension type </td>\n",
    "        <td> Fraction(1, 3) </td>    \n",
    "</table>"
   ]
  },
  {
   "cell_type": "markdown",
   "id": "5c5d38f4",
   "metadata": {},
   "source": [
    "1. Integer and floating-point literals\n",
    "    - Integers are written as strings of decimal digits.\n",
    "    - Floating-point numbers have a decimal point and/or an optional signed exponent introduced by an e or E and\n",
    "      followed by an optional sign. \n",
    "    - If you write a number with a decimal point or exponent, Python makes it a floating-point object and uses floating-point by       default (not integer).\n",
    "<br><br>\n",
    "2. In Python 2.X...\n",
    "    - there are two integer types\n",
    "        1. normal (often 32 bits)\n",
    "        2. long (unlimited precision)\n",
    "<br><br>\n",
    "3. In Python 3.X...\n",
    "   - the normal and long integer types have been merged—there is only integer"
   ]
  },
  {
   "cell_type": "markdown",
   "id": "018a22fa",
   "metadata": {},
   "source": [
    "<h2 style='color:green' > Basic Operations </h2>"
   ]
  },
  {
   "cell_type": "markdown",
   "id": "266c046d",
   "metadata": {},
   "source": [
    "Numbers in Python support the normal mathematical operations. for Ex...\n",
    "- the plus sign `+` performs addition, a star `*` is used for multiplication, and two stars `**`are used for exponentiation"
   ]
  },
  {
   "cell_type": "code",
   "execution_count": 41,
   "id": "b2dea5f3",
   "metadata": {},
   "outputs": [
    {
     "data": {
      "text/plain": [
       "8"
      ]
     },
     "execution_count": 41,
     "metadata": {},
     "output_type": "execute_result"
    }
   ],
   "source": [
    "3 + 5"
   ]
  },
  {
   "cell_type": "code",
   "execution_count": 43,
   "id": "c908a82d",
   "metadata": {},
   "outputs": [
    {
     "data": {
      "text/plain": [
       "30.5"
      ]
     },
     "execution_count": 43,
     "metadata": {},
     "output_type": "execute_result"
    }
   ],
   "source": [
    "5.8 + 24.7"
   ]
  },
  {
   "cell_type": "markdown",
   "id": "65547d71",
   "metadata": {},
   "source": [
    "<h2 style='color:green' > Mixed types Operations </h2>\n",
    "\n",
    "- we can add an integer to a floating-point number\n",
    "- for Ex. :- <span style='color:red' >  40 + 3.14 </span>\n",
    "- this creates an another question in our mind...\n",
    "- <span style='color:brown' > what type is the result—integer or floating point? </span>\n",
    "    - The answer is simple Python first converts operands up to the type of the most complicated operand and then performs the         operation on same-type operands.therefor when an integer is mixed with a floating point as in the preceding example, the         integer is converted up to a floating-point value first then firther operatoion is performed."
   ]
  },
  {
   "cell_type": "code",
   "execution_count": 1,
   "id": "27682e69",
   "metadata": {},
   "outputs": [
    {
     "data": {
      "text/plain": [
       "43.14"
      ]
     },
     "execution_count": 1,
     "metadata": {},
     "output_type": "execute_result"
    }
   ],
   "source": [
    "40 + 3.14"
   ]
  },
  {
   "cell_type": "markdown",
   "id": "32b8dc4b",
   "metadata": {},
   "source": [
    "<h2 style='color:green' > Type Cating </h2>"
   ]
  },
  {
   "cell_type": "markdown",
   "id": "c96686f0",
   "metadata": {},
   "source": [
    "- we can also able to conert the type of object(data).\n",
    "- there are two possibilities of converting datatypes...\n",
    "    1. converting a less complicated operator in more complicated operator.\n",
    "        - this type of operaton python performs itself and we don't need to specify.\n",
    "        - for Ex. :- int to float or complex datatpye conversation.\n",
    "    2. converting a more complicated operator in less complicated operator.\n",
    "        - this is also called as a type casting.\n",
    "        - we need to perform this type of operation forcefully and manually.\n",
    "        - Casting in done using constructor functions like int(),float(),str() etc.\n",
    "        - for Ex. :- float to int datatpye conversation.\n",
    "        - This leads towards a loss of the data.\n",
    "        - we cannot convert complex numbers into another number type."
   ]
  },
  {
   "cell_type": "code",
   "execution_count": 2,
   "id": "901b3313",
   "metadata": {},
   "outputs": [
    {
     "data": {
      "text/plain": [
       "3"
      ]
     },
     "execution_count": 2,
     "metadata": {},
     "output_type": "execute_result"
    }
   ],
   "source": [
    "int(3.1415) # Truncates float to integer"
   ]
  },
  {
   "cell_type": "code",
   "execution_count": 3,
   "id": "b436e93f",
   "metadata": {},
   "outputs": [
    {
     "data": {
      "text/plain": [
       "3.0"
      ]
     },
     "execution_count": 3,
     "metadata": {},
     "output_type": "execute_result"
    }
   ],
   "source": [
    "float(3) # Converts integer to float"
   ]
  },
  {
   "cell_type": "code",
   "execution_count": 46,
   "id": "8eeca03d",
   "metadata": {},
   "outputs": [
    {
     "data": {
      "text/plain": [
       "(4, 2, 15, 4.0)"
      ]
     },
     "execution_count": 46,
     "metadata": {},
     "output_type": "execute_result"
    }
   ],
   "source": [
    "a = 3\n",
    "b = 4\n",
    "c,d = 5,8\n",
    "a + 1, a - 1,c * 3, d / 2"
   ]
  },
  {
   "cell_type": "code",
   "execution_count": 7,
   "id": "e3ba2877",
   "metadata": {},
   "outputs": [
    {
     "data": {
      "text/plain": [
       "(1, 16)"
      ]
     },
     "execution_count": 7,
     "metadata": {},
     "output_type": "execute_result"
    }
   ],
   "source": [
    "a % 2, b ** 2"
   ]
  },
  {
   "cell_type": "markdown",
   "id": "6a0a4340",
   "metadata": {},
   "source": [
    "- If we use a different variable that has not yet been assigned then Python reports an error rather than filling in some default value."
   ]
  },
  {
   "cell_type": "code",
   "execution_count": 9,
   "id": "312c8bd8",
   "metadata": {},
   "outputs": [
    {
     "ename": "NameError",
     "evalue": "name 'f' is not defined",
     "output_type": "error",
     "traceback": [
      "\u001b[1;31m---------------------------------------------------------------------------\u001b[0m",
      "\u001b[1;31mNameError\u001b[0m                                 Traceback (most recent call last)",
      "Input \u001b[1;32mIn [9]\u001b[0m, in \u001b[0;36m<cell line: 1>\u001b[1;34m()\u001b[0m\n\u001b[1;32m----> 1\u001b[0m \u001b[43mf\u001b[49m \u001b[38;5;241m*\u001b[39m \u001b[38;5;241m2\u001b[39m\n",
      "\u001b[1;31mNameError\u001b[0m: name 'f' is not defined"
     ]
    }
   ],
   "source": [
    "f * 2"
   ]
  },
  {
   "cell_type": "markdown",
   "id": "1f02dcaf",
   "metadata": {},
   "source": [
    "- in python... \n",
    "    - we don’t need to predeclare variables but we must have to assign a variablev at least once before we can use them.\n",
    "    - this means we have to initialize counters to zero before we can use for add them.initialize lists to an empty list before       you can append item to them etc."
   ]
  },
  {
   "cell_type": "markdown",
   "id": "659a1a76",
   "metadata": {},
   "source": [
    "**Numeric Display Formats**"
   ]
  },
  {
   "cell_type": "code",
   "execution_count": 14,
   "id": "b05fd10c",
   "metadata": {},
   "outputs": [
    {
     "name": "stdout",
     "output_type": "stream",
     "text": [
      "3333333333.3333335\n"
     ]
    },
    {
     "data": {
      "text/plain": [
       "3333333333.3333335"
      ]
     },
     "execution_count": 14,
     "metadata": {},
     "output_type": "execute_result"
    }
   ],
   "source": [
    "num = 10000000000 / 3.0\n",
    "print(num) # Print explicitly\n",
    "num # Auto-echoes"
   ]
  },
  {
   "cell_type": "code",
   "execution_count": 15,
   "id": "c381feb3",
   "metadata": {},
   "outputs": [
    {
     "data": {
      "text/plain": [
       "'3333333333.33'"
      ]
     },
     "execution_count": 15,
     "metadata": {},
     "output_type": "execute_result"
    }
   ],
   "source": [
    "'%4.2f' % num # Alternative floating-point format"
   ]
  },
  {
   "cell_type": "code",
   "execution_count": 16,
   "id": "a9539bbf",
   "metadata": {},
   "outputs": [
    {
     "data": {
      "text/plain": [
       "'3333333333.33'"
      ]
     },
     "execution_count": 16,
     "metadata": {},
     "output_type": "execute_result"
    }
   ],
   "source": [
    "'{0:4.2f}'.format(num) # String formatting method"
   ]
  },
  {
   "cell_type": "markdown",
   "id": "05466940",
   "metadata": {},
   "source": [
    "<h2 style='color:blue' >  difference between built-in repr and str functions </h2>\n",
    "\n",
    "- the difference between default interactive echoes and print corresponds to the difference between the built-in repr and str functions.\n",
    "- Both of these convert arbitrary objects to their string representations\n",
    "    - repr (and the default interactive echo) produces results that look as though they were code.\n",
    "    - str (and the print operation) converts to a typically more user-friendly format."
   ]
  },
  {
   "cell_type": "markdown",
   "id": "55516b88",
   "metadata": {},
   "source": [
    "3.1415 * 2  <span style='color:red' > # repr: as code (Pythons less than 2.7 and 3.1) </span> <br>\n",
    "<span style='color:blue' > >>> 6.2830000000000004 </span> <br>\n",
    "print(3.1415 * 2) <span style='color:red' > # str: user-friendly </span> <br>\n",
    "<span style='color:blue' > >>> 6.283"
   ]
  },
  {
   "cell_type": "markdown",
   "id": "dbdee250",
   "metadata": {},
   "source": [
    "- first form is known as an object’s as-code repr \n",
    "- second is known as a its user-friendly str"
   ]
  },
  {
   "cell_type": "code",
   "execution_count": 44,
   "id": "a3424afb",
   "metadata": {},
   "outputs": [
    {
     "data": {
      "text/plain": [
       "\"'spam'\""
      ]
     },
     "execution_count": 44,
     "metadata": {},
     "output_type": "execute_result"
    }
   ],
   "source": [
    "repr('spam') # Used by echoes: as-code form"
   ]
  },
  {
   "cell_type": "code",
   "execution_count": 18,
   "id": "1c29b757",
   "metadata": {},
   "outputs": [
    {
     "data": {
      "text/plain": [
       "'spam'"
      ]
     },
     "execution_count": 18,
     "metadata": {},
     "output_type": "execute_result"
    }
   ],
   "source": [
    "str('spam') # Used by print: user-friendly form"
   ]
  },
  {
   "cell_type": "markdown",
   "id": "cfef5696",
   "metadata": {},
   "source": [
    "<h2 style='color:blue' >  Normal and Chained Comparisons </h2>\n",
    "\n",
    "- Python objects also supports a comparisions.\n",
    "- we are able to compare two or more python object using assignment operators."
   ]
  },
  {
   "cell_type": "code",
   "execution_count": 45,
   "id": "f8a9f03a",
   "metadata": {},
   "outputs": [
    {
     "name": "stdout",
     "output_type": "stream",
     "text": [
      "False\n",
      "True\n",
      "True\n",
      "True\n"
     ]
    }
   ],
   "source": [
    "a,b,c = 23,21.8,23\n",
    "print(a < b) # Less than\n",
    "print(c >= b) # Greater than or equal: mixed-type 1 converted to 1.0\n",
    "print(a == c) # Equal value\n",
    "print(b != a) # Not equal value"
   ]
  },
  {
   "cell_type": "markdown",
   "id": "1fb8a017",
   "metadata": {},
   "source": [
    "- Python also allows us to chain multiple comparisons together to perform range tests.\n",
    "- Chained comparisons are a sort of shorthand for larger Boolean expressions."
   ]
  },
  {
   "cell_type": "code",
   "execution_count": 21,
   "id": "39235c46",
   "metadata": {},
   "outputs": [
    {
     "data": {
      "text/plain": [
       "True"
      ]
     },
     "execution_count": 21,
     "metadata": {},
     "output_type": "execute_result"
    }
   ],
   "source": [
    "X,Y,Z = 2,4,6\n",
    "X < Y < Z # Chained comparisons: range tests"
   ]
  },
  {
   "cell_type": "code",
   "execution_count": 22,
   "id": "b164f4f6",
   "metadata": {},
   "outputs": [
    {
     "data": {
      "text/plain": [
       "True"
      ]
     },
     "execution_count": 22,
     "metadata": {},
     "output_type": "execute_result"
    }
   ],
   "source": [
    "X < Y and Y < Z"
   ]
  },
  {
   "cell_type": "code",
   "execution_count": 23,
   "id": "c5db2304",
   "metadata": {},
   "outputs": [
    {
     "data": {
      "text/plain": [
       "False"
      ]
     },
     "execution_count": 23,
     "metadata": {},
     "output_type": "execute_result"
    }
   ],
   "source": [
    "1.1 + 2.2 == 3.3 # Shouldn't this be True?..."
   ]
  },
  {
   "cell_type": "code",
   "execution_count": 24,
   "id": "5edb028c",
   "metadata": {},
   "outputs": [
    {
     "data": {
      "text/plain": [
       "3.3000000000000003"
      ]
     },
     "execution_count": 24,
     "metadata": {},
     "output_type": "execute_result"
    }
   ],
   "source": [
    "1.1 + 2.2 # Close to 3.3, but not exactly: limited precision"
   ]
  },
  {
   "cell_type": "code",
   "execution_count": 27,
   "id": "f85a0a90",
   "metadata": {},
   "outputs": [
    {
     "data": {
      "text/plain": [
       "True"
      ]
     },
     "execution_count": 27,
     "metadata": {},
     "output_type": "execute_result"
    }
   ],
   "source": [
    "round(1.1 + 2.2,4) == float(3.3) "
   ]
  },
  {
   "cell_type": "markdown",
   "id": "12d0d102",
   "metadata": {},
   "source": [
    "<h2 style='color:blue' > Types of Division </h2>\n",
    "\n",
    "- there are mainly three types of Division.\n",
    "    - Classic Division\n",
    "    - Floor Division\n",
    "    - True Division\n",
    "\n",
    "- X / Y :- Classic and true division\n",
    "    - In Python 2.X this operator performs classic division.\n",
    "    - division which truncates the result for integers and keeping remainders or fractional parts for floating-point                   numbers is called as a classic division.\n",
    "    - for Ex. 3/2 = 1 and 3.0/2.0 = 1.5 is provided as output.\n",
    "    - In Python 3.X it always performs a true division.\n",
    "    - division which always keeping remainders in results regardless of types is called as a true division.\n",
    "- X // Y :- Floor division.\n",
    "    - this operator always truncates fractional remainders down to their floor regardless of types. "
   ]
  },
  {
   "cell_type": "code",
   "execution_count": 44,
   "id": "d96deeb9",
   "metadata": {},
   "outputs": [
    {
     "data": {
      "text/plain": [
       "(25.666666666666668, 25)"
      ]
     },
     "execution_count": 44,
     "metadata": {},
     "output_type": "execute_result"
    }
   ],
   "source": [
    "77/3,77//3"
   ]
  },
  {
   "cell_type": "code",
   "execution_count": 43,
   "id": "277f8d71",
   "metadata": {},
   "outputs": [
    {
     "data": {
      "text/plain": [
       "(2.5, 2, 2.0)"
      ]
     },
     "execution_count": 43,
     "metadata": {},
     "output_type": "execute_result"
    }
   ],
   "source": [
    "10/4,10//4,10//4.0"
   ]
  },
  {
   "cell_type": "markdown",
   "id": "f241ca47",
   "metadata": {},
   "source": [
    "- as we know that...when two or more different datatypes are there in expression, python performs typecasting first then produces the result.\n",
    "- that's why 10///4.0 returns a 2.0 instead 2, as it casts 2 in 2.0"
   ]
  },
  {
   "cell_type": "markdown",
   "id": "8581abfe",
   "metadata": {},
   "source": [
    "<h2 style='color:blue' > Floor versus truncate </h2>"
   ]
  },
  {
   "cell_type": "markdown",
   "id": "f76ab573",
   "metadata": {},
   "source": [
    "- the `//` operator is informally called truncating division.\n",
    "- it’s more accurate to refer to it as floor division as it truncates the result down to its floor, which means the closest       whole number below the true result.        -6"
   ]
  },
  {
   "cell_type": "code",
   "execution_count": 47,
   "id": "ddab54a9",
   "metadata": {},
   "outputs": [
    {
     "name": "stdout",
     "output_type": "stream",
     "text": [
      "2\n",
      "2\n"
     ]
    }
   ],
   "source": [
    "import math\n",
    "print(math.floor(2.5))# Closest number below value\n",
    "print(math.trunc(2.5)) # Truncate fractional part (toward zero)"
   ]
  },
  {
   "cell_type": "code",
   "execution_count": 48,
   "id": "5097ceec",
   "metadata": {},
   "outputs": [
    {
     "name": "stdout",
     "output_type": "stream",
     "text": [
      "-3\n",
      "-2\n"
     ]
    }
   ],
   "source": [
    "print(math.floor(-2.5))# Closest number below value\n",
    "print(math.trunc(-2.5)) # Truncate fractional part (toward zero)"
   ]
  },
  {
   "cell_type": "code",
   "execution_count": 49,
   "id": "f72e3e40",
   "metadata": {},
   "outputs": [
    {
     "data": {
      "text/plain": [
       "-7"
      ]
     },
     "execution_count": 49,
     "metadata": {},
     "output_type": "execute_result"
    }
   ],
   "source": [
    "A = -27//4\n",
    "A"
   ]
  },
  {
   "cell_type": "code",
   "execution_count": 50,
   "id": "2e19ed49",
   "metadata": {},
   "outputs": [
    {
     "name": "stdout",
     "output_type": "stream",
     "text": [
      "-7\n",
      "-6\n"
     ]
    }
   ],
   "source": [
    "A = -27/4\n",
    "print(math.floor(A))\n",
    "print(math.trunc(A))"
   ]
  },
  {
   "cell_type": "markdown",
   "id": "42a93ecc",
   "metadata": {},
   "source": [
    "<h2 style='color:blue' > Complex Numbers </h2>\n",
    "\n",
    "- very less used datatype than other datatypes.\n",
    "- complex numbers are a core object type in Python.\n",
    "- They are typically used in engineering and science applications. \n",
    "- complex literals are written as `realpart+imaginarypart` where the imaginarypart is terminated with a j or J.\n",
    "- The realpart is technically optional so the imaginarypart may appear on its own.\n",
    "- Complex numbers may also be created with the complex(real, imag) built-in call."
   ]
  },
  {
   "cell_type": "code",
   "execution_count": 51,
   "id": "37d1679a",
   "metadata": {},
   "outputs": [
    {
     "data": {
      "text/plain": [
       "(2+3j)"
      ]
     },
     "execution_count": 51,
     "metadata": {},
     "output_type": "execute_result"
    }
   ],
   "source": [
    "complex(2,3)"
   ]
  },
  {
   "cell_type": "code",
   "execution_count": 52,
   "id": "4fa38c80",
   "metadata": {},
   "outputs": [
    {
     "data": {
      "text/plain": [
       "(2+0j)"
      ]
     },
     "execution_count": 52,
     "metadata": {},
     "output_type": "execute_result"
    }
   ],
   "source": [
    "complex(2,0)"
   ]
  },
  {
   "cell_type": "code",
   "execution_count": 53,
   "id": "fa2ff051",
   "metadata": {},
   "outputs": [
    {
     "data": {
      "text/plain": [
       "0j"
      ]
     },
     "execution_count": 53,
     "metadata": {},
     "output_type": "execute_result"
    }
   ],
   "source": [
    "complex(0,0)"
   ]
  },
  {
   "cell_type": "code",
   "execution_count": 54,
   "id": "fd635dab",
   "metadata": {},
   "outputs": [
    {
     "data": {
      "text/plain": [
       "(2+3j)"
      ]
     },
     "execution_count": 54,
     "metadata": {},
     "output_type": "execute_result"
    }
   ],
   "source": [
    "2 + 1j * 3"
   ]
  },
  {
   "cell_type": "code",
   "execution_count": 55,
   "id": "25eed364",
   "metadata": {},
   "outputs": [
    {
     "data": {
      "text/plain": [
       "(6+3j)"
      ]
     },
     "execution_count": 55,
     "metadata": {},
     "output_type": "execute_result"
    }
   ],
   "source": [
    "(2 + 1j) * 3"
   ]
  },
  {
   "cell_type": "code",
   "execution_count": 56,
   "id": "caf75866",
   "metadata": {},
   "outputs": [
    {
     "data": {
      "text/plain": [
       "1j"
      ]
     },
     "execution_count": 56,
     "metadata": {},
     "output_type": "execute_result"
    }
   ],
   "source": [
    "1j"
   ]
  },
  {
   "cell_type": "code",
   "execution_count": 62,
   "id": "ae12eb5d",
   "metadata": {},
   "outputs": [
    {
     "data": {
      "text/plain": [
       "2j"
      ]
     },
     "execution_count": 62,
     "metadata": {},
     "output_type": "execute_result"
    }
   ],
   "source": [
    "1j + 1J"
   ]
  },
  {
   "cell_type": "code",
   "execution_count": 66,
   "id": "09946845",
   "metadata": {},
   "outputs": [
    {
     "data": {
      "text/plain": [
       "(3+4j)"
      ]
     },
     "execution_count": 66,
     "metadata": {},
     "output_type": "execute_result"
    }
   ],
   "source": [
    "(2 + 1j) * (2 + 1J) \n",
    "# 2*2 + 2j + 2J + 1jJ (J = j - 1 and j*J = 1)\n",
    "# 4 + 2j + 2(j-1) + 1(1)\n",
    "# 4 + 2j + 2j - 2 + 1\n",
    "# 3 + 4j"
   ]
  },
  {
   "cell_type": "code",
   "execution_count": 69,
   "id": "d9598122",
   "metadata": {},
   "outputs": [
    {
     "data": {
      "text/plain": [
       "(11+52j)"
      ]
     },
     "execution_count": 69,
     "metadata": {},
     "output_type": "execute_result"
    }
   ],
   "source": [
    "(8 + 7j) * (4 + 3j) \n",
    "# 32 + 28j + 24j + 21(-1)  (j*j = -1)\n",
    "# 11 + 52j"
   ]
  },
  {
   "cell_type": "code",
   "execution_count": 78,
   "id": "8a910c28",
   "metadata": {},
   "outputs": [
    {
     "data": {
      "text/plain": [
       "(5-0j)"
      ]
     },
     "execution_count": 78,
     "metadata": {},
     "output_type": "execute_result"
    }
   ],
   "source": [
    "a = 5.0 + 0j\n",
    "a.conjugate()\n",
    "#  complex.conjugate() -> complex\n",
    "# Return the complex conjugate of its argument. (3-4j).conjugate() == 3+4j."
   ]
  },
  {
   "cell_type": "code",
   "execution_count": 93,
   "id": "7a070abf",
   "metadata": {},
   "outputs": [
    {
     "data": {
      "text/plain": [
       "(-5.0, 5)"
      ]
     },
     "execution_count": 93,
     "metadata": {},
     "output_type": "execute_result"
    }
   ],
   "source": [
    "a,b = - 5.0,5\n",
    "a.conjugate(),b.conjugate()\n",
    "# conjugate() method of float instance and int instance Return self,the complex conjugate of any float."
   ]
  },
  {
   "cell_type": "markdown",
   "id": "d1946a77",
   "metadata": {},
   "source": [
    "<h2 style='color:blue' > Hex, Octal, Binary Conversions </h2>\n",
    "\n",
    "- Integers may be coded in...\n",
    "    * decimal (base 10)\n",
    "    * hexadecimal (base 16)\n",
    "    * octal (base 8)\n",
    "    * binary (base 2)\n",
    "- Hexadecimals start with a leading 0x or 0X followed by a string of hexadecimal digits (0–9 and A–F). \n",
    "- Hex digits may be coded in lower- or uppercase.\n",
    "- Octal literals start with a leading 0o or 0O (zero and lower- or uppercase letter o) followed by a string of digits (0–7).\n",
    "- Binary literals begin with a leading 0b or 0B followed by binary digits (0–1).\n",
    "- The built-in calls hex(I), oct(I), and bin(I) convert an integer to its representation string in these three bases.\n",
    "- int(str, base) converts a runtime string to an integer per a given base."
   ]
  },
  {
   "cell_type": "code",
   "execution_count": 96,
   "id": "8519229b",
   "metadata": {},
   "outputs": [
    {
     "data": {
      "text/plain": [
       "('0b10101010', '0o252', '0xaa')"
      ]
     },
     "execution_count": 96,
     "metadata": {},
     "output_type": "execute_result"
    }
   ],
   "source": [
    "A = 170\n",
    "bin(A),oct(A),hex(A)"
   ]
  },
  {
   "cell_type": "code",
   "execution_count": 98,
   "id": "052e503b",
   "metadata": {},
   "outputs": [
    {
     "data": {
      "text/plain": [
       "747"
      ]
     },
     "execution_count": 98,
     "metadata": {},
     "output_type": "execute_result"
    }
   ],
   "source": [
    "# binary to decimal\n",
    "A = '0b1011101011'\n",
    "int(A,2)"
   ]
  },
  {
   "cell_type": "code",
   "execution_count": 99,
   "id": "d643afbb",
   "metadata": {},
   "outputs": [
    {
     "data": {
      "text/plain": [
       "'0o1353'"
      ]
     },
     "execution_count": 99,
     "metadata": {},
     "output_type": "execute_result"
    }
   ],
   "source": [
    "# binary to octral\n",
    "A = '0b1011101011'\n",
    "oct(int(A,2))"
   ]
  },
  {
   "cell_type": "code",
   "execution_count": 102,
   "id": "d63bacc0",
   "metadata": {},
   "outputs": [
    {
     "data": {
      "text/plain": [
       "'0x2eb'"
      ]
     },
     "execution_count": 102,
     "metadata": {},
     "output_type": "execute_result"
    }
   ],
   "source": [
    "# binary to hexa-decimal\n",
    "A = '0b1011101011'\n",
    "hex(int(A,2))"
   ]
  },
  {
   "cell_type": "code",
   "execution_count": 119,
   "id": "f0cbb520",
   "metadata": {},
   "outputs": [
    {
     "data": {
      "text/plain": [
       "(7, 7)"
      ]
     },
     "execution_count": 119,
     "metadata": {},
     "output_type": "execute_result"
    }
   ],
   "source": [
    "# measure a lenght of binary number..\n",
    "X = 99\n",
    "len(bin(X)) - 2 , X.bit_length() # -2 because 0b,0x and 0o"
   ]
  },
  {
   "cell_type": "code",
   "execution_count": 103,
   "id": "ce4468b5",
   "metadata": {},
   "outputs": [
    {
     "data": {
      "text/plain": [
       "974"
      ]
     },
     "execution_count": 103,
     "metadata": {},
     "output_type": "execute_result"
    }
   ],
   "source": [
    "# octtral to decimal\n",
    "A = '0o1716'\n",
    "int(A,8)"
   ]
  },
  {
   "cell_type": "code",
   "execution_count": 104,
   "id": "99bedd6c",
   "metadata": {},
   "outputs": [
    {
     "data": {
      "text/plain": [
       "'0b1111001110'"
      ]
     },
     "execution_count": 104,
     "metadata": {},
     "output_type": "execute_result"
    }
   ],
   "source": [
    "# octtral to binary\n",
    "A = '0o1716'\n",
    "bin(int(A,8))"
   ]
  },
  {
   "cell_type": "code",
   "execution_count": 105,
   "id": "ececbea5",
   "metadata": {},
   "outputs": [
    {
     "data": {
      "text/plain": [
       "'0x3ce'"
      ]
     },
     "execution_count": 105,
     "metadata": {},
     "output_type": "execute_result"
    }
   ],
   "source": [
    "# octtral to hexa-decimal\n",
    "A = '0o1716'\n",
    "hex(int(A,8))"
   ]
  },
  {
   "cell_type": "code",
   "execution_count": 106,
   "id": "520a4624",
   "metadata": {},
   "outputs": [
    {
     "data": {
      "text/plain": [
       "1770"
      ]
     },
     "execution_count": 106,
     "metadata": {},
     "output_type": "execute_result"
    }
   ],
   "source": [
    "# hexa-decimal to decimal\n",
    "A = '0x6ea'\n",
    "int(A,16)"
   ]
  },
  {
   "cell_type": "code",
   "execution_count": 107,
   "id": "30284f14",
   "metadata": {},
   "outputs": [
    {
     "data": {
      "text/plain": [
       "'0b11011101010'"
      ]
     },
     "execution_count": 107,
     "metadata": {},
     "output_type": "execute_result"
    }
   ],
   "source": [
    "# hexa-decimal to binary\n",
    "A = '0x6ea'\n",
    "bin(int(A,16))"
   ]
  },
  {
   "cell_type": "code",
   "execution_count": 108,
   "id": "2d714f4e",
   "metadata": {},
   "outputs": [
    {
     "data": {
      "text/plain": [
       "'0o3352'"
      ]
     },
     "execution_count": 108,
     "metadata": {},
     "output_type": "execute_result"
    }
   ],
   "source": [
    "# hexa-decimal to octral\n",
    "A = '0x6ea'\n",
    "oct(int(A,16))"
   ]
  },
  {
   "cell_type": "markdown",
   "id": "9c6b162e",
   "metadata": {},
   "source": [
    "- The eval function treats strings as a Python code.\n",
    "- Therefore it has a similar effect but usually runs more slowly.\n",
    "- it actually compiles and runs the string as a piece of a program\n",
    "- <span style='color:red' > eval function assumes that the string being run comes from a trusted source so a clever user might be able to submit a string that deletes files on your machine so be careful with this call."
   ]
  },
  {
   "cell_type": "code",
   "execution_count": 111,
   "id": "53e21a79",
   "metadata": {},
   "outputs": [
    {
     "data": {
      "text/plain": [
       "(64, 1000, 77, 88)"
      ]
     },
     "execution_count": 111,
     "metadata": {},
     "output_type": "execute_result"
    }
   ],
   "source": [
    "eval('64'), eval('0o1750'), eval('0x4d'), eval('0b1011000')"
   ]
  },
  {
   "cell_type": "markdown",
   "id": "9cdcf12d",
   "metadata": {},
   "source": [
    "Bitwise Operations\n",
    "Besides the Arithmetic operations (addition, subtraction, and so on) Python also supports Bitwise Operation."
   ]
  },
  {
   "cell_type": "code",
   "execution_count": 112,
   "id": "ea9a9aa6",
   "metadata": {},
   "outputs": [
    {
     "data": {
      "text/plain": [
       "40"
      ]
     },
     "execution_count": 112,
     "metadata": {},
     "output_type": "execute_result"
    }
   ],
   "source": [
    "x = 10 # 10 decimal is 1010 in bits\n",
    "x << 2 # Shift left 2 bits: 101000"
   ]
  },
  {
   "cell_type": "code",
   "execution_count": 113,
   "id": "fb1fbf63",
   "metadata": {},
   "outputs": [
    {
     "data": {
      "text/plain": [
       "2"
      ]
     },
     "execution_count": 113,
     "metadata": {},
     "output_type": "execute_result"
    }
   ],
   "source": [
    "x >> 2 # Shift right 2 bits: 10"
   ]
  },
  {
   "cell_type": "code",
   "execution_count": 115,
   "id": "e9096b0b",
   "metadata": {},
   "outputs": [
    {
     "data": {
      "text/plain": [
       "10"
      ]
     },
     "execution_count": 115,
     "metadata": {},
     "output_type": "execute_result"
    }
   ],
   "source": [
    "# Bitwise OR (both 0 then only 0 else 1)\n",
    "x | 2  # 1010 | 0010 = 1010"
   ]
  },
  {
   "cell_type": "code",
   "execution_count": 116,
   "id": "13830caf",
   "metadata": {},
   "outputs": [
    {
     "data": {
      "text/plain": [
       "0"
      ]
     },
     "execution_count": 116,
     "metadata": {},
     "output_type": "execute_result"
    }
   ],
   "source": [
    "# Bitwise AND (both bits=1 then only 1 else 0)\n",
    "x & 1 # 1010 & 0001 = 0000"
   ]
  },
  {
   "cell_type": "markdown",
   "id": "384b71f0",
   "metadata": {},
   "source": [
    "<h2 style='color:blue' > Built-in Numeric Tools </h2>"
   ]
  },
  {
   "cell_type": "code",
   "execution_count": 120,
   "id": "927bd485",
   "metadata": {},
   "outputs": [
    {
     "data": {
      "text/plain": [
       "(3.141592653589793, 2.718281828459045)"
      ]
     },
     "execution_count": 120,
     "metadata": {},
     "output_type": "execute_result"
    }
   ],
   "source": [
    "import math\n",
    "math.pi, math.e"
   ]
  },
  {
   "cell_type": "code",
   "execution_count": 121,
   "id": "384527ef",
   "metadata": {},
   "outputs": [
    {
     "data": {
      "text/plain": [
       "0.03489949670250097"
      ]
     },
     "execution_count": 121,
     "metadata": {},
     "output_type": "execute_result"
    }
   ],
   "source": [
    "math.sin(2 * math.pi / 180)"
   ]
  },
  {
   "cell_type": "code",
   "execution_count": 122,
   "id": "df780207",
   "metadata": {},
   "outputs": [
    {
     "data": {
      "text/plain": [
       "(16, 16, 16.0)"
      ]
     },
     "execution_count": 122,
     "metadata": {},
     "output_type": "execute_result"
    }
   ],
   "source": [
    "pow(2, 4), 2 ** 4, 2.0 ** 4.0 # Exponentiation (power)"
   ]
  },
  {
   "cell_type": "code",
   "execution_count": 126,
   "id": "3f1eed8b",
   "metadata": {},
   "outputs": [
    {
     "data": {
      "text/plain": [
       "42.0"
      ]
     },
     "execution_count": 126,
     "metadata": {},
     "output_type": "execute_result"
    }
   ],
   "source": [
    "abs(-42.0) # Absolute value"
   ]
  },
  {
   "cell_type": "code",
   "execution_count": 127,
   "id": "8a24537f",
   "metadata": {},
   "outputs": [
    {
     "data": {
      "text/plain": [
       "10"
      ]
     },
     "execution_count": 127,
     "metadata": {},
     "output_type": "execute_result"
    }
   ],
   "source": [
    "sum((1, 2, 3, 4)) # summation"
   ]
  },
  {
   "cell_type": "code",
   "execution_count": 128,
   "id": "1df25e65",
   "metadata": {},
   "outputs": [
    {
     "data": {
      "text/plain": [
       "1"
      ]
     },
     "execution_count": 128,
     "metadata": {},
     "output_type": "execute_result"
    }
   ],
   "source": [
    "min(3, 1, 2, 4) # Minimum"
   ]
  },
  {
   "cell_type": "code",
   "execution_count": 129,
   "id": "818e9294",
   "metadata": {},
   "outputs": [
    {
     "data": {
      "text/plain": [
       "4"
      ]
     },
     "execution_count": 129,
     "metadata": {},
     "output_type": "execute_result"
    }
   ],
   "source": [
    "max(3, 1, 2, 4) # maximum"
   ]
  },
  {
   "cell_type": "code",
   "execution_count": 130,
   "id": "9336e4cd",
   "metadata": {},
   "outputs": [
    {
     "data": {
      "text/plain": [
       "3"
      ]
     },
     "execution_count": 130,
     "metadata": {},
     "output_type": "execute_result"
    }
   ],
   "source": [
    "round(2.567804567)"
   ]
  },
  {
   "cell_type": "code",
   "execution_count": 131,
   "id": "e425f72c",
   "metadata": {},
   "outputs": [
    {
     "data": {
      "text/plain": [
       "2.57"
      ]
     },
     "execution_count": 131,
     "metadata": {},
     "output_type": "execute_result"
    }
   ],
   "source": [
    "round(2.567, 2)"
   ]
  },
  {
   "cell_type": "markdown",
   "id": "bae05e86",
   "metadata": {},
   "source": [
    "- there are three ways to compute square roots in Python"
   ]
  },
  {
   "cell_type": "code",
   "execution_count": 132,
   "id": "7f034797",
   "metadata": {},
   "outputs": [
    {
     "data": {
      "text/plain": [
       "12.0"
      ]
     },
     "execution_count": 132,
     "metadata": {},
     "output_type": "execute_result"
    }
   ],
   "source": [
    "import math\n",
    "math.sqrt(144) # using Module"
   ]
  },
  {
   "cell_type": "code",
   "execution_count": 133,
   "id": "8a1f3daa",
   "metadata": {},
   "outputs": [
    {
     "data": {
      "text/plain": [
       "12.0"
      ]
     },
     "execution_count": 133,
     "metadata": {},
     "output_type": "execute_result"
    }
   ],
   "source": [
    "144 ** .5 # using Expression"
   ]
  },
  {
   "cell_type": "code",
   "execution_count": 134,
   "id": "d40471e8",
   "metadata": {},
   "outputs": [
    {
     "data": {
      "text/plain": [
       "12.0"
      ]
     },
     "execution_count": 134,
     "metadata": {},
     "output_type": "execute_result"
    }
   ],
   "source": [
    "pow(144, .5) # using Built-in function"
   ]
  },
  {
   "cell_type": "markdown",
   "id": "4f5c4bf3",
   "metadata": {},
   "source": [
    "<h2 style='color:blue' > Decimal Type </h2>\n",
    "\n",
    "- In Python 2.4 new core numeric type the decimal object is introduced formally known as Decimal.\n",
    "- we able to create decimals by calling a function within an imported module rather than running a literal expression.\n",
    "- decimals are like floating-point numbers but they have a fixed number of decimal points.\n",
    "- Hence, decimals are also called as a fixed-precision floating-point values.\n",
    "- For Ex. :- with decimals we can have a floating-point value that always retains just two decimal digits.\n",
    "-  decimal type is still relatively rare in practice."
   ]
  },
  {
   "cell_type": "code",
   "execution_count": 136,
   "id": "cc09a09a",
   "metadata": {},
   "outputs": [
    {
     "name": "stdout",
     "output_type": "stream",
     "text": [
      "5.551115123125783e-17\n"
     ]
    }
   ],
   "source": [
    "print(0.1 + 0.1 + 0.1 - 0.3)"
   ]
  },
  {
   "cell_type": "code",
   "execution_count": 1,
   "id": "e1fe4748",
   "metadata": {},
   "outputs": [
    {
     "data": {
      "text/plain": [
       "Decimal('0.0')"
      ]
     },
     "execution_count": 1,
     "metadata": {},
     "output_type": "execute_result"
    }
   ],
   "source": [
    "from decimal import Decimal\n",
    "Decimal('0.1') + Decimal('0.1') + Decimal('0.1') - Decimal('0.3')"
   ]
  },
  {
   "cell_type": "code",
   "execution_count": 2,
   "id": "30e598db",
   "metadata": {},
   "outputs": [
    {
     "data": {
      "text/plain": [
       "Decimal('0.00000')"
      ]
     },
     "execution_count": 2,
     "metadata": {},
     "output_type": "execute_result"
    }
   ],
   "source": [
    "Decimal('0.10000') + Decimal('0.10000') + Decimal('0.10000') - Decimal('0.30000')"
   ]
  },
  {
   "cell_type": "code",
   "execution_count": 3,
   "id": "e8256b15",
   "metadata": {},
   "outputs": [
    {
     "data": {
      "text/plain": [
       "Decimal('0.10000')"
      ]
     },
     "execution_count": 3,
     "metadata": {},
     "output_type": "execute_result"
    }
   ],
   "source": [
    "Decimal('0.20000') + Decimal('0.10') + Decimal('0.100') - Decimal('0.3')"
   ]
  },
  {
   "cell_type": "code",
   "execution_count": 4,
   "id": "fa404d73",
   "metadata": {},
   "outputs": [
    {
     "data": {
      "text/plain": [
       "Decimal('0.1428571428571428571428571429')"
      ]
     },
     "execution_count": 4,
     "metadata": {},
     "output_type": "execute_result"
    }
   ],
   "source": [
    "Decimal(1) / Decimal(7)"
   ]
  },
  {
   "cell_type": "code",
   "execution_count": 5,
   "id": "a8ffbb1d",
   "metadata": {},
   "outputs": [
    {
     "data": {
      "text/plain": [
       "Decimal('0.1429')"
      ]
     },
     "execution_count": 5,
     "metadata": {},
     "output_type": "execute_result"
    }
   ],
   "source": [
    "from decimal import getcontext\n",
    "getcontext().prec = 4 # Fixed precisionDecimal(1) / Decimal(7)"
   ]
  },
  {
   "cell_type": "code",
   "execution_count": 8,
   "id": "f1ab8537",
   "metadata": {},
   "outputs": [
    {
     "data": {
      "text/plain": [
       "1.78"
      ]
     },
     "execution_count": 8,
     "metadata": {},
     "output_type": "execute_result"
    }
   ],
   "source": [
    "float(Decimal(1.78))"
   ]
  },
  {
   "cell_type": "markdown",
   "id": "f4d36cea",
   "metadata": {},
   "source": [
    "<h2 style='color:blue' > Fraction Type </h2>\n",
    "\n",
    "- In Python 2.6 new core numeric type the fraction object is introduced formally known as Fraction.\n",
    "- Fraction implements a rational number object.\n",
    "- Fraction keeps both a numerator and a denominator to avoid some of the inaccuracies and limitations of floating-point math.\n",
    "- Fraction resides in a module.\n",
    "- we able to create Fraction by calling a function within an imported module rather than running a literal expression."
   ]
  },
  {
   "cell_type": "code",
   "execution_count": 9,
   "id": "6db3fb2d",
   "metadata": {},
   "outputs": [],
   "source": [
    "from fractions import Fraction\n",
    "x = Fraction(1, 3)\n",
    "y = Fraction(4, 6)"
   ]
  },
  {
   "cell_type": "code",
   "execution_count": 15,
   "id": "baa9072e",
   "metadata": {},
   "outputs": [
    {
     "data": {
      "text/plain": [
       "Fraction(1, 3)"
      ]
     },
     "execution_count": 15,
     "metadata": {},
     "output_type": "execute_result"
    }
   ],
   "source": [
    "x"
   ]
  },
  {
   "cell_type": "code",
   "execution_count": 16,
   "id": "3393028b",
   "metadata": {},
   "outputs": [
    {
     "name": "stdout",
     "output_type": "stream",
     "text": [
      "1/3\n"
     ]
    }
   ],
   "source": [
    "print(x)"
   ]
  },
  {
   "cell_type": "code",
   "execution_count": 17,
   "id": "eb863b7d",
   "metadata": {},
   "outputs": [
    {
     "data": {
      "text/plain": [
       "Fraction(2, 3)"
      ]
     },
     "execution_count": 17,
     "metadata": {},
     "output_type": "execute_result"
    }
   ],
   "source": [
    "y"
   ]
  },
  {
   "cell_type": "code",
   "execution_count": 18,
   "id": "7d6c6bea",
   "metadata": {},
   "outputs": [
    {
     "name": "stdout",
     "output_type": "stream",
     "text": [
      "2/3\n"
     ]
    }
   ],
   "source": [
    "print(y)"
   ]
  },
  {
   "cell_type": "code",
   "execution_count": 19,
   "id": "d3313ee8",
   "metadata": {},
   "outputs": [
    {
     "data": {
      "text/plain": [
       "Fraction(1, 1)"
      ]
     },
     "execution_count": 19,
     "metadata": {},
     "output_type": "execute_result"
    }
   ],
   "source": [
    "x + y"
   ]
  },
  {
   "cell_type": "code",
   "execution_count": 22,
   "id": "7ac7c7fd",
   "metadata": {},
   "outputs": [
    {
     "data": {
      "text/plain": [
       "Fraction(-1, 3)"
      ]
     },
     "execution_count": 22,
     "metadata": {},
     "output_type": "execute_result"
    }
   ],
   "source": [
    "x - y "
   ]
  },
  {
   "cell_type": "code",
   "execution_count": 23,
   "id": "fc1e5c39",
   "metadata": {},
   "outputs": [
    {
     "data": {
      "text/plain": [
       "Fraction(2, 9)"
      ]
     },
     "execution_count": 23,
     "metadata": {},
     "output_type": "execute_result"
    }
   ],
   "source": [
    "x * y"
   ]
  },
  {
   "cell_type": "markdown",
   "id": "954e64df",
   "metadata": {},
   "source": [
    "- Fraction objects can also be created from floating-point number strings."
   ]
  },
  {
   "cell_type": "code",
   "execution_count": 24,
   "id": "e276696c",
   "metadata": {},
   "outputs": [
    {
     "data": {
      "text/plain": [
       "(Fraction(1, 4), Fraction(5, 4))"
      ]
     },
     "execution_count": 24,
     "metadata": {},
     "output_type": "execute_result"
    }
   ],
   "source": [
    "Fraction('.25'),Fraction('1.25')"
   ]
  },
  {
   "cell_type": "code",
   "execution_count": 25,
   "id": "b0540147",
   "metadata": {},
   "outputs": [
    {
     "data": {
      "text/plain": [
       "Fraction(3, 2)"
      ]
     },
     "execution_count": 25,
     "metadata": {},
     "output_type": "execute_result"
    }
   ],
   "source": [
    "Fraction('.25') + Fraction('1.25')"
   ]
  },
  {
   "cell_type": "code",
   "execution_count": 26,
   "id": "cd73ed1a",
   "metadata": {},
   "outputs": [
    {
     "data": {
      "text/plain": [
       "5.551115123125783e-17"
      ]
     },
     "execution_count": 26,
     "metadata": {},
     "output_type": "execute_result"
    }
   ],
   "source": [
    "0.1 + 0.1 + 0.1 - 0.3 "
   ]
  },
  {
   "cell_type": "code",
   "execution_count": 30,
   "id": "011d0824",
   "metadata": {},
   "outputs": [
    {
     "data": {
      "text/plain": [
       "Fraction(0, 1)"
      ]
     },
     "execution_count": 30,
     "metadata": {},
     "output_type": "execute_result"
    }
   ],
   "source": [
    "Fraction('0.1') + Fraction('0.1') + Fraction('0.1') - Fraction('0.3')"
   ]
  },
  {
   "cell_type": "code",
   "execution_count": 31,
   "id": "043ac8d7",
   "metadata": {},
   "outputs": [
    {
     "name": "stdout",
     "output_type": "stream",
     "text": [
      "0\n"
     ]
    }
   ],
   "source": [
    "print(Fraction('0.1') + Fraction('0.1') + Fraction('0.1') - Fraction('0.3'))"
   ]
  },
  {
   "cell_type": "code",
   "execution_count": 33,
   "id": "d3425e7a",
   "metadata": {},
   "outputs": [
    {
     "data": {
      "text/plain": [
       "(5, 2)"
      ]
     },
     "execution_count": 33,
     "metadata": {},
     "output_type": "execute_result"
    }
   ],
   "source": [
    "A = (2.5).as_integer_ratio() # other way to create a fracton\n",
    "A"
   ]
  },
  {
   "cell_type": "code",
   "execution_count": 35,
   "id": "04fc6858",
   "metadata": {},
   "outputs": [
    {
     "name": "stdout",
     "output_type": "stream",
     "text": [
      "(5, 2)\n"
     ]
    }
   ],
   "source": [
    "print(A)"
   ]
  },
  {
   "cell_type": "code",
   "execution_count": 37,
   "id": "01ce7ab0",
   "metadata": {},
   "outputs": [
    {
     "data": {
      "text/plain": [
       "Fraction(5, 2)"
      ]
     },
     "execution_count": 37,
     "metadata": {},
     "output_type": "execute_result"
    }
   ],
   "source": [
    "z = Fraction(*(2.5).as_integer_ratio()) # Convert float -> fraction: two args\n",
    "z"
   ]
  },
  {
   "cell_type": "code",
   "execution_count": 38,
   "id": "f2c96840",
   "metadata": {},
   "outputs": [
    {
     "name": "stdout",
     "output_type": "stream",
     "text": [
      "5/2\n"
     ]
    }
   ],
   "source": [
    "print(z)"
   ]
  },
  {
   "cell_type": "code",
   "execution_count": 40,
   "id": "d17e4513",
   "metadata": {},
   "outputs": [
    {
     "data": {
      "text/plain": [
       "Fraction(7, 4)"
      ]
     },
     "execution_count": 40,
     "metadata": {},
     "output_type": "execute_result"
    }
   ],
   "source": [
    "Fraction.from_float(1.75) # Convert float -> fraction: other way"
   ]
  },
  {
   "cell_type": "markdown",
   "id": "26599f25",
   "metadata": {},
   "source": [
    "<h2 style='color:Blue' > Set Datatype </h2>"
   ]
  },
  {
   "cell_type": "markdown",
   "id": "14ea61c3",
   "metadata": {},
   "source": [
    "- Sets are a recent addition to the language that are neither mappings nor sequences.\n",
    "- Sets are used to store multiple items in a single variable.\n",
    "- Sets are unordered (unindexed) collections of unique and immutable (unchangeable) objects.\n",
    "- Set items are unchangeable, but you can remove items and add new items\n",
    "- we can able to create sets by calling the built-in set function or using new set literals.\n",
    "- the choice of new {...} syntax for set literals makes sense.\n",
    "- since, sets are much like the keys of a valueless dictionary that is the reason that set can't contain duplicate data.\n",
    "- The values True and 1 are considered the same value in sets and are treated as duplicates."
   ]
  },
  {
   "cell_type": "markdown",
   "id": "fd0055b1",
   "metadata": {},
   "source": [
    "<h2 style='color:#898121' > Set Creation </h2>"
   ]
  },
  {
   "cell_type": "code",
   "execution_count": 1,
   "id": "a68073ec",
   "metadata": {},
   "outputs": [
    {
     "data": {
      "text/plain": [
       "{'a', 'm', 'p', 's'}"
      ]
     },
     "execution_count": 1,
     "metadata": {},
     "output_type": "execute_result"
    }
   ],
   "source": [
    "# creating a set with built-in function\n",
    "X = set('spam')\n",
    "X"
   ]
  },
  {
   "cell_type": "code",
   "execution_count": 2,
   "id": "6e57ecd4",
   "metadata": {},
   "outputs": [
    {
     "data": {
      "text/plain": [
       "{'a', 'h', 'm'}"
      ]
     },
     "execution_count": 2,
     "metadata": {},
     "output_type": "execute_result"
    }
   ],
   "source": [
    "# creating a set with set literals\n",
    "Y = {'h', 'a', 'm'}\n",
    "Y"
   ]
  },
  {
   "cell_type": "code",
   "execution_count": 3,
   "id": "73699e92",
   "metadata": {},
   "outputs": [
    {
     "data": {
      "text/plain": [
       "(4, 3)"
      ]
     },
     "execution_count": 3,
     "metadata": {},
     "output_type": "execute_result"
    }
   ],
   "source": [
    "#  Length of a Set :- To determine how many items a set len() function is used.\n",
    "len(X),len(Y)"
   ]
  },
  {
   "cell_type": "code",
   "execution_count": 4,
   "id": "8bef6a37",
   "metadata": {},
   "outputs": [
    {
     "data": {
      "text/plain": [
       "(set, set)"
      ]
     },
     "execution_count": 4,
     "metadata": {},
     "output_type": "execute_result"
    }
   ],
   "source": [
    "# sets are defined as objects with the data type 'set'\n",
    "type(X),type(Y)"
   ]
  },
  {
   "cell_type": "code",
   "execution_count": 5,
   "id": "8b082e8b",
   "metadata": {},
   "outputs": [
    {
     "data": {
      "text/plain": [
       "{0, True, 'X', 'Y', 'Z'}"
      ]
     },
     "execution_count": 5,
     "metadata": {},
     "output_type": "execute_result"
    }
   ],
   "source": [
    "set1 = {\"X\", \"Y\", \"Z\", True, 1, 0,False}\n",
    "set1"
   ]
  },
  {
   "cell_type": "markdown",
   "id": "36b88bc6",
   "metadata": {},
   "source": [
    "- we can't able to create a empty set using {}.\n",
    "- {} is considerd as an empty dictionary in all Pythons.\n",
    "- Empty sets must be created with the set built-in constructor and print the same way."
   ]
  },
  {
   "cell_type": "code",
   "execution_count": 6,
   "id": "620c6649",
   "metadata": {},
   "outputs": [
    {
     "data": {
      "text/plain": [
       "set()"
      ]
     },
     "execution_count": 6,
     "metadata": {},
     "output_type": "execute_result"
    }
   ],
   "source": [
    "S1 = set()\n",
    "S1"
   ]
  },
  {
   "cell_type": "code",
   "execution_count": 7,
   "id": "818f4300",
   "metadata": {},
   "outputs": [
    {
     "data": {
      "text/plain": [
       "dict"
      ]
     },
     "execution_count": 7,
     "metadata": {},
     "output_type": "execute_result"
    }
   ],
   "source": [
    "type({}) # Because {} is an empty dictionary"
   ]
  },
  {
   "cell_type": "markdown",
   "id": "fcf1d671",
   "metadata": {},
   "source": [
    "<h2 style='color:#898121' > Access Items </h2>"
   ]
  },
  {
   "cell_type": "markdown",
   "id": "f3e5f71e",
   "metadata": {},
   "source": [
    "- we cannot access items in a set by referring to an index or a key as set is unordered."
   ]
  },
  {
   "cell_type": "code",
   "execution_count": 8,
   "id": "2f07a902",
   "metadata": {},
   "outputs": [
    {
     "data": {
      "text/plain": [
       "{'H', 'e', 'h', 'i', 's', 't'}"
      ]
     },
     "execution_count": 8,
     "metadata": {},
     "output_type": "execute_result"
    }
   ],
   "source": [
    "S = set(\"Hitesh\")\n",
    "S"
   ]
  },
  {
   "cell_type": "code",
   "execution_count": 9,
   "id": "3a7b9663",
   "metadata": {},
   "outputs": [
    {
     "ename": "TypeError",
     "evalue": "'set' object is not subscriptable",
     "output_type": "error",
     "traceback": [
      "\u001b[1;31m---------------------------------------------------------------------------\u001b[0m",
      "\u001b[1;31mTypeError\u001b[0m                                 Traceback (most recent call last)",
      "Input \u001b[1;32mIn [9]\u001b[0m, in \u001b[0;36m<cell line: 2>\u001b[1;34m()\u001b[0m\n\u001b[0;32m      1\u001b[0m \u001b[38;5;66;03m# it is wrong and raisde an error that 'set' object is not subscriptable\u001b[39;00m\n\u001b[0;32m      2\u001b[0m \u001b[38;5;28;01mfor\u001b[39;00m i \u001b[38;5;129;01min\u001b[39;00m \u001b[38;5;28mrange\u001b[39m(\u001b[38;5;28mlen\u001b[39m(S)):\n\u001b[1;32m----> 3\u001b[0m     \u001b[38;5;28mprint\u001b[39m(\u001b[43mS\u001b[49m\u001b[43m[\u001b[49m\u001b[43mi\u001b[49m\u001b[43m]\u001b[49m)\n",
      "\u001b[1;31mTypeError\u001b[0m: 'set' object is not subscriptable"
     ]
    }
   ],
   "source": [
    "# it is wrong and raisde an error that 'set' object is not subscriptable\n",
    "for i in range(len(S)):\n",
    "    print(S[i])"
   ]
  },
  {
   "cell_type": "code",
   "execution_count": 10,
   "id": "c7304406",
   "metadata": {},
   "outputs": [
    {
     "name": "stdout",
     "output_type": "stream",
     "text": [
      "i\n",
      "t\n",
      "h\n",
      "s\n",
      "e\n",
      "H\n"
     ]
    }
   ],
   "source": [
    "#  in-order to acess items in set we need to use membership operator with for loop\n",
    "for i in S:\n",
    "    print(i)"
   ]
  },
  {
   "cell_type": "markdown",
   "id": "0f650b2c",
   "metadata": {},
   "source": [
    "<h2 style='color:#898121' > Set Tests </h2>"
   ]
  },
  {
   "cell_type": "code",
   "execution_count": 11,
   "id": "270d4ef7",
   "metadata": {},
   "outputs": [
    {
     "name": "stdout",
     "output_type": "stream",
     "text": [
      "True False False\n"
     ]
    }
   ],
   "source": [
    "# membership test\n",
    "S = set('purvi')\n",
    "print('i' in S,'h' in S,'r' not in S)"
   ]
  },
  {
   "cell_type": "code",
   "execution_count": 12,
   "id": "060f6689",
   "metadata": {},
   "outputs": [
    {
     "name": "stdout",
     "output_type": "stream",
     "text": [
      "False\n"
     ]
    }
   ],
   "source": [
    "# object identity test\n",
    "S1 = set('Ramesh')\n",
    "S2 = set('Reshma')\n",
    "print(S1 is S2)"
   ]
  },
  {
   "cell_type": "code",
   "execution_count": 13,
   "id": "d106649f",
   "metadata": {},
   "outputs": [
    {
     "name": "stdout",
     "output_type": "stream",
     "text": [
      "False\n"
     ]
    }
   ],
   "source": [
    "# object identity test\n",
    "S1 = set('Reshma')\n",
    "S2 = set('Reshma')\n",
    "print(S1 is S2)"
   ]
  },
  {
   "cell_type": "markdown",
   "id": "c0348bfd",
   "metadata": {},
   "source": [
    "<h2 style='color:#898121' > Add Items </h2>"
   ]
  },
  {
   "cell_type": "markdown",
   "id": "9aa3e2e1",
   "metadata": {},
   "source": [
    "- Once a set is created we cannot change its items but we can add new items.\n",
    "- To add one new item to a set use the add() method."
   ]
  },
  {
   "cell_type": "code",
   "execution_count": 14,
   "id": "855bbdd7",
   "metadata": {},
   "outputs": [
    {
     "data": {
      "text/plain": [
       "{'a', 'b', 'c', 'd', 'e'}"
      ]
     },
     "execution_count": 14,
     "metadata": {},
     "output_type": "execute_result"
    }
   ],
   "source": [
    "S1 = {'a','b','c','d'}\n",
    "S1.add('e')\n",
    "S1"
   ]
  },
  {
   "cell_type": "markdown",
   "id": "f9478e7d",
   "metadata": {},
   "source": [
    "- To add more than one item from another collection type into the current set use the update() method."
   ]
  },
  {
   "cell_type": "code",
   "execution_count": 15,
   "id": "a842a734",
   "metadata": {},
   "outputs": [
    {
     "data": {
      "text/plain": [
       "{'P', 'R', 'a', 'e', 'h', 'i', 'm', 'r', 's', 'u', 'v'}"
      ]
     },
     "execution_count": 15,
     "metadata": {},
     "output_type": "execute_result"
    }
   ],
   "source": [
    "S1 = set('Purvi')\n",
    "S2 = set('Reshma')\n",
    "S1.update(S2)\n",
    "S1"
   ]
  },
  {
   "cell_type": "code",
   "execution_count": 16,
   "id": "ad3f14c1",
   "metadata": {},
   "outputs": [
    {
     "data": {
      "text/plain": [
       "{'P', 'R', 'a', 'e', 'h', 'i', 'm', 'r', 's', 'u', 'v'}"
      ]
     },
     "execution_count": 16,
     "metadata": {},
     "output_type": "execute_result"
    }
   ],
   "source": [
    "S1 = set('Purvi')\n",
    "S2 = list('Reshma')\n",
    "S1.update(S2)\n",
    "S1"
   ]
  },
  {
   "cell_type": "markdown",
   "id": "b1de1f95",
   "metadata": {},
   "source": [
    "<h2 style='color:#898121' >  Remove Item </h2>"
   ]
  },
  {
   "cell_type": "markdown",
   "id": "a0015495",
   "metadata": {},
   "source": [
    "- To remove an item in a set use the remove() or the discard() method."
   ]
  },
  {
   "cell_type": "code",
   "execution_count": 17,
   "id": "c31f9646",
   "metadata": {},
   "outputs": [
    {
     "data": {
      "text/plain": [
       "{'a', 'c', 'd'}"
      ]
     },
     "execution_count": 17,
     "metadata": {},
     "output_type": "execute_result"
    }
   ],
   "source": [
    "S1 = {'a','b','c','d'}\n",
    "S1.remove('b')\n",
    "S1"
   ]
  },
  {
   "cell_type": "markdown",
   "id": "f1efaaac",
   "metadata": {},
   "source": [
    "- If the item to remove does not exist, remove() will raise an error."
   ]
  },
  {
   "cell_type": "code",
   "execution_count": 18,
   "id": "d90d4782",
   "metadata": {},
   "outputs": [
    {
     "ename": "KeyError",
     "evalue": "'b'",
     "output_type": "error",
     "traceback": [
      "\u001b[1;31m---------------------------------------------------------------------------\u001b[0m",
      "\u001b[1;31mKeyError\u001b[0m                                  Traceback (most recent call last)",
      "Input \u001b[1;32mIn [18]\u001b[0m, in \u001b[0;36m<cell line: 1>\u001b[1;34m()\u001b[0m\n\u001b[1;32m----> 1\u001b[0m \u001b[43mS1\u001b[49m\u001b[38;5;241;43m.\u001b[39;49m\u001b[43mremove\u001b[49m\u001b[43m(\u001b[49m\u001b[38;5;124;43m'\u001b[39;49m\u001b[38;5;124;43mb\u001b[39;49m\u001b[38;5;124;43m'\u001b[39;49m\u001b[43m)\u001b[49m\n\u001b[0;32m      2\u001b[0m S1\n",
      "\u001b[1;31mKeyError\u001b[0m: 'b'"
     ]
    }
   ],
   "source": [
    "S1.remove('b')\n",
    "S1"
   ]
  },
  {
   "cell_type": "markdown",
   "id": "e7759bfa",
   "metadata": {},
   "source": [
    "- If the item to remove does not exist, discard() will NOT raise an error."
   ]
  },
  {
   "cell_type": "code",
   "execution_count": 19,
   "id": "3851d754",
   "metadata": {},
   "outputs": [
    {
     "data": {
      "text/plain": [
       "{'a', 'c', 'd'}"
      ]
     },
     "execution_count": 19,
     "metadata": {},
     "output_type": "execute_result"
    }
   ],
   "source": [
    "S1 = {'a','b','c','d'}\n",
    "S1.discard('b')\n",
    "S1"
   ]
  },
  {
   "cell_type": "code",
   "execution_count": 20,
   "id": "446ce630",
   "metadata": {},
   "outputs": [
    {
     "data": {
      "text/plain": [
       "{'a', 'c', 'd'}"
      ]
     },
     "execution_count": 20,
     "metadata": {},
     "output_type": "execute_result"
    }
   ],
   "source": [
    "S1.discard('b')\n",
    "S1"
   ]
  },
  {
   "cell_type": "markdown",
   "id": "384a89ed",
   "metadata": {},
   "source": [
    "- we can also use the pop() method to remove an item but this method will remove a random item.\n",
    "- so we cannot be sure what item that gets removed.\n",
    "- The return value of the pop() method is the removed item."
   ]
  },
  {
   "cell_type": "code",
   "execution_count": 21,
   "id": "d614c337",
   "metadata": {},
   "outputs": [
    {
     "data": {
      "text/plain": [
       "({'a', 'c', 'd'}, 'b')"
      ]
     },
     "execution_count": 21,
     "metadata": {},
     "output_type": "execute_result"
    }
   ],
   "source": [
    "S1 = {'a','b','c','d'}\n",
    "poped = S1.pop()\n",
    "S1,poped"
   ]
  },
  {
   "cell_type": "code",
   "execution_count": 22,
   "id": "c127bda1",
   "metadata": {},
   "outputs": [
    {
     "data": {
      "text/plain": [
       "{'a', 'd'}"
      ]
     },
     "execution_count": 22,
     "metadata": {},
     "output_type": "execute_result"
    }
   ],
   "source": [
    "S1.pop()\n",
    "S1"
   ]
  },
  {
   "cell_type": "code",
   "execution_count": 23,
   "id": "02568dfb",
   "metadata": {},
   "outputs": [
    {
     "data": {
      "text/plain": [
       "set()"
      ]
     },
     "execution_count": 23,
     "metadata": {},
     "output_type": "execute_result"
    }
   ],
   "source": [
    "# The clear() method empties the set\n",
    "S1 = {'a','b','c','d'}\n",
    "S1.clear()\n",
    "S1"
   ]
  },
  {
   "cell_type": "code",
   "execution_count": 24,
   "id": "87e54adc",
   "metadata": {},
   "outputs": [
    {
     "ename": "NameError",
     "evalue": "name 'S1' is not defined",
     "output_type": "error",
     "traceback": [
      "\u001b[1;31m---------------------------------------------------------------------------\u001b[0m",
      "\u001b[1;31mNameError\u001b[0m                                 Traceback (most recent call last)",
      "Input \u001b[1;32mIn [24]\u001b[0m, in \u001b[0;36m<cell line: 4>\u001b[1;34m()\u001b[0m\n\u001b[0;32m      2\u001b[0m S1 \u001b[38;5;241m=\u001b[39m {\u001b[38;5;124m'\u001b[39m\u001b[38;5;124ma\u001b[39m\u001b[38;5;124m'\u001b[39m,\u001b[38;5;124m'\u001b[39m\u001b[38;5;124mb\u001b[39m\u001b[38;5;124m'\u001b[39m,\u001b[38;5;124m'\u001b[39m\u001b[38;5;124mc\u001b[39m\u001b[38;5;124m'\u001b[39m,\u001b[38;5;124m'\u001b[39m\u001b[38;5;124md\u001b[39m\u001b[38;5;124m'\u001b[39m}\n\u001b[0;32m      3\u001b[0m \u001b[38;5;28;01mdel\u001b[39;00m S1\n\u001b[1;32m----> 4\u001b[0m \u001b[43mS1\u001b[49m\n",
      "\u001b[1;31mNameError\u001b[0m: name 'S1' is not defined"
     ]
    }
   ],
   "source": [
    "# The del keyword will delete the set completely\n",
    "S1 = {'a','b','c','d'}\n",
    "del S1\n",
    "S1"
   ]
  },
  {
   "cell_type": "markdown",
   "id": "66f74a92",
   "metadata": {},
   "source": [
    "<h2 style='color:blue' >  Basic Methematical operations </h2>"
   ]
  },
  {
   "cell_type": "markdown",
   "id": "c78ed0c6",
   "metadata": {},
   "source": [
    "<h2 style='color:#898121' > Join Two Sets </h2>"
   ]
  },
  {
   "cell_type": "markdown",
   "id": "bc3a346b",
   "metadata": {},
   "source": [
    "- we able to use the union() or update() method for Join Two Sets."
   ]
  },
  {
   "cell_type": "code",
   "execution_count": 42,
   "id": "992a0f32",
   "metadata": {},
   "outputs": [
    {
     "name": "stdout",
     "output_type": "stream",
     "text": [
      "{'b', 1, 2, 'c', 3, 'a'}\n"
     ]
    }
   ],
   "source": [
    "set1 = {\"a\", \"b\" , \"c\"}\n",
    "set2 = {1, 2, 3}\n",
    "set3 = set1.union(set2)\n",
    "print(set3)"
   ]
  },
  {
   "cell_type": "code",
   "execution_count": 92,
   "id": "8456ea03",
   "metadata": {},
   "outputs": [
    {
     "data": {
      "text/plain": [
       "{1, 2, 3, 'a', 'b', 'c'}"
      ]
     },
     "execution_count": 92,
     "metadata": {},
     "output_type": "execute_result"
    }
   ],
   "source": [
    "{\"a\", \"b\" , \"c\"}.union([1, 2, 3])"
   ]
  },
  {
   "cell_type": "code",
   "execution_count": 93,
   "id": "03c2b2bc",
   "metadata": {},
   "outputs": [
    {
     "data": {
      "text/plain": [
       "{1, 2, 3, 'a', 'b', 'c'}"
      ]
     },
     "execution_count": 93,
     "metadata": {},
     "output_type": "execute_result"
    }
   ],
   "source": [
    "{\"a\", \"b\" , \"c\"}.union((1, 2, 3))"
   ]
  },
  {
   "cell_type": "code",
   "execution_count": 95,
   "id": "0b9028b0",
   "metadata": {},
   "outputs": [
    {
     "data": {
      "text/plain": [
       "{1, 2, 3, 'a', 'b', 'c'}"
      ]
     },
     "execution_count": 95,
     "metadata": {},
     "output_type": "execute_result"
    }
   ],
   "source": [
    "{\"a\", \"b\" , \"c\"}.union(range(1,4))"
   ]
  },
  {
   "cell_type": "markdown",
   "id": "a2faef01",
   "metadata": {},
   "source": [
    "`|` is a symbol for union operation."
   ]
  },
  {
   "cell_type": "code",
   "execution_count": 50,
   "id": "d8770fee",
   "metadata": {},
   "outputs": [
    {
     "name": "stdout",
     "output_type": "stream",
     "text": [
      "{'b', 1, 2, 'c', 3, 'a'}\n"
     ]
    }
   ],
   "source": [
    "set1 = {\"a\", \"b\" , \"c\"}\n",
    "set2 = {1, 2, 3}\n",
    "set3 = set1 | (set2)\n",
    "print(set3)"
   ]
  },
  {
   "cell_type": "code",
   "execution_count": 46,
   "id": "40532c1f",
   "metadata": {},
   "outputs": [
    {
     "data": {
      "text/plain": [
       "{1, 2, 3, 'a', 'b', 'c'}"
      ]
     },
     "execution_count": 46,
     "metadata": {},
     "output_type": "execute_result"
    }
   ],
   "source": [
    "set1 = {\"a\", \"b\" , \"c\"}\n",
    "set2 = {1, 2, 3}\n",
    "set1.update(set2) # this is a inplace operation so if we assign it to the new variable and print it then it returns a None\n",
    "set1"
   ]
  },
  {
   "cell_type": "code",
   "execution_count": 48,
   "id": "b604a453",
   "metadata": {},
   "outputs": [
    {
     "name": "stdout",
     "output_type": "stream",
     "text": [
      "None\n"
     ]
    }
   ],
   "source": [
    "set1 = {\"a\", \"b\" , \"c\"}\n",
    "set2 = {1, 2, 3}\n",
    "set3 = set1.update(set2) # this is a inplace operation so if we assign it to the new variable and print it then \n",
    "# it returns a None\n",
    "print(set3)"
   ]
  },
  {
   "cell_type": "markdown",
   "id": "454e5120",
   "metadata": {},
   "source": [
    "<h2 style='color:#898121' > intersection </h2>"
   ]
  },
  {
   "cell_type": "markdown",
   "id": "03f34f84",
   "metadata": {},
   "source": [
    "- The intersection() method will return a new set that only contains the items that are present in both sets."
   ]
  },
  {
   "cell_type": "code",
   "execution_count": 52,
   "id": "0701349c",
   "metadata": {},
   "outputs": [
    {
     "data": {
      "text/plain": [
       "{'e', 'h', 's'}"
      ]
     },
     "execution_count": 52,
     "metadata": {},
     "output_type": "execute_result"
    }
   ],
   "source": [
    "S1 = set('Hitesh')\n",
    "S2 = set('Reshma')\n",
    "S3 = S1.intersection(S2)\n",
    "S3"
   ]
  },
  {
   "cell_type": "markdown",
   "id": "5342b8d4",
   "metadata": {},
   "source": [
    "`&` is a symbol for intersection."
   ]
  },
  {
   "cell_type": "code",
   "execution_count": 53,
   "id": "2ba02062",
   "metadata": {},
   "outputs": [
    {
     "data": {
      "text/plain": [
       "{'e', 'h', 's'}"
      ]
     },
     "execution_count": 53,
     "metadata": {},
     "output_type": "execute_result"
    }
   ],
   "source": [
    "S1 = set('Hitesh')\n",
    "S2 = set('Reshma')\n",
    "S3 = S1 & S2\n",
    "S3"
   ]
  },
  {
   "cell_type": "markdown",
   "id": "fda8c59b",
   "metadata": {},
   "source": [
    "<h2 style='color:#898121' > intersection_update </h2>"
   ]
  },
  {
   "cell_type": "markdown",
   "id": "3dd21220",
   "metadata": {},
   "source": [
    "- The intersection_update() method will Removes the items in this set that are not present in other specified set.\n",
    "- it is a inplace operation\n",
    "- for Ex. :- S1.intersection_update(S2) means it removes the items from S1 which are not in S2 modifies the S1."
   ]
  },
  {
   "cell_type": "code",
   "execution_count": 81,
   "id": "730ca248",
   "metadata": {},
   "outputs": [
    {
     "data": {
      "text/plain": [
       "{'apple', 'banana', 'cat'}"
      ]
     },
     "execution_count": 81,
     "metadata": {},
     "output_type": "execute_result"
    }
   ],
   "source": [
    "S1 = {'apple','banana','cat','dog'}\n",
    "S2 = {'apple','banana','cat','eelephant'}\n",
    "S2.intersection_update(S1) # inplace operaton\n",
    "S2"
   ]
  },
  {
   "cell_type": "code",
   "execution_count": 60,
   "id": "c42b39f3",
   "metadata": {},
   "outputs": [
    {
     "name": "stdout",
     "output_type": "stream",
     "text": [
      "{'apple'}\n"
     ]
    }
   ],
   "source": [
    "x = {\"apple\", \"banana\", \"cherry\"}\n",
    "y = {\"google\", \"microsoft\", \"apple\"}\n",
    "x.intersection_update(y) \n",
    "print(x)"
   ]
  },
  {
   "cell_type": "markdown",
   "id": "e3671314",
   "metadata": {},
   "source": [
    "<h2 style='color:#898121' > difference </h2>"
   ]
  },
  {
   "cell_type": "markdown",
   "id": "b5458ec4",
   "metadata": {},
   "source": [
    "- the s1.difference(s2) method Return a set that contains the items that only exist in set s1 and not in set s2."
   ]
  },
  {
   "cell_type": "code",
   "execution_count": 73,
   "id": "4343b05b",
   "metadata": {},
   "outputs": [
    {
     "data": {
      "text/plain": [
       "{'H', 'i', 't'}"
      ]
     },
     "execution_count": 73,
     "metadata": {},
     "output_type": "execute_result"
    }
   ],
   "source": [
    "S1 = set('Hitesh')\n",
    "S2 = set('Reshma')\n",
    "S3 = S1.difference(S2)\n",
    "S3"
   ]
  },
  {
   "cell_type": "code",
   "execution_count": 74,
   "id": "ca8aa04d",
   "metadata": {},
   "outputs": [
    {
     "data": {
      "text/plain": [
       "{'R', 'a', 'm'}"
      ]
     },
     "execution_count": 74,
     "metadata": {},
     "output_type": "execute_result"
    }
   ],
   "source": [
    "S1 = set('Hitesh')\n",
    "S2 = set('Reshma')\n",
    "S3 = S2.difference(S1)\n",
    "S3"
   ]
  },
  {
   "cell_type": "markdown",
   "id": "84a11d70",
   "metadata": {},
   "source": [
    "`−` symbol is used for Difference"
   ]
  },
  {
   "cell_type": "code",
   "execution_count": 82,
   "id": "73fa44fe",
   "metadata": {},
   "outputs": [
    {
     "data": {
      "text/plain": [
       "{'R', 'a', 'm'}"
      ]
     },
     "execution_count": 82,
     "metadata": {},
     "output_type": "execute_result"
    }
   ],
   "source": [
    "S1 = set('Hitesh')\n",
    "S2 = set('Reshma')\n",
    "S3 = S2 - S1\n",
    "S3"
   ]
  },
  {
   "cell_type": "markdown",
   "id": "bda0b86f",
   "metadata": {},
   "source": [
    "<h2 style='color:#898121' > difference_update </h2>"
   ]
  },
  {
   "cell_type": "markdown",
   "id": "f04d49c0",
   "metadata": {},
   "source": [
    "- the difference_update() method removes the items that exist in both sets.\n",
    "- The difference_update() method is different from the difference() method, because the difference() method returns a new set, without the unwanted items, and the difference_update() method removes the unwanted items from the original set."
   ]
  },
  {
   "cell_type": "code",
   "execution_count": 75,
   "id": "5cf9c316",
   "metadata": {},
   "outputs": [
    {
     "data": {
      "text/plain": [
       "{'H', 'i', 't'}"
      ]
     },
     "execution_count": 75,
     "metadata": {},
     "output_type": "execute_result"
    }
   ],
   "source": [
    "S1 = set('Hitesh')\n",
    "S2 = set('Reshma')\n",
    "S1.difference_update(S2) # inplace operation\n",
    "S1"
   ]
  },
  {
   "cell_type": "code",
   "execution_count": 77,
   "id": "a3f19b46",
   "metadata": {},
   "outputs": [
    {
     "data": {
      "text/plain": [
       "{'R', 'a', 'm'}"
      ]
     },
     "execution_count": 77,
     "metadata": {},
     "output_type": "execute_result"
    }
   ],
   "source": [
    "S1 = set('Hitesh')\n",
    "S2 = set('Reshma')\n",
    "S2.difference_update(S1) # inplace operation\n",
    "S2"
   ]
  },
  {
   "cell_type": "markdown",
   "id": "b2dd86b5",
   "metadata": {},
   "source": [
    "<h2 style='color:#898121' > symmetric_difference </h2>"
   ]
  },
  {
   "cell_type": "markdown",
   "id": "43a83d3d",
   "metadata": {},
   "source": [
    "-  symmetric_difference() method will return a new set that contains only the elements that are NOT present in both sets."
   ]
  },
  {
   "cell_type": "code",
   "execution_count": 69,
   "id": "680798a7",
   "metadata": {},
   "outputs": [
    {
     "data": {
      "text/plain": [
       "{'H', 'R', 'a', 'i', 'm', 't'}"
      ]
     },
     "execution_count": 69,
     "metadata": {},
     "output_type": "execute_result"
    }
   ],
   "source": [
    "S1 = set('Hitesh')\n",
    "S2 = set('Reshma')\n",
    "S3 = S1.symmetric_difference(S2)\n",
    "S3"
   ]
  },
  {
   "cell_type": "markdown",
   "id": "fb6f8e11",
   "metadata": {},
   "source": [
    "`^` symbol is used for Symmetric difference"
   ]
  },
  {
   "cell_type": "code",
   "execution_count": 83,
   "id": "345e75a5",
   "metadata": {},
   "outputs": [
    {
     "data": {
      "text/plain": [
       "{'H', 'R', 'a', 'i', 'm', 't'}"
      ]
     },
     "execution_count": 83,
     "metadata": {},
     "output_type": "execute_result"
    }
   ],
   "source": [
    "S1 = set('Hitesh')\n",
    "S2 = set('Reshma')\n",
    "S3 = S1^S2\n",
    "S3"
   ]
  },
  {
   "cell_type": "markdown",
   "id": "57c59d30",
   "metadata": {},
   "source": [
    "<h2 style='color:#898121' > symmetric_difference_update </h2>"
   ]
  },
  {
   "cell_type": "markdown",
   "id": "1c074a83",
   "metadata": {},
   "source": [
    "- The symmetric_difference_update() method will keep only the elements that are NOT present in both sets.\n",
    "- it is a inplace operation.\n",
    "- it first removes the comman items from both sets and join that sets in first set.\n",
    "- Ex. :- S1.symmetric_difference_update(S2) means it removes the comman items from both sets S1 and S2 and join that sets \n",
    "    in S1 set where S2 set remains same as privious."
   ]
  },
  {
   "cell_type": "code",
   "execution_count": 78,
   "id": "294264e0",
   "metadata": {},
   "outputs": [
    {
     "data": {
      "text/plain": [
       "{'H', 'R', 'a', 'i', 'm', 't'}"
      ]
     },
     "execution_count": 78,
     "metadata": {},
     "output_type": "execute_result"
    }
   ],
   "source": [
    "S1 = set('Hitesh')\n",
    "S2 = set('Reshma')\n",
    "S1.symmetric_difference_update(S2) # inplace operation\n",
    "S1"
   ]
  },
  {
   "cell_type": "code",
   "execution_count": 80,
   "id": "ec4f267c",
   "metadata": {},
   "outputs": [
    {
     "data": {
      "text/plain": [
       "{'H', 'R', 'a', 'i', 'm', 't'}"
      ]
     },
     "execution_count": 80,
     "metadata": {},
     "output_type": "execute_result"
    }
   ],
   "source": [
    "S1 = set('Hitesh')\n",
    "S2 = set('Reshma')\n",
    "S2.symmetric_difference_update(S1) # inplace operation\n",
    "S2"
   ]
  },
  {
   "cell_type": "markdown",
   "id": "136c1cc8",
   "metadata": {},
   "source": [
    "<h2 style='color:#898121' > Subset </h2>"
   ]
  },
  {
   "cell_type": "markdown",
   "id": "50559647",
   "metadata": {},
   "source": [
    "- Returns whether another set contains this set or not.\n",
    "- The issubset() method returns True if all items in the set exists in the specified set, otherwise it returns False.\n",
    "- result of this operation is always a boolean."
   ]
  },
  {
   "cell_type": "code",
   "execution_count": 84,
   "id": "1034171f",
   "metadata": {},
   "outputs": [
    {
     "data": {
      "text/plain": [
       "False"
      ]
     },
     "execution_count": 84,
     "metadata": {},
     "output_type": "execute_result"
    }
   ],
   "source": [
    "x = {\"a\", \"b\", \"c\"}\n",
    "y = {\"f\", \"e\", \"d\", \"c\", \"b\"}\n",
    "z = x.issubset(y)\n",
    "z"
   ]
  },
  {
   "cell_type": "code",
   "execution_count": 85,
   "id": "c680bb68",
   "metadata": {},
   "outputs": [
    {
     "data": {
      "text/plain": [
       "True"
      ]
     },
     "execution_count": 85,
     "metadata": {},
     "output_type": "execute_result"
    }
   ],
   "source": [
    "x = {\"a\", \"b\", \"c\"}\n",
    "y = {\"f\", \"a\", \"d\", \"c\", \"b\"}\n",
    "z = x.issubset(y)\n",
    "z"
   ]
  },
  {
   "cell_type": "markdown",
   "id": "6a2856b0",
   "metadata": {},
   "source": [
    "`<` is a symbol of subset"
   ]
  },
  {
   "cell_type": "code",
   "execution_count": 86,
   "id": "059cdb00",
   "metadata": {},
   "outputs": [
    {
     "data": {
      "text/plain": [
       "True"
      ]
     },
     "execution_count": 86,
     "metadata": {},
     "output_type": "execute_result"
    }
   ],
   "source": [
    "x = {\"a\", \"b\", \"c\"}\n",
    "y = {\"f\", \"a\", \"d\", \"c\", \"b\"}\n",
    "z = x < y\n",
    "z"
   ]
  },
  {
   "cell_type": "code",
   "execution_count": 90,
   "id": "ae697a18",
   "metadata": {},
   "outputs": [
    {
     "data": {
      "text/plain": [
       "True"
      ]
     },
     "execution_count": 90,
     "metadata": {},
     "output_type": "execute_result"
    }
   ],
   "source": [
    "{1, 2, 3}.issubset(range(-5, 5))\n",
    "True"
   ]
  },
  {
   "cell_type": "markdown",
   "id": "90c03be5",
   "metadata": {},
   "source": [
    "<h2 style='color:#898121' > Superset </h2>"
   ]
  },
  {
   "cell_type": "markdown",
   "id": "fd574c44",
   "metadata": {},
   "source": [
    "- The issuperset() method returns True if all items in the specified set exists in the original set otherwise it returns False.\n",
    "- result of this operation is always a boolean."
   ]
  },
  {
   "cell_type": "code",
   "execution_count": 87,
   "id": "5a3b2d9f",
   "metadata": {},
   "outputs": [
    {
     "data": {
      "text/plain": [
       "False"
      ]
     },
     "execution_count": 87,
     "metadata": {},
     "output_type": "execute_result"
    }
   ],
   "source": [
    "x = {\"a\", \"b\", \"c\"}\n",
    "y = {\"f\", \"a\", \"d\", \"c\", \"b\"}\n",
    "z = x.issuperset(y)\n",
    "z"
   ]
  },
  {
   "cell_type": "code",
   "execution_count": 88,
   "id": "bfc32cff",
   "metadata": {},
   "outputs": [
    {
     "data": {
      "text/plain": [
       "True"
      ]
     },
     "execution_count": 88,
     "metadata": {},
     "output_type": "execute_result"
    }
   ],
   "source": [
    "x = {\"a\", \"b\", \"c\"}\n",
    "y = {\"f\", \"a\", \"d\", \"c\", \"b\"}\n",
    "z = y.issuperset(x)\n",
    "z"
   ]
  },
  {
   "cell_type": "markdown",
   "id": "d4ddeb3a",
   "metadata": {},
   "source": [
    "`>` is a symbol of superset"
   ]
  },
  {
   "cell_type": "code",
   "execution_count": 89,
   "id": "35f96eb3",
   "metadata": {},
   "outputs": [
    {
     "data": {
      "text/plain": [
       "True"
      ]
     },
     "execution_count": 89,
     "metadata": {},
     "output_type": "execute_result"
    }
   ],
   "source": [
    "x = {\"a\", \"b\", \"c\"}\n",
    "y = {\"f\", \"a\", \"d\", \"c\", \"b\"}\n",
    "z = y > x\n",
    "z"
   ]
  },
  {
   "cell_type": "markdown",
   "id": "309b59e0",
   "metadata": {},
   "source": [
    "<h2 style='color:#898121' > Immutable constraint </h2>"
   ]
  },
  {
   "cell_type": "markdown",
   "id": "86b95329",
   "metadata": {},
   "source": [
    "- Sets are powerful and flexible objects, but they do have one constraint...\n",
    "    - sets can only contain immutable (a.k.a. “hashable”) object types. Hence, lists and dictionaries cannot be embedded in           sets, but tuples can if you need to store compound values."
   ]
  },
  {
   "cell_type": "code",
   "execution_count": 98,
   "id": "8dd21caa",
   "metadata": {},
   "outputs": [
    {
     "ename": "TypeError",
     "evalue": "unhashable type: 'list'",
     "output_type": "error",
     "traceback": [
      "\u001b[1;31m---------------------------------------------------------------------------\u001b[0m",
      "\u001b[1;31mTypeError\u001b[0m                                 Traceback (most recent call last)",
      "Input \u001b[1;32mIn [98]\u001b[0m, in \u001b[0;36m<cell line: 2>\u001b[1;34m()\u001b[0m\n\u001b[0;32m      1\u001b[0m S \u001b[38;5;241m=\u001b[39m \u001b[38;5;28mset\u001b[39m()\n\u001b[1;32m----> 2\u001b[0m \u001b[43mS\u001b[49m\u001b[38;5;241;43m.\u001b[39;49m\u001b[43madd\u001b[49m\u001b[43m(\u001b[49m\u001b[43m[\u001b[49m\u001b[38;5;241;43m1\u001b[39;49m\u001b[43m,\u001b[49m\u001b[43m \u001b[49m\u001b[38;5;241;43m2\u001b[39;49m\u001b[43m,\u001b[49m\u001b[43m \u001b[49m\u001b[38;5;241;43m3\u001b[39;49m\u001b[43m]\u001b[49m\u001b[43m)\u001b[49m\n",
      "\u001b[1;31mTypeError\u001b[0m: unhashable type: 'list'"
     ]
    }
   ],
   "source": [
    "S = set()\n",
    "S.add([1, 2, 3]) # Only immutable objects work in a set"
   ]
  },
  {
   "cell_type": "code",
   "execution_count": 99,
   "id": "01e6d710",
   "metadata": {},
   "outputs": [
    {
     "ename": "TypeError",
     "evalue": "unhashable type: 'dict'",
     "output_type": "error",
     "traceback": [
      "\u001b[1;31m---------------------------------------------------------------------------\u001b[0m",
      "\u001b[1;31mTypeError\u001b[0m                                 Traceback (most recent call last)",
      "Input \u001b[1;32mIn [99]\u001b[0m, in \u001b[0;36m<cell line: 2>\u001b[1;34m()\u001b[0m\n\u001b[0;32m      1\u001b[0m S \u001b[38;5;241m=\u001b[39m \u001b[38;5;28mset\u001b[39m()\n\u001b[1;32m----> 2\u001b[0m \u001b[43mS\u001b[49m\u001b[38;5;241;43m.\u001b[39;49m\u001b[43madd\u001b[49m\u001b[43m(\u001b[49m\u001b[43m{\u001b[49m\u001b[38;5;124;43m'\u001b[39;49m\u001b[38;5;124;43ma\u001b[39;49m\u001b[38;5;124;43m'\u001b[39;49m\u001b[43m:\u001b[49m\u001b[38;5;241;43m1\u001b[39;49m\u001b[43m}\u001b[49m\u001b[43m)\u001b[49m\n",
      "\u001b[1;31mTypeError\u001b[0m: unhashable type: 'dict'"
     ]
    }
   ],
   "source": [
    "S = set()\n",
    "S.add({'a':1})"
   ]
  },
  {
   "cell_type": "code",
   "execution_count": 100,
   "id": "4ec04d60",
   "metadata": {},
   "outputs": [
    {
     "data": {
      "text/plain": [
       "{(1, 2, 3)}"
      ]
     },
     "execution_count": 100,
     "metadata": {},
     "output_type": "execute_result"
    }
   ],
   "source": [
    "S.add((1, 2, 3))\n",
    "S # No list or dict, but tuple OK"
   ]
  },
  {
   "cell_type": "markdown",
   "id": "7bd64fc2",
   "metadata": {},
   "source": [
    "<h2 style='color:#898121' > Frozen Set </h2>"
   ]
  },
  {
   "cell_type": "markdown",
   "id": "0189de8b",
   "metadata": {},
   "source": [
    "- Sets themselves are mutable too, and so cannot be nested in other sets directly.\n",
    "- if you need to store a set inside another set the frozenset built-in call works just like set but creates an immutable set that cannot change and thus can be embedded in other sets."
   ]
  },
  {
   "cell_type": "markdown",
   "id": "aaf4b6e8",
   "metadata": {},
   "source": [
    "<h2 style='color:#898121' > Set Comprehension </h2>"
   ]
  },
  {
   "cell_type": "markdown",
   "id": "8d4e15e6",
   "metadata": {},
   "source": [
    "- Set Comprehension represents a creation of new set from an object that satisfy a given condition.\n",
    "- <span style='color:red' > Syntax - { expression for item in iterable object if_statement } </span>"
   ]
  },
  {
   "cell_type": "code",
   "execution_count": 103,
   "id": "f0ee9b71",
   "metadata": {},
   "outputs": [
    {
     "data": {
      "text/plain": [
       "{1, 2, 3, 4, 5, 6, 7, 8, 9, 10, 11, 12, 13, 14, 15, 16, 17, 18, 19, 20}"
      ]
     },
     "execution_count": 103,
     "metadata": {},
     "output_type": "execute_result"
    }
   ],
   "source": [
    "S1 = {i+1 for i in range(20)}\n",
    "S1"
   ]
  },
  {
   "cell_type": "code",
   "execution_count": 108,
   "id": "40f790ae",
   "metadata": {},
   "outputs": [
    {
     "data": {
      "text/plain": [
       "{1, 2, 3, 4, 5, 6, 7, 8, 9, 10, 11, 12, 13, 14, 15, 16, 17, 18, 19, 20}"
      ]
     },
     "execution_count": 108,
     "metadata": {},
     "output_type": "execute_result"
    }
   ],
   "source": [
    "# similar for loop code\n",
    "S1 = set()\n",
    "for i in range(20):\n",
    "    S1.add(i+1)\n",
    "S1"
   ]
  },
  {
   "cell_type": "code",
   "execution_count": 105,
   "id": "026b9f0b",
   "metadata": {},
   "outputs": [
    {
     "data": {
      "text/plain": [
       "{1, 3, 5, 7, 9, 11, 13, 15, 17, 19}"
      ]
     },
     "execution_count": 105,
     "metadata": {},
     "output_type": "execute_result"
    }
   ],
   "source": [
    "S2 = {i+1 for i in range(20) if i%2==0 }\n",
    "S2"
   ]
  },
  {
   "cell_type": "code",
   "execution_count": 109,
   "id": "ad4b6e40",
   "metadata": {},
   "outputs": [
    {
     "data": {
      "text/plain": [
       "{1, 3, 5, 7, 9, 11, 13, 15, 17, 19}"
      ]
     },
     "execution_count": 109,
     "metadata": {},
     "output_type": "execute_result"
    }
   ],
   "source": [
    "# similar for loop code\n",
    "S1 = set()\n",
    "for i in range(20):\n",
    "    if i%2 == 0:\n",
    "        S1.add(i+1)\n",
    "S1"
   ]
  },
  {
   "cell_type": "code",
   "execution_count": 106,
   "id": "625bef2a",
   "metadata": {},
   "outputs": [
    {
     "data": {
      "text/plain": [
       "{1, 11}"
      ]
     },
     "execution_count": 106,
     "metadata": {},
     "output_type": "execute_result"
    }
   ],
   "source": [
    "S2 = {i+1 for i in range(20) if i%2==0 if i%5==0}\n",
    "S2"
   ]
  },
  {
   "cell_type": "code",
   "execution_count": 110,
   "id": "1cc93c89",
   "metadata": {},
   "outputs": [
    {
     "data": {
      "text/plain": [
       "{1, 11}"
      ]
     },
     "execution_count": 110,
     "metadata": {},
     "output_type": "execute_result"
    }
   ],
   "source": [
    "# similar for loop code\n",
    "S1 = set()\n",
    "for i in range(20):\n",
    "    if i%2 == 0 and i%5==0:\n",
    "        S1.add(i+1)\n",
    "S1"
   ]
  },
  {
   "cell_type": "code",
   "execution_count": 111,
   "id": "c059abfc",
   "metadata": {},
   "outputs": [
    {
     "data": {
      "text/plain": [
       "{'a', 'm', 'p', 's'}"
      ]
     },
     "execution_count": 111,
     "metadata": {},
     "output_type": "execute_result"
    }
   ],
   "source": [
    "{x for x in 'spam'} # Same as: set('spam')"
   ]
  },
  {
   "cell_type": "code",
   "execution_count": 112,
   "id": "4b6f5cc1",
   "metadata": {},
   "outputs": [
    {
     "data": {
      "text/plain": [
       "{'aaaa', 'mmmm', 'pppp', 'ssss'}"
      ]
     },
     "execution_count": 112,
     "metadata": {},
     "output_type": "execute_result"
    }
   ],
   "source": [
    "{c * 4 for c in 'spam'} # Set of collected expression results"
   ]
  },
  {
   "cell_type": "markdown",
   "id": "7d39bfaf",
   "metadata": {},
   "source": [
    "**Set comprehension with if-else statements**\n",
    "- <span style='color:red' > Syntax :- { expression if_statement else expression for item in iterablle object }"
   ]
  },
  {
   "cell_type": "code",
   "execution_count": 118,
   "id": "80101af4",
   "metadata": {
    "scrolled": true
   },
   "outputs": [
    {
     "data": {
      "text/plain": [
       "{0, 2, 4, 6, 8, 100, 300, 500, 700, 900}"
      ]
     },
     "execution_count": 118,
     "metadata": {},
     "output_type": "execute_result"
    }
   ],
   "source": [
    "S1 = { i if i%2==0 else i*100 for i in range(10)}\n",
    "S1"
   ]
  },
  {
   "cell_type": "code",
   "execution_count": 121,
   "id": "6b0a9c08",
   "metadata": {},
   "outputs": [
    {
     "data": {
      "text/plain": [
       "{0, 1, 2, 'No'}"
      ]
     },
     "execution_count": 121,
     "metadata": {},
     "output_type": "execute_result"
    }
   ],
   "source": [
    "S1 = { i if i==j else 'No' for i in range(3) for j in range(10)}\n",
    "S1"
   ]
  },
  {
   "cell_type": "markdown",
   "id": "c9482719",
   "metadata": {},
   "source": [
    "**Nested set comprehension**"
   ]
  },
  {
   "cell_type": "code",
   "execution_count": 125,
   "id": "188f7fe2",
   "metadata": {},
   "outputs": [
    {
     "data": {
      "text/plain": [
       "{(3, 4), (3, 5), (4, 4), (4, 5)}"
      ]
     },
     "execution_count": 125,
     "metadata": {},
     "output_type": "execute_result"
    }
   ],
   "source": [
    "{(i,j) for i in range(5) for j in range(6) if i > 2 and j > 3}"
   ]
  },
  {
   "cell_type": "code",
   "execution_count": 126,
   "id": "c9d9a68b",
   "metadata": {},
   "outputs": [
    {
     "data": {
      "text/plain": [
       "{(3, 4), (3, 5), (4, 4), (4, 5)}"
      ]
     },
     "execution_count": 126,
     "metadata": {},
     "output_type": "execute_result"
    }
   ],
   "source": [
    "{(i,j) for i in range(5) for j in range(6) if i > 2 if j > 3}"
   ]
  },
  {
   "cell_type": "code",
   "execution_count": 128,
   "id": "f1b1ecca",
   "metadata": {},
   "outputs": [
    {
     "data": {
      "text/plain": [
       "{(1, 0),\n",
       " (2, 0),\n",
       " (2, 1),\n",
       " (3, 0),\n",
       " (3, 1),\n",
       " (3, 2),\n",
       " (4, 0),\n",
       " (4, 1),\n",
       " (4, 2),\n",
       " (4, 3),\n",
       " 0,\n",
       " 1,\n",
       " 2,\n",
       " 3,\n",
       " 4,\n",
       " 5,\n",
       " 6,\n",
       " 7,\n",
       " 8,\n",
       " 9}"
      ]
     },
     "execution_count": 128,
     "metadata": {},
     "output_type": "execute_result"
    }
   ],
   "source": [
    "{(i,j) if i > j else (i+j) for i in range(5) for j in range(6)}"
   ]
  },
  {
   "cell_type": "markdown",
   "id": "cc6cc0ab",
   "metadata": {},
   "source": [
    "<h2 style='color:#898121' > Set Usecases </h2>"
   ]
  },
  {
   "cell_type": "markdown",
   "id": "b580dc8b",
   "metadata": {},
   "source": [
    "- sets useful for common tasks such as...\n",
    "    - filtering out duplicates\n",
    "    - isolating differences\n",
    "    - performing order-neutral equality tests without sorting—in lists, strings, and all other iterable objects"
   ]
  },
  {
   "cell_type": "markdown",
   "id": "e9de9f2a",
   "metadata": {},
   "source": [
    "**Removing Duplicates**"
   ]
  },
  {
   "cell_type": "code",
   "execution_count": 40,
   "id": "7955f9f5",
   "metadata": {},
   "outputs": [],
   "source": [
    "list1 = [2,3,4,5,2,6,4,6,4,2,1,4,1,6,3]\n",
    "string1 = 'hiteshvaghela'\n",
    "tuple1 = (2,3,4,5,2,5,4,6,5,2,1,4,1,6,3)"
   ]
  },
  {
   "cell_type": "code",
   "execution_count": 41,
   "id": "5fbe958d",
   "metadata": {},
   "outputs": [
    {
     "data": {
      "text/plain": [
       "[1, 2, 3, 4, 5, 6]"
      ]
     },
     "execution_count": 41,
     "metadata": {},
     "output_type": "execute_result"
    }
   ],
   "source": [
    "list1 = list(set(list1))\n",
    "list1"
   ]
  },
  {
   "cell_type": "code",
   "execution_count": 42,
   "id": "e380e6d1",
   "metadata": {},
   "outputs": [
    {
     "data": {
      "text/plain": [
       "'giathsevl'"
      ]
     },
     "execution_count": 42,
     "metadata": {},
     "output_type": "execute_result"
    }
   ],
   "source": [
    "string1 = ''.join(list(set(string1)))\n",
    "string1"
   ]
  },
  {
   "cell_type": "code",
   "execution_count": 43,
   "id": "67d8b080",
   "metadata": {},
   "outputs": [
    {
     "data": {
      "text/plain": [
       "(1, 2, 3, 4, 5, 6)"
      ]
     },
     "execution_count": 43,
     "metadata": {},
     "output_type": "execute_result"
    }
   ],
   "source": [
    "tuple1 = tuple(set(tuple1))\n",
    "tuple1"
   ]
  },
  {
   "cell_type": "markdown",
   "id": "ede788ce",
   "metadata": {},
   "source": [
    "**Isolate Difference**"
   ]
  },
  {
   "cell_type": "code",
   "execution_count": 47,
   "id": "75e9365d",
   "metadata": {},
   "outputs": [
    {
     "data": {
      "text/plain": [
       "{'__delitem__',\n",
       " '__iadd__',\n",
       " '__imul__',\n",
       " '__reversed__',\n",
       " '__setitem__',\n",
       " 'append',\n",
       " 'clear',\n",
       " 'copy',\n",
       " 'extend',\n",
       " 'insert',\n",
       " 'pop',\n",
       " 'remove',\n",
       " 'reverse',\n",
       " 'sort'}"
      ]
     },
     "execution_count": 47,
     "metadata": {},
     "output_type": "execute_result"
    }
   ],
   "source": [
    "set(dir(list)) - set(dir(tuple))"
   ]
  },
  {
   "cell_type": "code",
   "execution_count": 49,
   "id": "56391a9a",
   "metadata": {},
   "outputs": [
    {
     "data": {
      "text/plain": [
       "{'E', 'S', 'T'}"
      ]
     },
     "execution_count": 49,
     "metadata": {},
     "output_type": "execute_result"
    }
   ],
   "source": [
    "set('HITESH') - set('HARDIK')"
   ]
  },
  {
   "cell_type": "markdown",
   "id": "f860c36d",
   "metadata": {},
   "source": [
    "**Oreder Nuteral Equality Test**"
   ]
  },
  {
   "cell_type": "code",
   "execution_count": 51,
   "id": "1afab9a4",
   "metadata": {},
   "outputs": [
    {
     "data": {
      "text/plain": [
       "True"
      ]
     },
     "execution_count": 51,
     "metadata": {},
     "output_type": "execute_result"
    }
   ],
   "source": [
    "set('spam') == set('asmp')"
   ]
  },
  {
   "cell_type": "code",
   "execution_count": 53,
   "id": "58eab199",
   "metadata": {},
   "outputs": [
    {
     "data": {
      "text/plain": [
       "True"
      ]
     },
     "execution_count": 53,
     "metadata": {},
     "output_type": "execute_result"
    }
   ],
   "source": [
    "set('Reshma') == set('Ramesh')"
   ]
  },
  {
   "cell_type": "markdown",
   "id": "12f709e1",
   "metadata": {},
   "source": [
    "<h2 style='color:blue' > Boolean </h2>"
   ]
  },
  {
   "cell_type": "markdown",
   "id": "2cac43a7",
   "metadata": {},
   "source": [
    "- Boolean is also a python's core datatype.\n",
    "- Boolean has a predefined True and False objects that are essentially just the integers 1 and 0 with custom display logic.\n",
    "- Boolean also has a long supported special placeholder object called None."
   ]
  },
  {
   "cell_type": "code",
   "execution_count": 54,
   "id": "a3b306aa",
   "metadata": {},
   "outputs": [
    {
     "data": {
      "text/plain": [
       "(False, True)"
      ]
     },
     "execution_count": 54,
     "metadata": {},
     "output_type": "execute_result"
    }
   ],
   "source": [
    "1 > 2, 1 < 2 # Booleans"
   ]
  },
  {
   "cell_type": "markdown",
   "id": "0e7b5e85",
   "metadata": {},
   "source": [
    "- The bool() function allows you to evaluate any value, and give you True or False in return."
   ]
  },
  {
   "cell_type": "code",
   "execution_count": 55,
   "id": "bb954e48",
   "metadata": {},
   "outputs": [
    {
     "data": {
      "text/plain": [
       "True"
      ]
     },
     "execution_count": 55,
     "metadata": {},
     "output_type": "execute_result"
    }
   ],
   "source": [
    "bool('spam') # Object's Boolean value"
   ]
  },
  {
   "cell_type": "markdown",
   "id": "0747178c",
   "metadata": {},
   "source": [
    "- Any string is True, except empty strings.\n",
    "- Any number is True, except 0.\n",
    "- Any list, tuple, set, and dictionary are True, except empty ones.\n",
    "- there are not many values that evaluate to False except empty values.such as...\n",
    "    - `()`, `[]`, `{}`, `\"\"`, the number `0`, and the value `None`.\n",
    "    - `False` evaluates to False."
   ]
  },
  {
   "cell_type": "code",
   "execution_count": 63,
   "id": "a1adc295",
   "metadata": {},
   "outputs": [
    {
     "data": {
      "text/plain": [
       "(False, False, False, False, False, False, False)"
      ]
     },
     "execution_count": 63,
     "metadata": {},
     "output_type": "execute_result"
    }
   ],
   "source": [
    "bool(False),bool(None),bool(0),bool(\"\"),bool(()),bool([]),bool({})"
   ]
  },
  {
   "cell_type": "markdown",
   "id": "a9b9c124",
   "metadata": {},
   "source": [
    "- Python has built-in function isinstance() that return a boolean value.\n",
    "- isinstance() is used to determine if an object is of a certain data type or not."
   ]
  },
  {
   "cell_type": "code",
   "execution_count": 64,
   "id": "c4d1d278",
   "metadata": {},
   "outputs": [
    {
     "name": "stdout",
     "output_type": "stream",
     "text": [
      "True\n"
     ]
    }
   ],
   "source": [
    "x = 200\n",
    "print(isinstance(x, int))"
   ]
  },
  {
   "cell_type": "markdown",
   "id": "1896f9ea",
   "metadata": {},
   "source": [
    "<h2 style='color:#898121' > None object Usecases </h2>"
   ]
  },
  {
   "cell_type": "markdown",
   "id": "c484f25c",
   "metadata": {},
   "source": [
    "- None object commonly used to initialize names and objects."
   ]
  },
  {
   "cell_type": "code",
   "execution_count": 56,
   "id": "7f619980",
   "metadata": {},
   "outputs": [
    {
     "name": "stdout",
     "output_type": "stream",
     "text": [
      "None\n"
     ]
    }
   ],
   "source": [
    "X = None # None placeholder\n",
    "print(X)"
   ]
  },
  {
   "cell_type": "code",
   "execution_count": 57,
   "id": "fa6f7adf",
   "metadata": {},
   "outputs": [
    {
     "data": {
      "text/plain": [
       "[None, None, None, None, None, None, None, None, None, 'Reshma']"
      ]
     },
     "execution_count": 57,
     "metadata": {},
     "output_type": "execute_result"
    }
   ],
   "source": [
    "L = [None] * 10 # Initialize a list of 10 Nones\n",
    "L[9] = 'Reshma'\n",
    "L"
   ]
  },
  {
   "cell_type": "markdown",
   "id": "71b2421c",
   "metadata": {},
   "source": [
    "<h2 style='color:blue' > type object </h2>"
   ]
  },
  {
   "cell_type": "markdown",
   "id": "3d8c890e",
   "metadata": {},
   "source": [
    "- it is returned by the type built-in function.\n",
    "- it is an object that gives the type of another object."
   ]
  },
  {
   "cell_type": "code",
   "execution_count": 58,
   "id": "ddaedb44",
   "metadata": {},
   "outputs": [
    {
     "data": {
      "text/plain": [
       "(list, dict, set, tuple, str, int, bool, NoneType)"
      ]
     },
     "execution_count": 58,
     "metadata": {},
     "output_type": "execute_result"
    }
   ],
   "source": [
    "L = [1,2,3]\n",
    "D = {'a':1,'b':2,'c':3}\n",
    "S = {1,2,3,4}\n",
    "T = (1,2,7,9)\n",
    "St = 'Hitesh'\n",
    "N = 818\n",
    "B = True\n",
    "X = None\n",
    "type(L),type(D),type(S),type(T),type(St),type(N),type(B),type(X)"
   ]
  },
  {
   "cell_type": "code",
   "execution_count": 59,
   "id": "a12d6cda",
   "metadata": {},
   "outputs": [
    {
     "data": {
      "text/plain": [
       "type"
      ]
     },
     "execution_count": 59,
     "metadata": {},
     "output_type": "execute_result"
    }
   ],
   "source": [
    "type(type(L))"
   ]
  },
  {
   "cell_type": "markdown",
   "id": "8d8ee6e1",
   "metadata": {},
   "source": [
    "<h2 style='color:#898121' > Type objcet Usecases </h2>"
   ]
  },
  {
   "cell_type": "markdown",
   "id": "01711d8c",
   "metadata": {},
   "source": [
    "- most practical application of type object is...it allows code to check the types of the objects it processes. \n",
    "- there are three ways to check the types of the objects in a Python script."
   ]
  },
  {
   "cell_type": "code",
   "execution_count": 60,
   "id": "0e2442d8",
   "metadata": {},
   "outputs": [
    {
     "name": "stdout",
     "output_type": "stream",
     "text": [
      "yes\n"
     ]
    }
   ],
   "source": [
    "if type(L) == type([]): # Type testing\n",
    "    print('yes')"
   ]
  },
  {
   "cell_type": "code",
   "execution_count": 61,
   "id": "33b5f6c4",
   "metadata": {},
   "outputs": [
    {
     "name": "stdout",
     "output_type": "stream",
     "text": [
      "yes\n"
     ]
    }
   ],
   "source": [
    "if type(L) == list: # Using the type name\n",
    "     print('yes')"
   ]
  },
  {
   "cell_type": "code",
   "execution_count": 62,
   "id": "9b15c041",
   "metadata": {},
   "outputs": [
    {
     "name": "stdout",
     "output_type": "stream",
     "text": [
      "yes\n"
     ]
    }
   ],
   "source": [
    "if isinstance(L, list): # Object-oriented tests\n",
    "     print('yes')"
   ]
  },
  {
   "cell_type": "code",
   "execution_count": null,
   "id": "18df6dce",
   "metadata": {},
   "outputs": [],
   "source": []
  }
 ],
 "metadata": {
  "kernelspec": {
   "display_name": "Python 3 (ipykernel)",
   "language": "python",
   "name": "python3"
  },
  "language_info": {
   "codemirror_mode": {
    "name": "ipython",
    "version": 3
   },
   "file_extension": ".py",
   "mimetype": "text/x-python",
   "name": "python",
   "nbconvert_exporter": "python",
   "pygments_lexer": "ipython3",
   "version": "3.10.6"
  }
 },
 "nbformat": 4,
 "nbformat_minor": 5
}
