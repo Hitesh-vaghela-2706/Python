{
 "cells": [
  {
   "cell_type": "code",
   "execution_count": null,
   "id": "a44635eb",
   "metadata": {},
   "outputs": [],
   "source": [
    "# Statement_concept"
   ]
  },
  {
   "cell_type": "raw",
   "id": "6359de32",
   "metadata": {},
   "source": [
    "statements are the things you write to tell Python what your programs should do.\n",
    "Python program structure:\n",
    "1. Programs are composed of modules.\n",
    "2. Modules contain statements.\n",
    "3. Statements contain expressions.\n",
    "4. Expressions create and process objects.\n",
    "• print is technically neither a reserved word nor a statement in 3.X, but a built-in function call;\n",
    "• yield is also an expression instead of a statement; like print, it’s typically used as an expression statement but scripts \n",
    "occasionally assign or otherwise use its result. As an expression, yield is also a reserved word, unlike print."
   ]
  },
  {
   "cell_type": "markdown",
   "id": "c7b58efd",
   "metadata": {},
   "source": [
    "# A Tale of Two ifs"
   ]
  },
  {
   "cell_type": "raw",
   "id": "aecd7769",
   "metadata": {},
   "source": [
    "Consider the following if statement, coded in a C-like language:\n",
    "if (x > y) {\n",
    " x = 1;\n",
    " y = 2;\n",
    "}\n",
    "This might be a statement in C, C++, Java, JavaScript.now, equivalent statement in the Python language:\n",
    "if x > y:\n",
    " x = 1\n",
    " y = 2"
   ]
  },
  {
   "cell_type": "markdown",
   "id": "8ef28ff7",
   "metadata": {},
   "source": [
    "# What Python Adds"
   ]
  },
  {
   "cell_type": "raw",
   "id": "fa069837",
   "metadata": {},
   "source": [
    "    The one new syntax component in Python is the colon character (:). All Python compound statements or statements that have \n",
    "other statements nested inside them—follow the same general pattern of a header line terminated in a colon, followed by a \n",
    "nested block of code.\n",
    "                    Header line:\n",
    "                     Nested statement block"
   ]
  },
  {
   "cell_type": "markdown",
   "id": "6965648b",
   "metadata": {},
   "source": [
    "# What Python Removes"
   ]
  },
  {
   "cell_type": "raw",
   "id": "0763e890",
   "metadata": {},
   "source": [
    "Parentheses are optional\n",
    "    if (x < y)\n",
    "    The parentheses here are required by the syntax of many C-like languages. In Python, though, they are not—we simply omit \n",
    "    the parentheses, and the statement works the same way:\n",
    "    if x < y\n",
    "    Technically speaking, because every expression can be enclosed in parentheses, including them will not hurt in this Python\n",
    "    code, and they are not treated as an error if present.\n",
    "\n",
    "End-of-line is end of statement\n",
    "    You don’t need to terminate statements with semicolons in Python the way you do in C-like languages:\n",
    "    x = 1;\n",
    "    In Python, the general rule is that the end of a line automatically terminates the statement that appears on that line. \n",
    "    In other words, you can leave off the semicolons, and it works the same way:\n",
    "    x = 1\n",
    "    \n",
    "End of indentation is end of block\n",
    "    You don’t need to include begin/end, then/endif, or braces around the nested block, as you do in C-like languages:\n",
    "    if (x > y) {\n",
    "     x = 1;\n",
    "     y = 2;\n",
    "    }\n",
    "    Instead, in Python, we consistently indent all the statements in a given single nested block the same distance to the \n",
    "    right, and Python uses the statements’ physical indentation to determine where the block starts and stops:\n",
    "    if x > y:\n",
    "     x = 1\n",
    "     y = 2\n",
    "        \n",
    "    Python doesn’t care how you indent or how much you indent.In fact, the ndentation of one nested block can be totally \n",
    "different from that of another. The syntax rule is only that for a given single nested block, all of its statements must be \n",
    "indented the same distance to the right. If this is not the case, you will get a syntax error, and your code will not run until\n",
    "you repair its indentation to be consistent."
   ]
  },
  {
   "cell_type": "markdown",
   "id": "50632711",
   "metadata": {},
   "source": [
    "# Few Special Cases"
   ]
  },
  {
   "cell_type": "markdown",
   "id": "5ba4d3fe",
   "metadata": {},
   "source": [
    "### Statement rule special cases"
   ]
  },
  {
   "cell_type": "raw",
   "id": "0b8f36f8",
   "metadata": {},
   "source": [
    "    it is possible to squeeze more than one statement onto a single line in Python by separating them with semicolons:\n",
    "a = 1; b = 2; print(a + b) # Three statements on one line\n",
    "    This is the only place in Python where semicolons are required:"
   ]
  },
  {
   "cell_type": "markdown",
   "id": "52ddd994",
   "metadata": {},
   "source": [
    "### multiline rule special cases"
   ]
  },
  {
   "cell_type": "raw",
   "id": "28b14b49",
   "metadata": {},
   "source": [
    "    The other special rule for statements is the inverse: you can make a single statement span across multiple lines. \n",
    "To make this work, you simply have to enclose part of your statement in a bracketed pair—parentheses (()), square brackets([]),\n",
    "or curly braces ({}). Any code enclosed in these constructs can cross multiple lines: your statement doesn’t end until Python \n",
    "reaches the line containing the closing part of the pair. \n",
    "    For instance, to continue a list literal:\n",
    "mylist = [1111,\n",
    " 2222,\n",
    " 3333]"
   ]
  },
  {
   "cell_type": "code",
   "execution_count": 1,
   "id": "7c39f190",
   "metadata": {},
   "outputs": [
    {
     "data": {
      "text/plain": [
       "15"
      ]
     },
     "execution_count": 1,
     "metadata": {},
     "output_type": "execute_result"
    }
   ],
   "source": [
    "A = 2;B=3;C= 6;D=4;\n",
    "X = (A + B +\n",
    " C + D)\n",
    "X"
   ]
  },
  {
   "cell_type": "raw",
   "id": "4381fda1",
   "metadata": {},
   "source": [
    "This technique works with compound statements, too, by the way. Anywhere you need to code a large expression, simply wrap it \n",
    "in parentheses to continue it on the next line:"
   ]
  },
  {
   "cell_type": "code",
   "execution_count": 2,
   "id": "a701aeb6",
   "metadata": {},
   "outputs": [],
   "source": [
    "if (A == 1 and\n",
    " B == 2 and\n",
    " C == 3):\n",
    " print('spam' * 3)"
   ]
  },
  {
   "cell_type": "code",
   "execution_count": 3,
   "id": "9e25b99b",
   "metadata": {},
   "outputs": [
    {
     "data": {
      "text/plain": [
       "15"
      ]
     },
     "execution_count": 3,
     "metadata": {},
     "output_type": "execute_result"
    }
   ],
   "source": [
    "# An older rule also allows for continuation lines when the prior line ends in a backslash:\n",
    "X = A + B + \\\n",
    " C + D # An error-prone older alternative\n",
    "X"
   ]
  },
  {
   "cell_type": "markdown",
   "id": "188f3759",
   "metadata": {},
   "source": [
    "### Block rule special case"
   ]
  },
  {
   "cell_type": "raw",
   "id": "3e4e531d",
   "metadata": {},
   "source": [
    "    statements in a nested block of code are normally associated by being indented the same amount to the right. As one special \n",
    "case here, the body of a compound statement can instead appear on the same line as the header in Python, after the colon:"
   ]
  },
  {
   "cell_type": "code",
   "execution_count": 4,
   "id": "25a62d6c",
   "metadata": {},
   "outputs": [
    {
     "name": "stdout",
     "output_type": "stream",
     "text": [
      "4\n"
     ]
    }
   ],
   "source": [
    "x = 4\n",
    "y = 2\n",
    "if x > y: print(x)"
   ]
  },
  {
   "cell_type": "raw",
   "id": "1b538d97",
   "metadata": {},
   "source": [
    "    This allows us to code single-line if statements, single-line while and for loops, and so on. Here again, though, this \n",
    "will work only if the body of the compound statement itself does not contain any compound statements. That is, only simple \n",
    "statements—assignments, prints, function calls, and the like—are allowed after the colon. Larger statements must still appear \n",
    "on lines by themselves."
   ]
  },
  {
   "cell_type": "raw",
   "id": "bde18445",
   "metadata": {},
   "source": [
    "• Special rules for string literals. triple-quoted string blocks are designed to span multiple lines normally."
   ]
  },
  {
   "cell_type": "raw",
   "id": "e947e4c2",
   "metadata": {},
   "source": [
    "• Other rules. There are a few other points to mention with regard to statement delimiters. Although it is uncommon, you can \n",
    "terminate a statement with a semicolon—this convention is sometimes used to squeeze more than one simple (non-compound) \n",
    "statement onto a single line. Also, comments and blank lines can appear anywhere in a file; comments (which begin with a '#'  \n",
    "character) terminate at the end of the line on which they appear."
   ]
  },
  {
   "cell_type": "markdown",
   "id": "f2bcdf11",
   "metadata": {},
   "source": [
    "# A Simple Interactive Loop"
   ]
  },
  {
   "cell_type": "code",
   "execution_count": 5,
   "id": "dc7df303",
   "metadata": {},
   "outputs": [
    {
     "name": "stdout",
     "output_type": "stream",
     "text": [
      "Enter text:hitesh\n",
      "HITESH\n",
      "Enter text:123\n",
      "123\n",
      "Enter text:stop\n"
     ]
    }
   ],
   "source": [
    "while True:\n",
    " reply = input('Enter text:')\n",
    " if reply == 'stop': break\n",
    " print(reply.upper())"
   ]
  },
  {
   "cell_type": "markdown",
   "id": "c3a4403c",
   "metadata": {},
   "source": [
    "### Doing Math on User Inputs"
   ]
  },
  {
   "cell_type": "code",
   "execution_count": 6,
   "id": "f32f6f30",
   "metadata": {},
   "outputs": [
    {
     "ename": "TypeError",
     "evalue": "unsupported operand type(s) for ** or pow(): 'str' and 'int'",
     "output_type": "error",
     "traceback": [
      "\u001b[1;31m---------------------------------------------------------------------------\u001b[0m",
      "\u001b[1;31mTypeError\u001b[0m                                 Traceback (most recent call last)",
      "Input \u001b[1;32mIn [6]\u001b[0m, in \u001b[0;36m<cell line: 2>\u001b[1;34m()\u001b[0m\n\u001b[0;32m      1\u001b[0m reply \u001b[38;5;241m=\u001b[39m \u001b[38;5;124m'\u001b[39m\u001b[38;5;124m20\u001b[39m\u001b[38;5;124m'\u001b[39m\n\u001b[1;32m----> 2\u001b[0m \u001b[43mreply\u001b[49m\u001b[43m \u001b[49m\u001b[38;5;241;43m*\u001b[39;49m\u001b[38;5;241;43m*\u001b[39;49m\u001b[43m \u001b[49m\u001b[38;5;241;43m2\u001b[39;49m\n",
      "\u001b[1;31mTypeError\u001b[0m: unsupported operand type(s) for ** or pow(): 'str' and 'int'"
     ]
    }
   ],
   "source": [
    ">>> reply = '20'\n",
    ">>> reply ** 2"
   ]
  },
  {
   "cell_type": "code",
   "execution_count": 7,
   "id": "4848b29b",
   "metadata": {},
   "outputs": [
    {
     "data": {
      "text/plain": [
       "400"
      ]
     },
     "execution_count": 7,
     "metadata": {},
     "output_type": "execute_result"
    }
   ],
   "source": [
    ">>> int(reply) ** 2"
   ]
  },
  {
   "cell_type": "code",
   "execution_count": 8,
   "id": "44376ba2",
   "metadata": {},
   "outputs": [
    {
     "name": "stdout",
     "output_type": "stream",
     "text": [
      "Enter text:23\n",
      "529\n",
      "Enter text:4\n",
      "16\n",
      "Enter text:hitesh\n"
     ]
    },
    {
     "ename": "ValueError",
     "evalue": "invalid literal for int() with base 10: 'hitesh'",
     "output_type": "error",
     "traceback": [
      "\u001b[1;31m---------------------------------------------------------------------------\u001b[0m",
      "\u001b[1;31mValueError\u001b[0m                                Traceback (most recent call last)",
      "Input \u001b[1;32mIn [8]\u001b[0m, in \u001b[0;36m<cell line: 2>\u001b[1;34m()\u001b[0m\n\u001b[0;32m      2\u001b[0m  reply \u001b[38;5;241m=\u001b[39m \u001b[38;5;28minput\u001b[39m(\u001b[38;5;124m'\u001b[39m\u001b[38;5;124mEnter text:\u001b[39m\u001b[38;5;124m'\u001b[39m)\n\u001b[0;32m      3\u001b[0m  \u001b[38;5;28;01mif\u001b[39;00m reply \u001b[38;5;241m==\u001b[39m \u001b[38;5;124m'\u001b[39m\u001b[38;5;124mstop\u001b[39m\u001b[38;5;124m'\u001b[39m: \u001b[38;5;28;01mbreak\u001b[39;00m\n\u001b[1;32m----> 4\u001b[0m  \u001b[38;5;28mprint\u001b[39m(\u001b[38;5;28;43mint\u001b[39;49m\u001b[43m(\u001b[49m\u001b[43mreply\u001b[49m\u001b[43m)\u001b[49m \u001b[38;5;241m*\u001b[39m\u001b[38;5;241m*\u001b[39m \u001b[38;5;241m2\u001b[39m)\n\u001b[0;32m      5\u001b[0m \u001b[38;5;28mprint\u001b[39m(\u001b[38;5;124m'\u001b[39m\u001b[38;5;124mBye\u001b[39m\u001b[38;5;124m'\u001b[39m)\n",
      "\u001b[1;31mValueError\u001b[0m: invalid literal for int() with base 10: 'hitesh'"
     ]
    }
   ],
   "source": [
    "while True:\n",
    " reply = input('Enter text:')\n",
    " if reply == 'stop': break\n",
    " print(int(reply) ** 2)\n",
    "print('Bye')"
   ]
  },
  {
   "cell_type": "markdown",
   "id": "de5211f4",
   "metadata": {},
   "source": [
    "### Handling Errors by Testing Inputs"
   ]
  },
  {
   "cell_type": "raw",
   "id": "bae5696f",
   "metadata": {},
   "source": [
    "So far so good, but notice what happens when the input is invalid:\n",
    "Enter text:xxx\n",
    "...error text omitted...\n",
    "ValueError: invalid literal for int() with base 10: 'xxx'\n"
   ]
  },
  {
   "cell_type": "code",
   "execution_count": 9,
   "id": "8367a031",
   "metadata": {},
   "outputs": [
    {
     "data": {
      "text/plain": [
       "(True, False)"
      ]
     },
     "execution_count": 9,
     "metadata": {},
     "output_type": "execute_result"
    }
   ],
   "source": [
    ">>> S = '123'\n",
    ">>> T = 'xxx'\n",
    ">>> S.isdigit(), T.isdigit()"
   ]
  },
  {
   "cell_type": "code",
   "execution_count": 10,
   "id": "44fe9bf0",
   "metadata": {},
   "outputs": [
    {
     "name": "stdout",
     "output_type": "stream",
     "text": [
      "Enter text:hitesh\n",
      "you entered a string! please enter a number\n",
      "Enter text:45\n",
      "2025\n",
      "Enter text:32\n",
      "1024\n",
      "Enter text:stop\n",
      "Bye\n"
     ]
    }
   ],
   "source": [
    "while True:\n",
    " reply = input('Enter text:')\n",
    " if reply == 'stop':\n",
    "     break\n",
    " elif not reply.isdigit():\n",
    "     print('you entered a string! please enter a number')\n",
    " else:\n",
    "     print(int(reply) ** 2)\n",
    "print('Bye')"
   ]
  },
  {
   "cell_type": "markdown",
   "id": "02eeb09e",
   "metadata": {},
   "source": [
    "### Supporting floating-point numbers"
   ]
  },
  {
   "cell_type": "code",
   "execution_count": 13,
   "id": "9764b057",
   "metadata": {},
   "outputs": [
    {
     "name": "stdout",
     "output_type": "stream",
     "text": [
      "Enter text:2.3\n",
      "5.289999999999999\n",
      "Enter text:23\n",
      "529.0\n",
      "Enter text:hitesh\n",
      "you entered a string! please enter a number\n",
      "Enter text:**\n",
      "you entered a string! please enter a number\n",
      "Enter text:stop\n",
      "Bye\n"
     ]
    }
   ],
   "source": [
    "while True:\n",
    " reply = input('Enter text:')\n",
    " if reply == 'stop': break\n",
    " try: print(float(reply) ** 2)\n",
    " except: print('you entered a string! please enter a number')\n",
    "print('Bye')"
   ]
  }
 ],
 "metadata": {
  "kernelspec": {
   "display_name": "Python 3 (ipykernel)",
   "language": "python",
   "name": "python3"
  },
  "language_info": {
   "codemirror_mode": {
    "name": "ipython",
    "version": 3
   },
   "file_extension": ".py",
   "mimetype": "text/x-python",
   "name": "python",
   "nbconvert_exporter": "python",
   "pygments_lexer": "ipython3",
   "version": "3.10.6"
  },
  "vscode": {
   "interpreter": {
    "hash": "3f0a9274e75c54eb3e70f4e922c22401024819649077c3b94c640e414f9dfbbe"
   }
  }
 },
 "nbformat": 4,
 "nbformat_minor": 5
}
