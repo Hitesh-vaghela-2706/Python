{
 "cells": [
  {
   "cell_type": "markdown",
   "id": "9cb3624b",
   "metadata": {},
   "source": [
    "<h1 style='color:red' > String Datatype </h1>"
   ]
  },
  {
   "cell_type": "markdown",
   "id": "5cf6c2d1",
   "metadata": {},
   "source": [
    "- string is an ordered collection of characters used to store and represent text-based ( Symbols and words (your name), contents of text files, Internet addresses, Python source code etc.) and bytes-based ( raw bytes used for media files and network transfer,encoded and decoded forms of non ASCII etc.) information.\n",
    "- Python strings are immutable sequences.means...\n",
    "    - the characters they contain have a left-to-right positional order\n",
    "    - they cannot be changed in place. \n",
    "- Unicode strings used for dealing with non-ASCII text.\n",
    "- Unicode is a key tool for those who work in the Internet domain. \n",
    "- It can pop up in web pages, email content and headers, FTP transfers, GUI APIs, directory tools, and HTML, XML and JSON text.\n",
    "- strings can be used to represent just about anything that can be encoded as text or bytes. \n",
    "- strings are easy to use in Python\n",
    "- there are many ways to write string in our code.for ex.\n",
    "    - Single quotes: 'spa\"m'\n",
    "    - Double quotes: \"spa'm\"\n",
    "    - Triple quotes: '''... spam ...''', \"\"\"... spam ...\"\"\"\n",
    "    - Escape sequences: \"s\\tp\\na\\0m\"\n",
    "    - Raw strings: r\"C:\\new\\test.spm\"\n",
    "    - Bytes strings: b'sp\\x01am'\n",
    "    - Unicode strings: u'eggs\\u0020spam'\n",
    "- Single-Quoted and Double-Quoted Strings Are the Same in python.\n",
    "- The reason for supporting both is that it allows you to embed a quote character of the other variety inside a string without escaping it with a backslash.\n",
    "- for Ex."
   ]
  },
  {
   "cell_type": "code",
   "execution_count": 1,
   "id": "b0667385",
   "metadata": {},
   "outputs": [
    {
     "data": {
      "text/plain": [
       "('Hitesh', 'Hitesh')"
      ]
     },
     "execution_count": 1,
     "metadata": {},
     "output_type": "execute_result"
    }
   ],
   "source": [
    "A = 'Hitesh'\n",
    "B = \"Hitesh\"\n",
    "A,B"
   ]
  },
  {
   "cell_type": "code",
   "execution_count": 2,
   "id": "7496f06f",
   "metadata": {},
   "outputs": [
    {
     "data": {
      "text/plain": [
       "('knight\"s', \"knight's\")"
      ]
     },
     "execution_count": 2,
     "metadata": {},
     "output_type": "execute_result"
    }
   ],
   "source": [
    "A = 'knight\"s'\n",
    "B = \"knight's\"\n",
    "A,B"
   ]
  },
  {
   "cell_type": "markdown",
   "id": "494d1879",
   "metadata": {},
   "source": [
    "- `comma` is important between to different strings in python. Without comma Python automatically concatenates adjacent string literals in any expression.\n",
    "- Adding commas between these strings would result in a `tuple` not a string. Also notice in all of these outputs that Python prints strings in single quotes unless they embed one."
   ]
  },
  {
   "cell_type": "code",
   "execution_count": 3,
   "id": "24675bed",
   "metadata": {},
   "outputs": [
    {
     "data": {
      "text/plain": [
       "('hitesh', 'vaghela')"
      ]
     },
     "execution_count": 3,
     "metadata": {},
     "output_type": "execute_result"
    }
   ],
   "source": [
    "string1 = 'hitesh','vaghela'\n",
    "string1"
   ]
  },
  {
   "cell_type": "code",
   "execution_count": 4,
   "id": "42845881",
   "metadata": {},
   "outputs": [
    {
     "data": {
      "text/plain": [
       "'Hitesh vaghela'"
      ]
     },
     "execution_count": 4,
     "metadata": {},
     "output_type": "execute_result"
    }
   ],
   "source": [
    "string2 = \"Hitesh \" 'vaghela'\n",
    "string2"
   ]
  },
  {
   "cell_type": "markdown",
   "id": "52cdbd0a",
   "metadata": {},
   "source": [
    "<h2 style='color:blue;' > Escape Sequences"
   ]
  },
  {
   "cell_type": "markdown",
   "id": "8f1322a9",
   "metadata": {},
   "source": [
    "- scape Sequences Represent Special Characters\n",
    "- Escape sequences let us embed characters in strings that cannot easily be typed on a keyboard. \n",
    "- The character \\ and one or more characters following it in the string literal, are replaced with a single character in the resulting string object, which has the binary value specified by the escape sequence.\n",
    "- if Python does not recognize the character after a \\ as being a valid escape code it simply keeps the backslash in the resulting string"
   ]
  },
  {
   "cell_type": "markdown",
   "id": "9af7839c",
   "metadata": {},
   "source": [
    "<table border='2' style='width:460px;height:400px;'>\n",
    "    <caption> Escape sequence list </caption>\n",
    "    <tr> \n",
    "        <th>  Escape </th>\n",
    "        <th> Meaning </th>\n",
    "    </tr>\n",
    "    <tr> \n",
    "        <td> \\n </td>\n",
    "        <td> newline </td>\n",
    "    </tr>\n",
    "    <tr> \n",
    "        <td> \\\\ </td>\n",
    "        <td> Backslash </td>\n",
    "    </tr>\n",
    "    <tr> \n",
    "        <td> \\' </td>\n",
    "        <td> Single quote</td>\n",
    "    </tr>\n",
    "    <tr> \n",
    "        <td> \\\" </td>\n",
    "        <td> Double quote</td>\n",
    "    </tr>\n",
    "    <tr> \n",
    "        <td> \\a </td>\n",
    "        <td> Bell </td>\n",
    "    </tr>\n",
    "    <tr> \n",
    "        <td> \\b </td>\n",
    "        <td> Backspace </td>\n",
    "    </tr>\n",
    "    <tr> \n",
    "        <td> \\f </td>\n",
    "        <td> Formfeed </td>\n",
    "    </tr>\n",
    "    <tr> \n",
    "        <td> \\t </td>\n",
    "        <td> Horizontal tab </td>\n",
    "    </tr>\n",
    "    <tr> \n",
    "        <td> \\v </td>\n",
    "        <td> Vertical tab </td>\n",
    "    </tr>\n",
    "    <tr> \n",
    "        <td> \\r </td>\n",
    "        <td> Carriage return </td>\n",
    "    </tr>\n",
    "</table>"
   ]
  },
  {
   "cell_type": "code",
   "execution_count": 5,
   "id": "5946662f",
   "metadata": {},
   "outputs": [
    {
     "name": "stdout",
     "output_type": "stream",
     "text": [
      "a\n",
      "b\tc\n",
      "C:\\py\\code\n"
     ]
    }
   ],
   "source": [
    "s = 'a\\nb\\tc'\n",
    "x = \"C:\\py\\code\"\n",
    "print(s)\n",
    "print(x)"
   ]
  },
  {
   "cell_type": "markdown",
   "id": "5f0096c5",
   "metadata": {},
   "source": [
    "<h2 style='color:blue;' > Limitations and Solution of Escape Sequences"
   ]
  },
  {
   "cell_type": "markdown",
   "id": "5583aad0",
   "metadata": {},
   "source": [
    "- there are some issues as well of using escape sequences in python.\n",
    "- for ex.Python newcomer in classes trying to open a file with a filename text.dat that stored in folder named new...\n",
    "- <p style='color:red' > myfile = open('C:\\new\\text.dat', 'w') </p>\n",
    "- they thinking that they will open a file called text.dat in the directory C:\\new. \n",
    "- The problem here is that \\n is taken to stand for a newline character, and \\t is replaced with a tab.\n",
    "- In effect the call tries to open a file named C:(newline)ew(tab)ext.dat, with usually less than-stellar results.\n",
    "- however we can able to handle this situations with vackslash caracters but for new comers to avoid this kind of situations row strings are used.If the letter r (uppercase or lowercase) appears just before the opening quote of a string, it turns off the escape mechanism.\n",
    "- <p style='color:red' > myfile = open(r'C:\\new\\text.dat', 'w') # using row string </p> \n",
    "- <p style='color:red' > myfile = open('C:\\\\new\\\\text.dat', 'w') # using backslash </p> "
   ]
  },
  {
   "cell_type": "markdown",
   "id": "5898b9d6",
   "metadata": {},
   "source": [
    "<h2 style='color:blue;' > Raw String Limitations"
   ]
  },
  {
   "cell_type": "raw",
   "id": "7fd06321",
   "metadata": {},
   "source": [
    "- raw string cannot end in a single backslash, because the backslash escapes the following quote character—you still must escape the surrounding quote character to embed it in the string.\n",
    "- That is, r\"...\\\" is not a valid string literal—a raw string cannot end in an odd number of backslashes.\n",
    "- If we need to end a raw string with a single backslash, we can use two and slice off the second (r'1\\nb\\tc\\\\'[:-1]) or tack one on manually (r'1\\nb\\tc' + '\\\\')"
   ]
  },
  {
   "cell_type": "markdown",
   "id": "f920544e",
   "metadata": {},
   "source": [
    "<h2 style='color:blue;' > Triple Quoted String"
   ]
  },
  {
   "cell_type": "markdown",
   "id": "6c19e48e",
   "metadata": {},
   "source": [
    "- we also able to create a multiline strings in python using triple quotes.\n",
    "- triple quoted strings are also useful when we need to embed single and double quotes both in strings.\n",
    "- triple quoted strings are also called as a `block string`\n",
    "- Triple-quoted strings are also commonly used for documentation strings as python ignores the strings which are not assign to the variables.python considers this strings as a comments.\n",
    "- thus triple-quoted strings are sometimes used as a “horribly hackish” way to temporarily disable lines of code during development"
   ]
  },
  {
   "cell_type": "code",
   "execution_count": 6,
   "id": "fe158dfe",
   "metadata": {},
   "outputs": [
    {
     "data": {
      "text/plain": [
       "'Always look\\n on the bright\\n side of life.'"
      ]
     },
     "execution_count": 6,
     "metadata": {},
     "output_type": "execute_result"
    }
   ],
   "source": [
    "St = \"\"\"Always look\n",
    " on the bright\n",
    " side of life.\"\"\"\n",
    "St"
   ]
  },
  {
   "cell_type": "code",
   "execution_count": 7,
   "id": "e43b6463",
   "metadata": {},
   "outputs": [
    {
     "name": "stdout",
     "output_type": "stream",
     "text": [
      "1\n"
     ]
    }
   ],
   "source": [
    "X = 1\n",
    "\"\"\"\n",
    "import os # Disable this code temporarily\n",
    "print(os.getcwd())\n",
    "\"\"\"\n",
    "Y = 2\n",
    "print(X)"
   ]
  },
  {
   "cell_type": "markdown",
   "id": "47481524",
   "metadata": {},
   "source": [
    "<h2 style='color:blue' > lenght of string"
   ]
  },
  {
   "cell_type": "markdown",
   "id": "a4fc14d0",
   "metadata": {},
   "source": [
    "- built-in len function returns the actual number of characters in a string."
   ]
  },
  {
   "cell_type": "code",
   "execution_count": 8,
   "id": "3a02c285",
   "metadata": {},
   "outputs": [
    {
     "name": "stdout",
     "output_type": "stream",
     "text": [
      "Hitesh\n",
      "Hitesh\tVaghela\n"
     ]
    }
   ],
   "source": [
    "String1 = \"Hitesh\"\n",
    "String2 = \"Hitesh\\tVaghela\"\n",
    "print(String1)\n",
    "print(String2)"
   ]
  },
  {
   "cell_type": "code",
   "execution_count": 9,
   "id": "5def446e",
   "metadata": {},
   "outputs": [
    {
     "data": {
      "text/plain": [
       "6"
      ]
     },
     "execution_count": 9,
     "metadata": {},
     "output_type": "execute_result"
    }
   ],
   "source": [
    "len(String1)"
   ]
  },
  {
   "cell_type": "code",
   "execution_count": 10,
   "id": "07bd2c9d",
   "metadata": {},
   "outputs": [
    {
     "data": {
      "text/plain": [
       "14"
      ]
     },
     "execution_count": 10,
     "metadata": {},
     "output_type": "execute_result"
    }
   ],
   "source": [
    "len(String2)"
   ]
  },
  {
   "cell_type": "markdown",
   "id": "1d0278e6",
   "metadata": {},
   "source": [
    "<h2 style='color:blue;' > Indexing and Slicing "
   ]
  },
  {
   "cell_type": "markdown",
   "id": "a6b9117a",
   "metadata": {},
   "source": [
    "- Slicing is Used to access the elements of string. we use index for slicing.Index is nothing but a position of elements.\n",
    "- <p style='color:red' > In Python, indexes are coded as offsets from the front, and so start from 0: the first item\n",
    "is at index 0, the second is at index 1, and so on </p>\n",
    "- In Python characters in a string are fetched by indexing providing the numeric offset of the desired component in square brackets after then string.\n",
    "- In Python we can also index backward from the end\n",
    "    - positive indexes count from the left\n",
    "    - negative indexes count back from the right"
   ]
  },
  {
   "attachments": {
    "image.png": {
     "image/png": "[encoded data removed]"
    }
   },
   "cell_type": "markdown",
   "id": "5d1f8aad",
   "metadata": {},
   "source": [
    "![image.png](attachment:image.png)"
   ]
  },
  {
   "cell_type": "code",
   "execution_count": 11,
   "id": "928d875d",
   "metadata": {},
   "outputs": [
    {
     "data": {
      "text/plain": [
       "'H'"
      ]
     },
     "execution_count": 11,
     "metadata": {},
     "output_type": "execute_result"
    }
   ],
   "source": [
    "S = \"Hitesh Vaghela\"\n",
    "S[0] # The first item in S, indexing by zero-based position"
   ]
  },
  {
   "cell_type": "code",
   "execution_count": 12,
   "id": "a2f8cd78",
   "metadata": {},
   "outputs": [
    {
     "data": {
      "text/plain": [
       "'i'"
      ]
     },
     "execution_count": 12,
     "metadata": {},
     "output_type": "execute_result"
    }
   ],
   "source": [
    "S[1] # The second item from the left"
   ]
  },
  {
   "cell_type": "code",
   "execution_count": 13,
   "id": "99bdcf90",
   "metadata": {},
   "outputs": [
    {
     "data": {
      "text/plain": [
       "'a'"
      ]
     },
     "execution_count": 13,
     "metadata": {},
     "output_type": "execute_result"
    }
   ],
   "source": [
    "S[-1] # The last item from the end in S"
   ]
  },
  {
   "cell_type": "code",
   "execution_count": 14,
   "id": "cca01ebb",
   "metadata": {},
   "outputs": [
    {
     "data": {
      "text/plain": [
       "'l'"
      ]
     },
     "execution_count": 14,
     "metadata": {},
     "output_type": "execute_result"
    }
   ],
   "source": [
    "S[-2] # The second-to-last item from the end"
   ]
  },
  {
   "cell_type": "markdown",
   "id": "c79cd50e",
   "metadata": {},
   "source": [
    "- technically a negative index is simply added to the string’s length so the following two operations are equivalent"
   ]
  },
  {
   "cell_type": "code",
   "execution_count": 15,
   "id": "908450a9",
   "metadata": {},
   "outputs": [
    {
     "data": {
      "text/plain": [
       "'a'"
      ]
     },
     "execution_count": 15,
     "metadata": {},
     "output_type": "execute_result"
    }
   ],
   "source": [
    "S[-1] # The last item in S"
   ]
  },
  {
   "cell_type": "code",
   "execution_count": 16,
   "id": "76f23326",
   "metadata": {},
   "outputs": [
    {
     "data": {
      "text/plain": [
       "'a'"
      ]
     },
     "execution_count": 16,
     "metadata": {},
     "output_type": "execute_result"
    }
   ],
   "source": [
    "S[len(S)-1] # Negative indexing, the hard way"
   ]
  },
  {
   "cell_type": "markdown",
   "id": "8bd95957",
   "metadata": {},
   "source": [
    "- sequences also support a more general form of indexing known as slicing.\n",
    "- which is a way to extract an entire section (slice) in a single step. For example...\n",
    "- general form of slicing is X[I:J]\n",
    "- it returns everything in X from offset I up to offset J but not including offset J. \n",
    "- The result is returned in a new object.\n",
    "- In a slicing....\n",
    "    - the left bound defaults to zero\n",
    "    - the right bound defaults to the length of the sequence being sliced.\n",
    "- Here... also we have to note that as string are immutable it creates a slice as a new object until we assign to the old object.\n",
    "- Extended slicing (S[i:j:k]) accepts a step (or stride) k, which defaults to +1."
   ]
  },
  {
   "cell_type": "code",
   "execution_count": 17,
   "id": "168bb77f",
   "metadata": {},
   "outputs": [
    {
     "data": {
      "text/plain": [
       "'Hitesh vaghela '"
      ]
     },
     "execution_count": 17,
     "metadata": {},
     "output_type": "execute_result"
    }
   ],
   "source": [
    "S = \"Hitesh vaghela Loves Reshmma Vaghela\"\n",
    "S[0:15] # it Slice of S from offsets 1 to offsets 15. here...first offset is included and last offset is excluded. "
   ]
  },
  {
   "cell_type": "code",
   "execution_count": 18,
   "id": "28de9f9f",
   "metadata": {},
   "outputs": [
    {
     "data": {
      "text/plain": [
       "'itesh vaghela Loves Reshmma Vaghela'"
      ]
     },
     "execution_count": 18,
     "metadata": {},
     "output_type": "execute_result"
    }
   ],
   "source": [
    "S[1:] # Everything past the first (1:len(S))"
   ]
  },
  {
   "cell_type": "code",
   "execution_count": 19,
   "id": "e903e21a",
   "metadata": {},
   "outputs": [
    {
     "data": {
      "text/plain": [
       "' Reshmma Vaghela'"
      ]
     },
     "execution_count": 19,
     "metadata": {},
     "output_type": "execute_result"
    }
   ],
   "source": [
    "S[-16:] #fetches items at offset 16 from right to end of string."
   ]
  },
  {
   "cell_type": "code",
   "execution_count": 20,
   "id": "abd3789b",
   "metadata": {},
   "outputs": [
    {
     "data": {
      "text/plain": [
       "'Hitesh vaghela'"
      ]
     },
     "execution_count": 20,
     "metadata": {},
     "output_type": "execute_result"
    }
   ],
   "source": [
    "S[:14] # Everything past the first (0:15)"
   ]
  },
  {
   "cell_type": "code",
   "execution_count": 21,
   "id": "9eafd149",
   "metadata": {},
   "outputs": [
    {
     "data": {
      "text/plain": [
       "'Hitesh vaghela Loves Reshmma Vaghe'"
      ]
     },
     "execution_count": 21,
     "metadata": {},
     "output_type": "execute_result"
    }
   ],
   "source": [
    "S[:-2] # fetches items at offset 0 up to but not including the last 2 items."
   ]
  },
  {
   "cell_type": "code",
   "execution_count": 22,
   "id": "27db07a5",
   "metadata": {},
   "outputs": [
    {
     "data": {
      "text/plain": [
       "'Hitesh vaghela Loves Reshmma Vaghela'"
      ]
     },
     "execution_count": 22,
     "metadata": {},
     "output_type": "execute_result"
    }
   ],
   "source": [
    "S[:] # Everything past the first (0:len(S))\n",
    "# this is also used to making a top-level copy of Sequence."
   ]
  },
  {
   "cell_type": "code",
   "execution_count": 23,
   "id": "bf1f055d",
   "metadata": {},
   "outputs": [
    {
     "data": {
      "text/plain": [
       "'PriVgea'"
      ]
     },
     "execution_count": 23,
     "metadata": {},
     "output_type": "execute_result"
    }
   ],
   "source": [
    "X = \"Purvi Vaghela\"\n",
    "X[::2] # gets every second item from the beginning to the end of the sequence."
   ]
  },
  {
   "cell_type": "code",
   "execution_count": 24,
   "id": "e4809c49",
   "metadata": {},
   "outputs": [
    {
     "data": {
      "text/plain": [
       "'alehgaV ivruP'"
      ]
     },
     "execution_count": 24,
     "metadata": {},
     "output_type": "execute_result"
    }
   ],
   "source": [
    "X = \"Purvi Vaghela\"\n",
    "X[::-1] # gets every item from the end to the beginning of the sequence with 1 skip.\n",
    "# this is also  used for revesing the string"
   ]
  },
  {
   "cell_type": "code",
   "execution_count": 25,
   "id": "93514a74",
   "metadata": {},
   "outputs": [
    {
     "data": {
      "text/plain": [
       "'aegVirP'"
      ]
     },
     "execution_count": 25,
     "metadata": {},
     "output_type": "execute_result"
    }
   ],
   "source": [
    "X[::-2] # gets every second item from the beginning to the end of the sequence."
   ]
  },
  {
   "cell_type": "code",
   "execution_count": 26,
   "id": "d4af7586",
   "metadata": {},
   "outputs": [
    {
     "data": {
      "text/plain": [
       "'acegikmoqs'"
      ]
     },
     "execution_count": 26,
     "metadata": {},
     "output_type": "execute_result"
    }
   ],
   "source": [
    "S = 'aabcdefghijklmnopqrstuvwxyz'\n",
    "S[1:20:2]"
   ]
  },
  {
   "cell_type": "code",
   "execution_count": 27,
   "id": "030e78dc",
   "metadata": {},
   "outputs": [
    {
     "data": {
      "text/plain": [
       "'acfilorux'"
      ]
     },
     "execution_count": 27,
     "metadata": {},
     "output_type": "execute_result"
    }
   ],
   "source": [
    "S[::3]"
   ]
  },
  {
   "cell_type": "markdown",
   "id": "d0e18361",
   "metadata": {},
   "source": [
    "<h2 style='color:green' > String Concatination"
   ]
  },
  {
   "cell_type": "markdown",
   "id": "85c60e0b",
   "metadata": {},
   "source": [
    "- as sequences strings also support concatenation with the plus sign and repetition with star sign.\n",
    "- concatenation means joining two strings into a new string.\n",
    "- repetition means making a new string by repeating string many times.\n",
    "- as we know that string is immutable so it creates as new object as a result. and old object remain as it is until we assign another value to it.\n",
    "- there are mainly three ways to concatinate strings...\n",
    "    - the plus `(+)` operator concates two strings.\n",
    "    - The `__add__` method of strings performs concatenation.\n",
    "    - we can also add a string using add a space `\" \"` between them."
   ]
  },
  {
   "cell_type": "code",
   "execution_count": 28,
   "id": "7b4abd7c",
   "metadata": {},
   "outputs": [
    {
     "data": {
      "text/plain": [
       "'VAGHELA HITESH'"
      ]
     },
     "execution_count": 28,
     "metadata": {},
     "output_type": "execute_result"
    }
   ],
   "source": [
    "S = \"VAGHELA\"\n",
    "S + ' HITESH' "
   ]
  },
  {
   "cell_type": "code",
   "execution_count": 29,
   "id": "a413438b",
   "metadata": {},
   "outputs": [
    {
     "data": {
      "text/plain": [
       "'VAGHELA'"
      ]
     },
     "execution_count": 29,
     "metadata": {},
     "output_type": "execute_result"
    }
   ],
   "source": [
    "S # original string S is unchanged as it creates a new object each time."
   ]
  },
  {
   "cell_type": "code",
   "execution_count": 30,
   "id": "677df1c7",
   "metadata": {},
   "outputs": [
    {
     "data": {
      "text/plain": [
       "'VAGHELA HITESH '"
      ]
     },
     "execution_count": 30,
     "metadata": {},
     "output_type": "execute_result"
    }
   ],
   "source": [
    "S = S + ' HITESH '\n",
    "S"
   ]
  },
  {
   "cell_type": "code",
   "execution_count": 31,
   "id": "1cfa6e30",
   "metadata": {},
   "outputs": [
    {
     "data": {
      "text/plain": [
       "'Hitesh Vaghela'"
      ]
     },
     "execution_count": 31,
     "metadata": {},
     "output_type": "execute_result"
    }
   ],
   "source": [
    "A = 'Hitesh'\n",
    "A.__add__(' Vaghela')"
   ]
  },
  {
   "cell_type": "code",
   "execution_count": 32,
   "id": "0172a2a7",
   "metadata": {},
   "outputs": [
    {
     "data": {
      "text/plain": [
       "'Purvi Reshma'"
      ]
     },
     "execution_count": 32,
     "metadata": {},
     "output_type": "execute_result"
    }
   ],
   "source": [
    "A = 'Purvi'\n",
    "B = 'Reshma'\n",
    "A +\" \" + B"
   ]
  },
  {
   "cell_type": "markdown",
   "id": "32b0343f",
   "metadata": {},
   "source": [
    "- String and Number both are different datatype so  we can’t mix strings and number types around operators such as + we can manually convert operands before that operation if needed.\n",
    "- in Python...\n",
    "    - the meaning of an operation depends on the objects being operated on.\n",
    "    - the plus sign (+) means different things for different objects: addition for numbers, and concatenation for strings.\n",
    "    - This property of Python is  called as a polymorphism.\n",
    "    - thus 'abc'+9 raises an error instead of automatically converting 9 to a string."
   ]
  },
  {
   "cell_type": "code",
   "execution_count": 33,
   "id": "7d64cc07",
   "metadata": {},
   "outputs": [
    {
     "ename": "TypeError",
     "evalue": "can only concatenate str (not \"int\") to str",
     "output_type": "error",
     "traceback": [
      "\u001b[1;31m---------------------------------------------------------------------------\u001b[0m",
      "\u001b[1;31mTypeError\u001b[0m                                 Traceback (most recent call last)",
      "Cell \u001b[1;32mIn[33], line 3\u001b[0m\n\u001b[0;32m      1\u001b[0m S \u001b[38;5;241m=\u001b[39m \u001b[38;5;124m\"\u001b[39m\u001b[38;5;124m42\u001b[39m\u001b[38;5;124m\"\u001b[39m\n\u001b[0;32m      2\u001b[0m I \u001b[38;5;241m=\u001b[39m \u001b[38;5;241m1\u001b[39m\n\u001b[1;32m----> 3\u001b[0m \u001b[43mS\u001b[49m\u001b[43m \u001b[49m\u001b[38;5;241;43m+\u001b[39;49m\u001b[43m \u001b[49m\u001b[43mI\u001b[49m\n",
      "\u001b[1;31mTypeError\u001b[0m: can only concatenate str (not \"int\") to str"
     ]
    }
   ],
   "source": [
    "S = \"42\"\n",
    "I = 1\n",
    "S + I"
   ]
  },
  {
   "cell_type": "code",
   "execution_count": 34,
   "id": "6367f3e0",
   "metadata": {},
   "outputs": [
    {
     "data": {
      "text/plain": [
       "43"
      ]
     },
     "execution_count": 34,
     "metadata": {},
     "output_type": "execute_result"
    }
   ],
   "source": [
    "int(S) + I # Force addition"
   ]
  },
  {
   "cell_type": "code",
   "execution_count": 35,
   "id": "87588a1c",
   "metadata": {},
   "outputs": [
    {
     "data": {
      "text/plain": [
       "'421'"
      ]
     },
     "execution_count": 35,
     "metadata": {},
     "output_type": "execute_result"
    }
   ],
   "source": [
    "S + str(I) # Force concatenation"
   ]
  },
  {
   "cell_type": "markdown",
   "id": "8da13982",
   "metadata": {},
   "source": [
    "<h2 style='color:blue' > String Repitation"
   ]
  },
  {
   "cell_type": "markdown",
   "id": "f087fb67",
   "metadata": {},
   "source": [
    "- star `( * )` operator is used to perform repitation in string. "
   ]
  },
  {
   "cell_type": "code",
   "execution_count": 36,
   "id": "cc5d0274",
   "metadata": {},
   "outputs": [
    {
     "data": {
      "text/plain": [
       "'Hardik Hardik Hardik Hardik Hardik Hardik Hardik Hardik '"
      ]
     },
     "execution_count": 36,
     "metadata": {},
     "output_type": "execute_result"
    }
   ],
   "source": [
    "S = \"Hardik \"\n",
    "S * 8"
   ]
  },
  {
   "cell_type": "markdown",
   "id": "b8865ae2",
   "metadata": {},
   "source": [
    "<h2 style='color:blue' > String modification"
   ]
  },
  {
   "cell_type": "markdown",
   "id": "780cca24",
   "metadata": {},
   "source": [
    "- strings are immutable datatype.\n",
    "- we can never overwrite the values of immutable objects.\n",
    "- beacause of this we were not changing the original string with any of the operations we ran on it. \n",
    "- Every string operation is defined to produce a new string as its result. "
   ]
  },
  {
   "cell_type": "code",
   "execution_count": 37,
   "id": "5039a1db",
   "metadata": {},
   "outputs": [
    {
     "ename": "TypeError",
     "evalue": "'str' object does not support item assignment",
     "output_type": "error",
     "traceback": [
      "\u001b[1;31m---------------------------------------------------------------------------\u001b[0m",
      "\u001b[1;31mTypeError\u001b[0m                                 Traceback (most recent call last)",
      "Cell \u001b[1;32mIn[37], line 2\u001b[0m\n\u001b[0;32m      1\u001b[0m S \u001b[38;5;241m=\u001b[39m \u001b[38;5;124m'\u001b[39m\u001b[38;5;124mSpam\u001b[39m\u001b[38;5;124m'\u001b[39m\n\u001b[1;32m----> 2\u001b[0m \u001b[43mS\u001b[49m\u001b[43m[\u001b[49m\u001b[38;5;241;43m0\u001b[39;49m\u001b[43m]\u001b[49m \u001b[38;5;241m=\u001b[39m \u001b[38;5;124m'\u001b[39m\u001b[38;5;124mz\u001b[39m\u001b[38;5;124m'\u001b[39m \u001b[38;5;66;03m# Immutable objects cannot be changed\u001b[39;00m\n",
      "\u001b[1;31mTypeError\u001b[0m: 'str' object does not support item assignment"
     ]
    }
   ],
   "source": [
    "S = 'Spam'\n",
    "S[0] = 'z' # Immutable objects cannot be changed"
   ]
  },
  {
   "cell_type": "code",
   "execution_count": 38,
   "id": "013a1301",
   "metadata": {},
   "outputs": [
    {
     "data": {
      "text/plain": [
       "'zpam'"
      ]
     },
     "execution_count": 38,
     "metadata": {},
     "output_type": "execute_result"
    }
   ],
   "source": [
    " # But we can run expressions to make new objects\n",
    "S = 'z' + S[1:]\n",
    "S"
   ]
  },
  {
   "cell_type": "markdown",
   "id": "82c56e74",
   "metadata": {},
   "source": [
    "<h2 style='color:blue' > replace() method "
   ]
  },
  {
   "cell_type": "markdown",
   "id": "a197bd4b",
   "metadata": {},
   "source": [
    "- we can achieve similar effects with string method named replace().\n",
    "- The replace() method replaces a specified phrase with another specified phrase.\n",
    "- All occurrences of the specified phrase will be replaced, if count is not specified.\n",
    "- Parameter...\n",
    "    - oldvalue\tRequired. The string to search for\n",
    "    - newvalue\tRequired. The string to replace the old value with\n",
    "    - count\tOptional. A number specifying how many occurrences of the old value you want to replace. Default is all occurrences"
   ]
  },
  {
   "cell_type": "code",
   "execution_count": 39,
   "id": "7156cf0f",
   "metadata": {},
   "outputs": [
    {
     "data": {
      "text/plain": [
       "'Hitesh'"
      ]
     },
     "execution_count": 39,
     "metadata": {},
     "output_type": "execute_result"
    }
   ],
   "source": [
    "A = \"Hixesh\"\n",
    "A.replace('x','t') # creates a new object"
   ]
  },
  {
   "cell_type": "code",
   "execution_count": 40,
   "id": "f60839d6",
   "metadata": {},
   "outputs": [
    {
     "data": {
      "text/plain": [
       "'Hixesh'"
      ]
     },
     "execution_count": 40,
     "metadata": {},
     "output_type": "execute_result"
    }
   ],
   "source": [
    "A"
   ]
  },
  {
   "cell_type": "code",
   "execution_count": 41,
   "id": "6f9206d4",
   "metadata": {},
   "outputs": [
    {
     "data": {
      "text/plain": [
       "'Hitesh'"
      ]
     },
     "execution_count": 41,
     "metadata": {},
     "output_type": "execute_result"
    }
   ],
   "source": [
    "A = A.replace('x','t')\n",
    "A"
   ]
  },
  {
   "cell_type": "code",
   "execution_count": 42,
   "id": "457a6c68",
   "metadata": {},
   "outputs": [
    {
     "data": {
      "text/plain": [
       "'three three was a race horse, two two was three too.'"
      ]
     },
     "execution_count": 42,
     "metadata": {},
     "output_type": "execute_result"
    }
   ],
   "source": [
    "txt = \"one one was a race horse, two two was one too.\"\n",
    "txt.replace(\"one\", \"three\")"
   ]
  },
  {
   "cell_type": "code",
   "execution_count": 43,
   "id": "60805358",
   "metadata": {},
   "outputs": [
    {
     "data": {
      "text/plain": [
       "'three three was a race horse, two two was one too.'"
      ]
     },
     "execution_count": 43,
     "metadata": {},
     "output_type": "execute_result"
    }
   ],
   "source": [
    "txt = \"one one was a race horse, two two was one too.\"\n",
    "txt.replace(\"one\", \"three\",2)"
   ]
  },
  {
   "cell_type": "markdown",
   "id": "9dd25bad",
   "metadata": {},
   "source": [
    "<h2 style='color:blue' > capitalize() method "
   ]
  },
  {
   "cell_type": "markdown",
   "id": "edb2be31",
   "metadata": {},
   "source": [
    "- The capitalize() method returns a string where the first character is upper case and the rest is lower case.\n",
    "- if there is a any upper case character other than fitst charecter then they are converted to lower case."
   ]
  },
  {
   "cell_type": "code",
   "execution_count": 44,
   "id": "a5f65592",
   "metadata": {},
   "outputs": [
    {
     "data": {
      "text/plain": [
       "'Hitesh vaghela'"
      ]
     },
     "execution_count": 44,
     "metadata": {},
     "output_type": "execute_result"
    }
   ],
   "source": [
    "txt1 = \"hitesh vaghela\"\n",
    "txt1.capitalize()"
   ]
  },
  {
   "cell_type": "code",
   "execution_count": 45,
   "id": "b9b9dd55",
   "metadata": {},
   "outputs": [
    {
     "data": {
      "text/plain": [
       "'Python is fun!'"
      ]
     },
     "execution_count": 45,
     "metadata": {},
     "output_type": "execute_result"
    }
   ],
   "source": [
    "txt2 = \"python is FUN!\"\n",
    "txt2.capitalize()"
   ]
  },
  {
   "cell_type": "code",
   "execution_count": 46,
   "id": "4b23d134",
   "metadata": {},
   "outputs": [
    {
     "data": {
      "text/plain": [
       "'36 is my age.'"
      ]
     },
     "execution_count": 46,
     "metadata": {},
     "output_type": "execute_result"
    }
   ],
   "source": [
    "txt3 = \"36 Is My AGE.\"\n",
    "txt3.capitalize()"
   ]
  },
  {
   "cell_type": "markdown",
   "id": "0cedf2f5",
   "metadata": {},
   "source": [
    "<h2 style='color:blue' > casefold() method "
   ]
  },
  {
   "cell_type": "markdown",
   "id": "1b62349e",
   "metadata": {},
   "source": [
    "- The casefold() method returns a string where all the characters are lower case.\n",
    "- This method is similar to the lower() method, but the casefold() method is stronger, more aggressive."
   ]
  },
  {
   "cell_type": "code",
   "execution_count": 47,
   "id": "a8231429",
   "metadata": {},
   "outputs": [
    {
     "data": {
      "text/plain": [
       "'hello my name is hitesh vaghela'"
      ]
     },
     "execution_count": 47,
     "metadata": {},
     "output_type": "execute_result"
    }
   ],
   "source": [
    "txt = \"Hello My NAME IS HITESH VAGHELA\"\n",
    "txt.casefold()"
   ]
  },
  {
   "cell_type": "markdown",
   "id": "c25c6f83",
   "metadata": {},
   "source": [
    "<h2 style='color:blue' > lower() method, upper() method, title() method"
   ]
  },
  {
   "cell_type": "markdown",
   "id": "520497bb",
   "metadata": {},
   "source": [
    "- lower() method Converts a string into lower case.\n",
    "- upper() method Converts a string into upper case.\n",
    "- title() method Converts the first character of each word to upper case.\n",
    "- The swapcase() method returns a string where all the upper case letters are lower case and vice versa."
   ]
  },
  {
   "cell_type": "code",
   "execution_count": 48,
   "id": "7a409270",
   "metadata": {},
   "outputs": [
    {
     "data": {
      "text/plain": [
       "'SPAM'"
      ]
     },
     "execution_count": 48,
     "metadata": {},
     "output_type": "execute_result"
    }
   ],
   "source": [
    "S = 'spam'\n",
    "S.upper()"
   ]
  },
  {
   "cell_type": "code",
   "execution_count": 49,
   "id": "b4d56477",
   "metadata": {},
   "outputs": [
    {
     "data": {
      "text/plain": [
       "'spam'"
      ]
     },
     "execution_count": 49,
     "metadata": {},
     "output_type": "execute_result"
    }
   ],
   "source": [
    "S = 'SPAM'\n",
    "S.lower() "
   ]
  },
  {
   "cell_type": "code",
   "execution_count": 50,
   "id": "e930b0cd",
   "metadata": {},
   "outputs": [
    {
     "data": {
      "text/plain": [
       "'Hitesh Vaghela'"
      ]
     },
     "execution_count": 50,
     "metadata": {},
     "output_type": "execute_result"
    }
   ],
   "source": [
    "S = 'hitesh vaghela'\n",
    "S.title()"
   ]
  },
  {
   "cell_type": "code",
   "execution_count": 51,
   "id": "43ee93e1",
   "metadata": {},
   "outputs": [
    {
     "data": {
      "text/plain": [
       "'hITESH vAGHELA'"
      ]
     },
     "execution_count": 51,
     "metadata": {},
     "output_type": "execute_result"
    }
   ],
   "source": [
    "S = \"Hitesh Vaghela\"\n",
    "S.swapcase()"
   ]
  },
  {
   "cell_type": "markdown",
   "id": "367aba4f",
   "metadata": {},
   "source": [
    "<h2 style='color:blue' > index() and rindex() method "
   ]
  },
  {
   "cell_type": "markdown",
   "id": "c2ab24de",
   "metadata": {},
   "source": [
    "- The index() method finds the first occurrence of the specified value.\n",
    "- The index() method raises an exception if the value is not found.\n",
    "- The index() method is almost the same as the find() method, the only difference is that the find() method returns -1 if the value is not found.\n",
    "- Parameter...\n",
    "    - value\tRequired. The value to search for\n",
    "    - start\tOptional. Where to start the search. Default is 0\n",
    "    - end\tOptional. Where to end the search. Default is to the end of the string"
   ]
  },
  {
   "cell_type": "code",
   "execution_count": 52,
   "id": "1d51de00",
   "metadata": {},
   "outputs": [
    {
     "data": {
      "text/plain": [
       "1"
      ]
     },
     "execution_count": 52,
     "metadata": {},
     "output_type": "execute_result"
    }
   ],
   "source": [
    "A = \"Hello and welcome to my Youtube Channel.\"\n",
    "A.index(\"e\")"
   ]
  },
  {
   "cell_type": "code",
   "execution_count": 53,
   "id": "78ac944b",
   "metadata": {},
   "outputs": [
    {
     "data": {
      "text/plain": [
       "8"
      ]
     },
     "execution_count": 53,
     "metadata": {},
     "output_type": "execute_result"
    }
   ],
   "source": [
    "A.index(\"d\", 5, 10)"
   ]
  },
  {
   "cell_type": "code",
   "execution_count": 54,
   "id": "8186594f",
   "metadata": {},
   "outputs": [
    {
     "ename": "ValueError",
     "evalue": "substring not found",
     "output_type": "error",
     "traceback": [
      "\u001b[1;31m---------------------------------------------------------------------------\u001b[0m",
      "\u001b[1;31mValueError\u001b[0m                                Traceback (most recent call last)",
      "Cell \u001b[1;32mIn[54], line 1\u001b[0m\n\u001b[1;32m----> 1\u001b[0m \u001b[43mA\u001b[49m\u001b[38;5;241;43m.\u001b[39;49m\u001b[43mindex\u001b[49m\u001b[43m(\u001b[49m\u001b[38;5;124;43m\"\u001b[39;49m\u001b[38;5;124;43mX\u001b[39;49m\u001b[38;5;124;43m\"\u001b[39;49m\u001b[43m)\u001b[49m\n",
      "\u001b[1;31mValueError\u001b[0m: substring not found"
     ]
    }
   ],
   "source": [
    "A.index(\"X\")"
   ]
  },
  {
   "cell_type": "code",
   "execution_count": 55,
   "id": "4b343f1a",
   "metadata": {},
   "outputs": [
    {
     "ename": "ValueError",
     "evalue": "substring not found",
     "output_type": "error",
     "traceback": [
      "\u001b[1;31m---------------------------------------------------------------------------\u001b[0m",
      "\u001b[1;31mValueError\u001b[0m                                Traceback (most recent call last)",
      "Cell \u001b[1;32mIn[55], line 1\u001b[0m\n\u001b[1;32m----> 1\u001b[0m \u001b[43mA\u001b[49m\u001b[38;5;241;43m.\u001b[39;49m\u001b[43mindex\u001b[49m\u001b[43m(\u001b[49m\u001b[38;5;124;43m\"\u001b[39;49m\u001b[38;5;124;43me\u001b[39;49m\u001b[38;5;124;43m\"\u001b[39;49m\u001b[43m,\u001b[49m\u001b[43m \u001b[49m\u001b[38;5;241;43m5\u001b[39;49m\u001b[43m,\u001b[49m\u001b[43m \u001b[49m\u001b[38;5;241;43m10\u001b[39;49m\u001b[43m)\u001b[49m\n",
      "\u001b[1;31mValueError\u001b[0m: substring not found"
     ]
    }
   ],
   "source": [
    "A.index(\"e\", 5, 10)"
   ]
  },
  {
   "cell_type": "markdown",
   "id": "be8c7f4c",
   "metadata": {},
   "source": [
    "- The rindex() method finds the last occurrence of the specified value.\n",
    "- The rindex() method raises an exception if the value is not found.\n",
    "- The rindex() method is almost the same as the rfind() method.\n",
    "- Parameter...\n",
    "    - value\tRequired. The value to search for\n",
    "    - start\tOptional. Where to start the search. Default is -1.\n",
    "    - end\tOptional. Where to end the search. Default is to the stsrt of the string"
   ]
  },
  {
   "cell_type": "code",
   "execution_count": 56,
   "id": "6f5543cf",
   "metadata": {},
   "outputs": [
    {
     "data": {
      "text/plain": [
       "37"
      ]
     },
     "execution_count": 56,
     "metadata": {},
     "output_type": "execute_result"
    }
   ],
   "source": [
    "A = \"Hello and welcome to my Youtube Channel.\"\n",
    "A.rindex(\"e\")"
   ]
  },
  {
   "cell_type": "code",
   "execution_count": 57,
   "id": "22f94d0b",
   "metadata": {},
   "outputs": [
    {
     "data": {
      "text/plain": [
       "8"
      ]
     },
     "execution_count": 57,
     "metadata": {},
     "output_type": "execute_result"
    }
   ],
   "source": [
    "A.rindex(\"d\", 5, 10)"
   ]
  },
  {
   "cell_type": "code",
   "execution_count": 58,
   "id": "c8296e99",
   "metadata": {},
   "outputs": [
    {
     "ename": "ValueError",
     "evalue": "substring not found",
     "output_type": "error",
     "traceback": [
      "\u001b[1;31m---------------------------------------------------------------------------\u001b[0m",
      "\u001b[1;31mValueError\u001b[0m                                Traceback (most recent call last)",
      "Cell \u001b[1;32mIn[58], line 1\u001b[0m\n\u001b[1;32m----> 1\u001b[0m \u001b[43mA\u001b[49m\u001b[38;5;241;43m.\u001b[39;49m\u001b[43mrindex\u001b[49m\u001b[43m(\u001b[49m\u001b[38;5;124;43m\"\u001b[39;49m\u001b[38;5;124;43mX\u001b[39;49m\u001b[38;5;124;43m\"\u001b[39;49m\u001b[43m)\u001b[49m\n",
      "\u001b[1;31mValueError\u001b[0m: substring not found"
     ]
    }
   ],
   "source": [
    "A.rindex(\"X\")"
   ]
  },
  {
   "cell_type": "markdown",
   "id": "67d38f38",
   "metadata": {},
   "source": [
    "<h2 style='color:blue' > find() and rfind() method "
   ]
  },
  {
   "cell_type": "markdown",
   "id": "83dad158",
   "metadata": {},
   "source": [
    "- The find() method finds the first occurrence of the specified value.\n",
    "- The find() method returns -1 if the value is not found.\n",
    "- The find() method is almost the same as the index() method, the only difference is that the index() method raises an exception if the value is not found. \n",
    "- Parameter...\n",
    "    - value\tRequired. The value to search for\n",
    "    - start\tOptional. Where to start the search. Default is 0\n",
    "    - end Optional. Where to end the search. Default is to the end of the string"
   ]
  },
  {
   "cell_type": "code",
   "execution_count": 59,
   "id": "0eea508e",
   "metadata": {},
   "outputs": [
    {
     "data": {
      "text/plain": [
       "29"
      ]
     },
     "execution_count": 59,
     "metadata": {},
     "output_type": "execute_result"
    }
   ],
   "source": [
    "A = \"Hello and welcome to my Youtube Channel.\"\n",
    "A.find(\"b\")"
   ]
  },
  {
   "cell_type": "code",
   "execution_count": 60,
   "id": "194366eb",
   "metadata": {},
   "outputs": [
    {
     "data": {
      "text/plain": [
       "-1"
      ]
     },
     "execution_count": 60,
     "metadata": {},
     "output_type": "execute_result"
    }
   ],
   "source": [
    "A.find(\"X\")"
   ]
  },
  {
   "cell_type": "markdown",
   "id": "f9b50426",
   "metadata": {},
   "source": [
    "- The rfind() method finds the last occurrence of the specified value.\n",
    "- The rfind() method returns -1 if the value is not found.\n",
    "- The rfind() method is almost the same as the rindex() method. \n",
    "- Parameter...\n",
    "    - value\tRequired. The value to search for\n",
    "    - start\tOptional. Where to start the search. Default is -1\n",
    "    - end Optional. Where to end the search. Default is to the start of the string"
   ]
  },
  {
   "cell_type": "code",
   "execution_count": 61,
   "id": "3cd94647",
   "metadata": {},
   "outputs": [
    {
     "data": {
      "text/plain": [
       "37"
      ]
     },
     "execution_count": 61,
     "metadata": {},
     "output_type": "execute_result"
    }
   ],
   "source": [
    "A = \"Hello and welcome to my Youtube Channel.\"\n",
    "A.rfind(\"e\")"
   ]
  },
  {
   "cell_type": "code",
   "execution_count": 62,
   "id": "fbee80b0",
   "metadata": {},
   "outputs": [
    {
     "data": {
      "text/plain": [
       "-1"
      ]
     },
     "execution_count": 62,
     "metadata": {},
     "output_type": "execute_result"
    }
   ],
   "source": [
    "A.rfind(\"X\")"
   ]
  },
  {
   "cell_type": "markdown",
   "id": "f047b854",
   "metadata": {},
   "source": [
    "<h2 style='color:blue' > ord() and chr() Method"
   ]
  },
  {
   "cell_type": "markdown",
   "id": "70521aa8",
   "metadata": {},
   "source": [
    "- string method ord used to convert a character and number into ASCII values.\n",
    "- The chr method performs the inverse operation of ord method taking an integer code and converting it to the corresponding character.\n",
    "- These tools can also be used to perform a sort of string-based math."
   ]
  },
  {
   "cell_type": "code",
   "execution_count": 63,
   "id": "4e639539",
   "metadata": {},
   "outputs": [
    {
     "data": {
      "text/plain": [
       "10"
      ]
     },
     "execution_count": 63,
     "metadata": {},
     "output_type": "execute_result"
    }
   ],
   "source": [
    "ord('\\n') # \\n is a byte with the binary value 10 in ASCII"
   ]
  },
  {
   "cell_type": "code",
   "execution_count": 64,
   "id": "9e91c826",
   "metadata": {},
   "outputs": [
    {
     "data": {
      "text/plain": [
       "72"
      ]
     },
     "execution_count": 64,
     "metadata": {},
     "output_type": "execute_result"
    }
   ],
   "source": [
    "ord('H')"
   ]
  },
  {
   "cell_type": "code",
   "execution_count": 65,
   "id": "aefa3be9",
   "metadata": {},
   "outputs": [
    {
     "data": {
      "text/plain": [
       "'\\n'"
      ]
     },
     "execution_count": 65,
     "metadata": {},
     "output_type": "execute_result"
    }
   ],
   "source": [
    "chr(10)"
   ]
  },
  {
   "cell_type": "code",
   "execution_count": 66,
   "id": "f0b47a23",
   "metadata": {},
   "outputs": [
    {
     "data": {
      "text/plain": [
       "'H'"
      ]
     },
     "execution_count": 66,
     "metadata": {},
     "output_type": "execute_result"
    }
   ],
   "source": [
    "chr(72)"
   ]
  },
  {
   "cell_type": "code",
   "execution_count": 67,
   "id": "700b4308",
   "metadata": {},
   "outputs": [
    {
     "data": {
      "text/plain": [
       "'6'"
      ]
     },
     "execution_count": 67,
     "metadata": {},
     "output_type": "execute_result"
    }
   ],
   "source": [
    "S = '5'\n",
    "S = chr(ord(S) + 1)\n",
    "S"
   ]
  },
  {
   "cell_type": "code",
   "execution_count": 68,
   "id": "e7f95ec5",
   "metadata": {},
   "outputs": [
    {
     "data": {
      "text/plain": [
       "'I'"
      ]
     },
     "execution_count": 68,
     "metadata": {},
     "output_type": "execute_result"
    }
   ],
   "source": [
    "S = \"H\"\n",
    "S = chr(ord(S) + 1)\n",
    "S"
   ]
  },
  {
   "cell_type": "markdown",
   "id": "e7d1fff9",
   "metadata": {},
   "source": [
    "<h2 style='color:blue' > count() method "
   ]
  },
  {
   "cell_type": "markdown",
   "id": "408f2982",
   "metadata": {},
   "source": [
    "- The count() method returns the number of times a specified value appears in the string.\n",
    "- parameters...\n",
    "- value\tRequired. A String. The string to value to search for\n",
    "- start\tOptional. An Integer. The position to start the search. Default is 0\n",
    "- end Optional. An Integer. The position to end the search. Default is the end of the string"
   ]
  },
  {
   "cell_type": "code",
   "execution_count": 69,
   "id": "021bd4d4",
   "metadata": {},
   "outputs": [
    {
     "data": {
      "text/plain": [
       "2"
      ]
     },
     "execution_count": 69,
     "metadata": {},
     "output_type": "execute_result"
    }
   ],
   "source": [
    "A = \"I love Reshma. Reshma is a very beautiful girl.\"\n",
    "A.count(\"Reshma\")"
   ]
  },
  {
   "cell_type": "code",
   "execution_count": 70,
   "id": "2c365244",
   "metadata": {},
   "outputs": [
    {
     "data": {
      "text/plain": [
       "1"
      ]
     },
     "execution_count": 70,
     "metadata": {},
     "output_type": "execute_result"
    }
   ],
   "source": [
    "A.count(\"Reshma\",3,14)"
   ]
  },
  {
   "cell_type": "code",
   "execution_count": 71,
   "id": "de55ce22",
   "metadata": {},
   "outputs": [
    {
     "data": {
      "text/plain": [
       "3"
      ]
     },
     "execution_count": 71,
     "metadata": {},
     "output_type": "execute_result"
    }
   ],
   "source": [
    "A.count(\"e\",3,24)"
   ]
  },
  {
   "cell_type": "markdown",
   "id": "af95eb97",
   "metadata": {},
   "source": [
    "<h2 style='color:green' >  ljust(), center() and rjust() Methods"
   ]
  },
  {
   "cell_type": "markdown",
   "id": "9e9edec5",
   "metadata": {},
   "source": [
    "- The ljust() method will left align the string, using a specified character (space is default) as the fill character.\n",
    "- The center() method will center align the string, using a specified character (space is default) as the fill character.\n",
    "- The rjust() method will right align the string, using a specified character (space is default) as the fill character.\n",
    "- Parameter...\n",
    "    - length\tRequired. The length of the returned string\n",
    "    - character\tOptional. A character to fill the missing space (to the left of the string). Default is \" \" (space)."
   ]
  },
  {
   "cell_type": "code",
   "execution_count": 72,
   "id": "e645e0e6",
   "metadata": {},
   "outputs": [
    {
     "data": {
      "text/plain": [
       "'banana              '"
      ]
     },
     "execution_count": 72,
     "metadata": {},
     "output_type": "execute_result"
    }
   ],
   "source": [
    "txt = \"banana\"\n",
    "txt.ljust(20)"
   ]
  },
  {
   "cell_type": "code",
   "execution_count": 73,
   "id": "de58e2d2",
   "metadata": {},
   "outputs": [
    {
     "data": {
      "text/plain": [
       "'banana--------------'"
      ]
     },
     "execution_count": 73,
     "metadata": {},
     "output_type": "execute_result"
    }
   ],
   "source": [
    "txt = \"banana\"\n",
    "txt.ljust(20,'-')"
   ]
  },
  {
   "cell_type": "code",
   "execution_count": 74,
   "id": "6f7582f2",
   "metadata": {},
   "outputs": [
    {
     "data": {
      "text/plain": [
       "'       banana       '"
      ]
     },
     "execution_count": 74,
     "metadata": {},
     "output_type": "execute_result"
    }
   ],
   "source": [
    "A = \"banana\"\n",
    "A.center(20)"
   ]
  },
  {
   "cell_type": "code",
   "execution_count": 75,
   "id": "742795f8",
   "metadata": {},
   "outputs": [
    {
     "data": {
      "text/plain": [
       "'-------banana-------'"
      ]
     },
     "execution_count": 75,
     "metadata": {},
     "output_type": "execute_result"
    }
   ],
   "source": [
    "A = \"banana\"\n",
    "A.center(20, \"-\")"
   ]
  },
  {
   "cell_type": "code",
   "execution_count": 76,
   "id": "f68adc60",
   "metadata": {},
   "outputs": [
    {
     "data": {
      "text/plain": [
       "'              banana'"
      ]
     },
     "execution_count": 76,
     "metadata": {},
     "output_type": "execute_result"
    }
   ],
   "source": [
    "txt = \"banana\"\n",
    "txt.rjust(20)"
   ]
  },
  {
   "cell_type": "code",
   "execution_count": 77,
   "id": "7dbeaae5",
   "metadata": {},
   "outputs": [
    {
     "data": {
      "text/plain": [
       "'--------------banana'"
      ]
     },
     "execution_count": 77,
     "metadata": {},
     "output_type": "execute_result"
    }
   ],
   "source": [
    "txt = \"banana\"\n",
    "txt.rjust(20,'-')"
   ]
  },
  {
   "cell_type": "markdown",
   "id": "c1a80a99",
   "metadata": {},
   "source": [
    "<h2 style='color:blue' >  zfill() Method"
   ]
  },
  {
   "cell_type": "markdown",
   "id": "826d86a3",
   "metadata": {},
   "source": [
    "- The zfill() method adds zeros at the beginning of the string, until it reaches the specified length.\n",
    "- if lenght is grater than specified lenght then simply it returns string as it is."
   ]
  },
  {
   "cell_type": "code",
   "execution_count": 78,
   "id": "c4dc65cd",
   "metadata": {},
   "outputs": [
    {
     "data": {
      "text/plain": [
       "'00000hello'"
      ]
     },
     "execution_count": 78,
     "metadata": {},
     "output_type": "execute_result"
    }
   ],
   "source": [
    "a = \"hello\"\n",
    "a.zfill(10)"
   ]
  },
  {
   "cell_type": "code",
   "execution_count": 79,
   "id": "150198d7",
   "metadata": {},
   "outputs": [
    {
     "data": {
      "text/plain": [
       "'000010.000'"
      ]
     },
     "execution_count": 79,
     "metadata": {},
     "output_type": "execute_result"
    }
   ],
   "source": [
    "c = \"10.000\"\n",
    "c.zfill(10)"
   ]
  },
  {
   "cell_type": "code",
   "execution_count": 80,
   "id": "5d797621",
   "metadata": {},
   "outputs": [
    {
     "data": {
      "text/plain": [
       "'welcome to the jungle'"
      ]
     },
     "execution_count": 80,
     "metadata": {},
     "output_type": "execute_result"
    }
   ],
   "source": [
    "b = \"welcome to the jungle\"\n",
    "b.zfill(10)"
   ]
  },
  {
   "cell_type": "markdown",
   "id": "95a0ee4c",
   "metadata": {},
   "source": [
    "<h2 style='color:blue' > split(), splitlines() and rsplit() method "
   ]
  },
  {
   "cell_type": "markdown",
   "id": "b3f999ee",
   "metadata": {},
   "source": [
    "- The split() method splits a string into a list.\n",
    "- we can specify the separator, default separator is any whitespace.\n",
    "- Parameters...\n",
    "    - separator\tOptional. Specifies the separator to use when splitting the string. By default any whitespace is a separator\n",
    "    - maxsplit\tOptional. Specifies how many splits to do. Default value is -1, which is \"all occurrences\"\n",
    "-  When maxsplit is specified, the list will contain the specified number of elements plus one.\n",
    "- The splitlines() method splits a string into a list. The splitting is done at line breaks.\n",
    "- The rsplit() method also splits a string into a list,but starting from the right.\n",
    "- If no \"max\" is specified, this method will return the same as the split() method.\n",
    "-  When maxsplit is specified, the list will contain the specified number of elements plus one."
   ]
  },
  {
   "cell_type": "code",
   "execution_count": 81,
   "id": "7297748c",
   "metadata": {},
   "outputs": [
    {
     "data": {
      "text/plain": [
       "['welcome', 'to', 'the', 'jungle']"
      ]
     },
     "execution_count": 81,
     "metadata": {},
     "output_type": "execute_result"
    }
   ],
   "source": [
    "txt = \"welcome to the jungle\"\n",
    "txt.split()"
   ]
  },
  {
   "cell_type": "code",
   "execution_count": 82,
   "id": "4eb2b748",
   "metadata": {},
   "outputs": [
    {
     "data": {
      "text/plain": [
       "['hitesh', 'reshma', 'purvi', 'devanshi', 'sweta', 'pooja', 'anjana', 'shilpa']"
      ]
     },
     "execution_count": 82,
     "metadata": {},
     "output_type": "execute_result"
    }
   ],
   "source": [
    "txt = \"hitesh,reshma,purvi,devanshi,sweta,pooja,anjana,shilpa\"\n",
    "txt.split(\",\")"
   ]
  },
  {
   "cell_type": "code",
   "execution_count": 83,
   "id": "2d23bb88",
   "metadata": {},
   "outputs": [
    {
     "data": {
      "text/plain": [
       "['hitesh', 'reshma', 'purvi', 'devanshi', 'sweta', 'pooja', 'anjana,shilpa']"
      ]
     },
     "execution_count": 83,
     "metadata": {},
     "output_type": "execute_result"
    }
   ],
   "source": [
    "txt = \"hitesh,reshma,purvi,devanshi,sweta,pooja,anjana,shilpa\"\n",
    "txt.split(\",\",6)"
   ]
  },
  {
   "cell_type": "code",
   "execution_count": 84,
   "id": "274d376d",
   "metadata": {},
   "outputs": [
    {
     "data": {
      "text/plain": [
       "['welcome', 'to', 'the', 'jungle']"
      ]
     },
     "execution_count": 84,
     "metadata": {},
     "output_type": "execute_result"
    }
   ],
   "source": [
    "txt = \"welcome to the jungle\"\n",
    "txt.rsplit()"
   ]
  },
  {
   "cell_type": "code",
   "execution_count": 85,
   "id": "c311dbaa",
   "metadata": {},
   "outputs": [
    {
     "data": {
      "text/plain": [
       "['hitesh', 'reshma', 'purvi', 'devanshi', 'sweta', 'pooja', 'anjana', 'shilpa']"
      ]
     },
     "execution_count": 85,
     "metadata": {},
     "output_type": "execute_result"
    }
   ],
   "source": [
    "txt = \"hitesh,reshma,purvi,devanshi,sweta,pooja,anjana,shilpa\"\n",
    "txt.rsplit(\",\")"
   ]
  },
  {
   "cell_type": "code",
   "execution_count": 86,
   "id": "e3824b5b",
   "metadata": {},
   "outputs": [
    {
     "data": {
      "text/plain": [
       "['hitesh,reshma', 'purvi', 'devanshi', 'sweta', 'pooja', 'anjana', 'shilpa']"
      ]
     },
     "execution_count": 86,
     "metadata": {},
     "output_type": "execute_result"
    }
   ],
   "source": [
    "txt = \"hitesh,reshma,purvi,devanshi,sweta,pooja,anjana,shilpa\"\n",
    "txt.rsplit(\",\",6)"
   ]
  },
  {
   "cell_type": "code",
   "execution_count": 87,
   "id": "6426eacb",
   "metadata": {},
   "outputs": [
    {
     "data": {
      "text/plain": [
       "['Thank you for the music', 'Welcome to the jungle']"
      ]
     },
     "execution_count": 87,
     "metadata": {},
     "output_type": "execute_result"
    }
   ],
   "source": [
    "txt = \"Thank you for the music\\nWelcome to the jungle\"\n",
    "txt.splitlines()"
   ]
  },
  {
   "cell_type": "code",
   "execution_count": 88,
   "id": "a94ed2db",
   "metadata": {},
   "outputs": [
    {
     "data": {
      "text/plain": [
       "['Thank you for the music\\n', 'Welcome to the jungle']"
      ]
     },
     "execution_count": 88,
     "metadata": {},
     "output_type": "execute_result"
    }
   ],
   "source": [
    "txt = \"Thank you for the music\\nWelcome to the jungle\"\n",
    "txt.splitlines(True)"
   ]
  },
  {
   "cell_type": "markdown",
   "id": "a21cfe7d",
   "metadata": {},
   "source": [
    "<h2 style='color:blue' > partition() and rpartition() method "
   ]
  },
  {
   "cell_type": "markdown",
   "id": "ecf1664c",
   "metadata": {},
   "source": [
    "- The partition() method searches for a specified string, and splits the string into a tuple containing three elements.\n",
    "- The first element contains the part before the specified string.\n",
    "- The second element contains the specified string.\n",
    "- The third element contains the part after the string.\n",
    "- This method searches for the first occurrence of the specified string.\n",
    "- If the specified value is not found the partition() method returns a tuple containing: \n",
    "    1. the whole string\n",
    "    2. an empty string\n",
    "    3. an empty string"
   ]
  },
  {
   "cell_type": "code",
   "execution_count": 89,
   "id": "00f8542d",
   "metadata": {},
   "outputs": [
    {
     "data": {
      "text/plain": [
       "('I could eat ', 'bananas', ' all day.bananas are my favorite fruit')"
      ]
     },
     "execution_count": 89,
     "metadata": {},
     "output_type": "execute_result"
    }
   ],
   "source": [
    "txt = \"I could eat bananas all day.bananas are my favorite fruit\"\n",
    "txt.partition(\"bananas\")"
   ]
  },
  {
   "cell_type": "code",
   "execution_count": 90,
   "id": "91cabc57",
   "metadata": {},
   "outputs": [
    {
     "data": {
      "text/plain": [
       "('I could eat bananas all day', '', '')"
      ]
     },
     "execution_count": 90,
     "metadata": {},
     "output_type": "execute_result"
    }
   ],
   "source": [
    "txt = \"I could eat bananas all day\"\n",
    "txt.partition(\"apples\")"
   ]
  },
  {
   "cell_type": "markdown",
   "id": "b0d8b4ef",
   "metadata": {},
   "source": [
    "- The rpartition() method searches for the last occurrence of a specified string, and splits the string into a tuple containing three elements.\n",
    "- The first element contains the part before the specified string.\n",
    "- The second element contains the specified string.\n",
    "- The third element contains the part after the string.\n",
    "- If the specified value is not found the rpartition() method returns a tuple containing...\n",
    "    1. an empty string\n",
    "    2. an empty string \n",
    "    3. the whole string"
   ]
  },
  {
   "cell_type": "code",
   "execution_count": 91,
   "id": "671d76dd",
   "metadata": {},
   "outputs": [
    {
     "data": {
      "text/plain": [
       "('I could eat bananas all day.', 'bananas', ' are my favorite fruit')"
      ]
     },
     "execution_count": 91,
     "metadata": {},
     "output_type": "execute_result"
    }
   ],
   "source": [
    "txt = \"I could eat bananas all day.bananas are my favorite fruit\"\n",
    "txt.rpartition(\"bananas\")"
   ]
  },
  {
   "cell_type": "code",
   "execution_count": 92,
   "id": "6a5b5dbe",
   "metadata": {},
   "outputs": [
    {
     "data": {
      "text/plain": [
       "('', '', 'I could eat bananas all day')"
      ]
     },
     "execution_count": 92,
     "metadata": {},
     "output_type": "execute_result"
    }
   ],
   "source": [
    "txt = \"I could eat bananas all day\"\n",
    "txt.rpartition(\"apples\")"
   ]
  },
  {
   "cell_type": "markdown",
   "id": "2f56cb11",
   "metadata": {},
   "source": [
    "<h2 style='color:blue' > join() method "
   ]
  },
  {
   "cell_type": "markdown",
   "id": "526386c3",
   "metadata": {},
   "source": [
    "- The join() method takes all items in an iterable and joins them into one string.\n",
    "- A string must be specified as the separator."
   ]
  },
  {
   "cell_type": "code",
   "execution_count": 93,
   "id": "7f47c530",
   "metadata": {},
   "outputs": [
    {
     "data": {
      "text/plain": [
       "'John Peter Vicky'"
      ]
     },
     "execution_count": 93,
     "metadata": {},
     "output_type": "execute_result"
    }
   ],
   "source": [
    "myTuple = (\"John\", \"Peter\", \"Vicky\")\n",
    "\" \".join(myTuple)"
   ]
  },
  {
   "cell_type": "code",
   "execution_count": 94,
   "id": "4c2cdd01",
   "metadata": {},
   "outputs": [
    {
     "data": {
      "text/plain": [
       "'JohnPeterVicky'"
      ]
     },
     "execution_count": 94,
     "metadata": {},
     "output_type": "execute_result"
    }
   ],
   "source": [
    "mylist = [\"John\", \"Peter\", \"Vicky\"]\n",
    "\"\".join(myTuple)"
   ]
  },
  {
   "cell_type": "code",
   "execution_count": 95,
   "id": "ed056003",
   "metadata": {},
   "outputs": [
    {
     "data": {
      "text/plain": [
       "'A B C'"
      ]
     },
     "execution_count": 95,
     "metadata": {},
     "output_type": "execute_result"
    }
   ],
   "source": [
    "A = ['A','B','C']\n",
    "Sep = \" \"\n",
    "new_str = Sep.join(A)\n",
    "new_str"
   ]
  },
  {
   "cell_type": "code",
   "execution_count": 96,
   "id": "0a1cc552",
   "metadata": {},
   "outputs": [
    {
     "data": {
      "text/plain": [
       "'name#country'"
      ]
     },
     "execution_count": 96,
     "metadata": {},
     "output_type": "execute_result"
    }
   ],
   "source": [
    "D = {\"name\": \"John\", \"country\": \"Norway\"}\n",
    "Sep = \"#\"\n",
    "x = Sep.join(D)\n",
    "x"
   ]
  },
  {
   "cell_type": "markdown",
   "id": "9501ded0",
   "metadata": {},
   "source": [
    "<h2 style='color:blue' > encode() and decode() method "
   ]
  },
  {
   "cell_type": "markdown",
   "id": "ba369600",
   "metadata": {},
   "source": [
    "- The encode() method encodes the string, using the specified encoding.\n",
    "- The decode() method decodes the string, using the specified encoding.\n",
    "- default encoding is UTF-8.other encodings are...\n",
    "    - ascii\n",
    "    - UTF-16\n",
    "- default errrors is Strict.other errors...\n",
    "    - 'backslashreplace' - uses a backslash instead of the character that could not be encoded\n",
    "    - 'ignore' - ignores the characters that cannot be encoded\n",
    "    - 'namereplace'\t- replaces the character with a text explaining the character\n",
    "    - 'strict' - Default, raises an error on failure\n",
    "    - 'replace'\t- replaces the character with a questionmark\n",
    "    - 'xmlcharrefreplace' - replaces the character with an xml character"
   ]
  },
  {
   "cell_type": "code",
   "execution_count": 97,
   "id": "f0e01ad3",
   "metadata": {},
   "outputs": [
    {
     "name": "stdout",
     "output_type": "stream",
     "text": [
      "b'My name is Hitesh'\n",
      "b'\\xff\\xfeM\\x00y\\x00 \\x00n\\x00a\\x00m\\x00e\\x00 \\x00i\\x00s\\x00 \\x00H\\x00i\\x00t\\x00e\\x00s\\x00h\\x00'\n"
     ]
    }
   ],
   "source": [
    "txt = \"My name is Hitesh\"\n",
    "print(txt.encode(encoding=\"UTF-8\",errors=\"backslashreplace\"))\n",
    "print(txt.encode(encoding=\"UTF-16\",errors=\"ignore\"))"
   ]
  },
  {
   "cell_type": "code",
   "execution_count": 98,
   "id": "4ff99468",
   "metadata": {},
   "outputs": [
    {
     "data": {
      "text/plain": [
       "b'\\xff\\xfeH\\x00i\\x00t\\x00e\\x00s\\x00h\\x00'"
      ]
     },
     "execution_count": 98,
     "metadata": {},
     "output_type": "execute_result"
    }
   ],
   "source": [
    "B = \"Hitesh\"\n",
    "B = B.encode(\"UTF-16\",\"replace\")\n",
    "B"
   ]
  },
  {
   "cell_type": "code",
   "execution_count": 99,
   "id": "f486b02f",
   "metadata": {},
   "outputs": [
    {
     "data": {
      "text/plain": [
       "'Hitesh'"
      ]
     },
     "execution_count": 99,
     "metadata": {},
     "output_type": "execute_result"
    }
   ],
   "source": [
    "B.decode(\"UTF-16\",\"replace\") # Translate to normal string"
   ]
  },
  {
   "cell_type": "markdown",
   "id": "d3dc43e0",
   "metadata": {},
   "source": [
    "<h2 style='color:blue' > strip(), lstrip(), rstrip() method "
   ]
  },
  {
   "cell_type": "markdown",
   "id": "8e703971",
   "metadata": {},
   "source": [
    "- The strip() method removes any leading, and trailing whitespaces.\n",
    "- Leading means at the beginning of the string, trailing means at the end.\n",
    "- we can specify which characters to remove, if not, any whitespaces will be removed.\n",
    "- The lstrip() method removes any leading characters (space is the default leading character to remove).\n",
    "- The rstrip() method removes any trailing characters (space is the default trailing character to remove)."
   ]
  },
  {
   "cell_type": "code",
   "execution_count": 100,
   "id": "d9395957",
   "metadata": {},
   "outputs": [
    {
     "data": {
      "text/plain": [
       "'banana'"
      ]
     },
     "execution_count": 100,
     "metadata": {},
     "output_type": "execute_result"
    }
   ],
   "source": [
    "txt = \"     banana     \"\n",
    "txt.strip()"
   ]
  },
  {
   "cell_type": "code",
   "execution_count": 101,
   "id": "dcb80ab4",
   "metadata": {},
   "outputs": [
    {
     "data": {
      "text/plain": [
       "'banana'"
      ]
     },
     "execution_count": 101,
     "metadata": {},
     "output_type": "execute_result"
    }
   ],
   "source": [
    "txt = \",,,,,rrttgg.....banana....rrr\"\n",
    "txt.strip(\",.grt\")"
   ]
  },
  {
   "cell_type": "code",
   "execution_count": 102,
   "id": "7041f45a",
   "metadata": {},
   "outputs": [
    {
     "data": {
      "text/plain": [
       "'banana     '"
      ]
     },
     "execution_count": 102,
     "metadata": {},
     "output_type": "execute_result"
    }
   ],
   "source": [
    "txt = \"     banana     \"\n",
    "txt.lstrip()"
   ]
  },
  {
   "cell_type": "code",
   "execution_count": 103,
   "id": "16907cc5",
   "metadata": {},
   "outputs": [
    {
     "data": {
      "text/plain": [
       "'banana....rrr'"
      ]
     },
     "execution_count": 103,
     "metadata": {},
     "output_type": "execute_result"
    }
   ],
   "source": [
    "txt = \",,,,,rrttgg.....banana....rrr\"\n",
    "txt.lstrip(\",.grt\")"
   ]
  },
  {
   "cell_type": "code",
   "execution_count": 104,
   "id": "796019f5",
   "metadata": {},
   "outputs": [
    {
     "data": {
      "text/plain": [
       "'     banana'"
      ]
     },
     "execution_count": 104,
     "metadata": {},
     "output_type": "execute_result"
    }
   ],
   "source": [
    "txt = \"     banana     \"\n",
    "txt.rstrip()"
   ]
  },
  {
   "cell_type": "code",
   "execution_count": 105,
   "id": "367e5ad6",
   "metadata": {},
   "outputs": [
    {
     "data": {
      "text/plain": [
       "',,,,,rrttgg.....banana'"
      ]
     },
     "execution_count": 105,
     "metadata": {},
     "output_type": "execute_result"
    }
   ],
   "source": [
    "txt = \",,,,,rrttgg.....banana....rrr\"\n",
    "txt.rstrip(\",.grt\")"
   ]
  },
  {
   "cell_type": "markdown",
   "id": "c64ec869",
   "metadata": {},
   "source": [
    "<h2 style='color:blue' > startswith() and endswith() method "
   ]
  },
  {
   "cell_type": "markdown",
   "id": "e3386452",
   "metadata": {},
   "source": [
    "- The startswith() method returns True if the string starts with the specified value, otherwise False.\n",
    "- The endswith() method returns True if the string ends with the specified value, otherwise False."
   ]
  },
  {
   "cell_type": "code",
   "execution_count": 106,
   "id": "c7907c02",
   "metadata": {},
   "outputs": [
    {
     "data": {
      "text/plain": [
       "True"
      ]
     },
     "execution_count": 106,
     "metadata": {},
     "output_type": "execute_result"
    }
   ],
   "source": [
    "txt = \"Hello, welcome to my world.\"\n",
    "txt.startswith(\"Hello\")"
   ]
  },
  {
   "cell_type": "code",
   "execution_count": 107,
   "id": "39344dd0",
   "metadata": {},
   "outputs": [
    {
     "data": {
      "text/plain": [
       "True"
      ]
     },
     "execution_count": 107,
     "metadata": {},
     "output_type": "execute_result"
    }
   ],
   "source": [
    "txt = \"Hello, welcome to my world.\"\n",
    "txt.startswith(\"w\",7,21)"
   ]
  },
  {
   "cell_type": "code",
   "execution_count": 108,
   "id": "692e9884",
   "metadata": {},
   "outputs": [
    {
     "data": {
      "text/plain": [
       "True"
      ]
     },
     "execution_count": 108,
     "metadata": {},
     "output_type": "execute_result"
    }
   ],
   "source": [
    "txt = \"Hello, welcome to my world.\"\n",
    "txt.endswith(\"my world.\")"
   ]
  },
  {
   "cell_type": "code",
   "execution_count": 109,
   "id": "8eb673b6",
   "metadata": {},
   "outputs": [
    {
     "data": {
      "text/plain": [
       "False"
      ]
     },
     "execution_count": 109,
     "metadata": {},
     "output_type": "execute_result"
    }
   ],
   "source": [
    "txt = \"Hello, welcome to my world.\"\n",
    "txt.endswith(\"my world.\", 5, 11)"
   ]
  },
  {
   "cell_type": "markdown",
   "id": "1c8849b8",
   "metadata": {},
   "source": [
    "<h2 style='color:blue' > Other String Methods"
   ]
  },
  {
   "cell_type": "markdown",
   "id": "01086a71",
   "metadata": {},
   "source": [
    "- The isalnum() method returns True if all the characters are alphanumeric, meaning alphabet letter (a-z) and numbers (0-9).\n",
    "- The isalpha() method returns True if all the characters are alphabet letters (a-z)\n",
    "- The isascii() method returns True if all the characters are ascii characters  (a-z).\n",
    "- The isdecimal() method returns True if all the characters are decimals (0-9).\n",
    "- The isdigit() method returns True if all the characters are digits, otherwise False.\n",
    "- The isnumeric() method returns True if all the characters are numeric (0-9), otherwise False.\n",
    "    - Exponents, like ² and ¾ are also considered to be numeric values.\n",
    "    - \"-1\" and \"1.5\" are NOT considered numeric values, because all the characters in the string must be numeric, and the - and       the . are not.\n",
    "- The isspace() method returns True if all the characters in a string are whitespaces, otherwise False.\n",
    "- The isupper() method returns True if all the characters are in upper case, otherwise False. Numbers, symbols and spaces are not checked, only alphabet characters.\n",
    "- The islower() method returns True if all the characters are in lower case, otherwise False.Numbers, symbols and spaces are not checked, only alphabet characters.\n",
    "- The istitle() method returns True if all words in a text start with a upper case letter, AND the rest of the word are lower case letters, otherwise False. Symbols and numbers are ignored."
   ]
  },
  {
   "cell_type": "code",
   "execution_count": 110,
   "id": "6bc72f3c",
   "metadata": {},
   "outputs": [
    {
     "data": {
      "text/plain": [
       "True"
      ]
     },
     "execution_count": 110,
     "metadata": {},
     "output_type": "execute_result"
    }
   ],
   "source": [
    "txt = \"Company12\"\n",
    "txt.isalnum()"
   ]
  },
  {
   "cell_type": "code",
   "execution_count": 111,
   "id": "a7e1d1e9",
   "metadata": {},
   "outputs": [
    {
     "data": {
      "text/plain": [
       "False"
      ]
     },
     "execution_count": 111,
     "metadata": {},
     "output_type": "execute_result"
    }
   ],
   "source": [
    "txt = \"Company10\"\n",
    "txt.isalpha()"
   ]
  },
  {
   "cell_type": "code",
   "execution_count": 112,
   "id": "2bfc873a",
   "metadata": {},
   "outputs": [
    {
     "data": {
      "text/plain": [
       "True"
      ]
     },
     "execution_count": 112,
     "metadata": {},
     "output_type": "execute_result"
    }
   ],
   "source": [
    "txt = \"Company123\"\n",
    "txt.isascii()"
   ]
  },
  {
   "cell_type": "code",
   "execution_count": 113,
   "id": "26bae5b8",
   "metadata": {},
   "outputs": [
    {
     "data": {
      "text/plain": [
       "True"
      ]
     },
     "execution_count": 113,
     "metadata": {},
     "output_type": "execute_result"
    }
   ],
   "source": [
    "txt = \"1234\"\n",
    "txt.isdecimal()"
   ]
  },
  {
   "cell_type": "code",
   "execution_count": 114,
   "id": "729bf946",
   "metadata": {},
   "outputs": [
    {
     "name": "stdout",
     "output_type": "stream",
     "text": [
      "True\n",
      "False\n"
     ]
    }
   ],
   "source": [
    "a = \"\\u0030\" #unicode for 0\n",
    "b = \"\\u0047\" #unicode for G\n",
    "print(a.isdecimal())\n",
    "print(b.isdecimal())"
   ]
  },
  {
   "cell_type": "code",
   "execution_count": 115,
   "id": "fd152d8c",
   "metadata": {},
   "outputs": [
    {
     "data": {
      "text/plain": [
       "True"
      ]
     },
     "execution_count": 115,
     "metadata": {},
     "output_type": "execute_result"
    }
   ],
   "source": [
    "txt = \"50800\"\n",
    "txt.isdigit()"
   ]
  },
  {
   "cell_type": "code",
   "execution_count": 116,
   "id": "1569d7c2",
   "metadata": {},
   "outputs": [
    {
     "name": "stdout",
     "output_type": "stream",
     "text": [
      "True\n",
      "True\n"
     ]
    }
   ],
   "source": [
    "a = \"\\u0030\" #unicode for 0\n",
    "b = \"\\u00B2\" #unicode for ²\n",
    "\n",
    "print(a.isdigit())\n",
    "print(b.isdigit())"
   ]
  },
  {
   "cell_type": "code",
   "execution_count": 117,
   "id": "9e75cc23",
   "metadata": {},
   "outputs": [
    {
     "name": "stdout",
     "output_type": "stream",
     "text": [
      "True\n",
      "True\n",
      "False\n",
      "False\n",
      "False\n"
     ]
    }
   ],
   "source": [
    "a = \"\\u0030\" #unicode for 0\n",
    "b = \"\\u00B2\" #unicode for &sup2;\n",
    "c = \"10km2\"\n",
    "d = \"-1\"\n",
    "e = \"1.5\"\n",
    "\n",
    "print(a.isnumeric())\n",
    "print(b.isnumeric())\n",
    "print(c.isnumeric())\n",
    "print(d.isnumeric())\n",
    "print(e.isnumeric())"
   ]
  },
  {
   "cell_type": "code",
   "execution_count": 118,
   "id": "7a9b42fa",
   "metadata": {},
   "outputs": [
    {
     "data": {
      "text/plain": [
       "True"
      ]
     },
     "execution_count": 118,
     "metadata": {},
     "output_type": "execute_result"
    }
   ],
   "source": [
    "txt = \"   \"\n",
    "txt.isspace()"
   ]
  },
  {
   "cell_type": "code",
   "execution_count": 119,
   "id": "09b78ffc",
   "metadata": {},
   "outputs": [
    {
     "data": {
      "text/plain": [
       "False"
      ]
     },
     "execution_count": 119,
     "metadata": {},
     "output_type": "execute_result"
    }
   ],
   "source": [
    "txt = \"   s   \"\n",
    "txt.isspace()"
   ]
  },
  {
   "cell_type": "code",
   "execution_count": 120,
   "id": "cf76935b",
   "metadata": {},
   "outputs": [
    {
     "name": "stdout",
     "output_type": "stream",
     "text": [
      "False\n",
      "False\n",
      "True\n"
     ]
    }
   ],
   "source": [
    "a = \"Hello World!\"\n",
    "b = \"hello 123\"\n",
    "c = \"MY NAME IS PETER\"\n",
    "\n",
    "print(a.isupper())\n",
    "print(b.isupper())\n",
    "print(c.isupper())"
   ]
  },
  {
   "cell_type": "code",
   "execution_count": 121,
   "id": "61f348cf",
   "metadata": {},
   "outputs": [
    {
     "name": "stdout",
     "output_type": "stream",
     "text": [
      "False\n",
      "True\n",
      "False\n"
     ]
    }
   ],
   "source": [
    "a = \"Hello world!\"\n",
    "b = \"hello 123\"\n",
    "c = \"mynameisPeter\"\n",
    "\n",
    "print(a.islower())\n",
    "print(b.islower())\n",
    "print(c.islower())"
   ]
  },
  {
   "cell_type": "code",
   "execution_count": 122,
   "id": "b29b2ecb",
   "metadata": {},
   "outputs": [
    {
     "name": "stdout",
     "output_type": "stream",
     "text": [
      "False\n",
      "True\n",
      "True\n",
      "True\n"
     ]
    }
   ],
   "source": [
    "a = \"HELLO, AND WELCOME TO MY WORLD\"\n",
    "b = \"Hello\"\n",
    "c = \"22 Names\"\n",
    "d = \"This Is %'!?\"\n",
    "\n",
    "print(a.istitle())\n",
    "print(b.istitle())\n",
    "print(c.istitle())\n",
    "print(d.istitle())"
   ]
  },
  {
   "cell_type": "markdown",
   "id": "0f3922c1",
   "metadata": {},
   "source": [
    "<h2 style='color:blue' >  String formating"
   ]
  },
  {
   "cell_type": "markdown",
   "id": "bb6e780e",
   "metadata": {},
   "source": [
    "- There are five different ways to perform string formatting in Python\n",
    "    * Formatting with % Operator.\n",
    "    * Formatting with format() string method.\n",
    "    * Formatting with string literals, called f-strings.\n",
    "    * Formatting with String Template Class\n",
    "    * Formatting with center() string method."
   ]
  },
  {
   "cell_type": "markdown",
   "id": "ea090070",
   "metadata": {},
   "source": [
    "**Formatting string using % Operator**\n",
    "- oldest method of string formatting. \n",
    "- we use the modulo % operator.\n",
    "- The modulo % is also known as the “string-formatting operator”.\n",
    "- we also able to insert Multiple Strings using the modulo Operator"
   ]
  },
  {
   "cell_type": "code",
   "execution_count": 123,
   "id": "e652d017",
   "metadata": {},
   "outputs": [
    {
     "name": "stdout",
     "output_type": "stream",
     "text": [
      "Hitesh is a good boy\n"
     ]
    }
   ],
   "source": [
    "print(\"Hitesh is a %s boy\"%\"good\")"
   ]
  },
  {
   "cell_type": "code",
   "execution_count": 124,
   "id": "8d3e14dc",
   "metadata": {},
   "outputs": [
    {
     "name": "stdout",
     "output_type": "stream",
     "text": [
      "Hitesh is a good boy.he loves Reshma < 3.\n"
     ]
    }
   ],
   "source": [
    "print(\"Hitesh is a %s boy.he loves %s < %d.\" % (\"good\",'Reshma',3))"
   ]
  },
  {
   "cell_type": "code",
   "execution_count": 125,
   "id": "441f24c2",
   "metadata": {},
   "outputs": [
    {
     "name": "stdout",
     "output_type": "stream",
     "text": [
      "Hitesh is a Good boy.he loves Reshma < 3.she also likes Hitesh <  3.00\n"
     ]
    }
   ],
   "source": [
    "X = 'Good'\n",
    "Y = 'Reshma'\n",
    "Z = 3\n",
    "W = 'Hitesh'\n",
    "print(\"Hitesh is a %s boy.he loves %s < %d.she also likes %s < %5.2f\" % (X,Y,Z,W,Z))"
   ]
  },
  {
   "cell_type": "markdown",
   "id": "2b84272d",
   "metadata": {},
   "source": [
    "- `%` operator also usesd for Precision Handling in Python.\n",
    "- Floating-point numbers use the format `%A.Bf`. \n",
    "    - `A` would be the minimum number of digits to be present in the string.if the whole number doesn’t have this many digits it will be padded with white space.\n",
    "    - `Bf` represents how many digits are to be displayed after the decimal point. "
   ]
  },
  {
   "cell_type": "code",
   "execution_count": 126,
   "id": "537d7f35",
   "metadata": {},
   "outputs": [
    {
     "data": {
      "text/plain": [
       "('3.1416', 6)"
      ]
     },
     "execution_count": 126,
     "metadata": {},
     "output_type": "execute_result"
    }
   ],
   "source": [
    "'%5.4f' %(3.141592),len('%5.4f' %(3.141592))"
   ]
  },
  {
   "cell_type": "code",
   "execution_count": 127,
   "id": "a7ed2b60",
   "metadata": {},
   "outputs": [
    {
     "data": {
      "text/plain": [
       "('    3.14', 8)"
      ]
     },
     "execution_count": 127,
     "metadata": {},
     "output_type": "execute_result"
    }
   ],
   "source": [
    "'%8.2f' %(3.141592),len('%8.2f' %(3.141592))"
   ]
  },
  {
   "cell_type": "markdown",
   "id": "75301f5e",
   "metadata": {},
   "source": [
    "**Formatting using format() Method**\n",
    "- Format() method was introduced with Python3 for handling complex string formatting more efficiently.\n",
    "- Formatters work by putting in one or more replacement fields and placeholders defined by a pair of curly braces { } into a string and calling the str.format(). \n",
    "- The value we wish to put into the placeholders and concatenate with the string passed as parameters into the format function. \n",
    "- Syntax: ‘String here {} then also {}’.format(‘something1′,’something2’)\n",
    "- it also supports an Index-based Insertion.\n",
    "- curly braces {} with indices are used within the string ‘{2} {1} {0}’ to indicate the positions where the corresponding values will be placed.we also able to give custom indices.\n",
    "- curly braces {} with named placeholders ({a}, {b}, {c}) are used within the string ‘a: {a}, b: {b}, c: {c}’ to indicate the positions where the corresponding named arguments will be placed."
   ]
  },
  {
   "cell_type": "code",
   "execution_count": 128,
   "id": "c33d079d",
   "metadata": {},
   "outputs": [
    {
     "name": "stdout",
     "output_type": "stream",
     "text": [
      "We all are equal.\n"
     ]
    }
   ],
   "source": [
    "print('We all are {}.'.format('equal'))"
   ]
  },
  {
   "cell_type": "code",
   "execution_count": 129,
   "id": "5292aa52",
   "metadata": {},
   "outputs": [
    {
     "name": "stdout",
     "output_type": "stream",
     "text": [
      "Read the directions\n"
     ]
    }
   ],
   "source": [
    "print('{2} {1} {0}'.format('directions','the', 'Read'))"
   ]
  },
  {
   "cell_type": "code",
   "execution_count": 130,
   "id": "43b0e01f",
   "metadata": {},
   "outputs": [
    {
     "name": "stdout",
     "output_type": "stream",
     "text": [
      "a: 1, b: Two, c: 12.3\n"
     ]
    }
   ],
   "source": [
    "print('a: {a}, b: {b}, c: {c}'.format(a = 1,b = 'Two',c = 12.3))"
   ]
  },
  {
   "cell_type": "code",
   "execution_count": 131,
   "id": "0b48d2c3",
   "metadata": {},
   "outputs": [
    {
     "name": "stdout",
     "output_type": "stream",
     "text": [
      "a: 1, b: 1, c: 1\n"
     ]
    }
   ],
   "source": [
    "print('a: {a}, b: {a}, c: {a}'.format(a = 1))"
   ]
  },
  {
   "cell_type": "code",
   "execution_count": 132,
   "id": "202fa7e7",
   "metadata": {},
   "outputs": [
    {
     "ename": "KeyError",
     "evalue": "'a'",
     "output_type": "error",
     "traceback": [
      "\u001b[1;31m---------------------------------------------------------------------------\u001b[0m",
      "\u001b[1;31mKeyError\u001b[0m                                  Traceback (most recent call last)",
      "Cell \u001b[1;32mIn[132], line 4\u001b[0m\n\u001b[0;32m      2\u001b[0m b \u001b[38;5;241m=\u001b[39m \u001b[38;5;124m'\u001b[39m\u001b[38;5;124mTwo\u001b[39m\u001b[38;5;124m'\u001b[39m\n\u001b[0;32m      3\u001b[0m c \u001b[38;5;241m=\u001b[39m \u001b[38;5;241m12.3\u001b[39m\n\u001b[1;32m----> 4\u001b[0m \u001b[38;5;28mprint\u001b[39m(\u001b[38;5;124;43m'\u001b[39;49m\u001b[38;5;124;43ma: \u001b[39;49m\u001b[38;5;132;43;01m{a}\u001b[39;49;00m\u001b[38;5;124;43m, b: \u001b[39;49m\u001b[38;5;132;43;01m{b}\u001b[39;49;00m\u001b[38;5;124;43m, c: \u001b[39;49m\u001b[38;5;132;43;01m{c}\u001b[39;49;00m\u001b[38;5;124;43m'\u001b[39;49m\u001b[38;5;241;43m.\u001b[39;49m\u001b[43mformat\u001b[49m\u001b[43m(\u001b[49m\u001b[43ma\u001b[49m\u001b[43m,\u001b[49m\u001b[43mb\u001b[49m\u001b[43m,\u001b[49m\u001b[43mc\u001b[49m\u001b[43m)\u001b[49m)\n",
      "\u001b[1;31mKeyError\u001b[0m: 'a'"
     ]
    }
   ],
   "source": [
    "a = 1\n",
    "b = 'Two'\n",
    "c = 12.3\n",
    "print('a: {a}, b: {b}, c: {c}'.format(a,b,c))"
   ]
  },
  {
   "cell_type": "markdown",
   "id": "06bc4bbc",
   "metadata": {},
   "source": [
    "- this method also supports a Float Precision.\n",
    "- Syntax: {[index]:[width][.precision][type]}\n",
    "- The type can be used with format codes:\n",
    "    - ‘d’ for integers\n",
    "    - ‘f’ for floating-point numbers\n",
    "    - ‘b’ for binary numbers\n",
    "    - ‘o’ for octal numbers\n",
    "    - ‘x’ for octal hexadecimal numbers\n",
    "    - ‘s’ for string\n",
    "    - ‘e’ for floating-point in an exponent format"
   ]
  },
  {
   "cell_type": "code",
   "execution_count": 133,
   "id": "d9d20e07",
   "metadata": {},
   "outputs": [
    {
     "data": {
      "text/plain": [
       "('3.14159', 7)"
      ]
     },
     "execution_count": 133,
     "metadata": {},
     "output_type": "execute_result"
    }
   ],
   "source": [
    "'{0:1.5f}'.format(3.141592), len('{0:1.5f}'.format(3.141592))"
   ]
  },
  {
   "cell_type": "code",
   "execution_count": 134,
   "id": "854cd559",
   "metadata": {},
   "outputs": [
    {
     "data": {
      "text/plain": [
       "('    3.14', 8)"
      ]
     },
     "execution_count": 134,
     "metadata": {},
     "output_type": "execute_result"
    }
   ],
   "source": [
    "'{0:8.2f}'.format(3.141592), len('{0:8.2f}'.format(3.141592))"
   ]
  },
  {
   "cell_type": "code",
   "execution_count": 135,
   "id": "67cc7c40",
   "metadata": {},
   "outputs": [
    {
     "data": {
      "text/plain": [
       "('3.14', 4)"
      ]
     },
     "execution_count": 135,
     "metadata": {},
     "output_type": "execute_result"
    }
   ],
   "source": [
    "'{:.2f}'.format(3.141592), len('{:.2f}'.format(3.141592)) # index always 0 and default width lenght of number"
   ]
  },
  {
   "cell_type": "markdown",
   "id": "1cb19ceb",
   "metadata": {},
   "source": [
    "**String Formatting with F-Strings**"
   ]
  },
  {
   "cell_type": "markdown",
   "id": "3aabb848",
   "metadata": {},
   "source": [
    "- PEP-498 introduced a new string formatting mechanism known as `Literal String Interpolation` or `F-strings` (because of the leading f character preceding the string literal). \n",
    "- The idea behind f-String in Python is to make string interpolation simpler.\n",
    "- To create an f-string in Python we need to add the prefix \"f\" to the string. \n",
    "- F-strings provide a concise and convenient way to embed Python expressions inside string literals for formatting.\n",
    "- we can also able to insert Python expressions in string and perform arithmetic operations in it.\n",
    "- We can also use lambda expressions in f-string formatting.\n",
    "- Float precision in the f-String Method\n",
    "- Syntax: {value:{width}.{precision}}"
   ]
  },
  {
   "cell_type": "code",
   "execution_count": 136,
   "id": "486cc7bb",
   "metadata": {},
   "outputs": [
    {
     "name": "stdout",
     "output_type": "stream",
     "text": [
      "My name is Hitesh.\n"
     ]
    }
   ],
   "source": [
    "name = 'Hitesh'\n",
    "print(f\"My name is {name}.\")"
   ]
  },
  {
   "cell_type": "code",
   "execution_count": 137,
   "id": "a523691b",
   "metadata": {},
   "outputs": [
    {
     "name": "stdout",
     "output_type": "stream",
     "text": [
      "My name is Hitesh.i love Reshma < 3\n"
     ]
    }
   ],
   "source": [
    "name = 'Hitesh'\n",
    "name2 = 'Reshma'\n",
    "num = 3\n",
    "print(f\"My name is {name}.i love {name2} < {num}\")"
   ]
  },
  {
   "cell_type": "code",
   "execution_count": 138,
   "id": "abf33817",
   "metadata": {},
   "outputs": [
    {
     "name": "stdout",
     "output_type": "stream",
     "text": [
      "He said his age is 30.\n"
     ]
    }
   ],
   "source": [
    "a = 5\n",
    "b = 10\n",
    "print(f\"He said his age is {2 * (a + b)}.\")"
   ]
  },
  {
   "cell_type": "code",
   "execution_count": 139,
   "id": "7dddc363",
   "metadata": {},
   "outputs": [
    {
     "name": "stdout",
     "output_type": "stream",
     "text": [
      "He said his age is 40\n"
     ]
    }
   ],
   "source": [
    "a = 10\n",
    "b = 4\n",
    "print(f\"He said his age is { (lambda x: x*a) (b) }\")"
   ]
  },
  {
   "cell_type": "code",
   "execution_count": 140,
   "id": "8e73317a",
   "metadata": {},
   "outputs": [
    {
     "data": {
      "text/plain": [
       "('3.1416', 6)"
      ]
     },
     "execution_count": 140,
     "metadata": {},
     "output_type": "execute_result"
    }
   ],
   "source": [
    "num = 3.14159 \n",
    "f\"{num:{1}.{5}}\" , len(f\"{num:{1}.{5}}\")"
   ]
  },
  {
   "cell_type": "code",
   "execution_count": 141,
   "id": "01385b8d",
   "metadata": {},
   "outputs": [
    {
     "data": {
      "text/plain": [
       "('     3.14', 9)"
      ]
     },
     "execution_count": 141,
     "metadata": {},
     "output_type": "execute_result"
    }
   ],
   "source": [
    "num = 3.14159 \n",
    "f\"{num:{9}.{3}}\" , len(f\"{num:{9}.{3}}\")"
   ]
  },
  {
   "cell_type": "markdown",
   "id": "12c45389",
   "metadata": {},
   "source": [
    "<h2 style='color:blue' > String Methods for Membership and other Testing "
   ]
  },
  {
   "cell_type": "code",
   "execution_count": 142,
   "id": "db7fc447",
   "metadata": {},
   "outputs": [
    {
     "data": {
      "text/plain": [
       "(False, True)"
      ]
     },
     "execution_count": 142,
     "metadata": {},
     "output_type": "execute_result"
    }
   ],
   "source": [
    "S = 'Hitesh'\n",
    "'X' in S,\"H\" in S"
   ]
  },
  {
   "cell_type": "code",
   "execution_count": 143,
   "id": "5b4132ea",
   "metadata": {},
   "outputs": [
    {
     "data": {
      "text/plain": [
       "(True, True)"
      ]
     },
     "execution_count": 143,
     "metadata": {},
     "output_type": "execute_result"
    }
   ],
   "source": [
    "S1 = 'Hitesh'\n",
    "S2 = 'Hitesh'\n",
    "S1 == S2,S1 is S2 # same object because of cache"
   ]
  },
  {
   "cell_type": "code",
   "execution_count": 144,
   "id": "803bea99",
   "metadata": {},
   "outputs": [
    {
     "data": {
      "text/plain": [
       "(True, False)"
      ]
     },
     "execution_count": 144,
     "metadata": {},
     "output_type": "execute_result"
    }
   ],
   "source": [
    "S1 = 'Hitesh Vaghela'\n",
    "S2 = 'Hitesh Vaghela'\n",
    "S1 == S2,S1 is S2 # different object as cache size is 2Mb and only small object will be catched"
   ]
  },
  {
   "cell_type": "markdown",
   "id": "fbfec08f",
   "metadata": {},
   "source": [
    "<h2 style='color:blue' >  Usefull Tricks"
   ]
  },
  {
   "cell_type": "markdown",
   "id": "e7616c52",
   "metadata": {},
   "source": [
    "- leading and trailing double underscores is the naming pattern Python uses for implementation details.\n",
    "- The names without the underscores in this list are the callable methods on string objects.\n",
    "- The dir function simply gives the methods’ names.\n",
    "- To ask what that methods do we can pass them to the help function\n",
    "- `shift + tab` opens a documentation of method in jupter notebook "
   ]
  },
  {
   "cell_type": "code",
   "execution_count": 145,
   "id": "ef582aa6",
   "metadata": {},
   "outputs": [
    {
     "name": "stdout",
     "output_type": "stream",
     "text": [
      "['__add__', '__class__', '__contains__', '__delattr__', '__dir__', '__doc__', '__eq__', '__format__', '__ge__', '__getattribute__', '__getitem__', '__getnewargs__', '__gt__', '__hash__', '__init__', '__init_subclass__', '__iter__', '__le__', '__len__', '__lt__', '__mod__', '__mul__', '__ne__', '__new__', '__reduce__', '__reduce_ex__', '__repr__', '__rmod__', '__rmul__', '__setattr__', '__sizeof__', '__str__', '__subclasshook__', 'capitalize', 'casefold', 'center', 'count', 'encode', 'endswith', 'expandtabs', 'find', 'format', 'format_map', 'index', 'isalnum', 'isalpha', 'isascii', 'isdecimal', 'isdigit', 'isidentifier', 'islower', 'isnumeric', 'isprintable', 'isspace', 'istitle', 'isupper', 'join', 'ljust', 'lower', 'lstrip', 'maketrans', 'partition', 'removeprefix', 'removesuffix', 'replace', 'rfind', 'rindex', 'rjust', 'rpartition', 'rsplit', 'rstrip', 'split', 'splitlines', 'startswith', 'strip', 'swapcase', 'title', 'translate', 'upper', 'zfill']\n"
     ]
    }
   ],
   "source": [
    "S = \"A\"\n",
    "print(dir(S))"
   ]
  },
  {
   "cell_type": "code",
   "execution_count": 146,
   "id": "b471c30f",
   "metadata": {},
   "outputs": [
    {
     "name": "stdout",
     "output_type": "stream",
     "text": [
      "Help on built-in function upper:\n",
      "\n",
      "upper() method of builtins.str instance\n",
      "    Return a copy of the string converted to uppercase.\n",
      "\n"
     ]
    }
   ],
   "source": [
    "help(S.upper)"
   ]
  }
 ],
 "metadata": {
  "kernelspec": {
   "display_name": "Python 3 (ipykernel)",
   "language": "python",
   "name": "python3"
  },
  "language_info": {
   "codemirror_mode": {
    "name": "ipython",
    "version": 3
   },
   "file_extension": ".py",
   "mimetype": "text/x-python",
   "name": "python",
   "nbconvert_exporter": "python",
   "pygments_lexer": "ipython3",
   "version": "3.10.6"
  }
 },
 "nbformat": 4,
 "nbformat_minor": 5
}
