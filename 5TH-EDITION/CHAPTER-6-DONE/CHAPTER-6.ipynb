{
 "cells": [
  {
   "cell_type": "markdown",
   "id": "60fc85be",
   "metadata": {},
   "source": [
    "<h1 style='color:red' > Dynamic Typing and Shared Preference </h1>"
   ]
  },
  {
   "cell_type": "markdown",
   "id": "0826dcb5",
   "metadata": {},
   "source": [
    "- dynamic typing and the polymorphism implies the conciseness and flexibility of the Python language.\n",
    "- as we know that in Python...\n",
    "    - we do not declare the specific types of the objects in our code.\n",
    "    - therefor they are naturally applicable in more contexts than we can sometimes even plan ahead for.\n",
    "    - in this way dynamic typing is the root of flexibility in python.\n",
    "- as we know that in Python...\n",
    "    - the meaning of an operation depends on the objects being operated on.\n",
    "    - the plus sign (+) means different things for different objects: addition for numbers, and concatenation for strings.\n",
    "    - This property of Python is  called as a polymorphism.\n",
    "    - due to polymorphism python provides conciseness."
   ]
  },
  {
   "cell_type": "markdown",
   "id": "c78ab722",
   "metadata": {},
   "source": [
    "* **Variable creation**\n",
    "    - we never declare variables ahead of time in python.\n",
    "    - in python variable (name) like `a` is created when your code first assigns it a value.\n",
    "    - Future assignments change the value of the already created name. \n",
    "    - Ex. -  we run an assignment statement such as a = 3 it works even if we’ve never told Python to use the name `a` as a variable before **( in programming language such as C, C++, java we need to declare variable before it's assignment and we also need to declare it's datatype )**\n",
    "* **Variable types**\n",
    "    - in python variable never has any type information or constraints associated with it.\n",
    "    - The notion of type lives with objects not names.\n",
    "    - Variables are generic in nature.\n",
    "    - they always simply refer to a particular object at a particular point in time in python.\n",
    "* **Variable use**\n",
    "    - When a variable appears in an expression it is immediately replaced with the object that it currently refers to.\n",
    "    - Further, all variables must be explicitly assigned before they can be used.\n",
    "    - referencing unassigned variables results in errors."
   ]
  },
  {
   "cell_type": "markdown",
   "id": "7a43ed51",
   "metadata": {},
   "source": [
    "<h4 style='color:blue' > When we type a = 3 in an interactive session or program file...how does Python know that `a` should stand for an integer?"
   ]
  },
  {
   "cell_type": "markdown",
   "id": "3d22043f",
   "metadata": {},
   "source": [
    "- when we write `a = 3` python follows a below steps.."
   ]
  },
  {
   "cell_type": "markdown",
   "id": "819cc31c",
   "metadata": {},
   "source": [
    "1. Create an object to represent the value 3.\n",
    "- objects have more structure than just enough space to represent their values.\n",
    "    - Each object also has two standard header fields...\n",
    "        - type designator used to  mark the type of the object\n",
    "        - a reference counter used to determine reclaimation of the object.\n",
    "2. Create the variable a, if it does not yet exist.\n",
    "3. Link the variable a to the new object 3."
   ]
  },
  {
   "attachments": {
    "image.png": {
     "image/png": "[encoded data removed]"
    }
   },
   "cell_type": "markdown",
   "id": "4fb17c60",
   "metadata": {},
   "source": [
    "![image.png](attachment:image.png)"
   ]
  },
  {
   "cell_type": "markdown",
   "id": "2b15c58c",
   "metadata": {},
   "source": [
    "-  links from variables to objects are called `references` in Python.\n",
    "- after running the assignment a = 3 Variable `a` becomes a reference to the object 3.\n",
    "- Internally the variable is a pointer to the object’s memory space created by running the literal expression 3."
   ]
  },
  {
   "cell_type": "markdown",
   "id": "59e920bc",
   "metadata": {},
   "source": [
    "<h2 style='color:green' > Termolgies in interpreter design </h2>"
   ]
  },
  {
   "cell_type": "markdown",
   "id": "95f0d269",
   "metadata": {},
   "source": [
    "- Variables are Names(entries) in a system table with blank spaces for links to objects.\n",
    "- Objects are pieces of allocated memory to represent the values for which they stand.\n",
    "- References are pointers of objects to variables."
   ]
  },
  {
   "cell_type": "markdown",
   "id": "9ff67e09",
   "metadata": {},
   "source": [
    "- each time we generate a new value in our code by running an expression Python creates a new object (chunk of memory) to represent that value.\n",
    "- <span style='color:red' > As an optimization Python internally caches and reuses certain kinds of unchangeable(immutable) objects such as small integers and strings. </span>"
   ]
  },
  {
   "cell_type": "markdown",
   "id": "2a2734bd",
   "metadata": {},
   "source": [
    "<h2 style='color:green' > Types Live with Objects, Not Variables </h2>"
   ]
  },
  {
   "cell_type": "markdown",
   "id": "80b95e63",
   "metadata": {},
   "source": [
    "- unlike other programming language...in python type lives with object in python not in variable.\n",
    "- type of objects are determined automatically at runtime, not in response to declarations in your code.\n",
    "- here...A starts out as an integer, then becomes a string, and finally becomes a floating-point number. \n",
    "- the reason behind this is...\n",
    "    - variable in Python is that it references a particular object at a particular point in time.\n",
    "    - in broad terms names(variables) are just generic references to objects.\n",
    "    - Objects on the other hand, know what type they are—each object contains a header field that tags the object with its type. The integer object 3, for example, will contain the value 3, plus a designator that tells Python that the object is an integer. designator of the 'spam' string object points to the string type (called str) instead.this way python provides a dynamic data typing."
   ]
  },
  {
   "cell_type": "code",
   "execution_count": 1,
   "id": "64e578bf",
   "metadata": {},
   "outputs": [],
   "source": [
    "A = 3 # It's an integer\n",
    "A = 'spam' # Now it's a string\n",
    "A = 1.23 # Now it's a floating point"
   ]
  },
  {
   "cell_type": "markdown",
   "id": "465363b1",
   "metadata": {},
   "source": [
    "<h2 style='color:green' > Objects Are Garbage-Collected </h2>"
   ]
  },
  {
   "cell_type": "markdown",
   "id": "978f7b83",
   "metadata": {},
   "source": [
    "- In the prior section we assigned the variable a to different types of objects in each assignment. \n",
    "- But when we reassign a variable, what happens to the value it was previously referencing? \n",
    "- For example, after the following statements, what happens to the object 3?"
   ]
  },
  {
   "cell_type": "code",
   "execution_count": 2,
   "id": "27ada0cd",
   "metadata": {},
   "outputs": [],
   "source": [
    "a = 3\n",
    "a = 'spam'"
   ]
  },
  {
   "cell_type": "markdown",
   "id": "02188e5c",
   "metadata": {},
   "source": [
    "- The answer is that in Python, whenever a name is assigned to a new object, the space held by the prior object is reclaimed if it is not referenced by any other name or object. This automatic reclamation of objects’ space is known as `garbage collection`.\n",
    "- component named `Garbage collector` responsible for the garbage collection in python.  \n",
    "- consider the following example to understand this concept properly..."
   ]
  },
  {
   "cell_type": "code",
   "execution_count": 3,
   "id": "4cecf9ac",
   "metadata": {},
   "outputs": [],
   "source": [
    "x = 42\n",
    "x = 'shrubbery' # Reclaim 42 now (unless referenced elsewhere)\n",
    "x = 3.1415 # Reclaim 'shrubbery' now\n",
    "x = [1, 2, 3] # Reclaim 3.1415 now"
   ]
  },
  {
   "cell_type": "markdown",
   "id": "0c7dfe28",
   "metadata": {},
   "source": [
    "- Each time x is assigned to a new object, Python reclaims the prior object’s space.\n",
    "- For instance, when it is assigned the string 'shrubbery', the object 42 is immediately reclaimed (assuming it is not referenced anywhere else).\n",
    "- reclaimed object’s space is automatically thrown back into the free space pool to be reused for a future object."
   ]
  },
  {
   "cell_type": "markdown",
   "id": "af5e1f76",
   "metadata": {},
   "source": [
    "- Internally garbage collector performs this task using reference counter present in every object that keeps track of the number of references currently pointing to that object.\n",
    "- when we assign a new raference of a any object to the variable, raference counter of that object is incremented by 1.\n",
    "- also when variable stops refering an object,  raference counter of that object is decremented by 1.\n",
    "- As soon as (and exactly when) this counter drops to zero the object’s memory space is automatically reclaimed.\n",
    "- benefit of garbage collection is that it we can use objects liberally without ever needing to allocate or free up space in our script. Python automatically clean up unused space for you as your program runs.\n",
    "- <span style='color:red' > As an optimization Python internally caches and reuses certain kinds of unchangeable(immutable) objects such as small integers and strings instead of reclaming them. </span>"
   ]
  },
  {
   "cell_type": "markdown",
   "id": "45defbbf",
   "metadata": {},
   "source": [
    "<h2 style='color:green' > Cyclic referernce Garbage-Collection </h2>"
   ]
  },
  {
   "cell_type": "markdown",
   "id": "692b2d59",
   "metadata": {},
   "source": [
    "- Python’s garbage collection also has a component that detects and reclaims objects with cyclic references in time.\n",
    "- This component can be disabled if you’re sure that your code doesn’t create cycles, but it is enabled by default.\n",
    "\n",
    "- Circular references are a classic issue in reference count garbage collectors.\n",
    "- Because references are implemented as a pointers, it’s possible for an object to reference itself, or reference another object that does."
   ]
  },
  {
   "cell_type": "code",
   "execution_count": 4,
   "id": "48d70c01",
   "metadata": {},
   "outputs": [
    {
     "data": {
      "text/plain": [
       "[1, 2, 3, [...]]"
      ]
     },
     "execution_count": 4,
     "metadata": {},
     "output_type": "execute_result"
    }
   ],
   "source": [
    "# Example of circular refference\n",
    "L = [1,2,3]   \n",
    "L.append(L)\n",
    "L"
   ]
  },
  {
   "cell_type": "code",
   "execution_count": 5,
   "id": "bdb27df2",
   "metadata": {},
   "outputs": [
    {
     "data": {
      "text/plain": [
       "[1, 2, 3, 4, 5, 6, [...]]"
      ]
     },
     "execution_count": 5,
     "metadata": {},
     "output_type": "execute_result"
    }
   ],
   "source": [
    "# another Example is...\n",
    "L = [1,2,3]\n",
    "B = [4,5,6,L]\n",
    "L.extend(B)\n",
    "L"
   ]
  },
  {
   "cell_type": "markdown",
   "id": "aa95db02",
   "metadata": {},
   "source": [
    "<h2 style='color:blue' > Shared References </h2>"
   ]
  },
  {
   "cell_type": "markdown",
   "id": "f3e4bb8c",
   "metadata": {},
   "source": [
    "- shared reference means...more than one variables are reffering the same object at same time.\n",
    "- For Ex. -"
   ]
  },
  {
   "cell_type": "code",
   "execution_count": 6,
   "id": "90854fd3",
   "metadata": {},
   "outputs": [],
   "source": [
    "a = 3\n",
    "b = a"
   ]
  },
  {
   "cell_type": "markdown",
   "id": "c0d7806e",
   "metadata": {},
   "source": [
    "- The second command causes Python to create the variable b.\n",
    "- the variable a is being used and not assigned here yet...\n",
    "    - so firstly object for value 3 ias created and  variable `a` is replaced with the object it references (3).\n",
    "    - then b is made to reference that object.\n",
    "- The net effect is that the variables a and b wind up referencing the same object.\n",
    "- this is called as a shared reference."
   ]
  },
  {
   "attachments": {
    "image.png": {
     "image/png": "[encoded data removed]"
    }
   },
   "cell_type": "markdown",
   "id": "64c9c3fe",
   "metadata": {},
   "source": [
    "![image.png](attachment:image.png)"
   ]
  },
  {
   "cell_type": "markdown",
   "id": "2939c267",
   "metadata": {},
   "source": [
    "- with multiple names referencing the same object—is usually called a shared reference (and sometimes just a shared object) in Python.\n",
    "- Note that the names a and b are not linked to each other directly when this happens.\n",
    "- there is no way to ever link a variable to another variable in Python.\n",
    "- here... both variables just point to the same object via their references but not linked with each other."
   ]
  },
  {
   "cell_type": "code",
   "execution_count": 7,
   "id": "1e31c1cc",
   "metadata": {},
   "outputs": [],
   "source": [
    "# suppose we extend the session with one more statement\n",
    "a = 3\n",
    "b = a\n",
    "a = 'spam'"
   ]
  },
  {
   "cell_type": "markdown",
   "id": "820135eb",
   "metadata": {},
   "source": [
    "- As with all Python assignments, this statement simply makes a new object to represent the string value 'spam' and sets a to reference this new object.\n",
    "- however, It does not change the value of b. b still references the original object, the integer 3 as it is not an inplace operation and int are numbers are immutable in nature.\n",
    "- now you think that if number is innutable then why reference of variable `a` changed?\n",
    "- it's because it is assigned to new value and as rules of variable creation Future assignments change the value of the already created name. but `b` is not assigned here so we can't change it as numbers are immutable. "
   ]
  },
  {
   "cell_type": "code",
   "execution_count": 8,
   "id": "f97ada62",
   "metadata": {},
   "outputs": [],
   "source": [
    "# we can't able to perform inplace operations on immutable types as it cat't be modified."
   ]
  },
  {
   "cell_type": "code",
   "execution_count": 9,
   "id": "ad0437f4",
   "metadata": {},
   "outputs": [
    {
     "data": {
      "text/plain": [
       "(5, 3)"
      ]
     },
     "execution_count": 9,
     "metadata": {},
     "output_type": "execute_result"
    }
   ],
   "source": [
    "a = 3\n",
    "b = a\n",
    "a = a + 2\n",
    "a,b"
   ]
  },
  {
   "cell_type": "markdown",
   "id": "bd462544",
   "metadata": {},
   "source": [
    "- in this case many thinks that it is a inplace operation but it is not.\n",
    "- here python creates a new object for result a = 5 and starts referening that instead modifing object 3 and making it 5. \n",
    "- so in this case `a` stops refering object 3 but `b` still refereing the object 3 and also `b` is not assigned yet here so we can't change it as numbers are immutable."
   ]
  },
  {
   "cell_type": "markdown",
   "id": "b2253b16",
   "metadata": {},
   "source": [
    "**Shared References and In-Place Changes**"
   ]
  },
  {
   "cell_type": "markdown",
   "id": "3f1e3ee6",
   "metadata": {},
   "source": [
    "- there are objects and operations that perform in-place object changes—Python’s mutable types, including lists, dictionaries, and sets.\n",
    "- For instance, an assignment to an offset in a list actually changes the list object itself in place, rather than generating a brand-new list object.\n",
    "- For objects that support such in-place changes, we need to be more aware of shared references since a change from one name may impact others."
   ]
  },
  {
   "cell_type": "markdown",
   "id": "0adef73f",
   "metadata": {},
   "source": [
    "To illustrate this let's take another Example..."
   ]
  },
  {
   "cell_type": "code",
   "execution_count": 10,
   "id": "45aeae85",
   "metadata": {},
   "outputs": [],
   "source": [
    "L1 = [2, 3, 4]\n",
    "L2 = L1"
   ]
  },
  {
   "cell_type": "markdown",
   "id": "e218b8dc",
   "metadata": {},
   "source": [
    "- L1 here is a list containing the objects 2, 3, and 4.\n",
    "- Items inside a list are accessed by their positions.\n",
    "- so L1[0] refers to object 2, the first item in the list L1.\n",
    "- lists are also objects in their own right just like integers and strings so After running the two prior assignments, L1 and L2 reference the same shared object."
   ]
  },
  {
   "cell_type": "markdown",
   "id": "405a1c09",
   "metadata": {},
   "source": [
    "- now let's change the first element of list l1."
   ]
  },
  {
   "cell_type": "code",
   "execution_count": 11,
   "id": "e8bcb0f8",
   "metadata": {},
   "outputs": [
    {
     "data": {
      "text/plain": [
       "[24, 3, 4]"
      ]
     },
     "execution_count": 11,
     "metadata": {},
     "output_type": "execute_result"
    }
   ],
   "source": [
    "L1 = [2, 3, 4] # A mutable object\n",
    "L2 = L1 # Make a reference to the same object\n",
    "L2[0] = 24 # An in-place change\n",
    "L2 # L1 is different"
   ]
  },
  {
   "cell_type": "code",
   "execution_count": 12,
   "id": "475a74f7",
   "metadata": {},
   "outputs": [
    {
     "data": {
      "text/plain": [
       "[24, 3, 4]"
      ]
     },
     "execution_count": 12,
     "metadata": {},
     "output_type": "execute_result"
    }
   ],
   "source": [
    "L1"
   ]
  },
  {
   "cell_type": "markdown",
   "id": "44aef06a",
   "metadata": {},
   "source": [
    "- Really, we haven’t changed L1 itself here; we’ve changed a component of the object that L2 references.\n",
    "- This sort of change overwrites part of the list object’s value in place.\n",
    "- Because the list object is shared by (referenced from) other variables, though, an inplace change like this doesn’t affect only L2—that is, you must be aware that when you make such changes, they can impact other parts of your program.\n",
    "- In this example, the effect shows up in L1 as well because it references the same object as L2."
   ]
  },
  {
   "cell_type": "markdown",
   "id": "4d03d8a8",
   "metadata": {},
   "source": [
    "**Solution**"
   ]
  },
  {
   "cell_type": "markdown",
   "id": "bdefa88a",
   "metadata": {},
   "source": [
    "- This behavior only occurs for mutable objects that support in-place changes.\n",
    "- if you don’t want such behavior, you can request that Python copy objects instead of making references.\n",
    "- slicing technique won’t work on the other major mutable core types, dictionaries and sets, because they are not sequences—to copy a dictionary or set, instead use their X.copy() method call."
   ]
  },
  {
   "cell_type": "code",
   "execution_count": 13,
   "id": "c434edc7",
   "metadata": {},
   "outputs": [
    {
     "data": {
      "text/plain": [
       "[24, 3, 4]"
      ]
     },
     "execution_count": 13,
     "metadata": {},
     "output_type": "execute_result"
    }
   ],
   "source": [
    "L1 = [2, 3, 4]\n",
    "L2 = L1[:] # Make a copy of L1 (or list(L1), copy.copy(L1), etc.)\n",
    "L1[0] = 24\n",
    "L1"
   ]
  },
  {
   "cell_type": "code",
   "execution_count": 14,
   "id": "324a3045",
   "metadata": {},
   "outputs": [
    {
     "data": {
      "text/plain": [
       "[2, 3, 4]"
      ]
     },
     "execution_count": 14,
     "metadata": {},
     "output_type": "execute_result"
    }
   ],
   "source": [
    "L2 # L2 is not changed"
   ]
  },
  {
   "cell_type": "markdown",
   "id": "9b68bd11",
   "metadata": {},
   "source": [
    "<h2 style='color:blue' > Shared References and Equality </h2>"
   ]
  },
  {
   "cell_type": "code",
   "execution_count": 15,
   "id": "c33d53a3",
   "metadata": {},
   "outputs": [],
   "source": [
    "x = 42\n",
    "x = 'shrubbery' # Reclaim 42 now?"
   ]
  },
  {
   "cell_type": "markdown",
   "id": "0e783c25",
   "metadata": {},
   "source": [
    "- Because Python caches and reuses small integers and small strings, as mentioned earlier, the object 42 here is probably not literally reclaimed here... instead, it will likely remain in a system table to be reused the next time you generate a 42 in your code.\n",
    "- Most of objects are reclaimed immediately when they are no longer referenced; for those that are not, the caching mechanism is irrelevant to your code.\n",
    "- For instance, because of Python’s reference model, there are two different ways to check for equality in a Python program. Let’s create a shared reference to demonstrate."
   ]
  },
  {
   "cell_type": "code",
   "execution_count": 16,
   "id": "9176dc64",
   "metadata": {},
   "outputs": [
    {
     "data": {
      "text/plain": [
       "True"
      ]
     },
     "execution_count": 16,
     "metadata": {},
     "output_type": "execute_result"
    }
   ],
   "source": [
    "L = [1, 2, 3]\n",
    "M = L # M and L reference the same object\n",
    "L is M # Same objects"
   ]
  },
  {
   "cell_type": "markdown",
   "id": "e0763ec6",
   "metadata": {},
   "source": [
    "- the `==` operator, tests whether the two referenced objects have the same values; this is the method almost always used for equality checks in Python.\n",
    "- the `is` operator tests for object identity—it returns True only if both names point to the exact same object."
   ]
  },
  {
   "cell_type": "code",
   "execution_count": 17,
   "id": "b1ce6ce4",
   "metadata": {},
   "outputs": [],
   "source": [
    "L = [1, 2, 3]\n",
    "M = [1, 2, 3]"
   ]
  },
  {
   "cell_type": "markdown",
   "id": "87ad27ba",
   "metadata": {},
   "source": [
    "- As we know when we assign a variable every time python creates a new object so here L and M are defferent object with same value."
   ]
  },
  {
   "cell_type": "code",
   "execution_count": 18,
   "id": "74bfb307",
   "metadata": {},
   "outputs": [
    {
     "data": {
      "text/plain": [
       "True"
      ]
     },
     "execution_count": 18,
     "metadata": {},
     "output_type": "execute_result"
    }
   ],
   "source": [
    "L == M # Same values"
   ]
  },
  {
   "cell_type": "code",
   "execution_count": 19,
   "id": "0c690935",
   "metadata": {},
   "outputs": [
    {
     "data": {
      "text/plain": [
       "False"
      ]
     },
     "execution_count": 19,
     "metadata": {},
     "output_type": "execute_result"
    }
   ],
   "source": [
    "L is M # Different objects"
   ]
  },
  {
   "cell_type": "code",
   "execution_count": 20,
   "id": "b61d8eeb",
   "metadata": {},
   "outputs": [],
   "source": [
    "# Now, watch what happens when we perform the same operations on small numbers."
   ]
  },
  {
   "cell_type": "markdown",
   "id": "6c79c6d7",
   "metadata": {},
   "source": [
    "- when we create a object for such a small immutable object such as int or string so it is stored in chache for further usage. "
   ]
  },
  {
   "cell_type": "code",
   "execution_count": 21,
   "id": "70579d23",
   "metadata": {},
   "outputs": [],
   "source": [
    "X = 42\n",
    "Y = 42"
   ]
  },
  {
   "cell_type": "markdown",
   "id": "c92cf5b7",
   "metadata": {},
   "source": [
    "- here when we create a object 42 for X variable it also stored in chache as well to future uasage and when we try to assgn same value to the  Y variable.python checks for that object in chache first and as it present in chache so,instead of creating the new object python makes Y to refer the same object.\n",
    "- small integer form range -5 to 256 is able to stored in chache.\n",
    "- small string lenght 4096 characters without any single space also stored in chache."
   ]
  },
  {
   "cell_type": "code",
   "execution_count": 22,
   "id": "07d77ae4",
   "metadata": {},
   "outputs": [
    {
     "data": {
      "text/plain": [
       "True"
      ]
     },
     "execution_count": 22,
     "metadata": {},
     "output_type": "execute_result"
    }
   ],
   "source": [
    "X == Y"
   ]
  },
  {
   "cell_type": "code",
   "execution_count": 23,
   "id": "4c46a7cb",
   "metadata": {},
   "outputs": [
    {
     "data": {
      "text/plain": [
       "True"
      ]
     },
     "execution_count": 23,
     "metadata": {},
     "output_type": "execute_result"
    }
   ],
   "source": [
    "X is Y"
   ]
  },
  {
   "cell_type": "markdown",
   "id": "919804cc",
   "metadata": {},
   "source": [
    "<h2 style='color:blue' > How to Get Reference counter?"
   ]
  },
  {
   "cell_type": "markdown",
   "id": "202fdf46",
   "metadata": {},
   "source": [
    "- you can always ask Python how many references there are to an object.\n",
    "- the getrefcount function in the standard sys module returns the object’s reference count."
   ]
  },
  {
   "cell_type": "code",
   "execution_count": 1,
   "id": "8d57b522",
   "metadata": {},
   "outputs": [
    {
     "data": {
      "text/plain": [
       "3"
      ]
     },
     "execution_count": 1,
     "metadata": {},
     "output_type": "execute_result"
    }
   ],
   "source": [
    "import sys\n",
    "sys.getrefcount(1) # 647 pointers to this shared piece of memory\n",
    "sys.getrefcount('reshma')"
   ]
  },
  {
   "cell_type": "markdown",
   "id": "62368700",
   "metadata": {},
   "source": [
    "<h2 style='color:blue' > “Weak” References"
   ]
  },
  {
   "cell_type": "markdown",
   "id": "d8e36c56",
   "metadata": {},
   "source": [
    "- You may occasionally see the term “weak reference” in the Python world. \n",
    "- In short, a weak reference, implemented by the weakref standard library module.\n",
    "- weak reference is a reference to an object that does not by itself prevent the referenced object from being garbage-collected.\n",
    "- If the last remaining references to an object are weak references, the object is reclaimed and the weak references to it are automatically deleted."
   ]
  }
 ],
 "metadata": {
  "kernelspec": {
   "display_name": "Python 3 (ipykernel)",
   "language": "python",
   "name": "python3"
  },
  "language_info": {
   "codemirror_mode": {
    "name": "ipython",
    "version": 3
   },
   "file_extension": ".py",
   "mimetype": "text/x-python",
   "name": "python",
   "nbconvert_exporter": "python",
   "pygments_lexer": "ipython3",
   "version": "3.10.6"
  }
 },
 "nbformat": 4,
 "nbformat_minor": 5
}
