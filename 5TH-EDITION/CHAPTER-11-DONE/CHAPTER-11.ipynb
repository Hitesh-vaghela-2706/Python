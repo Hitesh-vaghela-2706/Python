{
 "cells": [
  {
   "cell_type": "markdown",
   "id": "a4256253",
   "metadata": {},
   "source": [
    "# Assignment Statements"
   ]
  },
  {
   "cell_type": "raw",
   "id": "b24670df",
   "metadata": {},
   "source": [
    "    Python assignment statement used for assign objects to names.basically, you write the target of an assignment on the left\n",
    "of an equals sign, and the object to be assigned on the right.The target on the left may be a name or object component, and the\n",
    "object on the right can be an arbitrary expression that computes an object."
   ]
  },
  {
   "cell_type": "markdown",
   "id": "fa28d92a",
   "metadata": {},
   "source": [
    "## properties"
   ]
  },
  {
   "cell_type": "raw",
   "id": "a1df83ae",
   "metadata": {},
   "source": [
    "1 Assignments create object references.\n",
    "    • They always create references to objects instead of copying the objects.Because of that,Python variables are more like \n",
    "    pointers than data storage areas.\n",
    "2 Names are created when first assigned.\n",
    "    • Python creates a variable name the first time you assign it a value,so there’s no need to predeclare names ahead of time.\n",
    "3 Names must be assigned before being referenced.\n",
    "    • It’s an error to use a name to which you haven’t yet assigned a value.Python raises an exception if you try,rather than \n",
    "    returning some sort of ambiguous default value.\n",
    "4 Some operations perform assignments implicitly.\n",
    "    • module imports,function and class definitions,for loop variables,and function arguments are all implicit assignments.Beca-\n",
    "    use assignment works the same everywhere it pops up, all these contexts simply bind names to object references at runtime."
   ]
  },
  {
   "cell_type": "markdown",
   "id": "343e22dc",
   "metadata": {},
   "source": [
    "## Sequence Assignment"
   ]
  },
  {
   "cell_type": "code",
   "execution_count": 1,
   "id": "c806ab72",
   "metadata": {},
   "outputs": [
    {
     "data": {
      "text/plain": [
       "'Spam'"
      ]
     },
     "execution_count": 1,
     "metadata": {},
     "output_type": "execute_result"
    }
   ],
   "source": [
    "spam = 'Spam' # Basic form\n",
    "spam"
   ]
  },
  {
   "cell_type": "code",
   "execution_count": 2,
   "id": "64ee0f38",
   "metadata": {},
   "outputs": [
    {
     "data": {
      "text/plain": [
       "'yum'"
      ]
     },
     "execution_count": 2,
     "metadata": {},
     "output_type": "execute_result"
    }
   ],
   "source": [
    "spam, ham = 'yum', 'YUM' # Tuple assignment (positional)\n",
    "spam"
   ]
  },
  {
   "cell_type": "code",
   "execution_count": 3,
   "id": "4d95b185",
   "metadata": {},
   "outputs": [
    {
     "data": {
      "text/plain": [
       "'YUM'"
      ]
     },
     "execution_count": 3,
     "metadata": {},
     "output_type": "execute_result"
    }
   ],
   "source": [
    "[spam, ham] = ['yum', 'YUM'] # List assignment (positional)\n",
    "ham"
   ]
  },
  {
   "cell_type": "code",
   "execution_count": 4,
   "id": "b675b85a",
   "metadata": {},
   "outputs": [
    {
     "data": {
      "text/plain": [
       "'s'"
      ]
     },
     "execution_count": 4,
     "metadata": {},
     "output_type": "execute_result"
    }
   ],
   "source": [
    "a, b, c, d = 'spam' # Sequence assignment, generalized\n",
    "a"
   ]
  },
  {
   "cell_type": "code",
   "execution_count": 5,
   "id": "43cf55cc",
   "metadata": {},
   "outputs": [
    {
     "data": {
      "text/plain": [
       "('s', ['p', 'a', 'm'])"
      ]
     },
     "execution_count": 5,
     "metadata": {},
     "output_type": "execute_result"
    }
   ],
   "source": [
    "a, *b = 'spam' # Extended sequence unpacking (Python 3.X)\n",
    "a,b"
   ]
  },
  {
   "cell_type": "code",
   "execution_count": 6,
   "id": "564811ff",
   "metadata": {},
   "outputs": [
    {
     "data": {
      "text/plain": [
       "('lunch', 'lunch')"
      ]
     },
     "execution_count": 6,
     "metadata": {},
     "output_type": "execute_result"
    }
   ],
   "source": [
    "spam = ham = 'lunch' # Multiple-target assignment\n",
    "ham,spam"
   ]
  },
  {
   "cell_type": "code",
   "execution_count": 7,
   "id": "beb3c1b9",
   "metadata": {},
   "outputs": [
    {
     "data": {
      "text/plain": [
       "42"
      ]
     },
     "execution_count": 7,
     "metadata": {},
     "output_type": "execute_result"
    }
   ],
   "source": [
    "spams = 0\n",
    "spams += 42 # Augmented assignment\n",
    "spams"
   ]
  },
  {
   "cell_type": "code",
   "execution_count": 8,
   "id": "76e6491d",
   "metadata": {},
   "outputs": [
    {
     "data": {
      "text/plain": [
       "(1, 3)"
      ]
     },
     "execution_count": 8,
     "metadata": {},
     "output_type": "execute_result"
    }
   ],
   "source": [
    ">>> [a, b, c] = (1, 2, 3) # Assign tuple of values to list of names\n",
    ">>> a, c"
   ]
  },
  {
   "cell_type": "code",
   "execution_count": 9,
   "id": "8d035f71",
   "metadata": {},
   "outputs": [
    {
     "data": {
      "text/plain": [
       "('A', 'C')"
      ]
     },
     "execution_count": 9,
     "metadata": {},
     "output_type": "execute_result"
    }
   ],
   "source": [
    ">>> (a, b, c) = \"ABC\" # Assign string of characters to tuple\n",
    ">>> a, c"
   ]
  },
  {
   "cell_type": "code",
   "execution_count": 10,
   "id": "3523f24d",
   "metadata": {},
   "outputs": [
    {
     "data": {
      "text/plain": [
       "('S', 'M')"
      ]
     },
     "execution_count": 10,
     "metadata": {},
     "output_type": "execute_result"
    }
   ],
   "source": [
    ">>> string = 'SPAM'\n",
    ">>> a, b, c, d = string # Same number on both sides\n",
    ">>> a, d"
   ]
  },
  {
   "cell_type": "code",
   "execution_count": 11,
   "id": "8d8f6061",
   "metadata": {},
   "outputs": [
    {
     "ename": "ValueError",
     "evalue": "too many values to unpack (expected 3)",
     "output_type": "error",
     "traceback": [
      "\u001b[1;31m---------------------------------------------------------------------------\u001b[0m",
      "\u001b[1;31mValueError\u001b[0m                                Traceback (most recent call last)",
      "Input \u001b[1;32mIn [11]\u001b[0m, in \u001b[0;36m<cell line: 2>\u001b[1;34m()\u001b[0m\n\u001b[0;32m      1\u001b[0m string \u001b[38;5;241m=\u001b[39m \u001b[38;5;124m'\u001b[39m\u001b[38;5;124mSPAM\u001b[39m\u001b[38;5;124m'\u001b[39m\n\u001b[1;32m----> 2\u001b[0m a, b, c \u001b[38;5;241m=\u001b[39m string\n",
      "\u001b[1;31mValueError\u001b[0m: too many values to unpack (expected 3)"
     ]
    }
   ],
   "source": [
    ">>> string = 'SPAM'\n",
    ">>> a, b, c = string # Error if not"
   ]
  },
  {
   "cell_type": "code",
   "execution_count": 12,
   "id": "9dabb505",
   "metadata": {},
   "outputs": [
    {
     "data": {
      "text/plain": [
       "('S', 'P', 'AM')"
      ]
     },
     "execution_count": 12,
     "metadata": {},
     "output_type": "execute_result"
    }
   ],
   "source": [
    ">>> string = 'SPAM'\n",
    ">>> a, b, c = string[0], string[1], string[2:] # Index and slice\n",
    ">>> a, b, c"
   ]
  },
  {
   "cell_type": "code",
   "execution_count": 13,
   "id": "051b0612",
   "metadata": {},
   "outputs": [
    {
     "data": {
      "text/plain": [
       "('S', 'P', 'AM')"
      ]
     },
     "execution_count": 13,
     "metadata": {},
     "output_type": "execute_result"
    }
   ],
   "source": [
    ">>> string = 'SPAM'\n",
    ">>> a, b = string[:2] # Same, but simpler\n",
    ">>> c = string[2:]\n",
    ">>> a, b, c"
   ]
  },
  {
   "cell_type": "code",
   "execution_count": 14,
   "id": "a97b7106",
   "metadata": {},
   "outputs": [
    {
     "data": {
      "text/plain": [
       "('S', 'P', 'AM')"
      ]
     },
     "execution_count": 14,
     "metadata": {},
     "output_type": "execute_result"
    }
   ],
   "source": [
    ">>> string = 'SPAM'\n",
    ">>> (a, b), c = string[:2], string[2:] # Nested sequences\n",
    ">>> a, b, c"
   ]
  },
  {
   "cell_type": "code",
   "execution_count": 15,
   "id": "86919dc3",
   "metadata": {},
   "outputs": [
    {
     "data": {
      "text/plain": [
       "('S', 'P', 'AM')"
      ]
     },
     "execution_count": 15,
     "metadata": {},
     "output_type": "execute_result"
    }
   ],
   "source": [
    ">>> string = 'SPAM'\n",
    ">>> ((a, b), c) = ('SP', 'AM') # Paired by shape and position\n",
    ">>> a, b, c"
   ]
  },
  {
   "cell_type": "code",
   "execution_count": 16,
   "id": "3f4f5f4c",
   "metadata": {},
   "outputs": [
    {
     "data": {
      "text/plain": [
       "(0, 2)"
      ]
     },
     "execution_count": 16,
     "metadata": {},
     "output_type": "execute_result"
    }
   ],
   "source": [
    ">>> red, green, blue = range(3)\n",
    ">>> red, blue"
   ]
  },
  {
   "cell_type": "code",
   "execution_count": 17,
   "id": "8e0c8e1f",
   "metadata": {},
   "outputs": [
    {
     "name": "stdout",
     "output_type": "stream",
     "text": [
      "1 [2, 3, 4]\n",
      "2 [3, 4]\n",
      "3 [4]\n",
      "4 []\n"
     ]
    }
   ],
   "source": [
    ">>> L = [1, 2, 3, 4]\n",
    ">>> while L:\n",
    "        front, L = L[0], L[1:] # See next section for 3.X * alternative\n",
    "        print(front, L)"
   ]
  },
  {
   "cell_type": "markdown",
   "id": "5c638ced",
   "metadata": {},
   "source": [
    "### Extended unpacking"
   ]
  },
  {
   "cell_type": "code",
   "execution_count": 18,
   "id": "888bca92",
   "metadata": {},
   "outputs": [
    {
     "ename": "ValueError",
     "evalue": "too many values to unpack (expected 2)",
     "output_type": "error",
     "traceback": [
      "\u001b[1;31m---------------------------------------------------------------------------\u001b[0m",
      "\u001b[1;31mValueError\u001b[0m                                Traceback (most recent call last)",
      "Input \u001b[1;32mIn [18]\u001b[0m, in \u001b[0;36m<cell line: 2>\u001b[1;34m()\u001b[0m\n\u001b[0;32m      1\u001b[0m seq \u001b[38;5;241m=\u001b[39m [\u001b[38;5;241m1\u001b[39m, \u001b[38;5;241m2\u001b[39m, \u001b[38;5;241m3\u001b[39m, \u001b[38;5;241m4\u001b[39m]\n\u001b[1;32m----> 2\u001b[0m a, b \u001b[38;5;241m=\u001b[39m seq\n",
      "\u001b[1;31mValueError\u001b[0m: too many values to unpack (expected 2)"
     ]
    }
   ],
   "source": [
    ">>> seq = [1, 2, 3, 4]\n",
    ">>> a, b = seq"
   ]
  },
  {
   "cell_type": "code",
   "execution_count": 19,
   "id": "0f916ec1",
   "metadata": {},
   "outputs": [
    {
     "name": "stdout",
     "output_type": "stream",
     "text": [
      "A :-  1\n",
      "B :-  [2, 3, 4]\n"
     ]
    }
   ],
   "source": [
    ">>> a, *b = seq\n",
    ">>> print(\"A :- \", a)\n",
    ">>> print(\"B :- \", b)"
   ]
  },
  {
   "cell_type": "code",
   "execution_count": 20,
   "id": "8efae15e",
   "metadata": {},
   "outputs": [
    {
     "name": "stdout",
     "output_type": "stream",
     "text": [
      "A :-  [1, 2, 3]\n",
      "B :-  4\n"
     ]
    }
   ],
   "source": [
    ">>> *a,b = seq\n",
    ">>> print(\"A :- \", a)\n",
    ">>> print(\"B :- \", b)"
   ]
  },
  {
   "cell_type": "code",
   "execution_count": 21,
   "id": "7d38f0eb",
   "metadata": {},
   "outputs": [
    {
     "ename": "SyntaxError",
     "evalue": "multiple starred expressions in assignment (4035136258.py, line 1)",
     "output_type": "error",
     "traceback": [
      "\u001b[1;36m  Input \u001b[1;32mIn [21]\u001b[1;36m\u001b[0m\n\u001b[1;33m    *a,*b = seq\u001b[0m\n\u001b[1;37m    ^\u001b[0m\n\u001b[1;31mSyntaxError\u001b[0m\u001b[1;31m:\u001b[0m multiple starred expressions in assignment\n"
     ]
    }
   ],
   "source": [
    ">>> *a,*b = seq\n",
    ">>> print(\"A :- \", a)\n",
    ">>> print(\"B :- \", b)"
   ]
  },
  {
   "cell_type": "code",
   "execution_count": 22,
   "id": "3a2390bf",
   "metadata": {},
   "outputs": [
    {
     "name": "stdout",
     "output_type": "stream",
     "text": [
      "A :-  s\n",
      "B :-  ['p', 'a']\n",
      "C :-  m\n"
     ]
    }
   ],
   "source": [
    ">>> a, *b, c = 'spam'\n",
    ">>> print(\"A :- \", a)\n",
    ">>> print(\"B :- \", b)\n",
    ">>> print(\"C :- \", c)"
   ]
  },
  {
   "cell_type": "code",
   "execution_count": 23,
   "id": "be8e4d0d",
   "metadata": {},
   "outputs": [
    {
     "name": "stdout",
     "output_type": "stream",
     "text": [
      "A :-  ['s', 'p']\n",
      "B :-  a\n",
      "C :-  m\n"
     ]
    }
   ],
   "source": [
    ">>> *a,b, c = 'spam'\n",
    ">>> print(\"A :- \", a)\n",
    ">>> print(\"B :- \", b)\n",
    ">>> print(\"C :- \", c)"
   ]
  },
  {
   "cell_type": "code",
   "execution_count": 24,
   "id": "0586c83d",
   "metadata": {},
   "outputs": [
    {
     "name": "stdout",
     "output_type": "stream",
     "text": [
      "A :-  s\n",
      "B :-  p\n",
      "C :-  ['a', 'm']\n"
     ]
    }
   ],
   "source": [
    ">>> a,b, *c = 'spam'\n",
    ">>> print(\"A :- \", a)\n",
    ">>> print(\"B :- \", b)\n",
    ">>> print(\"C :- \", c)"
   ]
  },
  {
   "cell_type": "code",
   "execution_count": 25,
   "id": "95b484c6",
   "metadata": {},
   "outputs": [
    {
     "name": "stdout",
     "output_type": "stream",
     "text": [
      "A :-  0\n",
      "B :-  [1, 2]\n",
      "C :-  3\n"
     ]
    }
   ],
   "source": [
    ">>> a, *b, c = range(4)\n",
    ">>> print(\"A :- \", a)\n",
    ">>> print(\"B :- \", b)\n",
    ">>> print(\"C :- \", c)"
   ]
  },
  {
   "cell_type": "markdown",
   "id": "1c929918",
   "metadata": {},
   "source": [
    "### Boundary cases"
   ]
  },
  {
   "cell_type": "raw",
   "id": "8e9580d3",
   "metadata": {},
   "source": [
    "starred name may match just a single item, but is always assigned a list:"
   ]
  },
  {
   "cell_type": "code",
   "execution_count": 26,
   "id": "92541090",
   "metadata": {},
   "outputs": [
    {
     "name": "stdout",
     "output_type": "stream",
     "text": [
      "A :-  1\n",
      "B :-  2\n",
      "C :-  3\n",
      "D :-  [4]\n"
     ]
    }
   ],
   "source": [
    ">>> seq = [1, 2, 3, 4]\n",
    ">>> a, b, c, *d = seq\n",
    ">>> print(\"A :- \", a)\n",
    ">>> print(\"B :- \", b)\n",
    ">>> print(\"C :- \", c)\n",
    ">>> print(\"D :- \", d)"
   ]
  },
  {
   "cell_type": "raw",
   "id": "8f505b9e",
   "metadata": {},
   "source": [
    "    if there is nothing left to match the starred name, it is assigned an empty list,regardless of where it appears. In the \n",
    "following, a, b, c, and d have matched every item in the sequence, but Python assigns e an empty list instead of treating this\n",
    "as an error case:"
   ]
  },
  {
   "cell_type": "code",
   "execution_count": 27,
   "id": "c0e47f41",
   "metadata": {},
   "outputs": [
    {
     "name": "stdout",
     "output_type": "stream",
     "text": [
      "A :-  1\n",
      "B :-  2\n",
      "C :-  3\n",
      "D :-  4\n",
      "E :-  []\n"
     ]
    }
   ],
   "source": [
    ">>> a, b, c, d, *e = seq\n",
    ">>> print(\"A :- \", a)\n",
    ">>> print(\"B :- \", b)\n",
    ">>> print(\"C :- \", c)\n",
    ">>> print(\"D :- \", d)\n",
    ">>> print(\"E :- \", e)"
   ]
  },
  {
   "cell_type": "code",
   "execution_count": 28,
   "id": "e7a7c67d",
   "metadata": {},
   "outputs": [
    {
     "name": "stdout",
     "output_type": "stream",
     "text": [
      "A :-  1\n",
      "B :-  2\n",
      "C :-  3\n",
      "D :-  4\n",
      "E :-  []\n"
     ]
    }
   ],
   "source": [
    ">>> a, b, *e, c, d = seq\n",
    ">>> print(\"A :- \", a)\n",
    ">>> print(\"B :- \", b)\n",
    ">>> print(\"C :- \", c)\n",
    ">>> print(\"D :- \", d)\n",
    ">>> print(\"E :- \", e)"
   ]
  },
  {
   "cell_type": "raw",
   "id": "b752ba6b",
   "metadata": {},
   "source": [
    "errors can still be triggered if the starred name is not itself coded inside a sequence."
   ]
  },
  {
   "cell_type": "code",
   "execution_count": 29,
   "id": "1969be63",
   "metadata": {},
   "outputs": [
    {
     "ename": "SyntaxError",
     "evalue": "starred assignment target must be in a list or tuple (1175220355.py, line 1)",
     "output_type": "error",
     "traceback": [
      "\u001b[1;36m  Input \u001b[1;32mIn [29]\u001b[1;36m\u001b[0m\n\u001b[1;33m    *a = seq\u001b[0m\n\u001b[1;37m    ^\u001b[0m\n\u001b[1;31mSyntaxError\u001b[0m\u001b[1;31m:\u001b[0m starred assignment target must be in a list or tuple\n"
     ]
    }
   ],
   "source": [
    ">>> *a = seq"
   ]
  },
  {
   "cell_type": "code",
   "execution_count": null,
   "id": "1adc7c31",
   "metadata": {},
   "outputs": [],
   "source": [
    ">>> *a, = seq\n",
    ">>> a"
   ]
  },
  {
   "cell_type": "code",
   "execution_count": null,
   "id": "996139ce",
   "metadata": {},
   "outputs": [],
   "source": [
    ">>> [*a] = seq\n",
    ">>> a"
   ]
  },
  {
   "cell_type": "markdown",
   "id": "298996f9",
   "metadata": {},
   "source": [
    "### Multiple-Target Assignments"
   ]
  },
  {
   "cell_type": "code",
   "execution_count": 30,
   "id": "bc5178e9",
   "metadata": {},
   "outputs": [
    {
     "data": {
      "text/plain": [
       "(0, 0)"
      ]
     },
     "execution_count": 30,
     "metadata": {},
     "output_type": "execute_result"
    }
   ],
   "source": [
    ">>> a = b = 0\n",
    ">>> a, b"
   ]
  },
  {
   "cell_type": "raw",
   "id": "be9aa8a4",
   "metadata": {},
   "source": [
    "    Here, changing b only changes b because numbers do not support in-place changes. As long as the object assigned is \n",
    "immutable, it’s irrelevant if more than one name references it."
   ]
  },
  {
   "cell_type": "code",
   "execution_count": 31,
   "id": "0ea68995",
   "metadata": {},
   "outputs": [
    {
     "data": {
      "text/plain": [
       "(0, 1)"
      ]
     },
     "execution_count": 31,
     "metadata": {},
     "output_type": "execute_result"
    }
   ],
   "source": [
    ">>> b = b + 1\n",
    ">>> a, b"
   ]
  },
  {
   "cell_type": "code",
   "execution_count": 32,
   "id": "c7b6503c",
   "metadata": {},
   "outputs": [
    {
     "data": {
      "text/plain": [
       "([], [])"
      ]
     },
     "execution_count": 32,
     "metadata": {},
     "output_type": "execute_result"
    }
   ],
   "source": [
    ">>> a = b = []\n",
    ">>> a, b"
   ]
  },
  {
   "cell_type": "raw",
   "id": "882853cf",
   "metadata": {},
   "source": [
    "    because a and b reference the same object, appending to it in place through b will impact what we see through a as well."
   ]
  },
  {
   "cell_type": "code",
   "execution_count": 33,
   "id": "bd3f8215",
   "metadata": {},
   "outputs": [
    {
     "data": {
      "text/plain": [
       "([42], [42])"
      ]
     },
     "execution_count": 33,
     "metadata": {},
     "output_type": "execute_result"
    }
   ],
   "source": [
    ">>> b.append(42)\n",
    ">>> a, b"
   ]
  },
  {
   "cell_type": "raw",
   "id": "c3334793",
   "metadata": {},
   "source": [
    "    To avoid the issue, initialize mutable objects in separate statements instead, so that each creates a distinct empty\n",
    "object by running a distinct literal expression:"
   ]
  },
  {
   "cell_type": "code",
   "execution_count": 34,
   "id": "666b3525",
   "metadata": {},
   "outputs": [
    {
     "data": {
      "text/plain": [
       "([], [])"
      ]
     },
     "execution_count": 34,
     "metadata": {},
     "output_type": "execute_result"
    }
   ],
   "source": [
    ">>> a = []\n",
    ">>> b = [] # a and b do not share the same object\n",
    ">>> a, b"
   ]
  },
  {
   "cell_type": "code",
   "execution_count": 35,
   "id": "bc75300e",
   "metadata": {},
   "outputs": [
    {
     "data": {
      "text/plain": [
       "([], [42])"
      ]
     },
     "execution_count": 35,
     "metadata": {},
     "output_type": "execute_result"
    }
   ],
   "source": [
    ">>> b.append(42)\n",
    ">>> a, b"
   ]
  },
  {
   "cell_type": "code",
   "execution_count": 36,
   "id": "73660959",
   "metadata": {},
   "outputs": [
    {
     "data": {
      "text/plain": [
       "([], [])"
      ]
     },
     "execution_count": 36,
     "metadata": {},
     "output_type": "execute_result"
    }
   ],
   "source": [
    ">>> a, b = [], [] \n",
    ">>> a, b"
   ]
  },
  {
   "cell_type": "code",
   "execution_count": 37,
   "id": "196fd13c",
   "metadata": {},
   "outputs": [
    {
     "data": {
      "text/plain": [
       "([], [42])"
      ]
     },
     "execution_count": 37,
     "metadata": {},
     "output_type": "execute_result"
    }
   ],
   "source": [
    ">>> b.append(42)\n",
    ">>> a, b"
   ]
  },
  {
   "cell_type": "markdown",
   "id": "59042e9a",
   "metadata": {},
   "source": [
    "### Augmented Assignments"
   ]
  },
  {
   "cell_type": "code",
   "execution_count": 38,
   "id": "96b349be",
   "metadata": {},
   "outputs": [
    {
     "data": {
      "text/plain": [
       "51"
      ]
     },
     "execution_count": 38,
     "metadata": {},
     "output_type": "execute_result"
    }
   ],
   "source": [
    "# adition\n",
    ">>> x = 50\n",
    ">>> x += 1\n",
    ">>> x"
   ]
  },
  {
   "cell_type": "code",
   "execution_count": 39,
   "id": "a94ad017",
   "metadata": {},
   "outputs": [
    {
     "data": {
      "text/plain": [
       "50"
      ]
     },
     "execution_count": 39,
     "metadata": {},
     "output_type": "execute_result"
    }
   ],
   "source": [
    "# substraction\n",
    ">>> x -= 1\n",
    ">>> x"
   ]
  },
  {
   "cell_type": "code",
   "execution_count": 40,
   "id": "18090cf5",
   "metadata": {},
   "outputs": [
    {
     "data": {
      "text/plain": [
       "150"
      ]
     },
     "execution_count": 40,
     "metadata": {},
     "output_type": "execute_result"
    }
   ],
   "source": [
    "# multiplication\n",
    ">>> x *= 3\n",
    ">>> x"
   ]
  },
  {
   "cell_type": "code",
   "execution_count": 41,
   "id": "349e250b",
   "metadata": {},
   "outputs": [
    {
     "data": {
      "text/plain": [
       "50.0"
      ]
     },
     "execution_count": 41,
     "metadata": {},
     "output_type": "execute_result"
    }
   ],
   "source": [
    "# division\n",
    ">>> x /= 3\n",
    ">>> x"
   ]
  },
  {
   "cell_type": "code",
   "execution_count": 42,
   "id": "b9a772da",
   "metadata": {},
   "outputs": [
    {
     "data": {
      "text/plain": [
       "16"
      ]
     },
     "execution_count": 42,
     "metadata": {},
     "output_type": "execute_result"
    }
   ],
   "source": [
    "# power\n",
    ">>> x = 4\n",
    ">>> x **= 2 \n",
    ">>> x"
   ]
  },
  {
   "cell_type": "code",
   "execution_count": 43,
   "id": "f5858471",
   "metadata": {},
   "outputs": [
    {
     "data": {
      "text/plain": [
       "2"
      ]
     },
     "execution_count": 43,
     "metadata": {},
     "output_type": "execute_result"
    }
   ],
   "source": [
    "# right shift\n",
    ">>> x >>= 3\n",
    ">>> x"
   ]
  },
  {
   "cell_type": "code",
   "execution_count": 44,
   "id": "461a2c0f",
   "metadata": {},
   "outputs": [
    {
     "data": {
      "text/plain": [
       "64"
      ]
     },
     "execution_count": 44,
     "metadata": {},
     "output_type": "execute_result"
    }
   ],
   "source": [
    "# left shift\n",
    ">>> x <<= 5\n",
    ">>> x"
   ]
  },
  {
   "cell_type": "code",
   "execution_count": 45,
   "id": "7c6084cb",
   "metadata": {},
   "outputs": [
    {
     "data": {
      "text/plain": [
       "{1, 2, 3, 5, 6}"
      ]
     },
     "execution_count": 45,
     "metadata": {},
     "output_type": "execute_result"
    }
   ],
   "source": [
    ">>> S = {1,2,3,4}\n",
    ">>> S ^= {4,5,6} # symmetric_difference\n",
    ">>> S"
   ]
  },
  {
   "cell_type": "code",
   "execution_count": 46,
   "id": "df14c33b",
   "metadata": {},
   "outputs": [
    {
     "data": {
      "text/plain": [
       "{1, 2, 3, 4, 5, 6}"
      ]
     },
     "execution_count": 46,
     "metadata": {},
     "output_type": "execute_result"
    }
   ],
   "source": [
    ">>> S = {1,2,3,4}\n",
    ">>> S |= {4,5,6} # union\n",
    ">>> S"
   ]
  },
  {
   "cell_type": "code",
   "execution_count": 47,
   "id": "d49ab8af",
   "metadata": {},
   "outputs": [
    {
     "data": {
      "text/plain": [
       "{4}"
      ]
     },
     "execution_count": 47,
     "metadata": {},
     "output_type": "execute_result"
    }
   ],
   "source": [
    ">>> S = {1,2,3,4}\n",
    ">>> S &= {4,5,6} # inserction\n",
    ">>> S"
   ]
  },
  {
   "cell_type": "markdown",
   "id": "e9a71131",
   "metadata": {},
   "source": [
    "### Augmented assignment and shared references"
   ]
  },
  {
   "cell_type": "code",
   "execution_count": 48,
   "id": "af3aee3d",
   "metadata": {},
   "outputs": [
    {
     "data": {
      "text/plain": [
       "([1, 2, 3, 4], [1, 2])"
      ]
     },
     "execution_count": 48,
     "metadata": {},
     "output_type": "execute_result"
    }
   ],
   "source": [
    ">>> L = [1, 2]\n",
    ">>> M = L # L and M reference the same object\n",
    ">>> L = L + [3, 4] # Concatenation makes a new object\n",
    ">>> L, M # Changes L but not M"
   ]
  },
  {
   "cell_type": "code",
   "execution_count": 49,
   "id": "8aa855c0",
   "metadata": {},
   "outputs": [
    {
     "data": {
      "text/plain": [
       "([1, 2, 3, 4], [1, 2, 3, 4])"
      ]
     },
     "execution_count": 49,
     "metadata": {},
     "output_type": "execute_result"
    }
   ],
   "source": [
    ">>> L = [1, 2]\n",
    ">>> M = L # L and M reference the same object\n",
    ">>> L += [3, 4] # But += really means extend in same object\n",
    ">>> L, M # Changes L but also change M"
   ]
  },
  {
   "cell_type": "markdown",
   "id": "29fbb8fc",
   "metadata": {},
   "source": [
    "# Variable Name Rules"
   ]
  },
  {
   "cell_type": "raw",
   "id": "a6fba1f4",
   "metadata": {},
   "source": [
    "Syntax: (underscore or letter) + (any number of letters, digits, or underscores)\n",
    "    Variable names must start with an underscore or letter, which can be followed by any number of letters, digits, or \n",
    "    underscores.\n",
    "\n",
    "Case matters: SPAM is not the same as spam\n",
    "    Python always pays attention to case in programs, both in names you create and in reserved words. For instance,the names X\n",
    "    and x refer to two different variables.For portability, case also matters in the names of imported module files, even on \n",
    "    platforms where the filesystems are case-insensitive. \n",
    "\n",
    "Reserved words are off-limits\n",
    "    Names you define cannot be the same as words that mean special things in the Python language. For instance, if you try to \n",
    "    use a variable name like class, Python will raise a syntax error, but klass and Class work fine.\n",
    "\n",
    "Python 3.X reserved words\n",
    "        False        class         finally         is             return\n",
    "        None         continue      for             lambda         try\n",
    "        True         def           from            nonlocal       while\n",
    "        and          del           global          not            with\n",
    "        as           elif          if              or             yield\n",
    "        assert       else          import          pass           raise\n",
    "        break        except        in \n",
    "\n",
    "• print is a reserved word, because printing is a statement, not a built-in function\n",
    "(more on this later in this chapter).\n",
    "• exec is a reserved word, because it is a statement, not a built-in function.\n",
    "• nonlocal is not a reserved word because this statement is not available."
   ]
  },
  {
   "cell_type": "markdown",
   "id": "670aab3d",
   "metadata": {},
   "source": [
    "### Naming conventions"
   ]
  },
  {
   "cell_type": "raw",
   "id": "bdfc70ab",
   "metadata": {},
   "source": [
    "    there is also a set of naming conventions—rules that are not required but are followed in normal practice. For instance, \n",
    "because names with two leading and trailing underscores (e.g., __name__) generally have special meaning to the Python \n",
    "interpreter, you should avoid this pattern for your own names.\n",
    "• Names that begin with a single underscore (_X) are not imported by a from module import * statement.\n",
    "• Names that have two leading and trailing underscores (__X__) are system-defined names that have special meaning to \n",
    "the interpreter.\n",
    "• Names that begin with two underscores and do not end with two more (__X) are localized (“mangled”) to enclosing classes \n",
    "• The name that is just a single underscore (_) retains the result of the last expression when you are working interactively."
   ]
  },
  {
   "cell_type": "raw",
   "id": "262454ad",
   "metadata": {},
   "source": [
    "Names have no type, but objects do.\n",
    "     objects have a type (e.g.,integer, list) and may be mutable or not. Names (a.k.a. variables), on the other hand,are always\n",
    "just references to objects; they have no notion of mutability and have no associated type information, apart from the type of \n",
    "the object they happen to reference at a given point in time.\n",
    "    Thus, it’s OK to assign the same name to different kinds of objects at different times:"
   ]
  },
  {
   "cell_type": "code",
   "execution_count": 50,
   "id": "1538949d",
   "metadata": {},
   "outputs": [],
   "source": [
    ">>> x = 0 # x bound to an integer object\n",
    ">>> x = \"Hello\" # Now it's a string\n",
    ">>> x = [1, 2, 3] # And now it's a list"
   ]
  },
  {
   "cell_type": "markdown",
   "id": "f04c8f01",
   "metadata": {},
   "source": [
    "### Expression Statements and In-Place Changes"
   ]
  },
  {
   "cell_type": "raw",
   "id": "9415f7b4",
   "metadata": {},
   "source": [
    "    Calling an in-place change operation such as append, sort, or reverse on a list always changes the list in place, but \n",
    "these methods do not return the list they have changed; instead, they return the None object."
   ]
  },
  {
   "cell_type": "code",
   "execution_count": 51,
   "id": "c4ba5150",
   "metadata": {},
   "outputs": [
    {
     "data": {
      "text/plain": [
       "[1, 2, 3]"
      ]
     },
     "execution_count": 51,
     "metadata": {},
     "output_type": "execute_result"
    }
   ],
   "source": [
    ">>> L = [1, 2]\n",
    ">>> L.append(3) # Append is an in-place change\n",
    ">>> L"
   ]
  },
  {
   "cell_type": "code",
   "execution_count": 52,
   "id": "c986990a",
   "metadata": {},
   "outputs": [
    {
     "name": "stdout",
     "output_type": "stream",
     "text": [
      "None\n"
     ]
    }
   ],
   "source": [
    ">>> L = L.append(4) # But append returns None, not L\n",
    ">>> print(L) # So we lose our list!"
   ]
  },
  {
   "cell_type": "markdown",
   "id": "759cd0e0",
   "metadata": {},
   "source": [
    "### print Function"
   ]
  },
  {
   "cell_type": "raw",
   "id": "e8008b2a",
   "metadata": {},
   "source": [
    "*** \n",
    "syntax:\n",
    "    print([object, ...][, sep=' '][, end='\\n'][, file=sys.stdout][, flush=False])\n",
    "***"
   ]
  },
  {
   "cell_type": "raw",
   "id": "f0ce7af8",
   "metadata": {},
   "source": [
    "1 sep\n",
    "    • sep is a string inserted between each object’s text, which defaults to a single space if not passed; passing an empty \n",
    "    string suppresses separators altogether.\n",
    "\n",
    "2 end\n",
    "    • end is a string added at the end of the printed text, which defaults to a \\n newline character if not passed. Passing an\n",
    "empty string avoids dropping down to the next output line at the end of the printed text—the next print will keep adding to\n",
    "the end of the current output line.\n",
    "\n",
    "3 file\n",
    "    • file specifies the file, standard stream, or other file-like object to which the text will be sent; it defaults to the \n",
    "sys.stdout standard output stream if not passed. Any object with a file-like write(string) method may be passed, but real \n",
    "files should be already opened for output.\n",
    "\n",
    "4 flush\n",
    "    • flush, added in 3.3, defaults to False. It allows prints to mandate that their text be flushed through the output stream\n",
    "immediately to any waiting recipients. Normally, whether printed output is buffered in memory or not is determined by file; \n",
    "passing a true value to flush forcibly flushes the stream."
   ]
  },
  {
   "cell_type": "code",
   "execution_count": 53,
   "id": "53277752",
   "metadata": {},
   "outputs": [
    {
     "name": "stdout",
     "output_type": "stream",
     "text": [
      "A B C\n"
     ]
    }
   ],
   "source": [
    ">>> x = 'A'\n",
    ">>> y = 'B'\n",
    ">>> z = 'C'\n",
    ">>> print(x, y, z) # Print three objects per defaults"
   ]
  },
  {
   "cell_type": "code",
   "execution_count": 54,
   "id": "d7340555",
   "metadata": {},
   "outputs": [
    {
     "name": "stdout",
     "output_type": "stream",
     "text": [
      "ABC\n"
     ]
    }
   ],
   "source": [
    ">>> print(x, y, z, sep='') # Suppress separator"
   ]
  },
  {
   "cell_type": "code",
   "execution_count": 55,
   "id": "847730cf",
   "metadata": {},
   "outputs": [
    {
     "name": "stdout",
     "output_type": "stream",
     "text": [
      "A*B*C\n"
     ]
    }
   ],
   "source": [
    ">>> print(x, y, z, sep='*') # Custom separator"
   ]
  },
  {
   "cell_type": "code",
   "execution_count": 56,
   "id": "09c538db",
   "metadata": {},
   "outputs": [
    {
     "name": "stdout",
     "output_type": "stream",
     "text": [
      "A B C\n",
      "A B C\n"
     ]
    }
   ],
   "source": [
    ">>> x = 'A'\n",
    ">>> y = 'B'\n",
    ">>> z = 'C'\n",
    ">>> print(x, y, z) # Print three objects per defaults\n",
    ">>> print(x, y, z)"
   ]
  },
  {
   "cell_type": "code",
   "execution_count": 57,
   "id": "bfe17895",
   "metadata": {},
   "outputs": [
    {
     "name": "stdout",
     "output_type": "stream",
     "text": [
      "A B C*A B C\n"
     ]
    }
   ],
   "source": [
    ">>> print(x, y, z, end='*')\n",
    ">>> print(x, y, z)"
   ]
  },
  {
   "cell_type": "code",
   "execution_count": 58,
   "id": "d24e3515",
   "metadata": {},
   "outputs": [
    {
     "name": "stdout",
     "output_type": "stream",
     "text": [
      "A B C!A B C\n"
     ]
    }
   ],
   "source": [
    ">>> print(x, y, z, end='!')\n",
    ">>> print(x, y, z)"
   ]
  },
  {
   "cell_type": "code",
   "execution_count": 59,
   "id": "d89e30ca",
   "metadata": {},
   "outputs": [
    {
     "name": "stdout",
     "output_type": "stream",
     "text": [
      "A B C\tA B C\n"
     ]
    }
   ],
   "source": [
    ">>> print(x, y, z, end='\\t')\n",
    ">>> print(x, y, z)"
   ]
  },
  {
   "cell_type": "markdown",
   "id": "0ae316b1",
   "metadata": {},
   "source": [
    "#### store output in file with sys module"
   ]
  },
  {
   "cell_type": "code",
   "execution_count": 60,
   "id": "a9001590",
   "metadata": {},
   "outputs": [
    {
     "name": "stdout",
     "output_type": "stream",
     "text": [
      "back here\n"
     ]
    }
   ],
   "source": [
    ">>> import sys\n",
    ">>> temp = sys.stdout # Save for restoring later\n",
    ">>> sys.stdout = open('log.txt', 'a') # Redirect prints to a file\n",
    ">>> print('spam') # Prints go to file, not here\n",
    ">>> print(1, 2, 3)\n",
    ">>> sys.stdout.close() # Flush output to disk\n",
    ">>> sys.stdout = temp # Restore original stream\n",
    ">>> print('back here') # Prints show up here again"
   ]
  },
  {
   "cell_type": "code",
   "execution_count": 61,
   "id": "00960375",
   "metadata": {},
   "outputs": [
    {
     "name": "stdout",
     "output_type": "stream",
     "text": [
      "1 2 3\n",
      "4 5 6\n",
      "spam\n",
      "1 2 3\n",
      "\n"
     ]
    }
   ],
   "source": [
    ">>> print(open('log.txt').read()) # Result of earlier prints"
   ]
  },
  {
   "cell_type": "markdown",
   "id": "d1b6806b",
   "metadata": {},
   "source": [
    "#### store output in file without sys module using file method"
   ]
  },
  {
   "cell_type": "code",
   "execution_count": 62,
   "id": "4f3e20b8",
   "metadata": {},
   "outputs": [],
   "source": [
    ">>> x = 'A'\n",
    ">>> y = 'B'\n",
    ">>> z = 'C'\n",
    "log = open('log.txt', 'a') # 3.X\n",
    "print(x, y, z, file=log) # Print to a file-like object"
   ]
  },
  {
   "cell_type": "code",
   "execution_count": 63,
   "id": "b4303560",
   "metadata": {},
   "outputs": [
    {
     "name": "stdout",
     "output_type": "stream",
     "text": [
      "4 5 7\n"
     ]
    }
   ],
   "source": [
    ">>> a = 4\n",
    ">>> b = 5\n",
    ">>> c = 7\n",
    "print(a, b, c) # Print to original stdout but not stored in file\n",
    "# if we want to store value in file by just print statement we need to use sys module"
   ]
  },
  {
   "cell_type": "code",
   "execution_count": 64,
   "id": "35fcd82a",
   "metadata": {},
   "outputs": [],
   "source": [
    ">>> log = open('log3.txt', 'w')\n",
    ">>> print(1, 2, 3, file=log) # For 2.X: print >> log, 1, 2, 3\n",
    ">>> print(4, 5, 6, file=log)"
   ]
  },
  {
   "cell_type": "code",
   "execution_count": 65,
   "id": "1da71f40",
   "metadata": {},
   "outputs": [
    {
     "name": "stdout",
     "output_type": "stream",
     "text": [
      "\n"
     ]
    }
   ],
   "source": [
    ">>> print(open('log3.txt').read())"
   ]
  },
  {
   "cell_type": "code",
   "execution_count": 66,
   "id": "6c8701ca",
   "metadata": {},
   "outputs": [
    {
     "name": "stdout",
     "output_type": "stream",
     "text": [
      "7 8 9\n"
     ]
    }
   ],
   "source": [
    ">>> log = open('log.txt', 'w')\n",
    ">>> print(1, 2, 3, file=log) # For 2.X: print >> log, 1, 2, 3\n",
    ">>> print(4, 5, 6, file=log)\n",
    ">>> log.close()\n",
    ">>> print(7, 8, 9)"
   ]
  },
  {
   "cell_type": "code",
   "execution_count": 67,
   "id": "10b6c73c",
   "metadata": {},
   "outputs": [
    {
     "name": "stdout",
     "output_type": "stream",
     "text": [
      "1 2 3\n",
      "4 5 6\n",
      "\n"
     ]
    }
   ],
   "source": [
    ">>> print(open('log.txt').read())"
   ]
  },
  {
   "cell_type": "raw",
   "id": "0e39b1e4",
   "metadata": {},
   "source": [
    "    here,note that write method overwrite the text in file by erasing privious texts where append method add the text at the \n",
    "    end of files texts."
   ]
  },
  {
   "cell_type": "code",
   "execution_count": 68,
   "id": "1c58c4fd",
   "metadata": {},
   "outputs": [
    {
     "name": "stdout",
     "output_type": "stream",
     "text": [
      "1 2\n",
      "1 2 3\n",
      "1 2 3\n",
      "1 2\n",
      "\n"
     ]
    }
   ],
   "source": [
    "f = open('log2.txt','a')\n",
    "print(1,2,file=f,flush=True)\n",
    "print(open('log2.txt').read())"
   ]
  },
  {
   "cell_type": "code",
   "execution_count": 69,
   "id": "10f5422f",
   "metadata": {},
   "outputs": [
    {
     "name": "stdout",
     "output_type": "stream",
     "text": [
      "1 2\n",
      "1 2 3\n",
      "1 2 3\n",
      "1 2\n",
      "\n"
     ]
    }
   ],
   "source": [
    "f = open('log2.txt','a')\n",
    "print(1,2,3,file=f,flush=False)\n",
    "print(open('log2.txt').read())"
   ]
  },
  {
   "cell_type": "code",
   "execution_count": 70,
   "id": "aba9357d",
   "metadata": {},
   "outputs": [
    {
     "name": "stdout",
     "output_type": "stream",
     "text": [
      "1 2\n",
      "1 2 3\n",
      "1 2 3\n",
      "1 2\n",
      "1 2 3\n",
      "1 2 3\n",
      "\n"
     ]
    }
   ],
   "source": [
    "f = open('log2.txt','a')\n",
    "print(1,2,3,file=f,flush=True)\n",
    "print(open('log2.txt').read())"
   ]
  },
  {
   "cell_type": "raw",
   "id": "8896a6f7",
   "metadata": {},
   "source": [
    "if We want to store the output values in file instantally without wait till close command we will use flush."
   ]
  }
 ],
 "metadata": {
  "kernelspec": {
   "display_name": "Python 3 (ipykernel)",
   "language": "python",
   "name": "python3"
  },
  "language_info": {
   "codemirror_mode": {
    "name": "ipython",
    "version": 3
   },
   "file_extension": ".py",
   "mimetype": "text/x-python",
   "name": "python",
   "nbconvert_exporter": "python",
   "pygments_lexer": "ipython3",
   "version": "3.10.6"
  }
 },
 "nbformat": 4,
 "nbformat_minor": 5
}
