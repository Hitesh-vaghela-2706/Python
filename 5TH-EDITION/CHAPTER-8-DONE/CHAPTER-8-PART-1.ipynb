{
 "cells": [
  {
   "cell_type": "markdown",
   "id": "7fa54219",
   "metadata": {},
   "source": [
    "# Lists"
   ]
  },
  {
   "cell_type": "markdown",
   "id": "1c12fcc1",
   "metadata": {},
   "source": [
    "- Lists are Python’s most flexible ordered collection object type.\n",
    "- list have a left-to-right positional ordering among the items they contain, and that order will not change.\n",
    "- Variable-length \n",
    "    - Unlike strings, lists can grow and shrink in place (their lengths can vary)\n",
    "- heterogeneous \n",
    "    - list can contain any sort of object, not just one-character strings (they’re heterogeneous).\n",
    "- Allow duplicates\n",
    "- arbitrarily nestable \n",
    "    - lists can contain any other complex objects\n",
    "    - lists can contain any sort of object: numbers, strings, and even other lists. \n",
    "- mutable sequence \n",
    "    - lists are mutable (can be changed in place) and can respond to all the sequence operations used with strings, such as indexing, slicing, and concatenation.\n",
    "- list items can be Accessed by offset using slicicng.\n",
    "- If we add new items to a list, the new items will be placed at the end of the list.\n",
    "- Arrays of object references - Python lists contain zero or more references to other objects. \n",
    "- Any immutable object (such as an integer, boolean, string, tuple) is hashable, meaning its value does not change during its lifetime.lists are unhashable."
   ]
  },
  {
   "cell_type": "code",
   "execution_count": 6,
   "id": "7562d997",
   "metadata": {},
   "outputs": [],
   "source": [
    "l = [1,2]"
   ]
  },
  {
   "cell_type": "code",
   "execution_count": 131,
   "id": "d5dead64",
   "metadata": {},
   "outputs": [
    {
     "name": "stdout",
     "output_type": "stream",
     "text": [
      "['__add__', '__class__', '__class_getitem__', '__contains__', '__delattr__', '__delitem__', '__dir__', '__doc__', '__eq__', '__format__', '__ge__', '__getattribute__', '__getitem__', '__gt__', '__hash__', '__iadd__', '__imul__', '__init__', '__init_subclass__', '__iter__', '__le__', '__len__', '__lt__', '__mul__', '__ne__', '__new__', '__reduce__', '__reduce_ex__', '__repr__', '__reversed__', '__rmul__', '__setattr__', '__setitem__', '__sizeof__', '__str__', '__subclasshook__', 'append', 'clear', 'copy', 'count', 'extend', 'index', 'insert', 'pop', 'remove', 'reverse', 'sort']\n"
     ]
    }
   ],
   "source": [
    "print(dir(l))"
   ]
  },
  {
   "cell_type": "markdown",
   "id": "bd573247",
   "metadata": {},
   "source": [
    "<h2 style='color:blue' > Creating List"
   ]
  },
  {
   "cell_type": "markdown",
   "id": "c615df36",
   "metadata": {},
   "source": [
    "- Lists are created using square brackets."
   ]
  },
  {
   "cell_type": "code",
   "execution_count": 9,
   "id": "4d4fc93e",
   "metadata": {},
   "outputs": [
    {
     "data": {
      "text/plain": [
       "[]"
      ]
     },
     "execution_count": 9,
     "metadata": {},
     "output_type": "execute_result"
    }
   ],
   "source": [
    "L = [] # An empty list\n",
    "L"
   ]
  },
  {
   "cell_type": "code",
   "execution_count": 10,
   "id": "8144eef5",
   "metadata": {},
   "outputs": [
    {
     "name": "stdout",
     "output_type": "stream",
     "text": [
      "['Hitesh', 'Vaghela', 'Name']\n"
     ]
    }
   ],
   "source": [
    "# List with 3 elements\n",
    "L = [\"Hitesh\", \"Vaghela\", \"Name\"]\n",
    "print(L)"
   ]
  },
  {
   "cell_type": "code",
   "execution_count": 132,
   "id": "0d5bcdb0",
   "metadata": {},
   "outputs": [
    {
     "name": "stdout",
     "output_type": "stream",
     "text": [
      "['apple', 'banana', 'cherry', 'apple', 'cherry']\n"
     ]
    }
   ],
   "source": [
    "# Lists allow duplicate values\n",
    "thislist = [\"apple\", \"banana\", \"cherry\", \"apple\", \"cherry\"]\n",
    "print(thislist)"
   ]
  },
  {
   "cell_type": "code",
   "execution_count": 11,
   "id": "06d42b50",
   "metadata": {},
   "outputs": [
    {
     "data": {
      "text/plain": [
       "['Bob', 40.0, ['dev', 'mgr']]"
      ]
     },
     "execution_count": 11,
     "metadata": {},
     "output_type": "execute_result"
    }
   ],
   "source": [
    "# lists can contain any sort of object: numbers, strings, and even other lists.\n",
    "L = ['Bob', 40.0, ['dev', 'mgr']] \n",
    "L"
   ]
  },
  {
   "cell_type": "markdown",
   "id": "73602519",
   "metadata": {},
   "source": [
    "- we can also able to create a list from any iterable objects or data types using built-in list constructor method."
   ]
  },
  {
   "cell_type": "code",
   "execution_count": 12,
   "id": "27302079",
   "metadata": {},
   "outputs": [
    {
     "data": {
      "text/plain": [
       "['s', 'p', 'a', 'm']"
      ]
     },
     "execution_count": 12,
     "metadata": {},
     "output_type": "execute_result"
    }
   ],
   "source": [
    "L = list('spam')\n",
    "L"
   ]
  },
  {
   "cell_type": "code",
   "execution_count": 18,
   "id": "eeb7422a",
   "metadata": {},
   "outputs": [
    {
     "data": {
      "text/plain": [
       "[5]"
      ]
     },
     "execution_count": 18,
     "metadata": {},
     "output_type": "execute_result"
    }
   ],
   "source": [
    "T = 5,\n",
    "L = list(T)\n",
    "L"
   ]
  },
  {
   "cell_type": "code",
   "execution_count": 13,
   "id": "ea17d935",
   "metadata": {},
   "outputs": [
    {
     "ename": "TypeError",
     "evalue": "'int' object is not iterable",
     "output_type": "error",
     "traceback": [
      "\u001b[1;31m---------------------------------------------------------------------------\u001b[0m",
      "\u001b[1;31mTypeError\u001b[0m                                 Traceback (most recent call last)",
      "Cell \u001b[1;32mIn[13], line 2\u001b[0m\n\u001b[0;32m      1\u001b[0m N \u001b[38;5;241m=\u001b[39m \u001b[38;5;241m5\u001b[39m\n\u001b[1;32m----> 2\u001b[0m L \u001b[38;5;241m=\u001b[39m \u001b[38;5;28;43mlist\u001b[39;49m\u001b[43m(\u001b[49m\u001b[43mN\u001b[49m\u001b[43m)\u001b[49m\n\u001b[0;32m      3\u001b[0m L\n",
      "\u001b[1;31mTypeError\u001b[0m: 'int' object is not iterable"
     ]
    }
   ],
   "source": [
    "N = 5\n",
    "L = list(N)\n",
    "L"
   ]
  },
  {
   "cell_type": "markdown",
   "id": "83db29c9",
   "metadata": {},
   "source": [
    "- we can also able to create a list of non iterable object using range built-in function."
   ]
  },
  {
   "cell_type": "code",
   "execution_count": 19,
   "id": "40bbd174",
   "metadata": {},
   "outputs": [
    {
     "data": {
      "text/plain": [
       "[-4, -3, -2, -1, 0, 1, 2, 3]"
      ]
     },
     "execution_count": 19,
     "metadata": {},
     "output_type": "execute_result"
    }
   ],
   "source": [
    "L = list(range(-4, 4))\n",
    "L"
   ]
  },
  {
   "cell_type": "markdown",
   "id": "e3a3ead5",
   "metadata": {},
   "source": [
    "- list can contain any Data Types(object) not just one-character strings or numbers.\n",
    "- lists can contain other complex objects like list,boolean, dictionary, tuple etc. as well."
   ]
  },
  {
   "cell_type": "code",
   "execution_count": 22,
   "id": "1e53f57c",
   "metadata": {},
   "outputs": [
    {
     "data": {
      "text/plain": [
       "['apple', 'banana', {'a': 5, 'b': 6}]"
      ]
     },
     "execution_count": 22,
     "metadata": {},
     "output_type": "execute_result"
    }
   ],
   "source": [
    "L1 = [\"apple\", \"banana\", {'a':5,'b':6}]\n",
    "L1"
   ]
  },
  {
   "cell_type": "code",
   "execution_count": 21,
   "id": "d7027835",
   "metadata": {},
   "outputs": [
    {
     "data": {
      "text/plain": [
       "[True, False, False]"
      ]
     },
     "execution_count": 21,
     "metadata": {},
     "output_type": "execute_result"
    }
   ],
   "source": [
    "L2 = [True, False, False]\n",
    "L2"
   ]
  },
  {
   "cell_type": "code",
   "execution_count": 25,
   "id": "7e28f33e",
   "metadata": {},
   "outputs": [
    {
     "data": {
      "text/plain": [
       "['abc', 34, True, (5,), {'male': 6, 'female': 3}, [1, 2, 5]]"
      ]
     },
     "execution_count": 25,
     "metadata": {},
     "output_type": "execute_result"
    }
   ],
   "source": [
    "L3 = [\"abc\", 34, True, (5,), {\"male\":6,\"female\":3},[1,2,5]]\n",
    "L3"
   ]
  },
  {
   "cell_type": "markdown",
   "id": "7af63928",
   "metadata": {},
   "source": [
    "<h2 style='color:blue' > Type Checking of List"
   ]
  },
  {
   "cell_type": "code",
   "execution_count": 27,
   "id": "cdca9dee",
   "metadata": {},
   "outputs": [
    {
     "name": "stdout",
     "output_type": "stream",
     "text": [
      "['R', 'e', 's', 'h', 'm', 'a']\n"
     ]
    },
    {
     "data": {
      "text/plain": [
       "list"
      ]
     },
     "execution_count": 27,
     "metadata": {},
     "output_type": "execute_result"
    }
   ],
   "source": [
    "L = list('Reshma')\n",
    "print(L)\n",
    "type(L)"
   ]
  },
  {
   "cell_type": "markdown",
   "id": "a28ca0ae",
   "metadata": {},
   "source": [
    "<h2 style='color:blue' > lenght of List"
   ]
  },
  {
   "cell_type": "markdown",
   "id": "c50fa3a5",
   "metadata": {},
   "source": [
    "- built-in len function returns the actual number of items a list."
   ]
  },
  {
   "cell_type": "code",
   "execution_count": 7,
   "id": "43a6ea58",
   "metadata": {},
   "outputs": [
    {
     "data": {
      "text/plain": [
       "6"
      ]
     },
     "execution_count": 7,
     "metadata": {},
     "output_type": "execute_result"
    }
   ],
   "source": [
    "l = [1,2,3,4,5,6]\n",
    "len(l)"
   ]
  },
  {
   "cell_type": "code",
   "execution_count": 150,
   "id": "0a9d0221",
   "metadata": {},
   "outputs": [
    {
     "name": "stdout",
     "output_type": "stream",
     "text": [
      "7\n"
     ]
    }
   ],
   "source": [
    "# without len function:-\n",
    "length = 0\n",
    "A = [2,6,5,3,8,5,7]\n",
    "for i in A:\n",
    "    length +=1\n",
    "print(length)    "
   ]
  },
  {
   "cell_type": "code",
   "execution_count": 151,
   "id": "aede2b0b",
   "metadata": {},
   "outputs": [
    {
     "name": "stdout",
     "output_type": "stream",
     "text": [
      "10\n"
     ]
    }
   ],
   "source": [
    "#using user define function\n",
    "def findlength(list):\n",
    "    length = 0\n",
    "    for i in list:\n",
    "        length += 1\n",
    "    return length\n",
    "A = [2,5,7,9,78,56,45,4,34,3]\n",
    "print(findlength(A))"
   ]
  },
  {
   "cell_type": "markdown",
   "id": "874365dd",
   "metadata": {},
   "source": [
    "<h2 style='color:blue;' > Indexing and Slicing "
   ]
  },
  {
   "cell_type": "markdown",
   "id": "07efe6a6",
   "metadata": {},
   "source": [
    "- Slicing is Used to access the elements of string, list and other sequence datatypes. we use index for slicing.Index is nothing but a position of elements.\n",
    "- <p style='color:red' > In Python, indexes are coded as offsets from the front, and so start from 0: the first item\n",
    "is at index 0, the second is at index 1, and so on </p>\n",
    "- Negative indexing means start from the end -1 refers to the last item, -2 refers to the second last item etc.\n",
    "- In Python items in a List are fetched by indexing providing the numeric offset of the desired component in square brackets after then List.\n",
    "- In Python we can also index backward from the end\n",
    "    - positive indexes count from the left\n",
    "    - negative indexes count baack from the right\n",
    "- here note that when we access more than one element using slice method it returns a new list. "
   ]
  },
  {
   "attachments": {
    "Screenshot%202023-12-30%20204653.png": {
     "image/png": "[encoded data removed]"
    }
   },
   "cell_type": "markdown",
   "id": "9b8641a7",
   "metadata": {},
   "source": [
    "![Screenshot%202023-12-30%20204653.png](attachment:Screenshot%202023-12-30%20204653.png)"
   ]
  },
  {
   "cell_type": "code",
   "execution_count": 17,
   "id": "0721756f",
   "metadata": {},
   "outputs": [
    {
     "data": {
      "text/plain": [
       "'cherry'"
      ]
     },
     "execution_count": 17,
     "metadata": {},
     "output_type": "execute_result"
    }
   ],
   "source": [
    "L = [\"apple\", \"banana\", \"cherry\", \"orange\", \"kiwi\", \"melon\", \"mango\"]\n",
    "L[2]"
   ]
  },
  {
   "cell_type": "code",
   "execution_count": 5,
   "id": "f640dfbe",
   "metadata": {},
   "outputs": [
    {
     "data": {
      "text/plain": [
       "'melon'"
      ]
     },
     "execution_count": 5,
     "metadata": {},
     "output_type": "execute_result"
    }
   ],
   "source": [
    "L[-2]"
   ]
  },
  {
   "cell_type": "markdown",
   "id": "d9740259",
   "metadata": {},
   "source": [
    "- sequences also support a more general form of indexing known as slicing.\n",
    "- which is a way to extract an entire section (slice) in a single step. For example...\n",
    "- general form of slicing is X[I:J]\n",
    "- it returns everything in X from offset I up to offset J but not including offset J. \n",
    "- The result is returned in a new object.\n",
    "- In a slicing....\n",
    "    - the left bound defaults to zero\n",
    "    - the right bound defaults to the length of the sequence being sliced.\n",
    "- Here... also we have to note that as string are immutable it creates a slice as a new object until we assign to the old object.\n",
    "- Extended slicing (S[i:j:k]) accepts a step (or stride) k, which defaults to +1."
   ]
  },
  {
   "cell_type": "code",
   "execution_count": 6,
   "id": "d11b74f9",
   "metadata": {},
   "outputs": [
    {
     "data": {
      "text/plain": [
       "['banana', 'cherry', 'orange', 'kiwi', 'melon', 'mango']"
      ]
     },
     "execution_count": 6,
     "metadata": {},
     "output_type": "execute_result"
    }
   ],
   "source": [
    "L[1:] # Slicing fetches sections L[0:len(L)] # default"
   ]
  },
  {
   "cell_type": "code",
   "execution_count": 7,
   "id": "256ab45a",
   "metadata": {},
   "outputs": [
    {
     "data": {
      "text/plain": [
       "['cherry', 'orange', 'kiwi']"
      ]
     },
     "execution_count": 7,
     "metadata": {},
     "output_type": "execute_result"
    }
   ],
   "source": [
    "L[2:5]"
   ]
  },
  {
   "cell_type": "code",
   "execution_count": 9,
   "id": "e7097b36",
   "metadata": {},
   "outputs": [
    {
     "data": {
      "text/plain": [
       "['apple', 'banana', 'cherry', 'orange', 'kiwi', 'melon', 'mango']"
      ]
     },
     "execution_count": 9,
     "metadata": {},
     "output_type": "execute_result"
    }
   ],
   "source": [
    "L[:len(L)]"
   ]
  },
  {
   "cell_type": "code",
   "execution_count": 20,
   "id": "47ce2939",
   "metadata": {},
   "outputs": [
    {
     "data": {
      "text/plain": [
       "['apple', 'banana', 'cherry', 'orange', 'kiwi', 'melon']"
      ]
     },
     "execution_count": 20,
     "metadata": {},
     "output_type": "execute_result"
    }
   ],
   "source": [
    "L[:-1]"
   ]
  },
  {
   "cell_type": "code",
   "execution_count": 21,
   "id": "71d626bd",
   "metadata": {},
   "outputs": [
    {
     "data": {
      "text/plain": [
       "['apple', 'banana', 'cherry', 'orange', 'kiwi', 'melon', 'mango']"
      ]
     },
     "execution_count": 21,
     "metadata": {},
     "output_type": "execute_result"
    }
   ],
   "source": [
    "L[-len(L):]"
   ]
  },
  {
   "cell_type": "code",
   "execution_count": 46,
   "id": "b53c145d",
   "metadata": {},
   "outputs": [
    {
     "data": {
      "text/plain": [
       "['apple', 'banana', 'cherry', 'orange', 'kiwi', 'melon', 'mango']"
      ]
     },
     "execution_count": 46,
     "metadata": {},
     "output_type": "execute_result"
    }
   ],
   "source": [
    "L[:] # another way to copy the list\n",
    "# start from 0 to end of list"
   ]
  },
  {
   "cell_type": "code",
   "execution_count": 47,
   "id": "8d5c019d",
   "metadata": {},
   "outputs": [
    {
     "data": {
      "text/plain": [
       "['apple', 'cherry', 'kiwi']"
      ]
     },
     "execution_count": 47,
     "metadata": {},
     "output_type": "execute_result"
    }
   ],
   "source": [
    "L[:6:2] # third parameter is a skiping character"
   ]
  },
  {
   "cell_type": "code",
   "execution_count": 48,
   "id": "a3a55f19",
   "metadata": {},
   "outputs": [
    {
     "data": {
      "text/plain": [
       "['mango', 'melon', 'kiwi', 'orange', 'cherry', 'banana', 'apple']"
      ]
     },
     "execution_count": 48,
     "metadata": {},
     "output_type": "execute_result"
    }
   ],
   "source": [
    "L[::-1] # reverese the list"
   ]
  },
  {
   "cell_type": "code",
   "execution_count": 50,
   "id": "90838546",
   "metadata": {},
   "outputs": [
    {
     "data": {
      "text/plain": [
       "['mango', 'kiwi', 'cherry', 'apple']"
      ]
     },
     "execution_count": 50,
     "metadata": {},
     "output_type": "execute_result"
    }
   ],
   "source": [
    "L[::-2] # returns a every second item starting from  right side of list.  "
   ]
  },
  {
   "cell_type": "markdown",
   "id": "bcd0da8b",
   "metadata": {},
   "source": [
    "- slicing in nested lists are similar to the normal list slicing operation."
   ]
  },
  {
   "cell_type": "code",
   "execution_count": 31,
   "id": "47425c7b",
   "metadata": {},
   "outputs": [
    {
     "data": {
      "text/plain": [
       "[[1, 2, 3], [4, 5, 6], [7, 8, 9]]"
      ]
     },
     "execution_count": 31,
     "metadata": {},
     "output_type": "execute_result"
    }
   ],
   "source": [
    "M = [[1, 2, 3], [4, 5, 6], [7, 8, 9]]\n",
    "M"
   ]
  },
  {
   "cell_type": "code",
   "execution_count": 32,
   "id": "901b724e",
   "metadata": {},
   "outputs": [
    {
     "data": {
      "text/plain": [
       "[4, 5, 6]"
      ]
     },
     "execution_count": 32,
     "metadata": {},
     "output_type": "execute_result"
    }
   ],
   "source": [
    "M[1]"
   ]
  },
  {
   "cell_type": "code",
   "execution_count": 33,
   "id": "23c15566",
   "metadata": {},
   "outputs": [
    {
     "data": {
      "text/plain": [
       "5"
      ]
     },
     "execution_count": 33,
     "metadata": {},
     "output_type": "execute_result"
    }
   ],
   "source": [
    "M[1][1]"
   ]
  },
  {
   "cell_type": "code",
   "execution_count": 34,
   "id": "abd48a53",
   "metadata": {},
   "outputs": [
    {
     "data": {
      "text/plain": [
       "7"
      ]
     },
     "execution_count": 34,
     "metadata": {},
     "output_type": "execute_result"
    }
   ],
   "source": [
    "M[2][0]"
   ]
  },
  {
   "cell_type": "code",
   "execution_count": 35,
   "id": "6421dc62",
   "metadata": {},
   "outputs": [
    {
     "data": {
      "text/plain": [
       "8"
      ]
     },
     "execution_count": 35,
     "metadata": {},
     "output_type": "execute_result"
    }
   ],
   "source": [
    "M[-1][1]"
   ]
  },
  {
   "cell_type": "code",
   "execution_count": 36,
   "id": "e1e7b7ba",
   "metadata": {},
   "outputs": [
    {
     "data": {
      "text/plain": [
       "3"
      ]
     },
     "execution_count": 36,
     "metadata": {},
     "output_type": "execute_result"
    }
   ],
   "source": [
    "M[-3][-1]"
   ]
  },
  {
   "cell_type": "markdown",
   "id": "f8c94b37",
   "metadata": {},
   "source": [
    "<h2 style='color:blue' > Changing Lists in Place"
   ]
  },
  {
   "cell_type": "markdown",
   "id": "36b23342",
   "metadata": {},
   "source": [
    "- As lists are mutable, they support operations that change a list object in place.\n",
    "- the list object directly—overwriting its former value—without requiring that you make a new copy."
   ]
  },
  {
   "cell_type": "code",
   "execution_count": 51,
   "id": "c5c34545",
   "metadata": {},
   "outputs": [
    {
     "data": {
      "text/plain": [
       "['Hitesh', 'Name', 'Ravi']"
      ]
     },
     "execution_count": 51,
     "metadata": {},
     "output_type": "execute_result"
    }
   ],
   "source": [
    "L = [\"Hitesh\", \"Vaghela\", \"Ravi\"]\n",
    "L[1] = 'Name' # Index assignment\n",
    "L"
   ]
  },
  {
   "cell_type": "code",
   "execution_count": 53,
   "id": "e53926e7",
   "metadata": {},
   "outputs": [
    {
     "data": {
      "text/plain": [
       "['Chauhan', 'Moye-Moye', 'Ravi']"
      ]
     },
     "execution_count": 53,
     "metadata": {},
     "output_type": "execute_result"
    }
   ],
   "source": [
    "L[0:2] = ['Chauhan', 'Moye-Moye'] # Slice assignment: delete+insert\n",
    "L # Replaces items 0,1"
   ]
  },
  {
   "cell_type": "markdown",
   "id": "0a50f6ff",
   "metadata": {},
   "source": [
    "<h2 style='color:blue' > insert and delete operation"
   ]
  },
  {
   "cell_type": "markdown",
   "id": "d90321c7",
   "metadata": {},
   "source": [
    "- For instance, given a list L of two or more items, an assignment L[1:2]=[4,5] replaces one item with two. here...Python first deletes the one-item slice at [1:2] (from offset 1, up to but not including offset 2), then inserts both 4 and 5 where the deleted slice used to be."
   ]
  },
  {
   "cell_type": "code",
   "execution_count": 55,
   "id": "a7206d6c",
   "metadata": {},
   "outputs": [
    {
     "data": {
      "text/plain": [
       "['Hitesh', 'Kumar', 'Rameshbhai', 'Vaghela']"
      ]
     },
     "execution_count": 55,
     "metadata": {},
     "output_type": "execute_result"
    }
   ],
   "source": [
    "L = ['Hitesh','Rameshbhai' , 'Vaghela']\n",
    "L[0:1] = ['Hitesh', 'Kumar'] # Replacement/insertion\n",
    "L"
   ]
  },
  {
   "cell_type": "code",
   "execution_count": 61,
   "id": "95ef0491",
   "metadata": {},
   "outputs": [
    {
     "data": {
      "text/plain": [
       "[1, 6, 7, 2, 4, 5]"
      ]
     },
     "execution_count": 61,
     "metadata": {},
     "output_type": "execute_result"
    }
   ],
   "source": [
    "L = [1,2,4,5]\n",
    "L[1:1] = [6, 7] # Insertion (replace nothing)\n",
    "L"
   ]
  },
  {
   "cell_type": "code",
   "execution_count": 62,
   "id": "137b2abf",
   "metadata": {},
   "outputs": [
    {
     "data": {
      "text/plain": [
       "[1, 7, 2, 4, 5]"
      ]
     },
     "execution_count": 62,
     "metadata": {},
     "output_type": "execute_result"
    }
   ],
   "source": [
    "L[1:2] = [] # Deletion (insert nothing)\n",
    "L"
   ]
  },
  {
   "cell_type": "code",
   "execution_count": 63,
   "id": "b3b4189a",
   "metadata": {},
   "outputs": [
    {
     "data": {
      "text/plain": [
       "[2, 3, 4, 1]"
      ]
     },
     "execution_count": 63,
     "metadata": {},
     "output_type": "execute_result"
    }
   ],
   "source": [
    "L = [1]\n",
    "L[:0] = [2, 3, 4] # Insert all at :0, an empty slice at front\n",
    "L"
   ]
  },
  {
   "cell_type": "code",
   "execution_count": 64,
   "id": "096954cd",
   "metadata": {},
   "outputs": [
    {
     "data": {
      "text/plain": [
       "[2, 3, 4, 1, 5, 6, 7]"
      ]
     },
     "execution_count": 64,
     "metadata": {},
     "output_type": "execute_result"
    }
   ],
   "source": [
    "L[len(L):] = [5, 6, 7] # Insert all at len(L):, an empty slice at end\n",
    "L"
   ]
  },
  {
   "cell_type": "markdown",
   "id": "a1684da0",
   "metadata": {},
   "source": [
    "**Bounds Checking**\n",
    "- Although lists have no fixed size Python still doesn’t allow us to reference items that are not present. \n",
    "- Indexing off the end of a list is always a mistake but so is assigning off the end."
   ]
  },
  {
   "cell_type": "code",
   "execution_count": 73,
   "id": "b2052db8",
   "metadata": {},
   "outputs": [
    {
     "data": {
      "text/plain": [
       "[5, 8, 13]"
      ]
     },
     "execution_count": 73,
     "metadata": {},
     "output_type": "execute_result"
    }
   ],
   "source": [
    "L = [5,8,13]\n",
    "L"
   ]
  },
  {
   "cell_type": "code",
   "execution_count": 74,
   "id": "d040108b",
   "metadata": {},
   "outputs": [
    {
     "ename": "IndexError",
     "evalue": "list index out of range",
     "output_type": "error",
     "traceback": [
      "\u001b[1;31m---------------------------------------------------------------------------\u001b[0m",
      "\u001b[1;31mIndexError\u001b[0m                                Traceback (most recent call last)",
      "Cell \u001b[1;32mIn[74], line 1\u001b[0m\n\u001b[1;32m----> 1\u001b[0m \u001b[43mL\u001b[49m\u001b[43m[\u001b[49m\u001b[38;5;241;43m99\u001b[39;49m\u001b[43m]\u001b[49m\n",
      "\u001b[1;31mIndexError\u001b[0m: list index out of range"
     ]
    }
   ],
   "source": [
    "L[99]"
   ]
  },
  {
   "cell_type": "code",
   "execution_count": 75,
   "id": "5a46e54e",
   "metadata": {},
   "outputs": [
    {
     "ename": "IndexError",
     "evalue": "list assignment index out of range",
     "output_type": "error",
     "traceback": [
      "\u001b[1;31m---------------------------------------------------------------------------\u001b[0m",
      "\u001b[1;31mIndexError\u001b[0m                                Traceback (most recent call last)",
      "Cell \u001b[1;32mIn[75], line 1\u001b[0m\n\u001b[1;32m----> 1\u001b[0m \u001b[43mL\u001b[49m\u001b[43m[\u001b[49m\u001b[38;5;241;43m99\u001b[39;49m\u001b[43m]\u001b[49m \u001b[38;5;241m=\u001b[39m \u001b[38;5;241m34\u001b[39m\n",
      "\u001b[1;31mIndexError\u001b[0m: list assignment index out of range"
     ]
    }
   ],
   "source": [
    "L[99] = 34"
   ]
  },
  {
   "cell_type": "markdown",
   "id": "dd7c14f0",
   "metadata": {},
   "source": [
    "- unlike C language Python reports an error when we try to grow list this way Rather than silently growing the list in response\n",
    "- because C language doesn’t do as much error checking as Python.\n",
    "- To grow a list we call list methods such as append instead."
   ]
  },
  {
   "cell_type": "markdown",
   "id": "d5134dc7",
   "metadata": {},
   "source": [
    "<h2 style='color:blue' > Add Items in List"
   ]
  },
  {
   "cell_type": "markdown",
   "id": "daa50d65",
   "metadata": {},
   "source": [
    "- To add an item to the end of the list, use the append() method"
   ]
  },
  {
   "cell_type": "code",
   "execution_count": 65,
   "id": "2c787e30",
   "metadata": {},
   "outputs": [
    {
     "name": "stdout",
     "output_type": "stream",
     "text": [
      "['apple', 'banana', 'cherry', 'orange']\n"
     ]
    }
   ],
   "source": [
    "L1 = [\"apple\", \"banana\", \"cherry\"]\n",
    "L1.append(\"orange\")\n",
    "print(L1)"
   ]
  },
  {
   "cell_type": "code",
   "execution_count": 66,
   "id": "8ddee914",
   "metadata": {},
   "outputs": [
    {
     "data": {
      "text/plain": [
       "['eat', 'more', 'SPAM!', 7]"
      ]
     },
     "execution_count": 66,
     "metadata": {},
     "output_type": "execute_result"
    }
   ],
   "source": [
    "L = ['eat', 'more', 'SPAM!']\n",
    "L.append(7)\n",
    "L"
   ]
  },
  {
   "cell_type": "markdown",
   "id": "be1d0cf2",
   "metadata": {},
   "source": [
    "- To insert a list item at a specified index, use the insert() method."
   ]
  },
  {
   "cell_type": "code",
   "execution_count": 67,
   "id": "300efffb",
   "metadata": {},
   "outputs": [
    {
     "name": "stdout",
     "output_type": "stream",
     "text": [
      "['apple', 'orange', 'banana', 'cherry']\n"
     ]
    }
   ],
   "source": [
    "L1 = [\"apple\", \"banana\", \"cherry\"]\n",
    "L1.insert(1, \"orange\")\n",
    "print(L1)"
   ]
  },
  {
   "cell_type": "markdown",
   "id": "6467410c",
   "metadata": {},
   "source": [
    "- the extend() method used to append elements from another list or datatypes that contain multiple items to the current list.\n",
    "- it performes an inplace operation so we need to take care of shared refrences as well."
   ]
  },
  {
   "cell_type": "code",
   "execution_count": 68,
   "id": "6d195ef2",
   "metadata": {},
   "outputs": [
    {
     "name": "stdout",
     "output_type": "stream",
     "text": [
      "['apple', 'banana', 'cherry', 'mango', 'pineapple', 'papaya']\n"
     ]
    }
   ],
   "source": [
    "L1 = [\"apple\", \"banana\", \"cherry\"]\n",
    "L2 = [\"mango\", \"pineapple\", \"papaya\"]\n",
    "L1.extend(L2)\n",
    "print(L1)"
   ]
  },
  {
   "cell_type": "code",
   "execution_count": 69,
   "id": "9151e03d",
   "metadata": {},
   "outputs": [
    {
     "name": "stdout",
     "output_type": "stream",
     "text": [
      "['apple', 'banana', 'cherry', 'mango', 'pineapple', 'papaya']\n"
     ]
    }
   ],
   "source": [
    "L1 = [\"apple\", \"banana\", \"cherry\"]\n",
    "L2 = (\"mango\", \"pineapple\", \"papaya\")\n",
    "L1.extend(L2)\n",
    "print(L1)"
   ]
  },
  {
   "cell_type": "code",
   "execution_count": 70,
   "id": "07ef93ad",
   "metadata": {},
   "outputs": [
    {
     "name": "stdout",
     "output_type": "stream",
     "text": [
      "['apple', 'banana', 'cherry', 'pineapple', 'papaya', 'mango']\n"
     ]
    }
   ],
   "source": [
    "L1 = [\"apple\", \"banana\", \"cherry\"]\n",
    "L2 = {\"mango\", \"pineapple\", \"papaya\"}\n",
    "L1.extend(L2)\n",
    "print(L1)"
   ]
  },
  {
   "cell_type": "code",
   "execution_count": 71,
   "id": "036372ef",
   "metadata": {},
   "outputs": [
    {
     "data": {
      "text/plain": [
       "[1, 2, 3, 4, 8, 9, 10]"
      ]
     },
     "execution_count": 71,
     "metadata": {},
     "output_type": "execute_result"
    }
   ],
   "source": [
    "L = [1,2,3,4]\n",
    "L.extend([8, 9, 10]) # Insert all at end, named method\n",
    "L"
   ]
  },
  {
   "cell_type": "markdown",
   "id": "a6682d2c",
   "metadata": {},
   "source": [
    "<h2 style='color:blue' > Join Two Lists"
   ]
  },
  {
   "cell_type": "markdown",
   "id": "7f580b5b",
   "metadata": {},
   "source": [
    "- there are mainly 3 ways to join to lists \n",
    "    - extend() method\n",
    "    - concatenation\n",
    "    - using loop"
   ]
  },
  {
   "cell_type": "code",
   "execution_count": 119,
   "id": "6669cc92",
   "metadata": {},
   "outputs": [
    {
     "name": "stdout",
     "output_type": "stream",
     "text": [
      "['a', 'b', 'c', 1, 2, 3]\n"
     ]
    }
   ],
   "source": [
    "list1 = [\"a\", \"b\" , \"c\"]\n",
    "list2 = [1, 2, 3]\n",
    "for x in list2:\n",
    "    list1.append(x)\n",
    "print(list1)"
   ]
  },
  {
   "cell_type": "markdown",
   "id": "d85f67c4",
   "metadata": {},
   "source": [
    "<h2 style='color:blue' > Concatenation & Repetition "
   ]
  },
  {
   "cell_type": "markdown",
   "id": "d612b002",
   "metadata": {},
   "source": [
    "- `+` operation in list is used for Concatenation and `*` operator is used for Repetition in python\n",
    "- these operations always returns a new list."
   ]
  },
  {
   "cell_type": "markdown",
   "id": "4fe744db",
   "metadata": {},
   "source": [
    "- most commonly used list method is append, which simply takes a single item (object reference) onto the end of the list. \n",
    "- where concatenation tacks a multiple item (object reference) onto the end of the list.\n",
    "- append expects you to pass in a single object, not a list. The effect of L.append(X) is similar to L+[X],\n",
    "- but while the former(append method) changes L in place, the latter(concatenation) makes a new list."
   ]
  },
  {
   "cell_type": "code",
   "execution_count": 26,
   "id": "9acee3f9",
   "metadata": {},
   "outputs": [
    {
     "data": {
      "text/plain": [
       "[1, 2, 3, 4, 5, 6, 7, 8, 9]"
      ]
     },
     "execution_count": 26,
     "metadata": {},
     "output_type": "execute_result"
    }
   ],
   "source": [
    "L = [1,2,3] + [4,5,6] + [7,8,9]\n",
    "L # Concatenation"
   ]
  },
  {
   "cell_type": "code",
   "execution_count": 118,
   "id": "f7ec492c",
   "metadata": {},
   "outputs": [
    {
     "name": "stdout",
     "output_type": "stream",
     "text": [
      "['a', 'b', 'c', 1, 2, 3]\n"
     ]
    }
   ],
   "source": [
    "list1 = [\"a\", \"b\", \"c\"]\n",
    "list2 = [1, 2, 3]\n",
    "list3 = list1 + list2\n",
    "print(list3)"
   ]
  },
  {
   "cell_type": "code",
   "execution_count": 72,
   "id": "4b771fee",
   "metadata": {},
   "outputs": [
    {
     "data": {
      "text/plain": [
       "['Hitesh', 'Hitesh', 'Hitesh', 'Hitesh']"
      ]
     },
     "execution_count": 72,
     "metadata": {},
     "output_type": "execute_result"
    }
   ],
   "source": [
    "L1 = ['Hitesh'] \n",
    "L1 * 4 # Repetition"
   ]
  },
  {
   "cell_type": "markdown",
   "id": "cf39429c",
   "metadata": {},
   "source": [
    "<h2 style='color:blue' > Remove List Items"
   ]
  },
  {
   "cell_type": "markdown",
   "id": "a686a72f",
   "metadata": {},
   "source": [
    "- The remove() method removes the specified item.\n",
    "- If there are more than one item with the specified value, the remove() method removes the first occurance."
   ]
  },
  {
   "cell_type": "code",
   "execution_count": 76,
   "id": "d1d3c49b",
   "metadata": {},
   "outputs": [
    {
     "name": "stdout",
     "output_type": "stream",
     "text": [
      "['apple', 'cherry']\n"
     ]
    }
   ],
   "source": [
    "L1 = [\"apple\", \"banana\", \"cherry\"]\n",
    "L1.remove(\"banana\") # Delete by value banana\n",
    "print(L1)"
   ]
  },
  {
   "cell_type": "code",
   "execution_count": 77,
   "id": "3cc8a5c8",
   "metadata": {},
   "outputs": [
    {
     "name": "stdout",
     "output_type": "stream",
     "text": [
      "['apple', 'cherry', 'banana', 'kiwi']\n"
     ]
    }
   ],
   "source": [
    "L1 = [\"apple\", \"banana\", \"cherry\", \"banana\", \"kiwi\"]\n",
    "L1.remove(\"banana\")\n",
    "print(L1)"
   ]
  },
  {
   "cell_type": "markdown",
   "id": "1aae23c9",
   "metadata": {},
   "source": [
    "- The pop() method removes the specified index.\n",
    "- If you do not specify the index, the pop() method removes the last item."
   ]
  },
  {
   "cell_type": "code",
   "execution_count": 78,
   "id": "e9058c87",
   "metadata": {},
   "outputs": [
    {
     "name": "stdout",
     "output_type": "stream",
     "text": [
      "['apple', 'cherry']\n"
     ]
    }
   ],
   "source": [
    "L = [\"apple\", \"banana\", \"cherry\"]\n",
    "L.pop(1) # Delete by position 1\n",
    "print(L)"
   ]
  },
  {
   "cell_type": "code",
   "execution_count": 88,
   "id": "a5166620",
   "metadata": {},
   "outputs": [
    {
     "name": "stdout",
     "output_type": "stream",
     "text": [
      "['apple', 'cherry']\n"
     ]
    }
   ],
   "source": [
    "L = [\"apple\", \"banana\", \"cherry\"]\n",
    "L.pop(-2) # Delete by position 1\n",
    "print(L)"
   ]
  },
  {
   "cell_type": "code",
   "execution_count": 86,
   "id": "39b42e21",
   "metadata": {},
   "outputs": [
    {
     "data": {
      "text/plain": [
       "'cherry'"
      ]
     },
     "execution_count": 86,
     "metadata": {},
     "output_type": "execute_result"
    }
   ],
   "source": [
    "L = [\"apple\", \"banana\", \"cherry\"]\n",
    "L.pop() # Delete and return last item (by default: −1)"
   ]
  },
  {
   "cell_type": "code",
   "execution_count": 87,
   "id": "29cc3a8f",
   "metadata": {},
   "outputs": [
    {
     "name": "stdout",
     "output_type": "stream",
     "text": [
      "['apple', 'banana']\n"
     ]
    }
   ],
   "source": [
    "L = [\"apple\", \"banana\", \"cherry\"]\n",
    "L.pop()\n",
    "print(L)"
   ]
  },
  {
   "cell_type": "markdown",
   "id": "3a289b92",
   "metadata": {},
   "source": [
    "- The del keyword used to remove the slice of items or item at specified index.\n",
    "- The del keyword can also delete the list completely."
   ]
  },
  {
   "cell_type": "code",
   "execution_count": 89,
   "id": "4d1575cf",
   "metadata": {},
   "outputs": [
    {
     "data": {
      "text/plain": [
       "['eggs', 'ham', 'toast']"
      ]
     },
     "execution_count": 89,
     "metadata": {},
     "output_type": "execute_result"
    }
   ],
   "source": [
    "L = ['spam', 'eggs', 'ham', 'toast']\n",
    "del L[0] # Delete one item\n",
    "L"
   ]
  },
  {
   "cell_type": "code",
   "execution_count": 90,
   "id": "d08e5b27",
   "metadata": {},
   "outputs": [
    {
     "data": {
      "text/plain": [
       "['eggs']"
      ]
     },
     "execution_count": 90,
     "metadata": {},
     "output_type": "execute_result"
    }
   ],
   "source": [
    "del L[1:] # Delete an entire section\n",
    "L # Same as L[1:] = []"
   ]
  },
  {
   "cell_type": "code",
   "execution_count": 91,
   "id": "eb7e90db",
   "metadata": {},
   "outputs": [
    {
     "data": {
      "text/plain": [
       "[]"
      ]
     },
     "execution_count": 91,
     "metadata": {},
     "output_type": "execute_result"
    }
   ],
   "source": [
    "del L[0:] # Delete an entire section\n",
    "L # Same as L[0:] = []"
   ]
  },
  {
   "cell_type": "code",
   "execution_count": 81,
   "id": "f4fc1a0d",
   "metadata": {},
   "outputs": [
    {
     "name": "stdout",
     "output_type": "stream",
     "text": [
      "['cherry']\n"
     ]
    }
   ],
   "source": [
    "thislist = [\"apple\", \"banana\", \"cherry\"]\n",
    "del thislist[0:2]\n",
    "print(thislist)"
   ]
  },
  {
   "cell_type": "code",
   "execution_count": 83,
   "id": "8a69cf6e",
   "metadata": {},
   "outputs": [
    {
     "ename": "NameError",
     "evalue": "name 'thislist' is not defined",
     "output_type": "error",
     "traceback": [
      "\u001b[1;31m---------------------------------------------------------------------------\u001b[0m",
      "\u001b[1;31mNameError\u001b[0m                                 Traceback (most recent call last)",
      "Cell \u001b[1;32mIn[83], line 3\u001b[0m\n\u001b[0;32m      1\u001b[0m thislist \u001b[38;5;241m=\u001b[39m [\u001b[38;5;124m\"\u001b[39m\u001b[38;5;124mapple\u001b[39m\u001b[38;5;124m\"\u001b[39m, \u001b[38;5;124m\"\u001b[39m\u001b[38;5;124mbanana\u001b[39m\u001b[38;5;124m\"\u001b[39m, \u001b[38;5;124m\"\u001b[39m\u001b[38;5;124mcherry\u001b[39m\u001b[38;5;124m\"\u001b[39m]\n\u001b[0;32m      2\u001b[0m \u001b[38;5;28;01mdel\u001b[39;00m thislist\n\u001b[1;32m----> 3\u001b[0m \u001b[43mthislist\u001b[49m\n",
      "\u001b[1;31mNameError\u001b[0m: name 'thislist' is not defined"
     ]
    }
   ],
   "source": [
    "thislist = [\"apple\", \"banana\", \"cherry\"]\n",
    "del thislist\n",
    "thislist"
   ]
  },
  {
   "cell_type": "markdown",
   "id": "797407fd",
   "metadata": {},
   "source": [
    "- The clear() method empties the list.\n",
    "- The list still remains, but it has no content."
   ]
  },
  {
   "cell_type": "code",
   "execution_count": 84,
   "id": "b35da572",
   "metadata": {},
   "outputs": [
    {
     "name": "stdout",
     "output_type": "stream",
     "text": [
      "[]\n"
     ]
    }
   ],
   "source": [
    "thislist = [\"apple\", \"banana\", \"cherry\"]\n",
    "thislist.clear()\n",
    "print(thislist)"
   ]
  },
  {
   "cell_type": "markdown",
   "id": "32f0dfb8",
   "metadata": {},
   "source": [
    "- we can also able to delete items from list using inplace item assignment operation."
   ]
  },
  {
   "cell_type": "code",
   "execution_count": 93,
   "id": "ecff9117",
   "metadata": {},
   "outputs": [
    {
     "data": {
      "text/plain": [
       "['Already', 'one']"
      ]
     },
     "execution_count": 93,
     "metadata": {},
     "output_type": "execute_result"
    }
   ],
   "source": [
    "L = ['Already', 'got', 'one']\n",
    "L[1:2] = []\n",
    "L"
   ]
  },
  {
   "cell_type": "code",
   "execution_count": 97,
   "id": "d334aee0",
   "metadata": {},
   "outputs": [
    {
     "data": {
      "text/plain": [
       "[]"
      ]
     },
     "execution_count": 97,
     "metadata": {},
     "output_type": "execute_result"
    }
   ],
   "source": [
    "L = ['Already', 'got', 'one']\n",
    "L[0:] = []\n",
    "L"
   ]
  },
  {
   "cell_type": "code",
   "execution_count": 158,
   "id": "d55610a3",
   "metadata": {},
   "outputs": [
    {
     "name": "stdout",
     "output_type": "stream",
     "text": [
      "List1 before deleting is :  [1, 2, 3]\n",
      "List1 after clearing using *= 0:  []\n"
     ]
    }
   ],
   "source": [
    "# clearing a list using *= 0 method\n",
    "list1 = [1, 2, 3]\n",
    "print (\"List1 before deleting is : \",list1)\n",
    "list1 *= 0\n",
    "print (\"List1 after clearing using *= 0: \",list1)"
   ]
  },
  {
   "cell_type": "markdown",
   "id": "9384e36c",
   "metadata": {},
   "source": [
    "<h2 style='color:blue' > Sorting List Items "
   ]
  },
  {
   "cell_type": "markdown",
   "id": "0e44e2c9",
   "metadata": {},
   "source": [
    "- sort() method orders a list in place; it uses Python standard comparison tests by default sorts in ascending order.\n",
    "- we can modify sort behavior by passing in keyword arguments—a special “name=value”"
   ]
  },
  {
   "cell_type": "code",
   "execution_count": 101,
   "id": "72b12f8c",
   "metadata": {},
   "outputs": [
    {
     "data": {
      "text/plain": [
       "['SPAM!', 'eat', 'more', 'please']"
      ]
     },
     "execution_count": 101,
     "metadata": {},
     "output_type": "execute_result"
    }
   ],
   "source": [
    "L = ['eat', 'more', 'SPAM!', 'please']\n",
    "L.sort()\n",
    "L # this is inplace operation so we can't assign it to another variable"
   ]
  },
  {
   "cell_type": "code",
   "execution_count": 103,
   "id": "3efefbd4",
   "metadata": {},
   "outputs": [
    {
     "name": "stdout",
     "output_type": "stream",
     "text": [
      "None\n"
     ]
    }
   ],
   "source": [
    "L = ['eat', 'more', 'SPAM!', 'please']\n",
    "A = L.sort()\n",
    "print(A) # this is inplace operation so we can't assign it to another variable but if we try to assign it returns None"
   ]
  },
  {
   "cell_type": "code",
   "execution_count": 104,
   "id": "34454bd2",
   "metadata": {},
   "outputs": [
    {
     "data": {
      "text/plain": [
       "['ABD', 'aBe', 'abc']"
      ]
     },
     "execution_count": 104,
     "metadata": {},
     "output_type": "execute_result"
    }
   ],
   "source": [
    "L = ['abc', 'ABD', 'aBe']\n",
    "L.sort() # Sort with mixed case\n",
    "L"
   ]
  },
  {
   "cell_type": "code",
   "execution_count": 105,
   "id": "574df38d",
   "metadata": {},
   "outputs": [
    {
     "data": {
      "text/plain": [
       "[22, 9, 7, 6, 3]"
      ]
     },
     "execution_count": 105,
     "metadata": {},
     "output_type": "execute_result"
    }
   ],
   "source": [
    "L = [6,3,9,22,7]\n",
    "L.sort(reverse=True) # Change sort order\n",
    "L"
   ]
  },
  {
   "cell_type": "markdown",
   "id": "edfa4888",
   "metadata": {},
   "source": [
    "- Customize Sort Function \n",
    "- we can also customize your own function by using the keyword argument key = function.\n",
    "- The function will return a number that will be used to sort the list."
   ]
  },
  {
   "cell_type": "code",
   "execution_count": 124,
   "id": "a2355db7",
   "metadata": {},
   "outputs": [
    {
     "name": "stdout",
     "output_type": "stream",
     "text": [
      "[50, 65, 23, 82, 100]\n"
     ]
    }
   ],
   "source": [
    "# Sort the list based on how close the number is to 50\n",
    "def myfunc(n):\n",
    "    return abs(n - 50)\n",
    "\n",
    "L = [100, 50, 65, 82, 23]\n",
    "L.sort(key = myfunc,reverse=False)\n",
    "print(L)"
   ]
  },
  {
   "cell_type": "code",
   "execution_count": 125,
   "id": "b4251a6a",
   "metadata": {},
   "outputs": [
    {
     "name": "stdout",
     "output_type": "stream",
     "text": [
      "[100, 82, 23, 65, 50]\n"
     ]
    }
   ],
   "source": [
    "# Sort the list based on how far the number is to 50\n",
    "def myfunc(n):\n",
    "    return abs(n - 50)\n",
    "\n",
    "L = [100, 50, 65, 82, 23]\n",
    "L.sort(key = myfunc,reverse=True)\n",
    "print(L)"
   ]
  },
  {
   "cell_type": "markdown",
   "id": "74189e93",
   "metadata": {},
   "source": [
    "- By default the sort() method is case sensitive when we sortng String items, resulting in all capital letters being sorted before lower case letters.\n",
    "- but Luckily we can use built-in functions as key functions when sorting a list.\n",
    "- So if we want a case-insensitive sort function, use str.lower as a key function:"
   ]
  },
  {
   "cell_type": "code",
   "execution_count": 126,
   "id": "e534d279",
   "metadata": {},
   "outputs": [
    {
     "name": "stdout",
     "output_type": "stream",
     "text": [
      "['banana', 'cherry', 'Kiwi', 'Orange']\n"
     ]
    }
   ],
   "source": [
    "thislist = [\"banana\", \"Orange\", \"Kiwi\", \"cherry\"]\n",
    "thislist.sort(key = str.lower)\n",
    "print(thislist)"
   ]
  },
  {
   "cell_type": "code",
   "execution_count": 130,
   "id": "3c56bc44",
   "metadata": {},
   "outputs": [
    {
     "name": "stdout",
     "output_type": "stream",
     "text": [
      "['Banana', 'cherry', 'Kiwi', 'Orange']\n"
     ]
    }
   ],
   "source": [
    "def lower(x):\n",
    "    return x.lower()\n",
    "thislist = [\"Banana\", \"Orange\", \"Kiwi\", \"cherry\"]\n",
    "thislist.sort(key = lower)\n",
    "print(thislist)"
   ]
  },
  {
   "cell_type": "markdown",
   "id": "fd2a7daa",
   "metadata": {},
   "source": [
    "- as Lists are muatable datatype in python and sort() is a inplace operation so when we say something like L=L.sort(X) we won’t get the Sorted value of L instead it returns a None. When you use attributes such as append and sort, objects are changed as a side effect, so there’s no reason to reassign.\n",
    "- Partly because of such constraints, sorting is also available in recent Pythons as a sorted() built-in function sorts any  collection (not just lists) and returns a new list for the result (instead of in-place changes)."
   ]
  },
  {
   "cell_type": "code",
   "execution_count": 106,
   "id": "7973326a",
   "metadata": {},
   "outputs": [
    {
     "data": {
      "text/plain": [
       "['aBe', 'ABD', 'abc']"
      ]
     },
     "execution_count": 106,
     "metadata": {},
     "output_type": "execute_result"
    }
   ],
   "source": [
    "L = ['abc', 'ABD', 'aBe']\n",
    "V = sorted(L, key=str.lower, reverse=True) # Sorting built-in\n",
    "V"
   ]
  },
  {
   "cell_type": "code",
   "execution_count": 107,
   "id": "066e39f1",
   "metadata": {},
   "outputs": [
    {
     "data": {
      "text/plain": [
       "['abc', 'ABD', 'aBe']"
      ]
     },
     "execution_count": 107,
     "metadata": {},
     "output_type": "execute_result"
    }
   ],
   "source": [
    "L"
   ]
  },
  {
   "cell_type": "markdown",
   "id": "e0e2c2fa",
   "metadata": {},
   "source": [
    "- sorted creates a new object so we need to store in another variable otherwise it gives list which we provided to it as a result"
   ]
  },
  {
   "cell_type": "code",
   "execution_count": 108,
   "id": "e106b2c9",
   "metadata": {},
   "outputs": [
    {
     "data": {
      "text/plain": [
       "[3, 6, 7, 9, 22]"
      ]
     },
     "execution_count": 108,
     "metadata": {},
     "output_type": "execute_result"
    }
   ],
   "source": [
    "L = [6,3,9,22,7]\n",
    "v = sorted(L) # Change sort order\n",
    "v"
   ]
  },
  {
   "cell_type": "code",
   "execution_count": 109,
   "id": "b5cf807f",
   "metadata": {},
   "outputs": [
    {
     "data": {
      "text/plain": [
       "[6, 3, 9, 22, 7]"
      ]
     },
     "execution_count": 109,
     "metadata": {},
     "output_type": "execute_result"
    }
   ],
   "source": [
    "L"
   ]
  },
  {
   "cell_type": "markdown",
   "id": "b96c34b7",
   "metadata": {},
   "source": [
    "<h2 style='color:blue' > Reverse List Items "
   ]
  },
  {
   "cell_type": "code",
   "execution_count": 1,
   "id": "c66f913e",
   "metadata": {},
   "outputs": [
    {
     "data": {
      "text/plain": [
       "[4, 3, 2, 1]"
      ]
     },
     "execution_count": 1,
     "metadata": {},
     "output_type": "execute_result"
    }
   ],
   "source": [
    "L = [1,2,3,4]\n",
    "L.reverse() # In-place reversal method\n",
    "L"
   ]
  },
  {
   "cell_type": "code",
   "execution_count": 2,
   "id": "b349f1db",
   "metadata": {},
   "outputs": [
    {
     "data": {
      "text/plain": [
       "<list_reverseiterator at 0x1e326b56da0>"
      ]
     },
     "execution_count": 2,
     "metadata": {},
     "output_type": "execute_result"
    }
   ],
   "source": [
    "A = reversed(L)\n",
    "A # creates a object of reversed list"
   ]
  },
  {
   "cell_type": "code",
   "execution_count": 3,
   "id": "5a140df5",
   "metadata": {},
   "outputs": [
    {
     "data": {
      "text/plain": [
       "[1, 2, 3, 4]"
      ]
     },
     "execution_count": 3,
     "metadata": {},
     "output_type": "execute_result"
    }
   ],
   "source": [
    "# if we need a list result using reversed() method we must have to use list constructor.\n",
    "list(A)"
   ]
  },
  {
   "cell_type": "markdown",
   "id": "4f749a9e",
   "metadata": {},
   "source": [
    "<h2 style='color:blue' > Count List Items "
   ]
  },
  {
   "cell_type": "markdown",
   "id": "ba20972e",
   "metadata": {},
   "source": [
    "- count() method is used to calculate the number of occurrences of itrm."
   ]
  },
  {
   "cell_type": "code",
   "execution_count": 117,
   "id": "1f0e0961",
   "metadata": {},
   "outputs": [
    {
     "data": {
      "text/plain": [
       "1"
      ]
     },
     "execution_count": 117,
     "metadata": {},
     "output_type": "execute_result"
    }
   ],
   "source": [
    "L = ['spam', 'eggs', 'ham']\n",
    "L.count('spam') # Number of occurrences"
   ]
  },
  {
   "cell_type": "code",
   "execution_count": 157,
   "id": "a44f16c3",
   "metadata": {},
   "outputs": [
    {
     "data": {
      "text/plain": [
       "0"
      ]
     },
     "execution_count": 157,
     "metadata": {},
     "output_type": "execute_result"
    }
   ],
   "source": [
    "L = ['spam', 'eggs', 'ham']\n",
    "L.count('x') # Number of occurrences"
   ]
  },
  {
   "cell_type": "code",
   "execution_count": 156,
   "id": "a4c9022f",
   "metadata": {},
   "outputs": [
    {
     "name": "stdout",
     "output_type": "stream",
     "text": [
      "enter a number which occurence u want to find - 7\n",
      "occurence of 7 is 0\n"
     ]
    }
   ],
   "source": [
    "# using for loop\n",
    "A = [2,4,5,5,6,4,5,3,5]\n",
    "count = 0\n",
    "x = int(input(\"enter a number which occurence u want to find - \"))\n",
    "for i in A :\n",
    "    if(i==x):\n",
    "        count = count + 1\n",
    "print(\"occurence of\",x,\"is\",count) "
   ]
  },
  {
   "cell_type": "code",
   "execution_count": 155,
   "id": "d175eeba",
   "metadata": {},
   "outputs": [
    {
     "name": "stdout",
     "output_type": "stream",
     "text": [
      "7 is occured in A is 3 times\n"
     ]
    }
   ],
   "source": [
    "# using user define function\n",
    "def count(L,X):\n",
    "    counter = 0\n",
    "    for i in L:\n",
    "        if i == X:\n",
    "            counter += 1            \n",
    "    return counter\n",
    "\n",
    "L = [1,3,5,7,7,3,7,1]\n",
    "X = 7\n",
    "print(f\"{X} is occured in A is\",count(L,X),\"times\")"
   ]
  },
  {
   "cell_type": "markdown",
   "id": "22626aef",
   "metadata": {},
   "source": [
    "- index() method returns the offset of the first element with the specified value."
   ]
  },
  {
   "cell_type": "code",
   "execution_count": 116,
   "id": "935f1d02",
   "metadata": {},
   "outputs": [
    {
     "data": {
      "text/plain": [
       "1"
      ]
     },
     "execution_count": 116,
     "metadata": {},
     "output_type": "execute_result"
    }
   ],
   "source": [
    "L = ['spam', 'eggs', 'ham']\n",
    "L.index('eggs') # Index of an object (search/find)"
   ]
  },
  {
   "cell_type": "markdown",
   "id": "365f34d3",
   "metadata": {},
   "source": [
    "<h2 style='color:blue' > List Iteration"
   ]
  },
  {
   "cell_type": "markdown",
   "id": "8901f7ae",
   "metadata": {},
   "source": [
    "- To determine if a specified item is present in a list `in` keyword is used this is also called as a membership operation."
   ]
  },
  {
   "cell_type": "code",
   "execution_count": 134,
   "id": "f98e010d",
   "metadata": {},
   "outputs": [
    {
     "name": "stdout",
     "output_type": "stream",
     "text": [
      "Yes\n"
     ]
    }
   ],
   "source": [
    "L = [\"apple\", \"banana\", \"cherry\"]\n",
    "if \"apple\" in L:\n",
    "    print(\"Yes\")\n",
    "else:\n",
    "    print('No')"
   ]
  },
  {
   "cell_type": "code",
   "execution_count": 135,
   "id": "f9a71166",
   "metadata": {},
   "outputs": [
    {
     "data": {
      "text/plain": [
       "True"
      ]
     },
     "execution_count": 135,
     "metadata": {},
     "output_type": "execute_result"
    }
   ],
   "source": [
    "\"apple\" in L"
   ]
  },
  {
   "cell_type": "markdown",
   "id": "c33cd978",
   "metadata": {},
   "source": [
    "- we can loop through the list items by using a for loop:"
   ]
  },
  {
   "cell_type": "code",
   "execution_count": 136,
   "id": "fcbadb95",
   "metadata": {},
   "outputs": [
    {
     "name": "stdout",
     "output_type": "stream",
     "text": [
      "1 2 3 "
     ]
    }
   ],
   "source": [
    "for x in [1, 2, 3]:\n",
    "    print(x, end=' ') # Iteration"
   ]
  },
  {
   "cell_type": "markdown",
   "id": "47ed818a",
   "metadata": {},
   "source": [
    "- we can also loop through the list items by referring to their index number Using the range() and len() functions."
   ]
  },
  {
   "cell_type": "code",
   "execution_count": 137,
   "id": "6ad24bed",
   "metadata": {},
   "outputs": [
    {
     "name": "stdout",
     "output_type": "stream",
     "text": [
      "apple\n",
      "banana\n",
      "cherry\n"
     ]
    }
   ],
   "source": [
    "L = [\"apple\", \"banana\", \"cherry\"]\n",
    "for i in range(len(L)):\n",
    "    print(L[i])"
   ]
  },
  {
   "cell_type": "markdown",
   "id": "e8151e43",
   "metadata": {},
   "source": [
    "<h2 style='color:blue' > List Comprehension </h2>\n",
    "\n",
    "- Python includes a more advanced operation known as a list comprehension expression \n",
    "- which turns out to be a powerful way to process structures like our matrix. "
   ]
  },
  {
   "cell_type": "code",
   "execution_count": 138,
   "id": "04c5ed77",
   "metadata": {},
   "outputs": [
    {
     "data": {
      "text/plain": [
       "[2, 5, 8]"
      ]
     },
     "execution_count": 138,
     "metadata": {},
     "output_type": "execute_result"
    }
   ],
   "source": [
    "col2 = [row[1] for row in M]\n",
    "col2"
   ]
  },
  {
   "cell_type": "code",
   "execution_count": 139,
   "id": "5d5c8617",
   "metadata": {},
   "outputs": [
    {
     "data": {
      "text/plain": [
       "[0, 1, 2, 3, 4, 5, 6, 7, 8, 9]"
      ]
     },
     "execution_count": 139,
     "metadata": {},
     "output_type": "execute_result"
    }
   ],
   "source": [
    "[i for i in range(10)]"
   ]
  },
  {
   "cell_type": "code",
   "execution_count": 140,
   "id": "a2585607",
   "metadata": {},
   "outputs": [
    {
     "data": {
      "text/plain": [
       "[3, 6, 9]"
      ]
     },
     "execution_count": 140,
     "metadata": {},
     "output_type": "execute_result"
    }
   ],
   "source": [
    "# List comprehensions can be more complex in practice.\n",
    "[row[1] + 1 for row in M] "
   ]
  },
  {
   "cell_type": "code",
   "execution_count": 141,
   "id": "1e858909",
   "metadata": {},
   "outputs": [
    {
     "data": {
      "text/plain": [
       "[2, 8]"
      ]
     },
     "execution_count": 141,
     "metadata": {},
     "output_type": "execute_result"
    }
   ],
   "source": [
    "[row[1] for row in M if row[1] % 2 == 0] \n",
    "[2, 8]"
   ]
  },
  {
   "cell_type": "code",
   "execution_count": 142,
   "id": "c2926bc6",
   "metadata": {},
   "outputs": [
    {
     "data": {
      "text/plain": [
       "[5, 10, 15, 20, 25, 30, 35, 40, 45, 50]"
      ]
     },
     "execution_count": 142,
     "metadata": {},
     "output_type": "execute_result"
    }
   ],
   "source": [
    "[i*j for i in range(1,11) for j in range(1,11) if i==5]"
   ]
  },
  {
   "cell_type": "markdown",
   "id": "9a3dfe0a",
   "metadata": {},
   "source": [
    "- we can use list comprehensions to step over a hardcoded list of coordinates and a string"
   ]
  },
  {
   "cell_type": "code",
   "execution_count": 143,
   "id": "aa542423",
   "metadata": {},
   "outputs": [
    {
     "data": {
      "text/plain": [
       "['ss', 'pp', 'aa', 'mm']"
      ]
     },
     "execution_count": 143,
     "metadata": {},
     "output_type": "execute_result"
    }
   ],
   "source": [
    "doubles = [c * 2 for c in 'spam'] # Repeat characters in a string\n",
    "doubles"
   ]
  },
  {
   "cell_type": "code",
   "execution_count": 144,
   "id": "1e0987f5",
   "metadata": {},
   "outputs": [
    {
     "data": {
      "text/plain": [
       "[1, 5, 9]"
      ]
     },
     "execution_count": 144,
     "metadata": {},
     "output_type": "execute_result"
    }
   ],
   "source": [
    "A = [  [1,2,3],[4,5,6],[7,8,9]  ]\n",
    "diag1 = [A[i][i] for i in [0, 1, 2]] # Collect a diagonal from matrix\n",
    "diag1"
   ]
  },
  {
   "cell_type": "code",
   "execution_count": 145,
   "id": "20aeeb58",
   "metadata": {},
   "outputs": [
    {
     "data": {
      "text/plain": [
       "[3, 5, 7]"
      ]
     },
     "execution_count": 145,
     "metadata": {},
     "output_type": "execute_result"
    }
   ],
   "source": [
    "diag2 = [A[i][j] for i in range(3) for j in range(3) if i+j == 2] # Collect a diagonal from matrix\n",
    "diag2"
   ]
  },
  {
   "cell_type": "code",
   "execution_count": 146,
   "id": "07d1b33e",
   "metadata": {},
   "outputs": [
    {
     "data": {
      "text/plain": [
       "[[0, 0], [1, 1], [4, 8], [9, 27]]"
      ]
     },
     "execution_count": 146,
     "metadata": {},
     "output_type": "execute_result"
    }
   ],
   "source": [
    "[[x ** 2, x ** 3] for x in range(4)] "
   ]
  },
  {
   "cell_type": "code",
   "execution_count": 147,
   "id": "96f01286",
   "metadata": {},
   "outputs": [
    {
     "data": {
      "text/plain": [
       "[[2, 1.0, 4], [4, 2.0, 8], [6, 3.0, 12]]"
      ]
     },
     "execution_count": 147,
     "metadata": {},
     "output_type": "execute_result"
    }
   ],
   "source": [
    "[[x, x / 2, x * 2] for x in range(-6, 7, 2) if x > 0]"
   ]
  },
  {
   "cell_type": "code",
   "execution_count": 148,
   "id": "300cec31",
   "metadata": {},
   "outputs": [
    {
     "data": {
      "text/plain": [
       "[6, 15, 24]"
      ]
     },
     "execution_count": 148,
     "metadata": {},
     "output_type": "execute_result"
    }
   ],
   "source": [
    "A = [  [1,2,3],[4,5,6],[7,8,9]  ]\n",
    "[sum(i) for i in A]"
   ]
  },
  {
   "cell_type": "code",
   "execution_count": 149,
   "id": "ad4af8ea",
   "metadata": {},
   "outputs": [
    {
     "data": {
      "text/plain": [
       "[72, 105, 116, 101, 115, 104]"
      ]
     },
     "execution_count": 149,
     "metadata": {},
     "output_type": "execute_result"
    }
   ],
   "source": [
    "[ord(x) for x in 'Hitesh'] # List of character ordinals"
   ]
  },
  {
   "cell_type": "markdown",
   "id": "9601e1da",
   "metadata": {},
   "source": [
    "<h2 style='color:blue' > Copy List </h2>"
   ]
  },
  {
   "cell_type": "code",
   "execution_count": 168,
   "id": "6a7c4f6a",
   "metadata": {},
   "outputs": [
    {
     "data": {
      "text/plain": [
       "[34, 56, 73, 27, 52]"
      ]
     },
     "execution_count": 168,
     "metadata": {},
     "output_type": "execute_result"
    }
   ],
   "source": [
    "L = [34,56,73,27,52]\n",
    "L"
   ]
  },
  {
   "cell_type": "code",
   "execution_count": 170,
   "id": "ca8e358b",
   "metadata": {},
   "outputs": [
    {
     "name": "stdout",
     "output_type": "stream",
     "text": [
      "[34, 56, 73, 27, 52]\n",
      "[34, 56, 44, 27, 52]\n"
     ]
    }
   ],
   "source": [
    "L1 = L\n",
    "print(L1)\n",
    "L1[2] = 44\n",
    "print(L)"
   ]
  },
  {
   "cell_type": "markdown",
   "id": "b54906a7",
   "metadata": {},
   "source": [
    "- when we assign L1 = L it isn't create a new object but share the refrences so when we perform operations on it we need to take care of it otherwise data will be lost.so instead using this method we can use built-in copy function or slicing method to create a copy of list. "
   ]
  },
  {
   "cell_type": "code",
   "execution_count": 171,
   "id": "9cdf92f7",
   "metadata": {},
   "outputs": [
    {
     "name": "stdout",
     "output_type": "stream",
     "text": [
      "[34, 56, 73, 27, 52]\n",
      "[34, 56, 73, 27, 52]\n",
      "[34, 56, 44, 27, 52]\n"
     ]
    }
   ],
   "source": [
    "L = [34,56,73,27,52]\n",
    "L1 = L.copy()\n",
    "print(L1)\n",
    "L1[2] = 44\n",
    "print(L)\n",
    "print(L1)"
   ]
  },
  {
   "cell_type": "code",
   "execution_count": 172,
   "id": "d8c12149",
   "metadata": {},
   "outputs": [
    {
     "name": "stdout",
     "output_type": "stream",
     "text": [
      "[34, 56, 73, 27, 52]\n",
      "[34, 56, 73, 27, 52]\n",
      "[34, 56, 44, 27, 52]\n"
     ]
    }
   ],
   "source": [
    "L = [34,56,73,27,52]\n",
    "L1 = L[:]\n",
    "print(L1)\n",
    "L1[2] = 44\n",
    "print(L)\n",
    "print(L1)"
   ]
  },
  {
   "cell_type": "markdown",
   "id": "1351e95c",
   "metadata": {},
   "source": [
    "<h2 style='color:blue' > Other List Methods </h2>"
   ]
  },
  {
   "cell_type": "markdown",
   "id": "6b1d5567",
   "metadata": {},
   "source": [
    "- sum of all element in list"
   ]
  },
  {
   "cell_type": "code",
   "execution_count": 159,
   "id": "f28450e2",
   "metadata": {},
   "outputs": [
    {
     "name": "stdout",
     "output_type": "stream",
     "text": [
      "256\n"
     ]
    }
   ],
   "source": [
    "# using sum built-in function\n",
    "A = [38,3,3,34,6,8,65,87,5,3,4]\n",
    "print(sum(A))"
   ]
  },
  {
   "cell_type": "code",
   "execution_count": 160,
   "id": "035eed50",
   "metadata": {},
   "outputs": [
    {
     "name": "stdout",
     "output_type": "stream",
     "text": [
      "32\n"
     ]
    }
   ],
   "source": [
    "# using for loop:-\n",
    "A = [3,5,7,9,2,6]\n",
    "sum = 0\n",
    "for i in A :\n",
    "    sum = sum + i\n",
    "print(sum)"
   ]
  },
  {
   "cell_type": "markdown",
   "id": "7a2da06f",
   "metadata": {},
   "source": [
    "- minimum and maximum value in list"
   ]
  },
  {
   "cell_type": "code",
   "execution_count": 161,
   "id": "e790d499",
   "metadata": {},
   "outputs": [
    {
     "name": "stdout",
     "output_type": "stream",
     "text": [
      "2\n",
      "976\n"
     ]
    }
   ],
   "source": [
    "# using built in function\n",
    "A = [2,5,8,56,34,57,567,79,976]\n",
    "print(min(A))\n",
    "print(max(A))"
   ]
  },
  {
   "cell_type": "code",
   "execution_count": 162,
   "id": "d62d9630",
   "metadata": {},
   "outputs": [
    {
     "name": "stdout",
     "output_type": "stream",
     "text": [
      "max num is  3\n",
      "min number is 1\n"
     ]
    }
   ],
   "source": [
    "# using for loop\n",
    "A = [1,2,3]\n",
    "max_counter = 0\n",
    "min_counter = A[0]\n",
    "\n",
    "for i in A :\n",
    "    if(i > max_counter):\n",
    "        max_counter = i\n",
    "    if(i < min_counter):\n",
    "        min_counter = i\n",
    "print(\"max num is \",max_counter)\n",
    "print(\"min number is\",min_counter) \n",
    "\n",
    "# here note that when we finding minimum and maximum value it is not good practice to assign a 0 value to counter\n",
    "#  because if we assgin 0 to max counter and all value in list are negetive that it return wrong answer same for min counter \n",
    "# if we assign 0 and all values are grater that 0 then also it returns a wrong answer."
   ]
  },
  {
   "cell_type": "code",
   "execution_count": 164,
   "id": "dccd7842",
   "metadata": {},
   "outputs": [
    {
     "name": "stdout",
     "output_type": "stream",
     "text": [
      "enter how many number u want to enter in list :- 6\n",
      "enter a number - 3\n",
      "enter a number - 4\n",
      "enter a number - 5\n",
      "enter a number - 6\n",
      "enter a number - 7\n",
      "enter a number - 8\n",
      "[3, 4, 5, 6, 7, 8]\n"
     ]
    }
   ],
   "source": [
    "# Creating a List using user inputs.\n",
    "num = int(input(\"enter how many number u want to enter in list :- \"))\n",
    "i = 0\n",
    "B = []\n",
    "for i in range(0,num):\n",
    "    B.insert(i,int(input(\"enter a number - \")))\n",
    "print(B)"
   ]
  },
  {
   "cell_type": "code",
   "execution_count": 165,
   "id": "4db9211f",
   "metadata": {},
   "outputs": [
    {
     "name": "stdout",
     "output_type": "stream",
     "text": [
      "enter how many number u want to enter in list :- 5\n",
      "enter a number - 3\n",
      "enter a number - 7\n",
      "enter a number - 5\n",
      "enter a number - 9\n",
      "enter a number - 2\n",
      "[3, 7, 5, 9, 2]\n"
     ]
    }
   ],
   "source": [
    "# Creating a List using user inputs.\n",
    "num = int(input(\"enter how many number u want to enter in list :- \"))\n",
    "B = []\n",
    "for i in range(0,num):\n",
    "    B.append(int(input(\"enter a number - \")))\n",
    "print(B)"
   ]
  },
  {
   "cell_type": "code",
   "execution_count": 167,
   "id": "69e56e91",
   "metadata": {},
   "outputs": [
    {
     "name": "stdout",
     "output_type": "stream",
     "text": [
      "items that are duplicate is -  [8, 2, 1]\n",
      "occurence of duplicate number  8 is 2\n",
      "occurence of duplicate number  2 is 2\n",
      "occurence of duplicate number  1 is 2\n"
     ]
    }
   ],
   "source": [
    "A = [1,2,3,2,4,1,8,8]\n",
    "B = len(A)\n",
    "C = []\n",
    "for i in range(0,B) :\n",
    "    X = A[i]\n",
    "    D = A.count(X)\n",
    "    if(D>1 and X not in C):\n",
    "        for j in range(0,1):\n",
    "            C.insert(j,X)\n",
    "print('items that are duplicate is - ',C)  \n",
    "for i in C :\n",
    "    print(\"occurence of duplicate number \",i,\"is\",A.count(i))     "
   ]
  },
  {
   "cell_type": "markdown",
   "id": "7053d4f8",
   "metadata": {},
   "source": [
    "- map built-in function does applies a function to items in a sequence and collects all the results in a new list."
   ]
  },
  {
   "cell_type": "code",
   "execution_count": 173,
   "id": "dde00a86",
   "metadata": {},
   "outputs": [
    {
     "data": {
      "text/plain": [
       "[1, 2, 0, 1, 2]"
      ]
     },
     "execution_count": 173,
     "metadata": {},
     "output_type": "execute_result"
    }
   ],
   "source": [
    "list(map(abs, [ -1, -2, 0, 1, 2])) # Map a function across a sequence    "
   ]
  },
  {
   "cell_type": "code",
   "execution_count": null,
   "id": "6ee7262c",
   "metadata": {},
   "outputs": [],
   "source": []
  }
 ],
 "metadata": {
  "kernelspec": {
   "display_name": "Python 3 (ipykernel)",
   "language": "python",
   "name": "python3"
  },
  "language_info": {
   "codemirror_mode": {
    "name": "ipython",
    "version": 3
   },
   "file_extension": ".py",
   "mimetype": "text/x-python",
   "name": "python",
   "nbconvert_exporter": "python",
   "pygments_lexer": "ipython3",
   "version": "3.10.6"
  }
 },
 "nbformat": 4,
 "nbformat_minor": 5
}
