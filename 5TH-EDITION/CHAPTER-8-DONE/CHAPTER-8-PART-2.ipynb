{
 "cells": [
  {
   "cell_type": "markdown",
   "id": "130a8159",
   "metadata": {},
   "source": [
    "# Dictionaries"
   ]
  },
  {
   "cell_type": "markdown",
   "id": "171f6ecb",
   "metadata": {},
   "source": [
    "- dictionaries are one of the most flexible built-in data types in Python."
   ]
  },
  {
   "cell_type": "markdown",
   "id": "0357aace",
   "metadata": {},
   "source": [
    "Python dictionaries are...\n",
    "1.  Accessed by key, not offset position\n",
    "    - Dictionaries are sometimes called associative arrays or hashes.\n",
    "    - They associate a set of values with keys, so we can fetch an item out of a dictionary using the key.   - \n",
    "2. Unordered collections of arbitrary objects\n",
    "    - items stored in a dictionary aren’t kept in any particular order (Prior to Python 3.7).\n",
    "    - Starting from Python 3.7, dictionaries in Python are guaranteed to be ordered.\n",
    "    - it means that the order in which items are inserted into a dictionary is preserved when iterating over the dictionary or accessing its elements. \n",
    "3. Variable-length, heterogeneous, and arbitrarily nestable\n",
    "    - dictionaries can grow and shrink in place.\n",
    "    - they can contain objects of any type\n",
    "    - they support nesting to any depth\n",
    "    - Each key can have just one associated value, but that value can be a collection of multiple objects if needed,and a given value can be stored under any number of keys.\n",
    "4. mutable\n",
    "    - we can change dictionaries in place by assigning to indexes (they are mutable),\n",
    "    - dictionaries don’t support the sequence  operations that work on strings and lists.\n",
    "5. Tables of object references (hash tables)\n",
    "    - dictionaries are unordered tables of object references that support access by key.\n",
    "    - Internally, dictionaries are implemented as hash tables (data structures that support very fast retrieval)"
   ]
  },
  {
   "cell_type": "markdown",
   "id": "c675ee79",
   "metadata": {},
   "source": [
    "- When we work with lists in Python, we can access an element using a index, an integer that describes the position of the element in the list. Indices start from zero for the first element and increase by one for every subsequent element in the list. \n",
    "- But what if we need to store two related values and keep this \"connection\" in our code? Right now, we only have single, independent values stored in a list.\n",
    "- Let's say that we want to store names of students and \"connect\" each name with the grades of each particular student. We want to keep the \"connection\" between them.\n",
    "- If we use nested lists, things would get very complex and inefficient after adding only a few items because you would need to use two or more indices to access each value, depending on the final list. This is where Python dictionaries come to the rescue.\n",
    "- if we don't want to use diictiionary we had other options to like databases and dataframes. \n",
    "- using a dictionary, we  can \"connect\" a value to another value to represent the relationship between them in your code."
   ]
  },
  {
   "cell_type": "markdown",
   "id": "628a4ea8",
   "metadata": {},
   "source": [
    "- Python Dictionary has two types of elements\n",
    "    - Keys\n",
    "        - a key is a value used to access another value. \n",
    "        - Dictionaries can't contain duplicate keys.keys must be unique.\n",
    "        - Keys are the equivalent of \"indices\" in strings, lists, and tuples. In dictionaries, to access a value.\n",
    "        - it is not necessary that dictionary key must be a string or a number any immutable datatype can be a key for a dictionary because in dictionary we can't able to change the key so it must be a immutable.\n",
    "        - key can be a String, Number, Boolean, tuple but it can't be a set or list othewise it will raise TypeError: unhashable type,\n",
    "    - Values\n",
    "        - these are the values that you can access with their corresponding key."
   ]
  },
  {
   "cell_type": "markdown",
   "id": "b139d83b",
   "metadata": {},
   "source": [
    "- we can define a dictionary by enclosing a comma-separated list of key-value pairs in curly braces ({}).\n",
    "- A colon (:) separates each key from its associated value.\n",
    "\n",
    "d = {\n",
    "    key: value,\n",
    "    key: value,\n",
    "      .\n",
    "      .\n",
    "      .\n",
    "    key: value\n",
    "}"
   ]
  },
  {
   "cell_type": "markdown",
   "id": "c85279f0",
   "metadata": {},
   "source": [
    "<h2 style='color:blue' > Creating Dictionaty"
   ]
  },
  {
   "cell_type": "code",
   "execution_count": 1,
   "id": "eac70442",
   "metadata": {},
   "outputs": [
    {
     "data": {
      "text/plain": [
       "dict"
      ]
     },
     "execution_count": 1,
     "metadata": {},
     "output_type": "execute_result"
    }
   ],
   "source": [
    "D = {} #Empty dictionary\n",
    "type(D) "
   ]
  },
  {
   "cell_type": "code",
   "execution_count": 2,
   "id": "ce823fba",
   "metadata": {},
   "outputs": [
    {
     "data": {
      "text/plain": [
       "{'name': 'Hitesh', 'age': 24}"
      ]
     },
     "execution_count": 2,
     "metadata": {},
     "output_type": "execute_result"
    }
   ],
   "source": [
    "D = {'name': 'Hitesh', 'age': 24} \n",
    "D"
   ]
  },
  {
   "cell_type": "code",
   "execution_count": 47,
   "id": "8b8a2e0f",
   "metadata": {},
   "outputs": [
    {
     "data": {
      "text/plain": [
       "{'Hitesh': {'maths': 89, 'Chemistry': 98},\n",
       " 'Vishvjit': {'maths': 85, 'Chemistry': 90},\n",
       " 'Ravi': {'maths': 87, 'Chemistry': 92},\n",
       " 'Vraj': {'maths': 84, 'Chemistry': 91},\n",
       " 'Yagnik': {'maths': 82, 'Chemistry': 94}}"
      ]
     },
     "execution_count": 47,
     "metadata": {},
     "output_type": "execute_result"
    }
   ],
   "source": [
    "E = {\n",
    "    'Hitesh': {'maths': 89, 'Chemistry': 98},\n",
    "    'Vishvjit': {'maths': 85, 'Chemistry': 90},\n",
    "    'Ravi': {'maths': 87, 'Chemistry': 92},\n",
    "    'Vraj': {'maths': 84, 'Chemistry': 91},\n",
    "    'Yagnik': {'maths': 82, 'Chemistry': 94},\n",
    "    } # Nesting\n",
    "E"
   ]
  },
  {
   "cell_type": "code",
   "execution_count": 46,
   "id": "ea50e07b",
   "metadata": {},
   "outputs": [
    {
     "data": {
      "text/plain": [
       "{'Hitesh': {'maths': 82, 'Chemistry': 94},\n",
       " 'Ravi': {'maths': 87, 'Chemistry': 92},\n",
       " 'Vraj': {'maths': 84, 'Chemistry': 91}}"
      ]
     },
     "execution_count": 46,
     "metadata": {},
     "output_type": "execute_result"
    }
   ],
   "source": [
    "D = {\n",
    "    'Hitesh': {'maths': 89, 'Chemistry': 98},\n",
    "    'Ravi': {'maths': 85, 'Chemistry': 90},\n",
    "    'Ravi': {'maths': 87, 'Chemistry': 92},\n",
    "    'Vraj': {'maths': 84, 'Chemistry': 91},\n",
    "    'Hitesh': {'maths': 82, 'Chemistry': 94},\n",
    "    } # removes duplicate keys automaticaly and keeps last assigned dulicate items \n",
    "D"
   ]
  },
  {
   "cell_type": "markdown",
   "id": "62e1c8ea",
   "metadata": {},
   "source": [
    "- Dictionary keys must be immutable, such as tuples, strings, integers, etc. \n",
    "- We cannot use mutable (changeable) objects such as lists as keys."
   ]
  },
  {
   "cell_type": "code",
   "execution_count": 7,
   "id": "5b13eea5",
   "metadata": {},
   "outputs": [
    {
     "name": "stdout",
     "output_type": "stream",
     "text": [
      "{1: 'Hello', (1, 2): 'Hello Hi', 3: [1, 2, 3]}\n"
     ]
    }
   ],
   "source": [
    "# Valid dictionary\n",
    "my_dict = {\n",
    "  1: \"Hello\", \n",
    "  (1, 2): \"Hello Hi\", \n",
    "  3: [1, 2, 3]\n",
    "}\n",
    "\n",
    "print(my_dict)"
   ]
  },
  {
   "cell_type": "code",
   "execution_count": 8,
   "id": "0c722920",
   "metadata": {},
   "outputs": [
    {
     "ename": "TypeError",
     "evalue": "unhashable type: 'list'",
     "output_type": "error",
     "traceback": [
      "\u001b[1;31m---------------------------------------------------------------------------\u001b[0m",
      "\u001b[1;31mTypeError\u001b[0m                                 Traceback (most recent call last)",
      "Cell \u001b[1;32mIn[8], line 3\u001b[0m\n\u001b[0;32m      1\u001b[0m \u001b[38;5;66;03m# Invalid dictionary Error: using a list as a key is not allowed\u001b[39;00m\n\u001b[1;32m----> 3\u001b[0m my_dict \u001b[38;5;241m=\u001b[39m {\n\u001b[0;32m      4\u001b[0m   \u001b[38;5;241m1\u001b[39m: \u001b[38;5;124m\"\u001b[39m\u001b[38;5;124mHello\u001b[39m\u001b[38;5;124m\"\u001b[39m, \n\u001b[0;32m      5\u001b[0m   [\u001b[38;5;241m1\u001b[39m, \u001b[38;5;241m2\u001b[39m]: \u001b[38;5;124m\"\u001b[39m\u001b[38;5;124mHello Hi\u001b[39m\u001b[38;5;124m\"\u001b[39m, \n\u001b[0;32m      6\u001b[0m }\n\u001b[0;32m      8\u001b[0m \u001b[38;5;28mprint\u001b[39m(my_dict)\n",
      "\u001b[1;31mTypeError\u001b[0m: unhashable type: 'list'"
     ]
    }
   ],
   "source": [
    "# Invalid dictionary Error: using a list as a key is not allowed\n",
    "\n",
    "my_dict = {\n",
    "  1: \"Hello\", \n",
    "  [1, 2]: \"Hello Hi\", \n",
    "}\n",
    "\n",
    "print(my_dict)"
   ]
  },
  {
   "cell_type": "markdown",
   "id": "1fe14df2",
   "metadata": {},
   "source": [
    "- we can also able to create a dictionary starts with an empty dictionary and filling it out one key at a time.\n",
    "- Unlike out-of-bounds assignments in lists, which are forbidden, assignments to new dictionary keys create those keys."
   ]
  },
  {
   "cell_type": "code",
   "execution_count": 10,
   "id": "0f372cc7",
   "metadata": {},
   "outputs": [
    {
     "data": {
      "text/plain": [
       "{'fname': 'Hitesh', 'lname': 'Vaghela', 'age': 24, 'spouse': None, 'pets': {}}"
      ]
     },
     "execution_count": 10,
     "metadata": {},
     "output_type": "execute_result"
    }
   ],
   "source": [
    "person = {}\n",
    "person['fname'] = 'Hitesh'\n",
    "person['lname'] = 'Vaghela'\n",
    "person['age'] = 24\n",
    "person['spouse'] = None\n",
    "person['pets'] = {}\n",
    "person"
   ]
  },
  {
   "cell_type": "code",
   "execution_count": 13,
   "id": "9e4cef6a",
   "metadata": {},
   "outputs": [
    {
     "data": {
      "text/plain": [
       "{'fname': 'Hitesh',\n",
       " 'lname': 'Vaghela',\n",
       " 'age': 24,\n",
       " 'spouse': None,\n",
       " 'pets': {'dog': 'jack', 'cat': 'meow'},\n",
       " 'brothers': ['vishvjit', 'Sachin']}"
      ]
     },
     "execution_count": 13,
     "metadata": {},
     "output_type": "execute_result"
    }
   ],
   "source": [
    "person['pets']['dog'] = 'jack'\n",
    "person['pets']['cat'] = 'meow'\n",
    "person['brothers'] = ['vishvjit','Sachin']\n",
    "person"
   ]
  },
  {
   "cell_type": "code",
   "execution_count": 26,
   "id": "7784b939",
   "metadata": {},
   "outputs": [],
   "source": [
    "#  using dict constructor and keyword argument form"
   ]
  },
  {
   "cell_type": "code",
   "execution_count": 23,
   "id": "77cad842",
   "metadata": {},
   "outputs": [
    {
     "data": {
      "text/plain": [
       "{'name': 'Hitesh', 'age': 23, 'spouse': None, 'brothers': [], 'pets': {}}"
      ]
     },
     "execution_count": 23,
     "metadata": {},
     "output_type": "execute_result"
    }
   ],
   "source": [
    "D = dict(name = 'Hitesh', age = 23,spouse = None, brothers = [], pets = {}) \n",
    "D"
   ]
  },
  {
   "cell_type": "code",
   "execution_count": 25,
   "id": "516911f9",
   "metadata": {},
   "outputs": [
    {
     "data": {
      "text/plain": [
       "{'name': 'Hitesh',\n",
       " 'age': 23,\n",
       " 'spouse': None,\n",
       " 'brothers': ['vishvjit', 'Sachin'],\n",
       " 'pets': {'cat': 'meow', 'dog': 'jack'}}"
      ]
     },
     "execution_count": 25,
     "metadata": {},
     "output_type": "execute_result"
    }
   ],
   "source": [
    "D['pets'] = dict(cat = 'meow', dog = 'jack')\n",
    "D['brothers'].extend(['vishvjit', 'Sachin'])\n",
    "D"
   ]
  },
  {
   "cell_type": "code",
   "execution_count": 27,
   "id": "06b4c139",
   "metadata": {},
   "outputs": [],
   "source": [
    "#  using dict constructor and keyword tuple form"
   ]
  },
  {
   "cell_type": "code",
   "execution_count": 35,
   "id": "b73463bd",
   "metadata": {},
   "outputs": [
    {
     "data": {
      "text/plain": [
       "{'name': 'Hitesh', 'age': 23, 'spouse': None, 'brothers': [], 'pets': {}}"
      ]
     },
     "execution_count": 35,
     "metadata": {},
     "output_type": "execute_result"
    }
   ],
   "source": [
    "E = dict([('name', 'Hitesh'), ('age', 23), ('spouse',None), ('brothers' , []),  ('pets' , {}) ])\n",
    "E"
   ]
  },
  {
   "cell_type": "code",
   "execution_count": 36,
   "id": "09b6ac5e",
   "metadata": {},
   "outputs": [
    {
     "data": {
      "text/plain": [
       "{'name': 'Hitesh',\n",
       " 'age': 23,\n",
       " 'spouse': None,\n",
       " 'brothers': ['vishvjit', 'Sachin'],\n",
       " 'pets': {'cat': 'meow', 'dog': 'jack'}}"
      ]
     },
     "execution_count": 36,
     "metadata": {},
     "output_type": "execute_result"
    }
   ],
   "source": [
    "E['brothers'].extend(['vishvjit', 'Sachin'])\n",
    "E['pets'] = dict( [ ('cat' , 'meow'), ('dog' , 'jack') ])\n",
    "E"
   ]
  },
  {
   "cell_type": "markdown",
   "id": "48a74e45",
   "metadata": {},
   "source": [
    "- The first is handy if you can spell out the entire dictionary ahead of time.\n",
    "- The second is of use if you need to create the dictionary one field at a time on the fly.\n",
    "- The third involves less typing than the first, but it requires all keys to be strings.\n",
    "- The last is useful if you need to build up keys and values as sequences at runtime."
   ]
  },
  {
   "cell_type": "markdown",
   "id": "4a95889e",
   "metadata": {},
   "source": [
    "- we can also able to create a dictionary from lists using commonly used conjunction method with the zip function.\n",
    "- in this method two separate lists of keys and values obtained dynamically at runtime and cobined toghether."
   ]
  },
  {
   "cell_type": "code",
   "execution_count": 48,
   "id": "66cd8d36",
   "metadata": {},
   "outputs": [
    {
     "data": {
      "text/plain": [
       "{'Name': 'Hitesh',\n",
       " 'Age': 23,\n",
       " 'Gender': 'Male',\n",
       " 'Spouse': None,\n",
       " 'Pets': {'cat': 'meow', 'dog': 'jack'}}"
      ]
     },
     "execution_count": 48,
     "metadata": {},
     "output_type": "execute_result"
    }
   ],
   "source": [
    "keys = ['Name', 'Age', \"Gender\", 'Spouse', 'Pets','Job']\n",
    "values = ['Hitesh', 23, 'Male', None , {'cat':'meow','dog':'jack'}]\n",
    "D = dict(zip(keys,values))\n",
    "D"
   ]
  },
  {
   "cell_type": "markdown",
   "id": "554dff3d",
   "metadata": {},
   "source": [
    "- we can also create a dictionary with this special form.\n",
    "- simply pass in a list of keys and an initial value for all of the values (the default is None)."
   ]
  },
  {
   "cell_type": "code",
   "execution_count": 41,
   "id": "ed41308e",
   "metadata": {},
   "outputs": [
    {
     "data": {
      "text/plain": [
       "{'Name': None, 'Age': None, 'Gender': None, 'Spouse': None, 'Pets': None}"
      ]
     },
     "execution_count": 41,
     "metadata": {},
     "output_type": "execute_result"
    }
   ],
   "source": [
    "keys = ['Name', 'Age', \"Gender\", 'Spouse', 'Pets']\n",
    "D = dict.fromkeys(keys,None)\n",
    "D"
   ]
  },
  {
   "cell_type": "code",
   "execution_count": 44,
   "id": "6348282d",
   "metadata": {},
   "outputs": [
    {
     "data": {
      "text/plain": [
       "{'Name': '----',\n",
       " 'Age': '----',\n",
       " 'Gender': '----',\n",
       " (1, 2, 3): '----',\n",
       " 'Pets': '----'}"
      ]
     },
     "execution_count": 44,
     "metadata": {},
     "output_type": "execute_result"
    }
   ],
   "source": [
    "keys = ['Name', 'Age', \"Gender\", (1,2,3), 'Pets']\n",
    "D = dict.fromkeys(keys,'----')\n",
    "D"
   ]
  },
  {
   "cell_type": "markdown",
   "id": "6c6e20a8",
   "metadata": {},
   "source": [
    "<h2 style='color:blue' > Dictionaty Item Accessing "
   ]
  },
  {
   "cell_type": "markdown",
   "id": "3fdb4526",
   "metadata": {},
   "source": [
    "- If we need to access the value associated with a specific key, we write the name of the variable that references the dictionary followed by square brackets [ ] and, within the square brackets, the key that corresponds to the value.\n",
    "    - syntax - variable[ key ]"
   ]
  },
  {
   "cell_type": "code",
   "execution_count": 56,
   "id": "dede9776",
   "metadata": {},
   "outputs": [
    {
     "data": {
      "text/plain": [
       "{'fname': 'Hitesh',\n",
       " 'lname': 'Vaghela',\n",
       " 'age': 24,\n",
       " 'spouse': None,\n",
       " 'pets': {'dog': 'jack', 'cat': 'meow'},\n",
       " 'brothers': ['vishvjit', 'Sachin']}"
      ]
     },
     "execution_count": 56,
     "metadata": {},
     "output_type": "execute_result"
    }
   ],
   "source": [
    "D = {'fname': 'Hitesh',\n",
    " 'lname': 'Vaghela',\n",
    " 'age': 24,\n",
    " 'spouse': None,\n",
    " 'pets': {'dog': 'jack', 'cat': 'meow'},\n",
    " 'brothers': ['vishvjit', 'Sachin']}\n",
    "D"
   ]
  },
  {
   "cell_type": "code",
   "execution_count": 57,
   "id": "487b5783",
   "metadata": {},
   "outputs": [
    {
     "data": {
      "text/plain": [
       "'Hitesh'"
      ]
     },
     "execution_count": 57,
     "metadata": {},
     "output_type": "execute_result"
    }
   ],
   "source": [
    "D['fname']"
   ]
  },
  {
   "cell_type": "code",
   "execution_count": 58,
   "id": "9c37d0fd",
   "metadata": {},
   "outputs": [
    {
     "data": {
      "text/plain": [
       "24"
      ]
     },
     "execution_count": 58,
     "metadata": {},
     "output_type": "execute_result"
    }
   ],
   "source": [
    "D['age'] "
   ]
  },
  {
   "cell_type": "markdown",
   "id": "3c79f70c",
   "metadata": {},
   "source": [
    "- modification of key value pair\n",
    "    - If you want to update an entry, you can just assign a new value to an existing key.\n",
    "    - values of dictionary can be changed inplace but we don't able to change the keys of dictionary"
   ]
  },
  {
   "cell_type": "code",
   "execution_count": 59,
   "id": "9317093d",
   "metadata": {},
   "outputs": [
    {
     "data": {
      "text/plain": [
       "{'fname': 'Hitesh',\n",
       " 'lname': 'Vaghela',\n",
       " 'age': 25,\n",
       " 'spouse': None,\n",
       " 'pets': {'dog': 'jack', 'cat': 'meow'},\n",
       " 'brothers': ['vishvjit', 'Sachin']}"
      ]
     },
     "execution_count": 59,
     "metadata": {},
     "output_type": "execute_result"
    }
   ],
   "source": [
    "D['age'] += 1 \n",
    "D"
   ]
  },
  {
   "cell_type": "code",
   "execution_count": 63,
   "id": "cf5c2774",
   "metadata": {},
   "outputs": [],
   "source": [
    "D['pets']['dog'] = 'kutta he tu'"
   ]
  },
  {
   "cell_type": "code",
   "execution_count": 62,
   "id": "e76785fb",
   "metadata": {},
   "outputs": [
    {
     "data": {
      "text/plain": [
       "'Sachin'"
      ]
     },
     "execution_count": 62,
     "metadata": {},
     "output_type": "execute_result"
    }
   ],
   "source": [
    "D['brothers'][1]"
   ]
  },
  {
   "cell_type": "code",
   "execution_count": 64,
   "id": "32bac0ee",
   "metadata": {},
   "outputs": [
    {
     "data": {
      "text/plain": [
       "{'fname': 'Hitesh',\n",
       " 'lname': 'Vaghela',\n",
       " 'age': 25,\n",
       " 'spouse': None,\n",
       " 'pets': {'dog': 'kutta he tu', 'cat': 'meow'},\n",
       " 'brothers': ['vishvjit', 'Sachin']}"
      ]
     },
     "execution_count": 64,
     "metadata": {},
     "output_type": "execute_result"
    }
   ],
   "source": [
    "D"
   ]
  },
  {
   "cell_type": "markdown",
   "id": "8842999a",
   "metadata": {},
   "source": [
    "- but in this method of item accessing there is a one issue...If we try to access a key that does not exist in the dictionary, we will get a KeyError."
   ]
  },
  {
   "cell_type": "code",
   "execution_count": 60,
   "id": "34781262",
   "metadata": {},
   "outputs": [
    {
     "ename": "KeyError",
     "evalue": "'job'",
     "output_type": "error",
     "traceback": [
      "\u001b[1;31m---------------------------------------------------------------------------\u001b[0m",
      "\u001b[1;31mKeyError\u001b[0m                                  Traceback (most recent call last)",
      "Cell \u001b[1;32mIn[60], line 1\u001b[0m\n\u001b[1;32m----> 1\u001b[0m \u001b[43mD\u001b[49m\u001b[43m[\u001b[49m\u001b[38;5;124;43m'\u001b[39;49m\u001b[38;5;124;43mjob\u001b[39;49m\u001b[38;5;124;43m'\u001b[39;49m\u001b[43m]\u001b[49m\n",
      "\u001b[1;31mKeyError\u001b[0m: 'job'"
     ]
    }
   ],
   "source": [
    "D['job']"
   ]
  },
  {
   "cell_type": "markdown",
   "id": "c5150e8f",
   "metadata": {},
   "source": [
    "- in order avoid this error we have get() method of dictionary.\n",
    "- get() method is a convenient way of getting the value of a key from a dictionary without checking ahead of time whether the key exists, and without raising an error.\n",
    "- d.get(key) searches dictionary d for `key` and returns the associated value if it is found. If `key` is not found, it returns None as default."
   ]
  },
  {
   "cell_type": "code",
   "execution_count": 70,
   "id": "a2bb90b5",
   "metadata": {},
   "outputs": [
    {
     "data": {
      "text/plain": [
       "'Hitesh'"
      ]
     },
     "execution_count": 70,
     "metadata": {},
     "output_type": "execute_result"
    }
   ],
   "source": [
    "D.get('fname')"
   ]
  },
  {
   "cell_type": "code",
   "execution_count": 71,
   "id": "5c64c8af",
   "metadata": {},
   "outputs": [
    {
     "data": {
      "text/plain": [
       "['vishvjit', 'Sachin']"
      ]
     },
     "execution_count": 71,
     "metadata": {},
     "output_type": "execute_result"
    }
   ],
   "source": [
    "D.get('brothers')"
   ]
  },
  {
   "cell_type": "code",
   "execution_count": 72,
   "id": "09cca34d",
   "metadata": {},
   "outputs": [
    {
     "data": {
      "text/plain": [
       "'Sachin'"
      ]
     },
     "execution_count": 72,
     "metadata": {},
     "output_type": "execute_result"
    }
   ],
   "source": [
    "D.get('brothers')[1]"
   ]
  },
  {
   "cell_type": "code",
   "execution_count": 69,
   "id": "66d328c9",
   "metadata": {},
   "outputs": [
    {
     "data": {
      "text/plain": [
       "{'dog': 'kutta he tu', 'cat': 'meow'}"
      ]
     },
     "execution_count": 69,
     "metadata": {},
     "output_type": "execute_result"
    }
   ],
   "source": [
    "D.get('pets')"
   ]
  },
  {
   "cell_type": "code",
   "execution_count": 68,
   "id": "3f445722",
   "metadata": {},
   "outputs": [
    {
     "data": {
      "text/plain": [
       "'meow'"
      ]
     },
     "execution_count": 68,
     "metadata": {},
     "output_type": "execute_result"
    }
   ],
   "source": [
    "D.get('pets').get('cat')"
   ]
  },
  {
   "cell_type": "code",
   "execution_count": 66,
   "id": "58cc90e3",
   "metadata": {},
   "outputs": [
    {
     "name": "stdout",
     "output_type": "stream",
     "text": [
      "None\n"
     ]
    }
   ],
   "source": [
    "print(D.get('Job')) # default output when key not found is None we can also able to customize it."
   ]
  },
  {
   "cell_type": "code",
   "execution_count": 73,
   "id": "2eacc1a2",
   "metadata": {},
   "outputs": [
    {
     "data": {
      "text/plain": [
       "'Nahi mil raha bhai'"
      ]
     },
     "execution_count": 73,
     "metadata": {},
     "output_type": "execute_result"
    }
   ],
   "source": [
    "D.get('Job','Nahi mil raha bhai')"
   ]
  },
  {
   "cell_type": "markdown",
   "id": "1b754de4",
   "metadata": {},
   "source": [
    "- Get Keys\n",
    "    - The keys() method will return a list of all the keys in the dictionary."
   ]
  },
  {
   "cell_type": "code",
   "execution_count": 75,
   "id": "f4679461",
   "metadata": {},
   "outputs": [
    {
     "data": {
      "text/plain": [
       "{'fname': 'Hitesh',\n",
       " 'lname': 'Vaghela',\n",
       " 'age': 24,\n",
       " 'spouse': None,\n",
       " 'pets': {'dog': 'jack', 'cat': 'meow'},\n",
       " 'brothers': ['vishvjit', 'Sachin']}"
      ]
     },
     "execution_count": 75,
     "metadata": {},
     "output_type": "execute_result"
    }
   ],
   "source": [
    "D = {'fname': 'Hitesh',\n",
    " 'lname': 'Vaghela',\n",
    " 'age': 24,\n",
    " 'spouse': None,\n",
    " 'pets': {'dog': 'jack', 'cat': 'meow'},\n",
    " 'brothers': ['vishvjit', 'Sachin']}\n",
    "D"
   ]
  },
  {
   "cell_type": "code",
   "execution_count": 76,
   "id": "077d0251",
   "metadata": {},
   "outputs": [
    {
     "data": {
      "text/plain": [
       "dict_keys(['fname', 'lname', 'age', 'spouse', 'pets', 'brothers'])"
      ]
     },
     "execution_count": 76,
     "metadata": {},
     "output_type": "execute_result"
    }
   ],
   "source": [
    "k = D.keys()\n",
    "k"
   ]
  },
  {
   "cell_type": "code",
   "execution_count": 78,
   "id": "044e9078",
   "metadata": {},
   "outputs": [
    {
     "data": {
      "text/plain": [
       "dict_keys(['fname', 'lname', 'age', 'spouse', 'pets', 'brothers', 'Job'])"
      ]
     },
     "execution_count": 78,
     "metadata": {},
     "output_type": "execute_result"
    }
   ],
   "source": [
    "D['Job'] = 'nahi mili'\n",
    "k"
   ]
  },
  {
   "cell_type": "markdown",
   "id": "4779ae98",
   "metadata": {},
   "source": [
    "- Get Values\n",
    "    - The values() method will return a list of all the values in the dictionary."
   ]
  },
  {
   "cell_type": "code",
   "execution_count": 79,
   "id": "f315b969",
   "metadata": {},
   "outputs": [
    {
     "data": {
      "text/plain": [
       "dict_values(['Hitesh', 'Vaghela', 24, None, {'dog': 'jack', 'cat': 'meow'}, ['vishvjit', 'Sachin'], 'nahi mili'])"
      ]
     },
     "execution_count": 79,
     "metadata": {},
     "output_type": "execute_result"
    }
   ],
   "source": [
    "v = D.values()\n",
    "v"
   ]
  },
  {
   "cell_type": "code",
   "execution_count": 80,
   "id": "5a2f5a0d",
   "metadata": {},
   "outputs": [
    {
     "data": {
      "text/plain": [
       "dict_values(['Hitesh', 'Vaghela', 24, None, {'dog': 'kutta', 'cat': 'meow'}, ['vishvjit', 'Sachin'], 'nahi mili', True])"
      ]
     },
     "execution_count": 80,
     "metadata": {},
     "output_type": "execute_result"
    }
   ],
   "source": [
    "D['pets']['dog'] = 'kutta'\n",
    "D['Graduate'] = True\n",
    "v"
   ]
  },
  {
   "cell_type": "markdown",
   "id": "9c750f64",
   "metadata": {},
   "source": [
    "- Get Items\n",
    "    - The items() method will return each item in a dictionary, as tuples in a list."
   ]
  },
  {
   "cell_type": "code",
   "execution_count": 84,
   "id": "54ffa106",
   "metadata": {},
   "outputs": [
    {
     "data": {
      "text/plain": [
       "dict_items([('fname', 'Hitesh'), ('lname', 'Vaghela'), ('age', 24), ('spouse', None), ('pets', {'dog': 'kutta', 'cat': 'meow'}), ('brothers', ['vishvjit', 'Sachin']), ('Job', 'nahi mili'), ('Graduate', False)])"
      ]
     },
     "execution_count": 84,
     "metadata": {},
     "output_type": "execute_result"
    }
   ],
   "source": [
    "i = D.items()\n",
    "i"
   ]
  },
  {
   "cell_type": "code",
   "execution_count": 85,
   "id": "03dd5672",
   "metadata": {},
   "outputs": [
    {
     "data": {
      "text/plain": [
       "dict_items([('fname', 'Hitesh'), ('lname', 'Vaghela'), ('age', 24), ('spouse', None), ('pets', {'dog': 'kutta', 'cat': 'meow'}), ('brothers', ['vishvjit', 'Sachin']), ('Job', 'nahi mili'), ('Graduate', False)])"
      ]
     },
     "execution_count": 85,
     "metadata": {},
     "output_type": "execute_result"
    }
   ],
   "source": [
    "D['Graduate'] = False\n",
    "i"
   ]
  },
  {
   "cell_type": "code",
   "execution_count": 97,
   "id": "68f8779e",
   "metadata": {},
   "outputs": [
    {
     "ename": "TypeError",
     "evalue": "'dict_items' object is not subscriptable",
     "output_type": "error",
     "traceback": [
      "\u001b[1;31m---------------------------------------------------------------------------\u001b[0m",
      "\u001b[1;31mTypeError\u001b[0m                                 Traceback (most recent call last)",
      "Cell \u001b[1;32mIn[97], line 1\u001b[0m\n\u001b[1;32m----> 1\u001b[0m \u001b[43mD\u001b[49m\u001b[38;5;241;43m.\u001b[39;49m\u001b[43mitems\u001b[49m\u001b[43m(\u001b[49m\u001b[43m)\u001b[49m\u001b[43m[\u001b[49m\u001b[38;5;241;43m0\u001b[39;49m\u001b[43m]\u001b[49m\n",
      "\u001b[1;31mTypeError\u001b[0m: 'dict_items' object is not subscriptable"
     ]
    }
   ],
   "source": [
    "D.items()[0]"
   ]
  },
  {
   "cell_type": "markdown",
   "id": "19453451",
   "metadata": {},
   "source": [
    "- keys(),values() and items() method of dictionary creates a dictionary object and it is not subscriptable means...\n",
    "    - object does not support indexing. so if we want to use indexing first we need to covert it into list."
   ]
  },
  {
   "cell_type": "code",
   "execution_count": 103,
   "id": "f346491d",
   "metadata": {},
   "outputs": [
    {
     "data": {
      "text/plain": [
       "('fname', 'Hitesh', ('fname', 'Hitesh'))"
      ]
     },
     "execution_count": 103,
     "metadata": {},
     "output_type": "execute_result"
    }
   ],
   "source": [
    "k = list(D.keys())\n",
    "v = list(D.values())\n",
    "i = list((D.items()))\n",
    "k[0], v[0] ,i[0]"
   ]
  },
  {
   "cell_type": "markdown",
   "id": "7ebdd892",
   "metadata": {},
   "source": [
    "- we can also ablr to modify the values of dictionary using its built-in update() method.\n",
    "- update() method will update the dictionary with the items from the given argument.\n",
    "- The argument for this method must be a dictionary, or an iterable object with key:value pairs."
   ]
  },
  {
   "cell_type": "code",
   "execution_count": 86,
   "id": "972b2e1f",
   "metadata": {},
   "outputs": [
    {
     "data": {
      "text/plain": [
       "{'fname': 'Hitesh',\n",
       " 'lname': 'Vaghela',\n",
       " 'age': 24,\n",
       " 'spouse': None,\n",
       " 'pets': {'dog': 'jack', 'cat': 'meow'},\n",
       " 'brothers': ['vishvjit', 'Sachin']}"
      ]
     },
     "execution_count": 86,
     "metadata": {},
     "output_type": "execute_result"
    }
   ],
   "source": [
    "D = {'fname': 'Hitesh',\n",
    " 'lname': 'Vaghela',\n",
    " 'age': 24,\n",
    " 'spouse': None,\n",
    " 'pets': {'dog': 'jack', 'cat': 'meow'},\n",
    " 'brothers': ['vishvjit', 'Sachin']}\n",
    "D"
   ]
  },
  {
   "cell_type": "code",
   "execution_count": 88,
   "id": "1dcce5dc",
   "metadata": {},
   "outputs": [
    {
     "data": {
      "text/plain": [
       "{'fname': 'Hitesh',\n",
       " 'lname': 'Vaghela',\n",
       " 'age': 50,\n",
       " 'spouse': None,\n",
       " 'pets': {'dog': 'jack', 'cat': 'meow'},\n",
       " 'brothers': ['vishvjit', 'Sachin']}"
      ]
     },
     "execution_count": 88,
     "metadata": {},
     "output_type": "execute_result"
    }
   ],
   "source": [
    "D.update({\"age\": 50})\n",
    "D"
   ]
  },
  {
   "cell_type": "code",
   "execution_count": 93,
   "id": "351af685",
   "metadata": {},
   "outputs": [
    {
     "data": {
      "text/plain": [
       "{'fname': 'Hitesh',\n",
       " 'lname': 'Vaghela',\n",
       " 'age': 25,\n",
       " 'spouse': 'Nahi bataunga',\n",
       " 'pets': {'dog': 'jack', 'cat': 'meow'},\n",
       " 'brothers': ['vishvjit', 'Sachin']}"
      ]
     },
     "execution_count": 93,
     "metadata": {},
     "output_type": "execute_result"
    }
   ],
   "source": [
    "D.update([(\"age\", 25),('spouse','Nahi bataunga')])\n",
    "D"
   ]
  },
  {
   "cell_type": "code",
   "execution_count": 94,
   "id": "1f520f38",
   "metadata": {},
   "outputs": [
    {
     "data": {
      "text/plain": [
       "{'fname': 'Hitesh',\n",
       " 'lname': 'Vaghela',\n",
       " 'age': 24,\n",
       " 'spouse': None,\n",
       " 'pets': {'dog': 'jack', 'cat': 'meow'},\n",
       " 'brothers': ['vishvjit', 'Sachin']}"
      ]
     },
     "execution_count": 94,
     "metadata": {},
     "output_type": "execute_result"
    }
   ],
   "source": [
    "D.update(age = 24 , spouse = None )\n",
    "D"
   ]
  },
  {
   "cell_type": "markdown",
   "id": "c8abe3e0",
   "metadata": {},
   "source": [
    "- If the item does not exist in dictionary... The update() method will add that item to the dictionary."
   ]
  },
  {
   "cell_type": "code",
   "execution_count": 96,
   "id": "a55f8571",
   "metadata": {},
   "outputs": [
    {
     "data": {
      "text/plain": [
       "{'fname': 'Hitesh',\n",
       " 'lname': 'Vaghela',\n",
       " 'age': 24,\n",
       " 'spouse': None,\n",
       " 'pets': {'dog': 'jack', 'cat': 'meow'},\n",
       " 'brothers': ['vishvjit', 'Sachin'],\n",
       " 'Job': 'Data Scientist'}"
      ]
     },
     "execution_count": 96,
     "metadata": {},
     "output_type": "execute_result"
    }
   ],
   "source": [
    "D.update(Job = \"Data Scientist\")\n",
    "D"
   ]
  },
  {
   "cell_type": "markdown",
   "id": "88633e8e",
   "metadata": {},
   "source": [
    "- The setdefault() method returns the value of the item with the specified key. If the key does not exist, insert the key, with the specified value.\n",
    "- *Syntax*\n",
    "    - dictionary.setdefault(keyname, value)\n",
    "- Get the value of the \"keyname\" item, if the \"keyname\" item does not exist, insert \"keyname\" with the value \"value\".\n",
    "- it is a kind of combination of update() and get() method."
   ]
  },
  {
   "cell_type": "code",
   "execution_count": 138,
   "id": "faa75f2e",
   "metadata": {},
   "outputs": [
    {
     "data": {
      "text/plain": [
       "'Mustang'"
      ]
     },
     "execution_count": 138,
     "metadata": {},
     "output_type": "execute_result"
    }
   ],
   "source": [
    "car = {\n",
    "  \"brand\": \"Ford\",\n",
    "  \"model\": \"Mustang\",\n",
    "  \"year\": 1964\n",
    "}\n",
    "x = car.setdefault(\"model\", \"Bronco\")\n",
    "x"
   ]
  },
  {
   "cell_type": "markdown",
   "id": "00a06129",
   "metadata": {},
   "source": [
    "- here, key 'model' already exists so setdefault returns a value of that key but if it doesn't exists it add the key 'model' with value 'bronco'"
   ]
  },
  {
   "cell_type": "code",
   "execution_count": 139,
   "id": "5cd9620f",
   "metadata": {},
   "outputs": [
    {
     "data": {
      "text/plain": [
       "'white'"
      ]
     },
     "execution_count": 139,
     "metadata": {},
     "output_type": "execute_result"
    }
   ],
   "source": [
    "car = {\n",
    "  \"brand\": \"Ford\",\n",
    "  \"model\": \"Mustang\",\n",
    "  \"year\": 1964\n",
    "}\n",
    "x = car.setdefault(\"color\", \"white\")\n",
    "x"
   ]
  },
  {
   "cell_type": "code",
   "execution_count": 140,
   "id": "619b846f",
   "metadata": {},
   "outputs": [
    {
     "data": {
      "text/plain": [
       "{'brand': 'Ford', 'model': 'Mustang', 'year': 1964, 'color': 'white'}"
      ]
     },
     "execution_count": 140,
     "metadata": {},
     "output_type": "execute_result"
    }
   ],
   "source": [
    "car"
   ]
  },
  {
   "cell_type": "markdown",
   "id": "c8aba1b5",
   "metadata": {},
   "source": [
    "<h2 style='color:blue' > Dictionaty Item Removing"
   ]
  },
  {
   "cell_type": "markdown",
   "id": "200c77ec",
   "metadata": {},
   "source": [
    "- del keyword removes the item with the specified key name"
   ]
  },
  {
   "cell_type": "code",
   "execution_count": 116,
   "id": "370156c4",
   "metadata": {},
   "outputs": [
    {
     "data": {
      "text/plain": [
       "{'brand': 'Ford', 'year': 1964, 'Buy': None}"
      ]
     },
     "execution_count": 116,
     "metadata": {},
     "output_type": "execute_result"
    }
   ],
   "source": [
    "thisdict = {\n",
    "  \"brand\": \"Ford\",\n",
    "  \"model\": \"Mustang\",\n",
    "  \"year\": 1964,\n",
    "    'Buy': None\n",
    "}\n",
    "del thisdict[\"model\"]\n",
    "thisdict"
   ]
  },
  {
   "cell_type": "code",
   "execution_count": 117,
   "id": "a81b0484",
   "metadata": {},
   "outputs": [
    {
     "data": {
      "text/plain": [
       "{'brand': 'Ford', 'year': 1964}"
      ]
     },
     "execution_count": 117,
     "metadata": {},
     "output_type": "execute_result"
    }
   ],
   "source": [
    "del thisdict[\"Buy\"]\n",
    "thisdict"
   ]
  },
  {
   "cell_type": "code",
   "execution_count": 118,
   "id": "26a03eb1",
   "metadata": {},
   "outputs": [
    {
     "ename": "KeyError",
     "evalue": "'Yes'",
     "output_type": "error",
     "traceback": [
      "\u001b[1;31m---------------------------------------------------------------------------\u001b[0m",
      "\u001b[1;31mKeyError\u001b[0m                                  Traceback (most recent call last)",
      "Cell \u001b[1;32mIn[118], line 1\u001b[0m\n\u001b[1;32m----> 1\u001b[0m \u001b[38;5;28;01mdel\u001b[39;00m thisdict[\u001b[38;5;124m\"\u001b[39m\u001b[38;5;124mYes\u001b[39m\u001b[38;5;124m\"\u001b[39m] \u001b[38;5;66;03m# if we try to remove a keey tat does'ty exits in the dictionary it raises an error.\u001b[39;00m\n",
      "\u001b[1;31mKeyError\u001b[0m: 'Yes'"
     ]
    }
   ],
   "source": [
    "del thisdict[\"Yes\"] # if we try to remove a keey tat does'ty exits in the dictionary it raises an error."
   ]
  },
  {
   "cell_type": "code",
   "execution_count": 119,
   "id": "5ebff8f9",
   "metadata": {},
   "outputs": [
    {
     "ename": "NameError",
     "evalue": "name 'thisdict' is not defined",
     "output_type": "error",
     "traceback": [
      "\u001b[1;31m---------------------------------------------------------------------------\u001b[0m",
      "\u001b[1;31mNameError\u001b[0m                                 Traceback (most recent call last)",
      "Cell \u001b[1;32mIn[119], line 2\u001b[0m\n\u001b[0;32m      1\u001b[0m \u001b[38;5;28;01mdel\u001b[39;00m thisdict\n\u001b[1;32m----> 2\u001b[0m \u001b[43mthisdict\u001b[49m\n",
      "\u001b[1;31mNameError\u001b[0m: name 'thisdict' is not defined"
     ]
    }
   ],
   "source": [
    "# when we want to delete the whole dictionary using del keyword it delete with  complete reference and \n",
    "# that object is no longer exists\n",
    "del thisdict\n",
    "thisdict"
   ]
  },
  {
   "cell_type": "markdown",
   "id": "f731818d",
   "metadata": {},
   "source": [
    "- when we want to delete the whole dictionary using clear() method empties the dictionary, but dictionary object still exists only its items are removed. "
   ]
  },
  {
   "cell_type": "code",
   "execution_count": 120,
   "id": "7a849ba4",
   "metadata": {},
   "outputs": [
    {
     "data": {
      "text/plain": [
       "{}"
      ]
     },
     "execution_count": 120,
     "metadata": {},
     "output_type": "execute_result"
    }
   ],
   "source": [
    "D = {\n",
    "  \"brand\": \"Ford\",\n",
    "  \"model\": \"Mustang\",\n",
    "  \"year\": 1964,\n",
    "    'Buy': None\n",
    "}\n",
    "D.clear()\n",
    "D"
   ]
  },
  {
   "cell_type": "markdown",
   "id": "feb3e7cb",
   "metadata": {},
   "source": [
    "- The pop() method removes the item with the specified key name."
   ]
  },
  {
   "cell_type": "code",
   "execution_count": 122,
   "id": "4c76902a",
   "metadata": {},
   "outputs": [
    {
     "name": "stdout",
     "output_type": "stream",
     "text": [
      "{'brand': 'Ford', 'year': 1964}\n"
     ]
    }
   ],
   "source": [
    "thisdict = {\n",
    "  \"brand\": \"Ford\",\n",
    "  \"model\": \"Mustang\",\n",
    "  \"year\": 1964\n",
    "}\n",
    "thisdict.pop(\"model\")\n",
    "print(thisdict)"
   ]
  },
  {
   "cell_type": "code",
   "execution_count": 123,
   "id": "60e937f6",
   "metadata": {},
   "outputs": [
    {
     "ename": "TypeError",
     "evalue": "unhashable type: 'list'",
     "output_type": "error",
     "traceback": [
      "\u001b[1;31m---------------------------------------------------------------------------\u001b[0m",
      "\u001b[1;31mTypeError\u001b[0m                                 Traceback (most recent call last)",
      "Cell \u001b[1;32mIn[123], line 7\u001b[0m\n\u001b[0;32m      1\u001b[0m \u001b[38;5;66;03m# in pop method if try to remove multiple itemss at a time it will rasie an error\u001b[39;00m\n\u001b[0;32m      2\u001b[0m thisdict \u001b[38;5;241m=\u001b[39m {\n\u001b[0;32m      3\u001b[0m   \u001b[38;5;124m\"\u001b[39m\u001b[38;5;124mbrand\u001b[39m\u001b[38;5;124m\"\u001b[39m: \u001b[38;5;124m\"\u001b[39m\u001b[38;5;124mFord\u001b[39m\u001b[38;5;124m\"\u001b[39m,\n\u001b[0;32m      4\u001b[0m   \u001b[38;5;124m\"\u001b[39m\u001b[38;5;124mmodel\u001b[39m\u001b[38;5;124m\"\u001b[39m: \u001b[38;5;124m\"\u001b[39m\u001b[38;5;124mMustang\u001b[39m\u001b[38;5;124m\"\u001b[39m,\n\u001b[0;32m      5\u001b[0m   \u001b[38;5;124m\"\u001b[39m\u001b[38;5;124myear\u001b[39m\u001b[38;5;124m\"\u001b[39m: \u001b[38;5;241m1964\u001b[39m\n\u001b[0;32m      6\u001b[0m }\n\u001b[1;32m----> 7\u001b[0m \u001b[43mthisdict\u001b[49m\u001b[38;5;241;43m.\u001b[39;49m\u001b[43mpop\u001b[49m\u001b[43m(\u001b[49m\u001b[43m[\u001b[49m\u001b[38;5;124;43m\"\u001b[39;49m\u001b[38;5;124;43mmodel\u001b[39;49m\u001b[38;5;124;43m\"\u001b[39;49m\u001b[43m,\u001b[49m\u001b[38;5;124;43m\"\u001b[39;49m\u001b[38;5;124;43myear\u001b[39;49m\u001b[38;5;124;43m\"\u001b[39;49m\u001b[43m]\u001b[49m\u001b[43m)\u001b[49m\n\u001b[0;32m      8\u001b[0m \u001b[38;5;28mprint\u001b[39m(thisdict)\n",
      "\u001b[1;31mTypeError\u001b[0m: unhashable type: 'list'"
     ]
    }
   ],
   "source": [
    "# in pop method if try to remove multiple itemss at a time it will rasie an error\n",
    "thisdict = {\n",
    "  \"brand\": \"Ford\",\n",
    "  \"model\": \"Mustang\",\n",
    "  \"year\": 1964\n",
    "}\n",
    "thisdict.pop([\"model\",\"year\"])\n",
    "print(thisdict)"
   ]
  },
  {
   "cell_type": "markdown",
   "id": "67f364b5",
   "metadata": {},
   "source": [
    "- pop() raises a KeyError exception if key is not in dictionary."
   ]
  },
  {
   "cell_type": "code",
   "execution_count": 124,
   "id": "29b80f81",
   "metadata": {},
   "outputs": [
    {
     "ename": "KeyError",
     "evalue": "'modal'",
     "output_type": "error",
     "traceback": [
      "\u001b[1;31m---------------------------------------------------------------------------\u001b[0m",
      "\u001b[1;31mKeyError\u001b[0m                                  Traceback (most recent call last)",
      "Cell \u001b[1;32mIn[124], line 1\u001b[0m\n\u001b[1;32m----> 1\u001b[0m \u001b[43mthisdict\u001b[49m\u001b[38;5;241;43m.\u001b[39;49m\u001b[43mpop\u001b[49m\u001b[43m(\u001b[49m\u001b[38;5;124;43m\"\u001b[39;49m\u001b[38;5;124;43mmodal\u001b[39;49m\u001b[38;5;124;43m\"\u001b[39;49m\u001b[43m)\u001b[49m\n",
      "\u001b[1;31mKeyError\u001b[0m: 'modal'"
     ]
    }
   ],
   "source": [
    "thisdict.pop(\"modal\")"
   ]
  },
  {
   "cell_type": "markdown",
   "id": "0f8261e0",
   "metadata": {},
   "source": [
    "- If key is not in dictionary , and the optional `default` argument is specified, then that value is returned, and no exception is raised."
   ]
  },
  {
   "cell_type": "code",
   "execution_count": 128,
   "id": "917c4e89",
   "metadata": {},
   "outputs": [
    {
     "data": {
      "text/plain": [
       "-1"
      ]
     },
     "execution_count": 128,
     "metadata": {},
     "output_type": "execute_result"
    }
   ],
   "source": [
    "d = {'a': 10, 'b': 20, 'c': 30}\n",
    "d.pop('z', -1)"
   ]
  },
  {
   "cell_type": "code",
   "execution_count": 130,
   "id": "be5a7191",
   "metadata": {},
   "outputs": [
    {
     "data": {
      "text/plain": [
       "'Not Present'"
      ]
     },
     "execution_count": 130,
     "metadata": {},
     "output_type": "execute_result"
    }
   ],
   "source": [
    "d = {'a': 10, 'b': 20, 'c': 30}\n",
    "d.pop('z', \"Not Present\")"
   ]
  },
  {
   "cell_type": "markdown",
   "id": "2836e222",
   "metadata": {},
   "source": [
    "- The popitem() method removes the last inserted item after version 3.7 and returns it as a tuple.\n",
    "- in versions before 3.7 popitem() method removes a random item instead last inserted item.\n",
    "- If dictionary is empty, d.popitem() raises a KeyError exception"
   ]
  },
  {
   "cell_type": "code",
   "execution_count": 132,
   "id": "6d82dcbc",
   "metadata": {},
   "outputs": [
    {
     "data": {
      "text/plain": [
       "('year', 1964)"
      ]
     },
     "execution_count": 132,
     "metadata": {},
     "output_type": "execute_result"
    }
   ],
   "source": [
    "thisdict = {\n",
    "  \"brand\": \"Ford\",\n",
    "  \"model\": \"Mustang\",\n",
    "  \"year\": 1964\n",
    "}\n",
    "thisdict.popitem()"
   ]
  },
  {
   "cell_type": "code",
   "execution_count": 133,
   "id": "b614aed7",
   "metadata": {},
   "outputs": [
    {
     "data": {
      "text/plain": [
       "{'brand': 'Ford', 'model': 'Mustang'}"
      ]
     },
     "execution_count": 133,
     "metadata": {},
     "output_type": "execute_result"
    }
   ],
   "source": [
    "thisdict"
   ]
  },
  {
   "cell_type": "code",
   "execution_count": 134,
   "id": "c83ee182",
   "metadata": {},
   "outputs": [
    {
     "ename": "KeyError",
     "evalue": "'popitem(): dictionary is empty'",
     "output_type": "error",
     "traceback": [
      "\u001b[1;31m---------------------------------------------------------------------------\u001b[0m",
      "\u001b[1;31mKeyError\u001b[0m                                  Traceback (most recent call last)",
      "Cell \u001b[1;32mIn[134], line 2\u001b[0m\n\u001b[0;32m      1\u001b[0m d \u001b[38;5;241m=\u001b[39m {}\n\u001b[1;32m----> 2\u001b[0m \u001b[43md\u001b[49m\u001b[38;5;241;43m.\u001b[39;49m\u001b[43mpopitem\u001b[49m\u001b[43m(\u001b[49m\u001b[43m)\u001b[49m\n",
      "\u001b[1;31mKeyError\u001b[0m: 'popitem(): dictionary is empty'"
     ]
    }
   ],
   "source": [
    "d = {}\n",
    "d.popitem()"
   ]
  },
  {
   "cell_type": "markdown",
   "id": "ca399c11",
   "metadata": {},
   "source": [
    "<h2 style='color:blue' > Copy a Dictionary"
   ]
  },
  {
   "cell_type": "markdown",
   "id": "f744916d",
   "metadata": {},
   "source": [
    "- we cannot copy a dictionary simply by typing dict2 = dict1, because: dict2 will only be a reference to dict1, and changes made in dict1 will automatically also be made in dict2.\n",
    "- There are ways to make a copy, one way is to use the built-in Dictionary method copy()."
   ]
  },
  {
   "cell_type": "code",
   "execution_count": 135,
   "id": "bca6004e",
   "metadata": {},
   "outputs": [
    {
     "name": "stdout",
     "output_type": "stream",
     "text": [
      "{'brand': 'Ford', 'model': 'Mustang', 'year': 1964}\n"
     ]
    }
   ],
   "source": [
    "thisdict = {\n",
    "  \"brand\": \"Ford\",\n",
    "  \"model\": \"Mustang\",\n",
    "  \"year\": 1964\n",
    "}\n",
    "mydict = thisdict.copy()\n",
    "print(mydict)"
   ]
  },
  {
   "cell_type": "markdown",
   "id": "7b332919",
   "metadata": {},
   "source": [
    "- Another way to make a copy is to use the built-in function dict()."
   ]
  },
  {
   "cell_type": "code",
   "execution_count": 136,
   "id": "8005154c",
   "metadata": {},
   "outputs": [
    {
     "name": "stdout",
     "output_type": "stream",
     "text": [
      "{'brand': 'Ford', 'model': 'Mustang', 'year': 1964}\n"
     ]
    }
   ],
   "source": [
    "mydict = dict(thisdict)\n",
    "print(mydict)"
   ]
  },
  {
   "cell_type": "markdown",
   "id": "8b2f0547",
   "metadata": {},
   "source": [
    "<h2 style='color:blue' > Membership test"
   ]
  },
  {
   "cell_type": "markdown",
   "id": "8eda0ce9",
   "metadata": {},
   "source": [
    "- Membership test can be very helpful to check if a key already exists in a dictionary.\n",
    "- dictionary is unordered so we can't able to iterate dictionary using range function or using counters in while loop.\n",
    "- we can only able to iterate dictionary using `in` operation.\n",
    "- when we iterate dictionary using loop The `in` operator checks the keys, not the values.\n",
    "- 💡 Tip: we can use the in operator to check if a value is in a dictionary with dict.values()."
   ]
  },
  {
   "cell_type": "code",
   "execution_count": 142,
   "id": "40b5d3e6",
   "metadata": {},
   "outputs": [
    {
     "data": {
      "text/plain": [
       "True"
      ]
     },
     "execution_count": 142,
     "metadata": {},
     "output_type": "execute_result"
    }
   ],
   "source": [
    "ages = {\"Gino\": 15, \"Nora\": 30, \"Talina\": 45}\n",
    "\"Talina\" in ages"
   ]
  },
  {
   "cell_type": "code",
   "execution_count": 143,
   "id": "e9838cc0",
   "metadata": {},
   "outputs": [
    {
     "data": {
      "text/plain": [
       "False"
      ]
     },
     "execution_count": 143,
     "metadata": {},
     "output_type": "execute_result"
    }
   ],
   "source": [
    "\"Lulu\" in ages"
   ]
  },
  {
   "cell_type": "code",
   "execution_count": 144,
   "id": "d6061a73",
   "metadata": {},
   "outputs": [
    {
     "data": {
      "text/plain": [
       "True"
      ]
     },
     "execution_count": 144,
     "metadata": {},
     "output_type": "execute_result"
    }
   ],
   "source": [
    "ages = {\"Gino\": 15, \"Nora\": 30, \"Talina\": 45}\n",
    "30 in ages.values()"
   ]
  },
  {
   "cell_type": "code",
   "execution_count": 145,
   "id": "03bcc24a",
   "metadata": {},
   "outputs": [
    {
     "data": {
      "text/plain": [
       "False"
      ]
     },
     "execution_count": 145,
     "metadata": {},
     "output_type": "execute_result"
    }
   ],
   "source": [
    "10 in ages.values()"
   ]
  },
  {
   "cell_type": "markdown",
   "id": "f02518c7",
   "metadata": {},
   "source": [
    "<h2 style='color:blue' > Iterate over Dictionary"
   ]
  },
  {
   "cell_type": "markdown",
   "id": "c8d3b937",
   "metadata": {},
   "source": [
    "1. Iterate over the Keys\n",
    "    - We can iterate over the keys of a dictionary like this:"
   ]
  },
  {
   "cell_type": "code",
   "execution_count": 146,
   "id": "31caac85",
   "metadata": {},
   "outputs": [
    {
     "name": "stdout",
     "output_type": "stream",
     "text": [
      "Gino\n",
      "Nora\n",
      "Talina\n"
     ]
    }
   ],
   "source": [
    "ages = {\"Gino\": 15, \"Nora\": 30, \"Talina\": 45}\n",
    "for student in ages:\n",
    "    print(student)"
   ]
  },
  {
   "cell_type": "code",
   "execution_count": 167,
   "id": "8811dd5c",
   "metadata": {},
   "outputs": [
    {
     "name": "stdout",
     "output_type": "stream",
     "text": [
      "Key = Gino and Value = 15\n",
      "Key = Nora and Value = 30\n",
      "Key = Talina and Value = 45\n"
     ]
    }
   ],
   "source": [
    "for key in ages:\n",
    "    print(f'Key = {key} and Value = {ages[key]}')"
   ]
  },
  {
   "cell_type": "markdown",
   "id": "52abcda2",
   "metadata": {},
   "source": [
    "2. Iterate over the Values\n",
    "    - You can iterate over the values of a dictionary using the .values() method."
   ]
  },
  {
   "cell_type": "code",
   "execution_count": 148,
   "id": "2c42910f",
   "metadata": {},
   "outputs": [
    {
     "name": "stdout",
     "output_type": "stream",
     "text": [
      "15\n",
      "30\n",
      "45\n"
     ]
    }
   ],
   "source": [
    "ages = {\"Gino\": 15, \"Nora\": 30, \"Talina\": 45}\n",
    "for age in ages.values():\n",
    "    print(age)"
   ]
  },
  {
   "cell_type": "code",
   "execution_count": 169,
   "id": "c1d842c0",
   "metadata": {},
   "outputs": [
    {
     "name": "stdout",
     "output_type": "stream",
     "text": [
      "Key = Gino and Value = 15\n",
      "Key = Nora and Value = 30\n",
      "Key = Talina and Value = 45\n"
     ]
    }
   ],
   "source": [
    "for Value in ages.values():\n",
    "    for key in ages:\n",
    "        if ages[key] == Value:\n",
    "            print(f'Key = {key} and Value = {Value}')"
   ]
  },
  {
   "cell_type": "markdown",
   "id": "5b751358",
   "metadata": {},
   "source": [
    "3. Iterate over the Key-Value Pairs\n",
    "    - using built-in method .items(), we will able to iterate over the key-value pairs as tuples of this format (key, value)."
   ]
  },
  {
   "cell_type": "code",
   "execution_count": 147,
   "id": "3505fe95",
   "metadata": {},
   "outputs": [
    {
     "name": "stdout",
     "output_type": "stream",
     "text": [
      "('Gino', 15)\n",
      "('Nora', 30)\n",
      "('Talina', 45)\n"
     ]
    }
   ],
   "source": [
    "ages = {\"Gino\": 15, \"Nora\": 30, \"Talina\": 45}\n",
    "for pair in ages.items():\n",
    "    print(pair)"
   ]
  },
  {
   "cell_type": "code",
   "execution_count": 149,
   "id": "ced71b20",
   "metadata": {},
   "outputs": [
    {
     "name": "stdout",
     "output_type": "stream",
     "text": [
      "Key: Gino ; Value: 15\n",
      "Key: Nora ; Value: 30\n",
      "Key: Talina ; Value: 45\n"
     ]
    }
   ],
   "source": [
    "ages = {\"Gino\": 15, \"Nora\": 30, \"Talina\": 45}\n",
    "for key, value in ages.items():\n",
    "    print(\"Key:\", key, \"; Value:\", value)"
   ]
  },
  {
   "cell_type": "markdown",
   "id": "8a8208f5",
   "metadata": {},
   "source": [
    "<h2 style='color:blue' >  Dictionary Length </h2>\n",
    "    \n",
    "- We can get the size of a dictionary by using the len() function.\n",
    "- it returns the number of items stored (count of total key:value pairs) in the dictionary or the length of its keys list."
   ]
  },
  {
   "cell_type": "code",
   "execution_count": 150,
   "id": "447ff177",
   "metadata": {},
   "outputs": [
    {
     "name": "stdout",
     "output_type": "stream",
     "text": [
      "3\n"
     ]
    }
   ],
   "source": [
    "country_capitals = {\n",
    "  \"United States\": \"Washington D.C.\", \n",
    "  \"Italy\": \"Rome\", \n",
    "  \"England\": \"London\"\n",
    "}\n",
    "print(len(country_capitals)) "
   ]
  },
  {
   "cell_type": "markdown",
   "id": "89a1c728",
   "metadata": {},
   "source": [
    "<h2 style='color:blue' > Dictionary Sorting"
   ]
  },
  {
   "cell_type": "markdown",
   "id": "16088661",
   "metadata": {},
   "source": [
    "- The sorted() method sorts iterable data such as lists, tuples, and dictionaries. But in dictionary it sorts key only.\n",
    "- The sorted() method puts the sorted items in a list. That’s problem we have to solve, because we want the sorted dictionary to remain a dictionary.\n",
    "- If we use the sorted() method with a dictionary, only the keys will be returned and as usual, it will be in a list."
   ]
  },
  {
   "cell_type": "code",
   "execution_count": 175,
   "id": "0d390bf8",
   "metadata": {},
   "outputs": [
    {
     "data": {
      "text/plain": [
       "['num1', 'num2', 'num3', 'num4', 'num5', 'num6']"
      ]
     },
     "execution_count": 175,
     "metadata": {},
     "output_type": "execute_result"
    }
   ],
   "source": [
    "my_dict = { 'num6': 6, 'num3': 3, 'num2': 2, 'num4': 4, 'num1': 1, 'num5': 5}\n",
    "sortedDict = sorted(my_dict)\n",
    "sortedDict"
   ]
  },
  {
   "cell_type": "markdown",
   "id": "66047dcd",
   "metadata": {},
   "source": [
    "- To correctly sort a dictionary by value with the sorted() method we will have to do the following...\n",
    "    1. pass the dictionary to the sorted() method as the first value\n",
    "    2. use the items() method on the dictionary to retrieve its keys and values\n",
    "    3. write a lambda function to sort dictionary by its value."
   ]
  },
  {
   "cell_type": "code",
   "execution_count": 176,
   "id": "c9912964",
   "metadata": {},
   "outputs": [
    {
     "name": "stdout",
     "output_type": "stream",
     "text": [
      "{190280107020: ('ravi', 7.4), 190280107127: ('yagnik', 7.6), 190280107153: ('hitesh', 8.3), 190280107155: ('vishvjit', 7.2)}\n"
     ]
    },
    {
     "data": {
      "text/plain": [
       "{190280107020: ('ravi', 7.4),\n",
       " 190280107127: ('yagnik', 7.6),\n",
       " 190280107153: ('hitesh', 8.3),\n",
       " 190280107155: ('vishvjit', 7.2)}"
      ]
     },
     "execution_count": 176,
     "metadata": {},
     "output_type": "execute_result"
    }
   ],
   "source": [
    "A = {\n",
    "    190280107153 : (\"hitesh\" , 8.3),\n",
    "    190280107155 : (\"vishvjit\" , 7.2),\n",
    "    190280107127 : (\"yagnik\" , 7.6),\n",
    "    190280107020 : (\"ravi\" , 7.4)\n",
    "}\n",
    "print(dict(sorted(A.items()))) # using constructor\n",
    "{k:v for (k,v) in sorted(A.items())} # comprehension"
   ]
  },
  {
   "cell_type": "code",
   "execution_count": 177,
   "id": "cd0d57be",
   "metadata": {},
   "outputs": [
    {
     "data": {
      "text/plain": [
       "{190280107155: ('vishvjit', 7.2),\n",
       " 190280107153: ('hitesh', 8.3),\n",
       " 190280107127: ('yagnik', 7.6),\n",
       " 190280107020: ('ravi', 7.4)}"
      ]
     },
     "execution_count": 177,
     "metadata": {},
     "output_type": "execute_result"
    }
   ],
   "source": [
    "{k:v for (k,v) in sorted(A.items(), reverse=True)}"
   ]
  },
  {
   "cell_type": "code",
   "execution_count": 178,
   "id": "2a529449",
   "metadata": {},
   "outputs": [
    {
     "data": {
      "text/plain": [
       "{190280107153: ('hitesh', 8.3),\n",
       " 190280107020: ('ravi', 7.4),\n",
       " 190280107155: ('vishvjit', 7.2),\n",
       " 190280107127: ('yagnik', 7.6)}"
      ]
     },
     "execution_count": 178,
     "metadata": {},
     "output_type": "execute_result"
    }
   ],
   "source": [
    "# Sort the dictionary by Name value in ascending order\n",
    "{k:v for (k,v) in sorted(A.items() ,key= lambda v : v[1])} # it is similar to lambda v : v[1][0]"
   ]
  },
  {
   "cell_type": "markdown",
   "id": "c9971b0e",
   "metadata": {},
   "source": [
    "- here...the sorted function is used with the key parameter set to a lambda function that extracts the values (item[1]) of each key-value pair. The resulting sorted_dict will be a dictionary with keys sorted based on their corresponding values in ascending order."
   ]
  },
  {
   "cell_type": "code",
   "execution_count": 181,
   "id": "fb2559b4",
   "metadata": {},
   "outputs": [
    {
     "data": {
      "text/plain": [
       "{190280107155: ('vishvjit', 7.2),\n",
       " 190280107020: ('ravi', 7.4),\n",
       " 190280107127: ('yagnik', 7.6),\n",
       " 190280107153: ('hitesh', 8.3)}"
      ]
     },
     "execution_count": 181,
     "metadata": {},
     "output_type": "execute_result"
    }
   ],
   "source": [
    "# sorting by SPI value\n",
    "{k:v for (k,v) in sorted(A.items() ,key= lambda v : v[1][1])}"
   ]
  },
  {
   "cell_type": "markdown",
   "id": "f128911c",
   "metadata": {},
   "source": [
    "- the key argument of the sorted function is set to a lambda function. The lambda function takes an item (a key-value pair) and returns the third element of the associated list (item[1][1]). This will sort the dictionary based on the second element of each list."
   ]
  },
  {
   "cell_type": "markdown",
   "id": "e61dcaf0",
   "metadata": {},
   "source": [
    "<h2 style='color:blue' > Dictionary Comprehension"
   ]
  },
  {
   "cell_type": "code",
   "execution_count": 152,
   "id": "8350c026",
   "metadata": {},
   "outputs": [
    {
     "data": {
      "text/plain": [
       "{'name': 'Bob', 'age': 40}"
      ]
     },
     "execution_count": 152,
     "metadata": {},
     "output_type": "execute_result"
    }
   ],
   "source": [
    "D = {k: v for (k, v) in zip(['name', 'age'], ['Bob', 40])} #same as D = dict(zip(['name', 'age'], ['Bob', 40]))\n",
    "D"
   ]
  },
  {
   "cell_type": "code",
   "execution_count": 153,
   "id": "bca03bec",
   "metadata": {},
   "outputs": [
    {
     "data": {
      "text/plain": [
       "{1: 1, 2: 4, 3: 9, 4: 16}"
      ]
     },
     "execution_count": 153,
     "metadata": {},
     "output_type": "execute_result"
    }
   ],
   "source": [
    "D = {x: x ** 2 for x in [1, 2, 3, 4]} # Or: range(1, 5)\n",
    "D"
   ]
  },
  {
   "cell_type": "code",
   "execution_count": 154,
   "id": "af1ec5fc",
   "metadata": {},
   "outputs": [
    {
     "data": {
      "text/plain": [
       "{'S': 'SSSS', 'P': 'PPPP', 'A': 'AAAA', 'M': 'MMMM'}"
      ]
     },
     "execution_count": 154,
     "metadata": {},
     "output_type": "execute_result"
    }
   ],
   "source": [
    "D = {c: c * 4 for c in 'SPAM'} # Loop over any iterable\n",
    "D"
   ]
  },
  {
   "cell_type": "code",
   "execution_count": 155,
   "id": "ea448999",
   "metadata": {},
   "outputs": [
    {
     "data": {
      "text/plain": [
       "{'spam': 'SPAM!', 'eggs': 'EGGS!', 'ham': 'HAM!'}"
      ]
     },
     "execution_count": 155,
     "metadata": {},
     "output_type": "execute_result"
    }
   ],
   "source": [
    "D = {c.lower(): c + '!' for c in ['SPAM', 'EGGS', 'HAM']}\n",
    "D"
   ]
  },
  {
   "cell_type": "markdown",
   "id": "f356d3ac",
   "metadata": {},
   "source": [
    "- Dictionary comprehensions are also useful for initializing dictionaries from keys lists, in much the same way as the fromkeys  method we met at the end of the preceding section."
   ]
  },
  {
   "cell_type": "code",
   "execution_count": 151,
   "id": "b3713843",
   "metadata": {},
   "outputs": [
    {
     "name": "stdout",
     "output_type": "stream",
     "text": [
      "{'a': 0, 'b': 0, 'c': 0}\n"
     ]
    },
    {
     "data": {
      "text/plain": [
       "{'a': 0, 'b': 0, 'c': 0}"
      ]
     },
     "execution_count": 151,
     "metadata": {},
     "output_type": "execute_result"
    }
   ],
   "source": [
    "D = dict.fromkeys(['a', 'b', 'c'], 0) # Initialize dict from keys\n",
    "print(D)\n",
    "D = {k:0 for k in ['a', 'b', 'c']} # Same, but with a comprehension\n",
    "D"
   ]
  },
  {
   "cell_type": "code",
   "execution_count": 156,
   "id": "3641c89c",
   "metadata": {},
   "outputs": [
    {
     "name": "stdout",
     "output_type": "stream",
     "text": [
      "{'s': None, 'p': None, 'a': None, 'm': None}\n"
     ]
    },
    {
     "data": {
      "text/plain": [
       "{'s': None, 'p': None, 'a': None, 'm': None}"
      ]
     },
     "execution_count": 156,
     "metadata": {},
     "output_type": "execute_result"
    }
   ],
   "source": [
    "D = dict.fromkeys('spam') # Other iterables, default value\n",
    "print(D)\n",
    "D = {k: None for k in 'spam'}\n",
    "D"
   ]
  },
  {
   "cell_type": "code",
   "execution_count": 164,
   "id": "a4d86a12",
   "metadata": {},
   "outputs": [
    {
     "data": {
      "text/plain": [
       "{'H': 1,\n",
       " 'i': 3,\n",
       " 't': 1,\n",
       " 'e': 3,\n",
       " 's': 2,\n",
       " 'h': 5,\n",
       " 'b': 2,\n",
       " 'a': 5,\n",
       " 'R': 1,\n",
       " 'm': 1,\n",
       " 'V': 1,\n",
       " 'g': 1,\n",
       " 'l': 1}"
      ]
     },
     "execution_count": 164,
     "metadata": {},
     "output_type": "execute_result"
    }
   ],
   "source": [
    "S = \"Hiteshbhai Rameshbhai Vaghela\".replace(' ','')\n",
    "D = { l:S.count(l) for l in S}\n",
    "D"
   ]
  },
  {
   "cell_type": "raw",
   "id": "895ce60c",
   "metadata": {},
   "source": [
    "Why might you use a dictionary instead of a list?\n",
    "    Dictionaries are generally better when the data is labeled (a record with field names,for example).lists are best suited to\n",
    "    collections of unlabeled items (such as all the files in a directory).Dictionary lookup is also usually quicker than \n",
    "    searching a list,though this might vary per program."
   ]
  }
 ],
 "metadata": {
  "kernelspec": {
   "display_name": "Python 3 (ipykernel)",
   "language": "python",
   "name": "python3"
  },
  "language_info": {
   "codemirror_mode": {
    "name": "ipython",
    "version": 3
   },
   "file_extension": ".py",
   "mimetype": "text/x-python",
   "name": "python",
   "nbconvert_exporter": "python",
   "pygments_lexer": "ipython3",
   "version": "3.10.6"
  }
 },
 "nbformat": 4,
 "nbformat_minor": 5
}
