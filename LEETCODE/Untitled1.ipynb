{
 "cells": [
  {
   "cell_type": "code",
   "execution_count": 10,
   "id": "9c4aea61",
   "metadata": {},
   "outputs": [],
   "source": [
    "A = 'Spam'\n",
    "B = 'Ok'\n",
    "C = ''\n",
    "def mergeAlternately(self, word1: str, word2: str) -> str:\n",
    "        new_str = ''\n",
    "        if len(word1) <= len(word2):\n",
    "            for i in range(len(word2)):\n",
    "                if i < len(word1): \n",
    "                    new_str = new_str + word1[i] + word2[i]\n",
    "                else:\n",
    "                    new_str = new_str + word2[i]\n",
    "            return new_str\n",
    "        else:\n",
    "            for i in range(len(word1)):\n",
    "                if i < len(word2): \n",
    "                    new_str = new_str + word1[i] + word2[i]\n",
    "                else:\n",
    "                    new_str = new_str + word1[i]\n",
    "            return new_str"
   ]
  },
  {
   "cell_type": "code",
   "execution_count": 26,
   "id": "4e7dc3e5",
   "metadata": {},
   "outputs": [
    {
     "data": {
      "text/plain": [
       "['SO', 'pk']"
      ]
     },
     "execution_count": 26,
     "metadata": {},
     "output_type": "execute_result"
    }
   ],
   "source": [
    "z = [''.join(list(i)) for i in list(zip(A,B))]\n",
    "z"
   ]
  },
  {
   "cell_type": "code",
   "execution_count": 40,
   "id": "c4ac2306",
   "metadata": {},
   "outputs": [
    {
     "name": "stdout",
     "output_type": "stream",
     "text": [
      "SOpk\n"
     ]
    },
    {
     "data": {
      "text/plain": [
       "'SOpkam'"
      ]
     },
     "execution_count": 40,
     "metadata": {},
     "output_type": "execute_result"
    }
   ],
   "source": [
    "A = 'Spam'\n",
    "B = 'Ok'\n",
    "C = ''\n",
    "\n",
    "new_str = [''.join(list(i)) for i in list(zip(A,B))]\n",
    "new_str = ''.join(new_str)  \n",
    "print(new_str)\n",
    "if len(A) <= len(B):\n",
    "    for i in range(len(B)):\n",
    "        if i > len(A): \n",
    "            new_str = new_str + B[i]           \n",
    "else:\n",
    "    for i in range(len(A)):\n",
    "        if i >= len(B): \n",
    "            new_str = new_str + A[i]\n",
    "new_str"
   ]
  },
  {
   "cell_type": "code",
   "execution_count": null,
   "id": "13b168ae",
   "metadata": {},
   "outputs": [],
   "source": [
    "Input: str1 = \"ABCABC\", str2 = \"ABC\"\n",
    "Output: \"ABC\"\n",
    "Example 2:"
   ]
  },
  {
   "cell_type": "code",
   "execution_count": 49,
   "id": "6cd0a959",
   "metadata": {},
   "outputs": [
    {
     "name": "stdout",
     "output_type": "stream",
     "text": [
      "ABC\n"
     ]
    }
   ],
   "source": [
    "str1 = \"ABCABC\"\n",
    "str2 = \"ABC\"\n",
    "if str1.count(str2) >= 1:\n",
    "    l = []\n",
    "    for i in range(len(str1)):\n",
    "        if str1[i] not in l:\n",
    "            l.append(str1[i])\n",
    "        else:\n",
    "            break\n",
    "    new_str = ''.join(l)\n",
    "    if str1.count(new_str) > 1:\n",
    "        if new_str in str2:\n",
    "            print(new_str)\n",
    "else:\n",
    "    print('')"
   ]
  },
  {
   "cell_type": "code",
   "execution_count": 67,
   "id": "cd90575d",
   "metadata": {},
   "outputs": [],
   "source": [
    "def longest_common_substring(s1, s2):\n",
    "    m = len(s1)\n",
    "    n = len(s2)\n",
    "    \n",
    "    dp = [[0] * (n + 1) for _ in range(m + 1)]\n",
    "\n",
    "\n",
    "    max_len = 0\n",
    "    end_index = 0\n",
    "\n",
    "    for i in range(1, m + 1):\n",
    "        for j in range(1, n + 1):\n",
    "            if s1[i - 1] == s2[j - 1]:\n",
    "                dp[i][j] = dp[i - 1][j - 1] + 1\n",
    "                if dp[i][j] > max_len:\n",
    "                    max_len = dp[i][j]\n",
    "                    end_index = i - 1\n",
    "            else:\n",
    "                dp[i][j] = 0\n",
    "\n",
    "    longest_substring = s1[end_index - max_len + 1 : end_index + 1]\n",
    "\n",
    "    return longest_substring"
   ]
  },
  {
   "cell_type": "code",
   "execution_count": 68,
   "id": "3eadb385",
   "metadata": {},
   "outputs": [
    {
     "name": "stdout",
     "output_type": "stream",
     "text": [
      "ABCC\n"
     ]
    }
   ],
   "source": [
    "s1 = \"ABCCABCC\"\n",
    "s2 = \"ABCC\"\n",
    "y = longest_common_substring(str1,str2)\n",
    "if str1.count(y) >= 1:\n",
    "    for i in str1:\n",
    "        if i not in y:\n",
    "            res = ''\n",
    "            break\n",
    "        else:\n",
    "            res = y\n",
    "print(res)"
   ]
  },
  {
   "cell_type": "code",
   "execution_count": 62,
   "id": "3505b4b5",
   "metadata": {},
   "outputs": [
    {
     "data": {
      "text/plain": [
       "'ABCCABCC'"
      ]
     },
     "execution_count": 62,
     "metadata": {},
     "output_type": "execute_result"
    }
   ],
   "source": [
    "max(str1,str2)"
   ]
  },
  {
   "cell_type": "code",
   "execution_count": 65,
   "id": "1db772c5",
   "metadata": {},
   "outputs": [],
   "source": [
    "\n",
    "def gcdOfStrings(s1: str, s2: str) -> str:\n",
    "    return \"\" if s1 + s2 != s2 + s1  else s1[:gcd(len(s1), len(s2))]"
   ]
  },
  {
   "cell_type": "code",
   "execution_count": 66,
   "id": "95189c5b",
   "metadata": {},
   "outputs": [
    {
     "ename": "NameError",
     "evalue": "name 'gcd' is not defined",
     "output_type": "error",
     "traceback": [
      "\u001b[1;31m---------------------------------------------------------------------------\u001b[0m",
      "\u001b[1;31mNameError\u001b[0m                                 Traceback (most recent call last)",
      "Cell \u001b[1;32mIn[66], line 1\u001b[0m\n\u001b[1;32m----> 1\u001b[0m \u001b[43mgcdOfStrings\u001b[49m\u001b[43m(\u001b[49m\u001b[43ms1\u001b[49m\u001b[43m,\u001b[49m\u001b[43ms2\u001b[49m\u001b[43m)\u001b[49m\n",
      "Cell \u001b[1;32mIn[65], line 4\u001b[0m, in \u001b[0;36mgcdOfStrings\u001b[1;34m(s1, s2)\u001b[0m\n\u001b[0;32m      3\u001b[0m \u001b[38;5;28;01mdef\u001b[39;00m \u001b[38;5;21mgcdOfStrings\u001b[39m(s1: \u001b[38;5;28mstr\u001b[39m, s2: \u001b[38;5;28mstr\u001b[39m) \u001b[38;5;241m-\u001b[39m\u001b[38;5;241m>\u001b[39m \u001b[38;5;28mstr\u001b[39m:\n\u001b[1;32m----> 4\u001b[0m     \u001b[38;5;28;01mreturn\u001b[39;00m \u001b[38;5;124m\"\u001b[39m\u001b[38;5;124m\"\u001b[39m \u001b[38;5;28;01mif\u001b[39;00m s1 \u001b[38;5;241m+\u001b[39m s2 \u001b[38;5;241m!=\u001b[39m s2 \u001b[38;5;241m+\u001b[39m s1  \u001b[38;5;28;01melse\u001b[39;00m s1[:\u001b[43mgcd\u001b[49m(\u001b[38;5;28mlen\u001b[39m(s1), \u001b[38;5;28mlen\u001b[39m(s2))]\n",
      "\u001b[1;31mNameError\u001b[0m: name 'gcd' is not defined"
     ]
    }
   ],
   "source": [
    "gcdOfStrings(s1,s2)"
   ]
  },
  {
   "cell_type": "code",
   "execution_count": null,
   "id": "09fac70c",
   "metadata": {},
   "outputs": [],
   "source": [
    "\n",
    "\n",
    "# Example usage\n",
    "s1 = \"ABCCABCC\"\n",
    "s2 = \"ABCC\"\n",
    "result = longest_common_substring(s1, s2)\n",
    "print(\"Longest Common Substring:\", result)\n"
   ]
  }
 ],
 "metadata": {
  "kernelspec": {
   "display_name": "Python 3 (ipykernel)",
   "language": "python",
   "name": "python3"
  },
  "language_info": {
   "codemirror_mode": {
    "name": "ipython",
    "version": 3
   },
   "file_extension": ".py",
   "mimetype": "text/x-python",
   "name": "python",
   "nbconvert_exporter": "python",
   "pygments_lexer": "ipython3",
   "version": "3.10.6"
  }
 },
 "nbformat": 4,
 "nbformat_minor": 5
}
